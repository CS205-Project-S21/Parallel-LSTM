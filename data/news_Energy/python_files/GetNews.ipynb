{
 "cells": [
  {
   "cell_type": "code",
   "execution_count": 4,
   "metadata": {},
   "outputs": [],
   "source": [
    "import datetime\n",
    "import re\n",
    "import requests\n",
    "import json\n",
    "import warnings\n",
    "\n",
    "import pandas as pd\n",
    "\n",
    "RAPID_API_KEY = '67f58679fcmsh1d5d86c70be0778p1320e2jsn414d9154fae0'\n",
    "NEWS_API_KEY = '7b294a567b694de5b23397387713d7f6' \n",
    "\n",
    "keyword = \"oil gas\"\n",
    "ticker = \"DVN\" \n",
    "\n",
    "date_formats = ['%Y-%m-%dT%H:%M:%S', '%Y-%m-%d %H:%M:%S', '%d/%m/%Y %H:%M:%S', '%Y-%m-%dT%H:%M:%SZ']\n",
    "output_file_name= \"../data/news/data/news_large1.csv\"\n",
    "\n",
    "# Data Structure for final output\n",
    "news = {'source': [], 'author': [], 'time': [], 'title': [],\n",
    "        'description': [], 'content': [], 'url': []}"
   ]
  },
  {
   "cell_type": "code",
   "execution_count": 2,
   "metadata": {},
   "outputs": [],
   "source": [
    "def addnews(startdate, enddate, news):\n",
    "    # 1. Contextual Web Search API, 100 Request per day, 50 articles every time\n",
    "    url1 = \"https://contextualwebsearch-websearch-v1.p.rapidapi.com/api/search/NewsSearchAPI\"\n",
    "    querystring1 = {\"q\":keyword,\"pageNumber\":\"1\",\"pageSize\":\"50\",\"autoCorrect\":\"true\",\"fromPublishedDate\":startdate,\n",
    "                   \"toPublishedDate\":enddate}\n",
    "    headers1 = {\n",
    "        'x-rapidapi-key': RAPID_API_KEY,\n",
    "        'x-rapidapi-host': \"contextualwebsearch-websearch-v1.p.rapidapi.com\"\n",
    "        }\n",
    "\n",
    "    response1 = requests.request(\"GET\", url1, headers=headers1, params=querystring1)\n",
    "\n",
    "    try: \n",
    "        body1 = json.loads(response1.text)\n",
    "        articles1 = body1[\"value\"]\n",
    "        n_articles = len(articles1)\n",
    "\n",
    "        for i, article in enumerate(articles1):\n",
    "            news['source'].append(article['provider']['name'])\n",
    "            news['author'].append(\"NotProvided\")\n",
    "            for date_format in date_formats:\n",
    "                try:\n",
    "                    news['time'].append(datetime.datetime.strptime(article['datePublished'], date_format))\n",
    "                    break\n",
    "                except:\n",
    "                    continue\n",
    "            news['title'].append(article['title'])\n",
    "            news['description'].append(re.sub(r'(\\r|\\n|<.*?>|…)+', ' ', article['description']).strip())\n",
    "            news['content'].append(re.sub(r'(\\r|\\n|<.*?>|… \\[\\+[0-9]+ chars])+', ' ', article['body']).strip())\n",
    "            news['url'].append(article['url'])\n",
    "    except:\n",
    "        warnings.warn(\"1. Fail to get news from Contextual Web Search API!\")\n",
    "\n",
    "\n",
    "    # 2. Newscatcher API, 25 Request per hour, only five articles every time\n",
    "    # doc: https://newscatcherapi.com/news-api\n",
    "    url21 = \"https://newscatcher.p.rapidapi.com/v1/stocks\"\n",
    "    querystring21 = {\"ticker\":ticker,\"from\":startdate,\"to\":enddate,\"lang\":\"en\",\"stock\":\"NASDAQ\",\"media\":\"True\",\"sort_by\":\"relevancy\"}\n",
    "\n",
    "    headers21 = {\n",
    "        'x-rapidapi-key': RAPID_API_KEY,\n",
    "        'x-rapidapi-host': \"newscatcher.p.rapidapi.com\"\n",
    "        }\n",
    "\n",
    "    response21 = requests.request(\"GET\", url21, headers=headers21, params=querystring21)\n",
    "\n",
    "    try: \n",
    "        body21 = json.loads(response21.text)\n",
    "        articles21 = body21[\"articles\"]\n",
    "        n_articles21 = len(articles21)\n",
    "\n",
    "        for i, article in enumerate(articles21):\n",
    "            news['source'].append(\"NotProvided\")\n",
    "            news['author'].append(re.sub(r'(\\r|\\n|<.*?>|…)+', ' ', str(article['author'])).strip())\n",
    "            for date_format in date_formats:\n",
    "                try:\n",
    "                    news['time'].append(datetime.datetime.strptime(article['published_date'], date_format))\n",
    "                    break\n",
    "                except:\n",
    "                    continue\n",
    "            news['title'].append(article['title'])\n",
    "            news['description'].append(re.sub(r'(\\r|\\n|<.*?>|…)+', ' ', article['summary']).strip())\n",
    "            news['content'].append(' ')\n",
    "            news['url'].append(article['link'])\n",
    "    except Exception as e:\n",
    "        print(e)\n",
    "        warnings.warn(\"21. Fail to get news from Newscatcher API Stock Search!\")\n",
    "\n",
    "\n",
    "    url22 = \"https://newscatcher.p.rapidapi.com/v1/search\"\n",
    "    querystring22 = {\"q\":keyword,\"from\":startdate,\"to\":enddate,\"lang\":\"en\",\"media\":\"True\",\"sort_by\":\"relevancy\"}\n",
    "\n",
    "    headers22 = {\n",
    "        'x-rapidapi-key': RAPID_API_KEY,\n",
    "        'x-rapidapi-host': \"newscatcher.p.rapidapi.com\"\n",
    "        }\n",
    "\n",
    "    response22 = requests.request(\"GET\", url22, headers=headers22, params=querystring22)\n",
    "\n",
    "    try: \n",
    "        body22 = json.loads(response22.text)\n",
    "        articles22 = body22[\"articles\"]\n",
    "        n_articles22 = len(articles22)\n",
    "\n",
    "        for i, article in enumerate(articles22):\n",
    "            news['source'].append(\"NotProvided\")\n",
    "            news['author'].append(re.sub(r'(\\r|\\n|<.*?>|…)+', ' ', str(article['author'])).strip())\n",
    "            for date_format in date_formats:\n",
    "                try:\n",
    "                    news['time'].append(datetime.datetime.strptime(article['published_date'], date_format))\n",
    "                    break\n",
    "                except:\n",
    "                    continue\n",
    "            news['title'].append(article['title'])\n",
    "            news['description'].append(re.sub(r'(\\r|\\n|<.*?>|…)+', ' ', article['summary']).strip())\n",
    "            news['content'].append(' ')\n",
    "            news['url'].append(article['link'])\n",
    "    except Exception as e:\n",
    "        print(e)\n",
    "        warnings.warn(\"22. Fail to get news from Newscatcher API Keyword Search!\")\n",
    "\n",
    "\n",
    "    # 3. NewsAPI search, 100 requests per day\n",
    "    url3 = ('https://newsapi.org/v2/everything?'\n",
    "           'q='+keyword+'&'\n",
    "           'from='+startdate+'&'\n",
    "           'to='+enddate+'&'\n",
    "           'sortBy=relevancy&'\n",
    "           'pageSize=100&'\n",
    "           'apiKey='+NEWS_API_KEY)\n",
    "\n",
    "    try: \n",
    "        articles3 = requests.get(url3).json()['articles']\n",
    "\n",
    "        for i, article in enumerate(articles3):\n",
    "            news['source'].append(article['source']['name'])\n",
    "            news['author'].append(re.sub(r'(\\r|\\n|<.*?>|…)+', ' ', str(article['author'])).strip())\n",
    "            for date_format in date_formats:\n",
    "                try:\n",
    "                    news['time'].append(datetime.datetime.strptime(article['publishedAt'], date_format))\n",
    "                    break\n",
    "                except:\n",
    "                    continue\n",
    "            news['title'].append(article['title'])\n",
    "            news['description'].append(re.sub(r'(\\r|\\n|<.*?>|…)+', ' ', article['description']).strip())\n",
    "            news['content'].append(re.sub(r'(\\r|\\n|<.*?>|… \\[\\+[0-9]+ chars])+', ' ', article['content']).strip())\n",
    "            news['url'].append(article['url'])\n",
    "    except:\n",
    "        warnings.warn(\"3. Fail to get news from NewsAPI Search!\")"
   ]
  },
  {
   "cell_type": "code",
   "execution_count": 5,
   "metadata": {},
   "outputs": [
    {
     "output_type": "stream",
     "name": "stdout",
     "text": [
      "'articles'\n",
      "<ipython-input-2-649c75e1d83d>:67: UserWarning: 21. Fail to get news from Newscatcher API Stock Search!\n",
      "  warnings.warn(\"21. Fail to get news from Newscatcher API Stock Search!\")\n",
      "'articles'\n",
      "<ipython-input-2-649c75e1d83d>:100: UserWarning: 22. Fail to get news from Newscatcher API Keyword Search!\n",
      "  warnings.warn(\"22. Fail to get news from Newscatcher API Keyword Search!\")\n",
      "<ipython-input-2-649c75e1d83d>:129: UserWarning: 3. Fail to get news from NewsAPI Search!\n",
      "  warnings.warn(\"3. Fail to get news from NewsAPI Search!\")\n"
     ]
    }
   ],
   "source": [
    "startdate = \"2016-03-31T00:00:00\"\n",
    "enddate = \"2016-05-31T23:59:59\"\n",
    "addnews(startdate,enddate, news)"
   ]
  },
  {
   "cell_type": "code",
   "execution_count": 6,
   "metadata": {},
   "outputs": [
    {
     "output_type": "stream",
     "name": "stdout",
     "text": [
      "'articles'\n",
      "<ipython-input-2-649c75e1d83d>:67: UserWarning: 21. Fail to get news from Newscatcher API Stock Search!\n",
      "  warnings.warn(\"21. Fail to get news from Newscatcher API Stock Search!\")\n",
      "'articles'\n",
      "<ipython-input-2-649c75e1d83d>:100: UserWarning: 22. Fail to get news from Newscatcher API Keyword Search!\n",
      "  warnings.warn(\"22. Fail to get news from Newscatcher API Keyword Search!\")\n",
      "<ipython-input-2-649c75e1d83d>:129: UserWarning: 3. Fail to get news from NewsAPI Search!\n",
      "  warnings.warn(\"3. Fail to get news from NewsAPI Search!\")\n"
     ]
    }
   ],
   "source": [
    "startdate = \"2016-05-31T00:00:00\"\n",
    "enddate = \"2016-07-31T23:59:59\"\n",
    "addnews(startdate,enddate, news)"
   ]
  },
  {
   "cell_type": "code",
   "execution_count": 7,
   "metadata": {},
   "outputs": [
    {
     "output_type": "stream",
     "name": "stdout",
     "text": [
      "'articles'\n",
      "<ipython-input-2-649c75e1d83d>:67: UserWarning: 21. Fail to get news from Newscatcher API Stock Search!\n",
      "  warnings.warn(\"21. Fail to get news from Newscatcher API Stock Search!\")\n",
      "'articles'\n",
      "<ipython-input-2-649c75e1d83d>:100: UserWarning: 22. Fail to get news from Newscatcher API Keyword Search!\n",
      "  warnings.warn(\"22. Fail to get news from Newscatcher API Keyword Search!\")\n",
      "<ipython-input-2-649c75e1d83d>:129: UserWarning: 3. Fail to get news from NewsAPI Search!\n",
      "  warnings.warn(\"3. Fail to get news from NewsAPI Search!\")\n"
     ]
    }
   ],
   "source": [
    "startdate = \"2016-07-31T00:00:00\"\n",
    "enddate = \"2016-09-31T23:59:59\"\n",
    "addnews(startdate,enddate, news)"
   ]
  },
  {
   "cell_type": "code",
   "execution_count": 8,
   "metadata": {},
   "outputs": [
    {
     "output_type": "stream",
     "name": "stdout",
     "text": [
      "'articles'\n",
      "<ipython-input-2-649c75e1d83d>:67: UserWarning: 21. Fail to get news from Newscatcher API Stock Search!\n",
      "  warnings.warn(\"21. Fail to get news from Newscatcher API Stock Search!\")\n",
      "'articles'\n",
      "<ipython-input-2-649c75e1d83d>:100: UserWarning: 22. Fail to get news from Newscatcher API Keyword Search!\n",
      "  warnings.warn(\"22. Fail to get news from Newscatcher API Keyword Search!\")\n",
      "<ipython-input-2-649c75e1d83d>:129: UserWarning: 3. Fail to get news from NewsAPI Search!\n",
      "  warnings.warn(\"3. Fail to get news from NewsAPI Search!\")\n"
     ]
    }
   ],
   "source": [
    "startdate = \"2016-09-30T00:00:00\"\n",
    "enddate = \"2016-10-31T23:59:59\"\n",
    "addnews(startdate,enddate, news)"
   ]
  },
  {
   "cell_type": "code",
   "execution_count": 9,
   "metadata": {},
   "outputs": [
    {
     "output_type": "execute_result",
     "data": {
      "text/plain": [
       "61"
      ]
     },
     "metadata": {},
     "execution_count": 9
    }
   ],
   "source": [
    "len(news['source'])"
   ]
  },
  {
   "cell_type": "code",
   "execution_count": 10,
   "metadata": {},
   "outputs": [
    {
     "output_type": "stream",
     "name": "stdout",
     "text": [
      "'articles'\n",
      "<ipython-input-2-649c75e1d83d>:67: UserWarning: 21. Fail to get news from Newscatcher API Stock Search!\n",
      "  warnings.warn(\"21. Fail to get news from Newscatcher API Stock Search!\")\n",
      "'articles'\n",
      "<ipython-input-2-649c75e1d83d>:100: UserWarning: 22. Fail to get news from Newscatcher API Keyword Search!\n",
      "  warnings.warn(\"22. Fail to get news from Newscatcher API Keyword Search!\")\n",
      "<ipython-input-2-649c75e1d83d>:129: UserWarning: 3. Fail to get news from NewsAPI Search!\n",
      "  warnings.warn(\"3. Fail to get news from NewsAPI Search!\")\n"
     ]
    }
   ],
   "source": [
    "startdate = \"2016-10-31T00:00:00\"\n",
    "enddate = \"2016-11-31T23:59:59\"\n",
    "addnews(startdate,enddate, news)"
   ]
  },
  {
   "cell_type": "code",
   "execution_count": 11,
   "metadata": {},
   "outputs": [
    {
     "output_type": "execute_result",
     "data": {
      "text/plain": [
       "111"
      ]
     },
     "metadata": {},
     "execution_count": 11
    }
   ],
   "source": [
    "len(news['source'])"
   ]
  },
  {
   "cell_type": "code",
   "execution_count": 12,
   "metadata": {},
   "outputs": [
    {
     "output_type": "stream",
     "name": "stdout",
     "text": [
      "'articles'\n",
      "<ipython-input-2-649c75e1d83d>:67: UserWarning: 21. Fail to get news from Newscatcher API Stock Search!\n",
      "  warnings.warn(\"21. Fail to get news from Newscatcher API Stock Search!\")\n",
      "'articles'\n",
      "<ipython-input-2-649c75e1d83d>:100: UserWarning: 22. Fail to get news from Newscatcher API Keyword Search!\n",
      "  warnings.warn(\"22. Fail to get news from Newscatcher API Keyword Search!\")\n"
     ]
    },
    {
     "output_type": "execute_result",
     "data": {
      "text/plain": [
       "111"
      ]
     },
     "metadata": {},
     "execution_count": 12
    }
   ],
   "source": [
    "startdate = \"2016-11-31T00:00:00\"\n",
    "enddate = \"2016-12-15T23:59:59\"\n",
    "addnews(startdate,enddate, news)\n",
    "len(news['source'])"
   ]
  },
  {
   "cell_type": "code",
   "execution_count": 13,
   "metadata": {},
   "outputs": [
    {
     "output_type": "stream",
     "name": "stdout",
     "text": [
      "'articles'\n",
      "<ipython-input-2-649c75e1d83d>:67: UserWarning: 21. Fail to get news from Newscatcher API Stock Search!\n",
      "  warnings.warn(\"21. Fail to get news from Newscatcher API Stock Search!\")\n",
      "'articles'\n",
      "<ipython-input-2-649c75e1d83d>:100: UserWarning: 22. Fail to get news from Newscatcher API Keyword Search!\n",
      "  warnings.warn(\"22. Fail to get news from Newscatcher API Keyword Search!\")\n"
     ]
    },
    {
     "output_type": "execute_result",
     "data": {
      "text/plain": [
       "213"
      ]
     },
     "metadata": {},
     "execution_count": 13
    }
   ],
   "source": [
    "startdate = \"2016-11-31T00:00:00\"\n",
    "enddate = \"2017-02-31T23:59:59\"\n",
    "addnews(startdate,enddate, news)\n",
    "len(news['source'])"
   ]
  },
  {
   "cell_type": "code",
   "execution_count": 14,
   "metadata": {},
   "outputs": [
    {
     "output_type": "stream",
     "name": "stdout",
     "text": [
      "'articles'\n",
      "<ipython-input-2-649c75e1d83d>:67: UserWarning: 21. Fail to get news from Newscatcher API Stock Search!\n",
      "  warnings.warn(\"21. Fail to get news from Newscatcher API Stock Search!\")\n",
      "'articles'\n",
      "<ipython-input-2-649c75e1d83d>:100: UserWarning: 22. Fail to get news from Newscatcher API Keyword Search!\n",
      "  warnings.warn(\"22. Fail to get news from Newscatcher API Keyword Search!\")\n"
     ]
    },
    {
     "output_type": "execute_result",
     "data": {
      "text/plain": [
       "315"
      ]
     },
     "metadata": {},
     "execution_count": 14
    }
   ],
   "source": [
    "startdate = \"2017-02-31T00:00:00\"\n",
    "enddate = \"2017-04-31T23:59:59\"\n",
    "addnews(startdate,enddate, news)\n",
    "len(news['source'])"
   ]
  },
  {
   "cell_type": "code",
   "execution_count": 15,
   "metadata": {},
   "outputs": [
    {
     "output_type": "stream",
     "name": "stdout",
     "text": [
      "'articles'\n",
      "<ipython-input-2-649c75e1d83d>:67: UserWarning: 21. Fail to get news from Newscatcher API Stock Search!\n",
      "  warnings.warn(\"21. Fail to get news from Newscatcher API Stock Search!\")\n",
      "'articles'\n",
      "<ipython-input-2-649c75e1d83d>:100: UserWarning: 22. Fail to get news from Newscatcher API Keyword Search!\n",
      "  warnings.warn(\"22. Fail to get news from Newscatcher API Keyword Search!\")\n"
     ]
    },
    {
     "output_type": "execute_result",
     "data": {
      "text/plain": [
       "417"
      ]
     },
     "metadata": {},
     "execution_count": 15
    }
   ],
   "source": [
    "startdate = \"2017-04-31T00:00:00\"\n",
    "enddate = \"2017-06-31T23:59:59\"\n",
    "addnews(startdate,enddate, news)\n",
    "len(news['source'])"
   ]
  },
  {
   "cell_type": "code",
   "execution_count": 16,
   "metadata": {},
   "outputs": [
    {
     "output_type": "stream",
     "name": "stdout",
     "text": [
      "'articles'\n",
      "<ipython-input-2-649c75e1d83d>:67: UserWarning: 21. Fail to get news from Newscatcher API Stock Search!\n",
      "  warnings.warn(\"21. Fail to get news from Newscatcher API Stock Search!\")\n",
      "'articles'\n",
      "<ipython-input-2-649c75e1d83d>:100: UserWarning: 22. Fail to get news from Newscatcher API Keyword Search!\n",
      "  warnings.warn(\"22. Fail to get news from Newscatcher API Keyword Search!\")\n"
     ]
    },
    {
     "output_type": "execute_result",
     "data": {
      "text/plain": [
       "519"
      ]
     },
     "metadata": {},
     "execution_count": 16
    }
   ],
   "source": [
    "startdate = \"2017-06-31T00:00:00\"\n",
    "enddate = \"2017-09-31T23:59:59\"\n",
    "addnews(startdate,enddate, news)\n",
    "len(news['source'])"
   ]
  },
  {
   "cell_type": "code",
   "execution_count": 17,
   "metadata": {},
   "outputs": [
    {
     "output_type": "stream",
     "name": "stdout",
     "text": [
      "'articles'\n",
      "'articles'\n",
      "<ipython-input-2-649c75e1d83d>:67: UserWarning: 21. Fail to get news from Newscatcher API Stock Search!\n",
      "  warnings.warn(\"21. Fail to get news from Newscatcher API Stock Search!\")\n",
      "<ipython-input-2-649c75e1d83d>:100: UserWarning: 22. Fail to get news from Newscatcher API Keyword Search!\n",
      "  warnings.warn(\"22. Fail to get news from Newscatcher API Keyword Search!\")\n"
     ]
    },
    {
     "output_type": "execute_result",
     "data": {
      "text/plain": [
       "621"
      ]
     },
     "metadata": {},
     "execution_count": 17
    }
   ],
   "source": [
    "startdate = \"2017-09-31T00:00:00\"\n",
    "enddate = \"2017-11-31T23:59:59\"\n",
    "addnews(startdate,enddate, news)\n",
    "len(news['source'])"
   ]
  },
  {
   "cell_type": "code",
   "execution_count": 18,
   "metadata": {},
   "outputs": [
    {
     "output_type": "stream",
     "name": "stdout",
     "text": [
      "'articles'\n",
      "'articles'\n",
      "<ipython-input-2-649c75e1d83d>:67: UserWarning: 21. Fail to get news from Newscatcher API Stock Search!\n",
      "  warnings.warn(\"21. Fail to get news from Newscatcher API Stock Search!\")\n",
      "<ipython-input-2-649c75e1d83d>:100: UserWarning: 22. Fail to get news from Newscatcher API Keyword Search!\n",
      "  warnings.warn(\"22. Fail to get news from Newscatcher API Keyword Search!\")\n"
     ]
    },
    {
     "output_type": "execute_result",
     "data": {
      "text/plain": [
       "723"
      ]
     },
     "metadata": {},
     "execution_count": 18
    }
   ],
   "source": [
    "startdate = \"2017-11-31T00:00:00\"\n",
    "enddate = \"2018-02-31T23:59:59\"\n",
    "addnews(startdate,enddate, news)\n",
    "len(news['source'])"
   ]
  },
  {
   "cell_type": "code",
   "execution_count": 19,
   "metadata": {},
   "outputs": [
    {
     "output_type": "stream",
     "name": "stdout",
     "text": [
      "'articles'\n",
      "<ipython-input-2-649c75e1d83d>:67: UserWarning: 21. Fail to get news from Newscatcher API Stock Search!\n",
      "  warnings.warn(\"21. Fail to get news from Newscatcher API Stock Search!\")\n",
      "'articles'\n",
      "<ipython-input-2-649c75e1d83d>:100: UserWarning: 22. Fail to get news from Newscatcher API Keyword Search!\n",
      "  warnings.warn(\"22. Fail to get news from Newscatcher API Keyword Search!\")\n"
     ]
    },
    {
     "output_type": "execute_result",
     "data": {
      "text/plain": [
       "825"
      ]
     },
     "metadata": {},
     "execution_count": 19
    }
   ],
   "source": [
    "startdate = \"2018-02-31T00:00:00\"\n",
    "enddate = \"2018-04-31T23:59:59\"\n",
    "addnews(startdate,enddate, news)\n",
    "len(news['source'])"
   ]
  },
  {
   "cell_type": "code",
   "execution_count": 20,
   "metadata": {},
   "outputs": [
    {
     "output_type": "stream",
     "name": "stdout",
     "text": [
      "'articles'\n",
      "<ipython-input-2-649c75e1d83d>:67: UserWarning: 21. Fail to get news from Newscatcher API Stock Search!\n",
      "  warnings.warn(\"21. Fail to get news from Newscatcher API Stock Search!\")\n",
      "'articles'\n",
      "<ipython-input-2-649c75e1d83d>:100: UserWarning: 22. Fail to get news from Newscatcher API Keyword Search!\n",
      "  warnings.warn(\"22. Fail to get news from Newscatcher API Keyword Search!\")\n"
     ]
    },
    {
     "output_type": "execute_result",
     "data": {
      "text/plain": [
       "927"
      ]
     },
     "metadata": {},
     "execution_count": 20
    }
   ],
   "source": [
    "startdate = \"2018-04-31T00:00:00\"\n",
    "enddate = \"2018-06-31T23:59:59\"\n",
    "addnews(startdate,enddate, news)\n",
    "len(news['source'])"
   ]
  },
  {
   "cell_type": "code",
   "execution_count": 21,
   "metadata": {},
   "outputs": [
    {
     "output_type": "stream",
     "name": "stdout",
     "text": [
      "'articles'\n",
      "'articles'\n",
      "<ipython-input-2-649c75e1d83d>:67: UserWarning: 21. Fail to get news from Newscatcher API Stock Search!\n",
      "  warnings.warn(\"21. Fail to get news from Newscatcher API Stock Search!\")\n",
      "<ipython-input-2-649c75e1d83d>:100: UserWarning: 22. Fail to get news from Newscatcher API Keyword Search!\n",
      "  warnings.warn(\"22. Fail to get news from Newscatcher API Keyword Search!\")\n"
     ]
    },
    {
     "output_type": "execute_result",
     "data": {
      "text/plain": [
       "1029"
      ]
     },
     "metadata": {},
     "execution_count": 21
    }
   ],
   "source": [
    "startdate = \"2018-06-31T00:00:00\"\n",
    "enddate = \"2018-09-31T23:59:59\"\n",
    "addnews(startdate,enddate, news)\n",
    "len(news['source'])"
   ]
  },
  {
   "cell_type": "code",
   "execution_count": 22,
   "metadata": {},
   "outputs": [
    {
     "output_type": "stream",
     "name": "stdout",
     "text": [
      "'articles'\n",
      "'articles'\n",
      "<ipython-input-2-649c75e1d83d>:67: UserWarning: 21. Fail to get news from Newscatcher API Stock Search!\n",
      "  warnings.warn(\"21. Fail to get news from Newscatcher API Stock Search!\")\n",
      "<ipython-input-2-649c75e1d83d>:100: UserWarning: 22. Fail to get news from Newscatcher API Keyword Search!\n",
      "  warnings.warn(\"22. Fail to get news from Newscatcher API Keyword Search!\")\n"
     ]
    },
    {
     "output_type": "execute_result",
     "data": {
      "text/plain": [
       "1131"
      ]
     },
     "metadata": {},
     "execution_count": 22
    }
   ],
   "source": [
    "startdate = \"2018-09-31T00:00:00\"\n",
    "enddate = \"2018-11-31T23:59:59\"\n",
    "addnews(startdate,enddate, news)\n",
    "len(news['source'])"
   ]
  },
  {
   "cell_type": "code",
   "execution_count": 23,
   "metadata": {},
   "outputs": [
    {
     "output_type": "stream",
     "name": "stdout",
     "text": [
      "'articles'\n",
      "'articles'\n",
      "<ipython-input-2-649c75e1d83d>:67: UserWarning: 21. Fail to get news from Newscatcher API Stock Search!\n",
      "  warnings.warn(\"21. Fail to get news from Newscatcher API Stock Search!\")\n",
      "<ipython-input-2-649c75e1d83d>:100: UserWarning: 22. Fail to get news from Newscatcher API Keyword Search!\n",
      "  warnings.warn(\"22. Fail to get news from Newscatcher API Keyword Search!\")\n"
     ]
    },
    {
     "output_type": "execute_result",
     "data": {
      "text/plain": [
       "1233"
      ]
     },
     "metadata": {},
     "execution_count": 23
    }
   ],
   "source": [
    "startdate = \"2018-11-31T00:00:00\"\n",
    "enddate = \"2019-02-31T23:59:59\"\n",
    "addnews(startdate,enddate, news)\n",
    "len(news['source'])"
   ]
  },
  {
   "cell_type": "code",
   "execution_count": 24,
   "metadata": {},
   "outputs": [
    {
     "output_type": "stream",
     "name": "stdout",
     "text": [
      "'articles'\n",
      "<ipython-input-2-649c75e1d83d>:67: UserWarning: 21. Fail to get news from Newscatcher API Stock Search!\n",
      "  warnings.warn(\"21. Fail to get news from Newscatcher API Stock Search!\")\n",
      "'articles'\n",
      "<ipython-input-2-649c75e1d83d>:100: UserWarning: 22. Fail to get news from Newscatcher API Keyword Search!\n",
      "  warnings.warn(\"22. Fail to get news from Newscatcher API Keyword Search!\")\n"
     ]
    },
    {
     "output_type": "execute_result",
     "data": {
      "text/plain": [
       "1335"
      ]
     },
     "metadata": {},
     "execution_count": 24
    }
   ],
   "source": [
    "startdate = \"2019-02-31T00:00:00\"\n",
    "enddate = \"2019-04-31T23:59:59\"\n",
    "addnews(startdate,enddate, news)\n",
    "len(news['source'])"
   ]
  },
  {
   "cell_type": "code",
   "execution_count": 25,
   "metadata": {},
   "outputs": [
    {
     "output_type": "stream",
     "name": "stdout",
     "text": [
      "'articles'\n",
      "<ipython-input-2-649c75e1d83d>:67: UserWarning: 21. Fail to get news from Newscatcher API Stock Search!\n",
      "  warnings.warn(\"21. Fail to get news from Newscatcher API Stock Search!\")\n",
      "'articles'\n",
      "<ipython-input-2-649c75e1d83d>:100: UserWarning: 22. Fail to get news from Newscatcher API Keyword Search!\n",
      "  warnings.warn(\"22. Fail to get news from Newscatcher API Keyword Search!\")\n"
     ]
    },
    {
     "output_type": "execute_result",
     "data": {
      "text/plain": [
       "1437"
      ]
     },
     "metadata": {},
     "execution_count": 25
    }
   ],
   "source": [
    "startdate = \"2019-04-31T00:00:00\"\n",
    "enddate = \"2019-06-31T23:59:59\"\n",
    "addnews(startdate,enddate, news)\n",
    "len(news['source'])"
   ]
  },
  {
   "cell_type": "code",
   "execution_count": 26,
   "metadata": {},
   "outputs": [
    {
     "output_type": "stream",
     "name": "stdout",
     "text": [
      "'articles'\n",
      "<ipython-input-2-649c75e1d83d>:67: UserWarning: 21. Fail to get news from Newscatcher API Stock Search!\n",
      "  warnings.warn(\"21. Fail to get news from Newscatcher API Stock Search!\")\n",
      "'articles'\n",
      "<ipython-input-2-649c75e1d83d>:100: UserWarning: 22. Fail to get news from Newscatcher API Keyword Search!\n",
      "  warnings.warn(\"22. Fail to get news from Newscatcher API Keyword Search!\")\n"
     ]
    },
    {
     "output_type": "execute_result",
     "data": {
      "text/plain": [
       "1539"
      ]
     },
     "metadata": {},
     "execution_count": 26
    }
   ],
   "source": [
    "startdate = \"2019-06-31T00:00:00\"\n",
    "enddate = \"2019-09-31T23:59:59\"\n",
    "addnews(startdate,enddate, news)\n",
    "len(news['source'])"
   ]
  },
  {
   "cell_type": "code",
   "execution_count": 27,
   "metadata": {},
   "outputs": [
    {
     "output_type": "stream",
     "name": "stdout",
     "text": [
      "'articles'\n",
      "<ipython-input-2-649c75e1d83d>:67: UserWarning: 21. Fail to get news from Newscatcher API Stock Search!\n",
      "  warnings.warn(\"21. Fail to get news from Newscatcher API Stock Search!\")\n",
      "'articles'\n",
      "<ipython-input-2-649c75e1d83d>:100: UserWarning: 22. Fail to get news from Newscatcher API Keyword Search!\n",
      "  warnings.warn(\"22. Fail to get news from Newscatcher API Keyword Search!\")\n"
     ]
    },
    {
     "output_type": "execute_result",
     "data": {
      "text/plain": [
       "1641"
      ]
     },
     "metadata": {},
     "execution_count": 27
    }
   ],
   "source": [
    "startdate = \"2019-09-31T00:00:00\"\n",
    "enddate = \"2019-11-31T23:59:59\"\n",
    "addnews(startdate,enddate, news)\n",
    "len(news['source'])"
   ]
  },
  {
   "cell_type": "code",
   "execution_count": 28,
   "metadata": {},
   "outputs": [
    {
     "output_type": "stream",
     "name": "stdout",
     "text": [
      "'articles'\n",
      "<ipython-input-2-649c75e1d83d>:67: UserWarning: 21. Fail to get news from Newscatcher API Stock Search!\n",
      "  warnings.warn(\"21. Fail to get news from Newscatcher API Stock Search!\")\n",
      "'articles'\n",
      "<ipython-input-2-649c75e1d83d>:100: UserWarning: 22. Fail to get news from Newscatcher API Keyword Search!\n",
      "  warnings.warn(\"22. Fail to get news from Newscatcher API Keyword Search!\")\n"
     ]
    },
    {
     "output_type": "execute_result",
     "data": {
      "text/plain": [
       "1743"
      ]
     },
     "metadata": {},
     "execution_count": 28
    }
   ],
   "source": [
    "startdate = \"2019-11-31T00:00:00\"\n",
    "enddate = \"2020-02-31T23:59:59\"\n",
    "addnews(startdate,enddate, news)\n",
    "len(news['source'])"
   ]
  },
  {
   "cell_type": "code",
   "execution_count": 29,
   "metadata": {},
   "outputs": [
    {
     "output_type": "stream",
     "name": "stdout",
     "text": [
      "'articles'\n",
      "<ipython-input-2-649c75e1d83d>:67: UserWarning: 21. Fail to get news from Newscatcher API Stock Search!\n",
      "  warnings.warn(\"21. Fail to get news from Newscatcher API Stock Search!\")\n",
      "'articles'\n",
      "<ipython-input-2-649c75e1d83d>:100: UserWarning: 22. Fail to get news from Newscatcher API Keyword Search!\n",
      "  warnings.warn(\"22. Fail to get news from Newscatcher API Keyword Search!\")\n"
     ]
    },
    {
     "output_type": "execute_result",
     "data": {
      "text/plain": [
       "1845"
      ]
     },
     "metadata": {},
     "execution_count": 29
    }
   ],
   "source": [
    "startdate = \"2020-02-31T00:00:00\"\n",
    "enddate = \"2020-04-31T23:59:59\"\n",
    "addnews(startdate,enddate, news)\n",
    "len(news['source'])"
   ]
  },
  {
   "cell_type": "code",
   "execution_count": 30,
   "metadata": {},
   "outputs": [
    {
     "output_type": "stream",
     "name": "stdout",
     "text": [
      "'articles'\n",
      "'articles'\n",
      "<ipython-input-2-649c75e1d83d>:67: UserWarning: 21. Fail to get news from Newscatcher API Stock Search!\n",
      "  warnings.warn(\"21. Fail to get news from Newscatcher API Stock Search!\")\n",
      "<ipython-input-2-649c75e1d83d>:100: UserWarning: 22. Fail to get news from Newscatcher API Keyword Search!\n",
      "  warnings.warn(\"22. Fail to get news from Newscatcher API Keyword Search!\")\n"
     ]
    },
    {
     "output_type": "execute_result",
     "data": {
      "text/plain": [
       "1947"
      ]
     },
     "metadata": {},
     "execution_count": 30
    }
   ],
   "source": [
    "startdate = \"2020-04-31T00:00:00\"\n",
    "enddate = \"2020-06-31T23:59:59\"\n",
    "addnews(startdate,enddate, news)\n",
    "len(news['source'])"
   ]
  },
  {
   "cell_type": "code",
   "execution_count": 31,
   "metadata": {},
   "outputs": [
    {
     "output_type": "stream",
     "name": "stdout",
     "text": [
      "'articles'\n",
      "'articles'\n",
      "<ipython-input-2-649c75e1d83d>:67: UserWarning: 21. Fail to get news from Newscatcher API Stock Search!\n",
      "  warnings.warn(\"21. Fail to get news from Newscatcher API Stock Search!\")\n",
      "<ipython-input-2-649c75e1d83d>:100: UserWarning: 22. Fail to get news from Newscatcher API Keyword Search!\n",
      "  warnings.warn(\"22. Fail to get news from Newscatcher API Keyword Search!\")\n"
     ]
    },
    {
     "output_type": "execute_result",
     "data": {
      "text/plain": [
       "2049"
      ]
     },
     "metadata": {},
     "execution_count": 31
    }
   ],
   "source": [
    "startdate = \"2020-06-31T00:00:00\"\n",
    "enddate = \"2020-09-31T23:59:59\"\n",
    "addnews(startdate,enddate, news)\n",
    "len(news['source'])"
   ]
  },
  {
   "cell_type": "code",
   "execution_count": 32,
   "metadata": {},
   "outputs": [
    {
     "output_type": "stream",
     "name": "stdout",
     "text": [
      "'articles'\n",
      "'articles'\n",
      "<ipython-input-2-649c75e1d83d>:67: UserWarning: 21. Fail to get news from Newscatcher API Stock Search!\n",
      "  warnings.warn(\"21. Fail to get news from Newscatcher API Stock Search!\")\n",
      "<ipython-input-2-649c75e1d83d>:100: UserWarning: 22. Fail to get news from Newscatcher API Keyword Search!\n",
      "  warnings.warn(\"22. Fail to get news from Newscatcher API Keyword Search!\")\n"
     ]
    },
    {
     "output_type": "execute_result",
     "data": {
      "text/plain": [
       "2151"
      ]
     },
     "metadata": {},
     "execution_count": 32
    }
   ],
   "source": [
    "startdate = \"2020-09-31T00:00:00\"\n",
    "enddate = \"2020-11-31T23:59:59\"\n",
    "addnews(startdate,enddate, news)\n",
    "len(news['source'])"
   ]
  },
  {
   "cell_type": "code",
   "execution_count": 33,
   "metadata": {},
   "outputs": [
    {
     "output_type": "stream",
     "name": "stdout",
     "text": [
      "'articles'\n",
      "'articles'\n",
      "<ipython-input-2-649c75e1d83d>:67: UserWarning: 21. Fail to get news from Newscatcher API Stock Search!\n",
      "  warnings.warn(\"21. Fail to get news from Newscatcher API Stock Search!\")\n",
      "<ipython-input-2-649c75e1d83d>:100: UserWarning: 22. Fail to get news from Newscatcher API Keyword Search!\n",
      "  warnings.warn(\"22. Fail to get news from Newscatcher API Keyword Search!\")\n"
     ]
    },
    {
     "output_type": "execute_result",
     "data": {
      "text/plain": [
       "2253"
      ]
     },
     "metadata": {},
     "execution_count": 33
    }
   ],
   "source": [
    "startdate = \"2020-11-31T00:00:00\"\n",
    "enddate = \"2021-02-31T23:59:59\"\n",
    "addnews(startdate,enddate, news)\n",
    "len(news['source'])"
   ]
  },
  {
   "cell_type": "code",
   "execution_count": 34,
   "metadata": {},
   "outputs": [
    {
     "output_type": "stream",
     "name": "stdout",
     "text": [
      "'articles'\n",
      "<ipython-input-2-649c75e1d83d>:67: UserWarning: 21. Fail to get news from Newscatcher API Stock Search!\n",
      "  warnings.warn(\"21. Fail to get news from Newscatcher API Stock Search!\")\n",
      "'articles'\n",
      "<ipython-input-2-649c75e1d83d>:100: UserWarning: 22. Fail to get news from Newscatcher API Keyword Search!\n",
      "  warnings.warn(\"22. Fail to get news from Newscatcher API Keyword Search!\")\n"
     ]
    },
    {
     "output_type": "execute_result",
     "data": {
      "text/plain": [
       "2253"
      ]
     },
     "metadata": {},
     "execution_count": 34
    }
   ],
   "source": [
    "startdate = \"2021-02-31T00:00:00\"\n",
    "enddate = \"2021-03-31T23:59:59\"\n",
    "addnews(startdate,enddate, news)\n",
    "len(news['source'])"
   ]
  },
  {
   "cell_type": "code",
   "execution_count": 35,
   "metadata": {},
   "outputs": [
    {
     "output_type": "stream",
     "name": "stdout",
     "text": [
      "'articles'\n",
      "<ipython-input-2-649c75e1d83d>:67: UserWarning: 21. Fail to get news from Newscatcher API Stock Search!\n",
      "  warnings.warn(\"21. Fail to get news from Newscatcher API Stock Search!\")\n",
      "'articles'\n",
      "<ipython-input-2-649c75e1d83d>:100: UserWarning: 22. Fail to get news from Newscatcher API Keyword Search!\n",
      "  warnings.warn(\"22. Fail to get news from Newscatcher API Keyword Search!\")\n",
      "<ipython-input-2-649c75e1d83d>:129: UserWarning: 3. Fail to get news from NewsAPI Search!\n",
      "  warnings.warn(\"3. Fail to get news from NewsAPI Search!\")\n"
     ]
    },
    {
     "output_type": "execute_result",
     "data": {
      "text/plain": [
       "2303"
      ]
     },
     "metadata": {},
     "execution_count": 35
    }
   ],
   "source": [
    "startdate = \"2021-03-31T00:00:00\"\n",
    "enddate = \"2021-04-16T23:59:59\"\n",
    "addnews(startdate,enddate, news)\n",
    "len(news['source'])"
   ]
  },
  {
   "cell_type": "code",
   "execution_count": 36,
   "metadata": {},
   "outputs": [],
   "source": [
    "df_news = pd.DataFrame(news)\n",
    "df_news.to_csv(\"../data/news_large.csv\", index=False)"
   ]
  },
  {
   "cell_type": "code",
   "execution_count": null,
   "metadata": {},
   "outputs": [],
   "source": []
  }
 ],
 "metadata": {
  "kernelspec": {
   "name": "python383jvsc74a57bd0f9520ba11fdc1099356e05d27a34ed870b487e4078e45fe1cddd0198c8b5354c",
   "display_name": "Python 3.8.3 64-bit ('base': conda)"
  },
  "language_info": {
   "codemirror_mode": {
    "name": "ipython",
    "version": 3
   },
   "file_extension": ".py",
   "mimetype": "text/x-python",
   "name": "python",
   "nbconvert_exporter": "python",
   "pygments_lexer": "ipython3",
   "version": "3.8.3"
  }
 },
 "nbformat": 4,
 "nbformat_minor": 4
}