{
 "cells": [
  {
   "cell_type": "code",
   "execution_count": 1,
   "metadata": {},
   "outputs": [],
   "source": [
    "import sys\n",
    "import pandas as pd\n",
    "sys.path.append(\"../utils/\")\n",
    "from fetchgooglenews import GoogleNews\n",
    "import datetime\n",
    "import math\n",
    "import time"
   ]
  },
  {
   "cell_type": "code",
   "execution_count": 2,
   "metadata": {},
   "outputs": [],
   "source": [
    "startdate = datetime.date(2016,3,31)\n",
    "enddate = datetime.date(2021,4,16)"
   ]
  },
  {
   "cell_type": "code",
   "execution_count": 3,
   "metadata": {},
   "outputs": [],
   "source": [
    "def generate_periods(startdate, enddate, length=30):\n",
    "    totaldays = (enddate - startdate).days + 1\n",
    "    num_periods = math.ceil(totaldays/length)\n",
    "    output_dates = []\n",
    "    for i in range(0, num_periods):\n",
    "        if i < num_periods-1:\n",
    "            leftdate = startdate + datetime.timedelta(days=i*length)\n",
    "            rightdate = startdate + datetime.timedelta(days=((i+1)*length-1))\n",
    "        else:\n",
    "            leftdate = startdate + datetime.timedelta(days=i*length)\n",
    "            rightdate = enddate\n",
    "        leftdate_str = datetime.date.strftime(leftdate, \"%m/%d/%Y\")\n",
    "        rightdate_str = datetime.date.strftime(rightdate, \"%m/%d/%Y\")\n",
    "        output_dates.append((leftdate_str, rightdate_str))\n",
    "    return output_dates"
   ]
  },
  {
   "cell_type": "code",
   "execution_count": 4,
   "metadata": {},
   "outputs": [],
   "source": [
    "def get_news(keywords, time_periods, MAX_PAGE=5, duplicate=True, pause=1):\n",
    "    results_all = []\n",
    "    for leftdate, rightdate in time_periods:\n",
    "        # Duplicate will copy same article twice, and \n",
    "        googlenews = GoogleNews(lang='en', start=leftdate,end=rightdate, numperpage=50, duplicate=duplicate)\n",
    "        googlenews.search(keywords)\n",
    "        for i in range(2,MAX_PAGE+1):\n",
    "            time.sleep(pause)\n",
    "            googlenews.get_page(i)\n",
    "            if googlenews.failflag() == 1:\n",
    "                break\n",
    "        results_all.extend(googlenews.results())\n",
    "        print(\"Finish Request from {} to {}, Get {} articles\".format(leftdate, rightdate, len(googlenews.results())))\n",
    "        time.sleep(30)\n",
    "    return results_all"
   ]
  },
  {
   "cell_type": "code",
   "execution_count": 5,
   "metadata": {},
   "outputs": [],
   "source": [
    "timeperiods = generate_periods(startdate,enddate,length=30)"
   ]
  },
  {
   "cell_type": "markdown",
   "metadata": {},
   "source": [
    "### Get Bitcoin news"
   ]
  },
  {
   "cell_type": "code",
   "execution_count": 6,
   "metadata": {},
   "outputs": [],
   "source": [
    "keyword = 'Bitcoin'\n",
    "output_file_name= \"../data/news/data/GoogleNews_{}_large.csv\".format(keyword)\n",
    "MAX_PAGE = 5"
   ]
  },
  {
   "cell_type": "code",
   "execution_count": 7,
   "metadata": {},
   "outputs": [
    {
     "name": "stdout",
     "output_type": "stream",
     "text": [
      "Finish Request from 03/31/2016 to 04/29/2016, Get 464 articles\n",
      "Finish Request from 04/30/2016 to 05/29/2016, Get 404 articles\n",
      "Finish Request from 05/30/2016 to 06/28/2016, Get 424 articles\n",
      "Finish Request from 06/29/2016 to 07/28/2016, Get 474 articles\n",
      "Finish Request from 07/29/2016 to 08/27/2016, Get 472 articles\n",
      "Finish Request from 08/28/2016 to 09/26/2016, Get 468 articles\n",
      "Finish Request from 09/27/2016 to 10/26/2016, Get 476 articles\n",
      "Finish Request from 10/27/2016 to 11/25/2016, Get 480 articles\n",
      "Finish Request from 11/26/2016 to 12/25/2016, Get 470 articles\n",
      "Finish Request from 12/26/2016 to 01/24/2017, Get 478 articles\n",
      "Finish Request from 01/25/2017 to 02/23/2017, Get 472 articles\n",
      "Finish Request from 02/24/2017 to 03/25/2017, Get 466 articles\n",
      "Finish Request from 03/26/2017 to 04/24/2017, Get 488 articles\n",
      "Finish Request from 04/25/2017 to 05/24/2017, Get 428 articles\n",
      "Finish Request from 05/25/2017 to 06/23/2017, Get 412 articles\n",
      "HTTP Error 429: Too Many Requests\n",
      "Finish Request from 06/24/2017 to 07/23/2017, Get 392 articles\n",
      "HTTP Error 429: Too Many Requests\n",
      "HTTP Error 429: Too Many Requests\n",
      "Finish Request from 07/24/2017 to 08/22/2017, Get 0 articles\n",
      "HTTP Error 429: Too Many Requests\n",
      "HTTP Error 429: Too Many Requests\n",
      "Finish Request from 08/23/2017 to 09/21/2017, Get 0 articles\n",
      "HTTP Error 429: Too Many Requests\n",
      "HTTP Error 429: Too Many Requests\n",
      "Finish Request from 09/22/2017 to 10/21/2017, Get 0 articles\n",
      "HTTP Error 429: Too Many Requests\n",
      "HTTP Error 429: Too Many Requests\n",
      "Finish Request from 10/22/2017 to 11/20/2017, Get 0 articles\n",
      "HTTP Error 429: Too Many Requests\n",
      "HTTP Error 429: Too Many Requests\n",
      "Finish Request from 11/21/2017 to 12/20/2017, Get 0 articles\n",
      "HTTP Error 429: Too Many Requests\n",
      "HTTP Error 429: Too Many Requests\n",
      "Finish Request from 12/21/2017 to 01/19/2018, Get 0 articles\n",
      "HTTP Error 429: Too Many Requests\n",
      "HTTP Error 429: Too Many Requests\n",
      "Finish Request from 01/20/2018 to 02/18/2018, Get 0 articles\n",
      "HTTP Error 429: Too Many Requests\n",
      "HTTP Error 429: Too Many Requests\n",
      "Finish Request from 02/19/2018 to 03/20/2018, Get 0 articles\n",
      "HTTP Error 429: Too Many Requests\n",
      "HTTP Error 429: Too Many Requests\n",
      "Finish Request from 03/21/2018 to 04/19/2018, Get 0 articles\n",
      "HTTP Error 429: Too Many Requests\n",
      "HTTP Error 429: Too Many Requests\n",
      "Finish Request from 04/20/2018 to 05/19/2018, Get 0 articles\n",
      "HTTP Error 429: Too Many Requests\n",
      "HTTP Error 429: Too Many Requests\n",
      "Finish Request from 05/20/2018 to 06/18/2018, Get 0 articles\n",
      "HTTP Error 429: Too Many Requests\n",
      "HTTP Error 429: Too Many Requests\n",
      "Finish Request from 06/19/2018 to 07/18/2018, Get 0 articles\n",
      "HTTP Error 429: Too Many Requests\n",
      "HTTP Error 429: Too Many Requests\n",
      "Finish Request from 07/19/2018 to 08/17/2018, Get 0 articles\n",
      "HTTP Error 429: Too Many Requests\n",
      "HTTP Error 429: Too Many Requests\n",
      "Finish Request from 08/18/2018 to 09/16/2018, Get 0 articles\n",
      "HTTP Error 429: Too Many Requests\n",
      "HTTP Error 429: Too Many Requests\n",
      "Finish Request from 09/17/2018 to 10/16/2018, Get 0 articles\n",
      "HTTP Error 429: Too Many Requests\n",
      "HTTP Error 429: Too Many Requests\n",
      "Finish Request from 10/17/2018 to 11/15/2018, Get 0 articles\n",
      "HTTP Error 429: Too Many Requests\n",
      "HTTP Error 429: Too Many Requests\n",
      "Finish Request from 11/16/2018 to 12/15/2018, Get 0 articles\n",
      "HTTP Error 429: Too Many Requests\n",
      "HTTP Error 429: Too Many Requests\n",
      "Finish Request from 12/16/2018 to 01/14/2019, Get 0 articles\n",
      "HTTP Error 429: Too Many Requests\n",
      "HTTP Error 429: Too Many Requests\n",
      "Finish Request from 01/15/2019 to 02/13/2019, Get 0 articles\n",
      "HTTP Error 429: Too Many Requests\n",
      "HTTP Error 429: Too Many Requests\n",
      "Finish Request from 02/14/2019 to 03/15/2019, Get 0 articles\n",
      "HTTP Error 429: Too Many Requests\n",
      "HTTP Error 429: Too Many Requests\n",
      "Finish Request from 03/16/2019 to 04/14/2019, Get 0 articles\n",
      "HTTP Error 429: Too Many Requests\n",
      "HTTP Error 429: Too Many Requests\n",
      "Finish Request from 04/15/2019 to 05/14/2019, Get 0 articles\n",
      "HTTP Error 429: Too Many Requests\n",
      "HTTP Error 429: Too Many Requests\n",
      "Finish Request from 05/15/2019 to 06/13/2019, Get 0 articles\n",
      "HTTP Error 429: Too Many Requests\n",
      "HTTP Error 429: Too Many Requests\n",
      "Finish Request from 06/14/2019 to 07/13/2019, Get 0 articles\n",
      "HTTP Error 429: Too Many Requests\n",
      "HTTP Error 429: Too Many Requests\n",
      "Finish Request from 07/14/2019 to 08/12/2019, Get 0 articles\n",
      "HTTP Error 429: Too Many Requests\n",
      "HTTP Error 429: Too Many Requests\n",
      "Finish Request from 08/13/2019 to 09/11/2019, Get 0 articles\n",
      "HTTP Error 429: Too Many Requests\n",
      "HTTP Error 429: Too Many Requests\n",
      "Finish Request from 09/12/2019 to 10/11/2019, Get 0 articles\n",
      "HTTP Error 429: Too Many Requests\n",
      "HTTP Error 429: Too Many Requests\n",
      "Finish Request from 10/12/2019 to 11/10/2019, Get 0 articles\n",
      "HTTP Error 429: Too Many Requests\n",
      "HTTP Error 429: Too Many Requests\n",
      "Finish Request from 11/11/2019 to 12/10/2019, Get 0 articles\n",
      "HTTP Error 429: Too Many Requests\n",
      "HTTP Error 429: Too Many Requests\n",
      "Finish Request from 12/11/2019 to 01/09/2020, Get 0 articles\n",
      "HTTP Error 429: Too Many Requests\n",
      "HTTP Error 429: Too Many Requests\n",
      "Finish Request from 01/10/2020 to 02/08/2020, Get 0 articles\n",
      "HTTP Error 429: Too Many Requests\n",
      "HTTP Error 429: Too Many Requests\n",
      "Finish Request from 02/09/2020 to 03/09/2020, Get 0 articles\n",
      "HTTP Error 429: Too Many Requests\n",
      "HTTP Error 429: Too Many Requests\n",
      "Finish Request from 03/10/2020 to 04/08/2020, Get 0 articles\n",
      "HTTP Error 429: Too Many Requests\n",
      "HTTP Error 429: Too Many Requests\n",
      "Finish Request from 04/09/2020 to 05/08/2020, Get 0 articles\n",
      "HTTP Error 429: Too Many Requests\n",
      "HTTP Error 429: Too Many Requests\n",
      "Finish Request from 05/09/2020 to 06/07/2020, Get 0 articles\n",
      "HTTP Error 429: Too Many Requests\n",
      "HTTP Error 429: Too Many Requests\n",
      "Finish Request from 06/08/2020 to 07/07/2020, Get 0 articles\n",
      "HTTP Error 429: Too Many Requests\n",
      "HTTP Error 429: Too Many Requests\n",
      "Finish Request from 07/08/2020 to 08/06/2020, Get 0 articles\n",
      "HTTP Error 429: Too Many Requests\n",
      "HTTP Error 429: Too Many Requests\n",
      "Finish Request from 08/07/2020 to 09/05/2020, Get 0 articles\n",
      "HTTP Error 429: Too Many Requests\n",
      "HTTP Error 429: Too Many Requests\n",
      "Finish Request from 09/06/2020 to 10/05/2020, Get 0 articles\n",
      "HTTP Error 429: Too Many Requests\n",
      "HTTP Error 429: Too Many Requests\n",
      "Finish Request from 10/06/2020 to 11/04/2020, Get 0 articles\n",
      "HTTP Error 429: Too Many Requests\n",
      "HTTP Error 429: Too Many Requests\n",
      "Finish Request from 11/05/2020 to 12/04/2020, Get 0 articles\n",
      "HTTP Error 429: Too Many Requests\n",
      "HTTP Error 429: Too Many Requests\n",
      "Finish Request from 12/05/2020 to 01/03/2021, Get 0 articles\n",
      "HTTP Error 429: Too Many Requests\n",
      "HTTP Error 429: Too Many Requests\n",
      "Finish Request from 01/04/2021 to 02/02/2021, Get 0 articles\n",
      "HTTP Error 429: Too Many Requests\n",
      "HTTP Error 429: Too Many Requests\n",
      "Finish Request from 02/03/2021 to 03/04/2021, Get 0 articles\n",
      "HTTP Error 429: Too Many Requests\n",
      "HTTP Error 429: Too Many Requests\n",
      "Finish Request from 03/05/2021 to 04/03/2021, Get 0 articles\n",
      "HTTP Error 429: Too Many Requests\n",
      "HTTP Error 429: Too Many Requests\n",
      "Finish Request from 04/04/2021 to 04/16/2021, Get 0 articles\n"
     ]
    }
   ],
   "source": [
    "Bicoin_news = get_news(keyword,timeperiods, MAX_PAGE=MAX_PAGE, duplicate=True)"
   ]
  },
  {
   "cell_type": "code",
   "execution_count": 11,
   "metadata": {},
   "outputs": [],
   "source": [
    "df1 = pd.DataFrame(Bicoin_news)"
   ]
  },
  {
   "cell_type": "code",
   "execution_count": 14,
   "metadata": {},
   "outputs": [
    {
     "data": {
      "text/html": [
       "<div>\n",
       "<style scoped>\n",
       "    .dataframe tbody tr th:only-of-type {\n",
       "        vertical-align: middle;\n",
       "    }\n",
       "\n",
       "    .dataframe tbody tr th {\n",
       "        vertical-align: top;\n",
       "    }\n",
       "\n",
       "    .dataframe thead th {\n",
       "        text-align: right;\n",
       "    }\n",
       "</style>\n",
       "<table border=\"1\" class=\"dataframe\">\n",
       "  <thead>\n",
       "    <tr style=\"text-align: right;\">\n",
       "      <th></th>\n",
       "      <th>title</th>\n",
       "      <th>source</th>\n",
       "      <th>date</th>\n",
       "      <th>datetime</th>\n",
       "      <th>desc</th>\n",
       "      <th>link</th>\n",
       "    </tr>\n",
       "  </thead>\n",
       "  <tbody>\n",
       "    <tr>\n",
       "      <th>0</th>\n",
       "      <td>Bitcoin Start-Up Gets an Electronic Money Lice...</td>\n",
       "      <td>The New York Times</td>\n",
       "      <td>Apr 6, 2016</td>\n",
       "      <td>2016-04-06 04:00:00</td>\n",
       "      <td>Circle, which was founded in 2013, already all...</td>\n",
       "      <td>https://www.nytimes.com/2016/04/06/business/de...</td>\n",
       "    </tr>\n",
       "    <tr>\n",
       "      <th>1</th>\n",
       "      <td>Bitcoin Start-Up Gets an Electronic Money Lice...</td>\n",
       "      <td>The New York Times</td>\n",
       "      <td>Apr 6, 2016</td>\n",
       "      <td>2016-04-06 12:00:00</td>\n",
       "      <td>Circle, which was founded in 2013, already all...</td>\n",
       "      <td>https://www.nytimes.com/2016/04/06/business/de...</td>\n",
       "    </tr>\n",
       "    <tr>\n",
       "      <th>2</th>\n",
       "      <td>Barclays backs UK launch of Circle money trans...</td>\n",
       "      <td>The Guardian</td>\n",
       "      <td>Apr 6, 2016</td>\n",
       "      <td>2016-04-06 04:00:00</td>\n",
       "      <td>Circle uses bitcoin to facilitate transfers fo...</td>\n",
       "      <td>https://www.theguardian.com/uk-news/2016/apr/0...</td>\n",
       "    </tr>\n",
       "    <tr>\n",
       "      <th>3</th>\n",
       "      <td>Barclays backs UK launch of Circle money trans...</td>\n",
       "      <td>The Guardian</td>\n",
       "      <td>Apr 6, 2016</td>\n",
       "      <td>2016-04-06 12:00:00</td>\n",
       "      <td>Circle uses bitcoin to facilitate transfers fo...</td>\n",
       "      <td>https://www.theguardian.com/uk-news/2016/apr/0...</td>\n",
       "    </tr>\n",
       "    <tr>\n",
       "      <th>4</th>\n",
       "      <td>Circle Inks Bank Deal With Barclays After UK R...</td>\n",
       "      <td>CoinDesk</td>\n",
       "      <td>Apr 6, 2016</td>\n",
       "      <td>2016-04-06 04:00:00</td>\n",
       "      <td>Bitcoin wallet startup Circle has been granted...</td>\n",
       "      <td>https://www.coindesk.com/circle-inks-bank-deal...</td>\n",
       "    </tr>\n",
       "    <tr>\n",
       "      <th>...</th>\n",
       "      <td>...</td>\n",
       "      <td>...</td>\n",
       "      <td>...</td>\n",
       "      <td>...</td>\n",
       "      <td>...</td>\n",
       "      <td>...</td>\n",
       "    </tr>\n",
       "    <tr>\n",
       "      <th>7263</th>\n",
       "      <td>Blockchain for Babyboomers: What Stops Older G...</td>\n",
       "      <td>Cointelegraph</td>\n",
       "      <td>Jul 16, 2017</td>\n",
       "      <td>2017-07-16 12:00:00</td>\n",
       "      <td>Bitcoin users over 55 years old account for le...</td>\n",
       "      <td>https://cointelegraph.com/news/blockchain-for-...</td>\n",
       "    </tr>\n",
       "    <tr>\n",
       "      <th>7264</th>\n",
       "      <td>Beyond Bitcoin: Montreal's cryptocurrency comm...</td>\n",
       "      <td>Montreal Gazette</td>\n",
       "      <td>Jul 14, 2017</td>\n",
       "      <td>2017-07-14 04:00:00</td>\n",
       "      <td>The technology behind cryptocurrencies like Bi...</td>\n",
       "      <td>https://montrealgazette.com/business/local-bus...</td>\n",
       "    </tr>\n",
       "    <tr>\n",
       "      <th>7265</th>\n",
       "      <td>Beyond Bitcoin: Montreal's cryptocurrency comm...</td>\n",
       "      <td>Montreal Gazette</td>\n",
       "      <td>Jul 14, 2017</td>\n",
       "      <td>2017-07-14 12:00:00</td>\n",
       "      <td>The technology behind cryptocurrencies like Bi...</td>\n",
       "      <td>https://montrealgazette.com/business/local-bus...</td>\n",
       "    </tr>\n",
       "    <tr>\n",
       "      <th>7266</th>\n",
       "      <td>'Petya' ransomware strikes computer servers ac...</td>\n",
       "      <td>IBTimes India</td>\n",
       "      <td>Jun 28, 2017</td>\n",
       "      <td>2017-06-28 04:00:00</td>\n",
       "      <td>The malicious software locks up computer files...</td>\n",
       "      <td>https://www.ibtimes.co.in/petya-ransomware-str...</td>\n",
       "    </tr>\n",
       "    <tr>\n",
       "      <th>7267</th>\n",
       "      <td>'Petya' ransomware strikes computer servers ac...</td>\n",
       "      <td>IBTimes India</td>\n",
       "      <td>Jun 28, 2017</td>\n",
       "      <td>2017-06-28 12:00:00</td>\n",
       "      <td>The malicious software locks up computer files...</td>\n",
       "      <td>https://www.ibtimes.co.in/petya-ransomware-str...</td>\n",
       "    </tr>\n",
       "  </tbody>\n",
       "</table>\n",
       "<p>7268 rows × 6 columns</p>\n",
       "</div>"
      ],
      "text/plain": [
       "                                                  title              source  \\\n",
       "0     Bitcoin Start-Up Gets an Electronic Money Lice...  The New York Times   \n",
       "1     Bitcoin Start-Up Gets an Electronic Money Lice...  The New York Times   \n",
       "2     Barclays backs UK launch of Circle money trans...        The Guardian   \n",
       "3     Barclays backs UK launch of Circle money trans...        The Guardian   \n",
       "4     Circle Inks Bank Deal With Barclays After UK R...            CoinDesk   \n",
       "...                                                 ...                 ...   \n",
       "7263  Blockchain for Babyboomers: What Stops Older G...       Cointelegraph   \n",
       "7264  Beyond Bitcoin: Montreal's cryptocurrency comm...    Montreal Gazette   \n",
       "7265  Beyond Bitcoin: Montreal's cryptocurrency comm...    Montreal Gazette   \n",
       "7266  'Petya' ransomware strikes computer servers ac...       IBTimes India   \n",
       "7267  'Petya' ransomware strikes computer servers ac...       IBTimes India   \n",
       "\n",
       "              date            datetime  \\\n",
       "0      Apr 6, 2016 2016-04-06 04:00:00   \n",
       "1      Apr 6, 2016 2016-04-06 12:00:00   \n",
       "2      Apr 6, 2016 2016-04-06 04:00:00   \n",
       "3      Apr 6, 2016 2016-04-06 12:00:00   \n",
       "4      Apr 6, 2016 2016-04-06 04:00:00   \n",
       "...            ...                 ...   \n",
       "7263  Jul 16, 2017 2017-07-16 12:00:00   \n",
       "7264  Jul 14, 2017 2017-07-14 04:00:00   \n",
       "7265  Jul 14, 2017 2017-07-14 12:00:00   \n",
       "7266  Jun 28, 2017 2017-06-28 04:00:00   \n",
       "7267  Jun 28, 2017 2017-06-28 12:00:00   \n",
       "\n",
       "                                                   desc  \\\n",
       "0     Circle, which was founded in 2013, already all...   \n",
       "1     Circle, which was founded in 2013, already all...   \n",
       "2     Circle uses bitcoin to facilitate transfers fo...   \n",
       "3     Circle uses bitcoin to facilitate transfers fo...   \n",
       "4     Bitcoin wallet startup Circle has been granted...   \n",
       "...                                                 ...   \n",
       "7263  Bitcoin users over 55 years old account for le...   \n",
       "7264  The technology behind cryptocurrencies like Bi...   \n",
       "7265  The technology behind cryptocurrencies like Bi...   \n",
       "7266  The malicious software locks up computer files...   \n",
       "7267  The malicious software locks up computer files...   \n",
       "\n",
       "                                                   link  \n",
       "0     https://www.nytimes.com/2016/04/06/business/de...  \n",
       "1     https://www.nytimes.com/2016/04/06/business/de...  \n",
       "2     https://www.theguardian.com/uk-news/2016/apr/0...  \n",
       "3     https://www.theguardian.com/uk-news/2016/apr/0...  \n",
       "4     https://www.coindesk.com/circle-inks-bank-deal...  \n",
       "...                                                 ...  \n",
       "7263  https://cointelegraph.com/news/blockchain-for-...  \n",
       "7264  https://montrealgazette.com/business/local-bus...  \n",
       "7265  https://montrealgazette.com/business/local-bus...  \n",
       "7266  https://www.ibtimes.co.in/petya-ransomware-str...  \n",
       "7267  https://www.ibtimes.co.in/petya-ransomware-str...  \n",
       "\n",
       "[7268 rows x 6 columns]"
      ]
     },
     "execution_count": 14,
     "metadata": {},
     "output_type": "execute_result"
    }
   ],
   "source": [
    "df1"
   ]
  },
  {
   "cell_type": "code",
   "execution_count": 15,
   "metadata": {},
   "outputs": [],
   "source": [
    "df1.to_csv(\"../data/news/data/GoogleNews_{}_large_section1.csv\".format(keyword))"
   ]
  },
  {
   "cell_type": "markdown",
   "metadata": {},
   "source": [
    "### Now we have reached 06/24/2017 to 07/23/2017, should start from 07/24/2017"
   ]
  },
  {
   "cell_type": "code",
   "execution_count": 9,
   "metadata": {},
   "outputs": [
    {
     "data": {
      "text/plain": [
       "('06/24/2017', '07/23/2017')"
      ]
     },
     "execution_count": 9,
     "metadata": {},
     "output_type": "execute_result"
    }
   ],
   "source": [
    "timeperiods[15]"
   ]
  },
  {
   "cell_type": "code",
   "execution_count": 14,
   "metadata": {},
   "outputs": [
    {
     "name": "stdout",
     "output_type": "stream",
     "text": [
      "'NoneType' object is not iterable\n",
      "Finish Request from 07/24/2017 to 08/22/2017, Get 388 articles\n",
      "Finish Request from 08/23/2017 to 09/21/2017, Get 436 articles\n",
      "Finish Request from 09/22/2017 to 10/21/2017, Get 480 articles\n",
      "'NoneType' object is not iterable\n",
      "Finish Request from 10/22/2017 to 11/20/2017, Get 358 articles\n",
      "'NoneType' object is not iterable\n",
      "Finish Request from 11/21/2017 to 12/20/2017, Get 288 articles\n",
      "Finish Request from 12/21/2017 to 01/19/2018, Get 436 articles\n",
      "'NoneType' object is not iterable\n",
      "Finish Request from 01/20/2018 to 02/18/2018, Get 304 articles\n",
      "Finish Request from 02/19/2018 to 03/20/2018, Get 468 articles\n",
      "Finish Request from 03/21/2018 to 04/19/2018, Get 500 articles\n",
      "Finish Request from 04/20/2018 to 05/19/2018, Get 498 articles\n",
      "'NoneType' object is not iterable\n",
      "Finish Request from 05/20/2018 to 06/18/2018, Get 386 articles\n",
      "Finish Request from 06/19/2018 to 07/18/2018, Get 496 articles\n",
      "Finish Request from 07/19/2018 to 08/17/2018, Get 484 articles\n",
      "Finish Request from 08/18/2018 to 09/16/2018, Get 412 articles\n"
     ]
    }
   ],
   "source": [
    "Bicoin_news2 = get_news(keyword,timeperiods[16:30], MAX_PAGE=MAX_PAGE, duplicate=True)"
   ]
  },
  {
   "cell_type": "code",
   "execution_count": 15,
   "metadata": {},
   "outputs": [],
   "source": [
    "df2 = pd.DataFrame(Bicoin_news2)"
   ]
  },
  {
   "cell_type": "code",
   "execution_count": 20,
   "metadata": {},
   "outputs": [],
   "source": [
    "df2.to_csv(\"../data/news/data/GoogleNews_{}_large_section2.csv\".format(keyword))"
   ]
  },
  {
   "cell_type": "code",
   "execution_count": 22,
   "metadata": {},
   "outputs": [
    {
     "name": "stdout",
     "output_type": "stream",
     "text": [
      "Finish Request from 10/17/2018 to 11/15/2018, Get 494 articles\n",
      "Finish Request from 11/16/2018 to 12/15/2018, Get 496 articles\n",
      "Finish Request from 12/16/2018 to 01/14/2019, Get 494 articles\n",
      "Finish Request from 01/15/2019 to 02/13/2019, Get 496 articles\n",
      "Finish Request from 02/14/2019 to 03/15/2019, Get 498 articles\n",
      "Finish Request from 03/16/2019 to 04/14/2019, Get 500 articles\n",
      "Finish Request from 04/15/2019 to 05/14/2019, Get 446 articles\n",
      "Finish Request from 05/15/2019 to 06/13/2019, Get 498 articles\n",
      "Finish Request from 06/14/2019 to 07/13/2019, Get 486 articles\n",
      "Finish Request from 07/14/2019 to 08/12/2019, Get 500 articles\n",
      "Finish Request from 08/13/2019 to 09/11/2019, Get 498 articles\n",
      "Finish Request from 09/12/2019 to 10/11/2019, Get 500 articles\n",
      "Finish Request from 10/12/2019 to 11/10/2019, Get 500 articles\n",
      "Finish Request from 11/11/2019 to 12/10/2019, Get 468 articles\n"
     ]
    }
   ],
   "source": [
    "Bicoin_news3 = get_news(keyword,timeperiods[31:45], MAX_PAGE=MAX_PAGE, duplicate=True)"
   ]
  },
  {
   "cell_type": "code",
   "execution_count": 27,
   "metadata": {},
   "outputs": [],
   "source": [
    "df3= pd.DataFrame(Bitcoin_news3)\n",
    "df3.to_csv(\"../data/news/data/GoogleNews_{}_large_section3.csv\".format(keyword))"
   ]
  },
  {
   "cell_type": "code",
   "execution_count": 7,
   "metadata": {},
   "outputs": [
    {
     "name": "stdout",
     "output_type": "stream",
     "text": [
      "'NoneType' object is not iterable\n",
      "Finish Request from 09/17/2018 to 10/16/2018, Get 580 articles\n"
     ]
    }
   ],
   "source": [
    "Bitcoin_news3_append = get_news(keyword,timeperiods[30:31], MAX_PAGE=MAX_PAGE, duplicate=True)"
   ]
  },
  {
   "cell_type": "code",
   "execution_count": 8,
   "metadata": {},
   "outputs": [],
   "source": [
    "df3_append = pd.DataFrame(Bitcoin_news3_append)"
   ]
  },
  {
   "cell_type": "code",
   "execution_count": 12,
   "metadata": {},
   "outputs": [],
   "source": [
    "df3_append.to_csv(\"../data/news/data/GoogleNews_{}_large_section3_append.csv\".format(keyword))"
   ]
  },
  {
   "cell_type": "code",
   "execution_count": null,
   "metadata": {},
   "outputs": [],
   "source": [
    "Bicoin_news4 = get_news(keyword,timeperiods[45:55], MAX_PAGE=5, duplicate=True)"
   ]
  },
  {
   "cell_type": "code",
   "execution_count": null,
   "metadata": {},
   "outputs": [],
   "source": []
  }
 ],
 "metadata": {
  "kernelspec": {
   "display_name": "spider",
   "language": "python",
   "name": "spider"
  },
  "language_info": {
   "codemirror_mode": {
    "name": "ipython",
    "version": 3
   },
   "file_extension": ".py",
   "mimetype": "text/x-python",
   "name": "python",
   "nbconvert_exporter": "python",
   "pygments_lexer": "ipython3",
   "version": "3.8.5"
  }
 },
 "nbformat": 4,
 "nbformat_minor": 4
}
