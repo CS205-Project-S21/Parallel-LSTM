{
 "cells": [
  {
   "cell_type": "code",
   "execution_count": 1,
   "metadata": {},
   "outputs": [],
   "source": [
    "import sys\n",
    "import pandas as pd\n",
    "sys.path.append(\"../utils/\")\n",
    "from fetchgooglenews import GoogleNews\n",
    "import datetime\n",
    "import math\n",
    "import time"
   ]
  },
  {
   "cell_type": "code",
   "execution_count": 2,
   "metadata": {},
   "outputs": [],
   "source": [
    "startdate = datetime.date(2016,3,31)\n",
    "enddate = datetime.date(2021,4,16)"
   ]
  },
  {
   "cell_type": "code",
   "execution_count": 3,
   "metadata": {},
   "outputs": [],
   "source": [
    "def generate_periods(startdate, enddate, length=30):\n",
    "    totaldays = (enddate - startdate).days + 1\n",
    "    num_periods = math.ceil(totaldays/length)\n",
    "    output_dates = []\n",
    "    for i in range(0, num_periods):\n",
    "        if i < num_periods-1:\n",
    "            leftdate = startdate + datetime.timedelta(days=i*length)\n",
    "            rightdate = startdate + datetime.timedelta(days=((i+1)*length-1))\n",
    "        else:\n",
    "            leftdate = startdate + datetime.timedelta(days=i*length)\n",
    "            rightdate = enddate\n",
    "        leftdate_str = datetime.date.strftime(leftdate, \"%m/%d/%Y\")\n",
    "        rightdate_str = datetime.date.strftime(rightdate, \"%m/%d/%Y\")\n",
    "        output_dates.append((leftdate_str, rightdate_str))\n",
    "    return output_dates"
   ]
  },
  {
   "cell_type": "code",
   "execution_count": 4,
   "metadata": {},
   "outputs": [],
   "source": [
    "def get_news(keywords, time_periods, MAX_PAGE=5, duplicate=True, pause=2):\n",
    "    results_all = []\n",
    "    for leftdate, rightdate in time_periods:\n",
    "        # Duplicate will copy same article twice, and \n",
    "        googlenews = GoogleNews(lang='en', start=leftdate,end=rightdate, numperpage=50, duplicate=duplicate)\n",
    "        googlenews.search(keywords)\n",
    "        for i in range(2,MAX_PAGE+1):\n",
    "            googlenews.get_page(i)\n",
    "            if googlenews.failflag() == 1:\n",
    "                break\n",
    "        results_all.extend(googlenews.results())\n",
    "        print(\"Finish Request from {} to {}, Get {} articles\".format(leftdate, rightdate, len(googlenews.results())))\n",
    "        time.sleep(pause)\n",
    "    return results_all"
   ]
  },
  {
   "cell_type": "code",
   "execution_count": 5,
   "metadata": {},
   "outputs": [],
   "source": [
    "timeperiods = generate_periods(startdate,enddate,length=30)"
   ]
  },
  {
   "cell_type": "markdown",
   "metadata": {},
   "source": [
    "### Get Bitcoin news"
   ]
  },
  {
   "cell_type": "code",
   "execution_count": 7,
   "metadata": {},
   "outputs": [],
   "source": [
    "keyword = 'Bitcoin'\n",
    "output_file_name= \"../data/news/data/GoogleNews_{}_large.csv\".format(keyword)\n",
    "MAX_PAGE = 5"
   ]
  },
  {
   "cell_type": "code",
   "execution_count": null,
   "metadata": {},
   "outputs": [],
   "source": [
    "Bicoin_news = get_news(keyword,timeperiods, MAX_PAGE=MAX_PAGE, duplicate=True)"
   ]
  },
  {
   "cell_type": "code",
   "execution_count": null,
   "metadata": {},
   "outputs": [],
   "source": []
  }
 ],
 "metadata": {
  "kernelspec": {
   "display_name": "spider",
   "language": "python",
   "name": "spider"
  },
  "language_info": {
   "codemirror_mode": {
    "name": "ipython",
    "version": 3
   },
   "file_extension": ".py",
   "mimetype": "text/x-python",
   "name": "python",
   "nbconvert_exporter": "python",
   "pygments_lexer": "ipython3",
   "version": "3.8.5"
  }
 },
 "nbformat": 4,
 "nbformat_minor": 4
}
