{
 "cells": [
  {
   "cell_type": "markdown",
   "metadata": {},
   "source": [
    "Resources:\n",
    "https://rapidapi.com/microsoft-azure-org-microsoft-cognitive-services/api/bing-news-search1?endpoint=apiendpoint_2bef1167-41a0-4a2c-9b49-4be435bf94c5 "
   ]
  },
  {
   "cell_type": "code",
   "execution_count": 1,
   "metadata": {},
   "outputs": [],
   "source": [
    "import requests\n",
    "import json"
   ]
  },
  {
   "cell_type": "code",
   "execution_count": 2,
   "metadata": {},
   "outputs": [],
   "source": [
    "url = \"https://bing-news-search1.p.rapidapi.com/news/search\"\n",
    "\n",
    "querystring = {\"q\":\"Bitcoin\",\"freshness\":\"Week\",\"textFormat\":\"Raw\",\"safeSearch\":\"Off\"}\n",
    "\n",
    "headers = {\n",
    "    'x-bingapis-sdk': \"true\",\n",
    "    'x-rapidapi-key': \"67f58679fcmsh1d5d86c70be0778p1320e2jsn414d9154fae0\",\n",
    "    'x-rapidapi-host': \"bing-news-search1.p.rapidapi.com\"\n",
    "    }\n",
    "\n",
    "response = requests.request(\"GET\", url, headers=headers, params=querystring)"
   ]
  },
  {
   "cell_type": "code",
   "execution_count": 3,
   "metadata": {},
   "outputs": [],
   "source": [
    "body = json.loads(response.text)"
   ]
  },
  {
   "cell_type": "code",
   "execution_count": 4,
   "metadata": {},
   "outputs": [],
   "source": [
    "articles = body['value']"
   ]
  },
  {
   "cell_type": "code",
   "execution_count": 5,
   "metadata": {},
   "outputs": [
    {
     "data": {
      "text/plain": [
       "[{'_type': 'NewsArticle',\n",
       "  'name': \"Investors' on-chain activity hints at Bitcoin price cycle top above $166,000\",\n",
       "  'url': 'https://cointelegraph.com/news/investors-on-chain-activity-hints-at-bitcoin-price-cycle-top-above-166-000',\n",
       "  'image': {'_type': 'ImageObject',\n",
       "   'thumbnail': {'_type': 'ImageObject',\n",
       "    'contentUrl': 'https://www.bing.com/th?id=OVFT.Hga9RJIOcHkObTAjEJEyjy&pid=News',\n",
       "    'width': 700,\n",
       "    'height': 466}},\n",
       "  'description': 'The Bitcoin price cycle top would likely come in at price levels above $166,000, one key on-chain indicator suggests.',\n",
       "  'about': [{'_type': 'Thing',\n",
       "    'readLink': 'https://api.cognitive.microsoft.com/api/v7/entities/2d95ee9c-a8a0-d6fa-69b7-f6d996f0c946',\n",
       "    'name': 'Bitcoin'},\n",
       "   {'_type': 'Thing',\n",
       "    'readLink': 'https://api.cognitive.microsoft.com/api/v7/entities/7962ae3c-46a4-a659-f7d6-da89a0bb18c5',\n",
       "    'name': 'Investor'}],\n",
       "  'provider': [{'_type': 'Organization',\n",
       "    'name': 'CoinTelegraph',\n",
       "    'image': {'_type': 'ImageObject',\n",
       "     'thumbnail': {'_type': 'ImageObject',\n",
       "      'contentUrl': 'https://www.bing.com/th?id=AR_510b2feb36e7b4b7927f8419e1bc349e&pid=news'}}}],\n",
       "  'datePublished': '2021-04-17T10:14:00.0000000Z',\n",
       "  'category': 'Business'},\n",
       " {'_type': 'NewsArticle',\n",
       "  'name': 'When will Bitcoin price rally end? Here is what’s backing the BTC bull run',\n",
       "  'url': 'https://cointelegraph.com/news/when-will-bitcoin-price-rally-end-here-is-what-s-backing-the-btc-bull-run',\n",
       "  'image': {'_type': 'ImageObject',\n",
       "   'thumbnail': {'_type': 'ImageObject',\n",
       "    'contentUrl': 'https://www.bing.com/th?id=OVFT.IWfEqI4dUazRB-2FrFuwey&pid=News',\n",
       "    'width': 700,\n",
       "    'height': 466}},\n",
       "  'description': 'Speculation about the duration of the current run is endless, with Bitcoin now a stable news item even in the mainstream press. But what’s keeping the BTC price up? Is it simply the relentless slew of good news,',\n",
       "  'about': [{'_type': 'Thing',\n",
       "    'readLink': 'https://api.cognitive.microsoft.com/api/v7/entities/1fed0e76-8502-b92b-c0eb-be89568314be',\n",
       "    'name': 'Rally'},\n",
       "   {'_type': 'Thing',\n",
       "    'readLink': 'https://api.cognitive.microsoft.com/api/v7/entities/2d95ee9c-a8a0-d6fa-69b7-f6d996f0c946',\n",
       "    'name': 'Bitcoin'},\n",
       "   {'_type': 'Thing',\n",
       "    'readLink': 'https://api.cognitive.microsoft.com/api/v7/entities/619b6bc6-4800-c5d9-1bb6-d5a7f2b55383',\n",
       "    'name': 'Baku–Tbilisi–Ceyhan pipeline'}],\n",
       "  'provider': [{'_type': 'Organization',\n",
       "    'name': 'CoinTelegraph',\n",
       "    'image': {'_type': 'ImageObject',\n",
       "     'thumbnail': {'_type': 'ImageObject',\n",
       "      'contentUrl': 'https://www.bing.com/th?id=AR_510b2feb36e7b4b7927f8419e1bc349e&pid=news'}}}],\n",
       "  'datePublished': '2021-04-17T12:14:00.0000000Z',\n",
       "  'category': 'Business'},\n",
       " {'_type': 'NewsArticle',\n",
       "  'name': 'Bitcoin’s Green Haven Is Running Out of Surplus Electricity',\n",
       "  'url': 'https://www.msn.com/en-us/finance/markets/bitcoin-e2-80-99s-green-haven-is-running-out-of-surplus-electricity/ar-BB1fK759',\n",
       "  'image': {'_type': 'ImageObject',\n",
       "   'thumbnail': {'_type': 'ImageObject',\n",
       "    'contentUrl': 'https://www.bing.com/th?id=OVFT.O12a3vDLKnLaEY2eDjDm6S&pid=News',\n",
       "    'width': 700,\n",
       "    'height': 466}},\n",
       "  'description': 'The Nordic region is losing its edge in green Bitcoin mining, just as the industry faces growing scrutiny for its carbon emissions and everyone from Elon Musk to mom-and-pop investors pile in.',\n",
       "  'about': [{'_type': 'Thing',\n",
       "    'readLink': 'https://api.cognitive.microsoft.com/api/v7/entities/79464325-4ebf-5477-3c6f-975a3cb4d4a4',\n",
       "    'name': 'Michael Bloomberg'},\n",
       "   {'_type': 'Thing',\n",
       "    'readLink': 'https://api.cognitive.microsoft.com/api/v7/entities/2d95ee9c-a8a0-d6fa-69b7-f6d996f0c946',\n",
       "    'name': 'Bitcoin'},\n",
       "   {'_type': 'Thing',\n",
       "    'readLink': 'https://api.cognitive.microsoft.com/api/v7/entities/54f97459-2683-fab6-a846-4bdc4d73f6e4',\n",
       "    'name': 'Electricity'}],\n",
       "  'mentions': [{'_type': 'Thing', 'name': 'Michael Bloomberg'},\n",
       "   {'_type': 'Thing', 'name': 'Bitcoin'},\n",
       "   {'_type': 'Thing', 'name': 'Electricity'}],\n",
       "  'provider': [{'_type': 'Organization',\n",
       "    'name': 'Bloomberg on MSN.com',\n",
       "    'image': {'_type': 'ImageObject',\n",
       "     'thumbnail': {'_type': 'ImageObject',\n",
       "      'contentUrl': 'https://www.bing.com/th?id=AR_547fa6d5f7b56fc1176cbdaadbcad3bc&pid=news'}}}],\n",
       "  'datePublished': '2021-04-17T04:00:00.0000000Z',\n",
       "  'category': 'Business'},\n",
       " {'_type': 'NewsArticle',\n",
       "  'name': 'Turkey Bans Crypto, Bitcoin Value Drops',\n",
       "  'url': 'https://www.msn.com/en-us/finance/markets/turkey-bans-crypto-bitcoin-value-drops/ar-BB1fJCpz',\n",
       "  'image': {'_type': 'ImageObject',\n",
       "   'thumbnail': {'_type': 'ImageObject',\n",
       "    'contentUrl': 'https://www.bing.com/th?id=OVFT.Mmi62CzJ77TVOdX6Ac05cy&pid=News',\n",
       "    'width': 700,\n",
       "    'height': 466}},\n",
       "  'description': 'Bitcoin fell 4.32% in early trading Friday after Turkey banned the use of \"excessively volatile\" cryptocurrencies in commerce.',\n",
       "  'about': [{'_type': 'Thing',\n",
       "    'readLink': 'https://api.cognitive.microsoft.com/api/v7/entities/fbfb6418-e8cf-0d18-8b81-28d0fcccda7c',\n",
       "    'name': 'Turkey'},\n",
       "   {'_type': 'Thing',\n",
       "    'readLink': 'https://api.cognitive.microsoft.com/api/v7/entities/ed81335a-e940-c30c-046f-cd422e0fc04d',\n",
       "    'name': 'Bans, Jura'},\n",
       "   {'_type': 'Thing',\n",
       "    'readLink': 'https://api.cognitive.microsoft.com/api/v7/entities/5a3e1edc-2dad-cb76-0edb-e9069223919e',\n",
       "    'name': 'Drop'}],\n",
       "  'mentions': [{'_type': 'Thing', 'name': 'Turkey'},\n",
       "   {'_type': 'Thing', 'name': 'Bans, Jura'},\n",
       "   {'_type': 'Thing', 'name': 'Drop'}],\n",
       "  'provider': [{'_type': 'Organization',\n",
       "    'name': 'Newsweek on MSN.com',\n",
       "    'image': {'_type': 'ImageObject',\n",
       "     'thumbnail': {'_type': 'ImageObject',\n",
       "      'contentUrl': 'https://www.bing.com/th?id=AR_5b25f28f2c7ef602447f087e69de137e&pid=news'}}}],\n",
       "  'datePublished': '2021-04-16T19:48:35.0000000Z',\n",
       "  'video': {'_type': 'VideoObject',\n",
       "   'name': \"Internet Erupts With 'Dogecoin' Memes Following The Stock Value's Rise\",\n",
       "   'thumbnailUrl': 'https://www.bing.com/th?id=OVF.LG83eMgSwMpzqVKSF%2FjUTg&pid=News',\n",
       "   'thumbnail': {'_type': 'ImageObject', 'width': 300, 'height': 168}},\n",
       "  'category': 'Business'},\n",
       " {'_type': 'NewsArticle',\n",
       "  'name': \"Bitcoin tumbles 5% from record highs amid Turkey's crypto-payments ban starting April 30\",\n",
       "  'url': 'https://www.msn.com/en-us/money/markets/bitcoin-tumbles-5-from-record-highs-amid-turkey-s-crypto-payments-ban-starting-april-30/ar-BB1fJ6Rs',\n",
       "  'image': {'_type': 'ImageObject',\n",
       "   'thumbnail': {'_type': 'ImageObject',\n",
       "    'contentUrl': 'https://www.bing.com/th?id=OVFT.522Zi2e12K53RZe1RbSIRy&pid=News',\n",
       "    'width': 700,\n",
       "    'height': 367}},\n",
       "  'description': 'Bitcoin slipped as much as 5% Friday after reports that Turkey has banned the use of cryptocurrencies. The move stoked fear among investors of a precedent that other countries may follow. Cryptocurrencies have become popular in Turkey as a hedge against the lira.',\n",
       "  'about': [{'_type': 'Thing',\n",
       "    'readLink': 'https://api.cognitive.microsoft.com/api/v7/entities/fbfb6418-e8cf-0d18-8b81-28d0fcccda7c',\n",
       "    'name': 'Turkey'},\n",
       "   {'_type': 'Thing',\n",
       "    'readLink': 'https://api.cognitive.microsoft.com/api/v7/entities/2d95ee9c-a8a0-d6fa-69b7-f6d996f0c946',\n",
       "    'name': 'Bitcoin'}],\n",
       "  'mentions': [{'_type': 'Thing', 'name': 'Turkey'},\n",
       "   {'_type': 'Thing', 'name': 'Bitcoin'},\n",
       "   {'_type': 'Thing', 'name': 'Row'}],\n",
       "  'provider': [{'_type': 'Organization',\n",
       "    'name': 'Business Insider on MSN.com',\n",
       "    'image': {'_type': 'ImageObject',\n",
       "     'thumbnail': {'_type': 'ImageObject',\n",
       "      'contentUrl': 'https://www.bing.com/th?id=AR_0cfcddaa71cae000b74e3bf52bc84d78&pid=news'}}}],\n",
       "  'datePublished': '2021-04-16T20:00:21.0000000Z',\n",
       "  'category': 'Business'},\n",
       " {'_type': 'NewsArticle',\n",
       "  'name': 'Dogecoin Is Not the Next Bitcoin – But Here Are the Similarities',\n",
       "  'url': 'https://www.coindesk.com/is-dogecoin-the-next-bitcoin',\n",
       "  'image': {'_type': 'ImageObject',\n",
       "   'thumbnail': {'_type': 'ImageObject',\n",
       "    'contentUrl': 'https://www.bing.com/th?id=OVFT.P5hYy3csSRnAqJD6h0TXRS&pid=News',\n",
       "    'width': 700,\n",
       "    'height': 366}},\n",
       "  'description': 'To those of us who have been in the industry for a long time, Dogecoin has always been an oddity: A project that has exceptional approachability and appeal to new users while lacking most of the characteristics that make cryptocurrencies useful or valuable.',\n",
       "  'about': [{'_type': 'Thing',\n",
       "    'readLink': 'https://api.cognitive.microsoft.com/api/v7/entities/cbcf556f-952a-4665-bb95-0500b27f9976',\n",
       "    'name': 'Oklahoma'},\n",
       "   {'_type': 'Thing',\n",
       "    'readLink': 'https://api.cognitive.microsoft.com/api/v7/entities/2d95ee9c-a8a0-d6fa-69b7-f6d996f0c946',\n",
       "    'name': 'Bitcoin'},\n",
       "   {'_type': 'Thing',\n",
       "    'readLink': 'https://api.cognitive.microsoft.com/api/v7/entities/9247ee85-b84a-1520-28ee-0a0a8145d928',\n",
       "    'name': 'Dogecoin'}],\n",
       "  'provider': [{'_type': 'Organization',\n",
       "    'name': 'CoinDesk',\n",
       "    'image': {'_type': 'ImageObject',\n",
       "     'thumbnail': {'_type': 'ImageObject',\n",
       "      'contentUrl': 'https://www.bing.com/th?id=AR_01644cda6469bd7cb3b7f57d0651b315&pid=news'}}}],\n",
       "  'datePublished': '2021-04-16T18:05:00.0000000Z',\n",
       "  'category': 'ScienceAndTechnology'},\n",
       " {'_type': 'NewsArticle',\n",
       "  'name': 'How Bitcoin Is Edging Toward Financial Mainstream: QuickTake',\n",
       "  'url': 'https://www.washingtonpost.com/business/how-bitcoin-is-edging-toward-financial-mainstream-quicktake/2021/04/16/9d5479fe-9e8c-11eb-b2f5-7d2f0182750d_story.html',\n",
       "  'image': {'_type': 'ImageObject',\n",
       "   'thumbnail': {'_type': 'ImageObject',\n",
       "    'contentUrl': 'https://www.bing.com/th?id=OVFT.2xoCcSyvsg3rZsk8gojZqy&pid=News',\n",
       "    'width': 700,\n",
       "    'height': 466}},\n",
       "  'description': 'Bitcoin investors are having a wild ride. The best-known cryptocurrency rocketed to a series of records in 2021, just three years after its price collapsed. Once seen as the province of nerds, libertarians and drug dealers,',\n",
       "  'about': [{'_type': 'Thing',\n",
       "    'readLink': 'https://api.cognitive.microsoft.com/api/v7/entities/66c813e5-5c39-df6d-9520-112291bfef1f',\n",
       "    'name': 'Apple QuickTake'},\n",
       "   {'_type': 'Thing',\n",
       "    'readLink': 'https://api.cognitive.microsoft.com/api/v7/entities/821bae7c-8bb9-0314-e568-bc9710fe0280',\n",
       "    'name': 'Mainstream'},\n",
       "   {'_type': 'Thing',\n",
       "    'readLink': 'https://api.cognitive.microsoft.com/api/v7/entities/2d95ee9c-a8a0-d6fa-69b7-f6d996f0c946',\n",
       "    'name': 'Bitcoin'}],\n",
       "  'provider': [{'_type': 'Organization',\n",
       "    'name': 'Washington Post',\n",
       "    'image': {'_type': 'ImageObject',\n",
       "     'thumbnail': {'_type': 'ImageObject',\n",
       "      'contentUrl': 'https://www.bing.com/th?id=AR_04bc0c1c424cf64dec14a2982f0360ef&pid=news'}}}],\n",
       "  'datePublished': '2021-04-16T19:18:00.0000000Z'},\n",
       " {'_type': 'NewsArticle',\n",
       "  'name': 'Bitcoin Versus Bonds: Asymmetric Assets',\n",
       "  'url': 'https://www.nasdaq.com/articles/bitcoin-versus-bonds%3A-asymmetric-assets-2021-04-17',\n",
       "  'image': {'_type': 'ImageObject',\n",
       "   'thumbnail': {'_type': 'ImageObject',\n",
       "    'contentUrl': 'https://www.bing.com/th?id=OVFT.333rJFRBjVSx3wG6acchDy&pid=News',\n",
       "    'width': 700,\n",
       "    'height': 463}},\n",
       "  'description': 'The asymmetric upside of bitcoin is tangential to bonds’ asymmetric downside as traditional treasury assets collapse. This article is a republishing of “: Insid',\n",
       "  'about': [{'_type': 'Thing',\n",
       "    'readLink': 'https://api.cognitive.microsoft.com/api/v7/entities/0c3b7b2c-f40e-cba8-3bb6-29450420b38e',\n",
       "    'name': 'NASDAQ'},\n",
       "   {'_type': 'Thing',\n",
       "    'readLink': 'https://api.cognitive.microsoft.com/api/v7/entities/31b20bbb-a1f0-5fb1-3a83-f47a231a877c',\n",
       "    'name': 'Bond'},\n",
       "   {'_type': 'Thing',\n",
       "    'readLink': 'https://api.cognitive.microsoft.com/api/v7/entities/2d95ee9c-a8a0-d6fa-69b7-f6d996f0c946',\n",
       "    'name': 'Bitcoin'}],\n",
       "  'provider': [{'_type': 'Organization',\n",
       "    'name': 'Nasdaq',\n",
       "    'image': {'_type': 'ImageObject',\n",
       "     'thumbnail': {'_type': 'ImageObject',\n",
       "      'contentUrl': 'https://www.bing.com/th?id=AR_fefdf3a25667a335662ca70fc37bce11&pid=news'}}}],\n",
       "  'datePublished': '2021-04-17T00:00:00.0000000Z',\n",
       "  'category': 'Business'},\n",
       " {'_type': 'NewsArticle',\n",
       "  'name': 'Why Bitcoin Is The Only Cryptocurrency You Need',\n",
       "  'url': 'https://www.nasdaq.com/articles/why-bitcoin-is-the-only-cryptocurrency-you-need-2021-04-16',\n",
       "  'image': {'_type': 'ImageObject',\n",
       "   'thumbnail': {'_type': 'ImageObject',\n",
       "    'contentUrl': 'https://www.bing.com/th?id=OVFT.abPsHhfCKlZ3xiGc9JPUXS&pid=News',\n",
       "    'width': 700,\n",
       "    'height': 463}},\n",
       "  'description': 'In contrast to the thousands of different cryptocurrencies that have emerged since the 2017 Initial Coin Offering boom, Bitcoin remains the best choice for any investor looking to enter the space. Why is Bitcoin superior to all other cryptocurrencies?',\n",
       "  'about': [{'_type': 'Thing',\n",
       "    'readLink': 'https://api.cognitive.microsoft.com/api/v7/entities/0c3b7b2c-f40e-cba8-3bb6-29450420b38e',\n",
       "    'name': 'NASDAQ'},\n",
       "   {'_type': 'Thing',\n",
       "    'readLink': 'https://api.cognitive.microsoft.com/api/v7/entities/2d95ee9c-a8a0-d6fa-69b7-f6d996f0c946',\n",
       "    'name': 'Bitcoin'},\n",
       "   {'_type': 'Thing',\n",
       "    'readLink': 'https://api.cognitive.microsoft.com/api/v7/entities/4d57f5bf-e513-467a-90e6-b18a96600e37',\n",
       "    'name': 'Cryptocurrency'}],\n",
       "  'provider': [{'_type': 'Organization',\n",
       "    'name': 'Nasdaq',\n",
       "    'image': {'_type': 'ImageObject',\n",
       "     'thumbnail': {'_type': 'ImageObject',\n",
       "      'contentUrl': 'https://www.bing.com/th?id=AR_fefdf3a25667a335662ca70fc37bce11&pid=news'}}}],\n",
       "  'datePublished': '2021-04-16T18:25:00.0000000Z',\n",
       "  'video': {'_type': 'VideoObject',\n",
       "   'name': 'Why Bitcoin Is The Only Cryptocurrency You Need',\n",
       "   'thumbnailUrl': 'https://www.bing.com/th?id=OVF.thILrGjQYq1TZOWx83u%2Bnw&pid=News',\n",
       "   'thumbnail': {'_type': 'ImageObject', 'width': 300, 'height': 198}},\n",
       "  'category': 'ScienceAndTechnology'},\n",
       " {'_type': 'NewsArticle',\n",
       "  'name': \"Jim Cramer bought bitcoin when it was worth $12,000 - and said he recently sold half his 'phony' portfolio to pay off a mortgage\",\n",
       "  'url': 'https://www.msn.com/en-us/money/markets/jim-cramer-bought-bitcoin-when-it-was-worth-12-000-and-said-he-recently-sold-half-his-phony-portfolio-to-pay-off-a-mortgage/ar-BB1fIwLy',\n",
       "  'image': {'_type': 'ImageObject',\n",
       "   'thumbnail': {'_type': 'ImageObject',\n",
       "    'contentUrl': 'https://www.bing.com/th?id=OVFT.R0XCkx9Pa2dd_VihJzFONi&pid=News',\n",
       "    'width': 600,\n",
       "    'height': 315}},\n",
       "  'description': '\"I paid off a mortgage yesterday with it,\" the \\'Mad Money\\' host said Thursday on CNBC, adding that selling half his portfolio helped him.',\n",
       "  'about': [{'_type': 'Thing',\n",
       "    'readLink': 'https://api.cognitive.microsoft.com/api/v7/entities/fbdf4273-67b3-9ad7-89ed-851921755241',\n",
       "    'name': 'Jim Cramer'}],\n",
       "  'mentions': [{'_type': 'Thing', 'name': 'Jim Cramer'},\n",
       "   {'_type': 'Thing', 'name': 'Portfolio'},\n",
       "   {'_type': 'Thing', 'name': 'Bitcoin'}],\n",
       "  'provider': [{'_type': 'Organization',\n",
       "    'name': 'Business Insider on MSN.com',\n",
       "    'image': {'_type': 'ImageObject',\n",
       "     'thumbnail': {'_type': 'ImageObject',\n",
       "      'contentUrl': 'https://www.bing.com/th?id=AR_0cfcddaa71cae000b74e3bf52bc84d78&pid=news'}}}],\n",
       "  'datePublished': '2021-04-16T19:08:52.0000000Z',\n",
       "  'video': {'_type': 'VideoObject',\n",
       "   'name': 'Jim Cramer sold some of his bitcoin to pay off a mortgage',\n",
       "   'thumbnailUrl': 'https://www.bing.com/th?id=OVF.d%2FHbUPFzEC%2Fy9Q46jQTbuA&pid=News',\n",
       "   'motionThumbnailUrl': 'https://www.bing.com/th?id=OMB.2Xt66GBA8UMJSg&pid=News',\n",
       "   'thumbnail': {'_type': 'ImageObject', 'width': 600, 'height': 337}},\n",
       "  'category': 'Business'}]"
      ]
     },
     "execution_count": 5,
     "metadata": {},
     "output_type": "execute_result"
    }
   ],
   "source": [
    "articles"
   ]
  },
  {
   "cell_type": "code",
   "execution_count": 6,
   "metadata": {},
   "outputs": [
    {
     "name": "stdout",
     "output_type": "stream",
     "text": [
      "10\n"
     ]
    }
   ],
   "source": [
    "print(len(articles))"
   ]
  },
  {
   "cell_type": "code",
   "execution_count": 7,
   "metadata": {},
   "outputs": [],
   "source": [
    "news1 = articles[0]"
   ]
  },
  {
   "cell_type": "code",
   "execution_count": 8,
   "metadata": {},
   "outputs": [
    {
     "data": {
      "text/plain": [
       "dict_keys(['_type', 'name', 'url', 'image', 'description', 'about', 'provider', 'datePublished', 'category'])"
      ]
     },
     "execution_count": 8,
     "metadata": {},
     "output_type": "execute_result"
    }
   ],
   "source": [
    "news1.keys()"
   ]
  },
  {
   "cell_type": "code",
   "execution_count": 9,
   "metadata": {},
   "outputs": [
    {
     "name": "stdout",
     "output_type": "stream",
     "text": [
      "_type: NewsArticle\n",
      "name: Investors' on-chain activity hints at Bitcoin price cycle top above $166,000\n",
      "url: https://cointelegraph.com/news/investors-on-chain-activity-hints-at-bitcoin-price-cycle-top-above-166-000\n",
      "Description: The Bitcoin price cycle top would likely come in at price levels above $166,000, one key on-chain indicator suggests.\n"
     ]
    }
   ],
   "source": [
    "print('_type:',news1['_type'])\n",
    "print('name:',news1['name'])\n",
    "print('url:',news1['url'])\n",
    "print('Description:',news1['description'])"
   ]
  },
  {
   "cell_type": "code",
   "execution_count": 10,
   "metadata": {},
   "outputs": [
    {
     "name": "stdout",
     "output_type": "stream",
     "text": [
      "provider: CoinTelegraph\n",
      "datePublished: 2021-04-17T10:14:00.0000000Z\n",
      "category: Business\n"
     ]
    }
   ],
   "source": [
    "print('provider:',news1['provider'][0]['name'])\n",
    "print('datePublished:',news1['datePublished'])\n",
    "print('category:',news1['category'])"
   ]
  }
 ],
 "metadata": {
  "kernelspec": {
   "display_name": "spider",
   "language": "python",
   "name": "spider"
  },
  "language_info": {
   "codemirror_mode": {
    "name": "ipython",
    "version": 3
   },
   "file_extension": ".py",
   "mimetype": "text/x-python",
   "name": "python",
   "nbconvert_exporter": "python",
   "pygments_lexer": "ipython3",
   "version": "3.8.5"
  }
 },
 "nbformat": 4,
 "nbformat_minor": 4
}
