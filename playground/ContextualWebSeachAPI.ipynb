{
 "cells": [
  {
   "cell_type": "markdown",
   "metadata": {},
   "source": [
    "Resources:\n",
    "\n",
    "https://rapidapi.com/contextualwebsearch/api/web-search?endpoint=apiendpoint_b8b43008-dd94-4b86-8fd0-26d70a4e870b\n",
    "\n",
    "Supported date format:\n",
    "\n",
    "https://www.c-sharpcorner.com/blogs/date-and-time-format-in-c-sharp-programming1"
   ]
  },
  {
   "cell_type": "code",
   "execution_count": 1,
   "metadata": {},
   "outputs": [],
   "source": [
    "import requests\n",
    "import json"
   ]
  },
  {
   "cell_type": "code",
   "execution_count": 19,
   "metadata": {},
   "outputs": [],
   "source": [
    "url = \"https://contextualwebsearch-websearch-v1.p.rapidapi.com/api/search/NewsSearchAPI\"\n",
    "\n",
    "keyword = \"Bitcoin\"\n",
    "startdate = \"04/01/2021\"\n",
    "enddate = \"04/05/2021\"\n",
    "\n",
    "querystring = {\"q\":keyword,\"pageNumber\":\"1\",\"pageSize\":\"50\",\"autoCorrect\":\"true\",\"fromPublishedDate\":startdate,\n",
    "               \"toPublishedDate\":enddate}\n",
    "\n",
    "headers = {\n",
    "    'x-rapidapi-key': \"67f58679fcmsh1d5d86c70be0778p1xxxxxx\",\n",
    "    'x-rapidapi-host': \"contextualwebsearch-websearch-v1.p.rapidapi.com\"\n",
    "    }\n",
    "\n",
    "response = requests.request(\"GET\", url, headers=headers, params=querystring)"
   ]
  },
  {
   "cell_type": "code",
   "execution_count": 20,
   "metadata": {},
   "outputs": [],
   "source": [
    "body = json.loads(response.text)"
   ]
  },
  {
   "cell_type": "code",
   "execution_count": 21,
   "metadata": {},
   "outputs": [],
   "source": [
    "articles = body[\"value\"]"
   ]
  },
  {
   "cell_type": "code",
   "execution_count": 22,
   "metadata": {},
   "outputs": [
    {
     "data": {
      "text/plain": [
       "50"
      ]
     },
     "execution_count": 22,
     "metadata": {},
     "output_type": "execute_result"
    }
   ],
   "source": [
    "len(articles)"
   ]
  },
  {
   "cell_type": "code",
   "execution_count": 40,
   "metadata": {},
   "outputs": [],
   "source": [
    "news1 = articles[29]"
   ]
  },
  {
   "cell_type": "code",
   "execution_count": 41,
   "metadata": {},
   "outputs": [
    {
     "name": "stdout",
     "output_type": "stream",
     "text": [
      "dict_keys(['id', 'title', 'url', 'description', 'body', 'keywords', 'language', 'isSafe', 'datePublished', 'provider', 'image'])\n"
     ]
    }
   ],
   "source": [
    "print(news1.keys())"
   ]
  },
  {
   "cell_type": "code",
   "execution_count": 42,
   "metadata": {},
   "outputs": [
    {
     "name": "stdout",
     "output_type": "stream",
     "text": [
      "id: 1481293733237490685\n",
      "title: JPMorgan Believes Bitcoin Could Reach $130,000\n",
      "url: https://usethebitcoin.com/jpmorgan-believes-bitcoin-could-reach-130000/\n",
      "Description: JPMorgan believes that Bitcoin (BTC) adoption could push the prices of the virtual currency even higher.\n",
      "keywords: \n"
     ]
    }
   ],
   "source": [
    "print('id:',news1['id'])\n",
    "print('title:',news1['title'])\n",
    "print('url:',news1['url'])\n",
    "print('Description:',news1['description'])\n",
    "print('keywords:',news1['keywords'])"
   ]
  },
  {
   "cell_type": "code",
   "execution_count": 43,
   "metadata": {},
   "outputs": [
    {
     "name": "stdout",
     "output_type": "stream",
     "text": [
      "body: JPMorgan believes that Bitcoin (BTC) adoption could push the prices of the virtual currency even higher. In a recent report, JPMorgan explains that new institutional investors could enter the market as volatility declines for Bitcoin.\n",
      "Bitcoin Adoption Could Push its Price to $130k Says JPMorgan\n",
      "JPMorgan is bullish about Bitcoindespite a whole year in which digital assets have been growing and reaching massively high prices. The investment bank considers that decreasing volatility in Bitcoin could be very positive to attract a larger number of investors.\n",
      "The financial institution explained that one of the main entry barriers for institutions was the volatility experienced by BTC. This is true from a risk management point of view, making it difficult for larger investors to manage risk and handle their portfolio and investment in Bitcoin.\n",
      "However, the bank claims that Bitcoins volatility is normalizing. This could be very positive for the digital currency if it wants to attract new investors. Many large companies are searching for a way to allocate part of their portfolio in Bitcoin.\n",
      "Furthermore, JPMorgan described that gold has been negatively impacted by Bitcoins growth in recent months. Since mid-October, gold has seen $20 billion in outflows while Bitcoin received $7 billion in fund inflows.\n",
      "The bank\n",
      "said\n",
      ":\n",
      "Considering how big the financial investment into gold is, any such crowding out of gold as an alternative currency implies big upside for Bitcoin over the long term. Mechanically, the Bitcoin price would have to rise to $130,000 to match the total private sector investment in gold.\n",
      "We have also seen other cryptocurrencies expanding as well, and not only Bitcoin. Ethereum (ETH), the second-largest virtual currency in the world, was able to surpass $2,000 once again after the recent bullish news from Visa.\n",
      "The company announced that it will start offering USD Coin (USDC) transactions and that would be working on top of the Ethereum network. According to Greg Waisman, the co-founder and COO of the global payment network Mercuryo, this is certainly massive news for Ethereum as financial firms adopt virtual currencies.\n",
      "Furthermore, Waisman stated that Ethereum price has performed well over the last several days and the recent surge in its price brought a massive increase in volume. In the future, Ethereum 2.0 could be a major improvement for the network. This would help ETH process all the necessary transactions for millions of individuals all around the world.\n"
     ]
    }
   ],
   "source": [
    "print('body:',news1['body'])"
   ]
  },
  {
   "cell_type": "code",
   "execution_count": 44,
   "metadata": {},
   "outputs": [
    {
     "name": "stdout",
     "output_type": "stream",
     "text": [
      "datePublished: 2021-04-02T06:29:06\n",
      "provider: usethebitcoin\n"
     ]
    }
   ],
   "source": [
    "print('datePublished:',news1['datePublished'])\n",
    "print('provider:',news1['provider']['name'])"
   ]
  },
  {
   "cell_type": "code",
   "execution_count": null,
   "metadata": {},
   "outputs": [],
   "source": []
  }
 ],
 "metadata": {
  "kernelspec": {
   "display_name": "spider",
   "language": "python",
   "name": "spider"
  },
  "language_info": {
   "codemirror_mode": {
    "name": "ipython",
    "version": 3
   },
   "file_extension": ".py",
   "mimetype": "text/x-python",
   "name": "python",
   "nbconvert_exporter": "python",
   "pygments_lexer": "ipython3",
   "version": "3.8.5"
  }
 },
 "nbformat": 4,
 "nbformat_minor": 4
}
