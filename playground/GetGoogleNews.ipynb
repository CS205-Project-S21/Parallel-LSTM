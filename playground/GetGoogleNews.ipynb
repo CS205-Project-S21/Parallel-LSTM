{
 "cells": [
  {
   "cell_type": "code",
   "execution_count": 1,
   "metadata": {},
   "outputs": [],
   "source": [
    "import sys\n",
    "import pandas as pd"
   ]
  },
  {
   "cell_type": "code",
   "execution_count": 2,
   "metadata": {},
   "outputs": [],
   "source": [
    "sys.path.append(\"../utils/\")"
   ]
  },
  {
   "cell_type": "code",
   "execution_count": 3,
   "metadata": {},
   "outputs": [],
   "source": [
    "from fetchgooglenews import GoogleNews"
   ]
  },
  {
   "cell_type": "markdown",
   "metadata": {},
   "source": [
    "### Fetch News into Pandas DateFrame"
   ]
  },
  {
   "cell_type": "code",
   "execution_count": 4,
   "metadata": {},
   "outputs": [],
   "source": [
    "keyword = \"Bitcoin\"\n",
    "startdate = \"02/01/2020\"\n",
    "enddate = \"02/28/2020\"\n",
    "output_file_name= \"../data/news/data/GoogleNews_{}_small.csv\".format(keyword)\n",
    "\n",
    "MAX_PAGE = 5"
   ]
  },
  {
   "cell_type": "code",
   "execution_count": 14,
   "metadata": {},
   "outputs": [],
   "source": [
    "googlenews = GoogleNews(lang='en', start=startdate,end=enddate, numperpage=50)"
   ]
  },
  {
   "cell_type": "code",
   "execution_count": 15,
   "metadata": {},
   "outputs": [],
   "source": [
    "googlenews.search(keyword)"
   ]
  },
  {
   "cell_type": "code",
   "execution_count": 16,
   "metadata": {},
   "outputs": [
    {
     "name": "stdout",
     "output_type": "stream",
     "text": [
      "2\n",
      "3\n",
      "4\n",
      "'NoneType' object is not iterable\n"
     ]
    }
   ],
   "source": [
    "for i in range(2,MAX_PAGE+1):\n",
    "    googlenews.get_page(i)\n",
    "    if googlenews.failflag() == 1:\n",
    "        break\n",
    "    print(i)"
   ]
  },
  {
   "cell_type": "code",
   "execution_count": 17,
   "metadata": {},
   "outputs": [],
   "source": [
    "df1 = pd.DataFrame(googlenews.results())"
   ]
  },
  {
   "cell_type": "code",
   "execution_count": 18,
   "metadata": {},
   "outputs": [
    {
     "data": {
      "text/html": [
       "<div>\n",
       "<style scoped>\n",
       "    .dataframe tbody tr th:only-of-type {\n",
       "        vertical-align: middle;\n",
       "    }\n",
       "\n",
       "    .dataframe tbody tr th {\n",
       "        vertical-align: top;\n",
       "    }\n",
       "\n",
       "    .dataframe thead th {\n",
       "        text-align: right;\n",
       "    }\n",
       "</style>\n",
       "<table border=\"1\" class=\"dataframe\">\n",
       "  <thead>\n",
       "    <tr style=\"text-align: right;\">\n",
       "      <th></th>\n",
       "      <th>title</th>\n",
       "      <th>source</th>\n",
       "      <th>date</th>\n",
       "      <th>datetime</th>\n",
       "      <th>desc</th>\n",
       "      <th>link</th>\n",
       "    </tr>\n",
       "  </thead>\n",
       "  <tbody>\n",
       "    <tr>\n",
       "      <th>0</th>\n",
       "      <td>Bitcoin Has Crashed—Now What?</td>\n",
       "      <td>Forbes</td>\n",
       "      <td>Feb 27, 2020</td>\n",
       "      <td>2020-02-27</td>\n",
       "      <td>Bitcoin and the wider cryptocurrency market cr...</td>\n",
       "      <td>https://www.forbes.com/sites/billybambrough/20...</td>\n",
       "    </tr>\n",
       "    <tr>\n",
       "      <th>1</th>\n",
       "      <td>Over $190M in Bitcoin Liquidated on BitMEX Ami...</td>\n",
       "      <td>CoinDesk</td>\n",
       "      <td>Feb 26, 2020</td>\n",
       "      <td>2020-02-26</td>\n",
       "      <td>Bitcoin liquidations on BitMEX. Source: Skew A...</td>\n",
       "      <td>https://www.coindesk.com/over-190-million-bitc...</td>\n",
       "    </tr>\n",
       "    <tr>\n",
       "      <th>2</th>\n",
       "      <td>Does China Control Bitcoin and Ethereum?</td>\n",
       "      <td>Finance Magnates</td>\n",
       "      <td>Feb 28, 2020</td>\n",
       "      <td>2020-02-28</td>\n",
       "      <td>Does China Control Bitcoin and Ethereum? BTC's...</td>\n",
       "      <td>https://www.financemagnates.com/cryptocurrency...</td>\n",
       "    </tr>\n",
       "    <tr>\n",
       "      <th>3</th>\n",
       "      <td>Legendary BitMEX Trader Eyes 200% Rally in Bit...</td>\n",
       "      <td>Ethereum World News</td>\n",
       "      <td>Feb 18, 2020</td>\n",
       "      <td>2020-02-18</td>\n",
       "      <td>If you've been on Crypto Twitter at all, ever,...</td>\n",
       "      <td>https://en.ethereumworldnews.com/legendary-bit...</td>\n",
       "    </tr>\n",
       "    <tr>\n",
       "      <th>4</th>\n",
       "      <td>Peter Schiff ‘Concedes’ Bitcoin Profitable, Bu...</td>\n",
       "      <td>Cointelegraph</td>\n",
       "      <td>Feb 18, 2020</td>\n",
       "      <td>2020-02-18</td>\n",
       "      <td>Peter Schiff 'Concedes' Bitcoin Profitable, Bu...</td>\n",
       "      <td>https://cointelegraph.com/news/peter-schiff-co...</td>\n",
       "    </tr>\n",
       "    <tr>\n",
       "      <th>...</th>\n",
       "      <td>...</td>\n",
       "      <td>...</td>\n",
       "      <td>...</td>\n",
       "      <td>...</td>\n",
       "      <td>...</td>\n",
       "      <td>...</td>\n",
       "    </tr>\n",
       "    <tr>\n",
       "      <th>181</th>\n",
       "      <td>Safestore makes solid start to 2020 as occupan...</td>\n",
       "      <td>Proactive Investors</td>\n",
       "      <td>Feb 13, 2020</td>\n",
       "      <td>2020-02-13</td>\n",
       "      <td>Bitcoin and Ethereum ETPs from ETC Group and H...</td>\n",
       "      <td>http://www.proactiveinvestors.co.uk/companies/...</td>\n",
       "    </tr>\n",
       "    <tr>\n",
       "      <th>182</th>\n",
       "      <td>UK adopts powers to enforce coronavirus quaran...</td>\n",
       "      <td>Financial Times</td>\n",
       "      <td>Feb 10, 2020</td>\n",
       "      <td>2020-02-10</td>\n",
       "      <td>Bitcoin is making all Revolut's dreams come tr...</td>\n",
       "      <td>https://www.ft.com/content/34749410-4be4-11ea-...</td>\n",
       "    </tr>\n",
       "    <tr>\n",
       "      <th>183</th>\n",
       "      <td>Britain’s green light for HS2 is worth the risks</td>\n",
       "      <td>Financial Times</td>\n",
       "      <td>Feb 11, 2020</td>\n",
       "      <td>2020-02-11</td>\n",
       "      <td>Bitcoin is making all Revolut's dreams come tr...</td>\n",
       "      <td>https://www.ft.com/content/b3c0a756-4cc3-11ea-...</td>\n",
       "    </tr>\n",
       "    <tr>\n",
       "      <th>184</th>\n",
       "      <td>China halts National Digital Currency Plans du...</td>\n",
       "      <td>Asia Crypto Today</td>\n",
       "      <td>Feb 26, 2020</td>\n",
       "      <td>2020-02-26</td>\n",
       "      <td>Bitcoin (BTC): What is Bitcoin? Cardano (ADA):...</td>\n",
       "      <td>https://www.asiacryptotoday.com/china-halts-na...</td>\n",
       "    </tr>\n",
       "    <tr>\n",
       "      <th>185</th>\n",
       "      <td>Nigerian Agritech Startup, FoodLocker to Impro...</td>\n",
       "      <td>Technext</td>\n",
       "      <td>Feb 3, 2020</td>\n",
       "      <td>2020-02-03</td>\n",
       "      <td>Bitcoin Recent Prices. Bitcoin priceBTC ...</td>\n",
       "      <td>https://technext.ng/2020/02/03/nigerian-agrite...</td>\n",
       "    </tr>\n",
       "  </tbody>\n",
       "</table>\n",
       "<p>186 rows × 6 columns</p>\n",
       "</div>"
      ],
      "text/plain": [
       "                                                 title               source  \\\n",
       "0                        Bitcoin Has Crashed—Now What?               Forbes   \n",
       "1    Over $190M in Bitcoin Liquidated on BitMEX Ami...             CoinDesk   \n",
       "2             Does China Control Bitcoin and Ethereum?     Finance Magnates   \n",
       "3    Legendary BitMEX Trader Eyes 200% Rally in Bit...  Ethereum World News   \n",
       "4    Peter Schiff ‘Concedes’ Bitcoin Profitable, Bu...        Cointelegraph   \n",
       "..                                                 ...                  ...   \n",
       "181  Safestore makes solid start to 2020 as occupan...  Proactive Investors   \n",
       "182  UK adopts powers to enforce coronavirus quaran...      Financial Times   \n",
       "183   Britain’s green light for HS2 is worth the risks      Financial Times   \n",
       "184  China halts National Digital Currency Plans du...    Asia Crypto Today   \n",
       "185  Nigerian Agritech Startup, FoodLocker to Impro...             Technext   \n",
       "\n",
       "             date   datetime  \\\n",
       "0    Feb 27, 2020 2020-02-27   \n",
       "1    Feb 26, 2020 2020-02-26   \n",
       "2    Feb 28, 2020 2020-02-28   \n",
       "3    Feb 18, 2020 2020-02-18   \n",
       "4    Feb 18, 2020 2020-02-18   \n",
       "..            ...        ...   \n",
       "181  Feb 13, 2020 2020-02-13   \n",
       "182  Feb 10, 2020 2020-02-10   \n",
       "183  Feb 11, 2020 2020-02-11   \n",
       "184  Feb 26, 2020 2020-02-26   \n",
       "185   Feb 3, 2020 2020-02-03   \n",
       "\n",
       "                                                  desc  \\\n",
       "0    Bitcoin and the wider cryptocurrency market cr...   \n",
       "1    Bitcoin liquidations on BitMEX. Source: Skew A...   \n",
       "2    Does China Control Bitcoin and Ethereum? BTC's...   \n",
       "3    If you've been on Crypto Twitter at all, ever,...   \n",
       "4    Peter Schiff 'Concedes' Bitcoin Profitable, Bu...   \n",
       "..                                                 ...   \n",
       "181  Bitcoin and Ethereum ETPs from ETC Group and H...   \n",
       "182  Bitcoin is making all Revolut's dreams come tr...   \n",
       "183  Bitcoin is making all Revolut's dreams come tr...   \n",
       "184  Bitcoin (BTC): What is Bitcoin? Cardano (ADA):...   \n",
       "185        Bitcoin Recent Prices. Bitcoin priceBTC ...   \n",
       "\n",
       "                                                  link  \n",
       "0    https://www.forbes.com/sites/billybambrough/20...  \n",
       "1    https://www.coindesk.com/over-190-million-bitc...  \n",
       "2    https://www.financemagnates.com/cryptocurrency...  \n",
       "3    https://en.ethereumworldnews.com/legendary-bit...  \n",
       "4    https://cointelegraph.com/news/peter-schiff-co...  \n",
       "..                                                 ...  \n",
       "181  http://www.proactiveinvestors.co.uk/companies/...  \n",
       "182  https://www.ft.com/content/34749410-4be4-11ea-...  \n",
       "183  https://www.ft.com/content/b3c0a756-4cc3-11ea-...  \n",
       "184  https://www.asiacryptotoday.com/china-halts-na...  \n",
       "185  https://technext.ng/2020/02/03/nigerian-agrite...  \n",
       "\n",
       "[186 rows x 6 columns]"
      ]
     },
     "execution_count": 18,
     "metadata": {},
     "output_type": "execute_result"
    }
   ],
   "source": [
    "df1"
   ]
  },
  {
   "cell_type": "code",
   "execution_count": 19,
   "metadata": {},
   "outputs": [],
   "source": [
    "df1.to_csv(output_file_name, index=False)"
   ]
  },
  {
   "cell_type": "code",
   "execution_count": null,
   "metadata": {},
   "outputs": [],
   "source": []
  }
 ],
 "metadata": {
  "kernelspec": {
   "display_name": "spider",
   "language": "python",
   "name": "spider"
  },
  "language_info": {
   "codemirror_mode": {
    "name": "ipython",
    "version": 3
   },
   "file_extension": ".py",
   "mimetype": "text/x-python",
   "name": "python",
   "nbconvert_exporter": "python",
   "pygments_lexer": "ipython3",
   "version": "3.8.5"
  }
 },
 "nbformat": 4,
 "nbformat_minor": 4
}
