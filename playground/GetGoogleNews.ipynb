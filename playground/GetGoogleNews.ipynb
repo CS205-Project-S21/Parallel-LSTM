{
 "cells": [
  {
   "cell_type": "code",
   "execution_count": 1,
   "metadata": {},
   "outputs": [],
   "source": [
    "import sys\n",
    "import pandas as pd"
   ]
  },
  {
   "cell_type": "code",
   "execution_count": 2,
   "metadata": {},
   "outputs": [],
   "source": [
    "sys.path.append(\"../utils/\")"
   ]
  },
  {
   "cell_type": "code",
   "execution_count": 3,
   "metadata": {},
   "outputs": [],
   "source": [
    "from fetchgooglenews import GoogleNews"
   ]
  },
  {
   "cell_type": "markdown",
   "metadata": {},
   "source": [
    "### Fetch News into Pandas DateFrame"
   ]
  },
  {
   "cell_type": "code",
   "execution_count": 4,
   "metadata": {},
   "outputs": [],
   "source": [
    "keyword = \"Bitcoin\"\n",
    "startdate = \"02/01/2020\"\n",
    "enddate = \"02/28/2020\"\n",
    "output_file_name= \"../data/news/data/GoogleNews_{}_small.csv\".format(keyword)\n",
    "\n",
    "MAX_PAGE = 5"
   ]
  },
  {
   "cell_type": "code",
   "execution_count": 5,
   "metadata": {},
   "outputs": [],
   "source": [
    "googlenews = GoogleNews(lang='en', start=startdate,end=enddate, numperpage=50, duplicate=True)"
   ]
  },
  {
   "cell_type": "code",
   "execution_count": 9,
   "metadata": {},
   "outputs": [
    {
     "name": "stdout",
     "output_type": "stream",
     "text": [
      "HTTP Error 429: Too Many Requests\n"
     ]
    }
   ],
   "source": [
    "googlenews.search(keyword)"
   ]
  },
  {
   "cell_type": "code",
   "execution_count": 7,
   "metadata": {},
   "outputs": [
    {
     "name": "stdout",
     "output_type": "stream",
     "text": [
      "HTTP Error 429: Too Many Requests\n"
     ]
    }
   ],
   "source": [
    "for i in range(2,MAX_PAGE+1):\n",
    "    googlenews.get_page(i)\n",
    "    if googlenews.failflag() == 1:\n",
    "        break\n",
    "    print(i)"
   ]
  },
  {
   "cell_type": "code",
   "execution_count": 9,
   "metadata": {},
   "outputs": [],
   "source": [
    "df1 = pd.DataFrame(googlenews.results())"
   ]
  },
  {
   "cell_type": "code",
   "execution_count": 10,
   "metadata": {},
   "outputs": [
    {
     "data": {
      "text/html": [
       "<div>\n",
       "<style scoped>\n",
       "    .dataframe tbody tr th:only-of-type {\n",
       "        vertical-align: middle;\n",
       "    }\n",
       "\n",
       "    .dataframe tbody tr th {\n",
       "        vertical-align: top;\n",
       "    }\n",
       "\n",
       "    .dataframe thead th {\n",
       "        text-align: right;\n",
       "    }\n",
       "</style>\n",
       "<table border=\"1\" class=\"dataframe\">\n",
       "  <thead>\n",
       "    <tr style=\"text-align: right;\">\n",
       "      <th></th>\n",
       "      <th>title</th>\n",
       "      <th>source</th>\n",
       "      <th>date</th>\n",
       "      <th>datetime</th>\n",
       "      <th>desc</th>\n",
       "      <th>link</th>\n",
       "    </tr>\n",
       "  </thead>\n",
       "  <tbody>\n",
       "    <tr>\n",
       "      <th>0</th>\n",
       "      <td>Bitcoin Has Crashed—Now What?</td>\n",
       "      <td>Forbes</td>\n",
       "      <td>Feb 27, 2020</td>\n",
       "      <td>2020-02-27 04:00:00</td>\n",
       "      <td>The bitcoin price has slumped over the last fe...</td>\n",
       "      <td>https://www.forbes.com/sites/billybambrough/20...</td>\n",
       "    </tr>\n",
       "    <tr>\n",
       "      <th>1</th>\n",
       "      <td>Bitcoin Has Crashed—Now What?</td>\n",
       "      <td>Forbes</td>\n",
       "      <td>Feb 27, 2020</td>\n",
       "      <td>2020-02-27 12:00:00</td>\n",
       "      <td>The bitcoin price has slumped over the last fe...</td>\n",
       "      <td>https://www.forbes.com/sites/billybambrough/20...</td>\n",
       "    </tr>\n",
       "    <tr>\n",
       "      <th>2</th>\n",
       "      <td>Over $190M in Bitcoin Liquidated on BitMEX Ami...</td>\n",
       "      <td>CoinDesk</td>\n",
       "      <td>Feb 26, 2020</td>\n",
       "      <td>2020-02-26 04:00:00</td>\n",
       "      <td>Bitcoin liquidations on BitMEX. Source: Skew A...</td>\n",
       "      <td>https://www.coindesk.com/over-190-million-bitc...</td>\n",
       "    </tr>\n",
       "    <tr>\n",
       "      <th>3</th>\n",
       "      <td>Over $190M in Bitcoin Liquidated on BitMEX Ami...</td>\n",
       "      <td>CoinDesk</td>\n",
       "      <td>Feb 26, 2020</td>\n",
       "      <td>2020-02-26 12:00:00</td>\n",
       "      <td>Bitcoin liquidations on BitMEX. Source: Skew A...</td>\n",
       "      <td>https://www.coindesk.com/over-190-million-bitc...</td>\n",
       "    </tr>\n",
       "    <tr>\n",
       "      <th>4</th>\n",
       "      <td>Which Industries Accept Bitcoin Payments Above...</td>\n",
       "      <td>Bitrates.com</td>\n",
       "      <td>Feb 26, 2020</td>\n",
       "      <td>2020-02-26 04:00:00</td>\n",
       "      <td>What industries are leading the way in the acc...</td>\n",
       "      <td>https://www.bitrates.com/news/p/industries-wit...</td>\n",
       "    </tr>\n",
       "    <tr>\n",
       "      <th>...</th>\n",
       "      <td>...</td>\n",
       "      <td>...</td>\n",
       "      <td>...</td>\n",
       "      <td>...</td>\n",
       "      <td>...</td>\n",
       "      <td>...</td>\n",
       "    </tr>\n",
       "    <tr>\n",
       "      <th>465</th>\n",
       "      <td>Coronavirus: Unipd, dalla quarantena di Wuhan ...</td>\n",
       "      <td></td>\n",
       "      <td>Feb 13, 2020</td>\n",
       "      <td>2020-02-13 12:00:00</td>\n",
       "      <td>Popmove, il noleggio auto si paga anche in bit...</td>\n",
       "      <td>http://www.padovanews.it/2020/02/13/coronaviru...</td>\n",
       "    </tr>\n",
       "    <tr>\n",
       "      <th>466</th>\n",
       "      <td>На Херсонщине пьяная женщина, спасая любимого,...</td>\n",
       "      <td>FaceNews.ua</td>\n",
       "      <td>Feb 27, 2020</td>\n",
       "      <td>2020-02-27 04:00:00</td>\n",
       "      <td>В 2021 году интерес к криптовалютам и биржевым...</td>\n",
       "      <td>https://www.facenews.ua/video/2020/321200/</td>\n",
       "    </tr>\n",
       "    <tr>\n",
       "      <th>467</th>\n",
       "      <td>На Херсонщине пьяная женщина, спасая любимого,...</td>\n",
       "      <td>FaceNews.ua</td>\n",
       "      <td>Feb 27, 2020</td>\n",
       "      <td>2020-02-27 12:00:00</td>\n",
       "      <td>В 2021 году интерес к криптовалютам и биржевым...</td>\n",
       "      <td>https://www.facenews.ua/video/2020/321200/</td>\n",
       "    </tr>\n",
       "    <tr>\n",
       "      <th>468</th>\n",
       "      <td>Как в Китае дезинфицируют улицы, чтобы не допу...</td>\n",
       "      <td>FaceNews.ua</td>\n",
       "      <td>Feb 6, 2020</td>\n",
       "      <td>2020-02-06 04:00:00</td>\n",
       "      <td>Это произошло благодаря беспрецедентному росту...</td>\n",
       "      <td>https://www.facenews.ua/video/2020/320823/</td>\n",
       "    </tr>\n",
       "    <tr>\n",
       "      <th>469</th>\n",
       "      <td>Как в Китае дезинфицируют улицы, чтобы не допу...</td>\n",
       "      <td>FaceNews.ua</td>\n",
       "      <td>Feb 6, 2020</td>\n",
       "      <td>2020-02-06 12:00:00</td>\n",
       "      <td>Это произошло благодаря беспрецедентному росту...</td>\n",
       "      <td>https://www.facenews.ua/video/2020/320823/</td>\n",
       "    </tr>\n",
       "  </tbody>\n",
       "</table>\n",
       "<p>470 rows × 6 columns</p>\n",
       "</div>"
      ],
      "text/plain": [
       "                                                 title        source  \\\n",
       "0                        Bitcoin Has Crashed—Now What?        Forbes   \n",
       "1                        Bitcoin Has Crashed—Now What?        Forbes   \n",
       "2    Over $190M in Bitcoin Liquidated on BitMEX Ami...      CoinDesk   \n",
       "3    Over $190M in Bitcoin Liquidated on BitMEX Ami...      CoinDesk   \n",
       "4    Which Industries Accept Bitcoin Payments Above...  Bitrates.com   \n",
       "..                                                 ...           ...   \n",
       "465  Coronavirus: Unipd, dalla quarantena di Wuhan ...                 \n",
       "466  На Херсонщине пьяная женщина, спасая любимого,...   FaceNews.ua   \n",
       "467  На Херсонщине пьяная женщина, спасая любимого,...   FaceNews.ua   \n",
       "468  Как в Китае дезинфицируют улицы, чтобы не допу...   FaceNews.ua   \n",
       "469  Как в Китае дезинфицируют улицы, чтобы не допу...   FaceNews.ua   \n",
       "\n",
       "             date            datetime  \\\n",
       "0    Feb 27, 2020 2020-02-27 04:00:00   \n",
       "1    Feb 27, 2020 2020-02-27 12:00:00   \n",
       "2    Feb 26, 2020 2020-02-26 04:00:00   \n",
       "3    Feb 26, 2020 2020-02-26 12:00:00   \n",
       "4    Feb 26, 2020 2020-02-26 04:00:00   \n",
       "..            ...                 ...   \n",
       "465  Feb 13, 2020 2020-02-13 12:00:00   \n",
       "466  Feb 27, 2020 2020-02-27 04:00:00   \n",
       "467  Feb 27, 2020 2020-02-27 12:00:00   \n",
       "468   Feb 6, 2020 2020-02-06 04:00:00   \n",
       "469   Feb 6, 2020 2020-02-06 12:00:00   \n",
       "\n",
       "                                                  desc  \\\n",
       "0    The bitcoin price has slumped over the last fe...   \n",
       "1    The bitcoin price has slumped over the last fe...   \n",
       "2    Bitcoin liquidations on BitMEX. Source: Skew A...   \n",
       "3    Bitcoin liquidations on BitMEX. Source: Skew A...   \n",
       "4    What industries are leading the way in the acc...   \n",
       "..                                                 ...   \n",
       "465  Popmove, il noleggio auto si paga anche in bit...   \n",
       "466  В 2021 году интерес к криптовалютам и биржевым...   \n",
       "467  В 2021 году интерес к криптовалютам и биржевым...   \n",
       "468  Это произошло благодаря беспрецедентному росту...   \n",
       "469  Это произошло благодаря беспрецедентному росту...   \n",
       "\n",
       "                                                  link  \n",
       "0    https://www.forbes.com/sites/billybambrough/20...  \n",
       "1    https://www.forbes.com/sites/billybambrough/20...  \n",
       "2    https://www.coindesk.com/over-190-million-bitc...  \n",
       "3    https://www.coindesk.com/over-190-million-bitc...  \n",
       "4    https://www.bitrates.com/news/p/industries-wit...  \n",
       "..                                                 ...  \n",
       "465  http://www.padovanews.it/2020/02/13/coronaviru...  \n",
       "466         https://www.facenews.ua/video/2020/321200/  \n",
       "467         https://www.facenews.ua/video/2020/321200/  \n",
       "468         https://www.facenews.ua/video/2020/320823/  \n",
       "469         https://www.facenews.ua/video/2020/320823/  \n",
       "\n",
       "[470 rows x 6 columns]"
      ]
     },
     "execution_count": 10,
     "metadata": {},
     "output_type": "execute_result"
    }
   ],
   "source": [
    "df1"
   ]
  },
  {
   "cell_type": "code",
   "execution_count": null,
   "metadata": {},
   "outputs": [],
   "source": []
  }
 ],
 "metadata": {
  "kernelspec": {
   "display_name": "spider",
   "language": "python",
   "name": "spider"
  },
  "language_info": {
   "codemirror_mode": {
    "name": "ipython",
    "version": 3
   },
   "file_extension": ".py",
   "mimetype": "text/x-python",
   "name": "python",
   "nbconvert_exporter": "python",
   "pygments_lexer": "ipython3",
   "version": "3.8.5"
  }
 },
 "nbformat": 4,
 "nbformat_minor": 4
}
