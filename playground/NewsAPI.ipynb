{
 "cells": [
  {
   "cell_type": "markdown",
   "metadata": {},
   "source": [
    "Resources:\n",
    "\n",
    "https://newsapi.org/docs/get-started\n",
    "\n",
    "https://newsapi.org/docs/endpoints/everything"
   ]
  },
  {
   "cell_type": "code",
   "execution_count": 2,
   "metadata": {},
   "outputs": [],
   "source": [
    "import requests\n",
    "import json"
   ]
  },
  {
   "cell_type": "code",
   "execution_count": 15,
   "metadata": {},
   "outputs": [],
   "source": [
    "keyword = \"Bitcoin\"\n",
    "startdate = '2021-04-01'\n",
    "enddate = '2021-04-05'\n",
    "\n",
    "url = ('https://newsapi.org/v2/everything?'\n",
    "       'q=Bitcoin&'\n",
    "       'from=2021-04-01&'\n",
    "       'to=2021-04-05&'\n",
    "       'sortBy=relevancy&'\n",
    "       'pageSize=100&'\n",
    "       'apiKey=7b294a567b694de5b23397387713d7f6')\n",
    "\n",
    "response = requests.get(url)"
   ]
  },
  {
   "cell_type": "code",
   "execution_count": 16,
   "metadata": {},
   "outputs": [],
   "source": [
    "body = response.json()"
   ]
  },
  {
   "cell_type": "code",
   "execution_count": 17,
   "metadata": {},
   "outputs": [
    {
     "name": "stdout",
     "output_type": "stream",
     "text": [
      "1443\n"
     ]
    }
   ],
   "source": [
    "print(body['totalResults'])"
   ]
  },
  {
   "cell_type": "code",
   "execution_count": 18,
   "metadata": {},
   "outputs": [],
   "source": [
    "articles = body['articles']"
   ]
  },
  {
   "cell_type": "code",
   "execution_count": 19,
   "metadata": {},
   "outputs": [
    {
     "name": "stdout",
     "output_type": "stream",
     "text": [
      "100\n"
     ]
    }
   ],
   "source": [
    "print(len(articles))"
   ]
  },
  {
   "cell_type": "code",
   "execution_count": 15,
   "metadata": {},
   "outputs": [],
   "source": [
    "news1 = articles[1]"
   ]
  },
  {
   "cell_type": "code",
   "execution_count": 16,
   "metadata": {},
   "outputs": [
    {
     "name": "stdout",
     "output_type": "stream",
     "text": [
      "dict_keys(['source', 'author', 'title', 'description', 'url', 'urlToImage', 'publishedAt', 'content'])\n"
     ]
    }
   ],
   "source": [
    "print(news1.keys())"
   ]
  },
  {
   "cell_type": "code",
   "execution_count": 19,
   "metadata": {},
   "outputs": [
    {
     "name": "stdout",
     "output_type": "stream",
     "text": [
      "Title: Bitcoin is Trading Near $66,000 in South Korea as 'Kimchi Premium' Returns\n",
      "Source: Slashdot.org\n",
      "url: https://slashdot.org/story/21/04/05/1811225/bitcoin-is-trading-near-66000-in-south-korea-as-kimchi-premium-returns\n",
      "Description: Bitcoin is trading near $66,000 levels in South Korea as \"Kimchi Premium\" has returned. From a report: Kimchi Premium is the spread between bitcoin's price on South Korean crypto exchanges and Western exchanges. Bitcoin is currently trading at around $66,200 …\n"
     ]
    }
   ],
   "source": [
    "print('Title:',news1['title'])\n",
    "print('Source:',news1['source']['name'])\n",
    "print('url:',news1['url'])\n",
    "print('Description:',news1['description'])"
   ]
  },
  {
   "cell_type": "code",
   "execution_count": 20,
   "metadata": {},
   "outputs": [
    {
     "name": "stdout",
     "output_type": "stream",
     "text": [
      "Date: 2021-04-05T18:11:00Z\n",
      "Content: First find a way not to pay for the power yourself. Subsidize it through your national government. Steal it from your employer. Or spread mining malware onto thousands of PCs. If you can't solve the … [+77 chars]\n"
     ]
    }
   ],
   "source": [
    "print('Date:',news1['publishedAt'])\n",
    "print('Content:',news1['content'])"
   ]
  }
 ],
 "metadata": {
  "kernelspec": {
   "display_name": "Python 3",
   "language": "python",
   "name": "python3"
  },
  "language_info": {
   "codemirror_mode": {
    "name": "ipython",
    "version": 3
   },
   "file_extension": ".py",
   "mimetype": "text/x-python",
   "name": "python",
   "nbconvert_exporter": "python",
   "pygments_lexer": "ipython3",
   "version": "3.8.5"
  }
 },
 "nbformat": 4,
 "nbformat_minor": 4
}
