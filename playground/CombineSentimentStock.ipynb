{
 "cells": [
  {
   "cell_type": "code",
   "execution_count": 1,
   "metadata": {},
   "outputs": [],
   "source": [
    "from pyspark.sql import SparkSession\n",
    "from pyspark.sql import functions as f\n",
    "from pyspark.sql.types import ArrayType, DoubleType, StringType, IntegerType\n",
    "\n",
    "from vaderSentiment.vaderSentiment import SentimentIntensityAnalyzer\n",
    "import numpy as np\n",
    "import pandas as pd"
   ]
  },
  {
   "cell_type": "code",
   "execution_count": 2,
   "metadata": {},
   "outputs": [],
   "source": [
    "window_duration = '11 day'\n",
    "slide_duration = '1 day'"
   ]
  },
  {
   "cell_type": "code",
   "execution_count": 2,
   "metadata": {},
   "outputs": [],
   "source": [
    "import pyspark"
   ]
  },
  {
   "cell_type": "code",
   "execution_count": 3,
   "metadata": {},
   "outputs": [
    {
     "data": {
      "text/plain": [
       "'3.1.1'"
      ]
     },
     "execution_count": 3,
     "metadata": {},
     "output_type": "execute_result"
    }
   ],
   "source": [
    "pyspark.__version__"
   ]
  },
  {
   "cell_type": "code",
   "execution_count": 3,
   "metadata": {},
   "outputs": [],
   "source": [
    "spark = SparkSession.builder.master('local').appName('NewsSentimentAnalysis').getOrCreate()"
   ]
  },
  {
   "cell_type": "markdown",
   "metadata": {},
   "source": [
    "### StockPrice"
   ]
  },
  {
   "cell_type": "code",
   "execution_count": 84,
   "metadata": {},
   "outputs": [],
   "source": [
    "# read csv\n",
    "df = spark.read.csv('../data/stock_price/data/alldate_RIOT.csv', header=True)\n",
    "df = df.withColumn('Date', f.to_timestamp(df['Date'], 'yyyy-MM-dd'))"
   ]
  },
  {
   "cell_type": "code",
   "execution_count": 85,
   "metadata": {},
   "outputs": [
    {
     "name": "stdout",
     "output_type": "stream",
     "text": [
      "+-------------------+------------------+------------------+------+\n",
      "|               Date|              Open|             Close|Ticker|\n",
      "+-------------------+------------------+------------------+------+\n",
      "|2016-03-31 00:00:00| 2.309999942779541| 2.700000047683716|  RIOT|\n",
      "|2016-04-01 00:00:00|2.5999999046325684| 2.630000114440918|  RIOT|\n",
      "|2016-04-02 00:00:00| 2.630000114440918| 2.630000114440918|  RIOT|\n",
      "|2016-04-03 00:00:00| 2.630000114440918| 2.630000114440918|  RIOT|\n",
      "|2016-04-04 00:00:00| 2.630000114440918| 2.630000114440918|  RIOT|\n",
      "|2016-04-05 00:00:00| 2.880000114440918|3.0199999809265137|  RIOT|\n",
      "|2016-04-06 00:00:00|3.0899999141693115|2.9800000190734863|  RIOT|\n",
      "|2016-04-07 00:00:00|2.9800000190734863| 2.990000009536743|  RIOT|\n",
      "|2016-04-08 00:00:00| 3.009999990463257|2.9700000286102295|  RIOT|\n",
      "|2016-04-09 00:00:00| 2.974000024795532| 2.978000020980835|  RIOT|\n",
      "|2016-04-10 00:00:00|2.9820000171661376|2.9860000133514406|  RIOT|\n",
      "|2016-04-11 00:00:00| 2.990000009536743|3.0399999618530273|  RIOT|\n",
      "|2016-04-12 00:00:00|3.0899999141693115|3.0399999618530273|  RIOT|\n",
      "|2016-04-13 00:00:00|3.0299999713897705| 2.990000009536743|  RIOT|\n",
      "|2016-04-14 00:00:00| 3.009999990463257| 3.003999948501587|  RIOT|\n",
      "|2016-04-15 00:00:00|3.1600000858306885|3.0299999713897705|  RIOT|\n",
      "|2016-04-16 00:00:00| 3.033999967575073| 3.037999963760376|  RIOT|\n",
      "|2016-04-17 00:00:00|3.0419999599456786|3.0459999561309816|  RIOT|\n",
      "|2016-04-18 00:00:00| 3.049999952316284|2.9800000190734863|  RIOT|\n",
      "|2016-04-19 00:00:00|2.9800000190734863|3.0999999046325684|  RIOT|\n",
      "+-------------------+------------------+------------------+------+\n",
      "only showing top 20 rows\n",
      "\n"
     ]
    }
   ],
   "source": [
    "df.show()"
   ]
  },
  {
   "cell_type": "code",
   "execution_count": 86,
   "metadata": {},
   "outputs": [],
   "source": [
    "@f.udf\n",
    "def combine(opening_price, closing_price):\n",
    "    return [opening_price, closing_price]"
   ]
  },
  {
   "cell_type": "code",
   "execution_count": 87,
   "metadata": {},
   "outputs": [],
   "source": [
    "df = df.withColumn('Open_Close', combine(df['Open'], df['Close']))\n",
    "df = df.withColumn(\"Open_Close_new\", f.split(f.regexp_replace(\"Open_Close\", r\"(^\\[)|(\\]$)\", \"\"), \", \").cast(\"array<double>\"))"
   ]
  },
  {
   "cell_type": "code",
   "execution_count": 88,
   "metadata": {},
   "outputs": [
    {
     "name": "stdout",
     "output_type": "stream",
     "text": [
      "+-------------------+------------------+------------------+------+--------------------+--------------------+\n",
      "|               Date|              Open|             Close|Ticker|          Open_Close|      Open_Close_new|\n",
      "+-------------------+------------------+------------------+------+--------------------+--------------------+\n",
      "|2016-03-31 00:00:00| 2.309999942779541| 2.700000047683716|  RIOT|[2.30999994277954...|[2.30999994277954...|\n",
      "|2016-04-01 00:00:00|2.5999999046325684| 2.630000114440918|  RIOT|[2.59999990463256...|[2.59999990463256...|\n",
      "|2016-04-02 00:00:00| 2.630000114440918| 2.630000114440918|  RIOT|[2.63000011444091...|[2.63000011444091...|\n",
      "|2016-04-03 00:00:00| 2.630000114440918| 2.630000114440918|  RIOT|[2.63000011444091...|[2.63000011444091...|\n",
      "|2016-04-04 00:00:00| 2.630000114440918| 2.630000114440918|  RIOT|[2.63000011444091...|[2.63000011444091...|\n",
      "|2016-04-05 00:00:00| 2.880000114440918|3.0199999809265137|  RIOT|[2.88000011444091...|[2.88000011444091...|\n",
      "|2016-04-06 00:00:00|3.0899999141693115|2.9800000190734863|  RIOT|[3.08999991416931...|[3.08999991416931...|\n",
      "|2016-04-07 00:00:00|2.9800000190734863| 2.990000009536743|  RIOT|[2.98000001907348...|[2.98000001907348...|\n",
      "|2016-04-08 00:00:00| 3.009999990463257|2.9700000286102295|  RIOT|[3.00999999046325...|[3.00999999046325...|\n",
      "|2016-04-09 00:00:00| 2.974000024795532| 2.978000020980835|  RIOT|[2.97400002479553...|[2.97400002479553...|\n",
      "|2016-04-10 00:00:00|2.9820000171661376|2.9860000133514406|  RIOT|[2.98200001716613...|[2.98200001716613...|\n",
      "|2016-04-11 00:00:00| 2.990000009536743|3.0399999618530273|  RIOT|[2.99000000953674...|[2.99000000953674...|\n",
      "|2016-04-12 00:00:00|3.0899999141693115|3.0399999618530273|  RIOT|[3.08999991416931...|[3.08999991416931...|\n",
      "|2016-04-13 00:00:00|3.0299999713897705| 2.990000009536743|  RIOT|[3.02999997138977...|[3.02999997138977...|\n",
      "|2016-04-14 00:00:00| 3.009999990463257| 3.003999948501587|  RIOT|[3.00999999046325...|[3.00999999046325...|\n",
      "|2016-04-15 00:00:00|3.1600000858306885|3.0299999713897705|  RIOT|[3.16000008583068...|[3.16000008583068...|\n",
      "|2016-04-16 00:00:00| 3.033999967575073| 3.037999963760376|  RIOT|[3.03399996757507...|[3.03399996757507...|\n",
      "|2016-04-17 00:00:00|3.0419999599456786|3.0459999561309816|  RIOT|[3.04199995994567...|[3.04199995994567...|\n",
      "|2016-04-18 00:00:00| 3.049999952316284|2.9800000190734863|  RIOT|[3.04999995231628...|[3.04999995231628...|\n",
      "|2016-04-19 00:00:00|2.9800000190734863|3.0999999046325684|  RIOT|[2.98000001907348...|[2.98000001907348...|\n",
      "+-------------------+------------------+------------------+------+--------------------+--------------------+\n",
      "only showing top 20 rows\n",
      "\n"
     ]
    }
   ],
   "source": [
    "df.show()"
   ]
  },
  {
   "cell_type": "code",
   "execution_count": 89,
   "metadata": {},
   "outputs": [],
   "source": [
    "df = df.orderBy(\"Date\").groupBy(f.window('Date', window_duration, slide_duration)) \\\n",
    "    .agg(f.collect_list('Open_Close_new')) \\\n",
    "    .withColumnRenamed('collect_list(Open_Close_new)', 'sliding_window')\n",
    "\n",
    "# flatten\n",
    "df = df.withColumn('sliding_window', f.flatten(df['sliding_window']))"
   ]
  },
  {
   "cell_type": "code",
   "execution_count": 90,
   "metadata": {},
   "outputs": [],
   "source": [
    "@f.udf(ArrayType(DoubleType()))\n",
    "def normalize(x):\n",
    "    \"\"\"\n",
    "    Normalize the input to the range between 0 and 1\n",
    "    \"\"\"\n",
    "    x = np.array(x)\n",
    "    x_normalized = ((x - np.min(x)) / (np.max(x) - np.min(x))).tolist()\n",
    "    return x_normalized\n",
    "\n",
    "\n",
    "df = df.withColumn('sliding_window', normalize(df['sliding_window']))"
   ]
  },
  {
   "cell_type": "code",
   "execution_count": 91,
   "metadata": {},
   "outputs": [],
   "source": [
    "df1 = df.withColumn('array_length', f.size(\"sliding_window\"))"
   ]
  },
  {
   "cell_type": "code",
   "execution_count": 92,
   "metadata": {},
   "outputs": [],
   "source": [
    "df1 = df1.filter((df1.array_length == 22))"
   ]
  },
  {
   "cell_type": "code",
   "execution_count": 93,
   "metadata": {},
   "outputs": [],
   "source": [
    "df1 = df1.select('window', 'sliding_window').withColumnRenamed(\"sliding_window\", \"StockPrice\")"
   ]
  },
  {
   "cell_type": "code",
   "execution_count": 95,
   "metadata": {},
   "outputs": [
    {
     "name": "stdout",
     "output_type": "stream",
     "text": [
      "+--------------------+--------------------+\n",
      "|              window|          StockPrice|\n",
      "+--------------------+--------------------+\n",
      "|{2016-03-30 20:00...|[0.0, 0.500000152...|\n",
      "|{2016-03-31 20:00...|[0.0, 0.061224916...|\n",
      "|{2016-04-01 20:00...|[0.0, 0.0, 0.0, 0...|\n",
      "|{2016-04-02 20:00...|[0.0, 0.0, 0.0, 0...|\n",
      "|{2016-04-03 20:00...|[0.0, 0.0, 0.5434...|\n",
      "|{2016-04-04 20:00...|[0.0, 0.499999574...|\n",
      "|{2016-04-05 20:00...|[0.63157815484152...|\n",
      "|{2016-04-06 20:00...|[0.05263151290346...|\n",
      "|{2016-04-07 20:00...|[0.21052605161384...|\n",
      "|{2016-04-08 20:00...|[0.0, 0.021505348...|\n",
      "|{2016-04-09 20:00...|[0.01111109639391...|\n",
      "|{2016-04-10 20:00...|[0.05555548196960...|\n",
      "|{2016-04-11 20:00...|[0.61111030166561...|\n",
      "|{2016-04-12 20:00...|[0.27777740984800...|\n",
      "|{2016-04-13 20:00...|[0.16666644590880...|\n",
      "|{2016-04-14 20:00...|[1.0, 0.479999542...|\n",
      "|{2016-04-15 20:00...|[0.77241398020961...|\n",
      "|{2016-04-16 20:00...|[0.80000016442662...|\n",
      "|{2016-04-17 20:00...|[0.82758634864364...|\n",
      "|{2016-04-18 20:00...|[0.45945951170602...|\n",
      "+--------------------+--------------------+\n",
      "only showing top 20 rows\n",
      "\n"
     ]
    }
   ],
   "source": [
    "df1.orderBy(\"window\").show()"
   ]
  },
  {
   "cell_type": "markdown",
   "metadata": {},
   "source": [
    "### Sentiment Analysis"
   ]
  },
  {
   "cell_type": "code",
   "execution_count": 4,
   "metadata": {},
   "outputs": [],
   "source": [
    "df2 = spark.read.csv('../data/news/data/news_large.csv', header=True, escape='\"')"
   ]
  },
  {
   "cell_type": "code",
   "execution_count": 5,
   "metadata": {},
   "outputs": [
    {
     "name": "stdout",
     "output_type": "stream",
     "text": [
      "+-------------------+-----------+-------------------+--------------------+--------------------+--------------------+--------------------+\n",
      "|             source|     author|               time|               title|         description|             content|                 url|\n",
      "+-------------------+-----------+-------------------+--------------------+--------------------+--------------------+--------------------+\n",
      "|       gulfbusiness|NotProvided|2016-05-30 14:16:02|Dubai looks to im...|Emirate plans to ...|Dubai looks to im...|https://gulfbusin...|\n",
      "|             forbes|NotProvided|2016-05-26 23:00:00|How Blockchain Te...|Theres a lot of h...|Kevin Durants Bus...|https://www.forbe...|\n",
      "|      mjvinnovation|NotProvided|2016-05-23 17:01:06|From the Internet...|Have you heard of...|Understand how th...|http://blog.mjvin...|\n",
      "|            bitcoin|NotProvided|2016-05-22 16:29:34|New Experiment Al...|Just recently a n...|May 22, 2016 New ...|https://news.bitc...|\n",
      "|          economist|NotProvided|2016-05-21 00:00:00|Science and techn...|Blockchain techno...|WhatsApp CLINICAL...|https://www.econo...|\n",
      "|            bitcoin|NotProvided|2016-05-20 22:00:27|Why The Blockchai...|In result of arch...|archives due to a...|https://news.bitc...|\n",
      "|               moey|NotProvided|2016-05-20 18:21:48|THE BLOCKCHAIN RE...|BI Intelligence B...|BI Intelligence B...|https://www.moey....|\n",
      "|      morganstanley|NotProvided|2016-05-18 00:00:00|Banking with Bloc...|Explore how big b...|Email this Print ...|https://www.morga...|\n",
      "|            bitcoin|NotProvided|2016-05-16 17:40:02|Blockchain announ...|Today, Blockchain...|, where Blockchai...|https://news.bitc...|\n",
      "|            bitcoin|NotProvided|2016-05-15 10:00:59|11FS Blockchain C...|Recently there ha...|has reportedly ra...|https://news.bitc...|\n",
      "|         thebalance|NotProvided|2016-05-12 00:00:00|How Revolutionary...|Discover why Amer...|financial markets...|https://www.theba...|\n",
      "|            bitcoin|NotProvided|2016-05-10 10:00:51|New Yorkers Tout ...|Last week at the ...|elections . Spano...|https://news.bitc...|\n",
      "|         coinreport|NotProvided|2016-05-03 18:09:16|CoinReport  Austr...|While the news of...|Craig Wright has ...|https://coinrepor...|\n",
      "|         techtarget|NotProvided|2016-05-03 00:00:00|How can blockchai...|Blockchain techno...|Learn to apply be...|https://searcherp...|\n",
      "|           munichre|NotProvided|2016-05-02 12:00:00|Blockchain  More ...|No one knows whet...|No one knows whet...|https://www.munic...|\n",
      "|bankingonblockchain|NotProvided|2016-05-01 11:47:19|Blockchain Techno...|Bitcoin, the new ...|Leave a Comment B...|http://bankingonb...|\n",
      "|      cointelegraph|NotProvided|2016-04-29 13:50:00|The Human Blockch...|Bitcoin, when exp...|Bitcoin , still a...|https://cointeleg...|\n",
      "|         bitcoinist|NotProvided|2016-04-28 16:00:03|ECB Executive Pla...|A statement made ...|the ECB is invest...|https://bitcoinis...|\n",
      "|            bitcoin|NotProvided|2016-04-28 11:00:30|Russian Central B...|Despite a lot of ...|FedCoin were intr...|https://news.bitc...|\n",
      "|            bitcoin|NotProvided|2016-04-27 20:00:35|Gem Health Unveil...|The firm announce...|Philips Blockchai...|https://news.bitc...|\n",
      "+-------------------+-----------+-------------------+--------------------+--------------------+--------------------+--------------------+\n",
      "only showing top 20 rows\n",
      "\n"
     ]
    }
   ],
   "source": [
    "df2.show()"
   ]
  },
  {
   "cell_type": "code",
   "execution_count": 5,
   "metadata": {},
   "outputs": [],
   "source": [
    "df2 = df2.withColumn('time', f.to_timestamp(df2['time'], 'yyyy-MM-dd H:mm:ss'))\n",
    "df2 = df2.withColumn('hour', f.hour(f.col('time')))\n",
    "df2 = df2.withColumn('Day', f.to_date(df2['time'], format='yyyy-MM-dd'))"
   ]
  },
  {
   "cell_type": "code",
   "execution_count": 7,
   "metadata": {},
   "outputs": [
    {
     "name": "stdout",
     "output_type": "stream",
     "text": [
      "+-------------------+-----------+-------------------+--------------------+--------------------+--------------------+--------------------+----+----------+\n",
      "|             source|     author|               time|               title|         description|             content|                 url|hour|       Day|\n",
      "+-------------------+-----------+-------------------+--------------------+--------------------+--------------------+--------------------+----+----------+\n",
      "|       gulfbusiness|NotProvided|2016-05-30 14:16:02|Dubai looks to im...|Emirate plans to ...|Dubai looks to im...|https://gulfbusin...|  14|2016-05-30|\n",
      "|             forbes|NotProvided|2016-05-26 23:00:00|How Blockchain Te...|Theres a lot of h...|Kevin Durants Bus...|https://www.forbe...|  23|2016-05-26|\n",
      "|      mjvinnovation|NotProvided|2016-05-23 17:01:06|From the Internet...|Have you heard of...|Understand how th...|http://blog.mjvin...|  17|2016-05-23|\n",
      "|            bitcoin|NotProvided|2016-05-22 16:29:34|New Experiment Al...|Just recently a n...|May 22, 2016 New ...|https://news.bitc...|  16|2016-05-22|\n",
      "|          economist|NotProvided|2016-05-21 00:00:00|Science and techn...|Blockchain techno...|WhatsApp CLINICAL...|https://www.econo...|   0|2016-05-21|\n",
      "|            bitcoin|NotProvided|2016-05-20 22:00:27|Why The Blockchai...|In result of arch...|archives due to a...|https://news.bitc...|  22|2016-05-20|\n",
      "|               moey|NotProvided|2016-05-20 18:21:48|THE BLOCKCHAIN RE...|BI Intelligence B...|BI Intelligence B...|https://www.moey....|  18|2016-05-20|\n",
      "|      morganstanley|NotProvided|2016-05-18 00:00:00|Banking with Bloc...|Explore how big b...|Email this Print ...|https://www.morga...|   0|2016-05-18|\n",
      "|            bitcoin|NotProvided|2016-05-16 17:40:02|Blockchain announ...|Today, Blockchain...|, where Blockchai...|https://news.bitc...|  17|2016-05-16|\n",
      "|            bitcoin|NotProvided|2016-05-15 10:00:59|11FS Blockchain C...|Recently there ha...|has reportedly ra...|https://news.bitc...|  10|2016-05-15|\n",
      "|         thebalance|NotProvided|2016-05-12 00:00:00|How Revolutionary...|Discover why Amer...|financial markets...|https://www.theba...|   0|2016-05-12|\n",
      "|            bitcoin|NotProvided|2016-05-10 10:00:51|New Yorkers Tout ...|Last week at the ...|elections . Spano...|https://news.bitc...|  10|2016-05-10|\n",
      "|         coinreport|NotProvided|2016-05-03 18:09:16|CoinReport  Austr...|While the news of...|Craig Wright has ...|https://coinrepor...|  18|2016-05-03|\n",
      "|         techtarget|NotProvided|2016-05-03 00:00:00|How can blockchai...|Blockchain techno...|Learn to apply be...|https://searcherp...|   0|2016-05-03|\n",
      "|           munichre|NotProvided|2016-05-02 12:00:00|Blockchain  More ...|No one knows whet...|No one knows whet...|https://www.munic...|  12|2016-05-02|\n",
      "|bankingonblockchain|NotProvided|2016-05-01 11:47:19|Blockchain Techno...|Bitcoin, the new ...|Leave a Comment B...|http://bankingonb...|  11|2016-05-01|\n",
      "|      cointelegraph|NotProvided|2016-04-29 13:50:00|The Human Blockch...|Bitcoin, when exp...|Bitcoin , still a...|https://cointeleg...|  13|2016-04-29|\n",
      "|         bitcoinist|NotProvided|2016-04-28 16:00:03|ECB Executive Pla...|A statement made ...|the ECB is invest...|https://bitcoinis...|  16|2016-04-28|\n",
      "|            bitcoin|NotProvided|2016-04-28 11:00:30|Russian Central B...|Despite a lot of ...|FedCoin were intr...|https://news.bitc...|  11|2016-04-28|\n",
      "|            bitcoin|NotProvided|2016-04-27 20:00:35|Gem Health Unveil...|The firm announce...|Philips Blockchai...|https://news.bitc...|  20|2016-04-27|\n",
      "+-------------------+-----------+-------------------+--------------------+--------------------+--------------------+--------------------+----+----------+\n",
      "only showing top 20 rows\n",
      "\n"
     ]
    }
   ],
   "source": [
    "df2.show()"
   ]
  },
  {
   "cell_type": "code",
   "execution_count": 6,
   "metadata": {},
   "outputs": [],
   "source": [
    "@f.udf\n",
    "def connect_string(a, b):\n",
    "    return a+' '+b"
   ]
  },
  {
   "cell_type": "code",
   "execution_count": 7,
   "metadata": {},
   "outputs": [],
   "source": [
    "df2 = df2.withColumn('AllText', connect_string(connect_string(df2['title'], df2['description']), df2['content']))"
   ]
  },
  {
   "cell_type": "code",
   "execution_count": 10,
   "metadata": {},
   "outputs": [
    {
     "name": "stdout",
     "output_type": "stream",
     "text": [
      "+-------------------+-----------+-------------------+--------------------+--------------------+--------------------+--------------------+----+----------+--------------------+\n",
      "|             source|     author|               time|               title|         description|             content|                 url|hour|       Day|             AllText|\n",
      "+-------------------+-----------+-------------------+--------------------+--------------------+--------------------+--------------------+----+----------+--------------------+\n",
      "|       gulfbusiness|NotProvided|2016-05-30 14:16:02|Dubai looks to im...|Emirate plans to ...|Dubai looks to im...|https://gulfbusin...|  14|2016-05-30|Dubai looks to im...|\n",
      "|             forbes|NotProvided|2016-05-26 23:00:00|How Blockchain Te...|Theres a lot of h...|Kevin Durants Bus...|https://www.forbe...|  23|2016-05-26|How Blockchain Te...|\n",
      "|      mjvinnovation|NotProvided|2016-05-23 17:01:06|From the Internet...|Have you heard of...|Understand how th...|http://blog.mjvin...|  17|2016-05-23|From the Internet...|\n",
      "|            bitcoin|NotProvided|2016-05-22 16:29:34|New Experiment Al...|Just recently a n...|May 22, 2016 New ...|https://news.bitc...|  16|2016-05-22|New Experiment Al...|\n",
      "|          economist|NotProvided|2016-05-21 00:00:00|Science and techn...|Blockchain techno...|WhatsApp CLINICAL...|https://www.econo...|   0|2016-05-21|Science and techn...|\n",
      "|            bitcoin|NotProvided|2016-05-20 22:00:27|Why The Blockchai...|In result of arch...|archives due to a...|https://news.bitc...|  22|2016-05-20|Why The Blockchai...|\n",
      "|               moey|NotProvided|2016-05-20 18:21:48|THE BLOCKCHAIN RE...|BI Intelligence B...|BI Intelligence B...|https://www.moey....|  18|2016-05-20|THE BLOCKCHAIN RE...|\n",
      "|      morganstanley|NotProvided|2016-05-18 00:00:00|Banking with Bloc...|Explore how big b...|Email this Print ...|https://www.morga...|   0|2016-05-18|Banking with Bloc...|\n",
      "|            bitcoin|NotProvided|2016-05-16 17:40:02|Blockchain announ...|Today, Blockchain...|, where Blockchai...|https://news.bitc...|  17|2016-05-16|Blockchain announ...|\n",
      "|            bitcoin|NotProvided|2016-05-15 10:00:59|11FS Blockchain C...|Recently there ha...|has reportedly ra...|https://news.bitc...|  10|2016-05-15|11FS Blockchain C...|\n",
      "|         thebalance|NotProvided|2016-05-12 00:00:00|How Revolutionary...|Discover why Amer...|financial markets...|https://www.theba...|   0|2016-05-12|How Revolutionary...|\n",
      "|            bitcoin|NotProvided|2016-05-10 10:00:51|New Yorkers Tout ...|Last week at the ...|elections . Spano...|https://news.bitc...|  10|2016-05-10|New Yorkers Tout ...|\n",
      "|         coinreport|NotProvided|2016-05-03 18:09:16|CoinReport  Austr...|While the news of...|Craig Wright has ...|https://coinrepor...|  18|2016-05-03|CoinReport  Austr...|\n",
      "|         techtarget|NotProvided|2016-05-03 00:00:00|How can blockchai...|Blockchain techno...|Learn to apply be...|https://searcherp...|   0|2016-05-03|How can blockchai...|\n",
      "|           munichre|NotProvided|2016-05-02 12:00:00|Blockchain  More ...|No one knows whet...|No one knows whet...|https://www.munic...|  12|2016-05-02|Blockchain  More ...|\n",
      "|bankingonblockchain|NotProvided|2016-05-01 11:47:19|Blockchain Techno...|Bitcoin, the new ...|Leave a Comment B...|http://bankingonb...|  11|2016-05-01|Blockchain Techno...|\n",
      "|      cointelegraph|NotProvided|2016-04-29 13:50:00|The Human Blockch...|Bitcoin, when exp...|Bitcoin , still a...|https://cointeleg...|  13|2016-04-29|The Human Blockch...|\n",
      "|         bitcoinist|NotProvided|2016-04-28 16:00:03|ECB Executive Pla...|A statement made ...|the ECB is invest...|https://bitcoinis...|  16|2016-04-28|ECB Executive Pla...|\n",
      "|            bitcoin|NotProvided|2016-04-28 11:00:30|Russian Central B...|Despite a lot of ...|FedCoin were intr...|https://news.bitc...|  11|2016-04-28|Russian Central B...|\n",
      "|            bitcoin|NotProvided|2016-04-27 20:00:35|Gem Health Unveil...|The firm announce...|Philips Blockchai...|https://news.bitc...|  20|2016-04-27|Gem Health Unveil...|\n",
      "+-------------------+-----------+-------------------+--------------------+--------------------+--------------------+--------------------+----+----------+--------------------+\n",
      "only showing top 20 rows\n",
      "\n"
     ]
    }
   ],
   "source": [
    "df2.show()"
   ]
  },
  {
   "cell_type": "code",
   "execution_count": 8,
   "metadata": {},
   "outputs": [],
   "source": [
    "df3 = df2.select('Day', 'hour', 'Alltext')"
   ]
  },
  {
   "cell_type": "code",
   "execution_count": 9,
   "metadata": {},
   "outputs": [
    {
     "name": "stdout",
     "output_type": "stream",
     "text": [
      "+----------+----+--------------------+\n",
      "|       Day|hour|             Alltext|\n",
      "+----------+----+--------------------+\n",
      "|2016-05-30|  14|Dubai looks to im...|\n",
      "|2016-05-26|  23|How Blockchain Te...|\n",
      "|2016-05-23|  17|From the Internet...|\n",
      "|2016-05-22|  16|New Experiment Al...|\n",
      "|2016-05-21|   0|Science and techn...|\n",
      "|2016-05-20|  22|Why The Blockchai...|\n",
      "|2016-05-20|  18|THE BLOCKCHAIN RE...|\n",
      "|2016-05-18|   0|Banking with Bloc...|\n",
      "|2016-05-16|  17|Blockchain announ...|\n",
      "|2016-05-15|  10|11FS Blockchain C...|\n",
      "|2016-05-12|   0|How Revolutionary...|\n",
      "|2016-05-10|  10|New Yorkers Tout ...|\n",
      "|2016-05-03|  18|CoinReport  Austr...|\n",
      "|2016-05-03|   0|How can blockchai...|\n",
      "|2016-05-02|  12|Blockchain  More ...|\n",
      "|2016-05-01|  11|Blockchain Techno...|\n",
      "|2016-04-29|  13|The Human Blockch...|\n",
      "|2016-04-28|  16|ECB Executive Pla...|\n",
      "|2016-04-28|  11|Russian Central B...|\n",
      "|2016-04-27|  20|Gem Health Unveil...|\n",
      "+----------+----+--------------------+\n",
      "only showing top 20 rows\n",
      "\n"
     ]
    }
   ],
   "source": [
    "df3.show()"
   ]
  },
  {
   "cell_type": "code",
   "execution_count": 10,
   "metadata": {},
   "outputs": [],
   "source": [
    "from pyspark.sql.functions import when"
   ]
  },
  {
   "cell_type": "code",
   "execution_count": 11,
   "metadata": {},
   "outputs": [],
   "source": [
    "df3 = df3.withColumn('TrueDate', when(df3.hour < 9, df3['Day'])\n",
    "                                .when(df3.hour >= 16 , f.date_add(df3['Day'], 1))\n",
    "                                .otherwise(df3['Day']))"
   ]
  },
  {
   "cell_type": "code",
   "execution_count": 12,
   "metadata": {},
   "outputs": [],
   "source": [
    "df3 = df3.withColumn('Type', when(df3.hour < 9, 'Open')\n",
    "                                .when(df3.hour >= 16 , 'Open')\n",
    "                                .otherwise('Close'))"
   ]
  },
  {
   "cell_type": "code",
   "execution_count": 13,
   "metadata": {},
   "outputs": [
    {
     "name": "stdout",
     "output_type": "stream",
     "text": [
      "+----------+----+--------------------+----------+-----+\n",
      "|       Day|hour|             Alltext|  TrueDate| Type|\n",
      "+----------+----+--------------------+----------+-----+\n",
      "|2016-05-30|  14|Dubai looks to im...|2016-05-30|Close|\n",
      "|2016-05-26|  23|How Blockchain Te...|2016-05-27| Open|\n",
      "|2016-05-23|  17|From the Internet...|2016-05-24| Open|\n",
      "|2016-05-22|  16|New Experiment Al...|2016-05-23| Open|\n",
      "|2016-05-21|   0|Science and techn...|2016-05-21| Open|\n",
      "|2016-05-20|  22|Why The Blockchai...|2016-05-21| Open|\n",
      "|2016-05-20|  18|THE BLOCKCHAIN RE...|2016-05-21| Open|\n",
      "|2016-05-18|   0|Banking with Bloc...|2016-05-18| Open|\n",
      "|2016-05-16|  17|Blockchain announ...|2016-05-17| Open|\n",
      "|2016-05-15|  10|11FS Blockchain C...|2016-05-15|Close|\n",
      "|2016-05-12|   0|How Revolutionary...|2016-05-12| Open|\n",
      "|2016-05-10|  10|New Yorkers Tout ...|2016-05-10|Close|\n",
      "|2016-05-03|  18|CoinReport  Austr...|2016-05-04| Open|\n",
      "|2016-05-03|   0|How can blockchai...|2016-05-03| Open|\n",
      "|2016-05-02|  12|Blockchain  More ...|2016-05-02|Close|\n",
      "|2016-05-01|  11|Blockchain Techno...|2016-05-01|Close|\n",
      "|2016-04-29|  13|The Human Blockch...|2016-04-29|Close|\n",
      "|2016-04-28|  16|ECB Executive Pla...|2016-04-29| Open|\n",
      "|2016-04-28|  11|Russian Central B...|2016-04-28|Close|\n",
      "|2016-04-27|  20|Gem Health Unveil...|2016-04-28| Open|\n",
      "+----------+----+--------------------+----------+-----+\n",
      "only showing top 20 rows\n",
      "\n"
     ]
    }
   ],
   "source": [
    "df3.show()"
   ]
  },
  {
   "cell_type": "code",
   "execution_count": 14,
   "metadata": {},
   "outputs": [],
   "source": [
    "# calculate sentiment scores for title, description and content\n",
    "analyzer = SentimentIntensityAnalyzer()"
   ]
  },
  {
   "cell_type": "code",
   "execution_count": 15,
   "metadata": {},
   "outputs": [],
   "source": [
    "@f.udf(returnType=DoubleType())\n",
    "def calculate_sentiment_score(text):\n",
    "    score = analyzer.polarity_scores(text)['compound']\n",
    "    return score"
   ]
  },
  {
   "cell_type": "code",
   "execution_count": 16,
   "metadata": {},
   "outputs": [],
   "source": [
    "df4 = df3.withColumn('score', calculate_sentiment_score(df3['Alltext']))"
   ]
  },
  {
   "cell_type": "code",
   "execution_count": 17,
   "metadata": {},
   "outputs": [
    {
     "name": "stdout",
     "output_type": "stream",
     "text": [
      "+----------+----+--------------------+----------+-----+-------+\n",
      "|       Day|hour|             Alltext|  TrueDate| Type|  score|\n",
      "+----------+----+--------------------+----------+-----+-------+\n",
      "|2016-05-30|  14|Dubai looks to im...|2016-05-30|Close| 0.9892|\n",
      "|2016-05-26|  23|How Blockchain Te...|2016-05-27| Open|  0.999|\n",
      "|2016-05-23|  17|From the Internet...|2016-05-24| Open|  0.933|\n",
      "|2016-05-22|  16|New Experiment Al...|2016-05-23| Open| 0.9926|\n",
      "|2016-05-21|   0|Science and techn...|2016-05-21| Open| 0.9794|\n",
      "|2016-05-20|  22|Why The Blockchai...|2016-05-21| Open|-0.9266|\n",
      "|2016-05-20|  18|THE BLOCKCHAIN RE...|2016-05-21| Open| 0.9648|\n",
      "|2016-05-18|   0|Banking with Bloc...|2016-05-18| Open| 0.9981|\n",
      "|2016-05-16|  17|Blockchain announ...|2016-05-17| Open| 0.7322|\n",
      "|2016-05-15|  10|11FS Blockchain C...|2016-05-15|Close| 0.9885|\n",
      "|2016-05-12|   0|How Revolutionary...|2016-05-12| Open| 0.9931|\n",
      "|2016-05-10|  10|New Yorkers Tout ...|2016-05-10|Close| 0.9486|\n",
      "|2016-05-03|  18|CoinReport  Austr...|2016-05-04| Open| 0.9773|\n",
      "|2016-05-03|   0|How can blockchai...|2016-05-03| Open| 0.9928|\n",
      "|2016-05-02|  12|Blockchain  More ...|2016-05-02|Close|-0.5267|\n",
      "|2016-05-01|  11|Blockchain Techno...|2016-05-01|Close| 0.9969|\n",
      "|2016-04-29|  13|The Human Blockch...|2016-04-29|Close|-0.5106|\n",
      "|2016-04-28|  16|ECB Executive Pla...|2016-04-29| Open| 0.9699|\n",
      "|2016-04-28|  11|Russian Central B...|2016-04-28|Close| 0.8905|\n",
      "|2016-04-27|  20|Gem Health Unveil...|2016-04-28| Open|  0.974|\n",
      "+----------+----+--------------------+----------+-----+-------+\n",
      "only showing top 20 rows\n",
      "\n"
     ]
    }
   ],
   "source": [
    "df4.show()"
   ]
  },
  {
   "cell_type": "code",
   "execution_count": 18,
   "metadata": {},
   "outputs": [],
   "source": [
    "df4 = df4.groupBy(['TrueDate', 'Type']).agg(f.avg(\"score\").alias(\"AverageScore\"))"
   ]
  },
  {
   "cell_type": "code",
   "execution_count": 103,
   "metadata": {},
   "outputs": [
    {
     "name": "stdout",
     "output_type": "stream",
     "text": [
      "+----------+-----+-------------------+\n",
      "|  TrueDate| Type|       AverageScore|\n",
      "+----------+-----+-------------------+\n",
      "|2021-03-31| Open| 0.6719461538461545|\n",
      "|2021-04-03| Open| 0.2891708333333335|\n",
      "|2016-07-05| Open|             0.9879|\n",
      "|2021-03-29|Close| 0.3657036496350363|\n",
      "|2021-04-06| Open|  0.646568817204301|\n",
      "|2016-10-05| Open|             0.9509|\n",
      "|2016-05-27| Open|              0.999|\n",
      "|2021-04-14|Close|-0.3307480769230771|\n",
      "|2021-03-24| Open|0.06080416666666664|\n",
      "|2016-04-04| Open|             0.9878|\n",
      "|2016-05-30|Close|             0.9892|\n",
      "|2021-03-21| Open|             0.8243|\n",
      "|2021-04-16|Close|          0.6268125|\n",
      "|2021-04-11| Open| 0.9886999999999999|\n",
      "|2021-04-01|Close| 0.6732446808510636|\n",
      "|2021-03-25| Open|  0.349928888888889|\n",
      "|2016-05-17| Open|             0.7322|\n",
      "|2016-06-08|Close|             0.8081|\n",
      "|2016-06-19|Close|             0.9001|\n",
      "|2021-04-15|Close|             0.9958|\n",
      "+----------+-----+-------------------+\n",
      "only showing top 20 rows\n",
      "\n"
     ]
    }
   ],
   "source": [
    "df4.show()"
   ]
  },
  {
   "cell_type": "code",
   "execution_count": 19,
   "metadata": {},
   "outputs": [],
   "source": [
    "df5 = df4.orderBy(\"TrueDate\", f.desc(\"Type\"))"
   ]
  },
  {
   "cell_type": "code",
   "execution_count": 20,
   "metadata": {},
   "outputs": [
    {
     "name": "stdout",
     "output_type": "stream",
     "text": [
      "+----------+-----+------------+\n",
      "|  TrueDate| Type|AverageScore|\n",
      "+----------+-----+------------+\n",
      "|2016-04-02| Open|     -0.1307|\n",
      "|2016-04-04| Open|      0.9878|\n",
      "|2016-04-05| Open|     -0.1027|\n",
      "|2016-04-07| Open|      0.1104|\n",
      "|2016-04-12|Close|       -0.07|\n",
      "|2016-04-14| Open|      0.2306|\n",
      "|2016-04-16| Open|     -0.7894|\n",
      "|2016-04-18|Close|      0.7964|\n",
      "|2016-04-23| Open|      0.9896|\n",
      "|2016-04-23|Close|      0.8387|\n",
      "|2016-04-25|Close|     -0.5994|\n",
      "|2016-04-28| Open|       0.974|\n",
      "|2016-04-28|Close|      0.8905|\n",
      "|2016-04-29| Open|      0.9699|\n",
      "|2016-04-29|Close|     -0.5106|\n",
      "|2016-05-01|Close|      0.9969|\n",
      "|2016-05-02|Close|     -0.5267|\n",
      "|2016-05-03| Open|      0.9928|\n",
      "|2016-05-04| Open|      0.9773|\n",
      "|2016-05-10|Close|      0.9486|\n",
      "+----------+-----+------------+\n",
      "only showing top 20 rows\n",
      "\n"
     ]
    }
   ],
   "source": [
    "df5.show()"
   ]
  },
  {
   "cell_type": "code",
   "execution_count": 30,
   "metadata": {},
   "outputs": [
    {
     "data": {
      "text/plain": [
       "{'TrueDate': 'date', 'Type': 'string', 'AverageScore': 'double'}"
      ]
     },
     "execution_count": 30,
     "metadata": {},
     "output_type": "execute_result"
    }
   ],
   "source": [
    "dict(df5.dtypes)"
   ]
  },
  {
   "cell_type": "markdown",
   "metadata": {},
   "source": [
    "##### General a full dataframe"
   ]
  },
  {
   "cell_type": "code",
   "execution_count": 31,
   "metadata": {},
   "outputs": [],
   "source": [
    "import datetime"
   ]
  },
  {
   "cell_type": "code",
   "execution_count": 33,
   "metadata": {},
   "outputs": [],
   "source": [
    "startdate = datetime.date(2016,3,31)\n",
    "enddate = datetime.date(2021,4,16)"
   ]
  },
  {
   "cell_type": "code",
   "execution_count": 48,
   "metadata": {},
   "outputs": [],
   "source": [
    "full_dict = {'TrueDate':[], 'Type':[]}\n",
    "cdate = startdate\n",
    "while cdate <= enddate:\n",
    "    full_dict['TrueDate'].extend([cdate, cdate])\n",
    "    full_dict['Type'].extend(['Open', 'Close'])\n",
    "    cdate += datetime.timedelta(days=1)"
   ]
  },
  {
   "cell_type": "code",
   "execution_count": 49,
   "metadata": {},
   "outputs": [],
   "source": [
    "df_ref_pd = pd.DataFrame(full_dict)"
   ]
  },
  {
   "cell_type": "code",
   "execution_count": 51,
   "metadata": {},
   "outputs": [],
   "source": [
    "df_ref = spark.createDataFrame(df_ref_pd)"
   ]
  },
  {
   "cell_type": "code",
   "execution_count": 52,
   "metadata": {},
   "outputs": [
    {
     "name": "stdout",
     "output_type": "stream",
     "text": [
      "+----------+-----+\n",
      "|  TrueDate| Type|\n",
      "+----------+-----+\n",
      "|2016-03-31| Open|\n",
      "|2016-03-31|Close|\n",
      "|2016-04-01| Open|\n",
      "|2016-04-01|Close|\n",
      "|2016-04-02| Open|\n",
      "|2016-04-02|Close|\n",
      "|2016-04-03| Open|\n",
      "|2016-04-03|Close|\n",
      "|2016-04-04| Open|\n",
      "|2016-04-04|Close|\n",
      "|2016-04-05| Open|\n",
      "|2016-04-05|Close|\n",
      "|2016-04-06| Open|\n",
      "|2016-04-06|Close|\n",
      "|2016-04-07| Open|\n",
      "|2016-04-07|Close|\n",
      "|2016-04-08| Open|\n",
      "|2016-04-08|Close|\n",
      "|2016-04-09| Open|\n",
      "|2016-04-09|Close|\n",
      "+----------+-----+\n",
      "only showing top 20 rows\n",
      "\n"
     ]
    }
   ],
   "source": [
    "df_ref.show()"
   ]
  },
  {
   "cell_type": "markdown",
   "metadata": {},
   "source": [
    "#### Outer Join df_ref and df_5 or df_4"
   ]
  },
  {
   "cell_type": "code",
   "execution_count": 100,
   "metadata": {},
   "outputs": [],
   "source": [
    "df6 = df_ref.join(df4, on=['TrueDate', 'Type'], how='left_outer')"
   ]
  },
  {
   "cell_type": "code",
   "execution_count": 101,
   "metadata": {},
   "outputs": [],
   "source": [
    "df6 = df6.na.fill(value=0,subset=[\"AverageScore\"])"
   ]
  },
  {
   "cell_type": "code",
   "execution_count": 102,
   "metadata": {},
   "outputs": [
    {
     "name": "stdout",
     "output_type": "stream",
     "text": [
      "+----------+-----+------------+\n",
      "|  TrueDate| Type|AverageScore|\n",
      "+----------+-----+------------+\n",
      "|2016-03-31| Open|         0.0|\n",
      "|2016-03-31|Close|         0.0|\n",
      "|2016-04-01| Open|         0.0|\n",
      "|2016-04-01|Close|         0.0|\n",
      "|2016-04-02| Open|     -0.1307|\n",
      "|2016-04-02|Close|         0.0|\n",
      "|2016-04-03| Open|         0.0|\n",
      "|2016-04-03|Close|         0.0|\n",
      "|2016-04-04| Open|      0.9878|\n",
      "|2016-04-04|Close|         0.0|\n",
      "|2016-04-05| Open|     -0.1027|\n",
      "|2016-04-05|Close|         0.0|\n",
      "|2016-04-06| Open|         0.0|\n",
      "|2016-04-06|Close|         0.0|\n",
      "|2016-04-07| Open|      0.1104|\n",
      "|2016-04-07|Close|         0.0|\n",
      "|2016-04-08| Open|         0.0|\n",
      "|2016-04-08|Close|         0.0|\n",
      "|2016-04-09| Open|         0.0|\n",
      "|2016-04-09|Close|         0.0|\n",
      "+----------+-----+------------+\n",
      "only showing top 20 rows\n",
      "\n"
     ]
    }
   ],
   "source": [
    "df6.show()"
   ]
  },
  {
   "cell_type": "code",
   "execution_count": null,
   "metadata": {},
   "outputs": [],
   "source": []
  },
  {
   "cell_type": "code",
   "execution_count": 58,
   "metadata": {},
   "outputs": [],
   "source": [
    "from pyspark.sql import Window"
   ]
  },
  {
   "cell_type": "code",
   "execution_count": 59,
   "metadata": {},
   "outputs": [],
   "source": [
    "w = Window.partitionBy('TrueDate').orderBy(f.desc('Type'))\n",
    "\n",
    "df7 = df6.withColumn(\n",
    "            'Open_Close', f.collect_list('AverageScore').over(w)\n",
    "        )\\\n",
    "        .groupBy('TrueDate').agg(f.max('Open_Close').alias('Open_Close'))"
   ]
  },
  {
   "cell_type": "code",
   "execution_count": 73,
   "metadata": {},
   "outputs": [
    {
     "name": "stdout",
     "output_type": "stream",
     "text": [
      "+----------+--------------+\n",
      "|  TrueDate|    Open_Close|\n",
      "+----------+--------------+\n",
      "|2016-03-31|    [0.0, 0.0]|\n",
      "|2016-04-01|    [0.0, 0.0]|\n",
      "|2016-04-02|[-0.1307, 0.0]|\n",
      "|2016-04-03|    [0.0, 0.0]|\n",
      "|2016-04-04| [0.9878, 0.0]|\n",
      "|2016-04-05|[-0.1027, 0.0]|\n",
      "|2016-04-06|    [0.0, 0.0]|\n",
      "|2016-04-07| [0.1104, 0.0]|\n",
      "|2016-04-08|    [0.0, 0.0]|\n",
      "|2016-04-09|    [0.0, 0.0]|\n",
      "|2016-04-10|    [0.0, 0.0]|\n",
      "|2016-04-11|    [0.0, 0.0]|\n",
      "|2016-04-12|  [0.0, -0.07]|\n",
      "|2016-04-13|    [0.0, 0.0]|\n",
      "|2016-04-14| [0.2306, 0.0]|\n",
      "|2016-04-15|    [0.0, 0.0]|\n",
      "|2016-04-16|[-0.7894, 0.0]|\n",
      "|2016-04-17|    [0.0, 0.0]|\n",
      "|2016-04-18| [0.0, 0.7964]|\n",
      "|2016-04-19|    [0.0, 0.0]|\n",
      "+----------+--------------+\n",
      "only showing top 20 rows\n",
      "\n"
     ]
    }
   ],
   "source": [
    "df7.sort(\"TrueDate\").show()"
   ]
  },
  {
   "cell_type": "code",
   "execution_count": 77,
   "metadata": {},
   "outputs": [],
   "source": [
    "window_duration = '11 day'\n",
    "slide_duration = '1 day'\n",
    "\n",
    "df8 = df7.orderBy('TrueDate').groupBy(f.window('TrueDate', window_duration, slide_duration)) \\\n",
    "    .agg(f.collect_list('Open_Close')) \\\n",
    "    .withColumnRenamed('collect_list(Open_Close)', 'NewsScore')"
   ]
  },
  {
   "cell_type": "code",
   "execution_count": 78,
   "metadata": {},
   "outputs": [],
   "source": [
    "# flatten\n",
    "df8 = df8.withColumn('NewsScore', f.flatten(df8['NewsScore']))"
   ]
  },
  {
   "cell_type": "code",
   "execution_count": 79,
   "metadata": {},
   "outputs": [
    {
     "name": "stdout",
     "output_type": "stream",
     "text": [
      "+--------------------+--------------------+\n",
      "|              window|           NewsScore|\n",
      "+--------------------+--------------------+\n",
      "|{2016-03-20 20:00...|          [0.0, 0.0]|\n",
      "|{2016-03-21 20:00...|[0.0, 0.0, 0.0, 0.0]|\n",
      "|{2016-03-22 20:00...|[0.0, 0.0, 0.0, 0...|\n",
      "|{2016-03-23 20:00...|[0.0, 0.0, 0.0, 0...|\n",
      "|{2016-03-24 20:00...|[0.0, 0.0, 0.0, 0...|\n",
      "|{2016-03-25 20:00...|[0.0, 0.0, 0.0, 0...|\n",
      "|{2016-03-26 20:00...|[0.0, 0.0, 0.0, 0...|\n",
      "|{2016-03-27 20:00...|[0.0, 0.0, 0.0, 0...|\n",
      "|{2016-03-28 20:00...|[0.0, 0.0, 0.0, 0...|\n",
      "|{2016-03-29 20:00...|[0.0, 0.0, 0.0, 0...|\n",
      "|{2016-03-30 20:00...|[0.0, 0.0, 0.0, 0...|\n",
      "|{2016-03-31 20:00...|[0.0, 0.0, -0.130...|\n",
      "|{2016-04-01 20:00...|[-0.1307, 0.0, 0....|\n",
      "|{2016-04-02 20:00...|[0.0, 0.0, 0.9878...|\n",
      "|{2016-04-03 20:00...|[0.9878, 0.0, -0....|\n",
      "|{2016-04-04 20:00...|[-0.1027, 0.0, 0....|\n",
      "|{2016-04-05 20:00...|[0.0, 0.0, 0.1104...|\n",
      "|{2016-04-06 20:00...|[0.1104, 0.0, 0.0...|\n",
      "|{2016-04-07 20:00...|[0.0, 0.0, 0.0, 0...|\n",
      "|{2016-04-08 20:00...|[0.0, 0.0, 0.0, 0...|\n",
      "+--------------------+--------------------+\n",
      "only showing top 20 rows\n",
      "\n"
     ]
    }
   ],
   "source": [
    "df8.sort(\"window\").show()"
   ]
  },
  {
   "cell_type": "code",
   "execution_count": 80,
   "metadata": {},
   "outputs": [],
   "source": [
    "df8 = df8.withColumn('array_length', f.size(\"NewsScore\"))"
   ]
  },
  {
   "cell_type": "code",
   "execution_count": 81,
   "metadata": {},
   "outputs": [],
   "source": [
    "df8 = df8.filter((df8.array_length == 22))"
   ]
  },
  {
   "cell_type": "code",
   "execution_count": 82,
   "metadata": {},
   "outputs": [],
   "source": [
    "df8 = df8.select('window','NewsScore')"
   ]
  },
  {
   "cell_type": "code",
   "execution_count": 83,
   "metadata": {},
   "outputs": [
    {
     "name": "stdout",
     "output_type": "stream",
     "text": [
      "+--------------------+--------------------+\n",
      "|              window|           NewsScore|\n",
      "+--------------------+--------------------+\n",
      "|{2016-03-30 20:00...|[0.0, 0.0, 0.0, 0...|\n",
      "|{2016-03-31 20:00...|[0.0, 0.0, -0.130...|\n",
      "|{2016-04-01 20:00...|[-0.1307, 0.0, 0....|\n",
      "|{2016-04-02 20:00...|[0.0, 0.0, 0.9878...|\n",
      "|{2016-04-03 20:00...|[0.9878, 0.0, -0....|\n",
      "|{2016-04-04 20:00...|[-0.1027, 0.0, 0....|\n",
      "|{2016-04-05 20:00...|[0.0, 0.0, 0.1104...|\n",
      "|{2016-04-06 20:00...|[0.1104, 0.0, 0.0...|\n",
      "|{2016-04-07 20:00...|[0.0, 0.0, 0.0, 0...|\n",
      "|{2016-04-08 20:00...|[0.0, 0.0, 0.0, 0...|\n",
      "|{2016-04-09 20:00...|[0.0, 0.0, 0.0, 0...|\n",
      "|{2016-04-10 20:00...|[0.0, 0.0, 0.0, -...|\n",
      "|{2016-04-11 20:00...|[0.0, -0.07, 0.0,...|\n",
      "|{2016-04-12 20:00...|[0.0, 0.0, 0.2306...|\n",
      "|{2016-04-13 20:00...|[0.2306, 0.0, 0.0...|\n",
      "|{2016-04-14 20:00...|[0.0, 0.0, -0.789...|\n",
      "|{2016-04-15 20:00...|[-0.7894, 0.0, 0....|\n",
      "|{2016-04-16 20:00...|[0.0, 0.0, 0.0, 0...|\n",
      "|{2016-04-17 20:00...|[0.0, 0.7964, 0.0...|\n",
      "|{2016-04-18 20:00...|[0.0, 0.0, 0.0, 0...|\n",
      "+--------------------+--------------------+\n",
      "only showing top 20 rows\n",
      "\n"
     ]
    }
   ],
   "source": [
    "df8.sort('window').show()"
   ]
  },
  {
   "cell_type": "markdown",
   "metadata": {},
   "source": [
    "#### Combine the two"
   ]
  },
  {
   "cell_type": "code",
   "execution_count": 97,
   "metadata": {},
   "outputs": [],
   "source": [
    "df_final = df1.join(df8, on=['window'], how='left_outer')"
   ]
  },
  {
   "cell_type": "code",
   "execution_count": 99,
   "metadata": {},
   "outputs": [
    {
     "name": "stdout",
     "output_type": "stream",
     "text": [
      "+--------------------+--------------------+--------------------+\n",
      "|              window|          StockPrice|           NewsScore|\n",
      "+--------------------+--------------------+--------------------+\n",
      "|{2016-03-30 20:00...|[0.0, 0.500000152...|[0.0, 0.0, 0.0, 0...|\n",
      "|{2016-03-31 20:00...|[0.0, 0.061224916...|[0.0, 0.0, -0.130...|\n",
      "|{2016-04-01 20:00...|[0.0, 0.0, 0.0, 0...|[-0.1307, 0.0, 0....|\n",
      "|{2016-04-02 20:00...|[0.0, 0.0, 0.0, 0...|[0.0, 0.0, 0.9878...|\n",
      "|{2016-04-03 20:00...|[0.0, 0.0, 0.5434...|[0.9878, 0.0, -0....|\n",
      "|{2016-04-04 20:00...|[0.0, 0.499999574...|[-0.1027, 0.0, 0....|\n",
      "|{2016-04-05 20:00...|[0.63157815484152...|[0.0, 0.0, 0.1104...|\n",
      "|{2016-04-06 20:00...|[0.05263151290346...|[0.1104, 0.0, 0.0...|\n",
      "|{2016-04-07 20:00...|[0.21052605161384...|[0.0, 0.0, 0.0, 0...|\n",
      "|{2016-04-08 20:00...|[0.0, 0.021505348...|[0.0, 0.0, 0.0, 0...|\n",
      "|{2016-04-09 20:00...|[0.01111109639391...|[0.0, 0.0, 0.0, 0...|\n",
      "|{2016-04-10 20:00...|[0.05555548196960...|[0.0, 0.0, 0.0, -...|\n",
      "|{2016-04-11 20:00...|[0.61111030166561...|[0.0, -0.07, 0.0,...|\n",
      "|{2016-04-12 20:00...|[0.27777740984800...|[0.0, 0.0, 0.2306...|\n",
      "|{2016-04-13 20:00...|[0.16666644590880...|[0.2306, 0.0, 0.0...|\n",
      "|{2016-04-14 20:00...|[1.0, 0.479999542...|[0.0, 0.0, -0.789...|\n",
      "|{2016-04-15 20:00...|[0.77241398020961...|[-0.7894, 0.0, 0....|\n",
      "|{2016-04-16 20:00...|[0.80000016442662...|[0.0, 0.0, 0.0, 0...|\n",
      "|{2016-04-17 20:00...|[0.82758634864364...|[0.0, 0.7964, 0.0...|\n",
      "|{2016-04-18 20:00...|[0.45945951170602...|[0.0, 0.0, 0.0, 0...|\n",
      "+--------------------+--------------------+--------------------+\n",
      "only showing top 20 rows\n",
      "\n"
     ]
    }
   ],
   "source": [
    "df_final.orderBy('window').show()"
   ]
  },
  {
   "cell_type": "code",
   "execution_count": null,
   "metadata": {},
   "outputs": [],
   "source": []
  }
 ],
 "metadata": {
  "kernelspec": {
   "display_name": "spider",
   "language": "python",
   "name": "spider"
  },
  "language_info": {
   "codemirror_mode": {
    "name": "ipython",
    "version": 3
   },
   "file_extension": ".py",
   "mimetype": "text/x-python",
   "name": "python",
   "nbconvert_exporter": "python",
   "pygments_lexer": "ipython3",
   "version": "3.8.5"
  }
 },
 "nbformat": 4,
 "nbformat_minor": 4
}
