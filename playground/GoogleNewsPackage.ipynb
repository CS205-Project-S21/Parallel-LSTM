{
 "cells": [
  {
   "cell_type": "code",
   "execution_count": 1,
   "metadata": {},
   "outputs": [],
   "source": [
    "from GoogleNews import GoogleNews\n",
    "from newspaper import Article\n",
    "import pandas as pd"
   ]
  },
  {
   "cell_type": "code",
   "execution_count": 2,
   "metadata": {},
   "outputs": [],
   "source": [
    "googlenews = GoogleNews(lang='en', start='02/01/2020',end='02/28/2020')"
   ]
  },
  {
   "cell_type": "code",
   "execution_count": 3,
   "metadata": {},
   "outputs": [],
   "source": [
    "googlenews.search('Bitcoin') # Search with google.com in news section"
   ]
  },
  {
   "cell_type": "code",
   "execution_count": 13,
   "metadata": {},
   "outputs": [],
   "source": [
    "googlenews.get_page(3)"
   ]
  },
  {
   "cell_type": "code",
   "execution_count": 16,
   "metadata": {},
   "outputs": [],
   "source": [
    "df1 = pd.DataFrame(googlenews.results())"
   ]
  },
  {
   "cell_type": "code",
   "execution_count": 32,
   "metadata": {},
   "outputs": [
    {
     "name": "stdout",
     "output_type": "stream",
     "text": [
      "'NoneType' object is not iterable\n"
     ]
    }
   ],
   "source": [
    "googlenews.get_page(30)"
   ]
  },
  {
   "cell_type": "code",
   "execution_count": 36,
   "metadata": {},
   "outputs": [
    {
     "data": {
      "text/plain": [
       "40"
      ]
     },
     "execution_count": 36,
     "metadata": {},
     "output_type": "execute_result"
    }
   ],
   "source": [
    "len(googlenews.results())"
   ]
  },
  {
   "cell_type": "code",
   "execution_count": 21,
   "metadata": {},
   "outputs": [
    {
     "name": "stdout",
     "output_type": "stream",
     "text": [
      "https://www.forbes.com/sites/billybambrough/2020/02/27/bitcoin-has-crashed-now-what/\n"
     ]
    }
   ],
   "source": [
    "test_link = df1['link'][0]\n",
    "print(test_link)"
   ]
  },
  {
   "cell_type": "code",
   "execution_count": 22,
   "metadata": {},
   "outputs": [],
   "source": [
    "from newspaper import Config\n",
    "user_agent = \"Mozilla/5.0 (Macintosh; Intel Mac OS X 10_15_7) AppleWebKit/537.36 (KHTML, like Gecko) Chrome/90.0.4430.85 Safari/537.36\"\n",
    "config = Config()\n",
    "config.browser_user_agent = user_agent"
   ]
  },
  {
   "cell_type": "code",
   "execution_count": 26,
   "metadata": {},
   "outputs": [
    {
     "name": "stderr",
     "output_type": "stream",
     "text": [
      "[nltk_data] Downloading package punkt to /Users/minhuanli/nltk_data...\n",
      "[nltk_data]   Unzipping tokenizers/punkt.zip.\n"
     ]
    },
    {
     "data": {
      "text/plain": [
       "True"
      ]
     },
     "execution_count": 26,
     "metadata": {},
     "output_type": "execute_result"
    }
   ],
   "source": [
    "import nltk\n",
    "nltk.download('punkt')"
   ]
  },
  {
   "cell_type": "code",
   "execution_count": 23,
   "metadata": {},
   "outputs": [],
   "source": [
    "article = Article(test_link,config=config)"
   ]
  },
  {
   "cell_type": "code",
   "execution_count": 27,
   "metadata": {},
   "outputs": [],
   "source": [
    "article.download()\n",
    "article.parse()\n",
    "article.nlp()"
   ]
  },
  {
   "cell_type": "code",
   "execution_count": 31,
   "metadata": {},
   "outputs": [
    {
     "data": {
      "text/plain": [
       "'Bitcoin, along with the wider cryptocurrency market, has crashed—dashing hopes the digital token had begun performing as a so-called safe haven asset.\\n\\nThe bitcoin price is down some 10% over the last three days with many major cryptocurrencies, including ethereum, Ripple\\'s XRP, litecoin, and bitcoin cash, recording even heavier loses.\\n\\nThe bitcoin price charged into 2020, with many hoping bitcoin would continue to climb ahead of a ... [+] raft of positive developments this year. Getty Images\\n\\nThe price of bitcoin fell to lows of $8,520 per bitcoin on the Luxembourg-based Bitstamp exchange yesterday evening after touching $10,000 just last week and wiping around $30 billion from bitcoin\\'s value.\\n\\nBitcoin and the wider cryptocurrency market crash comes as global stocks go into meltdown due to the coronavirus spreading around the world.\\n\\nU.S. stocks look to be headed for further declines at Thursday’s open despite U.S. president Donald Trump making a bid to assuage concerns over the coronavirus outbreak.\\n\\nTrump tapped vice president Mike Pence to lead the country’s efforts against the disease while saying the risk to Americans remains \"very low\" even as health authorities warned of community spreading following the confirmation of a first case of unknown origin in northern California.\\n\\nThe Dow Jones Industrial Average has lost more than 2,000 points this week, falling for the fifth day straight yesterday, along with the S&P 500. The Dow is, meanwhile, on track for its worst percentage-point weekly performance since 2008.\\n\\nBitcoin recorded a strong start to 2020, climbing back above the psychological $10,000 per bitcoin mark, first appearing to be boosted by geopolitical fears surrounding the escalating tensions between the U.S. and Iran and then apparently gaining on fears the coronavirus could knock global trade.\\n\\nWith bitcoin\\'s latest fall in the face of global market turmoil, the theory that it had begun acting as a safe haven along with gold and the Japanese yen is looking overblown.\\n\\n\"Bitcoin has been uncorrelated to other asset classes,\" bitcoin and crypto analyst at Coinist Research, Luke Martin, said via Twitter.\\n\\n\"If stocks drop, this does not mean bitcoin has to pump. If gold prices climb, this does not mean bitcoin will rise with it every time,\" Martin said, adding \"narratives will come and go.\"\\n\\n\"Bitcoin as uncorrelated has always been the narrative base case,\" added independent crypto strategist Nathaniel Whittemore.\\n\\nThe bitcoin price has slumped over the last few days after a brief period of relative stability. Coinbase\\n\\nBitcoin and cryptocurrency market watchers appear to have returned to assessing bitcoin based on its own metrics.\\n\\n\"Bitcoin’s value isn’t derived from the same indicators as fiat, such as interest rates and GDP,\" said the chief executive of crypto social trading platform HedgeTrade, Dave Waslen. \"Bitcoin is purely driven by demand which is why it often remains steady when other markets are teetering.\"\\n\\nLooking ahead into 2020, bitcoin traders and investors have a lot to feel bullish about.\\n\\nThe bitcoin mining sector is gearing up for the looming May bitcoin halving event, which will see the number of bitcoin rewarded to miners cut by half—something many hope will be a positive for the bitcoin price.\\n\\nElsewhere, bitcoin is expected to be upgraded in a so-called soft fork later this year, a development that\\'s been called \"one of the most innovative additions\" that bitcoin\\'s had.\\n\\nThe soft fork, which is a change to a cryptocurrency\\'s protocol that doesn\\'t require all nodes to be updated and is backward-compatible, is expected to improve bitcoin\\'s privacy and scalability.\\n\\nAlongside technical developments, a consumer app for bitcoin and cryptocurrency purchases from bitcoin futures exchange Bakkt will launch in the first half of 2020.\\n\\nU.S. coffee chain Starbucks will be its first launch partner, with the company one of the original backers of the crypto project, along with software giant Microsoft and Boston Consulting Group.'"
      ]
     },
     "execution_count": 31,
     "metadata": {},
     "output_type": "execute_result"
    }
   ],
   "source": [
    "article.text"
   ]
  },
  {
   "cell_type": "code",
   "execution_count": null,
   "metadata": {},
   "outputs": [],
   "source": []
  }
 ],
 "metadata": {
  "kernelspec": {
   "display_name": "spider",
   "language": "python",
   "name": "spider"
  },
  "language_info": {
   "codemirror_mode": {
    "name": "ipython",
    "version": 3
   },
   "file_extension": ".py",
   "mimetype": "text/x-python",
   "name": "python",
   "nbconvert_exporter": "python",
   "pygments_lexer": "ipython3",
   "version": "3.8.5"
  }
 },
 "nbformat": 4,
 "nbformat_minor": 4
}
