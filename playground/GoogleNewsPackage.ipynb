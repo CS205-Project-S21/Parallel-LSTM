{
 "cells": [
  {
   "cell_type": "code",
   "execution_count": 1,
   "metadata": {},
   "outputs": [],
   "source": [
    "from GoogleNews import GoogleNews"
   ]
  },
  {
   "cell_type": "code",
   "execution_count": 8,
   "metadata": {},
   "outputs": [],
   "source": [
    "googlenews = GoogleNews(lang='en', start='02/01/2020',end='02/28/2020')"
   ]
  },
  {
   "cell_type": "code",
   "execution_count": 3,
   "metadata": {},
   "outputs": [],
   "source": [
    "googlenews.search('Bitcoin') # Search with google.com in news section"
   ]
  },
  {
   "cell_type": "code",
   "execution_count": 10,
   "metadata": {},
   "outputs": [
    {
     "data": {
      "text/plain": [
       "[{'title': 'Bitcoin Has Crashed—Now What?',\n",
       "  'media': 'Forbes',\n",
       "  'date': 'Feb 27, 2020',\n",
       "  'datetime': datetime.datetime(2020, 2, 27, 0, 0),\n",
       "  'desc': 'Bitcoin and the wider cryptocurrency market crash comes as global stocks go into meltdown due to the coronavirus spreading around the world. U.S. stocks look to ...',\n",
       "  'link': 'https://www.forbes.com/sites/billybambrough/2020/02/27/bitcoin-has-crashed-now-what/',\n",
       "  'img': 'data:image/gif;base64,R0lGODlhAQABAIAAAP///////yH5BAEKAAEALAAAAAABAAEAAAICTAEAOw=='},\n",
       " {'title': 'Over $190M in Bitcoin Liquidated on BitMEX Amid Crypto Market Sell-Off - CoinDesk',\n",
       "  'media': 'CoinDesk',\n",
       "  'date': 'Feb 26, 2020',\n",
       "  'datetime': datetime.datetime(2020, 2, 26, 0, 0),\n",
       "  'desc': \"Bitcoin liquidations on BitMEX. Source: Skew Analytics. The move in the derivatives market comes during a sell-off in crypto's spot market that saw ...\",\n",
       "  'link': 'https://www.coindesk.com/over-190-million-bitcoin-liquidated-on-bitmex-amid-crypto-market-sell-off',\n",
       "  'img': 'data:image/gif;base64,R0lGODlhAQABAIAAAP///////yH5BAEKAAEALAAAAAABAAEAAAICTAEAOw=='},\n",
       " {'title': 'Millennials ‘will invest inheritances in bitcoin’',\n",
       "  'media': 'Asia Times',\n",
       "  'date': 'Feb 28, 2020',\n",
       "  'datetime': datetime.datetime(2020, 2, 28, 0, 0),\n",
       "  'desc': 'A looming, massive transfer of wealth is one of the best reasons to be bullish on bitcoin (BTC), say crypto observers. Nick Chong, a journalist and marketer at the ...',\n",
       "  'link': 'https://asiatimes.com/2020/02/millennials-will-invest-inheritances-in-bitcoin/',\n",
       "  'img': 'data:image/gif;base64,R0lGODlhAQABAIAAAP///////yH5BAEKAAEALAAAAAABAAEAAAICTAEAOw=='},\n",
       " {'title': 'Legendary BitMEX Trader Eyes 200% Rally in Bitcoin: Can it Happen?',\n",
       "  'media': 'Ethereum World News',\n",
       "  'date': 'Feb 18, 2020',\n",
       "  'datetime': datetime.datetime(2020, 2, 18, 0, 0),\n",
       "  'desc': \"If you've been on Crypto Twitter at all, ever, you likely know of AngeloBTC, a legendary Bitcoin trader and market commentator. The rather mysterious trader, ...\",\n",
       "  'link': 'https://en.ethereumworldnews.com/legendary-bitmex-trader-200-percent-bitcoin-rally/',\n",
       "  'img': 'data:image/gif;base64,R0lGODlhAQABAIAAAP///////yH5BAEKAAEALAAAAAABAAEAAAICTAEAOw=='},\n",
       " {'title': 'Peter Schiff ‘Concedes’ Bitcoin Profitable, But Won’t Succeed as Money',\n",
       "  'media': 'Cointelegraph',\n",
       "  'date': 'Feb 18, 2020',\n",
       "  'datetime': datetime.datetime(2020, 2, 18, 0, 0),\n",
       "  'desc': \"Peter Schiff 'Concedes' Bitcoin Profitable, But Won't Succeed as Money. Still not satisfied despite regaining access to his once lost coins, Peter Schiff now claims ...\",\n",
       "  'link': 'https://cointelegraph.com/news/peter-schiff-concedes-bitcoin-profitable-but-wont-succeed-as-money',\n",
       "  'img': 'data:image/gif;base64,R0lGODlhAQABAIAAAP///////yH5BAEKAAEALAAAAAABAAEAAAICTAEAOw=='},\n",
       " {'title': 'Golden Cross Gives Little Relief as Bitcoin Risks Fall Below 2020 Bullish Trendline - CoinDesk',\n",
       "  'media': 'CoinDesk',\n",
       "  'date': 'Feb 18, 2020',\n",
       "  'datetime': datetime.datetime(2020, 2, 18, 0, 0),\n",
       "  'desc': 'Bitcoin is struggling to draw bids despite a confirmed \"golden cross\" pattern on the daily chart. That, coupled with bearish short duration indicators, suggests ...',\n",
       "  'link': 'https://www.coindesk.com/golden-cross-gives-little-relief-as-bitcoin-risks-fall-below-2020-bullish-trendline',\n",
       "  'img': 'data:image/gif;base64,R0lGODlhAQABAIAAAP///////yH5BAEKAAEALAAAAAABAAEAAAICTAEAOw=='},\n",
       " {'title': 'Coronavirus Proves Bitcoin’s Value And Use Case For Good',\n",
       "  'media': 'Forbes',\n",
       "  'date': 'Feb 6, 2020',\n",
       "  'datetime': datetime.datetime(2020, 2, 6, 0, 0),\n",
       "  'desc': \"Bitcoin has a simple investment case. You either believe it's a thing or you don't. If you believe in Bitcoin it is easy to consider that such a new form of global ...\",\n",
       "  'link': 'https://www.forbes.com/sites/investor/2020/02/06/coronavirus-proves-bitcoins-value-and-use-case-for-good/',\n",
       "  'img': 'data:image/gif;base64,R0lGODlhAQABAIAAAP///////yH5BAEKAAEALAAAAAABAAEAAAICTAEAOw=='},\n",
       " {'title': 'Bitcoin Price Has Set $8.2K Floor, $100K Coming Before 2022 — Analyst',\n",
       "  'media': 'Cointelegraph',\n",
       "  'date': 'Feb 11, 2020',\n",
       "  'datetime': datetime.datetime(2020, 2, 11, 0, 0),\n",
       "  'desc': \"BTC halving impact “can be lagged”. Stock-to-flow uses two indicators to chart Bitcoin's price trajectory: the number of Bitcoins already available versus the number ...\",\n",
       "  'link': 'https://cointelegraph.com/news/bitcoin-price-has-set-82k-floor-100k-coming-before-2022-analyst',\n",
       "  'img': 'data:image/gif;base64,R0lGODlhAQABAIAAAP///////yH5BAEKAAEALAAAAAABAAEAAAICTAEAOw=='},\n",
       " {'title': 'Bitcoin’s 2020 Rally More Sustainable Than 2019 Surge',\n",
       "  'media': 'Forbes',\n",
       "  'date': 'Feb 20, 2020',\n",
       "  'datetime': datetime.datetime(2020, 2, 20, 0, 0),\n",
       "  'desc': \"This year's bitcoin rally also differs from 2019 in terms of excitement. “This time around, we are much closer to the halving, so there is hype in the crypto space ...\",\n",
       "  'link': 'https://www.forbes.com/sites/benjaminpirus/2020/02/20/bitcoins-2020-rally-more-sustainable-than-2019-surge/',\n",
       "  'img': 'data:image/gif;base64,R0lGODlhAQABAIAAAP///////yH5BAEKAAEALAAAAAABAAEAAAICTAEAOw=='},\n",
       " {'title': \"Bitcoin's Coronavirus Sell-off Throws Cold Water on Safe-Haven Argument - CoinDesk\",\n",
       "  'media': 'CoinDesk',\n",
       "  'date': 'Feb 24, 2020',\n",
       "  'datetime': datetime.datetime(2020, 2, 24, 0, 0),\n",
       "  'desc': 'Bitcoin (BTC) was down 4.6 percent as of 6:17 p.m. UTC (1:17 p.m. ET) to $9,517. But a decline of that magnitude represents merely the biggest drop since last ...',\n",
       "  'link': 'https://www.coindesk.com/bitcoins-coronavirus-selloff-throws-cold-water-on-safe-haven-argument',\n",
       "  'img': 'data:image/gif;base64,R0lGODlhAQABAIAAAP///////yH5BAEKAAEALAAAAAABAAEAAAICTAEAOw=='}]"
      ]
     },
     "execution_count": 10,
     "metadata": {},
     "output_type": "execute_result"
    }
   ],
   "source": [
    "googlenews.results()"
   ]
  },
  {
   "cell_type": "code",
   "execution_count": null,
   "metadata": {},
   "outputs": [],
   "source": []
  }
 ],
 "metadata": {
  "kernelspec": {
   "display_name": "spider",
   "language": "python",
   "name": "spider"
  },
  "language_info": {
   "codemirror_mode": {
    "name": "ipython",
    "version": 3
   },
   "file_extension": ".py",
   "mimetype": "text/x-python",
   "name": "python",
   "nbconvert_exporter": "python",
   "pygments_lexer": "ipython3",
   "version": "3.8.5"
  }
 },
 "nbformat": 4,
 "nbformat_minor": 4
}
