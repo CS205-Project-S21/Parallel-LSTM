{
 "cells": [
  {
   "cell_type": "code",
   "execution_count": 1,
   "metadata": {},
   "outputs": [],
   "source": [
    "import datetime\n",
    "import re\n",
    "import requests\n",
    "import json\n",
    "import warnings\n",
    "\n",
    "import pandas as pd\n",
    "\n",
    "RAPID_API_KEY = '67f58679fcmsh1d5d86c70be0778p1320e2jsn414d9154fae0'\n",
    "NEWS_API_KEY = '7b294a567b694de5b23397387713d7f6' \n",
    "\n",
    "keyword = \"bitcoin blockchain\"\n",
    "ticker = \"RIOT\" \n",
    "\n",
    "date_formats = ['%Y-%m-%dT%H:%M:%S', '%Y-%m-%d %H:%M:%S', '%d/%m/%Y %H:%M:%S', '%Y-%m-%dT%H:%M:%SZ']\n",
    "output_file_name= \"../data/news/data/news_large1.csv\"\n",
    "\n",
    "# Data Structure for final output\n",
    "news = {'source': [], 'author': [], 'time': [], 'title': [],\n",
    "        'description': [], 'content': [], 'url': []}"
   ]
  },
  {
   "cell_type": "code",
   "execution_count": 2,
   "metadata": {},
   "outputs": [],
   "source": [
    "def addnews(startdate, enddate, news):\n",
    "    # 1. Contextual Web Search API, 100 Request per day, 50 articles every time\n",
    "    url1 = \"https://contextualwebsearch-websearch-v1.p.rapidapi.com/api/search/NewsSearchAPI\"\n",
    "    querystring1 = {\"q\":keyword,\"pageNumber\":\"1\",\"pageSize\":\"50\",\"autoCorrect\":\"true\",\"fromPublishedDate\":startdate,\n",
    "                   \"toPublishedDate\":enddate}\n",
    "    headers1 = {\n",
    "        'x-rapidapi-key': RAPID_API_KEY,\n",
    "        'x-rapidapi-host': \"contextualwebsearch-websearch-v1.p.rapidapi.com\"\n",
    "        }\n",
    "\n",
    "    response1 = requests.request(\"GET\", url1, headers=headers1, params=querystring1)\n",
    "\n",
    "    try: \n",
    "        body1 = json.loads(response1.text)\n",
    "        articles1 = body1[\"value\"]\n",
    "        n_articles = len(articles1)\n",
    "\n",
    "        for i, article in enumerate(articles1):\n",
    "            news['source'].append(article['provider']['name'])\n",
    "            news['author'].append(\"NotProvided\")\n",
    "            for date_format in date_formats:\n",
    "                try:\n",
    "                    news['time'].append(datetime.datetime.strptime(article['datePublished'], date_format))\n",
    "                    break\n",
    "                except:\n",
    "                    continue\n",
    "            news['title'].append(article['title'])\n",
    "            news['description'].append(re.sub(r'(\\r|\\n|<.*?>|…)+', ' ', article['description']).strip())\n",
    "            news['content'].append(re.sub(r'(\\r|\\n|<.*?>|… \\[\\+[0-9]+ chars])+', ' ', article['body']).strip())\n",
    "            news['url'].append(article['url'])\n",
    "    except:\n",
    "        warnings.warn(\"Fail to get news from Contextual Web Search API!\")\n",
    "\n",
    "\n",
    "    # 2. Newscatche API, 25 Request per hour, only five articles every time\n",
    "    url21 = \"https://newscatcher.p.rapidapi.com/v1/stocks\"\n",
    "    querystring21 = {\"ticker\":ticker,\"from\":startdate,\"to\":enddate,\"lang\":\"en\",\"stock\":\"NASDAQ\",\"media\":\"True\",\"sort_by\":\"relevancy\"}\n",
    "\n",
    "    headers21 = {\n",
    "        'x-rapidapi-key': RAPID_API_KEY,\n",
    "        'x-rapidapi-host': \"newscatcher.p.rapidapi.com\"\n",
    "        }\n",
    "\n",
    "    response21 = requests.request(\"GET\", url21, headers=headers21, params=querystring21)\n",
    "\n",
    "    try: \n",
    "        body21 = json.loads(response21.text)\n",
    "        articles21 = body21[\"articles\"]\n",
    "        n_articles21 = len(articles21)\n",
    "\n",
    "        for i, article in enumerate(articles21):\n",
    "            news['source'].append(\"NotProvided\")\n",
    "            news['author'].append(re.sub(r'(\\r|\\n|<.*?>|…)+', ' ', str(article['author'])).strip())\n",
    "            for date_format in date_formats:\n",
    "                try:\n",
    "                    news['time'].append(datetime.datetime.strptime(article['published_date'], date_format))\n",
    "                    break\n",
    "                except:\n",
    "                    continue\n",
    "            news['title'].append(article['title'])\n",
    "            news['description'].append(re.sub(r'(\\r|\\n|<.*?>|…)+', ' ', article['summary']).strip())\n",
    "            news['content'].append(' ')\n",
    "            news['url'].append(article['link'])\n",
    "    except Exception as e:\n",
    "        print(e)\n",
    "        warnings.warn(\"Fail to get news from Newscatcher API Stock Search!\")\n",
    "\n",
    "\n",
    "    url22 = \"https://newscatcher.p.rapidapi.com/v1/search\"\n",
    "    querystring22 = {\"q\":keyword,\"from\":startdate,\"to\":enddate,\"lang\":\"en\",\"media\":\"True\",\"sort_by\":\"relevancy\"}\n",
    "\n",
    "    headers22 = {\n",
    "        'x-rapidapi-key': RAPID_API_KEY,\n",
    "        'x-rapidapi-host': \"newscatcher.p.rapidapi.com\"\n",
    "        }\n",
    "\n",
    "    response22 = requests.request(\"GET\", url22, headers=headers22, params=querystring22)\n",
    "\n",
    "    try: \n",
    "        body22 = json.loads(response22.text)\n",
    "        articles22 = body22[\"articles\"]\n",
    "        n_articles22 = len(articles22)\n",
    "\n",
    "        for i, article in enumerate(articles22):\n",
    "            news['source'].append(\"NotProvided\")\n",
    "            news['author'].append(re.sub(r'(\\r|\\n|<.*?>|…)+', ' ', str(article['author'])).strip())\n",
    "            for date_format in date_formats:\n",
    "                try:\n",
    "                    news['time'].append(datetime.datetime.strptime(article['published_date'], date_format))\n",
    "                    break\n",
    "                except:\n",
    "                    continue\n",
    "            news['title'].append(article['title'])\n",
    "            news['description'].append(re.sub(r'(\\r|\\n|<.*?>|…)+', ' ', article['summary']).strip())\n",
    "            news['content'].append(' ')\n",
    "            news['url'].append(article['link'])\n",
    "    except Exception as e:\n",
    "        print(e)\n",
    "        warnings.warn(\"Fail to get news from Newscatcher API Keyword Search!\")\n",
    "\n",
    "\n",
    "    # 3. NewsAPI search, 100 requests per day\n",
    "    url3 = ('https://newsapi.org/v2/everything?'\n",
    "           'q='+keyword+'&'\n",
    "           'from='+startdate+'&'\n",
    "           'to='+enddate+'&'\n",
    "           'sortBy=relevancy&'\n",
    "           'pageSize=100&'\n",
    "           'apiKey='+NEWS_API_KEY)\n",
    "\n",
    "    try: \n",
    "        articles3 = requests.get(url3).json()['articles']\n",
    "\n",
    "        for i, article in enumerate(articles3):\n",
    "            news['source'].append(article['source']['name'])\n",
    "            news['author'].append(re.sub(r'(\\r|\\n|<.*?>|…)+', ' ', str(article['author'])).strip())\n",
    "            for date_format in date_formats:\n",
    "                try:\n",
    "                    news['time'].append(datetime.datetime.strptime(article['publishedAt'], date_format))\n",
    "                    break\n",
    "                except:\n",
    "                    continue\n",
    "            news['title'].append(article['title'])\n",
    "            news['description'].append(re.sub(r'(\\r|\\n|<.*?>|…)+', ' ', article['description']).strip())\n",
    "            news['content'].append(re.sub(r'(\\r|\\n|<.*?>|… \\[\\+[0-9]+ chars])+', ' ', article['content']).strip())\n",
    "            news['url'].append(article['url'])\n",
    "    except:\n",
    "        warnings.warn(\"Fail to get news from NewsAPI Search!\")"
   ]
  },
  {
   "cell_type": "code",
   "execution_count": 3,
   "metadata": {},
   "outputs": [
    {
     "name": "stdout",
     "output_type": "stream",
     "text": [
      "'articles'\n"
     ]
    },
    {
     "name": "stderr",
     "output_type": "stream",
     "text": [
      "<ipython-input-2-db28db4ab823>:66: UserWarning: Fail to get news from Newscatcher API Stock Search!\n",
      "  warnings.warn(\"Fail to get news from Newscatcher API Stock Search!\")\n"
     ]
    },
    {
     "name": "stdout",
     "output_type": "stream",
     "text": [
      "'articles'\n"
     ]
    },
    {
     "name": "stderr",
     "output_type": "stream",
     "text": [
      "<ipython-input-2-db28db4ab823>:99: UserWarning: Fail to get news from Newscatcher API Keyword Search!\n",
      "  warnings.warn(\"Fail to get news from Newscatcher API Keyword Search!\")\n",
      "<ipython-input-2-db28db4ab823>:128: UserWarning: Fail to get news from NewsAPI Search!\n",
      "  warnings.warn(\"Fail to get news from NewsAPI Search!\")\n"
     ]
    }
   ],
   "source": [
    "startdate = \"2016-03-31T00:00:00\"\n",
    "enddate = \"2016-05-31T23:59:59\"\n",
    "addnews(startdate,enddate, news)"
   ]
  },
  {
   "cell_type": "code",
   "execution_count": 5,
   "metadata": {},
   "outputs": [
    {
     "name": "stdout",
     "output_type": "stream",
     "text": [
      "'articles'\n",
      "'articles'\n"
     ]
    },
    {
     "name": "stderr",
     "output_type": "stream",
     "text": [
      "<ipython-input-2-db28db4ab823>:66: UserWarning: Fail to get news from Newscatcher API Stock Search!\n",
      "  warnings.warn(\"Fail to get news from Newscatcher API Stock Search!\")\n",
      "<ipython-input-2-db28db4ab823>:99: UserWarning: Fail to get news from Newscatcher API Keyword Search!\n",
      "  warnings.warn(\"Fail to get news from Newscatcher API Keyword Search!\")\n",
      "<ipython-input-2-db28db4ab823>:128: UserWarning: Fail to get news from NewsAPI Search!\n",
      "  warnings.warn(\"Fail to get news from NewsAPI Search!\")\n"
     ]
    }
   ],
   "source": [
    "startdate = \"2016-05-31T00:00:00\"\n",
    "enddate = \"2016-07-31T23:59:59\"\n",
    "addnews(startdate,enddate, news)"
   ]
  },
  {
   "cell_type": "code",
   "execution_count": 8,
   "metadata": {},
   "outputs": [
    {
     "name": "stdout",
     "output_type": "stream",
     "text": [
      "'articles'\n"
     ]
    },
    {
     "name": "stderr",
     "output_type": "stream",
     "text": [
      "<ipython-input-2-db28db4ab823>:66: UserWarning: Fail to get news from Newscatcher API Stock Search!\n",
      "  warnings.warn(\"Fail to get news from Newscatcher API Stock Search!\")\n"
     ]
    },
    {
     "name": "stdout",
     "output_type": "stream",
     "text": [
      "'articles'\n"
     ]
    },
    {
     "name": "stderr",
     "output_type": "stream",
     "text": [
      "<ipython-input-2-db28db4ab823>:99: UserWarning: Fail to get news from Newscatcher API Keyword Search!\n",
      "  warnings.warn(\"Fail to get news from Newscatcher API Keyword Search!\")\n",
      "<ipython-input-2-db28db4ab823>:128: UserWarning: Fail to get news from NewsAPI Search!\n",
      "  warnings.warn(\"Fail to get news from NewsAPI Search!\")\n"
     ]
    }
   ],
   "source": [
    "startdate = \"2016-07-31T00:00:00\"\n",
    "enddate = \"2016-09-31T23:59:59\"\n",
    "addnews(startdate,enddate, news)"
   ]
  },
  {
   "cell_type": "code",
   "execution_count": 10,
   "metadata": {},
   "outputs": [
    {
     "name": "stdout",
     "output_type": "stream",
     "text": [
      "'articles'\n",
      "'articles'\n"
     ]
    },
    {
     "name": "stderr",
     "output_type": "stream",
     "text": [
      "<ipython-input-2-db28db4ab823>:66: UserWarning: Fail to get news from Newscatcher API Stock Search!\n",
      "  warnings.warn(\"Fail to get news from Newscatcher API Stock Search!\")\n",
      "<ipython-input-2-db28db4ab823>:99: UserWarning: Fail to get news from Newscatcher API Keyword Search!\n",
      "  warnings.warn(\"Fail to get news from Newscatcher API Keyword Search!\")\n",
      "<ipython-input-2-db28db4ab823>:128: UserWarning: Fail to get news from NewsAPI Search!\n",
      "  warnings.warn(\"Fail to get news from NewsAPI Search!\")\n"
     ]
    }
   ],
   "source": [
    "startdate = \"2016-09-30T00:00:00\"\n",
    "enddate = \"2016-10-31T23:59:59\"\n",
    "addnews(startdate,enddate, news)"
   ]
  },
  {
   "cell_type": "code",
   "execution_count": 11,
   "metadata": {},
   "outputs": [
    {
     "data": {
      "text/plain": [
       "133"
      ]
     },
     "execution_count": 11,
     "metadata": {},
     "output_type": "execute_result"
    }
   ],
   "source": [
    "len(news['source'])"
   ]
  },
  {
   "cell_type": "code",
   "execution_count": 12,
   "metadata": {},
   "outputs": [
    {
     "name": "stdout",
     "output_type": "stream",
     "text": [
      "'articles'\n"
     ]
    },
    {
     "name": "stderr",
     "output_type": "stream",
     "text": [
      "<ipython-input-2-db28db4ab823>:66: UserWarning: Fail to get news from Newscatcher API Stock Search!\n",
      "  warnings.warn(\"Fail to get news from Newscatcher API Stock Search!\")\n"
     ]
    },
    {
     "name": "stdout",
     "output_type": "stream",
     "text": [
      "'articles'\n"
     ]
    },
    {
     "name": "stderr",
     "output_type": "stream",
     "text": [
      "<ipython-input-2-db28db4ab823>:99: UserWarning: Fail to get news from Newscatcher API Keyword Search!\n",
      "  warnings.warn(\"Fail to get news from Newscatcher API Keyword Search!\")\n",
      "<ipython-input-2-db28db4ab823>:128: UserWarning: Fail to get news from NewsAPI Search!\n",
      "  warnings.warn(\"Fail to get news from NewsAPI Search!\")\n"
     ]
    }
   ],
   "source": [
    "startdate = \"2016-10-31T00:00:00\"\n",
    "enddate = \"2016-11-31T23:59:59\"\n",
    "addnews(startdate,enddate, news)"
   ]
  },
  {
   "cell_type": "code",
   "execution_count": 13,
   "metadata": {},
   "outputs": [
    {
     "data": {
      "text/plain": [
       "183"
      ]
     },
     "execution_count": 13,
     "metadata": {},
     "output_type": "execute_result"
    }
   ],
   "source": [
    "len(news['source'])"
   ]
  },
  {
   "cell_type": "code",
   "execution_count": 14,
   "metadata": {},
   "outputs": [
    {
     "name": "stdout",
     "output_type": "stream",
     "text": [
      "'articles'\n"
     ]
    },
    {
     "name": "stderr",
     "output_type": "stream",
     "text": [
      "<ipython-input-2-db28db4ab823>:66: UserWarning: Fail to get news from Newscatcher API Stock Search!\n",
      "  warnings.warn(\"Fail to get news from Newscatcher API Stock Search!\")\n"
     ]
    },
    {
     "name": "stdout",
     "output_type": "stream",
     "text": [
      "'articles'\n"
     ]
    },
    {
     "name": "stderr",
     "output_type": "stream",
     "text": [
      "<ipython-input-2-db28db4ab823>:99: UserWarning: Fail to get news from Newscatcher API Keyword Search!\n",
      "  warnings.warn(\"Fail to get news from Newscatcher API Keyword Search!\")\n"
     ]
    },
    {
     "data": {
      "text/plain": [
       "183"
      ]
     },
     "execution_count": 14,
     "metadata": {},
     "output_type": "execute_result"
    }
   ],
   "source": [
    "startdate = \"2016-11-31T00:00:00\"\n",
    "enddate = \"2016-12-15T23:59:59\"\n",
    "addnews(startdate,enddate, news)\n",
    "len(news['source'])"
   ]
  },
  {
   "cell_type": "code",
   "execution_count": 17,
   "metadata": {},
   "outputs": [
    {
     "name": "stdout",
     "output_type": "stream",
     "text": [
      "'articles'\n"
     ]
    },
    {
     "name": "stderr",
     "output_type": "stream",
     "text": [
      "<ipython-input-2-db28db4ab823>:66: UserWarning: Fail to get news from Newscatcher API Stock Search!\n",
      "  warnings.warn(\"Fail to get news from Newscatcher API Stock Search!\")\n"
     ]
    },
    {
     "name": "stdout",
     "output_type": "stream",
     "text": [
      "'articles'\n"
     ]
    },
    {
     "name": "stderr",
     "output_type": "stream",
     "text": [
      "<ipython-input-2-db28db4ab823>:99: UserWarning: Fail to get news from Newscatcher API Keyword Search!\n",
      "  warnings.warn(\"Fail to get news from Newscatcher API Keyword Search!\")\n"
     ]
    },
    {
     "data": {
      "text/plain": [
       "284"
      ]
     },
     "execution_count": 17,
     "metadata": {},
     "output_type": "execute_result"
    }
   ],
   "source": [
    "startdate = \"2016-11-31T00:00:00\"\n",
    "enddate = \"2017-02-31T23:59:59\"\n",
    "addnews(startdate,enddate, news)\n",
    "len(news['source'])"
   ]
  },
  {
   "cell_type": "code",
   "execution_count": 18,
   "metadata": {},
   "outputs": [
    {
     "name": "stdout",
     "output_type": "stream",
     "text": [
      "'articles'\n"
     ]
    },
    {
     "name": "stderr",
     "output_type": "stream",
     "text": [
      "<ipython-input-2-db28db4ab823>:66: UserWarning: Fail to get news from Newscatcher API Stock Search!\n",
      "  warnings.warn(\"Fail to get news from Newscatcher API Stock Search!\")\n"
     ]
    },
    {
     "name": "stdout",
     "output_type": "stream",
     "text": [
      "'articles'\n"
     ]
    },
    {
     "name": "stderr",
     "output_type": "stream",
     "text": [
      "<ipython-input-2-db28db4ab823>:99: UserWarning: Fail to get news from Newscatcher API Keyword Search!\n",
      "  warnings.warn(\"Fail to get news from Newscatcher API Keyword Search!\")\n"
     ]
    },
    {
     "data": {
      "text/plain": [
       "385"
      ]
     },
     "execution_count": 18,
     "metadata": {},
     "output_type": "execute_result"
    }
   ],
   "source": [
    "startdate = \"2017-02-31T00:00:00\"\n",
    "enddate = \"2017-04-31T23:59:59\"\n",
    "addnews(startdate,enddate, news)\n",
    "len(news['source'])"
   ]
  },
  {
   "cell_type": "code",
   "execution_count": 22,
   "metadata": {},
   "outputs": [
    {
     "name": "stdout",
     "output_type": "stream",
     "text": [
      "'articles'\n"
     ]
    },
    {
     "name": "stderr",
     "output_type": "stream",
     "text": [
      "<ipython-input-2-db28db4ab823>:66: UserWarning: Fail to get news from Newscatcher API Stock Search!\n",
      "  warnings.warn(\"Fail to get news from Newscatcher API Stock Search!\")\n"
     ]
    },
    {
     "name": "stdout",
     "output_type": "stream",
     "text": [
      "'articles'\n"
     ]
    },
    {
     "name": "stderr",
     "output_type": "stream",
     "text": [
      "<ipython-input-2-db28db4ab823>:99: UserWarning: Fail to get news from Newscatcher API Keyword Search!\n",
      "  warnings.warn(\"Fail to get news from Newscatcher API Keyword Search!\")\n"
     ]
    },
    {
     "data": {
      "text/plain": [
       "486"
      ]
     },
     "execution_count": 22,
     "metadata": {},
     "output_type": "execute_result"
    }
   ],
   "source": [
    "startdate = \"2017-04-31T00:00:00\"\n",
    "enddate = \"2017-06-31T23:59:59\"\n",
    "addnews(startdate,enddate, news)\n",
    "len(news['source'])"
   ]
  },
  {
   "cell_type": "code",
   "execution_count": 24,
   "metadata": {},
   "outputs": [
    {
     "name": "stdout",
     "output_type": "stream",
     "text": [
      "'articles'\n",
      "'articles'\n"
     ]
    },
    {
     "name": "stderr",
     "output_type": "stream",
     "text": [
      "<ipython-input-2-db28db4ab823>:66: UserWarning: Fail to get news from Newscatcher API Stock Search!\n",
      "  warnings.warn(\"Fail to get news from Newscatcher API Stock Search!\")\n",
      "<ipython-input-2-db28db4ab823>:99: UserWarning: Fail to get news from Newscatcher API Keyword Search!\n",
      "  warnings.warn(\"Fail to get news from Newscatcher API Keyword Search!\")\n"
     ]
    },
    {
     "data": {
      "text/plain": [
       "587"
      ]
     },
     "execution_count": 24,
     "metadata": {},
     "output_type": "execute_result"
    }
   ],
   "source": [
    "startdate = \"2017-06-31T00:00:00\"\n",
    "enddate = \"2017-09-31T23:59:59\"\n",
    "addnews(startdate,enddate, news)\n",
    "len(news['source'])"
   ]
  },
  {
   "cell_type": "code",
   "execution_count": 26,
   "metadata": {},
   "outputs": [
    {
     "name": "stdout",
     "output_type": "stream",
     "text": [
      "'articles'\n",
      "'articles'\n"
     ]
    },
    {
     "name": "stderr",
     "output_type": "stream",
     "text": [
      "<ipython-input-2-db28db4ab823>:66: UserWarning: Fail to get news from Newscatcher API Stock Search!\n",
      "  warnings.warn(\"Fail to get news from Newscatcher API Stock Search!\")\n",
      "<ipython-input-2-db28db4ab823>:99: UserWarning: Fail to get news from Newscatcher API Keyword Search!\n",
      "  warnings.warn(\"Fail to get news from Newscatcher API Keyword Search!\")\n"
     ]
    },
    {
     "data": {
      "text/plain": [
       "688"
      ]
     },
     "execution_count": 26,
     "metadata": {},
     "output_type": "execute_result"
    }
   ],
   "source": [
    "startdate = \"2017-09-31T00:00:00\"\n",
    "enddate = \"2017-11-31T23:59:59\"\n",
    "addnews(startdate,enddate, news)\n",
    "len(news['source'])"
   ]
  },
  {
   "cell_type": "code",
   "execution_count": 28,
   "metadata": {},
   "outputs": [
    {
     "name": "stdout",
     "output_type": "stream",
     "text": [
      "'articles'\n",
      "'articles'\n"
     ]
    },
    {
     "name": "stderr",
     "output_type": "stream",
     "text": [
      "<ipython-input-2-db28db4ab823>:66: UserWarning: Fail to get news from Newscatcher API Stock Search!\n",
      "  warnings.warn(\"Fail to get news from Newscatcher API Stock Search!\")\n",
      "<ipython-input-2-db28db4ab823>:99: UserWarning: Fail to get news from Newscatcher API Keyword Search!\n",
      "  warnings.warn(\"Fail to get news from Newscatcher API Keyword Search!\")\n"
     ]
    },
    {
     "data": {
      "text/plain": [
       "789"
      ]
     },
     "execution_count": 28,
     "metadata": {},
     "output_type": "execute_result"
    }
   ],
   "source": [
    "startdate = \"2017-11-31T00:00:00\"\n",
    "enddate = \"2018-02-31T23:59:59\"\n",
    "addnews(startdate,enddate, news)\n",
    "len(news['source'])"
   ]
  },
  {
   "cell_type": "code",
   "execution_count": 29,
   "metadata": {},
   "outputs": [
    {
     "name": "stdout",
     "output_type": "stream",
     "text": [
      "'articles'\n",
      "'articles'\n"
     ]
    },
    {
     "name": "stderr",
     "output_type": "stream",
     "text": [
      "<ipython-input-2-db28db4ab823>:66: UserWarning: Fail to get news from Newscatcher API Stock Search!\n",
      "  warnings.warn(\"Fail to get news from Newscatcher API Stock Search!\")\n",
      "<ipython-input-2-db28db4ab823>:99: UserWarning: Fail to get news from Newscatcher API Keyword Search!\n",
      "  warnings.warn(\"Fail to get news from Newscatcher API Keyword Search!\")\n"
     ]
    },
    {
     "data": {
      "text/plain": [
       "890"
      ]
     },
     "execution_count": 29,
     "metadata": {},
     "output_type": "execute_result"
    }
   ],
   "source": [
    "startdate = \"2018-02-31T00:00:00\"\n",
    "enddate = \"2018-04-31T23:59:59\"\n",
    "addnews(startdate,enddate, news)\n",
    "len(news['source'])"
   ]
  },
  {
   "cell_type": "code",
   "execution_count": 30,
   "metadata": {},
   "outputs": [
    {
     "name": "stdout",
     "output_type": "stream",
     "text": [
      "'articles'\n",
      "'articles'\n"
     ]
    },
    {
     "name": "stderr",
     "output_type": "stream",
     "text": [
      "<ipython-input-2-db28db4ab823>:66: UserWarning: Fail to get news from Newscatcher API Stock Search!\n",
      "  warnings.warn(\"Fail to get news from Newscatcher API Stock Search!\")\n",
      "<ipython-input-2-db28db4ab823>:99: UserWarning: Fail to get news from Newscatcher API Keyword Search!\n",
      "  warnings.warn(\"Fail to get news from Newscatcher API Keyword Search!\")\n"
     ]
    },
    {
     "data": {
      "text/plain": [
       "991"
      ]
     },
     "execution_count": 30,
     "metadata": {},
     "output_type": "execute_result"
    }
   ],
   "source": [
    "startdate = \"2018-04-31T00:00:00\"\n",
    "enddate = \"2018-06-31T23:59:59\"\n",
    "addnews(startdate,enddate, news)\n",
    "len(news['source'])"
   ]
  },
  {
   "cell_type": "code",
   "execution_count": 32,
   "metadata": {},
   "outputs": [
    {
     "name": "stdout",
     "output_type": "stream",
     "text": [
      "'articles'\n",
      "'articles'\n"
     ]
    },
    {
     "name": "stderr",
     "output_type": "stream",
     "text": [
      "<ipython-input-2-db28db4ab823>:66: UserWarning: Fail to get news from Newscatcher API Stock Search!\n",
      "  warnings.warn(\"Fail to get news from Newscatcher API Stock Search!\")\n",
      "<ipython-input-2-db28db4ab823>:99: UserWarning: Fail to get news from Newscatcher API Keyword Search!\n",
      "  warnings.warn(\"Fail to get news from Newscatcher API Keyword Search!\")\n"
     ]
    },
    {
     "data": {
      "text/plain": [
       "1092"
      ]
     },
     "execution_count": 32,
     "metadata": {},
     "output_type": "execute_result"
    }
   ],
   "source": [
    "startdate = \"2018-06-31T00:00:00\"\n",
    "enddate = \"2018-09-31T23:59:59\"\n",
    "addnews(startdate,enddate, news)\n",
    "len(news['source'])"
   ]
  },
  {
   "cell_type": "code",
   "execution_count": 33,
   "metadata": {},
   "outputs": [
    {
     "name": "stdout",
     "output_type": "stream",
     "text": [
      "'articles'\n",
      "'articles'\n"
     ]
    },
    {
     "name": "stderr",
     "output_type": "stream",
     "text": [
      "<ipython-input-2-db28db4ab823>:66: UserWarning: Fail to get news from Newscatcher API Stock Search!\n",
      "  warnings.warn(\"Fail to get news from Newscatcher API Stock Search!\")\n",
      "<ipython-input-2-db28db4ab823>:99: UserWarning: Fail to get news from Newscatcher API Keyword Search!\n",
      "  warnings.warn(\"Fail to get news from Newscatcher API Keyword Search!\")\n"
     ]
    },
    {
     "data": {
      "text/plain": [
       "1193"
      ]
     },
     "execution_count": 33,
     "metadata": {},
     "output_type": "execute_result"
    }
   ],
   "source": [
    "startdate = \"2018-09-31T00:00:00\"\n",
    "enddate = \"2018-11-31T23:59:59\"\n",
    "addnews(startdate,enddate, news)\n",
    "len(news['source'])"
   ]
  },
  {
   "cell_type": "code",
   "execution_count": 34,
   "metadata": {},
   "outputs": [
    {
     "name": "stdout",
     "output_type": "stream",
     "text": [
      "'articles'\n",
      "'articles'\n"
     ]
    },
    {
     "name": "stderr",
     "output_type": "stream",
     "text": [
      "<ipython-input-2-db28db4ab823>:66: UserWarning: Fail to get news from Newscatcher API Stock Search!\n",
      "  warnings.warn(\"Fail to get news from Newscatcher API Stock Search!\")\n",
      "<ipython-input-2-db28db4ab823>:99: UserWarning: Fail to get news from Newscatcher API Keyword Search!\n",
      "  warnings.warn(\"Fail to get news from Newscatcher API Keyword Search!\")\n"
     ]
    },
    {
     "data": {
      "text/plain": [
       "1294"
      ]
     },
     "execution_count": 34,
     "metadata": {},
     "output_type": "execute_result"
    }
   ],
   "source": [
    "startdate = \"2018-11-31T00:00:00\"\n",
    "enddate = \"2019-02-31T23:59:59\"\n",
    "addnews(startdate,enddate, news)\n",
    "len(news['source'])"
   ]
  },
  {
   "cell_type": "code",
   "execution_count": 35,
   "metadata": {},
   "outputs": [
    {
     "name": "stdout",
     "output_type": "stream",
     "text": [
      "'articles'\n",
      "'articles'\n"
     ]
    },
    {
     "name": "stderr",
     "output_type": "stream",
     "text": [
      "<ipython-input-2-db28db4ab823>:66: UserWarning: Fail to get news from Newscatcher API Stock Search!\n",
      "  warnings.warn(\"Fail to get news from Newscatcher API Stock Search!\")\n",
      "<ipython-input-2-db28db4ab823>:99: UserWarning: Fail to get news from Newscatcher API Keyword Search!\n",
      "  warnings.warn(\"Fail to get news from Newscatcher API Keyword Search!\")\n"
     ]
    },
    {
     "data": {
      "text/plain": [
       "1395"
      ]
     },
     "execution_count": 35,
     "metadata": {},
     "output_type": "execute_result"
    }
   ],
   "source": [
    "startdate = \"2019-02-31T00:00:00\"\n",
    "enddate = \"2019-04-31T23:59:59\"\n",
    "addnews(startdate,enddate, news)\n",
    "len(news['source'])"
   ]
  },
  {
   "cell_type": "code",
   "execution_count": 36,
   "metadata": {},
   "outputs": [
    {
     "name": "stdout",
     "output_type": "stream",
     "text": [
      "'articles'\n",
      "'articles'\n"
     ]
    },
    {
     "name": "stderr",
     "output_type": "stream",
     "text": [
      "<ipython-input-2-db28db4ab823>:66: UserWarning: Fail to get news from Newscatcher API Stock Search!\n",
      "  warnings.warn(\"Fail to get news from Newscatcher API Stock Search!\")\n",
      "<ipython-input-2-db28db4ab823>:99: UserWarning: Fail to get news from Newscatcher API Keyword Search!\n",
      "  warnings.warn(\"Fail to get news from Newscatcher API Keyword Search!\")\n"
     ]
    },
    {
     "data": {
      "text/plain": [
       "1496"
      ]
     },
     "execution_count": 36,
     "metadata": {},
     "output_type": "execute_result"
    }
   ],
   "source": [
    "startdate = \"2019-04-31T00:00:00\"\n",
    "enddate = \"2019-06-31T23:59:59\"\n",
    "addnews(startdate,enddate, news)\n",
    "len(news['source'])"
   ]
  },
  {
   "cell_type": "code",
   "execution_count": 38,
   "metadata": {},
   "outputs": [
    {
     "name": "stdout",
     "output_type": "stream",
     "text": [
      "'articles'\n",
      "'articles'\n"
     ]
    },
    {
     "name": "stderr",
     "output_type": "stream",
     "text": [
      "<ipython-input-2-db28db4ab823>:66: UserWarning: Fail to get news from Newscatcher API Stock Search!\n",
      "  warnings.warn(\"Fail to get news from Newscatcher API Stock Search!\")\n",
      "<ipython-input-2-db28db4ab823>:99: UserWarning: Fail to get news from Newscatcher API Keyword Search!\n",
      "  warnings.warn(\"Fail to get news from Newscatcher API Keyword Search!\")\n"
     ]
    },
    {
     "data": {
      "text/plain": [
       "1597"
      ]
     },
     "execution_count": 38,
     "metadata": {},
     "output_type": "execute_result"
    }
   ],
   "source": [
    "startdate = \"2019-06-31T00:00:00\"\n",
    "enddate = \"2019-09-31T23:59:59\"\n",
    "addnews(startdate,enddate, news)\n",
    "len(news['source'])"
   ]
  },
  {
   "cell_type": "code",
   "execution_count": 39,
   "metadata": {},
   "outputs": [
    {
     "name": "stdout",
     "output_type": "stream",
     "text": [
      "'articles'\n",
      "'articles'\n"
     ]
    },
    {
     "name": "stderr",
     "output_type": "stream",
     "text": [
      "<ipython-input-2-db28db4ab823>:66: UserWarning: Fail to get news from Newscatcher API Stock Search!\n",
      "  warnings.warn(\"Fail to get news from Newscatcher API Stock Search!\")\n",
      "<ipython-input-2-db28db4ab823>:99: UserWarning: Fail to get news from Newscatcher API Keyword Search!\n",
      "  warnings.warn(\"Fail to get news from Newscatcher API Keyword Search!\")\n"
     ]
    },
    {
     "data": {
      "text/plain": [
       "1698"
      ]
     },
     "execution_count": 39,
     "metadata": {},
     "output_type": "execute_result"
    }
   ],
   "source": [
    "startdate = \"2019-09-31T00:00:00\"\n",
    "enddate = \"2019-11-31T23:59:59\"\n",
    "addnews(startdate,enddate, news)\n",
    "len(news['source'])"
   ]
  },
  {
   "cell_type": "code",
   "execution_count": 41,
   "metadata": {},
   "outputs": [
    {
     "name": "stdout",
     "output_type": "stream",
     "text": [
      "'articles'\n",
      "'articles'\n"
     ]
    },
    {
     "name": "stderr",
     "output_type": "stream",
     "text": [
      "<ipython-input-2-db28db4ab823>:66: UserWarning: Fail to get news from Newscatcher API Stock Search!\n",
      "  warnings.warn(\"Fail to get news from Newscatcher API Stock Search!\")\n",
      "<ipython-input-2-db28db4ab823>:99: UserWarning: Fail to get news from Newscatcher API Keyword Search!\n",
      "  warnings.warn(\"Fail to get news from Newscatcher API Keyword Search!\")\n"
     ]
    },
    {
     "data": {
      "text/plain": [
       "1799"
      ]
     },
     "execution_count": 41,
     "metadata": {},
     "output_type": "execute_result"
    }
   ],
   "source": [
    "startdate = \"2019-11-31T00:00:00\"\n",
    "enddate = \"2020-02-31T23:59:59\"\n",
    "addnews(startdate,enddate, news)\n",
    "len(news['source'])"
   ]
  },
  {
   "cell_type": "code",
   "execution_count": 42,
   "metadata": {},
   "outputs": [
    {
     "name": "stdout",
     "output_type": "stream",
     "text": [
      "'articles'\n",
      "'articles'\n"
     ]
    },
    {
     "name": "stderr",
     "output_type": "stream",
     "text": [
      "<ipython-input-2-db28db4ab823>:66: UserWarning: Fail to get news from Newscatcher API Stock Search!\n",
      "  warnings.warn(\"Fail to get news from Newscatcher API Stock Search!\")\n",
      "<ipython-input-2-db28db4ab823>:99: UserWarning: Fail to get news from Newscatcher API Keyword Search!\n",
      "  warnings.warn(\"Fail to get news from Newscatcher API Keyword Search!\")\n"
     ]
    },
    {
     "data": {
      "text/plain": [
       "1900"
      ]
     },
     "execution_count": 42,
     "metadata": {},
     "output_type": "execute_result"
    }
   ],
   "source": [
    "startdate = \"2020-02-31T00:00:00\"\n",
    "enddate = \"2020-04-31T23:59:59\"\n",
    "addnews(startdate,enddate, news)\n",
    "len(news['source'])"
   ]
  },
  {
   "cell_type": "code",
   "execution_count": 43,
   "metadata": {},
   "outputs": [
    {
     "name": "stdout",
     "output_type": "stream",
     "text": [
      "'articles'\n",
      "'articles'\n"
     ]
    },
    {
     "name": "stderr",
     "output_type": "stream",
     "text": [
      "<ipython-input-2-db28db4ab823>:66: UserWarning: Fail to get news from Newscatcher API Stock Search!\n",
      "  warnings.warn(\"Fail to get news from Newscatcher API Stock Search!\")\n",
      "<ipython-input-2-db28db4ab823>:99: UserWarning: Fail to get news from Newscatcher API Keyword Search!\n",
      "  warnings.warn(\"Fail to get news from Newscatcher API Keyword Search!\")\n"
     ]
    },
    {
     "data": {
      "text/plain": [
       "2001"
      ]
     },
     "execution_count": 43,
     "metadata": {},
     "output_type": "execute_result"
    }
   ],
   "source": [
    "startdate = \"2020-04-31T00:00:00\"\n",
    "enddate = \"2020-06-31T23:59:59\"\n",
    "addnews(startdate,enddate, news)\n",
    "len(news['source'])"
   ]
  },
  {
   "cell_type": "code",
   "execution_count": 45,
   "metadata": {},
   "outputs": [
    {
     "name": "stdout",
     "output_type": "stream",
     "text": [
      "'articles'\n",
      "'articles'\n"
     ]
    },
    {
     "name": "stderr",
     "output_type": "stream",
     "text": [
      "<ipython-input-2-db28db4ab823>:66: UserWarning: Fail to get news from Newscatcher API Stock Search!\n",
      "  warnings.warn(\"Fail to get news from Newscatcher API Stock Search!\")\n",
      "<ipython-input-2-db28db4ab823>:99: UserWarning: Fail to get news from Newscatcher API Keyword Search!\n",
      "  warnings.warn(\"Fail to get news from Newscatcher API Keyword Search!\")\n"
     ]
    },
    {
     "data": {
      "text/plain": [
       "2102"
      ]
     },
     "execution_count": 45,
     "metadata": {},
     "output_type": "execute_result"
    }
   ],
   "source": [
    "startdate = \"2020-06-31T00:00:00\"\n",
    "enddate = \"2020-09-31T23:59:59\"\n",
    "addnews(startdate,enddate, news)\n",
    "len(news['source'])"
   ]
  },
  {
   "cell_type": "code",
   "execution_count": 46,
   "metadata": {},
   "outputs": [
    {
     "name": "stdout",
     "output_type": "stream",
     "text": [
      "'articles'\n",
      "'articles'\n"
     ]
    },
    {
     "name": "stderr",
     "output_type": "stream",
     "text": [
      "<ipython-input-2-db28db4ab823>:66: UserWarning: Fail to get news from Newscatcher API Stock Search!\n",
      "  warnings.warn(\"Fail to get news from Newscatcher API Stock Search!\")\n",
      "<ipython-input-2-db28db4ab823>:99: UserWarning: Fail to get news from Newscatcher API Keyword Search!\n",
      "  warnings.warn(\"Fail to get news from Newscatcher API Keyword Search!\")\n"
     ]
    },
    {
     "data": {
      "text/plain": [
       "2203"
      ]
     },
     "execution_count": 46,
     "metadata": {},
     "output_type": "execute_result"
    }
   ],
   "source": [
    "startdate = \"2020-09-31T00:00:00\"\n",
    "enddate = \"2020-11-31T23:59:59\"\n",
    "addnews(startdate,enddate, news)\n",
    "len(news['source'])"
   ]
  },
  {
   "cell_type": "code",
   "execution_count": 48,
   "metadata": {},
   "outputs": [
    {
     "name": "stdout",
     "output_type": "stream",
     "text": [
      "'articles'\n",
      "'articles'\n"
     ]
    },
    {
     "name": "stderr",
     "output_type": "stream",
     "text": [
      "<ipython-input-2-db28db4ab823>:66: UserWarning: Fail to get news from Newscatcher API Stock Search!\n",
      "  warnings.warn(\"Fail to get news from Newscatcher API Stock Search!\")\n",
      "<ipython-input-2-db28db4ab823>:99: UserWarning: Fail to get news from Newscatcher API Keyword Search!\n",
      "  warnings.warn(\"Fail to get news from Newscatcher API Keyword Search!\")\n"
     ]
    },
    {
     "data": {
      "text/plain": [
       "2304"
      ]
     },
     "execution_count": 48,
     "metadata": {},
     "output_type": "execute_result"
    }
   ],
   "source": [
    "startdate = \"2020-11-31T00:00:00\"\n",
    "enddate = \"2021-02-31T23:59:59\"\n",
    "addnews(startdate,enddate, news)\n",
    "len(news['source'])"
   ]
  },
  {
   "cell_type": "code",
   "execution_count": 49,
   "metadata": {},
   "outputs": [
    {
     "name": "stdout",
     "output_type": "stream",
     "text": [
      "'articles'\n",
      "'articles'\n"
     ]
    },
    {
     "name": "stderr",
     "output_type": "stream",
     "text": [
      "<ipython-input-2-db28db4ab823>:66: UserWarning: Fail to get news from Newscatcher API Stock Search!\n",
      "  warnings.warn(\"Fail to get news from Newscatcher API Stock Search!\")\n",
      "<ipython-input-2-db28db4ab823>:99: UserWarning: Fail to get news from Newscatcher API Keyword Search!\n",
      "  warnings.warn(\"Fail to get news from Newscatcher API Keyword Search!\")\n"
     ]
    },
    {
     "data": {
      "text/plain": [
       "2404"
      ]
     },
     "execution_count": 49,
     "metadata": {},
     "output_type": "execute_result"
    }
   ],
   "source": [
    "startdate = \"2021-02-31T00:00:00\"\n",
    "enddate = \"2021-03-31T23:59:59\"\n",
    "addnews(startdate,enddate, news)\n",
    "len(news['source'])"
   ]
  },
  {
   "cell_type": "code",
   "execution_count": 50,
   "metadata": {},
   "outputs": [
    {
     "name": "stdout",
     "output_type": "stream",
     "text": [
      "'articles'\n",
      "'articles'\n"
     ]
    },
    {
     "name": "stderr",
     "output_type": "stream",
     "text": [
      "<ipython-input-2-db28db4ab823>:66: UserWarning: Fail to get news from Newscatcher API Stock Search!\n",
      "  warnings.warn(\"Fail to get news from Newscatcher API Stock Search!\")\n",
      "<ipython-input-2-db28db4ab823>:99: UserWarning: Fail to get news from Newscatcher API Keyword Search!\n",
      "  warnings.warn(\"Fail to get news from Newscatcher API Keyword Search!\")\n"
     ]
    },
    {
     "data": {
      "text/plain": [
       "2554"
      ]
     },
     "execution_count": 50,
     "metadata": {},
     "output_type": "execute_result"
    }
   ],
   "source": [
    "startdate = \"2021-03-31T00:00:00\"\n",
    "enddate = \"2021-04-16T23:59:59\"\n",
    "addnews(startdate,enddate, news)\n",
    "len(news['source'])"
   ]
  },
  {
   "cell_type": "code",
   "execution_count": 64,
   "metadata": {},
   "outputs": [],
   "source": [
    "df_news = pd.DataFrame(news)\n",
    "df_news.to_csv(\"../data/news/data/news_large.csv\", index=False)"
   ]
  }
 ],
 "metadata": {
  "kernelspec": {
   "display_name": "spider",
   "language": "python",
   "name": "spider"
  },
  "language_info": {
   "codemirror_mode": {
    "name": "ipython",
    "version": 3
   },
   "file_extension": ".py",
   "mimetype": "text/x-python",
   "name": "python",
   "nbconvert_exporter": "python",
   "pygments_lexer": "ipython3",
   "version": "3.8.5"
  }
 },
 "nbformat": 4,
 "nbformat_minor": 4
}
