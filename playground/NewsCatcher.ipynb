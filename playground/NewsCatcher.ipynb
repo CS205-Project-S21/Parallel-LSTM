{
 "cells": [
  {
   "cell_type": "markdown",
   "metadata": {},
   "source": [
    "Source: https://rapidapi.com/newscatcher-api-newscatcher-api-default/api/newscatcher?endpoint=apiendpoint_284455e8-af7c-4ba3-ac26-b0262a5b94a2"
   ]
  },
  {
   "cell_type": "code",
   "execution_count": 2,
   "metadata": {},
   "outputs": [],
   "source": [
    "import requests\n",
    "import json"
   ]
  },
  {
   "cell_type": "markdown",
   "metadata": {},
   "source": [
    "### Stock Ticker Search"
   ]
  },
  {
   "cell_type": "code",
   "execution_count": 11,
   "metadata": {},
   "outputs": [],
   "source": [
    "url = \"https://newscatcher.p.rapidapi.com/v1/stocks\"\n",
    "\n",
    "querystring = {\"ticker\":\"TSLA\",\"from\":\"2021-03-01\",\"to\":\"2021-04-05\",\"lang\":\"en\",\"sources\":\"nytimes.com, cnn.com, wsj.com\",\"stock\":\"NASDAQ\",\"media\":\"True\",\"sort_by\":\"relevancy\"}\n",
    "\n",
    "headers = {\n",
    "    'x-rapidapi-key': \"67f58679fcmsh1d5d86c70be0778p1320e2jsn414d9154fae0\",\n",
    "    'x-rapidapi-host': \"newscatcher.p.rapidapi.com\"\n",
    "    }\n",
    "\n",
    "response = requests.request(\"GET\", url, headers=headers, params=querystring)"
   ]
  },
  {
   "cell_type": "code",
   "execution_count": 12,
   "metadata": {},
   "outputs": [],
   "source": [
    "body = json.loads(response.text)"
   ]
  },
  {
   "cell_type": "code",
   "execution_count": 13,
   "metadata": {},
   "outputs": [
    {
     "data": {
      "text/plain": [
       "70"
      ]
     },
     "execution_count": 13,
     "metadata": {},
     "output_type": "execute_result"
    }
   ],
   "source": [
    "body['total_pages']"
   ]
  },
  {
   "cell_type": "code",
   "execution_count": 14,
   "metadata": {},
   "outputs": [],
   "source": [
    "articles = body['articles']"
   ]
  },
  {
   "cell_type": "code",
   "execution_count": 15,
   "metadata": {},
   "outputs": [],
   "source": [
    "news1 = articles[0]"
   ]
  },
  {
   "cell_type": "code",
   "execution_count": 16,
   "metadata": {},
   "outputs": [
    {
     "name": "stdout",
     "output_type": "stream",
     "text": [
      "dict_keys(['summary', 'country', 'author', 'link', 'language', 'media', 'title', 'media_content', 'clean_url', 'rights', 'rank', 'topic', 'published_date', '_id'])\n"
     ]
    }
   ],
   "source": [
    "print(news1.keys())"
   ]
  },
  {
   "cell_type": "code",
   "execution_count": 17,
   "metadata": {},
   "outputs": [
    {
     "name": "stdout",
     "output_type": "stream",
     "text": [
      "Title: Individual investors retreat from markets after show-stopping start to 2021\n",
      "Summary: Individual investors kicked off 2021 at a sprinter's pace. Now, they are finally showing signs of fatigue.Trading activity among nonprofessional investors has slowed in recent weeks after a blockbuster start to the year, with the group plowing less money into everything from U.S. stocks to bullish call options. Daily average trades for at least two online brokerages have edged down from their 2021 highs. And across the industry, traffic to brokerage websites, as well as the amount of time spent on them, has fallen.\n",
      "Link: https://www.wsj.com/articles/individual-investors-retreat-from-markets-after-show-stopping-start-to-2021-11617528781\n",
      "Media Content: https://static.foxbusiness.com/foxbusiness.com/content/uploads/2021/03/NYSE-cropped.jpg,http://a57.foxnews.com60/60/NYSE-cropped.jpg\n"
     ]
    }
   ],
   "source": [
    "print('Title:',news1['title'])\n",
    "print('Summary:',news1['summary'])\n",
    "print('Link:',news1['link'])\n",
    "print('Media Content:',news1['media_content'])"
   ]
  },
  {
   "cell_type": "code",
   "execution_count": 18,
   "metadata": {},
   "outputs": [
    {
     "name": "stdout",
     "output_type": "stream",
     "text": [
      "published_date: 2021-04-04 14:09:53\n",
      "author: Caitlin McCabe\n",
      "Media: https://a57.foxnews.com/static.foxbusiness.com/foxbusiness.com/content/uploads/2021/03/0/0/NYSE-cropped.jpg?ve=1&tl=1\n",
      "id: 86cf75fe0626a9337d7182edfe69689e\n"
     ]
    }
   ],
   "source": [
    "print('published_date:',news1['published_date'])\n",
    "print('author:',news1['author'])\n",
    "print('Media:',news1['media'])\n",
    "print('id:',news1['_id'])"
   ]
  },
  {
   "cell_type": "markdown",
   "metadata": {},
   "source": [
    "### Keyword search"
   ]
  },
  {
   "cell_type": "code",
   "execution_count": 19,
   "metadata": {},
   "outputs": [],
   "source": [
    "url = \"https://newscatcher.p.rapidapi.com/v1/search\"\n",
    "\n",
    "querystring = {\"q\":\"Bitcoin\",\"lang\":\"en\",\"sort_by\":\"relevancy\",\"from\":\"2021-04-15T00:00:00\",\"to\":\"2021-04-15T23:59:59\",\"page\":\"1\",\"media\":\"True\"}\n",
    "\n",
    "headers = {\n",
    "    'x-rapidapi-key': \"67f58679fcmsh1d5d86c70be0778p1320e2jsn414d9154fae0\",\n",
    "    'x-rapidapi-host': \"newscatcher.p.rapidapi.com\"\n",
    "    }\n",
    "\n",
    "response = requests.request(\"GET\", url, headers=headers, params=querystring)"
   ]
  },
  {
   "cell_type": "code",
   "execution_count": 20,
   "metadata": {},
   "outputs": [],
   "source": [
    "body = json.loads(response.text)\n",
    "articles = body['articles']"
   ]
  },
  {
   "cell_type": "code",
   "execution_count": 22,
   "metadata": {},
   "outputs": [],
   "source": [
    "news1 = articles[0]"
   ]
  },
  {
   "cell_type": "code",
   "execution_count": 23,
   "metadata": {},
   "outputs": [
    {
     "name": "stdout",
     "output_type": "stream",
     "text": [
      "dict_keys(['summary', 'country', 'author', 'link', 'language', 'media', 'title', 'media_content', 'clean_url', 'rights', 'rank', 'topic', 'published_date', '_id', '_score'])\n"
     ]
    }
   ],
   "source": [
    "print(news1.keys())"
   ]
  },
  {
   "cell_type": "code",
   "execution_count": 24,
   "metadata": {},
   "outputs": [
    {
     "name": "stdout",
     "output_type": "stream",
     "text": [
      "Title: Bitcoin vs Coinbase During The Blocksize War. A History Lesson by BTCsessions. Delete Coinbase is Trending Again. Buy Bitcoin, Sell Coinbase. Bitcoin Remembers.\n",
      "Summary: On a scale of 1-10, where 1 is anti-bitcoin, 10 is pro-bitcoin, Coinbase is at best only 3 or 4.Consider this:Some people may think owning the shares of Coinbase means indirectly owning Bitcoin. But the truth is, they indirectly own Bitcoin along with gazillions of shitcoins.\n",
      "Link: https://www.reddit.com/r/Bitcoin/comments/mrd08a/bitcoin_vs_coinbase_during_the_blocksize_war_a/\n",
      "Media Content: None\n"
     ]
    }
   ],
   "source": [
    "print('Title:',news1['title'])\n",
    "print('Summary:',news1['summary'])\n",
    "print('Link:',news1['link'])\n",
    "print('Media Content:',news1['media_content'])"
   ]
  },
  {
   "cell_type": "code",
   "execution_count": 25,
   "metadata": {},
   "outputs": [
    {
     "name": "stdout",
     "output_type": "stream",
     "text": [
      "published_date: 2021-04-15 11:50:57\n",
      "author: /u/Fiach_Dubh\n",
      "Media: https://external-preview.redd.it/Kpgb47nmXEl38FL31U07tEEbseL3pdbXsTG7pc-XiyA.jpg?auto=webp&s=38607d4c9873922b09a4accdb2c712abaa7538f2\n",
      "id: 900e518ed4a77f7d67e911408df23941\n"
     ]
    }
   ],
   "source": [
    "print('published_date:',news1['published_date'])\n",
    "print('author:',news1['author'])\n",
    "print('Media:',news1['media'])\n",
    "print('id:',news1['_id'])"
   ]
  },
  {
   "cell_type": "code",
   "execution_count": null,
   "metadata": {},
   "outputs": [],
   "source": []
  }
 ],
 "metadata": {
  "kernelspec": {
   "display_name": "spider",
   "language": "python",
   "name": "spider"
  },
  "language_info": {
   "codemirror_mode": {
    "name": "ipython",
    "version": 3
   },
   "file_extension": ".py",
   "mimetype": "text/x-python",
   "name": "python",
   "nbconvert_exporter": "python",
   "pygments_lexer": "ipython3",
   "version": "3.8.5"
  }
 },
 "nbformat": 4,
 "nbformat_minor": 4
}
