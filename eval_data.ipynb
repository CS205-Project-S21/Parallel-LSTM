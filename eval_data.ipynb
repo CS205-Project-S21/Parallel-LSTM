{
 "cells": [
  {
   "cell_type": "code",
   "execution_count": 56,
   "metadata": {},
   "outputs": [],
   "source": [
    "import finnhub  #api finnhub to get more evaluation\n",
    "import time\n",
    "import datetime\n",
    "import numpy as np\n",
    "from calendar import monthrange # calculate number of days in a month"
   ]
  },
  {
   "cell_type": "code",
   "execution_count": 39,
   "metadata": {},
   "outputs": [],
   "source": [
    "def aggregate_indicator(name):\n",
    "    tech_anls = finnhub_client.aggregate_indicator(name, 'D')\n",
    "    overal_list = np.zeros(3)\n",
    "    overal_list[0] = tech_anls['technicalAnalysis']['count']['buy']\n",
    "    overal_list[1] = tech_anls['technicalAnalysis']['count']['neutral']\n",
    "    overal_list[2] = tech_anls['technicalAnalysis']['count']['sell']\n",
    "    return overal_list\n",
    "\n",
    "def get_recom(name, date_list):\n",
    "    recom_rate = finnhub_client.recommendation_trends(name)\n",
    "    evaluate = np.zeros(5) # buy, hold, sell, strongbuy, strongsell\n",
    "    for date in date_list:\n",
    "        if list(recom_rate[0].values())[2] == date:\n",
    "            total = (list(recom_rate[0].values())[0] + list(recom_rate[0].values())[1] + list(recom_rate[0].values())[3]\n",
    "                      + list(recom_rate[0].values())[4] + list(recom_rate[0].values())[5])\n",
    "            evaluate[0] = list(recom_rate[0].values())[0] / total\n",
    "            evaluate[1] = list(recom_rate[0].values())[1] / total\n",
    "            evaluate[2] = list(recom_rate[0].values())[3] / total\n",
    "            evaluate[3] = list(recom_rate[0].values())[4] / total\n",
    "            evaluate[4] = list(recom_rate[0].values())[5] / total\n",
    "    return evaluate"
   ]
  },
  {
   "cell_type": "code",
   "execution_count": 72,
   "metadata": {},
   "outputs": [],
   "source": [
    "def date10_list():\n",
    "    # generate the list of 10 days\n",
    "    today = datetime.datetime.today()\n",
    "    date_list = []\n",
    "    for i in range(20):\n",
    "        num_days = monthrange(today.year, today.month - 1)[1]  # number of days in last month\n",
    "        if today.month < 10 and 0 < today.day - i < 10:\n",
    "            date_list.append(\"{}-0{}-0{}\".format(today.year, today.month, today.day-i))\n",
    "        elif today.month < 10 and today.day - i < 0:\n",
    "            date_list.append(\"{}-0{}-{}\".format(today.year, today.month-1, num_days + today.day-i))          \n",
    "        elif today.month >= 10 and 0 < today.day - i < 10:\n",
    "            date_list.append(\"{}-{}-0{}\".format(today.year, today.month, today.day-i))\n",
    "        elif today.month >= 10 and today.day - i < 0:\n",
    "            date_list.append(\"{}-0{}-{}\".format(today.year, today.month-1, num_days + today.day-i))\n",
    "        elif today.month < 10 and today.day - i >= 10:\n",
    "            date_list.append(\"{}-0{}-{}\".format(today.year, today.month, today.day-i))\n",
    "        elif today.month >= 10 and today.day -i >= 10:\n",
    "            date_list.append(\"{}-{}-{}\".format(today.year, today.month, today.day-i))\n",
    "    return date_list"
   ]
  },
  {
   "cell_type": "code",
   "execution_count": 76,
   "metadata": {},
   "outputs": [
    {
     "name": "stdout",
     "output_type": "stream",
     "text": [
      "[0.57142857 0.14285714 0.         0.28571429 0.        ]\n"
     ]
    }
   ],
   "source": [
    "date = date10_list()\n",
    "big_firm_eval = get_recom('RIOT', date)\n",
    "print(big_firm_eval)"
   ]
  }
 ],
 "metadata": {
  "kernelspec": {
   "display_name": "Python 3",
   "language": "python",
   "name": "python3"
  },
  "language_info": {
   "codemirror_mode": {
    "name": "ipython",
    "version": 3
   },
   "file_extension": ".py",
   "mimetype": "text/x-python",
   "name": "python",
   "nbconvert_exporter": "python",
   "pygments_lexer": "ipython3",
   "version": "3.8.3"
  }
 },
 "nbformat": 4,
 "nbformat_minor": 4
}
