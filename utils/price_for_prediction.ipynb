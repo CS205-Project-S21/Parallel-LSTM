{
 "cells": [
  {
   "cell_type": "code",
   "execution_count": 1,
   "metadata": {},
   "outputs": [],
   "source": [
    "import yfinance as yf  # api yfinance to get historical price and big firm recommendation\n",
    "import pandas as pd\n",
    "import datetime\n",
    "import numpy as np\n",
    "import re"
   ]
  },
  {
   "cell_type": "code",
   "execution_count": 26,
   "metadata": {},
   "outputs": [],
   "source": [
    "enddate = datetime.date.today()\n",
    "startdate = enddate - datetime.timedelta(days = 10)"
   ]
  },
  {
   "cell_type": "code",
   "execution_count": 33,
   "metadata": {},
   "outputs": [],
   "source": [
    "ticker = 'MARA'"
   ]
  },
  {
   "cell_type": "code",
   "execution_count": 34,
   "metadata": {},
   "outputs": [
    {
     "name": "stdout",
     "output_type": "stream",
     "text": [
      "[*********************100%***********************]  1 of 1 completed\n"
     ]
    }
   ],
   "source": [
    "data = yf.download(ticker, group_by=\"Ticker\", start=startdate.strftime(\"%Y-%m-%d\"), end=enddate.strftime(\"%Y-%m-%d\"))\n",
    "data['ticker'] = ticker"
   ]
  },
  {
   "cell_type": "code",
   "execution_count": 35,
   "metadata": {},
   "outputs": [
    {
     "data": {
      "text/html": [
       "<div>\n",
       "<style scoped>\n",
       "    .dataframe tbody tr th:only-of-type {\n",
       "        vertical-align: middle;\n",
       "    }\n",
       "\n",
       "    .dataframe tbody tr th {\n",
       "        vertical-align: top;\n",
       "    }\n",
       "\n",
       "    .dataframe thead th {\n",
       "        text-align: right;\n",
       "    }\n",
       "</style>\n",
       "<table border=\"1\" class=\"dataframe\">\n",
       "  <thead>\n",
       "    <tr style=\"text-align: right;\">\n",
       "      <th></th>\n",
       "      <th>Open</th>\n",
       "      <th>High</th>\n",
       "      <th>Low</th>\n",
       "      <th>Close</th>\n",
       "      <th>Adj Close</th>\n",
       "      <th>Volume</th>\n",
       "      <th>ticker</th>\n",
       "    </tr>\n",
       "    <tr>\n",
       "      <th>Date</th>\n",
       "      <th></th>\n",
       "      <th></th>\n",
       "      <th></th>\n",
       "      <th></th>\n",
       "      <th></th>\n",
       "      <th></th>\n",
       "      <th></th>\n",
       "    </tr>\n",
       "  </thead>\n",
       "  <tbody>\n",
       "    <tr>\n",
       "      <th>2021-04-27</th>\n",
       "      <td>35.099998</td>\n",
       "      <td>35.400002</td>\n",
       "      <td>33.779999</td>\n",
       "      <td>34.119999</td>\n",
       "      <td>34.119999</td>\n",
       "      <td>12994300</td>\n",
       "      <td>MARA</td>\n",
       "    </tr>\n",
       "    <tr>\n",
       "      <th>2021-04-28</th>\n",
       "      <td>34.180000</td>\n",
       "      <td>37.919998</td>\n",
       "      <td>33.580002</td>\n",
       "      <td>37.639999</td>\n",
       "      <td>37.639999</td>\n",
       "      <td>20558200</td>\n",
       "      <td>MARA</td>\n",
       "    </tr>\n",
       "    <tr>\n",
       "      <th>2021-04-29</th>\n",
       "      <td>36.099998</td>\n",
       "      <td>36.639999</td>\n",
       "      <td>33.799999</td>\n",
       "      <td>34.259998</td>\n",
       "      <td>34.259998</td>\n",
       "      <td>15562100</td>\n",
       "      <td>MARA</td>\n",
       "    </tr>\n",
       "    <tr>\n",
       "      <th>2021-04-30</th>\n",
       "      <td>34.980000</td>\n",
       "      <td>38.549999</td>\n",
       "      <td>34.669998</td>\n",
       "      <td>36.779999</td>\n",
       "      <td>36.779999</td>\n",
       "      <td>21980200</td>\n",
       "      <td>MARA</td>\n",
       "    </tr>\n",
       "    <tr>\n",
       "      <th>2021-05-03</th>\n",
       "      <td>38.200001</td>\n",
       "      <td>39.680000</td>\n",
       "      <td>35.209999</td>\n",
       "      <td>36.220001</td>\n",
       "      <td>36.220001</td>\n",
       "      <td>17671200</td>\n",
       "      <td>MARA</td>\n",
       "    </tr>\n",
       "    <tr>\n",
       "      <th>2021-05-04</th>\n",
       "      <td>34.880001</td>\n",
       "      <td>35.240002</td>\n",
       "      <td>32.220001</td>\n",
       "      <td>33.950001</td>\n",
       "      <td>33.950001</td>\n",
       "      <td>14261900</td>\n",
       "      <td>MARA</td>\n",
       "    </tr>\n",
       "    <tr>\n",
       "      <th>2021-05-05</th>\n",
       "      <td>34.500000</td>\n",
       "      <td>36.230000</td>\n",
       "      <td>32.950001</td>\n",
       "      <td>33.549999</td>\n",
       "      <td>33.549999</td>\n",
       "      <td>15077600</td>\n",
       "      <td>MARA</td>\n",
       "    </tr>\n",
       "    <tr>\n",
       "      <th>2021-05-06</th>\n",
       "      <td>33.590000</td>\n",
       "      <td>34.110001</td>\n",
       "      <td>30.000000</td>\n",
       "      <td>31.400000</td>\n",
       "      <td>31.400000</td>\n",
       "      <td>13870600</td>\n",
       "      <td>MARA</td>\n",
       "    </tr>\n",
       "  </tbody>\n",
       "</table>\n",
       "</div>"
      ],
      "text/plain": [
       "                 Open       High        Low      Close  Adj Close    Volume  \\\n",
       "Date                                                                          \n",
       "2021-04-27  35.099998  35.400002  33.779999  34.119999  34.119999  12994300   \n",
       "2021-04-28  34.180000  37.919998  33.580002  37.639999  37.639999  20558200   \n",
       "2021-04-29  36.099998  36.639999  33.799999  34.259998  34.259998  15562100   \n",
       "2021-04-30  34.980000  38.549999  34.669998  36.779999  36.779999  21980200   \n",
       "2021-05-03  38.200001  39.680000  35.209999  36.220001  36.220001  17671200   \n",
       "2021-05-04  34.880001  35.240002  32.220001  33.950001  33.950001  14261900   \n",
       "2021-05-05  34.500000  36.230000  32.950001  33.549999  33.549999  15077600   \n",
       "2021-05-06  33.590000  34.110001  30.000000  31.400000  31.400000  13870600   \n",
       "\n",
       "           ticker  \n",
       "Date               \n",
       "2021-04-27   MARA  \n",
       "2021-04-28   MARA  \n",
       "2021-04-29   MARA  \n",
       "2021-04-30   MARA  \n",
       "2021-05-03   MARA  \n",
       "2021-05-04   MARA  \n",
       "2021-05-05   MARA  \n",
       "2021-05-06   MARA  "
      ]
     },
     "execution_count": 35,
     "metadata": {},
     "output_type": "execute_result"
    }
   ],
   "source": [
    "data"
   ]
  },
  {
   "cell_type": "code",
   "execution_count": 40,
   "metadata": {},
   "outputs": [],
   "source": [
    "def generate_full_date(sdate, edate):\n",
    "    dates = []\n",
    "    while sdate < edate:\n",
    "        dates.append(datetime.datetime.strftime(sdate,'%Y-%m-%d'))\n",
    "        sdate += datetime.timedelta(days=1)\n",
    "    return dates"
   ]
  },
  {
   "cell_type": "code",
   "execution_count": 42,
   "metadata": {},
   "outputs": [
    {
     "name": "stdout",
     "output_type": "stream",
     "text": [
      "[*********************100%***********************]  1 of 1 completed\n"
     ]
    }
   ],
   "source": [
    "dates = generate_full_date(startdate, enddate)\n",
    "ticker = 'RIOT'\n",
    "df = yf.download(ticker, group_by=\"Ticker\", start=startdate.strftime(\"%Y-%m-%d\"), end=enddate.strftime(\"%Y-%m-%d\"))\n",
    "df['ticker'] = ticker\n",
    "date_index = df.index.strftime('%Y-%m-%d').tolist()\n",
    "df_all_date = {'Date': ['']*10, 'Open': ['']*10, 'Close': ['']*10, 'Ticker': ['']*10}\n",
    "\n",
    "for i, date in enumerate(dates):\n",
    "    df_all_date['Date'][i] = date\n",
    "    df_all_date['Ticker'][i] = df['ticker'][i]\n",
    "    if date in date_index:\n",
    "        df_all_date['Open'][i] = df['Open'][date]\n",
    "        df_all_date['Close'][i] = df['Close'][date]\n",
    "    else:\n",
    "        df_all_date['Open'][i] = 0\n",
    "        df_all_date['Close'][i] = 0\n",
    "\n",
    "for i, date in enumerate(dates):\n",
    "    if df_all_date['Open'][i] == 0:\n",
    "        k = 0\n",
    "        while df_all_date['Open'][i + k] == 0:\n",
    "            k += 1\n",
    "        s = df_all_date['Close'][i - 1]\n",
    "        t = df_all_date['Open'][i + k] - s\n",
    "        for j in range(k):\n",
    "            df_all_date['Open'][i + j] = s + t/(2*k+1)*(2*j+1)\n",
    "            df_all_date['Close'][i + j] = s + t/(2*k+1)*(2*j+2)"
   ]
  },
  {
   "cell_type": "code",
   "execution_count": 49,
   "metadata": {},
   "outputs": [],
   "source": [
    "df_final = {'Date': ['']*20, 'Type': ['']*20, 'StockPrice': ['']*20, 'Ticker': ['']*20}"
   ]
  },
  {
   "cell_type": "code",
   "execution_count": 52,
   "metadata": {},
   "outputs": [],
   "source": [
    "for i in range(10):\n",
    "    df_final['Date'][2*i] = df_all_date['Date'][i]\n",
    "    df_final['Date'][2*i + 1] = df_all_date['Date'][i]\n",
    "    df_final['Type'][2*i] = 'Open'\n",
    "    df_final['Type'][2*i+1] = 'Closed'\n",
    "    df_final['StockPrice'][2*i] = df_all_date['Open'][i]\n",
    "    df_final['StockPrice'][2*i + 1] = df_all_date['Close'][i]\n",
    "    df_final['Ticker'][2*i] = df_all_date['Ticker'][i]\n",
    "    df_final['Ticker'][2*i + 1] = df_all_date['Ticker'][i]"
   ]
  },
  {
   "cell_type": "code",
   "execution_count": 54,
   "metadata": {},
   "outputs": [
    {
     "data": {
      "text/plain": [
       "[41.650001525878906,\n",
       " 40.52000045776367,\n",
       " 40.18000030517578,\n",
       " 43.93000030517578,\n",
       " 41.95000076293945,\n",
       " 40.33000183105469,\n",
       " 40.810001373291016,\n",
       " 41.83000183105469,\n",
       " 42.040001678466794,\n",
       " 42.25000152587891,\n",
       " 42.460001373291014,\n",
       " 42.67000122070313,\n",
       " 42.880001068115234,\n",
       " 39.9900016784668,\n",
       " 38.604000091552734,\n",
       " 37.56999969482422,\n",
       " 38.15999984741211,\n",
       " 36.619998931884766,\n",
       " 36.38999938964844,\n",
       " 33.45000076293945]"
      ]
     },
     "execution_count": 54,
     "metadata": {},
     "output_type": "execute_result"
    }
   ],
   "source": [
    "df_final['StockPrice']"
   ]
  },
  {
   "cell_type": "code",
   "execution_count": 55,
   "metadata": {},
   "outputs": [],
   "source": [
    "def normalize(x):\n",
    "    \"\"\"\n",
    "    Normalize the input to the range between 0 and 1\n",
    "    \"\"\"\n",
    "    x = np.array(x)\n",
    "    x_min = np.min(x)\n",
    "    x_max = np.max(x)\n",
    "    x_normalized = ((x - x_min) / (x_max - x_min)).tolist()\n",
    "    # append the min and max price in the time window for de-normalization\n",
    "    x_normalized.extend([float(x_min), float(x_max)])\n",
    "    return x_normalized"
   ]
  },
  {
   "cell_type": "code",
   "execution_count": 56,
   "metadata": {},
   "outputs": [
    {
     "data": {
      "text/plain": [
       "[0.7824428550680694,\n",
       " 0.6746183209580132,\n",
       " 0.6421755568894054,\n",
       " 1.0,\n",
       " 0.8110687377173477,\n",
       " 0.6564886802129679,\n",
       " 0.7022901652513823,\n",
       " 0.7996184574572057,\n",
       " 0.8196566117114849,\n",
       " 0.8396947659657646,\n",
       " 0.8597329202200439,\n",
       " 0.8797710744743237,\n",
       " 0.8998092287286028,\n",
       " 0.6240459161443601,\n",
       " 0.4917938505475802,\n",
       " 0.3931296862447762,\n",
       " 0.4494274131874236,\n",
       " 0.30248075452385625,\n",
       " 0.2805342323594814,\n",
       " 0.0,\n",
       " 33.45000076293945,\n",
       " 43.93000030517578]"
      ]
     },
     "execution_count": 56,
     "metadata": {},
     "output_type": "execute_result"
    }
   ],
   "source": [
    "normalize(df_final['StockPrice'])"
   ]
  },
  {
   "cell_type": "code",
   "execution_count": 60,
   "metadata": {},
   "outputs": [
    {
     "name": "stdout",
     "output_type": "stream",
     "text": [
      "[*********************100%***********************]  1 of 1 completed\n"
     ]
    }
   ],
   "source": [
    "ticker = 'RIOT'\n",
    "    \n",
    "enddate = datetime.date.today()\n",
    "startdate = enddate - datetime.timedelta(days=10)\n",
    "\n",
    "dates = generate_full_date(startdate, enddate)\n",
    "df = yf.download(ticker, group_by=\"Ticker\", start=startdate.strftime(\"%Y-%m-%d\"), end=enddate.strftime(\"%Y-%m-%d\"))"
   ]
  },
  {
   "cell_type": "code",
   "execution_count": 62,
   "metadata": {},
   "outputs": [],
   "source": [
    "df['ticker'] = ticker"
   ]
  },
  {
   "cell_type": "code",
   "execution_count": 63,
   "metadata": {},
   "outputs": [
    {
     "data": {
      "text/plain": [
       "Date\n",
       "2021-04-27    RIOT\n",
       "2021-04-28    RIOT\n",
       "2021-04-29    RIOT\n",
       "2021-04-30    RIOT\n",
       "2021-05-03    RIOT\n",
       "2021-05-04    RIOT\n",
       "2021-05-05    RIOT\n",
       "2021-05-06    RIOT\n",
       "Name: ticker, dtype: object"
      ]
     },
     "execution_count": 63,
     "metadata": {},
     "output_type": "execute_result"
    }
   ],
   "source": [
    "df['ticker']"
   ]
  },
  {
   "cell_type": "code",
   "execution_count": 65,
   "metadata": {},
   "outputs": [
    {
     "data": {
      "text/plain": [
       "{'Date': ['2021-04-27',\n",
       "  '2021-04-27',\n",
       "  '2021-04-28',\n",
       "  '2021-04-28',\n",
       "  '2021-04-29',\n",
       "  '2021-04-29',\n",
       "  '2021-04-30',\n",
       "  '2021-04-30',\n",
       "  '2021-05-01',\n",
       "  '2021-05-01',\n",
       "  '2021-05-02',\n",
       "  '2021-05-02',\n",
       "  '2021-05-03',\n",
       "  '2021-05-03',\n",
       "  '2021-05-04',\n",
       "  '2021-05-04',\n",
       "  '2021-05-05',\n",
       "  '2021-05-05',\n",
       "  '2021-05-06',\n",
       "  '2021-05-06'],\n",
       " 'Type': ['Open',\n",
       "  'Closed',\n",
       "  'Open',\n",
       "  'Closed',\n",
       "  'Open',\n",
       "  'Closed',\n",
       "  'Open',\n",
       "  'Closed',\n",
       "  'Open',\n",
       "  'Closed',\n",
       "  'Open',\n",
       "  'Closed',\n",
       "  'Open',\n",
       "  'Closed',\n",
       "  'Open',\n",
       "  'Closed',\n",
       "  'Open',\n",
       "  'Closed',\n",
       "  'Open',\n",
       "  'Closed'],\n",
       " 'StockPrice': [41.650001525878906,\n",
       "  40.52000045776367,\n",
       "  40.18000030517578,\n",
       "  43.93000030517578,\n",
       "  41.95000076293945,\n",
       "  40.33000183105469,\n",
       "  40.810001373291016,\n",
       "  41.83000183105469,\n",
       "  42.040001678466794,\n",
       "  42.25000152587891,\n",
       "  42.460001373291014,\n",
       "  42.67000122070313,\n",
       "  42.880001068115234,\n",
       "  39.9900016784668,\n",
       "  38.604000091552734,\n",
       "  37.56999969482422,\n",
       "  38.15999984741211,\n",
       "  36.619998931884766,\n",
       "  36.38999938964844,\n",
       "  33.45000076293945],\n",
       " 'Ticker': ['RIOT',\n",
       "  'RIOT',\n",
       "  'RIOT',\n",
       "  'RIOT',\n",
       "  'RIOT',\n",
       "  'RIOT',\n",
       "  'RIOT',\n",
       "  'RIOT',\n",
       "  'RIOT',\n",
       "  'RIOT',\n",
       "  'RIOT',\n",
       "  'RIOT',\n",
       "  'RIOT',\n",
       "  'RIOT',\n",
       "  'RIOT',\n",
       "  'RIOT',\n",
       "  'RIOT',\n",
       "  'RIOT',\n",
       "  'RIOT',\n",
       "  'RIOT']}"
      ]
     },
     "execution_count": 65,
     "metadata": {},
     "output_type": "execute_result"
    }
   ],
   "source": [
    "df_final"
   ]
  },
  {
   "cell_type": "markdown",
   "metadata": {},
   "source": [
    "__Full Script__"
   ]
  },
  {
   "cell_type": "code",
   "execution_count": 68,
   "metadata": {},
   "outputs": [
    {
     "name": "stdout",
     "output_type": "stream",
     "text": [
      "[*********************100%***********************]  1 of 1 completed\n"
     ]
    }
   ],
   "source": [
    "import yfinance as yf  # api yfinance to get historical price and big firm recommendation\n",
    "import numpy as np\n",
    "import datetime\n",
    "\n",
    "\n",
    "def generate_full_date(sdate, edate):\n",
    "    dates = []\n",
    "    while sdate < edate:\n",
    "        dates.append(datetime.datetime.strftime(sdate,'%Y-%m-%d'))\n",
    "        sdate += datetime.timedelta(days=1)\n",
    "    return dates\n",
    "\n",
    "def normalize(x):\n",
    "    \"\"\"\n",
    "    Normalize the input to the range between 0 and 1\n",
    "    \"\"\"\n",
    "    x = np.array(x)\n",
    "    x_min = np.min(x)\n",
    "    x_max = np.max(x)\n",
    "    x_normalized = ((x - x_min) / (x_max - x_min)).tolist()\n",
    "    # append the min and max price in the time window for de-normalization\n",
    "    x_normalized.extend([float(x_min), float(x_max)])\n",
    "    return x_normalized\n",
    "\n",
    "def main():\n",
    "    ticker = 'RIOT'\n",
    "    \n",
    "    enddate = datetime.date.today()\n",
    "    startdate = enddate - datetime.timedelta(days=10)\n",
    "\n",
    "    dates = generate_full_date(startdate, enddate)\n",
    "    df = yf.download(ticker, group_by=\"Ticker\", start=startdate.strftime(\"%Y-%m-%d\"), end=enddate.strftime(\"%Y-%m-%d\"))\n",
    "    df['ticker'] = ticker\n",
    "    date_index = df.index.strftime('%Y-%m-%d').tolist()\n",
    "    df_all_date = {'Date': ['']*10, 'Open': ['']*10, 'Close': ['']*10, 'Ticker': ['']*10}\n",
    "\n",
    "    for i, date in enumerate(dates):\n",
    "        df_all_date['Date'][i] = date\n",
    "        df_all_date['Ticker'][i] = ticker\n",
    "        if date in date_index:\n",
    "            df_all_date['Open'][i] = df['Open'][date]\n",
    "            df_all_date['Close'][i] = df['Close'][date]\n",
    "        else:\n",
    "            df_all_date['Open'][i] = 0\n",
    "            df_all_date['Close'][i] = 0\n",
    "\n",
    "    for i, date in enumerate(dates):\n",
    "        if df_all_date['Open'][i] == 0:\n",
    "            k = 0\n",
    "            while df_all_date['Open'][i + k] == 0:\n",
    "                k += 1\n",
    "            s = df_all_date['Close'][i - 1]\n",
    "            t = df_all_date['Open'][i + k] - s\n",
    "            for j in range(k):\n",
    "                df_all_date['Open'][i + j] = s + t/(2*k+1)*(2*j+1)\n",
    "                df_all_date['Close'][i + j] = s + t/(2*k+1)*(2*j+2)\n",
    "\n",
    "    df_final = {'Date': [''] * 20, 'Type': [''] * 20, 'StockPrice': [''] * 20, 'Ticker': [''] * 20}\n",
    "    for i in range(10):\n",
    "        df_final['Date'][2 * i] = df_all_date['Date'][i]\n",
    "        df_final['Date'][2 * i + 1] = df_all_date['Date'][i]\n",
    "        df_final['Type'][2 * i] = 'Open'\n",
    "        df_final['Type'][2 * i + 1] = 'Closed'\n",
    "        df_final['StockPrice'][2 * i] = df_all_date['Open'][i]\n",
    "        df_final['StockPrice'][2 * i + 1] = df_all_date['Close'][i]\n",
    "        df_final['Ticker'][2 * i] = ticker\n",
    "        df_final['Ticker'][2 * i + 1] = ticker\n",
    "    \n",
    "    np.savetxt('today_predict.txt', normalize(df_final['StockPrice']))\n",
    "\n",
    "if __name__ == '__main__':\n",
    "    main()"
   ]
  },
  {
   "cell_type": "code",
   "execution_count": null,
   "metadata": {},
   "outputs": [],
   "source": []
  }
 ],
 "metadata": {
  "kernelspec": {
   "display_name": "Python 3",
   "language": "python",
   "name": "python3"
  },
  "language_info": {
   "codemirror_mode": {
    "name": "ipython",
    "version": 3
   },
   "file_extension": ".py",
   "mimetype": "text/x-python",
   "name": "python",
   "nbconvert_exporter": "python",
   "pygments_lexer": "ipython3",
   "version": "3.8.3"
  }
 },
 "nbformat": 4,
 "nbformat_minor": 4
}
