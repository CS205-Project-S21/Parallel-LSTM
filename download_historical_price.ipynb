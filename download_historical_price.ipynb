{
 "cells": [
  {
   "cell_type": "code",
   "execution_count": 20,
   "metadata": {},
   "outputs": [],
   "source": [
    "import yfinance as yf  # api yfinance to get historical price and big firm recommendation\n",
    "import pandas as pd"
   ]
  },
  {
   "cell_type": "code",
   "execution_count": 21,
   "metadata": {},
   "outputs": [],
   "source": [
    "def get_dataset(name_string):\n",
    "    df_list = list()\n",
    "    for ticker in name_string:\n",
    "        data = yf.download(ticker, group_by=\"Ticker\", period='10d')\n",
    "        data['ticker'] = ticker  # add this column becasue the dataframe doesn't contain a column with the ticker\n",
    "        data.to_csv(f'ticker_{ticker}.csv')  # ticker_AAPL.csv for example\n",
    "        \n",
    "        df_list.append(data)\n",
    "    # combine all dataframes into a single dataframe\n",
    "    df = pd.concat(df_list)\n",
    "    # save to csv\n",
    "    df.to_csv('ticker.csv')\n",
    "    return df"
   ]
  },
  {
   "cell_type": "code",
   "execution_count": 22,
   "metadata": {},
   "outputs": [
    {
     "name": "stdout",
     "output_type": "stream",
     "text": [
      "[*********************100%***********************]  1 of 1 completed\n",
      "[*********************100%***********************]  1 of 1 completed\n",
      "[*********************100%***********************]  1 of 1 completed\n"
     ]
    }
   ],
   "source": [
    "tickerStrings = ['BTC-USD','^IXIC','RIOT']\n",
    "df_riot = get_dataset(tickerStrings)"
   ]
  }
 ],
 "metadata": {
  "kernelspec": {
   "display_name": "Python 3",
   "language": "python",
   "name": "python3"
  },
  "language_info": {
   "codemirror_mode": {
    "name": "ipython",
    "version": 3
   },
   "file_extension": ".py",
   "mimetype": "text/x-python",
   "name": "python",
   "nbconvert_exporter": "python",
   "pygments_lexer": "ipython3",
   "version": "3.8.3"
  }
 },
 "nbformat": 4,
 "nbformat_minor": 4
}
