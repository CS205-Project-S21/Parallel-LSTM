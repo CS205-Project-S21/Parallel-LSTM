{
 "metadata": {
  "language_info": {
   "codemirror_mode": {
    "name": "ipython",
    "version": 3
   },
   "file_extension": ".py",
   "mimetype": "text/x-python",
   "name": "python",
   "nbconvert_exporter": "python",
   "pygments_lexer": "ipython3",
   "version": "3.8.3"
  },
  "orig_nbformat": 2,
  "kernelspec": {
   "name": "python383jvsc74a57bd0f9520ba11fdc1099356e05d27a34ed870b487e4078e45fe1cddd0198c8b5354c",
   "display_name": "Python 3.8.3 64-bit ('base': conda)"
  }
 },
 "nbformat": 4,
 "nbformat_minor": 2,
 "cells": [
  {
   "source": [
    "# LSTM model\n",
    "from https://github.com/Xinyi6/DP-LSTM-Differential-Privacy-inspired-LSTM-for-Stock-Prediction-Using-Financial-News and make some changes\n",
    "\n",
    "### Where we can use big compute:\n",
    "- Adding noises to data\n",
    "- The computations of multi-sequence predictions\n",
    "- The calculation of MSE\n",
    "\n",
    "### Where we cannot use big compute:\n",
    "- The training of LSTM\n"
   ],
   "cell_type": "markdown",
   "metadata": {}
  },
  {
   "cell_type": "code",
   "execution_count": 95,
   "metadata": {},
   "outputs": [
    {
     "output_type": "stream",
     "name": "stdout",
     "text": [
      "Requirement already satisfied: vaderSentiment in /Users/lihongzhang/opt/anaconda3/lib/python3.8/site-packages (3.3.2)\n",
      "Requirement already satisfied: requests in /Users/lihongzhang/opt/anaconda3/lib/python3.8/site-packages (from vaderSentiment) (2.24.0)\n",
      "Requirement already satisfied: chardet<4,>=3.0.2 in /Users/lihongzhang/opt/anaconda3/lib/python3.8/site-packages (from requests->vaderSentiment) (3.0.4)\n",
      "Requirement already satisfied: urllib3!=1.25.0,!=1.25.1,<1.26,>=1.21.1 in /Users/lihongzhang/opt/anaconda3/lib/python3.8/site-packages (from requests->vaderSentiment) (1.25.9)\n",
      "Requirement already satisfied: idna<3,>=2.5 in /Users/lihongzhang/opt/anaconda3/lib/python3.8/site-packages (from requests->vaderSentiment) (2.10)\n",
      "Requirement already satisfied: certifi>=2017.4.17 in /Users/lihongzhang/opt/anaconda3/lib/python3.8/site-packages (from requests->vaderSentiment) (2020.11.8)\n"
     ]
    }
   ],
   "source": [
    "! pip install vaderSentiment"
   ]
  },
  {
   "source": [
    "## COG Model"
   ],
   "cell_type": "markdown",
   "metadata": {}
  },
  {
   "cell_type": "code",
   "execution_count": 2,
   "metadata": {},
   "outputs": [],
   "source": [
    "import json\n",
    "import time\n",
    "import math\n",
    "import matplotlib.pyplot as plt\n",
    "import numpy as np\n",
    "import pandas as pd\n",
    "import datetime as dt\n",
    "from numpy import newaxis\n",
    "from keras.layers import Dense, Activation, Dropout, LSTM\n",
    "from keras.models import Sequential, load_model\n",
    "from keras.callbacks import EarlyStopping, ModelCheckpoint\n",
    "from sklearn.linear_model import LinearRegression\n",
    "from sklearn.ensemble import RandomForestRegressor\n",
    "from sklearn.linear_model import Ridge\n",
    "from sklearn.metrics import mean_squared_error\n",
    "\n",
    "from math import pi,sqrt,exp,pow,log\n",
    "from numpy.linalg import det, inv\n",
    "from abc import ABCMeta, abstractmethod\n",
    "from sklearn import cluster\n",
    "\n",
    "import statsmodels.api as sm \n",
    "import scipy.stats as scs\n",
    "import scipy.optimize as sco\n",
    "import scipy.interpolate as sci\n",
    "from scipy import stats\n",
    "\n",
    "import matplotlib.pyplot as plt\n",
    "\n",
    "stock = 'COG'\n",
    "industry = 'energy'"
   ]
  },
  {
   "cell_type": "code",
   "execution_count": 4,
   "metadata": {},
   "outputs": [
    {
     "output_type": "execute_result",
     "data": {
      "text/plain": [
       "                                              window  \\\n",
       "0  Row(start=datetime.datetime(2016, 3, 30, 20, 0...   \n",
       "1  Row(start=datetime.datetime(2016, 3, 31, 20, 0...   \n",
       "2  Row(start=datetime.datetime(2016, 4, 1, 20, 0)...   \n",
       "3  Row(start=datetime.datetime(2016, 4, 2, 20, 0)...   \n",
       "4  Row(start=datetime.datetime(2016, 4, 3, 20, 0)...   \n",
       "\n",
       "                                           NewsScore  \\\n",
       "0  [0.23850909090909092, 0.2385090909090909, 0.40...   \n",
       "1  [0.4082222222222222, 0.4082222222222222, 0.636...   \n",
       "2  [0.6362, 0.6362, 0.3410333333333333, 0.3410333...   \n",
       "3  [0.3410333333333333, 0.3410333333333333, 0.422...   \n",
       "4  [0.42273333333333335, 0.42273333333333335, 0.4...   \n",
       "\n",
       "                                     StockPrice_IXIC  \\\n",
       "0  [0.3166683053825404, 0.3191221042821783, 0.080...   \n",
       "1  [0.08010755676013047, 0.7103833312671264, 0.70...   \n",
       "2  [0.704552352697255, 0.6987213741273838, 0.6928...   \n",
       "3  [0.6928903955575125, 0.6870594169876413, 0.681...   \n",
       "4  [0.6145157682845002, 0.4612213575609869, 0.177...   \n",
       "\n",
       "                                      StockPrice_COG  \\\n",
       "0  [0.3137250502081253, 0.2941167670829173, 0.0, ...   \n",
       "1  [0.0, 0.163398619479132, 0.17647055890276483, ...   \n",
       "2  [0.15436295907525793, 0.16778581395051093, 0.1...   \n",
       "3  [0.1812086688257663, 0.19463152370101927, 0.20...   \n",
       "4  [0.20805437857627465, 0.2684570975050884, 0.08...   \n",
       "\n",
       "                                      StockPrice_DVN  \\\n",
       "0  [0.07142854769352029, 0.31881533043154925, 0.1...   \n",
       "1  [0.1347148381536994, 0.17271160126062918, 0.17...   \n",
       "2  [0.17651121168707462, 0.18031082211352065, 0.1...   \n",
       "3  [0.1841104325399661, 0.18791004296641212, 0.19...   \n",
       "4  [0.1737087338069369, 0.06885738164885678, 0.0,...   \n",
       "\n",
       "                                      StockPrice_HFC  \n",
       "0  [0.25229319269118106, 0.6605497362959645, 0.27...  \n",
       "1  [0.27981675456801186, 0.1467888302879921, 0.11...  \n",
       "2  [0.11824019088165469, 0.08890933960654429, 0.0...  \n",
       "3  [0.14285705180339398, 0.11612357960701916, 0.0...  \n",
       "4  [0.1279998779296875, 0.3959991455078125, 0.311...  "
      ],
      "text/html": "<div>\n<style scoped>\n    .dataframe tbody tr th:only-of-type {\n        vertical-align: middle;\n    }\n\n    .dataframe tbody tr th {\n        vertical-align: top;\n    }\n\n    .dataframe thead th {\n        text-align: right;\n    }\n</style>\n<table border=\"1\" class=\"dataframe\">\n  <thead>\n    <tr style=\"text-align: right;\">\n      <th></th>\n      <th>window</th>\n      <th>NewsScore</th>\n      <th>StockPrice_IXIC</th>\n      <th>StockPrice_COG</th>\n      <th>StockPrice_DVN</th>\n      <th>StockPrice_HFC</th>\n    </tr>\n  </thead>\n  <tbody>\n    <tr>\n      <th>0</th>\n      <td>Row(start=datetime.datetime(2016, 3, 30, 20, 0...</td>\n      <td>[0.23850909090909092, 0.2385090909090909, 0.40...</td>\n      <td>[0.3166683053825404, 0.3191221042821783, 0.080...</td>\n      <td>[0.3137250502081253, 0.2941167670829173, 0.0, ...</td>\n      <td>[0.07142854769352029, 0.31881533043154925, 0.1...</td>\n      <td>[0.25229319269118106, 0.6605497362959645, 0.27...</td>\n    </tr>\n    <tr>\n      <th>1</th>\n      <td>Row(start=datetime.datetime(2016, 3, 31, 20, 0...</td>\n      <td>[0.4082222222222222, 0.4082222222222222, 0.636...</td>\n      <td>[0.08010755676013047, 0.7103833312671264, 0.70...</td>\n      <td>[0.0, 0.163398619479132, 0.17647055890276483, ...</td>\n      <td>[0.1347148381536994, 0.17271160126062918, 0.17...</td>\n      <td>[0.27981675456801186, 0.1467888302879921, 0.11...</td>\n    </tr>\n    <tr>\n      <th>2</th>\n      <td>Row(start=datetime.datetime(2016, 4, 1, 20, 0)...</td>\n      <td>[0.6362, 0.6362, 0.3410333333333333, 0.3410333...</td>\n      <td>[0.704552352697255, 0.6987213741273838, 0.6928...</td>\n      <td>[0.15436295907525793, 0.16778581395051093, 0.1...</td>\n      <td>[0.17651121168707462, 0.18031082211352065, 0.1...</td>\n      <td>[0.11824019088165469, 0.08890933960654429, 0.0...</td>\n    </tr>\n    <tr>\n      <th>3</th>\n      <td>Row(start=datetime.datetime(2016, 4, 2, 20, 0)...</td>\n      <td>[0.3410333333333333, 0.3410333333333333, 0.422...</td>\n      <td>[0.6928903955575125, 0.6870594169876413, 0.681...</td>\n      <td>[0.1812086688257663, 0.19463152370101927, 0.20...</td>\n      <td>[0.1841104325399661, 0.18791004296641212, 0.19...</td>\n      <td>[0.14285705180339398, 0.11612357960701916, 0.0...</td>\n    </tr>\n    <tr>\n      <th>4</th>\n      <td>Row(start=datetime.datetime(2016, 4, 3, 20, 0)...</td>\n      <td>[0.42273333333333335, 0.42273333333333335, 0.4...</td>\n      <td>[0.6145157682845002, 0.4612213575609869, 0.177...</td>\n      <td>[0.20805437857627465, 0.2684570975050884, 0.08...</td>\n      <td>[0.1737087338069369, 0.06885738164885678, 0.0,...</td>\n      <td>[0.1279998779296875, 0.3959991455078125, 0.311...</td>\n    </tr>\n  </tbody>\n</table>\n</div>"
     },
     "metadata": {},
     "execution_count": 4
    }
   ],
   "source": [
    "# read data\n",
    "data = pd.read_csv('../../data/processed_data/data/processed_data_' + industry + '_15.csv')\n",
    "data.head(5)"
   ]
  },
  {
   "cell_type": "code",
   "execution_count": 5,
   "metadata": {},
   "outputs": [
    {
     "output_type": "execute_result",
     "data": {
      "text/plain": [
       "                                                 window  \\\n",
       "1827  Row(start=datetime.datetime(2021, 3, 31, 20, 0...   \n",
       "1828  Row(start=datetime.datetime(2021, 4, 1, 20, 0)...   \n",
       "\n",
       "                                              NewsScore  \\\n",
       "1827  [0.6960999999999999, 0.899, 0.7917761904761904...   \n",
       "1828  [0.7917761904761904, 0.8606666666666667, 0.740...   \n",
       "\n",
       "                                        StockPrice_IXIC  \\\n",
       "1827  [0.0, 0.10535855595487202, 0.1316198322513374,...   \n",
       "1828                                                NaN   \n",
       "\n",
       "                                         StockPrice_COG  \\\n",
       "1827  [0.9240505310394724, 1.0, 0.9867390454821439, ...   \n",
       "1828                                                NaN   \n",
       "\n",
       "                                         StockPrice_DVN  \\\n",
       "1827  [0.2707181854681067, 1.0, 0.9928965920171047, ...   \n",
       "1828                                                NaN   \n",
       "\n",
       "                                         StockPrice_HFC  \n",
       "1827  [0.4204543607294307, 1.0, 0.9963473968797198, ...  \n",
       "1828                                                NaN  "
      ],
      "text/html": "<div>\n<style scoped>\n    .dataframe tbody tr th:only-of-type {\n        vertical-align: middle;\n    }\n\n    .dataframe tbody tr th {\n        vertical-align: top;\n    }\n\n    .dataframe thead th {\n        text-align: right;\n    }\n</style>\n<table border=\"1\" class=\"dataframe\">\n  <thead>\n    <tr style=\"text-align: right;\">\n      <th></th>\n      <th>window</th>\n      <th>NewsScore</th>\n      <th>StockPrice_IXIC</th>\n      <th>StockPrice_COG</th>\n      <th>StockPrice_DVN</th>\n      <th>StockPrice_HFC</th>\n    </tr>\n  </thead>\n  <tbody>\n    <tr>\n      <th>1827</th>\n      <td>Row(start=datetime.datetime(2021, 3, 31, 20, 0...</td>\n      <td>[0.6960999999999999, 0.899, 0.7917761904761904...</td>\n      <td>[0.0, 0.10535855595487202, 0.1316198322513374,...</td>\n      <td>[0.9240505310394724, 1.0, 0.9867390454821439, ...</td>\n      <td>[0.2707181854681067, 1.0, 0.9928965920171047, ...</td>\n      <td>[0.4204543607294307, 1.0, 0.9963473968797198, ...</td>\n    </tr>\n    <tr>\n      <th>1828</th>\n      <td>Row(start=datetime.datetime(2021, 4, 1, 20, 0)...</td>\n      <td>[0.7917761904761904, 0.8606666666666667, 0.740...</td>\n      <td>NaN</td>\n      <td>NaN</td>\n      <td>NaN</td>\n      <td>NaN</td>\n    </tr>\n  </tbody>\n</table>\n</div>"
     },
     "metadata": {},
     "execution_count": 5
    }
   ],
   "source": [
    "data.iloc[-2:]"
   ]
  },
  {
   "cell_type": "code",
   "execution_count": 6,
   "metadata": {},
   "outputs": [],
   "source": [
    "data = data.iloc[:-1]\n",
    "# ratio of train and test data 0.8:0.2\n",
    "train_len = int(len(data)*0.8)\n",
    "test_len = len(data) - train_len"
   ]
  },
  {
   "source": [
    "### 2. Processing data"
   ],
   "cell_type": "markdown",
   "metadata": {}
  },
  {
   "cell_type": "code",
   "execution_count": 7,
   "metadata": {},
   "outputs": [],
   "source": [
    "def str2num(row):\n",
    "    l = row.split(',')\n",
    "    result = []\n",
    "    result.append(float(l[0][1:]))\n",
    "    for n in l[1:-1]:\n",
    "        result.append(float(n))\n",
    "    result.append(float(l[-1][:-1]))\n",
    "    return result"
   ]
  },
  {
   "cell_type": "code",
   "execution_count": 8,
   "metadata": {},
   "outputs": [],
   "source": [
    "df_prices_train = list(data['StockPrice_' + stock.upper()][:train_len])  # 1896 x 24 list of stock prices: df_prices_train[0]: stock price 0th row\n",
    "df_prices_test = list(data['StockPrice_' + stock.upper()][train_len:])\n",
    "df_senti_train = list(data['NewsScore'][:train_len])\n",
    "df_senti_test = list(data['NewsScore'][train_len:])\n"
   ]
  },
  {
   "cell_type": "code",
   "execution_count": 9,
   "metadata": {},
   "outputs": [],
   "source": [
    "# prepare train and test data\n",
    "def input_data(df_prices, df_senti):\n",
    "    x = []\n",
    "    y = []\n",
    "    min_max = []\n",
    "    for i, row in enumerate(df_prices):\n",
    "        if type(row) == float:\n",
    "            print(row)\n",
    "        prices = str2num(row)\n",
    "        senti = str2num(df_senti[i])\n",
    "        one_row = []\n",
    "        for i, p in enumerate(prices[:-3]):\n",
    "            one_row.append([p, senti[i]])\n",
    "        x.append(one_row)\n",
    "        y.append(prices[21:-2])\n",
    "        min_max.append(prices[-2:])\n",
    "    x = np.array(x)\n",
    "    y = np.array(y)\n",
    "    return x, y, min_max"
   ]
  },
  {
   "cell_type": "code",
   "execution_count": 10,
   "metadata": {
    "tags": []
   },
   "outputs": [
    {
     "output_type": "stream",
     "name": "stdout",
     "text": [
      "(1462, 29, 2) (1462, 9) (366, 29, 2) (366, 9)\n"
     ]
    }
   ],
   "source": [
    "x_train, y_train, min_max_train = input_data(df_prices_train, df_senti_train)\n",
    "x_test, y_test, min_max_test = input_data(df_prices_test, df_senti_test)\n",
    "print(x_train.shape, y_train.shape, x_test.shape, y_test.shape)"
   ]
  },
  {
   "source": [
    "## Convert to: 21 prices predict n prices"
   ],
   "cell_type": "markdown",
   "metadata": {}
  },
  {
   "cell_type": "code",
   "execution_count": 16,
   "metadata": {},
   "outputs": [],
   "source": [
    "def conv_ny(y, n, min_max):\n",
    "    '''\n",
    "    n: the number of prices to be predicted\n",
    "    y_test: (367,) y0, y1, y2\n",
    "    y_test_10: (357, 10)\n",
    "    y_test_10[0]: [y0, y1, y2, ..., y10]\n",
    "    y_test_10[1]: [y1, y2, y3, ..., y11]\n",
    "\n",
    "    '''\n",
    "    yn = []  # final result of dimension (x, n)\n",
    "    size = len(y)  # data size of y\n",
    "    for i in range(size-(n+1)): # no last n prices in y \n",
    "        newy = [y[i]]\n",
    "        min_i = min_max[i][0]\n",
    "        max_i = min_max[i][1]\n",
    "        diff_i = max_i - min_i\n",
    "        for j in range(1, n):\n",
    "            min_j = min_max[i+j][0]\n",
    "            max_j = min_max[i+j][1]\n",
    "            diff_j = max_j - min_j\n",
    "            newy.append((y[i+j] * diff_j + min_j - min_i)/diff_i)\n",
    "        yn.append(newy)\n",
    "    return np.array(yn)"
   ]
  },
  {
   "cell_type": "code",
   "execution_count": 67,
   "metadata": {},
   "outputs": [
    {
     "output_type": "stream",
     "name": "stdout",
     "text": [
      "(1454, 21, 2) (1454, 10) (356, 21, 2) (356, 10)\n"
     ]
    }
   ],
   "source": [
    "n = 10\n",
    "y_train_10, y_test_10 = conv_ny(y_train, n, min_max_train), conv_ny(y_test, n, min_max_test)\n",
    "x_train_10 = x_train[:len(y_train_10)]\n",
    "x_test_10 = x_test[:len(y_test_10)]\n",
    "print(x_train_10.shape, y_train_10.shape, x_test_10.shape, y_test_10.shape)"
   ]
  },
  {
   "cell_type": "code",
   "execution_count": 94,
   "metadata": {},
   "outputs": [
    {
     "output_type": "stream",
     "name": "stdout",
     "text": [
      "[1.         1.         0.69847303 1.         0.89322042 0.75769262\n 1.         0.81349237 0.69047597 0.42063539] [1.         1.20794765 0.89371471 1.65619118 1.53974035 1.42328953\n 1.86876088 1.68853941 1.54528559 1.23105353]\n"
     ]
    }
   ],
   "source": [
    "print(y_test[0:10], y_test_10[0])"
   ]
  },
  {
   "source": [
    "## Model training"
   ],
   "cell_type": "markdown",
   "metadata": {}
  },
  {
   "cell_type": "code",
   "execution_count": 13,
   "metadata": {},
   "outputs": [],
   "source": [
    "# model parameters setting to predict n prices\n",
    "n = 9\n",
    "split = 0.85 # train_data percent\n",
    "\n",
    "normalise= True  # normalize 3 features\n",
    "batch_size=64;\n",
    "input_dim=x_train.shape[2]  # ['price','sentiment']\n",
    "input_timesteps=x_train.shape[1] # the window length of a training data set\n",
    "neurons=10  # number of neurons in one LSTM layer\n",
    "epochs=200\n",
    "prediction_len=1  # predict one day's price\n",
    "dense_output=n  # output size of the last dense layer\n",
    "drop_out=0.1  # dropout rate"
   ]
  },
  {
   "cell_type": "code",
   "execution_count": 14,
   "metadata": {
    "tags": []
   },
   "outputs": [
    {
     "output_type": "stream",
     "name": "stdout",
     "text": [
      "Epoch 1/200\n",
      "23/23 [==============================] - 5s 22ms/step - loss: 0.3262\n",
      "Epoch 2/200\n",
      "23/23 [==============================] - 0s 19ms/step - loss: 0.2229\n",
      "Epoch 3/200\n",
      "23/23 [==============================] - 0s 19ms/step - loss: 0.1554\n",
      "Epoch 4/200\n",
      "23/23 [==============================] - 0s 20ms/step - loss: 0.1220\n",
      "Epoch 5/200\n",
      "23/23 [==============================] - 1s 23ms/step - loss: 0.1116\n",
      "Epoch 6/200\n",
      "23/23 [==============================] - 0s 21ms/step - loss: 0.1019\n",
      "Epoch 7/200\n",
      "23/23 [==============================] - 0s 19ms/step - loss: 0.0855\n",
      "Epoch 8/200\n",
      "23/23 [==============================] - 0s 20ms/step - loss: 0.0698\n",
      "Epoch 9/200\n",
      "23/23 [==============================] - 0s 21ms/step - loss: 0.0618\n",
      "Epoch 10/200\n",
      "23/23 [==============================] - 1s 23ms/step - loss: 0.0538\n",
      "Epoch 11/200\n",
      "23/23 [==============================] - 1s 26ms/step - loss: 0.0479\n",
      "Epoch 12/200\n",
      "23/23 [==============================] - 1s 23ms/step - loss: 0.0465\n",
      "Epoch 13/200\n",
      "23/23 [==============================] - 1s 22ms/step - loss: 0.0456\n",
      "Epoch 14/200\n",
      "23/23 [==============================] - 1s 24ms/step - loss: 0.0434\n",
      "Epoch 15/200\n",
      "23/23 [==============================] - 1s 27ms/step - loss: 0.0424\n",
      "Epoch 16/200\n",
      "23/23 [==============================] - 1s 26ms/step - loss: 0.0407\n",
      "Epoch 17/200\n",
      "23/23 [==============================] - 1s 24ms/step - loss: 0.0392\n",
      "Epoch 18/200\n",
      "23/23 [==============================] - 0s 21ms/step - loss: 0.0384\n",
      "Epoch 19/200\n",
      "23/23 [==============================] - 0s 20ms/step - loss: 0.0385\n",
      "Epoch 20/200\n",
      "23/23 [==============================] - 0s 20ms/step - loss: 0.0365\n",
      "Epoch 21/200\n",
      "23/23 [==============================] - 0s 19ms/step - loss: 0.0353\n",
      "Epoch 22/200\n",
      "23/23 [==============================] - 0s 20ms/step - loss: 0.0342\n",
      "Epoch 23/200\n",
      "23/23 [==============================] - 0s 19ms/step - loss: 0.0344\n",
      "Epoch 24/200\n",
      "23/23 [==============================] - 0s 19ms/step - loss: 0.0332\n",
      "Epoch 25/200\n",
      "23/23 [==============================] - 0s 20ms/step - loss: 0.0318\n",
      "Epoch 26/200\n",
      "23/23 [==============================] - 0s 20ms/step - loss: 0.0317\n",
      "Epoch 27/200\n",
      "23/23 [==============================] - 0s 19ms/step - loss: 0.0310\n",
      "Epoch 28/200\n",
      "23/23 [==============================] - 0s 19ms/step - loss: 0.0288\n",
      "Epoch 29/200\n",
      "23/23 [==============================] - 0s 20ms/step - loss: 0.0284\n",
      "Epoch 30/200\n",
      "23/23 [==============================] - 0s 20ms/step - loss: 0.0281\n",
      "Epoch 31/200\n",
      "23/23 [==============================] - 0s 19ms/step - loss: 0.0277\n",
      "Epoch 32/200\n",
      "23/23 [==============================] - 1s 22ms/step - loss: 0.0279\n",
      "Epoch 33/200\n",
      "23/23 [==============================] - 0s 21ms/step - loss: 0.0264\n",
      "Epoch 34/200\n",
      "23/23 [==============================] - 0s 20ms/step - loss: 0.0243\n",
      "Epoch 35/200\n",
      "23/23 [==============================] - 1s 25ms/step - loss: 0.0257\n",
      "Epoch 36/200\n",
      "23/23 [==============================] - 1s 22ms/step - loss: 0.0239\n",
      "Epoch 37/200\n",
      "23/23 [==============================] - 1s 22ms/step - loss: 0.0237\n",
      "Epoch 38/200\n",
      "23/23 [==============================] - 0s 17ms/step - loss: 0.0238\n",
      "Epoch 39/200\n",
      "23/23 [==============================] - 0s 17ms/step - loss: 0.0228\n",
      "Epoch 40/200\n",
      "23/23 [==============================] - 0s 18ms/step - loss: 0.0238\n",
      "Epoch 41/200\n",
      "23/23 [==============================] - 0s 20ms/step - loss: 0.0231\n",
      "Epoch 42/200\n",
      "23/23 [==============================] - 0s 19ms/step - loss: 0.0228\n",
      "Epoch 43/200\n",
      "23/23 [==============================] - 0s 20ms/step - loss: 0.0217\n",
      "Epoch 44/200\n",
      "23/23 [==============================] - 0s 18ms/step - loss: 0.0222\n",
      "Epoch 45/200\n",
      "23/23 [==============================] - 0s 20ms/step - loss: 0.0213\n",
      "Epoch 46/200\n",
      "23/23 [==============================] - 1s 25ms/step - loss: 0.0228\n",
      "Epoch 47/200\n",
      "23/23 [==============================] - 1s 22ms/step - loss: 0.0207\n",
      "Epoch 48/200\n",
      "23/23 [==============================] - 0s 18ms/step - loss: 0.0211\n",
      "Epoch 49/200\n",
      "23/23 [==============================] - 0s 20ms/step - loss: 0.0209\n",
      "Epoch 50/200\n",
      "23/23 [==============================] - 0s 18ms/step - loss: 0.0207\n",
      "Epoch 51/200\n",
      "23/23 [==============================] - 0s 18ms/step - loss: 0.0194\n",
      "Epoch 52/200\n",
      "23/23 [==============================] - 0s 18ms/step - loss: 0.0205\n",
      "Epoch 53/200\n",
      "23/23 [==============================] - 0s 18ms/step - loss: 0.0213\n",
      "Epoch 54/200\n",
      "23/23 [==============================] - 0s 18ms/step - loss: 0.0204\n",
      "Epoch 55/200\n",
      "23/23 [==============================] - 0s 19ms/step - loss: 0.0194\n",
      "Epoch 56/200\n",
      "23/23 [==============================] - 0s 19ms/step - loss: 0.0191\n",
      "Epoch 57/200\n",
      "23/23 [==============================] - 0s 17ms/step - loss: 0.0185\n",
      "Epoch 58/200\n",
      "23/23 [==============================] - 1s 22ms/step - loss: 0.0191\n",
      "Epoch 59/200\n",
      "23/23 [==============================] - 0s 18ms/step - loss: 0.0188\n",
      "Epoch 60/200\n",
      "23/23 [==============================] - 0s 21ms/step - loss: 0.0197\n",
      "Epoch 61/200\n",
      "23/23 [==============================] - 0s 17ms/step - loss: 0.0186\n",
      "Epoch 62/200\n",
      "23/23 [==============================] - 0s 17ms/step - loss: 0.0195\n",
      "Epoch 63/200\n",
      "23/23 [==============================] - 0s 17ms/step - loss: 0.0184\n",
      "Epoch 64/200\n",
      "23/23 [==============================] - 0s 20ms/step - loss: 0.0179\n",
      "Epoch 65/200\n",
      "23/23 [==============================] - 1s 24ms/step - loss: 0.0182\n",
      "Epoch 66/200\n",
      "23/23 [==============================] - 1s 23ms/step - loss: 0.0186\n",
      "Epoch 67/200\n",
      "23/23 [==============================] - 0s 21ms/step - loss: 0.0181\n",
      "Epoch 68/200\n",
      "23/23 [==============================] - 0s 21ms/step - loss: 0.0179\n",
      "Epoch 69/200\n",
      "23/23 [==============================] - 1s 23ms/step - loss: 0.0173\n",
      "Epoch 70/200\n",
      "23/23 [==============================] - 1s 27ms/step - loss: 0.0170\n",
      "Epoch 71/200\n",
      "23/23 [==============================] - 1s 23ms/step - loss: 0.0170\n",
      "Epoch 72/200\n",
      "23/23 [==============================] - 1s 22ms/step - loss: 0.0163\n",
      "Epoch 73/200\n",
      "23/23 [==============================] - 0s 22ms/step - loss: 0.0168\n",
      "Epoch 74/200\n",
      "23/23 [==============================] - 0s 21ms/step - loss: 0.0166\n",
      "Epoch 75/200\n",
      "23/23 [==============================] - 0s 20ms/step - loss: 0.0178\n",
      "Epoch 76/200\n",
      "23/23 [==============================] - 0s 21ms/step - loss: 0.0167\n",
      "Epoch 77/200\n",
      "23/23 [==============================] - 0s 20ms/step - loss: 0.0163\n",
      "Epoch 78/200\n",
      "23/23 [==============================] - 1s 22ms/step - loss: 0.0174\n",
      "Epoch 79/200\n",
      "23/23 [==============================] - 1s 25ms/step - loss: 0.0152\n",
      "Epoch 80/200\n",
      "23/23 [==============================] - 1s 27ms/step - loss: 0.0156\n",
      "Epoch 81/200\n",
      "23/23 [==============================] - 0s 21ms/step - loss: 0.0161\n",
      "Epoch 82/200\n",
      "23/23 [==============================] - 0s 19ms/step - loss: 0.0160\n",
      "Epoch 83/200\n",
      "23/23 [==============================] - 0s 19ms/step - loss: 0.0157\n",
      "Epoch 84/200\n",
      "23/23 [==============================] - 0s 18ms/step - loss: 0.0161\n",
      "Epoch 85/200\n",
      "23/23 [==============================] - 0s 17ms/step - loss: 0.0152\n",
      "Epoch 86/200\n",
      "23/23 [==============================] - 0s 18ms/step - loss: 0.0149\n",
      "Epoch 87/200\n",
      "23/23 [==============================] - 1s 22ms/step - loss: 0.0153\n",
      "Epoch 88/200\n",
      "23/23 [==============================] - 0s 20ms/step - loss: 0.0152\n",
      "Epoch 89/200\n",
      "23/23 [==============================] - 1s 24ms/step - loss: 0.0147\n",
      "Epoch 90/200\n",
      "23/23 [==============================] - 1s 24ms/step - loss: 0.0150\n",
      "Epoch 91/200\n",
      "23/23 [==============================] - 1s 23ms/step - loss: 0.0143\n",
      "Epoch 92/200\n",
      "23/23 [==============================] - 0s 20ms/step - loss: 0.0149\n",
      "Epoch 93/200\n",
      "23/23 [==============================] - 0s 20ms/step - loss: 0.0137\n",
      "Epoch 94/200\n",
      "23/23 [==============================] - 0s 18ms/step - loss: 0.0144\n",
      "Epoch 95/200\n",
      "23/23 [==============================] - 0s 18ms/step - loss: 0.0141\n",
      "Epoch 96/200\n",
      "23/23 [==============================] - 0s 17ms/step - loss: 0.0135\n",
      "Epoch 97/200\n",
      "23/23 [==============================] - 0s 17ms/step - loss: 0.0138\n",
      "Epoch 98/200\n",
      "23/23 [==============================] - 0s 17ms/step - loss: 0.0139\n",
      "Epoch 99/200\n",
      "23/23 [==============================] - 0s 18ms/step - loss: 0.0136\n",
      "Epoch 100/200\n",
      "23/23 [==============================] - 0s 20ms/step - loss: 0.0138\n",
      "Epoch 101/200\n",
      "23/23 [==============================] - 0s 20ms/step - loss: 0.0135\n",
      "Epoch 102/200\n",
      "23/23 [==============================] - 0s 19ms/step - loss: 0.0128\n",
      "Epoch 103/200\n",
      "23/23 [==============================] - 0s 19ms/step - loss: 0.0135\n",
      "Epoch 104/200\n",
      "23/23 [==============================] - 0s 18ms/step - loss: 0.0132\n",
      "Epoch 105/200\n",
      "23/23 [==============================] - 0s 18ms/step - loss: 0.0139\n",
      "Epoch 106/200\n",
      "23/23 [==============================] - 0s 17ms/step - loss: 0.0146\n",
      "Epoch 107/200\n",
      "23/23 [==============================] - 0s 18ms/step - loss: 0.0141\n",
      "Epoch 108/200\n",
      "23/23 [==============================] - 0s 18ms/step - loss: 0.0135\n",
      "Epoch 109/200\n",
      "23/23 [==============================] - 1s 25ms/step - loss: 0.0130\n",
      "Epoch 110/200\n",
      "23/23 [==============================] - 0s 21ms/step - loss: 0.0133\n",
      "Epoch 111/200\n",
      "23/23 [==============================] - 0s 19ms/step - loss: 0.0134\n",
      "Epoch 112/200\n",
      "23/23 [==============================] - 0s 21ms/step - loss: 0.0129\n",
      "Epoch 113/200\n",
      "23/23 [==============================] - 0s 21ms/step - loss: 0.0123\n",
      "Epoch 114/200\n",
      "23/23 [==============================] - 0s 18ms/step - loss: 0.0125\n",
      "Epoch 115/200\n",
      "23/23 [==============================] - 0s 19ms/step - loss: 0.0132\n",
      "Epoch 116/200\n",
      "23/23 [==============================] - 0s 18ms/step - loss: 0.0122\n",
      "Epoch 117/200\n",
      "23/23 [==============================] - 0s 18ms/step - loss: 0.0127\n",
      "Epoch 118/200\n",
      "23/23 [==============================] - 0s 17ms/step - loss: 0.0124\n",
      "Epoch 119/200\n",
      "23/23 [==============================] - 0s 17ms/step - loss: 0.0121\n",
      "Epoch 120/200\n",
      "23/23 [==============================] - 0s 18ms/step - loss: 0.0123\n",
      "Epoch 121/200\n",
      "23/23 [==============================] - 0s 19ms/step - loss: 0.0125\n",
      "Epoch 122/200\n",
      "23/23 [==============================] - 0s 17ms/step - loss: 0.0121\n",
      "Epoch 123/200\n",
      "23/23 [==============================] - 0s 20ms/step - loss: 0.0119\n",
      "Epoch 124/200\n",
      "23/23 [==============================] - 0s 19ms/step - loss: 0.0126\n",
      "Epoch 125/200\n",
      "23/23 [==============================] - 0s 17ms/step - loss: 0.0119\n",
      "Epoch 126/200\n",
      "23/23 [==============================] - 0s 17ms/step - loss: 0.0124\n",
      "Epoch 127/200\n",
      "23/23 [==============================] - 0s 18ms/step - loss: 0.0124\n",
      "Epoch 128/200\n",
      "23/23 [==============================] - 0s 17ms/step - loss: 0.0120\n",
      "Epoch 129/200\n",
      "23/23 [==============================] - 0s 18ms/step - loss: 0.0124\n",
      "Epoch 130/200\n",
      "23/23 [==============================] - 0s 17ms/step - loss: 0.0116\n",
      "Epoch 131/200\n",
      "23/23 [==============================] - 0s 17ms/step - loss: 0.0116\n",
      "Epoch 132/200\n",
      "23/23 [==============================] - 0s 18ms/step - loss: 0.0116\n",
      "Epoch 133/200\n",
      "23/23 [==============================] - 0s 18ms/step - loss: 0.0120\n",
      "Epoch 134/200\n",
      "23/23 [==============================] - 0s 19ms/step - loss: 0.0118\n",
      "Epoch 135/200\n",
      "23/23 [==============================] - 0s 20ms/step - loss: 0.0117\n",
      "Epoch 136/200\n",
      "23/23 [==============================] - 0s 19ms/step - loss: 0.0118\n",
      "Epoch 137/200\n",
      "23/23 [==============================] - 0s 20ms/step - loss: 0.0118\n",
      "Epoch 138/200\n",
      "23/23 [==============================] - 0s 17ms/step - loss: 0.0118\n",
      "Epoch 139/200\n",
      "23/23 [==============================] - 0s 18ms/step - loss: 0.0118\n",
      "Epoch 140/200\n",
      "23/23 [==============================] - 0s 17ms/step - loss: 0.0112\n",
      "Epoch 141/200\n",
      "23/23 [==============================] - 0s 17ms/step - loss: 0.0117\n",
      "Epoch 142/200\n",
      "23/23 [==============================] - 0s 18ms/step - loss: 0.0111\n",
      "Epoch 143/200\n",
      "23/23 [==============================] - 0s 17ms/step - loss: 0.0112\n",
      "Epoch 144/200\n",
      "23/23 [==============================] - 0s 18ms/step - loss: 0.0109\n",
      "Epoch 145/200\n",
      "23/23 [==============================] - 0s 17ms/step - loss: 0.0113\n",
      "Epoch 146/200\n",
      "23/23 [==============================] - 0s 17ms/step - loss: 0.0108\n",
      "Epoch 147/200\n",
      "23/23 [==============================] - 0s 18ms/step - loss: 0.0119\n",
      "Epoch 148/200\n",
      "23/23 [==============================] - 0s 18ms/step - loss: 0.0119\n",
      "Epoch 149/200\n",
      "23/23 [==============================] - 0s 19ms/step - loss: 0.0117\n",
      "Epoch 150/200\n",
      "23/23 [==============================] - 0s 17ms/step - loss: 0.0112\n",
      "Epoch 151/200\n",
      "23/23 [==============================] - 0s 17ms/step - loss: 0.0114\n",
      "Epoch 152/200\n",
      "23/23 [==============================] - 0s 17ms/step - loss: 0.0111\n",
      "Epoch 153/200\n",
      "23/23 [==============================] - 0s 17ms/step - loss: 0.0119\n",
      "Epoch 154/200\n",
      "23/23 [==============================] - 0s 21ms/step - loss: 0.0110\n",
      "Epoch 155/200\n",
      "23/23 [==============================] - 0s 17ms/step - loss: 0.0113\n",
      "Epoch 156/200\n",
      "23/23 [==============================] - 0s 17ms/step - loss: 0.0115\n",
      "Epoch 157/200\n",
      "23/23 [==============================] - 0s 17ms/step - loss: 0.0106\n",
      "Epoch 158/200\n",
      "23/23 [==============================] - 0s 18ms/step - loss: 0.0112\n",
      "Epoch 159/200\n",
      "23/23 [==============================] - 0s 18ms/step - loss: 0.0111\n",
      "Epoch 160/200\n",
      "23/23 [==============================] - 0s 17ms/step - loss: 0.0112\n",
      "Epoch 161/200\n",
      "23/23 [==============================] - 0s 19ms/step - loss: 0.0113\n",
      "Epoch 162/200\n",
      "23/23 [==============================] - 0s 20ms/step - loss: 0.0114\n",
      "Epoch 163/200\n",
      "23/23 [==============================] - 0s 18ms/step - loss: 0.0112\n",
      "Epoch 164/200\n",
      "23/23 [==============================] - 0s 18ms/step - loss: 0.0109\n",
      "Epoch 165/200\n",
      "23/23 [==============================] - 0s 18ms/step - loss: 0.0114\n",
      "Epoch 166/200\n",
      "23/23 [==============================] - 0s 19ms/step - loss: 0.0109\n",
      "Epoch 167/200\n",
      "23/23 [==============================] - 0s 19ms/step - loss: 0.0112\n",
      "Epoch 168/200\n",
      "23/23 [==============================] - 0s 20ms/step - loss: 0.0107\n",
      "Epoch 169/200\n",
      "23/23 [==============================] - 0s 20ms/step - loss: 0.0110\n",
      "Epoch 170/200\n",
      "23/23 [==============================] - 0s 22ms/step - loss: 0.0109\n",
      "Epoch 171/200\n",
      "23/23 [==============================] - 0s 22ms/step - loss: 0.0113\n",
      "Epoch 172/200\n",
      "23/23 [==============================] - 1s 22ms/step - loss: 0.0103\n",
      "Epoch 173/200\n",
      "23/23 [==============================] - 1s 24ms/step - loss: 0.0109\n",
      "Epoch 174/200\n",
      "23/23 [==============================] - 1s 25ms/step - loss: 0.0107\n",
      "Epoch 175/200\n",
      "23/23 [==============================] - 1s 29ms/step - loss: 0.0109\n",
      "Epoch 176/200\n",
      "23/23 [==============================] - 1s 28ms/step - loss: 0.0112\n",
      "Epoch 177/200\n",
      "23/23 [==============================] - 1s 27ms/step - loss: 0.0111\n",
      "Epoch 178/200\n",
      "23/23 [==============================] - 1s 31ms/step - loss: 0.0106\n",
      "Epoch 179/200\n",
      "23/23 [==============================] - 1s 34ms/step - loss: 0.0108\n",
      "Epoch 180/200\n",
      "23/23 [==============================] - 1s 40ms/step - loss: 0.0106\n",
      "Epoch 181/200\n",
      "23/23 [==============================] - 1s 45ms/step - loss: 0.0106\n",
      "Epoch 182/200\n",
      "23/23 [==============================] - 1s 35ms/step - loss: 0.0107\n",
      "Epoch 183/200\n",
      "23/23 [==============================] - 1s 39ms/step - loss: 0.0108\n",
      "Epoch 184/200\n",
      "23/23 [==============================] - 1s 43ms/step - loss: 0.0110\n",
      "Epoch 185/200\n",
      "23/23 [==============================] - 1s 48ms/step - loss: 0.0108\n",
      "Epoch 186/200\n",
      "23/23 [==============================] - 1s 50ms/step - loss: 0.0110\n",
      "Epoch 187/200\n",
      "23/23 [==============================] - 1s 47ms/step - loss: 0.0106\n",
      "Epoch 188/200\n",
      "23/23 [==============================] - 1s 44ms/step - loss: 0.0106\n",
      "Epoch 189/200\n",
      "23/23 [==============================] - 1s 52ms/step - loss: 0.0108\n",
      "Epoch 190/200\n",
      "23/23 [==============================] - 1s 59ms/step - loss: 0.0109\n",
      "Epoch 191/200\n",
      "23/23 [==============================] - 1s 57ms/step - loss: 0.0109\n",
      "Epoch 192/200\n",
      "23/23 [==============================] - 1s 50ms/step - loss: 0.0101\n",
      "Epoch 193/200\n",
      "23/23 [==============================] - 1s 52ms/step - loss: 0.0106\n",
      "Epoch 194/200\n",
      "23/23 [==============================] - 1s 48ms/step - loss: 0.0112\n",
      "Epoch 195/200\n",
      "23/23 [==============================] - 1s 48ms/step - loss: 0.0106\n",
      "Epoch 196/200\n",
      "23/23 [==============================] - 1s 34ms/step - loss: 0.0103\n",
      "Epoch 197/200\n",
      "23/23 [==============================] - 1s 32ms/step - loss: 0.0103\n",
      "Epoch 198/200\n",
      "23/23 [==============================] - 1s 30ms/step - loss: 0.0108\n",
      "Epoch 199/200\n",
      "23/23 [==============================] - 1s 32ms/step - loss: 0.0106\n",
      "Epoch 200/200\n",
      "23/23 [==============================] - 1s 30ms/step - loss: 0.0105\n"
     ]
    }
   ],
   "source": [
    "# Build LSTM MODEL to predict 9 prices\n",
    "model = Sequential()\n",
    "model.add(LSTM(neurons, input_shape=(input_timesteps, input_dim), return_sequences = True))\n",
    "model.add(Dropout(drop_out))\n",
    "model.add(LSTM(neurons,return_sequences = True))\n",
    "model.add(LSTM(neurons,return_sequences =False))\n",
    "model.add(Dropout(drop_out))\n",
    "model.add(Dense(dense_output, activation='linear'))\n",
    "# Compile model\n",
    "model.compile(loss='mean_squared_error',\n",
    "                optimizer='adam')\n",
    "# Fit the model\n",
    "history = model.fit(x_train,y_train,epochs=epochs,batch_size=batch_size)"
   ]
  },
  {
   "cell_type": "code",
   "execution_count": 28,
   "metadata": {},
   "outputs": [],
   "source": [
    "model.save('../model_saved/energy_cog_2016_5.h5')"
   ]
  },
  {
   "cell_type": "code",
   "execution_count": 15,
   "metadata": {},
   "outputs": [
    {
     "output_type": "execute_result",
     "data": {
      "text/plain": [
       "Text(0.5, 1.0, 'MSE v.s. Epochs')"
      ]
     },
     "metadata": {},
     "execution_count": 15
    },
    {
     "output_type": "display_data",
     "data": {
      "text/plain": "<Figure size 432x288 with 1 Axes>",
      "image/svg+xml": "<?xml version=\"1.0\" encoding=\"utf-8\" standalone=\"no\"?>\n<!DOCTYPE svg PUBLIC \"-//W3C//DTD SVG 1.1//EN\"\n  \"http://www.w3.org/Graphics/SVG/1.1/DTD/svg11.dtd\">\n<!-- Created with matplotlib (https://matplotlib.org/) -->\n<svg height=\"277.314375pt\" version=\"1.1\" viewBox=\"0 0 392.14375 277.314375\" width=\"392.14375pt\" xmlns=\"http://www.w3.org/2000/svg\" xmlns:xlink=\"http://www.w3.org/1999/xlink\">\n <metadata>\n  <rdf:RDF xmlns:cc=\"http://creativecommons.org/ns#\" xmlns:dc=\"http://purl.org/dc/elements/1.1/\" xmlns:rdf=\"http://www.w3.org/1999/02/22-rdf-syntax-ns#\">\n   <cc:Work>\n    <dc:type rdf:resource=\"http://purl.org/dc/dcmitype/StillImage\"/>\n    <dc:date>2021-05-09T00:41:06.105017</dc:date>\n    <dc:format>image/svg+xml</dc:format>\n    <dc:creator>\n     <cc:Agent>\n      <dc:title>Matplotlib v3.3.3, https://matplotlib.org/</dc:title>\n     </cc:Agent>\n    </dc:creator>\n   </cc:Work>\n  </rdf:RDF>\n </metadata>\n <defs>\n  <style type=\"text/css\">*{stroke-linecap:butt;stroke-linejoin:round;}</style>\n </defs>\n <g id=\"figure_1\">\n  <g id=\"patch_1\">\n   <path d=\"M 0 277.314375 \nL 392.14375 277.314375 \nL 392.14375 0 \nL 0 0 \nz\n\" style=\"fill:none;\"/>\n  </g>\n  <g id=\"axes_1\">\n   <g id=\"patch_2\">\n    <path d=\"M 50.14375 239.758125 \nL 384.94375 239.758125 \nL 384.94375 22.318125 \nL 50.14375 22.318125 \nz\n\" style=\"fill:#ffffff;\"/>\n   </g>\n   <g id=\"matplotlib.axis_1\">\n    <g id=\"xtick_1\">\n     <g id=\"line2d_1\">\n      <defs>\n       <path d=\"M 0 0 \nL 0 3.5 \n\" id=\"mdb575c65cf\" style=\"stroke:#000000;stroke-width:0.8;\"/>\n      </defs>\n      <g>\n       <use style=\"stroke:#000000;stroke-width:0.8;\" x=\"65.361932\" xlink:href=\"#mdb575c65cf\" y=\"239.758125\"/>\n      </g>\n     </g>\n     <g id=\"text_1\">\n      <!-- 0 -->\n      <g transform=\"translate(62.180682 254.356562)scale(0.1 -0.1)\">\n       <defs>\n        <path d=\"M 31.78125 66.40625 \nQ 24.171875 66.40625 20.328125 58.90625 \nQ 16.5 51.421875 16.5 36.375 \nQ 16.5 21.390625 20.328125 13.890625 \nQ 24.171875 6.390625 31.78125 6.390625 \nQ 39.453125 6.390625 43.28125 13.890625 \nQ 47.125 21.390625 47.125 36.375 \nQ 47.125 51.421875 43.28125 58.90625 \nQ 39.453125 66.40625 31.78125 66.40625 \nz\nM 31.78125 74.21875 \nQ 44.046875 74.21875 50.515625 64.515625 \nQ 56.984375 54.828125 56.984375 36.375 \nQ 56.984375 17.96875 50.515625 8.265625 \nQ 44.046875 -1.421875 31.78125 -1.421875 \nQ 19.53125 -1.421875 13.0625 8.265625 \nQ 6.59375 17.96875 6.59375 36.375 \nQ 6.59375 54.828125 13.0625 64.515625 \nQ 19.53125 74.21875 31.78125 74.21875 \nz\n\" id=\"DejaVuSans-48\"/>\n       </defs>\n       <use xlink:href=\"#DejaVuSans-48\"/>\n      </g>\n     </g>\n    </g>\n    <g id=\"xtick_2\">\n     <g id=\"line2d_2\">\n      <g>\n       <use style=\"stroke:#000000;stroke-width:0.8;\" x=\"103.59857\" xlink:href=\"#mdb575c65cf\" y=\"239.758125\"/>\n      </g>\n     </g>\n     <g id=\"text_2\">\n      <!-- 25 -->\n      <g transform=\"translate(97.23607 254.356562)scale(0.1 -0.1)\">\n       <defs>\n        <path d=\"M 19.1875 8.296875 \nL 53.609375 8.296875 \nL 53.609375 0 \nL 7.328125 0 \nL 7.328125 8.296875 \nQ 12.9375 14.109375 22.625 23.890625 \nQ 32.328125 33.6875 34.8125 36.53125 \nQ 39.546875 41.84375 41.421875 45.53125 \nQ 43.3125 49.21875 43.3125 52.78125 \nQ 43.3125 58.59375 39.234375 62.25 \nQ 35.15625 65.921875 28.609375 65.921875 \nQ 23.96875 65.921875 18.8125 64.3125 \nQ 13.671875 62.703125 7.8125 59.421875 \nL 7.8125 69.390625 \nQ 13.765625 71.78125 18.9375 73 \nQ 24.125 74.21875 28.421875 74.21875 \nQ 39.75 74.21875 46.484375 68.546875 \nQ 53.21875 62.890625 53.21875 53.421875 \nQ 53.21875 48.921875 51.53125 44.890625 \nQ 49.859375 40.875 45.40625 35.40625 \nQ 44.1875 33.984375 37.640625 27.21875 \nQ 31.109375 20.453125 19.1875 8.296875 \nz\n\" id=\"DejaVuSans-50\"/>\n        <path d=\"M 10.796875 72.90625 \nL 49.515625 72.90625 \nL 49.515625 64.59375 \nL 19.828125 64.59375 \nL 19.828125 46.734375 \nQ 21.96875 47.46875 24.109375 47.828125 \nQ 26.265625 48.1875 28.421875 48.1875 \nQ 40.625 48.1875 47.75 41.5 \nQ 54.890625 34.8125 54.890625 23.390625 \nQ 54.890625 11.625 47.5625 5.09375 \nQ 40.234375 -1.421875 26.90625 -1.421875 \nQ 22.3125 -1.421875 17.546875 -0.640625 \nQ 12.796875 0.140625 7.71875 1.703125 \nL 7.71875 11.625 \nQ 12.109375 9.234375 16.796875 8.0625 \nQ 21.484375 6.890625 26.703125 6.890625 \nQ 35.15625 6.890625 40.078125 11.328125 \nQ 45.015625 15.765625 45.015625 23.390625 \nQ 45.015625 31 40.078125 35.4375 \nQ 35.15625 39.890625 26.703125 39.890625 \nQ 22.75 39.890625 18.8125 39.015625 \nQ 14.890625 38.140625 10.796875 36.28125 \nz\n\" id=\"DejaVuSans-53\"/>\n       </defs>\n       <use xlink:href=\"#DejaVuSans-50\"/>\n       <use x=\"63.623047\" xlink:href=\"#DejaVuSans-53\"/>\n      </g>\n     </g>\n    </g>\n    <g id=\"xtick_3\">\n     <g id=\"line2d_3\">\n      <g>\n       <use style=\"stroke:#000000;stroke-width:0.8;\" x=\"141.835207\" xlink:href=\"#mdb575c65cf\" y=\"239.758125\"/>\n      </g>\n     </g>\n     <g id=\"text_3\">\n      <!-- 50 -->\n      <g transform=\"translate(135.472707 254.356562)scale(0.1 -0.1)\">\n       <use xlink:href=\"#DejaVuSans-53\"/>\n       <use x=\"63.623047\" xlink:href=\"#DejaVuSans-48\"/>\n      </g>\n     </g>\n    </g>\n    <g id=\"xtick_4\">\n     <g id=\"line2d_4\">\n      <g>\n       <use style=\"stroke:#000000;stroke-width:0.8;\" x=\"180.071845\" xlink:href=\"#mdb575c65cf\" y=\"239.758125\"/>\n      </g>\n     </g>\n     <g id=\"text_4\">\n      <!-- 75 -->\n      <g transform=\"translate(173.709345 254.356562)scale(0.1 -0.1)\">\n       <defs>\n        <path d=\"M 8.203125 72.90625 \nL 55.078125 72.90625 \nL 55.078125 68.703125 \nL 28.609375 0 \nL 18.3125 0 \nL 43.21875 64.59375 \nL 8.203125 64.59375 \nz\n\" id=\"DejaVuSans-55\"/>\n       </defs>\n       <use xlink:href=\"#DejaVuSans-55\"/>\n       <use x=\"63.623047\" xlink:href=\"#DejaVuSans-53\"/>\n      </g>\n     </g>\n    </g>\n    <g id=\"xtick_5\">\n     <g id=\"line2d_5\">\n      <g>\n       <use style=\"stroke:#000000;stroke-width:0.8;\" x=\"218.308483\" xlink:href=\"#mdb575c65cf\" y=\"239.758125\"/>\n      </g>\n     </g>\n     <g id=\"text_5\">\n      <!-- 100 -->\n      <g transform=\"translate(208.764733 254.356562)scale(0.1 -0.1)\">\n       <defs>\n        <path d=\"M 12.40625 8.296875 \nL 28.515625 8.296875 \nL 28.515625 63.921875 \nL 10.984375 60.40625 \nL 10.984375 69.390625 \nL 28.421875 72.90625 \nL 38.28125 72.90625 \nL 38.28125 8.296875 \nL 54.390625 8.296875 \nL 54.390625 0 \nL 12.40625 0 \nz\n\" id=\"DejaVuSans-49\"/>\n       </defs>\n       <use xlink:href=\"#DejaVuSans-49\"/>\n       <use x=\"63.623047\" xlink:href=\"#DejaVuSans-48\"/>\n       <use x=\"127.246094\" xlink:href=\"#DejaVuSans-48\"/>\n      </g>\n     </g>\n    </g>\n    <g id=\"xtick_6\">\n     <g id=\"line2d_6\">\n      <g>\n       <use style=\"stroke:#000000;stroke-width:0.8;\" x=\"256.54512\" xlink:href=\"#mdb575c65cf\" y=\"239.758125\"/>\n      </g>\n     </g>\n     <g id=\"text_6\">\n      <!-- 125 -->\n      <g transform=\"translate(247.00137 254.356562)scale(0.1 -0.1)\">\n       <use xlink:href=\"#DejaVuSans-49\"/>\n       <use x=\"63.623047\" xlink:href=\"#DejaVuSans-50\"/>\n       <use x=\"127.246094\" xlink:href=\"#DejaVuSans-53\"/>\n      </g>\n     </g>\n    </g>\n    <g id=\"xtick_7\">\n     <g id=\"line2d_7\">\n      <g>\n       <use style=\"stroke:#000000;stroke-width:0.8;\" x=\"294.781758\" xlink:href=\"#mdb575c65cf\" y=\"239.758125\"/>\n      </g>\n     </g>\n     <g id=\"text_7\">\n      <!-- 150 -->\n      <g transform=\"translate(285.238008 254.356562)scale(0.1 -0.1)\">\n       <use xlink:href=\"#DejaVuSans-49\"/>\n       <use x=\"63.623047\" xlink:href=\"#DejaVuSans-53\"/>\n       <use x=\"127.246094\" xlink:href=\"#DejaVuSans-48\"/>\n      </g>\n     </g>\n    </g>\n    <g id=\"xtick_8\">\n     <g id=\"line2d_8\">\n      <g>\n       <use style=\"stroke:#000000;stroke-width:0.8;\" x=\"333.018396\" xlink:href=\"#mdb575c65cf\" y=\"239.758125\"/>\n      </g>\n     </g>\n     <g id=\"text_8\">\n      <!-- 175 -->\n      <g transform=\"translate(323.474646 254.356562)scale(0.1 -0.1)\">\n       <use xlink:href=\"#DejaVuSans-49\"/>\n       <use x=\"63.623047\" xlink:href=\"#DejaVuSans-55\"/>\n       <use x=\"127.246094\" xlink:href=\"#DejaVuSans-53\"/>\n      </g>\n     </g>\n    </g>\n    <g id=\"xtick_9\">\n     <g id=\"line2d_9\">\n      <g>\n       <use style=\"stroke:#000000;stroke-width:0.8;\" x=\"371.255034\" xlink:href=\"#mdb575c65cf\" y=\"239.758125\"/>\n      </g>\n     </g>\n     <g id=\"text_9\">\n      <!-- 200 -->\n      <g transform=\"translate(361.711284 254.356562)scale(0.1 -0.1)\">\n       <use xlink:href=\"#DejaVuSans-50\"/>\n       <use x=\"63.623047\" xlink:href=\"#DejaVuSans-48\"/>\n       <use x=\"127.246094\" xlink:href=\"#DejaVuSans-48\"/>\n      </g>\n     </g>\n    </g>\n    <g id=\"text_10\">\n     <!-- epochs -->\n     <g transform=\"translate(199.710938 268.034687)scale(0.1 -0.1)\">\n      <defs>\n       <path d=\"M 56.203125 29.59375 \nL 56.203125 25.203125 \nL 14.890625 25.203125 \nQ 15.484375 15.921875 20.484375 11.0625 \nQ 25.484375 6.203125 34.421875 6.203125 \nQ 39.59375 6.203125 44.453125 7.46875 \nQ 49.3125 8.734375 54.109375 11.28125 \nL 54.109375 2.78125 \nQ 49.265625 0.734375 44.1875 -0.34375 \nQ 39.109375 -1.421875 33.890625 -1.421875 \nQ 20.796875 -1.421875 13.15625 6.1875 \nQ 5.515625 13.8125 5.515625 26.8125 \nQ 5.515625 40.234375 12.765625 48.109375 \nQ 20.015625 56 32.328125 56 \nQ 43.359375 56 49.78125 48.890625 \nQ 56.203125 41.796875 56.203125 29.59375 \nz\nM 47.21875 32.234375 \nQ 47.125 39.59375 43.09375 43.984375 \nQ 39.0625 48.390625 32.421875 48.390625 \nQ 24.90625 48.390625 20.390625 44.140625 \nQ 15.875 39.890625 15.1875 32.171875 \nz\n\" id=\"DejaVuSans-101\"/>\n       <path d=\"M 18.109375 8.203125 \nL 18.109375 -20.796875 \nL 9.078125 -20.796875 \nL 9.078125 54.6875 \nL 18.109375 54.6875 \nL 18.109375 46.390625 \nQ 20.953125 51.265625 25.265625 53.625 \nQ 29.59375 56 35.59375 56 \nQ 45.5625 56 51.78125 48.09375 \nQ 58.015625 40.1875 58.015625 27.296875 \nQ 58.015625 14.40625 51.78125 6.484375 \nQ 45.5625 -1.421875 35.59375 -1.421875 \nQ 29.59375 -1.421875 25.265625 0.953125 \nQ 20.953125 3.328125 18.109375 8.203125 \nz\nM 48.6875 27.296875 \nQ 48.6875 37.203125 44.609375 42.84375 \nQ 40.53125 48.484375 33.40625 48.484375 \nQ 26.265625 48.484375 22.1875 42.84375 \nQ 18.109375 37.203125 18.109375 27.296875 \nQ 18.109375 17.390625 22.1875 11.75 \nQ 26.265625 6.109375 33.40625 6.109375 \nQ 40.53125 6.109375 44.609375 11.75 \nQ 48.6875 17.390625 48.6875 27.296875 \nz\n\" id=\"DejaVuSans-112\"/>\n       <path d=\"M 30.609375 48.390625 \nQ 23.390625 48.390625 19.1875 42.75 \nQ 14.984375 37.109375 14.984375 27.296875 \nQ 14.984375 17.484375 19.15625 11.84375 \nQ 23.34375 6.203125 30.609375 6.203125 \nQ 37.796875 6.203125 41.984375 11.859375 \nQ 46.1875 17.53125 46.1875 27.296875 \nQ 46.1875 37.015625 41.984375 42.703125 \nQ 37.796875 48.390625 30.609375 48.390625 \nz\nM 30.609375 56 \nQ 42.328125 56 49.015625 48.375 \nQ 55.71875 40.765625 55.71875 27.296875 \nQ 55.71875 13.875 49.015625 6.21875 \nQ 42.328125 -1.421875 30.609375 -1.421875 \nQ 18.84375 -1.421875 12.171875 6.21875 \nQ 5.515625 13.875 5.515625 27.296875 \nQ 5.515625 40.765625 12.171875 48.375 \nQ 18.84375 56 30.609375 56 \nz\n\" id=\"DejaVuSans-111\"/>\n       <path d=\"M 48.78125 52.59375 \nL 48.78125 44.1875 \nQ 44.96875 46.296875 41.140625 47.34375 \nQ 37.3125 48.390625 33.40625 48.390625 \nQ 24.65625 48.390625 19.8125 42.84375 \nQ 14.984375 37.3125 14.984375 27.296875 \nQ 14.984375 17.28125 19.8125 11.734375 \nQ 24.65625 6.203125 33.40625 6.203125 \nQ 37.3125 6.203125 41.140625 7.25 \nQ 44.96875 8.296875 48.78125 10.40625 \nL 48.78125 2.09375 \nQ 45.015625 0.34375 40.984375 -0.53125 \nQ 36.96875 -1.421875 32.421875 -1.421875 \nQ 20.0625 -1.421875 12.78125 6.34375 \nQ 5.515625 14.109375 5.515625 27.296875 \nQ 5.515625 40.671875 12.859375 48.328125 \nQ 20.21875 56 33.015625 56 \nQ 37.15625 56 41.109375 55.140625 \nQ 45.0625 54.296875 48.78125 52.59375 \nz\n\" id=\"DejaVuSans-99\"/>\n       <path d=\"M 54.890625 33.015625 \nL 54.890625 0 \nL 45.90625 0 \nL 45.90625 32.71875 \nQ 45.90625 40.484375 42.875 44.328125 \nQ 39.84375 48.1875 33.796875 48.1875 \nQ 26.515625 48.1875 22.3125 43.546875 \nQ 18.109375 38.921875 18.109375 30.90625 \nL 18.109375 0 \nL 9.078125 0 \nL 9.078125 75.984375 \nL 18.109375 75.984375 \nL 18.109375 46.1875 \nQ 21.34375 51.125 25.703125 53.5625 \nQ 30.078125 56 35.796875 56 \nQ 45.21875 56 50.046875 50.171875 \nQ 54.890625 44.34375 54.890625 33.015625 \nz\n\" id=\"DejaVuSans-104\"/>\n       <path d=\"M 44.28125 53.078125 \nL 44.28125 44.578125 \nQ 40.484375 46.53125 36.375 47.5 \nQ 32.28125 48.484375 27.875 48.484375 \nQ 21.1875 48.484375 17.84375 46.4375 \nQ 14.5 44.390625 14.5 40.28125 \nQ 14.5 37.15625 16.890625 35.375 \nQ 19.28125 33.59375 26.515625 31.984375 \nL 29.59375 31.296875 \nQ 39.15625 29.25 43.1875 25.515625 \nQ 47.21875 21.78125 47.21875 15.09375 \nQ 47.21875 7.46875 41.1875 3.015625 \nQ 35.15625 -1.421875 24.609375 -1.421875 \nQ 20.21875 -1.421875 15.453125 -0.5625 \nQ 10.6875 0.296875 5.421875 2 \nL 5.421875 11.28125 \nQ 10.40625 8.6875 15.234375 7.390625 \nQ 20.0625 6.109375 24.8125 6.109375 \nQ 31.15625 6.109375 34.5625 8.28125 \nQ 37.984375 10.453125 37.984375 14.40625 \nQ 37.984375 18.0625 35.515625 20.015625 \nQ 33.0625 21.96875 24.703125 23.78125 \nL 21.578125 24.515625 \nQ 13.234375 26.265625 9.515625 29.90625 \nQ 5.8125 33.546875 5.8125 39.890625 \nQ 5.8125 47.609375 11.28125 51.796875 \nQ 16.75 56 26.8125 56 \nQ 31.78125 56 36.171875 55.265625 \nQ 40.578125 54.546875 44.28125 53.078125 \nz\n\" id=\"DejaVuSans-115\"/>\n      </defs>\n      <use xlink:href=\"#DejaVuSans-101\"/>\n      <use x=\"61.523438\" xlink:href=\"#DejaVuSans-112\"/>\n      <use x=\"125\" xlink:href=\"#DejaVuSans-111\"/>\n      <use x=\"186.181641\" xlink:href=\"#DejaVuSans-99\"/>\n      <use x=\"241.162109\" xlink:href=\"#DejaVuSans-104\"/>\n      <use x=\"304.541016\" xlink:href=\"#DejaVuSans-115\"/>\n     </g>\n    </g>\n   </g>\n   <g id=\"matplotlib.axis_2\">\n    <g id=\"ytick_1\">\n     <g id=\"line2d_10\">\n      <defs>\n       <path d=\"M 0 0 \nL -3.5 0 \n\" id=\"m7785eac515\" style=\"stroke:#000000;stroke-width:0.8;\"/>\n      </defs>\n      <g>\n       <use style=\"stroke:#000000;stroke-width:0.8;\" x=\"50.14375\" xlink:href=\"#m7785eac515\" y=\"236.902691\"/>\n      </g>\n     </g>\n     <g id=\"text_11\">\n      <!-- 0.00 -->\n      <g transform=\"translate(20.878125 240.70191)scale(0.1 -0.1)\">\n       <defs>\n        <path d=\"M 10.6875 12.40625 \nL 21 12.40625 \nL 21 0 \nL 10.6875 0 \nz\n\" id=\"DejaVuSans-46\"/>\n       </defs>\n       <use xlink:href=\"#DejaVuSans-48\"/>\n       <use x=\"63.623047\" xlink:href=\"#DejaVuSans-46\"/>\n       <use x=\"95.410156\" xlink:href=\"#DejaVuSans-48\"/>\n       <use x=\"159.033203\" xlink:href=\"#DejaVuSans-48\"/>\n      </g>\n     </g>\n    </g>\n    <g id=\"ytick_2\">\n     <g id=\"line2d_11\">\n      <g>\n       <use style=\"stroke:#000000;stroke-width:0.8;\" x=\"50.14375\" xlink:href=\"#m7785eac515\" y=\"202.700136\"/>\n      </g>\n     </g>\n     <g id=\"text_12\">\n      <!-- 0.05 -->\n      <g transform=\"translate(20.878125 206.499355)scale(0.1 -0.1)\">\n       <use xlink:href=\"#DejaVuSans-48\"/>\n       <use x=\"63.623047\" xlink:href=\"#DejaVuSans-46\"/>\n       <use x=\"95.410156\" xlink:href=\"#DejaVuSans-48\"/>\n       <use x=\"159.033203\" xlink:href=\"#DejaVuSans-53\"/>\n      </g>\n     </g>\n    </g>\n    <g id=\"ytick_3\">\n     <g id=\"line2d_12\">\n      <g>\n       <use style=\"stroke:#000000;stroke-width:0.8;\" x=\"50.14375\" xlink:href=\"#m7785eac515\" y=\"168.497581\"/>\n      </g>\n     </g>\n     <g id=\"text_13\">\n      <!-- 0.10 -->\n      <g transform=\"translate(20.878125 172.2968)scale(0.1 -0.1)\">\n       <use xlink:href=\"#DejaVuSans-48\"/>\n       <use x=\"63.623047\" xlink:href=\"#DejaVuSans-46\"/>\n       <use x=\"95.410156\" xlink:href=\"#DejaVuSans-49\"/>\n       <use x=\"159.033203\" xlink:href=\"#DejaVuSans-48\"/>\n      </g>\n     </g>\n    </g>\n    <g id=\"ytick_4\">\n     <g id=\"line2d_13\">\n      <g>\n       <use style=\"stroke:#000000;stroke-width:0.8;\" x=\"50.14375\" xlink:href=\"#m7785eac515\" y=\"134.295026\"/>\n      </g>\n     </g>\n     <g id=\"text_14\">\n      <!-- 0.15 -->\n      <g transform=\"translate(20.878125 138.094245)scale(0.1 -0.1)\">\n       <use xlink:href=\"#DejaVuSans-48\"/>\n       <use x=\"63.623047\" xlink:href=\"#DejaVuSans-46\"/>\n       <use x=\"95.410156\" xlink:href=\"#DejaVuSans-49\"/>\n       <use x=\"159.033203\" xlink:href=\"#DejaVuSans-53\"/>\n      </g>\n     </g>\n    </g>\n    <g id=\"ytick_5\">\n     <g id=\"line2d_14\">\n      <g>\n       <use style=\"stroke:#000000;stroke-width:0.8;\" x=\"50.14375\" xlink:href=\"#m7785eac515\" y=\"100.092472\"/>\n      </g>\n     </g>\n     <g id=\"text_15\">\n      <!-- 0.20 -->\n      <g transform=\"translate(20.878125 103.89169)scale(0.1 -0.1)\">\n       <use xlink:href=\"#DejaVuSans-48\"/>\n       <use x=\"63.623047\" xlink:href=\"#DejaVuSans-46\"/>\n       <use x=\"95.410156\" xlink:href=\"#DejaVuSans-50\"/>\n       <use x=\"159.033203\" xlink:href=\"#DejaVuSans-48\"/>\n      </g>\n     </g>\n    </g>\n    <g id=\"ytick_6\">\n     <g id=\"line2d_15\">\n      <g>\n       <use style=\"stroke:#000000;stroke-width:0.8;\" x=\"50.14375\" xlink:href=\"#m7785eac515\" y=\"65.889917\"/>\n      </g>\n     </g>\n     <g id=\"text_16\">\n      <!-- 0.25 -->\n      <g transform=\"translate(20.878125 69.689135)scale(0.1 -0.1)\">\n       <use xlink:href=\"#DejaVuSans-48\"/>\n       <use x=\"63.623047\" xlink:href=\"#DejaVuSans-46\"/>\n       <use x=\"95.410156\" xlink:href=\"#DejaVuSans-50\"/>\n       <use x=\"159.033203\" xlink:href=\"#DejaVuSans-53\"/>\n      </g>\n     </g>\n    </g>\n    <g id=\"ytick_7\">\n     <g id=\"line2d_16\">\n      <g>\n       <use style=\"stroke:#000000;stroke-width:0.8;\" x=\"50.14375\" xlink:href=\"#m7785eac515\" y=\"31.687362\"/>\n      </g>\n     </g>\n     <g id=\"text_17\">\n      <!-- 0.30 -->\n      <g transform=\"translate(20.878125 35.48658)scale(0.1 -0.1)\">\n       <defs>\n        <path d=\"M 40.578125 39.3125 \nQ 47.65625 37.796875 51.625 33 \nQ 55.609375 28.21875 55.609375 21.1875 \nQ 55.609375 10.40625 48.1875 4.484375 \nQ 40.765625 -1.421875 27.09375 -1.421875 \nQ 22.515625 -1.421875 17.65625 -0.515625 \nQ 12.796875 0.390625 7.625 2.203125 \nL 7.625 11.71875 \nQ 11.71875 9.328125 16.59375 8.109375 \nQ 21.484375 6.890625 26.8125 6.890625 \nQ 36.078125 6.890625 40.9375 10.546875 \nQ 45.796875 14.203125 45.796875 21.1875 \nQ 45.796875 27.640625 41.28125 31.265625 \nQ 36.765625 34.90625 28.71875 34.90625 \nL 20.21875 34.90625 \nL 20.21875 43.015625 \nL 29.109375 43.015625 \nQ 36.375 43.015625 40.234375 45.921875 \nQ 44.09375 48.828125 44.09375 54.296875 \nQ 44.09375 59.90625 40.109375 62.90625 \nQ 36.140625 65.921875 28.71875 65.921875 \nQ 24.65625 65.921875 20.015625 65.03125 \nQ 15.375 64.15625 9.8125 62.3125 \nL 9.8125 71.09375 \nQ 15.4375 72.65625 20.34375 73.4375 \nQ 25.25 74.21875 29.59375 74.21875 \nQ 40.828125 74.21875 47.359375 69.109375 \nQ 53.90625 64.015625 53.90625 55.328125 \nQ 53.90625 49.265625 50.4375 45.09375 \nQ 46.96875 40.921875 40.578125 39.3125 \nz\n\" id=\"DejaVuSans-51\"/>\n       </defs>\n       <use xlink:href=\"#DejaVuSans-48\"/>\n       <use x=\"63.623047\" xlink:href=\"#DejaVuSans-46\"/>\n       <use x=\"95.410156\" xlink:href=\"#DejaVuSans-51\"/>\n       <use x=\"159.033203\" xlink:href=\"#DejaVuSans-48\"/>\n      </g>\n     </g>\n    </g>\n    <g id=\"text_18\">\n     <!-- MSE -->\n     <g transform=\"translate(14.798438 141.685781)rotate(-90)scale(0.1 -0.1)\">\n      <defs>\n       <path d=\"M 9.8125 72.90625 \nL 24.515625 72.90625 \nL 43.109375 23.296875 \nL 61.8125 72.90625 \nL 76.515625 72.90625 \nL 76.515625 0 \nL 66.890625 0 \nL 66.890625 64.015625 \nL 48.09375 14.015625 \nL 38.1875 14.015625 \nL 19.390625 64.015625 \nL 19.390625 0 \nL 9.8125 0 \nz\n\" id=\"DejaVuSans-77\"/>\n       <path d=\"M 53.515625 70.515625 \nL 53.515625 60.890625 \nQ 47.90625 63.578125 42.921875 64.890625 \nQ 37.9375 66.21875 33.296875 66.21875 \nQ 25.25 66.21875 20.875 63.09375 \nQ 16.5 59.96875 16.5 54.203125 \nQ 16.5 49.359375 19.40625 46.890625 \nQ 22.3125 44.4375 30.421875 42.921875 \nL 36.375 41.703125 \nQ 47.40625 39.59375 52.65625 34.296875 \nQ 57.90625 29 57.90625 20.125 \nQ 57.90625 9.515625 50.796875 4.046875 \nQ 43.703125 -1.421875 29.984375 -1.421875 \nQ 24.8125 -1.421875 18.96875 -0.25 \nQ 13.140625 0.921875 6.890625 3.21875 \nL 6.890625 13.375 \nQ 12.890625 10.015625 18.65625 8.296875 \nQ 24.421875 6.59375 29.984375 6.59375 \nQ 38.421875 6.59375 43.015625 9.90625 \nQ 47.609375 13.234375 47.609375 19.390625 \nQ 47.609375 24.75 44.3125 27.78125 \nQ 41.015625 30.8125 33.5 32.328125 \nL 27.484375 33.5 \nQ 16.453125 35.6875 11.515625 40.375 \nQ 6.59375 45.0625 6.59375 53.421875 \nQ 6.59375 63.09375 13.40625 68.65625 \nQ 20.21875 74.21875 32.171875 74.21875 \nQ 37.3125 74.21875 42.625 73.28125 \nQ 47.953125 72.359375 53.515625 70.515625 \nz\n\" id=\"DejaVuSans-83\"/>\n       <path d=\"M 9.8125 72.90625 \nL 55.90625 72.90625 \nL 55.90625 64.59375 \nL 19.671875 64.59375 \nL 19.671875 43.015625 \nL 54.390625 43.015625 \nL 54.390625 34.71875 \nL 19.671875 34.71875 \nL 19.671875 8.296875 \nL 56.78125 8.296875 \nL 56.78125 0 \nL 9.8125 0 \nz\n\" id=\"DejaVuSans-69\"/>\n      </defs>\n      <use xlink:href=\"#DejaVuSans-77\"/>\n      <use x=\"86.279297\" xlink:href=\"#DejaVuSans-83\"/>\n      <use x=\"149.755859\" xlink:href=\"#DejaVuSans-69\"/>\n     </g>\n    </g>\n   </g>\n   <g id=\"line2d_17\">\n    <path clip-path=\"url(#peadb8b100c)\" d=\"M 65.361932 32.201761 \nL 66.891397 98.906496 \nL 68.420863 139.361418 \nL 69.950328 155.688514 \nL 71.479794 161.64623 \nL 73.009259 170.318761 \nL 76.06819 191.496239 \nL 77.597656 196.82199 \nL 80.656587 204.045645 \nL 82.186052 204.767713 \nL 83.715518 206.553189 \nL 85.244983 207.719597 \nL 86.774449 207.965385 \nL 88.303914 209.630546 \nL 89.83338 209.441925 \nL 91.362845 211.202698 \nL 94.421776 212.139969 \nL 95.951242 213.053092 \nL 100.539639 214.62464 \nL 102.069104 215.119856 \nL 103.59857 215.268862 \nL 105.128035 216.327154 \nL 108.186966 217.606612 \nL 109.716432 217.461894 \nL 114.304828 219.119372 \nL 115.834294 219.73716 \nL 117.363759 219.44643 \nL 118.893225 220.14097 \nL 120.42269 220.662613 \nL 121.952156 220.445389 \nL 123.481621 220.824207 \nL 125.011087 220.906218 \nL 126.540552 221.318949 \nL 128.070018 221.586471 \nL 129.599483 221.977437 \nL 131.128949 221.87811 \nL 132.658414 222.149149 \nL 134.18788 222.002042 \nL 135.717345 222.633893 \nL 137.246811 221.977929 \nL 138.776276 222.764094 \nL 140.305742 222.529252 \nL 141.835207 222.938119 \nL 143.364673 222.935875 \nL 147.953069 223.696761 \nL 149.482535 223.358148 \nL 151.012 223.348451 \nL 152.541466 223.56155 \nL 154.070931 224.005555 \nL 155.600397 223.911394 \nL 157.129862 224.131498 \nL 158.659328 223.771965 \nL 160.188793 224.217936 \nL 161.718259 224.486761 \nL 163.247724 224.375657 \nL 164.77719 224.44299 \nL 166.306655 224.937183 \nL 167.836121 224.643533 \nL 169.365586 224.878998 \nL 170.895052 224.918336 \nL 172.424517 225.224556 \nL 173.953983 225.299532 \nL 175.483448 225.149935 \nL 177.012914 225.297084 \nL 178.54238 225.214681 \nL 180.071845 225.611064 \nL 181.601311 225.200272 \nL 183.130776 225.441079 \nL 184.660242 226.053517 \nL 186.189707 226.079117 \nL 187.719173 225.848009 \nL 189.248638 226.334459 \nL 190.778104 225.982883 \nL 195.3665 226.452893 \nL 196.895966 226.515772 \nL 198.425431 226.841592 \nL 199.954897 226.819056 \nL 201.484362 226.672025 \nL 203.013828 226.873676 \nL 204.543293 226.852768 \nL 206.072759 227.218333 \nL 209.13169 227.210661 \nL 210.661155 227.527234 \nL 212.190621 227.315617 \nL 215.249552 227.524899 \nL 216.779017 227.642059 \nL 219.837948 227.549279 \nL 221.367414 227.816207 \nL 222.896879 227.856467 \nL 224.426345 227.768845 \nL 225.95581 227.323894 \nL 227.485276 227.911505 \nL 230.544207 227.86044 \nL 232.073672 227.975078 \nL 233.603138 227.96206 \nL 235.132603 228.149682 \nL 236.662069 228.192142 \nL 238.191534 228.406669 \nL 239.721 228.034242 \nL 241.250465 228.428416 \nL 242.779931 228.29207 \nL 244.309396 228.454913 \nL 245.838862 228.30788 \nL 250.427258 228.752435 \nL 251.956724 228.669255 \nL 253.486189 228.250704 \nL 255.015655 228.747534 \nL 256.54512 228.555043 \nL 258.074586 228.663713 \nL 259.604052 228.519851 \nL 261.133517 228.709666 \nL 262.662983 229.099262 \nL 264.192448 228.74966 \nL 265.721914 228.926491 \nL 267.251379 228.75917 \nL 271.839776 228.921893 \nL 273.369241 229.0724 \nL 274.898707 229.017046 \nL 276.428172 228.79191 \nL 277.957638 229.012875 \nL 279.487103 228.852397 \nL 281.016569 229.144863 \nL 282.546034 229.241366 \nL 284.0755 229.152014 \nL 285.604965 229.185417 \nL 287.134431 229.440271 \nL 288.663896 228.954832 \nL 290.193362 228.903204 \nL 291.722827 229.220256 \nL 293.252293 229.254557 \nL 294.781758 229.124936 \nL 296.311224 229.276035 \nL 297.840689 228.899831 \nL 299.370155 229.516636 \nL 300.89962 229.218911 \nL 303.958551 229.115359 \nL 307.017482 229.264596 \nL 310.076413 229.491652 \nL 313.135344 229.288411 \nL 316.194275 229.407057 \nL 317.723741 229.295128 \nL 322.312137 229.208781 \nL 323.841603 229.552291 \nL 325.371068 229.233648 \nL 326.900534 229.643544 \nL 328.429999 229.470147 \nL 329.959465 229.651684 \nL 331.48893 229.456211 \nL 333.018396 229.1182 \nL 334.547861 229.256039 \nL 336.077327 229.527995 \nL 337.606792 229.497576 \nL 339.136258 229.581506 \nL 345.25412 229.467282 \nL 346.783586 229.64482 \nL 348.313051 229.268169 \nL 349.842517 229.442276 \nL 351.371982 229.500997 \nL 352.901448 229.699332 \nL 355.960379 229.613654 \nL 357.489844 229.774419 \nL 359.01931 229.497409 \nL 362.078241 229.563873 \nL 363.607706 229.874489 \nL 366.666637 229.617985 \nL 368.196103 229.769211 \nL 369.725568 229.612295 \nL 369.725568 229.612295 \n\" style=\"fill:none;stroke:#1f77b4;stroke-linecap:square;stroke-width:1.5;\"/>\n   </g>\n   <g id=\"patch_3\">\n    <path d=\"M 50.14375 239.758125 \nL 50.14375 22.318125 \n\" style=\"fill:none;stroke:#000000;stroke-linecap:square;stroke-linejoin:miter;stroke-width:0.8;\"/>\n   </g>\n   <g id=\"patch_4\">\n    <path d=\"M 384.94375 239.758125 \nL 384.94375 22.318125 \n\" style=\"fill:none;stroke:#000000;stroke-linecap:square;stroke-linejoin:miter;stroke-width:0.8;\"/>\n   </g>\n   <g id=\"patch_5\">\n    <path d=\"M 50.14375 239.758125 \nL 384.94375 239.758125 \n\" style=\"fill:none;stroke:#000000;stroke-linecap:square;stroke-linejoin:miter;stroke-width:0.8;\"/>\n   </g>\n   <g id=\"patch_6\">\n    <path d=\"M 50.14375 22.318125 \nL 384.94375 22.318125 \n\" style=\"fill:none;stroke:#000000;stroke-linecap:square;stroke-linejoin:miter;stroke-width:0.8;\"/>\n   </g>\n   <g id=\"text_19\">\n    <!-- MSE v.s. Epochs -->\n    <g transform=\"translate(169.428438 16.318125)scale(0.12 -0.12)\">\n     <defs>\n      <path id=\"DejaVuSans-32\"/>\n      <path d=\"M 2.984375 54.6875 \nL 12.5 54.6875 \nL 29.59375 8.796875 \nL 46.6875 54.6875 \nL 56.203125 54.6875 \nL 35.6875 0 \nL 23.484375 0 \nz\n\" id=\"DejaVuSans-118\"/>\n     </defs>\n     <use xlink:href=\"#DejaVuSans-77\"/>\n     <use x=\"86.279297\" xlink:href=\"#DejaVuSans-83\"/>\n     <use x=\"149.755859\" xlink:href=\"#DejaVuSans-69\"/>\n     <use x=\"212.939453\" xlink:href=\"#DejaVuSans-32\"/>\n     <use x=\"244.726562\" xlink:href=\"#DejaVuSans-118\"/>\n     <use x=\"296.15625\" xlink:href=\"#DejaVuSans-46\"/>\n     <use x=\"327.943359\" xlink:href=\"#DejaVuSans-115\"/>\n     <use x=\"380.042969\" xlink:href=\"#DejaVuSans-46\"/>\n     <use x=\"411.830078\" xlink:href=\"#DejaVuSans-32\"/>\n     <use x=\"443.617188\" xlink:href=\"#DejaVuSans-69\"/>\n     <use x=\"506.800781\" xlink:href=\"#DejaVuSans-112\"/>\n     <use x=\"570.277344\" xlink:href=\"#DejaVuSans-111\"/>\n     <use x=\"631.458984\" xlink:href=\"#DejaVuSans-99\"/>\n     <use x=\"686.439453\" xlink:href=\"#DejaVuSans-104\"/>\n     <use x=\"749.818359\" xlink:href=\"#DejaVuSans-115\"/>\n    </g>\n   </g>\n  </g>\n </g>\n <defs>\n  <clipPath id=\"peadb8b100c\">\n   <rect height=\"217.44\" width=\"334.8\" x=\"50.14375\" y=\"22.318125\"/>\n  </clipPath>\n </defs>\n</svg>\n",
      "image/png": "[encoded data removed]"
     },
     "metadata": {
      "needs_background": "light"
     }
    }
   ],
   "source": [
    "plt.plot(history.history['loss'])\n",
    "plt.ylabel('MSE')\n",
    "plt.xlabel('epochs')\n",
    "plt.title('MSE v.s. Epochs')"
   ]
  },
  {
   "source": [
    "# model parameters setting to predict 1 price\n",
    "split = 0.85 # train_data percent\n",
    "\n",
    "normalise= True  # normalize 3 features\n",
    "batch_size=64;\n",
    "input_dim=2  # ['price','sentiment']\n",
    "input_timesteps=21 # the window length of a training data set\n",
    "neurons=10  # number of neurons in one LSTM layer\n",
    "epochs=50\n",
    "prediction_len=1  # predict one day's price\n",
    "dense_output=1  # output size of the last dense layer\n",
    "drop_out=0.1  # dropout rate"
   ],
   "cell_type": "code",
   "metadata": {},
   "execution_count": null,
   "outputs": []
  },
  {
   "cell_type": "code",
   "execution_count": 40,
   "metadata": {},
   "outputs": [
    {
     "output_type": "stream",
     "name": "stdout",
     "text": [
      "Epoch 1/50\n",
      "23/23 [==============================] - 4s 18ms/step - loss: 0.3322\n",
      "Epoch 2/50\n",
      "23/23 [==============================] - 0s 14ms/step - loss: 0.1387\n",
      "Epoch 3/50\n",
      "23/23 [==============================] - 0s 15ms/step - loss: 0.1351\n",
      "Epoch 4/50\n",
      "23/23 [==============================] - 0s 14ms/step - loss: 0.1297\n",
      "Epoch 5/50\n",
      "23/23 [==============================] - 0s 14ms/step - loss: 0.1153\n",
      "Epoch 6/50\n",
      "23/23 [==============================] - 0s 14ms/step - loss: 0.1018\n",
      "Epoch 7/50\n",
      "23/23 [==============================] - 0s 14ms/step - loss: 0.1047\n",
      "Epoch 8/50\n",
      "23/23 [==============================] - 0s 20ms/step - loss: 0.0945\n",
      "Epoch 9/50\n",
      "23/23 [==============================] - 0s 19ms/step - loss: 0.0956\n",
      "Epoch 10/50\n",
      "23/23 [==============================] - 0s 14ms/step - loss: 0.0926\n",
      "Epoch 11/50\n",
      "23/23 [==============================] - 0s 14ms/step - loss: 0.0907\n",
      "Epoch 12/50\n",
      "23/23 [==============================] - 0s 18ms/step - loss: 0.0854\n",
      "Epoch 13/50\n",
      "23/23 [==============================] - 0s 16ms/step - loss: 0.0856\n",
      "Epoch 14/50\n",
      "23/23 [==============================] - 0s 18ms/step - loss: 0.0832\n",
      "Epoch 15/50\n",
      "23/23 [==============================] - 0s 14ms/step - loss: 0.0811\n",
      "Epoch 16/50\n",
      "23/23 [==============================] - 0s 14ms/step - loss: 0.0837\n",
      "Epoch 17/50\n",
      "23/23 [==============================] - 0s 17ms/step - loss: 0.0853\n",
      "Epoch 18/50\n",
      "23/23 [==============================] - 0s 17ms/step - loss: 0.0815\n",
      "Epoch 19/50\n",
      "23/23 [==============================] - 0s 15ms/step - loss: 0.0866\n",
      "Epoch 20/50\n",
      "23/23 [==============================] - 0s 15ms/step - loss: 0.0837\n",
      "Epoch 21/50\n",
      "23/23 [==============================] - 0s 15ms/step - loss: 0.0799\n",
      "Epoch 22/50\n",
      "23/23 [==============================] - 0s 19ms/step - loss: 0.0778\n",
      "Epoch 23/50\n",
      "23/23 [==============================] - 0s 15ms/step - loss: 0.0810\n",
      "Epoch 24/50\n",
      "23/23 [==============================] - 0s 15ms/step - loss: 0.0816\n",
      "Epoch 25/50\n",
      "23/23 [==============================] - 0s 18ms/step - loss: 0.0747\n",
      "Epoch 26/50\n",
      "23/23 [==============================] - 0s 18ms/step - loss: 0.0784\n",
      "Epoch 27/50\n",
      "23/23 [==============================] - 0s 15ms/step - loss: 0.0768\n",
      "Epoch 28/50\n",
      "23/23 [==============================] - 0s 14ms/step - loss: 0.0771\n",
      "Epoch 29/50\n",
      "23/23 [==============================] - 0s 14ms/step - loss: 0.0756\n",
      "Epoch 30/50\n",
      "23/23 [==============================] - 0s 14ms/step - loss: 0.0742\n",
      "Epoch 31/50\n",
      "23/23 [==============================] - 0s 16ms/step - loss: 0.0740\n",
      "Epoch 32/50\n",
      "23/23 [==============================] - 0s 14ms/step - loss: 0.0683\n",
      "Epoch 33/50\n",
      "23/23 [==============================] - 0s 14ms/step - loss: 0.0689\n",
      "Epoch 34/50\n",
      "23/23 [==============================] - 0s 17ms/step - loss: 0.0701\n",
      "Epoch 35/50\n",
      "23/23 [==============================] - 0s 15ms/step - loss: 0.0739\n",
      "Epoch 36/50\n",
      "23/23 [==============================] - 0s 15ms/step - loss: 0.0705\n",
      "Epoch 37/50\n",
      "23/23 [==============================] - 0s 14ms/step - loss: 0.0721\n",
      "Epoch 38/50\n",
      "23/23 [==============================] - 0s 14ms/step - loss: 0.0695\n",
      "Epoch 39/50\n",
      "23/23 [==============================] - 0s 15ms/step - loss: 0.0665\n",
      "Epoch 40/50\n",
      "23/23 [==============================] - 0s 17ms/step - loss: 0.0683\n",
      "Epoch 41/50\n",
      "23/23 [==============================] - 0s 14ms/step - loss: 0.0681\n",
      "Epoch 42/50\n",
      "23/23 [==============================] - 0s 15ms/step - loss: 0.0620\n",
      "Epoch 43/50\n",
      "23/23 [==============================] - 0s 14ms/step - loss: 0.0692\n",
      "Epoch 44/50\n",
      "23/23 [==============================] - 0s 14ms/step - loss: 0.0615\n",
      "Epoch 45/50\n",
      "23/23 [==============================] - 0s 15ms/step - loss: 0.0618\n",
      "Epoch 46/50\n",
      "23/23 [==============================] - 0s 16ms/step - loss: 0.0599\n",
      "Epoch 47/50\n",
      "23/23 [==============================] - 0s 17ms/step - loss: 0.0622\n",
      "Epoch 48/50\n",
      "23/23 [==============================] - 0s 14ms/step - loss: 0.0636\n",
      "Epoch 49/50\n",
      "23/23 [==============================] - 0s 14ms/step - loss: 0.0617\n",
      "Epoch 50/50\n",
      "23/23 [==============================] - 0s 17ms/step - loss: 0.0600\n"
     ]
    },
    {
     "output_type": "execute_result",
     "data": {
      "text/plain": [
       "<tensorflow.python.keras.callbacks.History at 0x7fee347db7f0>"
      ]
     },
     "metadata": {},
     "execution_count": 40
    }
   ],
   "source": [
    "# Build LSTM MODEL to predict 1 price\n",
    "model = Sequential()\n",
    "model.add(LSTM(neurons, input_shape=(input_timesteps, input_dim), return_sequences = True))\n",
    "model.add(Dropout(drop_out))\n",
    "model.add(LSTM(neurons,return_sequences = True))\n",
    "model.add(LSTM(neurons,return_sequences =False))\n",
    "model.add(Dropout(drop_out))\n",
    "model.add(Dense(dense_output, activation='linear'))\n",
    "# Compile model\n",
    "model.compile(loss='mean_squared_error',\n",
    "                optimizer='adam')\n",
    "# Fit the model\n",
    "model.fit(x_train,y_train,epochs=epochs,batch_size=batch_size)"
   ]
  },
  {
   "cell_type": "code",
   "execution_count": 17,
   "metadata": {},
   "outputs": [
    {
     "output_type": "execute_result",
     "data": {
      "text/plain": [
       "'\\nfor x in x_test:\\n      temp=model.predict(curr_frame[newaxis,:,:])[0]\\n      predicted.append(temp)\\n      curr_frame = curr_frame[1:]\\n      curr_frame = np.insert(curr_frame, [window_size-2], predicted[-1], axis=0)\\n    prediction_seqs.append(predicted)\\n'"
      ]
     },
     "metadata": {},
     "execution_count": 17
    }
   ],
   "source": [
    "#multi sequence predict\n",
    "prediction_seqs = model.predict(x_test) # prediction data\n",
    "# !! parallelizable !!\n",
    "\n",
    "'''\n",
    "for x in x_test:\n",
    "      temp=model.predict(curr_frame[newaxis,:,:])[0]\n",
    "      predicted.append(temp)\n",
    "      curr_frame = curr_frame[1:]\n",
    "      curr_frame = np.insert(curr_frame, [window_size-2], predicted[-1], axis=0)\n",
    "    prediction_seqs.append(predicted)\n",
    "'''"
   ]
  },
  {
   "cell_type": "code",
   "execution_count": 18,
   "metadata": {},
   "outputs": [
    {
     "output_type": "execute_result",
     "data": {
      "text/plain": [
       "0.08349748545013164"
      ]
     },
     "metadata": {},
     "execution_count": 18
    }
   ],
   "source": [
    "np.sqrt(mean_squared_error(prediction_seqs, y_test))"
   ]
  },
  {
   "cell_type": "code",
   "execution_count": 26,
   "metadata": {},
   "outputs": [
    {
     "output_type": "execute_result",
     "data": {
      "text/plain": [
       "<matplotlib.legend.Legend at 0x7fb07a3628b0>"
      ]
     },
     "metadata": {},
     "execution_count": 26
    },
    {
     "output_type": "display_data",
     "data": {
      "text/plain": "<Figure size 432x288 with 1 Axes>",
      "image/svg+xml": "<?xml version=\"1.0\" encoding=\"utf-8\" standalone=\"no\"?>\n<!DOCTYPE svg PUBLIC \"-//W3C//DTD SVG 1.1//EN\"\n  \"http://www.w3.org/Graphics/SVG/1.1/DTD/svg11.dtd\">\n<!-- Created with matplotlib (https://matplotlib.org/) -->\n<svg height=\"277.314375pt\" version=\"1.1\" viewBox=\"0 0 392.14375 277.314375\" width=\"392.14375pt\" xmlns=\"http://www.w3.org/2000/svg\" xmlns:xlink=\"http://www.w3.org/1999/xlink\">\n <metadata>\n  <rdf:RDF xmlns:cc=\"http://creativecommons.org/ns#\" xmlns:dc=\"http://purl.org/dc/elements/1.1/\" xmlns:rdf=\"http://www.w3.org/1999/02/22-rdf-syntax-ns#\">\n   <cc:Work>\n    <dc:type rdf:resource=\"http://purl.org/dc/dcmitype/StillImage\"/>\n    <dc:date>2021-05-09T00:44:43.265741</dc:date>\n    <dc:format>image/svg+xml</dc:format>\n    <dc:creator>\n     <cc:Agent>\n      <dc:title>Matplotlib v3.3.3, https://matplotlib.org/</dc:title>\n     </cc:Agent>\n    </dc:creator>\n   </cc:Work>\n  </rdf:RDF>\n </metadata>\n <defs>\n  <style type=\"text/css\">*{stroke-linecap:butt;stroke-linejoin:round;}</style>\n </defs>\n <g id=\"figure_1\">\n  <g id=\"patch_1\">\n   <path d=\"M 0 277.314375 \nL 392.14375 277.314375 \nL 392.14375 0 \nL 0 0 \nz\n\" style=\"fill:none;\"/>\n  </g>\n  <g id=\"axes_1\">\n   <g id=\"patch_2\">\n    <path d=\"M 50.14375 239.758125 \nL 384.94375 239.758125 \nL 384.94375 22.318125 \nL 50.14375 22.318125 \nz\n\" style=\"fill:#ffffff;\"/>\n   </g>\n   <g id=\"matplotlib.axis_1\">\n    <g id=\"xtick_1\">\n     <g id=\"line2d_1\">\n      <defs>\n       <path d=\"M 0 0 \nL 0 3.5 \n\" id=\"m25d764b997\" style=\"stroke:#000000;stroke-width:0.8;\"/>\n      </defs>\n      <g>\n       <use style=\"stroke:#000000;stroke-width:0.8;\" x=\"65.361932\" xlink:href=\"#m25d764b997\" y=\"239.758125\"/>\n      </g>\n     </g>\n     <g id=\"text_1\">\n      <!-- 0 -->\n      <g transform=\"translate(62.180682 254.356562)scale(0.1 -0.1)\">\n       <defs>\n        <path d=\"M 31.78125 66.40625 \nQ 24.171875 66.40625 20.328125 58.90625 \nQ 16.5 51.421875 16.5 36.375 \nQ 16.5 21.390625 20.328125 13.890625 \nQ 24.171875 6.390625 31.78125 6.390625 \nQ 39.453125 6.390625 43.28125 13.890625 \nQ 47.125 21.390625 47.125 36.375 \nQ 47.125 51.421875 43.28125 58.90625 \nQ 39.453125 66.40625 31.78125 66.40625 \nz\nM 31.78125 74.21875 \nQ 44.046875 74.21875 50.515625 64.515625 \nQ 56.984375 54.828125 56.984375 36.375 \nQ 56.984375 17.96875 50.515625 8.265625 \nQ 44.046875 -1.421875 31.78125 -1.421875 \nQ 19.53125 -1.421875 13.0625 8.265625 \nQ 6.59375 17.96875 6.59375 36.375 \nQ 6.59375 54.828125 13.0625 64.515625 \nQ 19.53125 74.21875 31.78125 74.21875 \nz\n\" id=\"DejaVuSans-48\"/>\n       </defs>\n       <use xlink:href=\"#DejaVuSans-48\"/>\n      </g>\n     </g>\n    </g>\n    <g id=\"xtick_2\">\n     <g id=\"line2d_2\">\n      <g>\n       <use style=\"stroke:#000000;stroke-width:0.8;\" x=\"103.407386\" xlink:href=\"#m25d764b997\" y=\"239.758125\"/>\n      </g>\n     </g>\n     <g id=\"text_2\">\n      <!-- 1 -->\n      <g transform=\"translate(100.226136 254.356562)scale(0.1 -0.1)\">\n       <defs>\n        <path d=\"M 12.40625 8.296875 \nL 28.515625 8.296875 \nL 28.515625 63.921875 \nL 10.984375 60.40625 \nL 10.984375 69.390625 \nL 28.421875 72.90625 \nL 38.28125 72.90625 \nL 38.28125 8.296875 \nL 54.390625 8.296875 \nL 54.390625 0 \nL 12.40625 0 \nz\n\" id=\"DejaVuSans-49\"/>\n       </defs>\n       <use xlink:href=\"#DejaVuSans-49\"/>\n      </g>\n     </g>\n    </g>\n    <g id=\"xtick_3\">\n     <g id=\"line2d_3\">\n      <g>\n       <use style=\"stroke:#000000;stroke-width:0.8;\" x=\"141.452841\" xlink:href=\"#m25d764b997\" y=\"239.758125\"/>\n      </g>\n     </g>\n     <g id=\"text_3\">\n      <!-- 2 -->\n      <g transform=\"translate(138.271591 254.356562)scale(0.1 -0.1)\">\n       <defs>\n        <path d=\"M 19.1875 8.296875 \nL 53.609375 8.296875 \nL 53.609375 0 \nL 7.328125 0 \nL 7.328125 8.296875 \nQ 12.9375 14.109375 22.625 23.890625 \nQ 32.328125 33.6875 34.8125 36.53125 \nQ 39.546875 41.84375 41.421875 45.53125 \nQ 43.3125 49.21875 43.3125 52.78125 \nQ 43.3125 58.59375 39.234375 62.25 \nQ 35.15625 65.921875 28.609375 65.921875 \nQ 23.96875 65.921875 18.8125 64.3125 \nQ 13.671875 62.703125 7.8125 59.421875 \nL 7.8125 69.390625 \nQ 13.765625 71.78125 18.9375 73 \nQ 24.125 74.21875 28.421875 74.21875 \nQ 39.75 74.21875 46.484375 68.546875 \nQ 53.21875 62.890625 53.21875 53.421875 \nQ 53.21875 48.921875 51.53125 44.890625 \nQ 49.859375 40.875 45.40625 35.40625 \nQ 44.1875 33.984375 37.640625 27.21875 \nQ 31.109375 20.453125 19.1875 8.296875 \nz\n\" id=\"DejaVuSans-50\"/>\n       </defs>\n       <use xlink:href=\"#DejaVuSans-50\"/>\n      </g>\n     </g>\n    </g>\n    <g id=\"xtick_4\">\n     <g id=\"line2d_4\">\n      <g>\n       <use style=\"stroke:#000000;stroke-width:0.8;\" x=\"179.498295\" xlink:href=\"#m25d764b997\" y=\"239.758125\"/>\n      </g>\n     </g>\n     <g id=\"text_4\">\n      <!-- 3 -->\n      <g transform=\"translate(176.317045 254.356562)scale(0.1 -0.1)\">\n       <defs>\n        <path d=\"M 40.578125 39.3125 \nQ 47.65625 37.796875 51.625 33 \nQ 55.609375 28.21875 55.609375 21.1875 \nQ 55.609375 10.40625 48.1875 4.484375 \nQ 40.765625 -1.421875 27.09375 -1.421875 \nQ 22.515625 -1.421875 17.65625 -0.515625 \nQ 12.796875 0.390625 7.625 2.203125 \nL 7.625 11.71875 \nQ 11.71875 9.328125 16.59375 8.109375 \nQ 21.484375 6.890625 26.8125 6.890625 \nQ 36.078125 6.890625 40.9375 10.546875 \nQ 45.796875 14.203125 45.796875 21.1875 \nQ 45.796875 27.640625 41.28125 31.265625 \nQ 36.765625 34.90625 28.71875 34.90625 \nL 20.21875 34.90625 \nL 20.21875 43.015625 \nL 29.109375 43.015625 \nQ 36.375 43.015625 40.234375 45.921875 \nQ 44.09375 48.828125 44.09375 54.296875 \nQ 44.09375 59.90625 40.109375 62.90625 \nQ 36.140625 65.921875 28.71875 65.921875 \nQ 24.65625 65.921875 20.015625 65.03125 \nQ 15.375 64.15625 9.8125 62.3125 \nL 9.8125 71.09375 \nQ 15.4375 72.65625 20.34375 73.4375 \nQ 25.25 74.21875 29.59375 74.21875 \nQ 40.828125 74.21875 47.359375 69.109375 \nQ 53.90625 64.015625 53.90625 55.328125 \nQ 53.90625 49.265625 50.4375 45.09375 \nQ 46.96875 40.921875 40.578125 39.3125 \nz\n\" id=\"DejaVuSans-51\"/>\n       </defs>\n       <use xlink:href=\"#DejaVuSans-51\"/>\n      </g>\n     </g>\n    </g>\n    <g id=\"xtick_5\">\n     <g id=\"line2d_5\">\n      <g>\n       <use style=\"stroke:#000000;stroke-width:0.8;\" x=\"217.54375\" xlink:href=\"#m25d764b997\" y=\"239.758125\"/>\n      </g>\n     </g>\n     <g id=\"text_5\">\n      <!-- 4 -->\n      <g transform=\"translate(214.3625 254.356562)scale(0.1 -0.1)\">\n       <defs>\n        <path d=\"M 37.796875 64.3125 \nL 12.890625 25.390625 \nL 37.796875 25.390625 \nz\nM 35.203125 72.90625 \nL 47.609375 72.90625 \nL 47.609375 25.390625 \nL 58.015625 25.390625 \nL 58.015625 17.1875 \nL 47.609375 17.1875 \nL 47.609375 0 \nL 37.796875 0 \nL 37.796875 17.1875 \nL 4.890625 17.1875 \nL 4.890625 26.703125 \nz\n\" id=\"DejaVuSans-52\"/>\n       </defs>\n       <use xlink:href=\"#DejaVuSans-52\"/>\n      </g>\n     </g>\n    </g>\n    <g id=\"xtick_6\">\n     <g id=\"line2d_6\">\n      <g>\n       <use style=\"stroke:#000000;stroke-width:0.8;\" x=\"255.589205\" xlink:href=\"#m25d764b997\" y=\"239.758125\"/>\n      </g>\n     </g>\n     <g id=\"text_6\">\n      <!-- 5 -->\n      <g transform=\"translate(252.407955 254.356562)scale(0.1 -0.1)\">\n       <defs>\n        <path d=\"M 10.796875 72.90625 \nL 49.515625 72.90625 \nL 49.515625 64.59375 \nL 19.828125 64.59375 \nL 19.828125 46.734375 \nQ 21.96875 47.46875 24.109375 47.828125 \nQ 26.265625 48.1875 28.421875 48.1875 \nQ 40.625 48.1875 47.75 41.5 \nQ 54.890625 34.8125 54.890625 23.390625 \nQ 54.890625 11.625 47.5625 5.09375 \nQ 40.234375 -1.421875 26.90625 -1.421875 \nQ 22.3125 -1.421875 17.546875 -0.640625 \nQ 12.796875 0.140625 7.71875 1.703125 \nL 7.71875 11.625 \nQ 12.109375 9.234375 16.796875 8.0625 \nQ 21.484375 6.890625 26.703125 6.890625 \nQ 35.15625 6.890625 40.078125 11.328125 \nQ 45.015625 15.765625 45.015625 23.390625 \nQ 45.015625 31 40.078125 35.4375 \nQ 35.15625 39.890625 26.703125 39.890625 \nQ 22.75 39.890625 18.8125 39.015625 \nQ 14.890625 38.140625 10.796875 36.28125 \nz\n\" id=\"DejaVuSans-53\"/>\n       </defs>\n       <use xlink:href=\"#DejaVuSans-53\"/>\n      </g>\n     </g>\n    </g>\n    <g id=\"xtick_7\">\n     <g id=\"line2d_7\">\n      <g>\n       <use style=\"stroke:#000000;stroke-width:0.8;\" x=\"293.634659\" xlink:href=\"#m25d764b997\" y=\"239.758125\"/>\n      </g>\n     </g>\n     <g id=\"text_7\">\n      <!-- 6 -->\n      <g transform=\"translate(290.453409 254.356562)scale(0.1 -0.1)\">\n       <defs>\n        <path d=\"M 33.015625 40.375 \nQ 26.375 40.375 22.484375 35.828125 \nQ 18.609375 31.296875 18.609375 23.390625 \nQ 18.609375 15.53125 22.484375 10.953125 \nQ 26.375 6.390625 33.015625 6.390625 \nQ 39.65625 6.390625 43.53125 10.953125 \nQ 47.40625 15.53125 47.40625 23.390625 \nQ 47.40625 31.296875 43.53125 35.828125 \nQ 39.65625 40.375 33.015625 40.375 \nz\nM 52.59375 71.296875 \nL 52.59375 62.3125 \nQ 48.875 64.0625 45.09375 64.984375 \nQ 41.3125 65.921875 37.59375 65.921875 \nQ 27.828125 65.921875 22.671875 59.328125 \nQ 17.53125 52.734375 16.796875 39.40625 \nQ 19.671875 43.65625 24.015625 45.921875 \nQ 28.375 48.1875 33.59375 48.1875 \nQ 44.578125 48.1875 50.953125 41.515625 \nQ 57.328125 34.859375 57.328125 23.390625 \nQ 57.328125 12.15625 50.6875 5.359375 \nQ 44.046875 -1.421875 33.015625 -1.421875 \nQ 20.359375 -1.421875 13.671875 8.265625 \nQ 6.984375 17.96875 6.984375 36.375 \nQ 6.984375 53.65625 15.1875 63.9375 \nQ 23.390625 74.21875 37.203125 74.21875 \nQ 40.921875 74.21875 44.703125 73.484375 \nQ 48.484375 72.75 52.59375 71.296875 \nz\n\" id=\"DejaVuSans-54\"/>\n       </defs>\n       <use xlink:href=\"#DejaVuSans-54\"/>\n      </g>\n     </g>\n    </g>\n    <g id=\"xtick_8\">\n     <g id=\"line2d_8\">\n      <g>\n       <use style=\"stroke:#000000;stroke-width:0.8;\" x=\"331.680114\" xlink:href=\"#m25d764b997\" y=\"239.758125\"/>\n      </g>\n     </g>\n     <g id=\"text_8\">\n      <!-- 7 -->\n      <g transform=\"translate(328.498864 254.356562)scale(0.1 -0.1)\">\n       <defs>\n        <path d=\"M 8.203125 72.90625 \nL 55.078125 72.90625 \nL 55.078125 68.703125 \nL 28.609375 0 \nL 18.3125 0 \nL 43.21875 64.59375 \nL 8.203125 64.59375 \nz\n\" id=\"DejaVuSans-55\"/>\n       </defs>\n       <use xlink:href=\"#DejaVuSans-55\"/>\n      </g>\n     </g>\n    </g>\n    <g id=\"xtick_9\">\n     <g id=\"line2d_9\">\n      <g>\n       <use style=\"stroke:#000000;stroke-width:0.8;\" x=\"369.725568\" xlink:href=\"#m25d764b997\" y=\"239.758125\"/>\n      </g>\n     </g>\n     <g id=\"text_9\">\n      <!-- 8 -->\n      <g transform=\"translate(366.544318 254.356562)scale(0.1 -0.1)\">\n       <defs>\n        <path d=\"M 31.78125 34.625 \nQ 24.75 34.625 20.71875 30.859375 \nQ 16.703125 27.09375 16.703125 20.515625 \nQ 16.703125 13.921875 20.71875 10.15625 \nQ 24.75 6.390625 31.78125 6.390625 \nQ 38.8125 6.390625 42.859375 10.171875 \nQ 46.921875 13.96875 46.921875 20.515625 \nQ 46.921875 27.09375 42.890625 30.859375 \nQ 38.875 34.625 31.78125 34.625 \nz\nM 21.921875 38.8125 \nQ 15.578125 40.375 12.03125 44.71875 \nQ 8.5 49.078125 8.5 55.328125 \nQ 8.5 64.0625 14.71875 69.140625 \nQ 20.953125 74.21875 31.78125 74.21875 \nQ 42.671875 74.21875 48.875 69.140625 \nQ 55.078125 64.0625 55.078125 55.328125 \nQ 55.078125 49.078125 51.53125 44.71875 \nQ 48 40.375 41.703125 38.8125 \nQ 48.828125 37.15625 52.796875 32.3125 \nQ 56.78125 27.484375 56.78125 20.515625 \nQ 56.78125 9.90625 50.3125 4.234375 \nQ 43.84375 -1.421875 31.78125 -1.421875 \nQ 19.734375 -1.421875 13.25 4.234375 \nQ 6.78125 9.90625 6.78125 20.515625 \nQ 6.78125 27.484375 10.78125 32.3125 \nQ 14.796875 37.15625 21.921875 38.8125 \nz\nM 18.3125 54.390625 \nQ 18.3125 48.734375 21.84375 45.5625 \nQ 25.390625 42.390625 31.78125 42.390625 \nQ 38.140625 42.390625 41.71875 45.5625 \nQ 45.3125 48.734375 45.3125 54.390625 \nQ 45.3125 60.0625 41.71875 63.234375 \nQ 38.140625 66.40625 31.78125 66.40625 \nQ 25.390625 66.40625 21.84375 63.234375 \nQ 18.3125 60.0625 18.3125 54.390625 \nz\n\" id=\"DejaVuSans-56\"/>\n       </defs>\n       <use xlink:href=\"#DejaVuSans-56\"/>\n      </g>\n     </g>\n    </g>\n    <g id=\"text_10\">\n     <!-- days -->\n     <g transform=\"translate(205.741406 268.034687)scale(0.1 -0.1)\">\n      <defs>\n       <path d=\"M 45.40625 46.390625 \nL 45.40625 75.984375 \nL 54.390625 75.984375 \nL 54.390625 0 \nL 45.40625 0 \nL 45.40625 8.203125 \nQ 42.578125 3.328125 38.25 0.953125 \nQ 33.9375 -1.421875 27.875 -1.421875 \nQ 17.96875 -1.421875 11.734375 6.484375 \nQ 5.515625 14.40625 5.515625 27.296875 \nQ 5.515625 40.1875 11.734375 48.09375 \nQ 17.96875 56 27.875 56 \nQ 33.9375 56 38.25 53.625 \nQ 42.578125 51.265625 45.40625 46.390625 \nz\nM 14.796875 27.296875 \nQ 14.796875 17.390625 18.875 11.75 \nQ 22.953125 6.109375 30.078125 6.109375 \nQ 37.203125 6.109375 41.296875 11.75 \nQ 45.40625 17.390625 45.40625 27.296875 \nQ 45.40625 37.203125 41.296875 42.84375 \nQ 37.203125 48.484375 30.078125 48.484375 \nQ 22.953125 48.484375 18.875 42.84375 \nQ 14.796875 37.203125 14.796875 27.296875 \nz\n\" id=\"DejaVuSans-100\"/>\n       <path d=\"M 34.28125 27.484375 \nQ 23.390625 27.484375 19.1875 25 \nQ 14.984375 22.515625 14.984375 16.5 \nQ 14.984375 11.71875 18.140625 8.90625 \nQ 21.296875 6.109375 26.703125 6.109375 \nQ 34.1875 6.109375 38.703125 11.40625 \nQ 43.21875 16.703125 43.21875 25.484375 \nL 43.21875 27.484375 \nz\nM 52.203125 31.203125 \nL 52.203125 0 \nL 43.21875 0 \nL 43.21875 8.296875 \nQ 40.140625 3.328125 35.546875 0.953125 \nQ 30.953125 -1.421875 24.3125 -1.421875 \nQ 15.921875 -1.421875 10.953125 3.296875 \nQ 6 8.015625 6 15.921875 \nQ 6 25.140625 12.171875 29.828125 \nQ 18.359375 34.515625 30.609375 34.515625 \nL 43.21875 34.515625 \nL 43.21875 35.40625 \nQ 43.21875 41.609375 39.140625 45 \nQ 35.0625 48.390625 27.6875 48.390625 \nQ 23 48.390625 18.546875 47.265625 \nQ 14.109375 46.140625 10.015625 43.890625 \nL 10.015625 52.203125 \nQ 14.9375 54.109375 19.578125 55.046875 \nQ 24.21875 56 28.609375 56 \nQ 40.484375 56 46.34375 49.84375 \nQ 52.203125 43.703125 52.203125 31.203125 \nz\n\" id=\"DejaVuSans-97\"/>\n       <path d=\"M 32.171875 -5.078125 \nQ 28.375 -14.84375 24.75 -17.8125 \nQ 21.140625 -20.796875 15.09375 -20.796875 \nL 7.90625 -20.796875 \nL 7.90625 -13.28125 \nL 13.1875 -13.28125 \nQ 16.890625 -13.28125 18.9375 -11.515625 \nQ 21 -9.765625 23.484375 -3.21875 \nL 25.09375 0.875 \nL 2.984375 54.6875 \nL 12.5 54.6875 \nL 29.59375 11.921875 \nL 46.6875 54.6875 \nL 56.203125 54.6875 \nz\n\" id=\"DejaVuSans-121\"/>\n       <path d=\"M 44.28125 53.078125 \nL 44.28125 44.578125 \nQ 40.484375 46.53125 36.375 47.5 \nQ 32.28125 48.484375 27.875 48.484375 \nQ 21.1875 48.484375 17.84375 46.4375 \nQ 14.5 44.390625 14.5 40.28125 \nQ 14.5 37.15625 16.890625 35.375 \nQ 19.28125 33.59375 26.515625 31.984375 \nL 29.59375 31.296875 \nQ 39.15625 29.25 43.1875 25.515625 \nQ 47.21875 21.78125 47.21875 15.09375 \nQ 47.21875 7.46875 41.1875 3.015625 \nQ 35.15625 -1.421875 24.609375 -1.421875 \nQ 20.21875 -1.421875 15.453125 -0.5625 \nQ 10.6875 0.296875 5.421875 2 \nL 5.421875 11.28125 \nQ 10.40625 8.6875 15.234375 7.390625 \nQ 20.0625 6.109375 24.8125 6.109375 \nQ 31.15625 6.109375 34.5625 8.28125 \nQ 37.984375 10.453125 37.984375 14.40625 \nQ 37.984375 18.0625 35.515625 20.015625 \nQ 33.0625 21.96875 24.703125 23.78125 \nL 21.578125 24.515625 \nQ 13.234375 26.265625 9.515625 29.90625 \nQ 5.8125 33.546875 5.8125 39.890625 \nQ 5.8125 47.609375 11.28125 51.796875 \nQ 16.75 56 26.8125 56 \nQ 31.78125 56 36.171875 55.265625 \nQ 40.578125 54.546875 44.28125 53.078125 \nz\n\" id=\"DejaVuSans-115\"/>\n      </defs>\n      <use xlink:href=\"#DejaVuSans-100\"/>\n      <use x=\"63.476562\" xlink:href=\"#DejaVuSans-97\"/>\n      <use x=\"124.755859\" xlink:href=\"#DejaVuSans-121\"/>\n      <use x=\"183.935547\" xlink:href=\"#DejaVuSans-115\"/>\n     </g>\n    </g>\n   </g>\n   <g id=\"matplotlib.axis_2\">\n    <g id=\"ytick_1\">\n     <g id=\"line2d_10\">\n      <defs>\n       <path d=\"M 0 0 \nL -3.5 0 \n\" id=\"m895a653619\" style=\"stroke:#000000;stroke-width:0.8;\"/>\n      </defs>\n      <g>\n       <use style=\"stroke:#000000;stroke-width:0.8;\" x=\"50.14375\" xlink:href=\"#m895a653619\" y=\"228.895889\"/>\n      </g>\n     </g>\n     <g id=\"text_11\">\n      <!-- 0.70 -->\n      <g transform=\"translate(20.878125 232.695107)scale(0.1 -0.1)\">\n       <defs>\n        <path d=\"M 10.6875 12.40625 \nL 21 12.40625 \nL 21 0 \nL 10.6875 0 \nz\n\" id=\"DejaVuSans-46\"/>\n       </defs>\n       <use xlink:href=\"#DejaVuSans-48\"/>\n       <use x=\"63.623047\" xlink:href=\"#DejaVuSans-46\"/>\n       <use x=\"95.410156\" xlink:href=\"#DejaVuSans-55\"/>\n       <use x=\"159.033203\" xlink:href=\"#DejaVuSans-48\"/>\n      </g>\n     </g>\n    </g>\n    <g id=\"ytick_2\">\n     <g id=\"line2d_11\">\n      <g>\n       <use style=\"stroke:#000000;stroke-width:0.8;\" x=\"50.14375\" xlink:href=\"#m895a653619\" y=\"196.113534\"/>\n      </g>\n     </g>\n     <g id=\"text_12\">\n      <!-- 0.75 -->\n      <g transform=\"translate(20.878125 199.912753)scale(0.1 -0.1)\">\n       <use xlink:href=\"#DejaVuSans-48\"/>\n       <use x=\"63.623047\" xlink:href=\"#DejaVuSans-46\"/>\n       <use x=\"95.410156\" xlink:href=\"#DejaVuSans-55\"/>\n       <use x=\"159.033203\" xlink:href=\"#DejaVuSans-53\"/>\n      </g>\n     </g>\n    </g>\n    <g id=\"ytick_3\">\n     <g id=\"line2d_12\">\n      <g>\n       <use style=\"stroke:#000000;stroke-width:0.8;\" x=\"50.14375\" xlink:href=\"#m895a653619\" y=\"163.33118\"/>\n      </g>\n     </g>\n     <g id=\"text_13\">\n      <!-- 0.80 -->\n      <g transform=\"translate(20.878125 167.130398)scale(0.1 -0.1)\">\n       <use xlink:href=\"#DejaVuSans-48\"/>\n       <use x=\"63.623047\" xlink:href=\"#DejaVuSans-46\"/>\n       <use x=\"95.410156\" xlink:href=\"#DejaVuSans-56\"/>\n       <use x=\"159.033203\" xlink:href=\"#DejaVuSans-48\"/>\n      </g>\n     </g>\n    </g>\n    <g id=\"ytick_4\">\n     <g id=\"line2d_13\">\n      <g>\n       <use style=\"stroke:#000000;stroke-width:0.8;\" x=\"50.14375\" xlink:href=\"#m895a653619\" y=\"130.548825\"/>\n      </g>\n     </g>\n     <g id=\"text_14\">\n      <!-- 0.85 -->\n      <g transform=\"translate(20.878125 134.348044)scale(0.1 -0.1)\">\n       <use xlink:href=\"#DejaVuSans-48\"/>\n       <use x=\"63.623047\" xlink:href=\"#DejaVuSans-46\"/>\n       <use x=\"95.410156\" xlink:href=\"#DejaVuSans-56\"/>\n       <use x=\"159.033203\" xlink:href=\"#DejaVuSans-53\"/>\n      </g>\n     </g>\n    </g>\n    <g id=\"ytick_5\">\n     <g id=\"line2d_14\">\n      <g>\n       <use style=\"stroke:#000000;stroke-width:0.8;\" x=\"50.14375\" xlink:href=\"#m895a653619\" y=\"97.76647\"/>\n      </g>\n     </g>\n     <g id=\"text_15\">\n      <!-- 0.90 -->\n      <g transform=\"translate(20.878125 101.565689)scale(0.1 -0.1)\">\n       <defs>\n        <path d=\"M 10.984375 1.515625 \nL 10.984375 10.5 \nQ 14.703125 8.734375 18.5 7.8125 \nQ 22.3125 6.890625 25.984375 6.890625 \nQ 35.75 6.890625 40.890625 13.453125 \nQ 46.046875 20.015625 46.78125 33.40625 \nQ 43.953125 29.203125 39.59375 26.953125 \nQ 35.25 24.703125 29.984375 24.703125 \nQ 19.046875 24.703125 12.671875 31.3125 \nQ 6.296875 37.9375 6.296875 49.421875 \nQ 6.296875 60.640625 12.9375 67.421875 \nQ 19.578125 74.21875 30.609375 74.21875 \nQ 43.265625 74.21875 49.921875 64.515625 \nQ 56.59375 54.828125 56.59375 36.375 \nQ 56.59375 19.140625 48.40625 8.859375 \nQ 40.234375 -1.421875 26.421875 -1.421875 \nQ 22.703125 -1.421875 18.890625 -0.6875 \nQ 15.09375 0.046875 10.984375 1.515625 \nz\nM 30.609375 32.421875 \nQ 37.25 32.421875 41.125 36.953125 \nQ 45.015625 41.5 45.015625 49.421875 \nQ 45.015625 57.28125 41.125 61.84375 \nQ 37.25 66.40625 30.609375 66.40625 \nQ 23.96875 66.40625 20.09375 61.84375 \nQ 16.21875 57.28125 16.21875 49.421875 \nQ 16.21875 41.5 20.09375 36.953125 \nQ 23.96875 32.421875 30.609375 32.421875 \nz\n\" id=\"DejaVuSans-57\"/>\n       </defs>\n       <use xlink:href=\"#DejaVuSans-48\"/>\n       <use x=\"63.623047\" xlink:href=\"#DejaVuSans-46\"/>\n       <use x=\"95.410156\" xlink:href=\"#DejaVuSans-57\"/>\n       <use x=\"159.033203\" xlink:href=\"#DejaVuSans-48\"/>\n      </g>\n     </g>\n    </g>\n    <g id=\"ytick_6\">\n     <g id=\"line2d_15\">\n      <g>\n       <use style=\"stroke:#000000;stroke-width:0.8;\" x=\"50.14375\" xlink:href=\"#m895a653619\" y=\"64.984116\"/>\n      </g>\n     </g>\n     <g id=\"text_16\">\n      <!-- 0.95 -->\n      <g transform=\"translate(20.878125 68.783335)scale(0.1 -0.1)\">\n       <use xlink:href=\"#DejaVuSans-48\"/>\n       <use x=\"63.623047\" xlink:href=\"#DejaVuSans-46\"/>\n       <use x=\"95.410156\" xlink:href=\"#DejaVuSans-57\"/>\n       <use x=\"159.033203\" xlink:href=\"#DejaVuSans-53\"/>\n      </g>\n     </g>\n    </g>\n    <g id=\"ytick_7\">\n     <g id=\"line2d_16\">\n      <g>\n       <use style=\"stroke:#000000;stroke-width:0.8;\" x=\"50.14375\" xlink:href=\"#m895a653619\" y=\"32.201761\"/>\n      </g>\n     </g>\n     <g id=\"text_17\">\n      <!-- 1.00 -->\n      <g transform=\"translate(20.878125 36.00098)scale(0.1 -0.1)\">\n       <use xlink:href=\"#DejaVuSans-49\"/>\n       <use x=\"63.623047\" xlink:href=\"#DejaVuSans-46\"/>\n       <use x=\"95.410156\" xlink:href=\"#DejaVuSans-48\"/>\n       <use x=\"159.033203\" xlink:href=\"#DejaVuSans-48\"/>\n      </g>\n     </g>\n    </g>\n    <g id=\"text_18\">\n     <!-- stock price -->\n     <g transform=\"translate(14.798438 158.340469)rotate(-90)scale(0.1 -0.1)\">\n      <defs>\n       <path d=\"M 18.3125 70.21875 \nL 18.3125 54.6875 \nL 36.8125 54.6875 \nL 36.8125 47.703125 \nL 18.3125 47.703125 \nL 18.3125 18.015625 \nQ 18.3125 11.328125 20.140625 9.421875 \nQ 21.96875 7.515625 27.59375 7.515625 \nL 36.8125 7.515625 \nL 36.8125 0 \nL 27.59375 0 \nQ 17.1875 0 13.234375 3.875 \nQ 9.28125 7.765625 9.28125 18.015625 \nL 9.28125 47.703125 \nL 2.6875 47.703125 \nL 2.6875 54.6875 \nL 9.28125 54.6875 \nL 9.28125 70.21875 \nz\n\" id=\"DejaVuSans-116\"/>\n       <path d=\"M 30.609375 48.390625 \nQ 23.390625 48.390625 19.1875 42.75 \nQ 14.984375 37.109375 14.984375 27.296875 \nQ 14.984375 17.484375 19.15625 11.84375 \nQ 23.34375 6.203125 30.609375 6.203125 \nQ 37.796875 6.203125 41.984375 11.859375 \nQ 46.1875 17.53125 46.1875 27.296875 \nQ 46.1875 37.015625 41.984375 42.703125 \nQ 37.796875 48.390625 30.609375 48.390625 \nz\nM 30.609375 56 \nQ 42.328125 56 49.015625 48.375 \nQ 55.71875 40.765625 55.71875 27.296875 \nQ 55.71875 13.875 49.015625 6.21875 \nQ 42.328125 -1.421875 30.609375 -1.421875 \nQ 18.84375 -1.421875 12.171875 6.21875 \nQ 5.515625 13.875 5.515625 27.296875 \nQ 5.515625 40.765625 12.171875 48.375 \nQ 18.84375 56 30.609375 56 \nz\n\" id=\"DejaVuSans-111\"/>\n       <path d=\"M 48.78125 52.59375 \nL 48.78125 44.1875 \nQ 44.96875 46.296875 41.140625 47.34375 \nQ 37.3125 48.390625 33.40625 48.390625 \nQ 24.65625 48.390625 19.8125 42.84375 \nQ 14.984375 37.3125 14.984375 27.296875 \nQ 14.984375 17.28125 19.8125 11.734375 \nQ 24.65625 6.203125 33.40625 6.203125 \nQ 37.3125 6.203125 41.140625 7.25 \nQ 44.96875 8.296875 48.78125 10.40625 \nL 48.78125 2.09375 \nQ 45.015625 0.34375 40.984375 -0.53125 \nQ 36.96875 -1.421875 32.421875 -1.421875 \nQ 20.0625 -1.421875 12.78125 6.34375 \nQ 5.515625 14.109375 5.515625 27.296875 \nQ 5.515625 40.671875 12.859375 48.328125 \nQ 20.21875 56 33.015625 56 \nQ 37.15625 56 41.109375 55.140625 \nQ 45.0625 54.296875 48.78125 52.59375 \nz\n\" id=\"DejaVuSans-99\"/>\n       <path d=\"M 9.078125 75.984375 \nL 18.109375 75.984375 \nL 18.109375 31.109375 \nL 44.921875 54.6875 \nL 56.390625 54.6875 \nL 27.390625 29.109375 \nL 57.625 0 \nL 45.90625 0 \nL 18.109375 26.703125 \nL 18.109375 0 \nL 9.078125 0 \nz\n\" id=\"DejaVuSans-107\"/>\n       <path id=\"DejaVuSans-32\"/>\n       <path d=\"M 18.109375 8.203125 \nL 18.109375 -20.796875 \nL 9.078125 -20.796875 \nL 9.078125 54.6875 \nL 18.109375 54.6875 \nL 18.109375 46.390625 \nQ 20.953125 51.265625 25.265625 53.625 \nQ 29.59375 56 35.59375 56 \nQ 45.5625 56 51.78125 48.09375 \nQ 58.015625 40.1875 58.015625 27.296875 \nQ 58.015625 14.40625 51.78125 6.484375 \nQ 45.5625 -1.421875 35.59375 -1.421875 \nQ 29.59375 -1.421875 25.265625 0.953125 \nQ 20.953125 3.328125 18.109375 8.203125 \nz\nM 48.6875 27.296875 \nQ 48.6875 37.203125 44.609375 42.84375 \nQ 40.53125 48.484375 33.40625 48.484375 \nQ 26.265625 48.484375 22.1875 42.84375 \nQ 18.109375 37.203125 18.109375 27.296875 \nQ 18.109375 17.390625 22.1875 11.75 \nQ 26.265625 6.109375 33.40625 6.109375 \nQ 40.53125 6.109375 44.609375 11.75 \nQ 48.6875 17.390625 48.6875 27.296875 \nz\n\" id=\"DejaVuSans-112\"/>\n       <path d=\"M 41.109375 46.296875 \nQ 39.59375 47.171875 37.8125 47.578125 \nQ 36.03125 48 33.890625 48 \nQ 26.265625 48 22.1875 43.046875 \nQ 18.109375 38.09375 18.109375 28.8125 \nL 18.109375 0 \nL 9.078125 0 \nL 9.078125 54.6875 \nL 18.109375 54.6875 \nL 18.109375 46.1875 \nQ 20.953125 51.171875 25.484375 53.578125 \nQ 30.03125 56 36.53125 56 \nQ 37.453125 56 38.578125 55.875 \nQ 39.703125 55.765625 41.0625 55.515625 \nz\n\" id=\"DejaVuSans-114\"/>\n       <path d=\"M 9.421875 54.6875 \nL 18.40625 54.6875 \nL 18.40625 0 \nL 9.421875 0 \nz\nM 9.421875 75.984375 \nL 18.40625 75.984375 \nL 18.40625 64.59375 \nL 9.421875 64.59375 \nz\n\" id=\"DejaVuSans-105\"/>\n       <path d=\"M 56.203125 29.59375 \nL 56.203125 25.203125 \nL 14.890625 25.203125 \nQ 15.484375 15.921875 20.484375 11.0625 \nQ 25.484375 6.203125 34.421875 6.203125 \nQ 39.59375 6.203125 44.453125 7.46875 \nQ 49.3125 8.734375 54.109375 11.28125 \nL 54.109375 2.78125 \nQ 49.265625 0.734375 44.1875 -0.34375 \nQ 39.109375 -1.421875 33.890625 -1.421875 \nQ 20.796875 -1.421875 13.15625 6.1875 \nQ 5.515625 13.8125 5.515625 26.8125 \nQ 5.515625 40.234375 12.765625 48.109375 \nQ 20.015625 56 32.328125 56 \nQ 43.359375 56 49.78125 48.890625 \nQ 56.203125 41.796875 56.203125 29.59375 \nz\nM 47.21875 32.234375 \nQ 47.125 39.59375 43.09375 43.984375 \nQ 39.0625 48.390625 32.421875 48.390625 \nQ 24.90625 48.390625 20.390625 44.140625 \nQ 15.875 39.890625 15.1875 32.171875 \nz\n\" id=\"DejaVuSans-101\"/>\n      </defs>\n      <use xlink:href=\"#DejaVuSans-115\"/>\n      <use x=\"52.099609\" xlink:href=\"#DejaVuSans-116\"/>\n      <use x=\"91.308594\" xlink:href=\"#DejaVuSans-111\"/>\n      <use x=\"152.490234\" xlink:href=\"#DejaVuSans-99\"/>\n      <use x=\"207.470703\" xlink:href=\"#DejaVuSans-107\"/>\n      <use x=\"265.380859\" xlink:href=\"#DejaVuSans-32\"/>\n      <use x=\"297.167969\" xlink:href=\"#DejaVuSans-112\"/>\n      <use x=\"360.644531\" xlink:href=\"#DejaVuSans-114\"/>\n      <use x=\"401.757812\" xlink:href=\"#DejaVuSans-105\"/>\n      <use x=\"429.541016\" xlink:href=\"#DejaVuSans-99\"/>\n      <use x=\"484.521484\" xlink:href=\"#DejaVuSans-101\"/>\n     </g>\n    </g>\n   </g>\n   <g id=\"line2d_17\">\n    <path clip-path=\"url(#p999c886108)\" d=\"M 65.361932 191.290594 \nL 103.407386 176.751713 \nL 141.452841 162.212833 \nL 179.498295 147.673952 \nL 217.54375 229.874489 \nL 255.589205 196.602834 \nL 293.634659 120.273525 \nL 331.680114 212.260061 \nL 369.725568 32.201761 \n\" style=\"fill:none;stroke:#1f77b4;stroke-linecap:square;stroke-width:1.5;\"/>\n   </g>\n   <g id=\"line2d_18\">\n    <path clip-path=\"url(#p999c886108)\" d=\"M 65.361932 156.024144 \nL 103.407386 147.9204 \nL 141.452841 177.5048 \nL 179.498295 182.843817 \nL 217.54375 202.014673 \nL 255.589205 196.312762 \nL 293.634659 165.841372 \nL 331.680114 161.20356 \nL 369.725568 185.099375 \n\" style=\"fill:none;stroke:#ff7f0e;stroke-linecap:square;stroke-width:1.5;\"/>\n   </g>\n   <g id=\"patch_3\">\n    <path d=\"M 50.14375 239.758125 \nL 50.14375 22.318125 \n\" style=\"fill:none;stroke:#000000;stroke-linecap:square;stroke-linejoin:miter;stroke-width:0.8;\"/>\n   </g>\n   <g id=\"patch_4\">\n    <path d=\"M 384.94375 239.758125 \nL 384.94375 22.318125 \n\" style=\"fill:none;stroke:#000000;stroke-linecap:square;stroke-linejoin:miter;stroke-width:0.8;\"/>\n   </g>\n   <g id=\"patch_5\">\n    <path d=\"M 50.14375 239.758125 \nL 384.94375 239.758125 \n\" style=\"fill:none;stroke:#000000;stroke-linecap:square;stroke-linejoin:miter;stroke-width:0.8;\"/>\n   </g>\n   <g id=\"patch_6\">\n    <path d=\"M 50.14375 22.318125 \nL 384.94375 22.318125 \n\" style=\"fill:none;stroke:#000000;stroke-linecap:square;stroke-linejoin:miter;stroke-width:0.8;\"/>\n   </g>\n   <g id=\"text_19\">\n    <!-- One prediction: 21 prices predict 9 prices, COG -->\n    <g transform=\"translate(75.8575 16.318125)scale(0.12 -0.12)\">\n     <defs>\n      <path d=\"M 39.40625 66.21875 \nQ 28.65625 66.21875 22.328125 58.203125 \nQ 16.015625 50.203125 16.015625 36.375 \nQ 16.015625 22.609375 22.328125 14.59375 \nQ 28.65625 6.59375 39.40625 6.59375 \nQ 50.140625 6.59375 56.421875 14.59375 \nQ 62.703125 22.609375 62.703125 36.375 \nQ 62.703125 50.203125 56.421875 58.203125 \nQ 50.140625 66.21875 39.40625 66.21875 \nz\nM 39.40625 74.21875 \nQ 54.734375 74.21875 63.90625 63.9375 \nQ 73.09375 53.65625 73.09375 36.375 \nQ 73.09375 19.140625 63.90625 8.859375 \nQ 54.734375 -1.421875 39.40625 -1.421875 \nQ 24.03125 -1.421875 14.8125 8.828125 \nQ 5.609375 19.09375 5.609375 36.375 \nQ 5.609375 53.65625 14.8125 63.9375 \nQ 24.03125 74.21875 39.40625 74.21875 \nz\n\" id=\"DejaVuSans-79\"/>\n      <path d=\"M 54.890625 33.015625 \nL 54.890625 0 \nL 45.90625 0 \nL 45.90625 32.71875 \nQ 45.90625 40.484375 42.875 44.328125 \nQ 39.84375 48.1875 33.796875 48.1875 \nQ 26.515625 48.1875 22.3125 43.546875 \nQ 18.109375 38.921875 18.109375 30.90625 \nL 18.109375 0 \nL 9.078125 0 \nL 9.078125 54.6875 \nL 18.109375 54.6875 \nL 18.109375 46.1875 \nQ 21.34375 51.125 25.703125 53.5625 \nQ 30.078125 56 35.796875 56 \nQ 45.21875 56 50.046875 50.171875 \nQ 54.890625 44.34375 54.890625 33.015625 \nz\n\" id=\"DejaVuSans-110\"/>\n      <path d=\"M 11.71875 12.40625 \nL 22.015625 12.40625 \nL 22.015625 0 \nL 11.71875 0 \nz\nM 11.71875 51.703125 \nL 22.015625 51.703125 \nL 22.015625 39.3125 \nL 11.71875 39.3125 \nz\n\" id=\"DejaVuSans-58\"/>\n      <path d=\"M 11.71875 12.40625 \nL 22.015625 12.40625 \nL 22.015625 4 \nL 14.015625 -11.625 \nL 7.71875 -11.625 \nL 11.71875 4 \nz\n\" id=\"DejaVuSans-44\"/>\n      <path d=\"M 64.40625 67.28125 \nL 64.40625 56.890625 \nQ 59.421875 61.53125 53.78125 63.8125 \nQ 48.140625 66.109375 41.796875 66.109375 \nQ 29.296875 66.109375 22.65625 58.46875 \nQ 16.015625 50.828125 16.015625 36.375 \nQ 16.015625 21.96875 22.65625 14.328125 \nQ 29.296875 6.6875 41.796875 6.6875 \nQ 48.140625 6.6875 53.78125 8.984375 \nQ 59.421875 11.28125 64.40625 15.921875 \nL 64.40625 5.609375 \nQ 59.234375 2.09375 53.4375 0.328125 \nQ 47.65625 -1.421875 41.21875 -1.421875 \nQ 24.65625 -1.421875 15.125 8.703125 \nQ 5.609375 18.84375 5.609375 36.375 \nQ 5.609375 53.953125 15.125 64.078125 \nQ 24.65625 74.21875 41.21875 74.21875 \nQ 47.75 74.21875 53.53125 72.484375 \nQ 59.328125 70.75 64.40625 67.28125 \nz\n\" id=\"DejaVuSans-67\"/>\n      <path d=\"M 59.515625 10.40625 \nL 59.515625 29.984375 \nL 43.40625 29.984375 \nL 43.40625 38.09375 \nL 69.28125 38.09375 \nL 69.28125 6.78125 \nQ 63.578125 2.734375 56.6875 0.65625 \nQ 49.8125 -1.421875 42 -1.421875 \nQ 24.90625 -1.421875 15.25 8.5625 \nQ 5.609375 18.5625 5.609375 36.375 \nQ 5.609375 54.25 15.25 64.234375 \nQ 24.90625 74.21875 42 74.21875 \nQ 49.125 74.21875 55.546875 72.453125 \nQ 61.96875 70.703125 67.390625 67.28125 \nL 67.390625 56.78125 \nQ 61.921875 61.421875 55.765625 63.765625 \nQ 49.609375 66.109375 42.828125 66.109375 \nQ 29.4375 66.109375 22.71875 58.640625 \nQ 16.015625 51.171875 16.015625 36.375 \nQ 16.015625 21.625 22.71875 14.15625 \nQ 29.4375 6.6875 42.828125 6.6875 \nQ 48.046875 6.6875 52.140625 7.59375 \nQ 56.25 8.5 59.515625 10.40625 \nz\n\" id=\"DejaVuSans-71\"/>\n     </defs>\n     <use xlink:href=\"#DejaVuSans-79\"/>\n     <use x=\"78.710938\" xlink:href=\"#DejaVuSans-110\"/>\n     <use x=\"142.089844\" xlink:href=\"#DejaVuSans-101\"/>\n     <use x=\"203.613281\" xlink:href=\"#DejaVuSans-32\"/>\n     <use x=\"235.400391\" xlink:href=\"#DejaVuSans-112\"/>\n     <use x=\"298.876953\" xlink:href=\"#DejaVuSans-114\"/>\n     <use x=\"337.740234\" xlink:href=\"#DejaVuSans-101\"/>\n     <use x=\"399.263672\" xlink:href=\"#DejaVuSans-100\"/>\n     <use x=\"462.740234\" xlink:href=\"#DejaVuSans-105\"/>\n     <use x=\"490.523438\" xlink:href=\"#DejaVuSans-99\"/>\n     <use x=\"545.503906\" xlink:href=\"#DejaVuSans-116\"/>\n     <use x=\"584.712891\" xlink:href=\"#DejaVuSans-105\"/>\n     <use x=\"612.496094\" xlink:href=\"#DejaVuSans-111\"/>\n     <use x=\"673.677734\" xlink:href=\"#DejaVuSans-110\"/>\n     <use x=\"737.056641\" xlink:href=\"#DejaVuSans-58\"/>\n     <use x=\"770.748047\" xlink:href=\"#DejaVuSans-32\"/>\n     <use x=\"802.535156\" xlink:href=\"#DejaVuSans-50\"/>\n     <use x=\"866.158203\" xlink:href=\"#DejaVuSans-49\"/>\n     <use x=\"929.78125\" xlink:href=\"#DejaVuSans-32\"/>\n     <use x=\"961.568359\" xlink:href=\"#DejaVuSans-112\"/>\n     <use x=\"1025.044922\" xlink:href=\"#DejaVuSans-114\"/>\n     <use x=\"1066.158203\" xlink:href=\"#DejaVuSans-105\"/>\n     <use x=\"1093.941406\" xlink:href=\"#DejaVuSans-99\"/>\n     <use x=\"1148.921875\" xlink:href=\"#DejaVuSans-101\"/>\n     <use x=\"1210.445312\" xlink:href=\"#DejaVuSans-115\"/>\n     <use x=\"1262.544922\" xlink:href=\"#DejaVuSans-32\"/>\n     <use x=\"1294.332031\" xlink:href=\"#DejaVuSans-112\"/>\n     <use x=\"1357.808594\" xlink:href=\"#DejaVuSans-114\"/>\n     <use x=\"1396.671875\" xlink:href=\"#DejaVuSans-101\"/>\n     <use x=\"1458.195312\" xlink:href=\"#DejaVuSans-100\"/>\n     <use x=\"1521.671875\" xlink:href=\"#DejaVuSans-105\"/>\n     <use x=\"1549.455078\" xlink:href=\"#DejaVuSans-99\"/>\n     <use x=\"1604.435547\" xlink:href=\"#DejaVuSans-116\"/>\n     <use x=\"1643.644531\" xlink:href=\"#DejaVuSans-32\"/>\n     <use x=\"1675.431641\" xlink:href=\"#DejaVuSans-57\"/>\n     <use x=\"1739.054688\" xlink:href=\"#DejaVuSans-32\"/>\n     <use x=\"1770.841797\" xlink:href=\"#DejaVuSans-112\"/>\n     <use x=\"1834.318359\" xlink:href=\"#DejaVuSans-114\"/>\n     <use x=\"1875.431641\" xlink:href=\"#DejaVuSans-105\"/>\n     <use x=\"1903.214844\" xlink:href=\"#DejaVuSans-99\"/>\n     <use x=\"1958.195312\" xlink:href=\"#DejaVuSans-101\"/>\n     <use x=\"2019.71875\" xlink:href=\"#DejaVuSans-115\"/>\n     <use x=\"2071.818359\" xlink:href=\"#DejaVuSans-44\"/>\n     <use x=\"2103.605469\" xlink:href=\"#DejaVuSans-32\"/>\n     <use x=\"2135.392578\" xlink:href=\"#DejaVuSans-67\"/>\n     <use x=\"2205.216797\" xlink:href=\"#DejaVuSans-79\"/>\n     <use x=\"2283.927734\" xlink:href=\"#DejaVuSans-71\"/>\n    </g>\n   </g>\n   <g id=\"legend_1\">\n    <g id=\"patch_7\">\n     <path d=\"M 57.14375 59.674375 \nL 111.879688 59.674375 \nQ 113.879688 59.674375 113.879688 57.674375 \nL 113.879688 29.318125 \nQ 113.879688 27.318125 111.879688 27.318125 \nL 57.14375 27.318125 \nQ 55.14375 27.318125 55.14375 29.318125 \nL 55.14375 57.674375 \nQ 55.14375 59.674375 57.14375 59.674375 \nz\n\" style=\"fill:#ffffff;opacity:0.8;stroke:#cccccc;stroke-linejoin:miter;\"/>\n    </g>\n    <g id=\"line2d_19\">\n     <path d=\"M 59.14375 35.416562 \nL 79.14375 35.416562 \n\" style=\"fill:none;stroke:#1f77b4;stroke-linecap:square;stroke-width:1.5;\"/>\n    </g>\n    <g id=\"line2d_20\"/>\n    <g id=\"text_20\">\n     <!-- true -->\n     <g transform=\"translate(87.14375 38.916562)scale(0.1 -0.1)\">\n      <defs>\n       <path d=\"M 8.5 21.578125 \nL 8.5 54.6875 \nL 17.484375 54.6875 \nL 17.484375 21.921875 \nQ 17.484375 14.15625 20.5 10.265625 \nQ 23.53125 6.390625 29.59375 6.390625 \nQ 36.859375 6.390625 41.078125 11.03125 \nQ 45.3125 15.671875 45.3125 23.6875 \nL 45.3125 54.6875 \nL 54.296875 54.6875 \nL 54.296875 0 \nL 45.3125 0 \nL 45.3125 8.40625 \nQ 42.046875 3.421875 37.71875 1 \nQ 33.40625 -1.421875 27.6875 -1.421875 \nQ 18.265625 -1.421875 13.375 4.4375 \nQ 8.5 10.296875 8.5 21.578125 \nz\nM 31.109375 56 \nz\n\" id=\"DejaVuSans-117\"/>\n      </defs>\n      <use xlink:href=\"#DejaVuSans-116\"/>\n      <use x=\"39.208984\" xlink:href=\"#DejaVuSans-114\"/>\n      <use x=\"80.322266\" xlink:href=\"#DejaVuSans-117\"/>\n      <use x=\"143.701172\" xlink:href=\"#DejaVuSans-101\"/>\n     </g>\n    </g>\n    <g id=\"line2d_21\">\n     <path d=\"M 59.14375 50.094687 \nL 79.14375 50.094687 \n\" style=\"fill:none;stroke:#ff7f0e;stroke-linecap:square;stroke-width:1.5;\"/>\n    </g>\n    <g id=\"line2d_22\"/>\n    <g id=\"text_21\">\n     <!-- pred -->\n     <g transform=\"translate(87.14375 53.594687)scale(0.1 -0.1)\">\n      <use xlink:href=\"#DejaVuSans-112\"/>\n      <use x=\"63.476562\" xlink:href=\"#DejaVuSans-114\"/>\n      <use x=\"102.339844\" xlink:href=\"#DejaVuSans-101\"/>\n      <use x=\"163.863281\" xlink:href=\"#DejaVuSans-100\"/>\n     </g>\n    </g>\n   </g>\n  </g>\n </g>\n <defs>\n  <clipPath id=\"p999c886108\">\n   <rect height=\"217.44\" width=\"334.8\" x=\"50.14375\" y=\"22.318125\"/>\n  </clipPath>\n </defs>\n</svg>\n",
      "image/png": "[encoded data removed]"
     },
     "metadata": {
      "needs_background": "light"
     }
    }
   ],
   "source": [
    "plt.plot(y_test[0], label = 'true')\n",
    "plt.plot(prediction_seqs[0], label = 'pred')\n",
    "plt.xlabel('days')\n",
    "plt.ylabel('stock price')\n",
    "plt.title('One prediction: 21 prices predict 9 prices, COG')\n",
    "plt.legend()"
   ]
  },
  {
   "source": [
    "### De-normalized\n"
   ],
   "cell_type": "markdown",
   "metadata": {}
  },
  {
   "cell_type": "code",
   "execution_count": 20,
   "metadata": {},
   "outputs": [],
   "source": [
    "ori_price = pd.read_csv('../../data/stock_price/data/' + industry +'/price_' + stock.upper() + '.csv')"
   ]
  },
  {
   "cell_type": "code",
   "execution_count": 21,
   "metadata": {},
   "outputs": [
    {
     "output_type": "execute_result",
     "data": {
      "text/plain": [
       "         Date    Type ticker      Price\n",
       "0  2016-03-31    Open    COG  22.740000\n",
       "1  2016-03-31  Closed    COG  22.709999\n",
       "2  2016-04-01    Open    COG  22.260000\n",
       "3  2016-04-01  Closed    COG  22.510000\n",
       "4  2016-04-04    Open    COG  22.610001"
      ],
      "text/html": "<div>\n<style scoped>\n    .dataframe tbody tr th:only-of-type {\n        vertical-align: middle;\n    }\n\n    .dataframe tbody tr th {\n        vertical-align: top;\n    }\n\n    .dataframe thead th {\n        text-align: right;\n    }\n</style>\n<table border=\"1\" class=\"dataframe\">\n  <thead>\n    <tr style=\"text-align: right;\">\n      <th></th>\n      <th>Date</th>\n      <th>Type</th>\n      <th>ticker</th>\n      <th>Price</th>\n    </tr>\n  </thead>\n  <tbody>\n    <tr>\n      <th>0</th>\n      <td>2016-03-31</td>\n      <td>Open</td>\n      <td>COG</td>\n      <td>22.740000</td>\n    </tr>\n    <tr>\n      <th>1</th>\n      <td>2016-03-31</td>\n      <td>Closed</td>\n      <td>COG</td>\n      <td>22.709999</td>\n    </tr>\n    <tr>\n      <th>2</th>\n      <td>2016-04-01</td>\n      <td>Open</td>\n      <td>COG</td>\n      <td>22.260000</td>\n    </tr>\n    <tr>\n      <th>3</th>\n      <td>2016-04-01</td>\n      <td>Closed</td>\n      <td>COG</td>\n      <td>22.510000</td>\n    </tr>\n    <tr>\n      <th>4</th>\n      <td>2016-04-04</td>\n      <td>Open</td>\n      <td>COG</td>\n      <td>22.610001</td>\n    </tr>\n  </tbody>\n</table>\n</div>"
     },
     "metadata": {},
     "execution_count": 21
    }
   ],
   "source": [
    "ori_price.head(5)"
   ]
  },
  {
   "cell_type": "code",
   "execution_count": 22,
   "metadata": {},
   "outputs": [],
   "source": [
    "def normalize(x):\n",
    "    \"\"\"\n",
    "    Normalize the input to the range between 0 and 1\n",
    "    \"\"\"\n",
    "    x = np.array(x)\n",
    "    x_normalized = ((x - np.min(x)) / (np.max(x) - np.min(x))).tolist()\n",
    "    return x_normalized\n",
    "max_price = np.max(ori_price['Price'])\n",
    "min_price = np.min(ori_price['Price'])\n",
    "def denorm_n(x, min_max, n):\n",
    "    de_result = []\n",
    "    for i, v in enumerate(x):\n",
    "        min_p, max_p = min_max[i]\n",
    "        v_denorm = []\n",
    "        for j in range(n):\n",
    "            v_denorm.append(x[i][j] * (max_p - min_p) + min_p)\n",
    "        de_result.append(v_denorm)\n",
    "    return de_result\n"
   ]
  },
  {
   "cell_type": "code",
   "execution_count": 24,
   "metadata": {},
   "outputs": [
    {
     "output_type": "stream",
     "name": "stdout",
     "text": [
      "Industry:  energy ; stock:  COG\nThe max price is 29.489999771118164, the min price is 13.09000015258789\nThe RMSE of predictions is 0.15641416259060492\n"
     ]
    }
   ],
   "source": [
    "pred_denorm = denorm_n(prediction_seqs, min_max_test, n)\n",
    "ytest_denorm = denorm_n(y_test, min_max_test, n)\n",
    "print('Industry: ', industry, '; stock: ', stock.upper())\n",
    "print('The max price is {0}, the min price is {1}'.format(max_price, min_price))\n",
    "print('The RMSE of predictions is', np.sqrt(mean_squared_error(pred_denorm, ytest_denorm)))"
   ]
  },
  {
   "cell_type": "code",
   "execution_count": 90,
   "metadata": {},
   "outputs": [
    {
     "output_type": "stream",
     "name": "stdout",
     "text": [
      "(356, 10) (356, 10)\n"
     ]
    }
   ],
   "source": [
    "print(np.array(pred_denorm).shape, np.array(ytest_denorm).shape\n",
    ")\n"
   ]
  },
  {
   "cell_type": "code",
   "execution_count": 27,
   "metadata": {},
   "outputs": [
    {
     "output_type": "execute_result",
     "data": {
      "text/plain": [
       "<matplotlib.legend.Legend at 0x7fb0aa8befd0>"
      ]
     },
     "metadata": {},
     "execution_count": 27
    },
    {
     "output_type": "display_data",
     "data": {
      "text/plain": "<Figure size 432x288 with 1 Axes>",
      "image/svg+xml": "<?xml version=\"1.0\" encoding=\"utf-8\" standalone=\"no\"?>\n<!DOCTYPE svg PUBLIC \"-//W3C//DTD SVG 1.1//EN\"\n  \"http://www.w3.org/Graphics/SVG/1.1/DTD/svg11.dtd\">\n<!-- Created with matplotlib (https://matplotlib.org/) -->\n<svg height=\"277.314375pt\" version=\"1.1\" viewBox=\"0 0 382.603125 277.314375\" width=\"382.603125pt\" xmlns=\"http://www.w3.org/2000/svg\" xmlns:xlink=\"http://www.w3.org/1999/xlink\">\n <metadata>\n  <rdf:RDF xmlns:cc=\"http://creativecommons.org/ns#\" xmlns:dc=\"http://purl.org/dc/elements/1.1/\" xmlns:rdf=\"http://www.w3.org/1999/02/22-rdf-syntax-ns#\">\n   <cc:Work>\n    <dc:type rdf:resource=\"http://purl.org/dc/dcmitype/StillImage\"/>\n    <dc:date>2021-05-09T00:48:48.953043</dc:date>\n    <dc:format>image/svg+xml</dc:format>\n    <dc:creator>\n     <cc:Agent>\n      <dc:title>Matplotlib v3.3.3, https://matplotlib.org/</dc:title>\n     </cc:Agent>\n    </dc:creator>\n   </cc:Work>\n  </rdf:RDF>\n </metadata>\n <defs>\n  <style type=\"text/css\">*{stroke-linecap:butt;stroke-linejoin:round;}</style>\n </defs>\n <g id=\"figure_1\">\n  <g id=\"patch_1\">\n   <path d=\"M 0 277.314375 \nL 382.603125 277.314375 \nL 382.603125 0 \nL 0 0 \nz\n\" style=\"fill:none;\"/>\n  </g>\n  <g id=\"axes_1\">\n   <g id=\"patch_2\">\n    <path d=\"M 40.603125 239.758125 \nL 375.403125 239.758125 \nL 375.403125 22.318125 \nL 40.603125 22.318125 \nz\n\" style=\"fill:#ffffff;\"/>\n   </g>\n   <g id=\"matplotlib.axis_1\">\n    <g id=\"xtick_1\">\n     <g id=\"line2d_1\">\n      <defs>\n       <path d=\"M 0 0 \nL 0 3.5 \n\" id=\"m213c2dad0b\" style=\"stroke:#000000;stroke-width:0.8;\"/>\n      </defs>\n      <g>\n       <use style=\"stroke:#000000;stroke-width:0.8;\" x=\"55.821307\" xlink:href=\"#m213c2dad0b\" y=\"239.758125\"/>\n      </g>\n     </g>\n     <g id=\"text_1\">\n      <!-- 0 -->\n      <g transform=\"translate(52.640057 254.356562)scale(0.1 -0.1)\">\n       <defs>\n        <path d=\"M 31.78125 66.40625 \nQ 24.171875 66.40625 20.328125 58.90625 \nQ 16.5 51.421875 16.5 36.375 \nQ 16.5 21.390625 20.328125 13.890625 \nQ 24.171875 6.390625 31.78125 6.390625 \nQ 39.453125 6.390625 43.28125 13.890625 \nQ 47.125 21.390625 47.125 36.375 \nQ 47.125 51.421875 43.28125 58.90625 \nQ 39.453125 66.40625 31.78125 66.40625 \nz\nM 31.78125 74.21875 \nQ 44.046875 74.21875 50.515625 64.515625 \nQ 56.984375 54.828125 56.984375 36.375 \nQ 56.984375 17.96875 50.515625 8.265625 \nQ 44.046875 -1.421875 31.78125 -1.421875 \nQ 19.53125 -1.421875 13.0625 8.265625 \nQ 6.59375 17.96875 6.59375 36.375 \nQ 6.59375 54.828125 13.0625 64.515625 \nQ 19.53125 74.21875 31.78125 74.21875 \nz\n\" id=\"DejaVuSans-48\"/>\n       </defs>\n       <use xlink:href=\"#DejaVuSans-48\"/>\n      </g>\n     </g>\n    </g>\n    <g id=\"xtick_2\">\n     <g id=\"line2d_2\">\n      <g>\n       <use style=\"stroke:#000000;stroke-width:0.8;\" x=\"97.514956\" xlink:href=\"#m213c2dad0b\" y=\"239.758125\"/>\n      </g>\n     </g>\n     <g id=\"text_2\">\n      <!-- 50 -->\n      <g transform=\"translate(91.152456 254.356562)scale(0.1 -0.1)\">\n       <defs>\n        <path d=\"M 10.796875 72.90625 \nL 49.515625 72.90625 \nL 49.515625 64.59375 \nL 19.828125 64.59375 \nL 19.828125 46.734375 \nQ 21.96875 47.46875 24.109375 47.828125 \nQ 26.265625 48.1875 28.421875 48.1875 \nQ 40.625 48.1875 47.75 41.5 \nQ 54.890625 34.8125 54.890625 23.390625 \nQ 54.890625 11.625 47.5625 5.09375 \nQ 40.234375 -1.421875 26.90625 -1.421875 \nQ 22.3125 -1.421875 17.546875 -0.640625 \nQ 12.796875 0.140625 7.71875 1.703125 \nL 7.71875 11.625 \nQ 12.109375 9.234375 16.796875 8.0625 \nQ 21.484375 6.890625 26.703125 6.890625 \nQ 35.15625 6.890625 40.078125 11.328125 \nQ 45.015625 15.765625 45.015625 23.390625 \nQ 45.015625 31 40.078125 35.4375 \nQ 35.15625 39.890625 26.703125 39.890625 \nQ 22.75 39.890625 18.8125 39.015625 \nQ 14.890625 38.140625 10.796875 36.28125 \nz\n\" id=\"DejaVuSans-53\"/>\n       </defs>\n       <use xlink:href=\"#DejaVuSans-53\"/>\n       <use x=\"63.623047\" xlink:href=\"#DejaVuSans-48\"/>\n      </g>\n     </g>\n    </g>\n    <g id=\"xtick_3\">\n     <g id=\"line2d_3\">\n      <g>\n       <use style=\"stroke:#000000;stroke-width:0.8;\" x=\"139.208604\" xlink:href=\"#m213c2dad0b\" y=\"239.758125\"/>\n      </g>\n     </g>\n     <g id=\"text_3\">\n      <!-- 100 -->\n      <g transform=\"translate(129.664854 254.356562)scale(0.1 -0.1)\">\n       <defs>\n        <path d=\"M 12.40625 8.296875 \nL 28.515625 8.296875 \nL 28.515625 63.921875 \nL 10.984375 60.40625 \nL 10.984375 69.390625 \nL 28.421875 72.90625 \nL 38.28125 72.90625 \nL 38.28125 8.296875 \nL 54.390625 8.296875 \nL 54.390625 0 \nL 12.40625 0 \nz\n\" id=\"DejaVuSans-49\"/>\n       </defs>\n       <use xlink:href=\"#DejaVuSans-49\"/>\n       <use x=\"63.623047\" xlink:href=\"#DejaVuSans-48\"/>\n       <use x=\"127.246094\" xlink:href=\"#DejaVuSans-48\"/>\n      </g>\n     </g>\n    </g>\n    <g id=\"xtick_4\">\n     <g id=\"line2d_4\">\n      <g>\n       <use style=\"stroke:#000000;stroke-width:0.8;\" x=\"180.902253\" xlink:href=\"#m213c2dad0b\" y=\"239.758125\"/>\n      </g>\n     </g>\n     <g id=\"text_4\">\n      <!-- 150 -->\n      <g transform=\"translate(171.358503 254.356562)scale(0.1 -0.1)\">\n       <use xlink:href=\"#DejaVuSans-49\"/>\n       <use x=\"63.623047\" xlink:href=\"#DejaVuSans-53\"/>\n       <use x=\"127.246094\" xlink:href=\"#DejaVuSans-48\"/>\n      </g>\n     </g>\n    </g>\n    <g id=\"xtick_5\">\n     <g id=\"line2d_5\">\n      <g>\n       <use style=\"stroke:#000000;stroke-width:0.8;\" x=\"222.595902\" xlink:href=\"#m213c2dad0b\" y=\"239.758125\"/>\n      </g>\n     </g>\n     <g id=\"text_5\">\n      <!-- 200 -->\n      <g transform=\"translate(213.052152 254.356562)scale(0.1 -0.1)\">\n       <defs>\n        <path d=\"M 19.1875 8.296875 \nL 53.609375 8.296875 \nL 53.609375 0 \nL 7.328125 0 \nL 7.328125 8.296875 \nQ 12.9375 14.109375 22.625 23.890625 \nQ 32.328125 33.6875 34.8125 36.53125 \nQ 39.546875 41.84375 41.421875 45.53125 \nQ 43.3125 49.21875 43.3125 52.78125 \nQ 43.3125 58.59375 39.234375 62.25 \nQ 35.15625 65.921875 28.609375 65.921875 \nQ 23.96875 65.921875 18.8125 64.3125 \nQ 13.671875 62.703125 7.8125 59.421875 \nL 7.8125 69.390625 \nQ 13.765625 71.78125 18.9375 73 \nQ 24.125 74.21875 28.421875 74.21875 \nQ 39.75 74.21875 46.484375 68.546875 \nQ 53.21875 62.890625 53.21875 53.421875 \nQ 53.21875 48.921875 51.53125 44.890625 \nQ 49.859375 40.875 45.40625 35.40625 \nQ 44.1875 33.984375 37.640625 27.21875 \nQ 31.109375 20.453125 19.1875 8.296875 \nz\n\" id=\"DejaVuSans-50\"/>\n       </defs>\n       <use xlink:href=\"#DejaVuSans-50\"/>\n       <use x=\"63.623047\" xlink:href=\"#DejaVuSans-48\"/>\n       <use x=\"127.246094\" xlink:href=\"#DejaVuSans-48\"/>\n      </g>\n     </g>\n    </g>\n    <g id=\"xtick_6\">\n     <g id=\"line2d_6\">\n      <g>\n       <use style=\"stroke:#000000;stroke-width:0.8;\" x=\"264.289551\" xlink:href=\"#m213c2dad0b\" y=\"239.758125\"/>\n      </g>\n     </g>\n     <g id=\"text_6\">\n      <!-- 250 -->\n      <g transform=\"translate(254.745801 254.356562)scale(0.1 -0.1)\">\n       <use xlink:href=\"#DejaVuSans-50\"/>\n       <use x=\"63.623047\" xlink:href=\"#DejaVuSans-53\"/>\n       <use x=\"127.246094\" xlink:href=\"#DejaVuSans-48\"/>\n      </g>\n     </g>\n    </g>\n    <g id=\"xtick_7\">\n     <g id=\"line2d_7\">\n      <g>\n       <use style=\"stroke:#000000;stroke-width:0.8;\" x=\"305.9832\" xlink:href=\"#m213c2dad0b\" y=\"239.758125\"/>\n      </g>\n     </g>\n     <g id=\"text_7\">\n      <!-- 300 -->\n      <g transform=\"translate(296.43945 254.356562)scale(0.1 -0.1)\">\n       <defs>\n        <path d=\"M 40.578125 39.3125 \nQ 47.65625 37.796875 51.625 33 \nQ 55.609375 28.21875 55.609375 21.1875 \nQ 55.609375 10.40625 48.1875 4.484375 \nQ 40.765625 -1.421875 27.09375 -1.421875 \nQ 22.515625 -1.421875 17.65625 -0.515625 \nQ 12.796875 0.390625 7.625 2.203125 \nL 7.625 11.71875 \nQ 11.71875 9.328125 16.59375 8.109375 \nQ 21.484375 6.890625 26.8125 6.890625 \nQ 36.078125 6.890625 40.9375 10.546875 \nQ 45.796875 14.203125 45.796875 21.1875 \nQ 45.796875 27.640625 41.28125 31.265625 \nQ 36.765625 34.90625 28.71875 34.90625 \nL 20.21875 34.90625 \nL 20.21875 43.015625 \nL 29.109375 43.015625 \nQ 36.375 43.015625 40.234375 45.921875 \nQ 44.09375 48.828125 44.09375 54.296875 \nQ 44.09375 59.90625 40.109375 62.90625 \nQ 36.140625 65.921875 28.71875 65.921875 \nQ 24.65625 65.921875 20.015625 65.03125 \nQ 15.375 64.15625 9.8125 62.3125 \nL 9.8125 71.09375 \nQ 15.4375 72.65625 20.34375 73.4375 \nQ 25.25 74.21875 29.59375 74.21875 \nQ 40.828125 74.21875 47.359375 69.109375 \nQ 53.90625 64.015625 53.90625 55.328125 \nQ 53.90625 49.265625 50.4375 45.09375 \nQ 46.96875 40.921875 40.578125 39.3125 \nz\n\" id=\"DejaVuSans-51\"/>\n       </defs>\n       <use xlink:href=\"#DejaVuSans-51\"/>\n       <use x=\"63.623047\" xlink:href=\"#DejaVuSans-48\"/>\n       <use x=\"127.246094\" xlink:href=\"#DejaVuSans-48\"/>\n      </g>\n     </g>\n    </g>\n    <g id=\"xtick_8\">\n     <g id=\"line2d_8\">\n      <g>\n       <use style=\"stroke:#000000;stroke-width:0.8;\" x=\"347.676849\" xlink:href=\"#m213c2dad0b\" y=\"239.758125\"/>\n      </g>\n     </g>\n     <g id=\"text_8\">\n      <!-- 350 -->\n      <g transform=\"translate(338.133099 254.356562)scale(0.1 -0.1)\">\n       <use xlink:href=\"#DejaVuSans-51\"/>\n       <use x=\"63.623047\" xlink:href=\"#DejaVuSans-53\"/>\n       <use x=\"127.246094\" xlink:href=\"#DejaVuSans-48\"/>\n      </g>\n     </g>\n    </g>\n    <g id=\"text_9\">\n     <!-- days -->\n     <g transform=\"translate(196.200781 268.034687)scale(0.1 -0.1)\">\n      <defs>\n       <path d=\"M 45.40625 46.390625 \nL 45.40625 75.984375 \nL 54.390625 75.984375 \nL 54.390625 0 \nL 45.40625 0 \nL 45.40625 8.203125 \nQ 42.578125 3.328125 38.25 0.953125 \nQ 33.9375 -1.421875 27.875 -1.421875 \nQ 17.96875 -1.421875 11.734375 6.484375 \nQ 5.515625 14.40625 5.515625 27.296875 \nQ 5.515625 40.1875 11.734375 48.09375 \nQ 17.96875 56 27.875 56 \nQ 33.9375 56 38.25 53.625 \nQ 42.578125 51.265625 45.40625 46.390625 \nz\nM 14.796875 27.296875 \nQ 14.796875 17.390625 18.875 11.75 \nQ 22.953125 6.109375 30.078125 6.109375 \nQ 37.203125 6.109375 41.296875 11.75 \nQ 45.40625 17.390625 45.40625 27.296875 \nQ 45.40625 37.203125 41.296875 42.84375 \nQ 37.203125 48.484375 30.078125 48.484375 \nQ 22.953125 48.484375 18.875 42.84375 \nQ 14.796875 37.203125 14.796875 27.296875 \nz\n\" id=\"DejaVuSans-100\"/>\n       <path d=\"M 34.28125 27.484375 \nQ 23.390625 27.484375 19.1875 25 \nQ 14.984375 22.515625 14.984375 16.5 \nQ 14.984375 11.71875 18.140625 8.90625 \nQ 21.296875 6.109375 26.703125 6.109375 \nQ 34.1875 6.109375 38.703125 11.40625 \nQ 43.21875 16.703125 43.21875 25.484375 \nL 43.21875 27.484375 \nz\nM 52.203125 31.203125 \nL 52.203125 0 \nL 43.21875 0 \nL 43.21875 8.296875 \nQ 40.140625 3.328125 35.546875 0.953125 \nQ 30.953125 -1.421875 24.3125 -1.421875 \nQ 15.921875 -1.421875 10.953125 3.296875 \nQ 6 8.015625 6 15.921875 \nQ 6 25.140625 12.171875 29.828125 \nQ 18.359375 34.515625 30.609375 34.515625 \nL 43.21875 34.515625 \nL 43.21875 35.40625 \nQ 43.21875 41.609375 39.140625 45 \nQ 35.0625 48.390625 27.6875 48.390625 \nQ 23 48.390625 18.546875 47.265625 \nQ 14.109375 46.140625 10.015625 43.890625 \nL 10.015625 52.203125 \nQ 14.9375 54.109375 19.578125 55.046875 \nQ 24.21875 56 28.609375 56 \nQ 40.484375 56 46.34375 49.84375 \nQ 52.203125 43.703125 52.203125 31.203125 \nz\n\" id=\"DejaVuSans-97\"/>\n       <path d=\"M 32.171875 -5.078125 \nQ 28.375 -14.84375 24.75 -17.8125 \nQ 21.140625 -20.796875 15.09375 -20.796875 \nL 7.90625 -20.796875 \nL 7.90625 -13.28125 \nL 13.1875 -13.28125 \nQ 16.890625 -13.28125 18.9375 -11.515625 \nQ 21 -9.765625 23.484375 -3.21875 \nL 25.09375 0.875 \nL 2.984375 54.6875 \nL 12.5 54.6875 \nL 29.59375 11.921875 \nL 46.6875 54.6875 \nL 56.203125 54.6875 \nz\n\" id=\"DejaVuSans-121\"/>\n       <path d=\"M 44.28125 53.078125 \nL 44.28125 44.578125 \nQ 40.484375 46.53125 36.375 47.5 \nQ 32.28125 48.484375 27.875 48.484375 \nQ 21.1875 48.484375 17.84375 46.4375 \nQ 14.5 44.390625 14.5 40.28125 \nQ 14.5 37.15625 16.890625 35.375 \nQ 19.28125 33.59375 26.515625 31.984375 \nL 29.59375 31.296875 \nQ 39.15625 29.25 43.1875 25.515625 \nQ 47.21875 21.78125 47.21875 15.09375 \nQ 47.21875 7.46875 41.1875 3.015625 \nQ 35.15625 -1.421875 24.609375 -1.421875 \nQ 20.21875 -1.421875 15.453125 -0.5625 \nQ 10.6875 0.296875 5.421875 2 \nL 5.421875 11.28125 \nQ 10.40625 8.6875 15.234375 7.390625 \nQ 20.0625 6.109375 24.8125 6.109375 \nQ 31.15625 6.109375 34.5625 8.28125 \nQ 37.984375 10.453125 37.984375 14.40625 \nQ 37.984375 18.0625 35.515625 20.015625 \nQ 33.0625 21.96875 24.703125 23.78125 \nL 21.578125 24.515625 \nQ 13.234375 26.265625 9.515625 29.90625 \nQ 5.8125 33.546875 5.8125 39.890625 \nQ 5.8125 47.609375 11.28125 51.796875 \nQ 16.75 56 26.8125 56 \nQ 31.78125 56 36.171875 55.265625 \nQ 40.578125 54.546875 44.28125 53.078125 \nz\n\" id=\"DejaVuSans-115\"/>\n      </defs>\n      <use xlink:href=\"#DejaVuSans-100\"/>\n      <use x=\"63.476562\" xlink:href=\"#DejaVuSans-97\"/>\n      <use x=\"124.755859\" xlink:href=\"#DejaVuSans-121\"/>\n      <use x=\"183.935547\" xlink:href=\"#DejaVuSans-115\"/>\n     </g>\n    </g>\n   </g>\n   <g id=\"matplotlib.axis_2\">\n    <g id=\"ytick_1\">\n     <g id=\"line2d_9\">\n      <defs>\n       <path d=\"M 0 0 \nL -3.5 0 \n\" id=\"m3dca6ad404\" style=\"stroke:#000000;stroke-width:0.8;\"/>\n      </defs>\n      <g>\n       <use style=\"stroke:#000000;stroke-width:0.8;\" x=\"40.603125\" xlink:href=\"#m3dca6ad404\" y=\"227.422737\"/>\n      </g>\n     </g>\n     <g id=\"text_10\">\n      <!-- 16 -->\n      <g transform=\"translate(20.878125 231.221955)scale(0.1 -0.1)\">\n       <defs>\n        <path d=\"M 33.015625 40.375 \nQ 26.375 40.375 22.484375 35.828125 \nQ 18.609375 31.296875 18.609375 23.390625 \nQ 18.609375 15.53125 22.484375 10.953125 \nQ 26.375 6.390625 33.015625 6.390625 \nQ 39.65625 6.390625 43.53125 10.953125 \nQ 47.40625 15.53125 47.40625 23.390625 \nQ 47.40625 31.296875 43.53125 35.828125 \nQ 39.65625 40.375 33.015625 40.375 \nz\nM 52.59375 71.296875 \nL 52.59375 62.3125 \nQ 48.875 64.0625 45.09375 64.984375 \nQ 41.3125 65.921875 37.59375 65.921875 \nQ 27.828125 65.921875 22.671875 59.328125 \nQ 17.53125 52.734375 16.796875 39.40625 \nQ 19.671875 43.65625 24.015625 45.921875 \nQ 28.375 48.1875 33.59375 48.1875 \nQ 44.578125 48.1875 50.953125 41.515625 \nQ 57.328125 34.859375 57.328125 23.390625 \nQ 57.328125 12.15625 50.6875 5.359375 \nQ 44.046875 -1.421875 33.015625 -1.421875 \nQ 20.359375 -1.421875 13.671875 8.265625 \nQ 6.984375 17.96875 6.984375 36.375 \nQ 6.984375 53.65625 15.1875 63.9375 \nQ 23.390625 74.21875 37.203125 74.21875 \nQ 40.921875 74.21875 44.703125 73.484375 \nQ 48.484375 72.75 52.59375 71.296875 \nz\n\" id=\"DejaVuSans-54\"/>\n       </defs>\n       <use xlink:href=\"#DejaVuSans-49\"/>\n       <use x=\"63.623047\" xlink:href=\"#DejaVuSans-54\"/>\n      </g>\n     </g>\n    </g>\n    <g id=\"ytick_2\">\n     <g id=\"line2d_10\">\n      <g>\n       <use style=\"stroke:#000000;stroke-width:0.8;\" x=\"40.603125\" xlink:href=\"#m3dca6ad404\" y=\"196.775806\"/>\n      </g>\n     </g>\n     <g id=\"text_11\">\n      <!-- 17 -->\n      <g transform=\"translate(20.878125 200.575024)scale(0.1 -0.1)\">\n       <defs>\n        <path d=\"M 8.203125 72.90625 \nL 55.078125 72.90625 \nL 55.078125 68.703125 \nL 28.609375 0 \nL 18.3125 0 \nL 43.21875 64.59375 \nL 8.203125 64.59375 \nz\n\" id=\"DejaVuSans-55\"/>\n       </defs>\n       <use xlink:href=\"#DejaVuSans-49\"/>\n       <use x=\"63.623047\" xlink:href=\"#DejaVuSans-55\"/>\n      </g>\n     </g>\n    </g>\n    <g id=\"ytick_3\">\n     <g id=\"line2d_11\">\n      <g>\n       <use style=\"stroke:#000000;stroke-width:0.8;\" x=\"40.603125\" xlink:href=\"#m3dca6ad404\" y=\"166.128875\"/>\n      </g>\n     </g>\n     <g id=\"text_12\">\n      <!-- 18 -->\n      <g transform=\"translate(20.878125 169.928094)scale(0.1 -0.1)\">\n       <defs>\n        <path d=\"M 31.78125 34.625 \nQ 24.75 34.625 20.71875 30.859375 \nQ 16.703125 27.09375 16.703125 20.515625 \nQ 16.703125 13.921875 20.71875 10.15625 \nQ 24.75 6.390625 31.78125 6.390625 \nQ 38.8125 6.390625 42.859375 10.171875 \nQ 46.921875 13.96875 46.921875 20.515625 \nQ 46.921875 27.09375 42.890625 30.859375 \nQ 38.875 34.625 31.78125 34.625 \nz\nM 21.921875 38.8125 \nQ 15.578125 40.375 12.03125 44.71875 \nQ 8.5 49.078125 8.5 55.328125 \nQ 8.5 64.0625 14.71875 69.140625 \nQ 20.953125 74.21875 31.78125 74.21875 \nQ 42.671875 74.21875 48.875 69.140625 \nQ 55.078125 64.0625 55.078125 55.328125 \nQ 55.078125 49.078125 51.53125 44.71875 \nQ 48 40.375 41.703125 38.8125 \nQ 48.828125 37.15625 52.796875 32.3125 \nQ 56.78125 27.484375 56.78125 20.515625 \nQ 56.78125 9.90625 50.3125 4.234375 \nQ 43.84375 -1.421875 31.78125 -1.421875 \nQ 19.734375 -1.421875 13.25 4.234375 \nQ 6.78125 9.90625 6.78125 20.515625 \nQ 6.78125 27.484375 10.78125 32.3125 \nQ 14.796875 37.15625 21.921875 38.8125 \nz\nM 18.3125 54.390625 \nQ 18.3125 48.734375 21.84375 45.5625 \nQ 25.390625 42.390625 31.78125 42.390625 \nQ 38.140625 42.390625 41.71875 45.5625 \nQ 45.3125 48.734375 45.3125 54.390625 \nQ 45.3125 60.0625 41.71875 63.234375 \nQ 38.140625 66.40625 31.78125 66.40625 \nQ 25.390625 66.40625 21.84375 63.234375 \nQ 18.3125 60.0625 18.3125 54.390625 \nz\n\" id=\"DejaVuSans-56\"/>\n       </defs>\n       <use xlink:href=\"#DejaVuSans-49\"/>\n       <use x=\"63.623047\" xlink:href=\"#DejaVuSans-56\"/>\n      </g>\n     </g>\n    </g>\n    <g id=\"ytick_4\">\n     <g id=\"line2d_12\">\n      <g>\n       <use style=\"stroke:#000000;stroke-width:0.8;\" x=\"40.603125\" xlink:href=\"#m3dca6ad404\" y=\"135.481944\"/>\n      </g>\n     </g>\n     <g id=\"text_13\">\n      <!-- 19 -->\n      <g transform=\"translate(20.878125 139.281163)scale(0.1 -0.1)\">\n       <defs>\n        <path d=\"M 10.984375 1.515625 \nL 10.984375 10.5 \nQ 14.703125 8.734375 18.5 7.8125 \nQ 22.3125 6.890625 25.984375 6.890625 \nQ 35.75 6.890625 40.890625 13.453125 \nQ 46.046875 20.015625 46.78125 33.40625 \nQ 43.953125 29.203125 39.59375 26.953125 \nQ 35.25 24.703125 29.984375 24.703125 \nQ 19.046875 24.703125 12.671875 31.3125 \nQ 6.296875 37.9375 6.296875 49.421875 \nQ 6.296875 60.640625 12.9375 67.421875 \nQ 19.578125 74.21875 30.609375 74.21875 \nQ 43.265625 74.21875 49.921875 64.515625 \nQ 56.59375 54.828125 56.59375 36.375 \nQ 56.59375 19.140625 48.40625 8.859375 \nQ 40.234375 -1.421875 26.421875 -1.421875 \nQ 22.703125 -1.421875 18.890625 -0.6875 \nQ 15.09375 0.046875 10.984375 1.515625 \nz\nM 30.609375 32.421875 \nQ 37.25 32.421875 41.125 36.953125 \nQ 45.015625 41.5 45.015625 49.421875 \nQ 45.015625 57.28125 41.125 61.84375 \nQ 37.25 66.40625 30.609375 66.40625 \nQ 23.96875 66.40625 20.09375 61.84375 \nQ 16.21875 57.28125 16.21875 49.421875 \nQ 16.21875 41.5 20.09375 36.953125 \nQ 23.96875 32.421875 30.609375 32.421875 \nz\n\" id=\"DejaVuSans-57\"/>\n       </defs>\n       <use xlink:href=\"#DejaVuSans-49\"/>\n       <use x=\"63.623047\" xlink:href=\"#DejaVuSans-57\"/>\n      </g>\n     </g>\n    </g>\n    <g id=\"ytick_5\">\n     <g id=\"line2d_13\">\n      <g>\n       <use style=\"stroke:#000000;stroke-width:0.8;\" x=\"40.603125\" xlink:href=\"#m3dca6ad404\" y=\"104.835013\"/>\n      </g>\n     </g>\n     <g id=\"text_14\">\n      <!-- 20 -->\n      <g transform=\"translate(20.878125 108.634232)scale(0.1 -0.1)\">\n       <use xlink:href=\"#DejaVuSans-50\"/>\n       <use x=\"63.623047\" xlink:href=\"#DejaVuSans-48\"/>\n      </g>\n     </g>\n    </g>\n    <g id=\"ytick_6\">\n     <g id=\"line2d_14\">\n      <g>\n       <use style=\"stroke:#000000;stroke-width:0.8;\" x=\"40.603125\" xlink:href=\"#m3dca6ad404\" y=\"74.188082\"/>\n      </g>\n     </g>\n     <g id=\"text_15\">\n      <!-- 21 -->\n      <g transform=\"translate(20.878125 77.987301)scale(0.1 -0.1)\">\n       <use xlink:href=\"#DejaVuSans-50\"/>\n       <use x=\"63.623047\" xlink:href=\"#DejaVuSans-49\"/>\n      </g>\n     </g>\n    </g>\n    <g id=\"ytick_7\">\n     <g id=\"line2d_15\">\n      <g>\n       <use style=\"stroke:#000000;stroke-width:0.8;\" x=\"40.603125\" xlink:href=\"#m3dca6ad404\" y=\"43.541151\"/>\n      </g>\n     </g>\n     <g id=\"text_16\">\n      <!-- 22 -->\n      <g transform=\"translate(20.878125 47.34037)scale(0.1 -0.1)\">\n       <use xlink:href=\"#DejaVuSans-50\"/>\n       <use x=\"63.623047\" xlink:href=\"#DejaVuSans-50\"/>\n      </g>\n     </g>\n    </g>\n    <g id=\"text_17\">\n     <!-- stock price -->\n     <g transform=\"translate(14.798438 158.340469)rotate(-90)scale(0.1 -0.1)\">\n      <defs>\n       <path d=\"M 18.3125 70.21875 \nL 18.3125 54.6875 \nL 36.8125 54.6875 \nL 36.8125 47.703125 \nL 18.3125 47.703125 \nL 18.3125 18.015625 \nQ 18.3125 11.328125 20.140625 9.421875 \nQ 21.96875 7.515625 27.59375 7.515625 \nL 36.8125 7.515625 \nL 36.8125 0 \nL 27.59375 0 \nQ 17.1875 0 13.234375 3.875 \nQ 9.28125 7.765625 9.28125 18.015625 \nL 9.28125 47.703125 \nL 2.6875 47.703125 \nL 2.6875 54.6875 \nL 9.28125 54.6875 \nL 9.28125 70.21875 \nz\n\" id=\"DejaVuSans-116\"/>\n       <path d=\"M 30.609375 48.390625 \nQ 23.390625 48.390625 19.1875 42.75 \nQ 14.984375 37.109375 14.984375 27.296875 \nQ 14.984375 17.484375 19.15625 11.84375 \nQ 23.34375 6.203125 30.609375 6.203125 \nQ 37.796875 6.203125 41.984375 11.859375 \nQ 46.1875 17.53125 46.1875 27.296875 \nQ 46.1875 37.015625 41.984375 42.703125 \nQ 37.796875 48.390625 30.609375 48.390625 \nz\nM 30.609375 56 \nQ 42.328125 56 49.015625 48.375 \nQ 55.71875 40.765625 55.71875 27.296875 \nQ 55.71875 13.875 49.015625 6.21875 \nQ 42.328125 -1.421875 30.609375 -1.421875 \nQ 18.84375 -1.421875 12.171875 6.21875 \nQ 5.515625 13.875 5.515625 27.296875 \nQ 5.515625 40.765625 12.171875 48.375 \nQ 18.84375 56 30.609375 56 \nz\n\" id=\"DejaVuSans-111\"/>\n       <path d=\"M 48.78125 52.59375 \nL 48.78125 44.1875 \nQ 44.96875 46.296875 41.140625 47.34375 \nQ 37.3125 48.390625 33.40625 48.390625 \nQ 24.65625 48.390625 19.8125 42.84375 \nQ 14.984375 37.3125 14.984375 27.296875 \nQ 14.984375 17.28125 19.8125 11.734375 \nQ 24.65625 6.203125 33.40625 6.203125 \nQ 37.3125 6.203125 41.140625 7.25 \nQ 44.96875 8.296875 48.78125 10.40625 \nL 48.78125 2.09375 \nQ 45.015625 0.34375 40.984375 -0.53125 \nQ 36.96875 -1.421875 32.421875 -1.421875 \nQ 20.0625 -1.421875 12.78125 6.34375 \nQ 5.515625 14.109375 5.515625 27.296875 \nQ 5.515625 40.671875 12.859375 48.328125 \nQ 20.21875 56 33.015625 56 \nQ 37.15625 56 41.109375 55.140625 \nQ 45.0625 54.296875 48.78125 52.59375 \nz\n\" id=\"DejaVuSans-99\"/>\n       <path d=\"M 9.078125 75.984375 \nL 18.109375 75.984375 \nL 18.109375 31.109375 \nL 44.921875 54.6875 \nL 56.390625 54.6875 \nL 27.390625 29.109375 \nL 57.625 0 \nL 45.90625 0 \nL 18.109375 26.703125 \nL 18.109375 0 \nL 9.078125 0 \nz\n\" id=\"DejaVuSans-107\"/>\n       <path id=\"DejaVuSans-32\"/>\n       <path d=\"M 18.109375 8.203125 \nL 18.109375 -20.796875 \nL 9.078125 -20.796875 \nL 9.078125 54.6875 \nL 18.109375 54.6875 \nL 18.109375 46.390625 \nQ 20.953125 51.265625 25.265625 53.625 \nQ 29.59375 56 35.59375 56 \nQ 45.5625 56 51.78125 48.09375 \nQ 58.015625 40.1875 58.015625 27.296875 \nQ 58.015625 14.40625 51.78125 6.484375 \nQ 45.5625 -1.421875 35.59375 -1.421875 \nQ 29.59375 -1.421875 25.265625 0.953125 \nQ 20.953125 3.328125 18.109375 8.203125 \nz\nM 48.6875 27.296875 \nQ 48.6875 37.203125 44.609375 42.84375 \nQ 40.53125 48.484375 33.40625 48.484375 \nQ 26.265625 48.484375 22.1875 42.84375 \nQ 18.109375 37.203125 18.109375 27.296875 \nQ 18.109375 17.390625 22.1875 11.75 \nQ 26.265625 6.109375 33.40625 6.109375 \nQ 40.53125 6.109375 44.609375 11.75 \nQ 48.6875 17.390625 48.6875 27.296875 \nz\n\" id=\"DejaVuSans-112\"/>\n       <path d=\"M 41.109375 46.296875 \nQ 39.59375 47.171875 37.8125 47.578125 \nQ 36.03125 48 33.890625 48 \nQ 26.265625 48 22.1875 43.046875 \nQ 18.109375 38.09375 18.109375 28.8125 \nL 18.109375 0 \nL 9.078125 0 \nL 9.078125 54.6875 \nL 18.109375 54.6875 \nL 18.109375 46.1875 \nQ 20.953125 51.171875 25.484375 53.578125 \nQ 30.03125 56 36.53125 56 \nQ 37.453125 56 38.578125 55.875 \nQ 39.703125 55.765625 41.0625 55.515625 \nz\n\" id=\"DejaVuSans-114\"/>\n       <path d=\"M 9.421875 54.6875 \nL 18.40625 54.6875 \nL 18.40625 0 \nL 9.421875 0 \nz\nM 9.421875 75.984375 \nL 18.40625 75.984375 \nL 18.40625 64.59375 \nL 9.421875 64.59375 \nz\n\" id=\"DejaVuSans-105\"/>\n       <path d=\"M 56.203125 29.59375 \nL 56.203125 25.203125 \nL 14.890625 25.203125 \nQ 15.484375 15.921875 20.484375 11.0625 \nQ 25.484375 6.203125 34.421875 6.203125 \nQ 39.59375 6.203125 44.453125 7.46875 \nQ 49.3125 8.734375 54.109375 11.28125 \nL 54.109375 2.78125 \nQ 49.265625 0.734375 44.1875 -0.34375 \nQ 39.109375 -1.421875 33.890625 -1.421875 \nQ 20.796875 -1.421875 13.15625 6.1875 \nQ 5.515625 13.8125 5.515625 26.8125 \nQ 5.515625 40.234375 12.765625 48.109375 \nQ 20.015625 56 32.328125 56 \nQ 43.359375 56 49.78125 48.890625 \nQ 56.203125 41.796875 56.203125 29.59375 \nz\nM 47.21875 32.234375 \nQ 47.125 39.59375 43.09375 43.984375 \nQ 39.0625 48.390625 32.421875 48.390625 \nQ 24.90625 48.390625 20.390625 44.140625 \nQ 15.875 39.890625 15.1875 32.171875 \nz\n\" id=\"DejaVuSans-101\"/>\n      </defs>\n      <use xlink:href=\"#DejaVuSans-115\"/>\n      <use x=\"52.099609\" xlink:href=\"#DejaVuSans-116\"/>\n      <use x=\"91.308594\" xlink:href=\"#DejaVuSans-111\"/>\n      <use x=\"152.490234\" xlink:href=\"#DejaVuSans-99\"/>\n      <use x=\"207.470703\" xlink:href=\"#DejaVuSans-107\"/>\n      <use x=\"265.380859\" xlink:href=\"#DejaVuSans-32\"/>\n      <use x=\"297.167969\" xlink:href=\"#DejaVuSans-112\"/>\n      <use x=\"360.644531\" xlink:href=\"#DejaVuSans-114\"/>\n      <use x=\"401.757812\" xlink:href=\"#DejaVuSans-105\"/>\n      <use x=\"429.541016\" xlink:href=\"#DejaVuSans-99\"/>\n      <use x=\"484.521484\" xlink:href=\"#DejaVuSans-101\"/>\n     </g>\n    </g>\n   </g>\n   <g id=\"line2d_16\">\n    <path clip-path=\"url(#p835ee68747)\" d=\"M 55.821307 105.141489 \nL 56.65518 125.981412 \nL 57.489053 75.413988 \nL 59.156799 90.86002 \nL 59.990672 61.316369 \nL 60.824545 73.268653 \nL 61.658418 82.769244 \nL 62.492291 103.609108 \nL 63.326164 91.350347 \nL 64.99391 90.860032 \nL 65.827783 71.429854 \nL 66.661656 88.285642 \nL 67.495528 81.236862 \nL 68.329401 55.186959 \nL 69.163274 98.092709 \nL 70.83102 90.737418 \nL 71.664893 96.866804 \nL 72.498766 92.882729 \nL 73.332639 117.093774 \nL 74.166512 105.447966 \nL 75.000385 89.205071 \nL 76.668131 92.392378 \nL 77.502004 124.755507 \nL 78.335877 135.481944 \nL 79.16975 142.530724 \nL 80.003623 146.208381 \nL 80.837496 158.467142 \nL 82.505242 143.756606 \nL 84.172988 159.693047 \nL 85.006861 138.240172 \nL 85.840734 146.821334 \nL 86.674607 138.546649 \nL 89.176226 134.080951 \nL 90.010099 121.077908 \nL 90.843972 94.721528 \nL 91.677845 125.674935 \nL 92.511718 109.738517 \nL 94.179464 124.203873 \nL 95.013337 110.044994 \nL 95.84721 98.399186 \nL 96.681083 94.108576 \nL 97.514956 105.447966 \nL 98.348829 91.9633 \nL 100.016575 95.395741 \nL 100.850448 32.201761 \nL 101.684321 45.686427 \nL 102.518193 97.479757 \nL 103.352066 100.544462 \nL 104.185939 102.689737 \nL 105.853685 115.684006 \nL 106.687558 123.223183 \nL 107.521431 125.981412 \nL 108.355304 138.853125 \nL 109.189177 142.530724 \nL 110.856923 147.189059 \nL 111.690796 149.395642 \nL 112.524669 163.983599 \nL 113.358542 160.918894 \nL 114.192415 168.580627 \nL 115.026288 191.565825 \nL 115.860161 209.953995 \nL 117.527907 207.25705 \nL 118.36178 194.937006 \nL 119.195653 191.259349 \nL 120.029526 196.775806 \nL 120.863399 174.097084 \nL 123.365018 167.26719 \nL 124.198891 168.580627 \nL 125.032764 163.677123 \nL 126.70051 195.856377 \nL 127.534383 178.387635 \nL 129.202129 179.858675 \nL 130.036002 194.324054 \nL 130.869875 183.29114 \nL 131.703748 170.725903 \nL 132.537621 175.016513 \nL 133.371494 167.967674 \nL 135.03924 167.967674 \nL 135.873113 171.032379 \nL 136.706986 149.88598 \nL 137.540858 151.418362 \nL 138.374731 129.659011 \nL 139.208604 134.256039 \nL 140.87635 137.933708 \nL 141.710223 167.048304 \nL 142.544096 157.854189 \nL 143.377969 151.418362 \nL 144.211842 161.838323 \nL 145.045715 144.676 \nL 146.713461 139.036976 \nL 147.547334 131.804287 \nL 148.381207 116.174403 \nL 149.21508 116.480821 \nL 150.048953 110.044994 \nL 150.882826 86.753319 \nL 152.550572 84.791918 \nL 153.384445 87.059796 \nL 154.218318 113.109699 \nL 155.052191 110.657946 \nL 155.886064 124.755507 \nL 156.719937 103.609108 \nL 158.387683 102.62843 \nL 159.221556 99.931509 \nL 160.055429 108.206194 \nL 160.889302 101.770308 \nL 161.723175 124.142554 \nL 162.557048 119.545526 \nL 164.224794 119.300345 \nL 165.058667 119.852002 \nL 165.89254 126.594306 \nL 166.726413 145.288953 \nL 167.560286 133.336668 \nL 168.394159 137.014267 \nL 170.061905 139.466031 \nL 170.895778 136.401373 \nL 172.563524 160.918894 \nL 173.397396 161.838323 \nL 174.231269 156.01539 \nL 176.732888 163.370671 \nL 177.566761 169.806532 \nL 178.400634 148.353657 \nL 179.234507 159.999465 \nL 181.736126 156.321855 \nL 182.569999 147.434228 \nL 183.403872 145.288953 \nL 184.237745 126.287888 \nL 185.071618 122.916707 \nL 185.905491 123.52966 \nL 187.573237 128.433141 \nL 188.40711 121.690802 \nL 189.240983 122.916707 \nL 190.074856 146.208381 \nL 190.908729 143.450153 \nL 191.742602 162.451217 \nL 193.410348 159.509138 \nL 194.244221 163.983599 \nL 195.078094 177.161789 \nL 195.911967 185.742892 \nL 196.74584 201.372834 \nL 197.579713 196.469329 \nL 199.247459 191.810983 \nL 200.081332 174.097084 \nL 200.915205 178.081159 \nL 201.749078 158.160666 \nL 202.582951 151.111886 \nL 203.416824 137.62722 \nL 205.08457 138.362763 \nL 205.918443 118.013203 \nL 206.752316 126.287888 \nL 207.586189 129.659011 \nL 208.420061 121.077908 \nL 209.253934 132.417239 \nL 210.92168 129.47516 \nL 211.755553 133.030192 \nL 212.589426 127.207259 \nL 213.423299 129.965487 \nL 214.257172 99.625033 \nL 215.091045 114.642022 \nL 216.758791 110.474037 \nL 217.592664 125.061983 \nL 218.426537 132.723716 \nL 219.26041 160.918894 \nL 220.094283 154.176591 \nL 220.928156 172.564702 \nL 222.595902 167.741606 \nL 223.429775 183.904092 \nL 224.263648 202.905215 \nL 225.097521 227.11626 \nL 225.931394 213.631594 \nL 226.765267 213.938071 \nL 228.433013 194.569235 \nL 229.266886 207.502243 \nL 230.100759 190.952872 \nL 230.934632 188.194644 \nL 231.768505 199.534034 \nL 232.602378 177.774683 \nL 234.270124 178.510226 \nL 235.103997 195.243483 \nL 235.93787 191.259349 \nL 236.771743 204.744015 \nL 237.605616 191.259349 \nL 238.439489 194.63053 \nL 240.107235 192.423947 \nL 240.941108 177.468265 \nL 241.774981 165.209446 \nL 242.608854 173.177655 \nL 243.442726 176.446658 \nL 244.276599 173.177655 \nL 245.944345 173.913198 \nL 246.778218 180.839388 \nL 247.612091 185.129998 \nL 248.445964 195.243483 \nL 249.279837 229.874489 \nL 250.11371 213.938071 \nL 251.781456 222.764402 \nL 252.615329 211.179842 \nL 253.449202 214.551023 \nL 254.283075 203.824586 \nL 255.116948 176.855312 \nL 255.950821 196.775806 \nL 257.618567 190.891601 \nL 258.45244 189.114073 \nL 259.286313 186.968797 \nL 260.120186 196.162853 \nL 260.954059 189.727026 \nL 261.787932 197.695235 \nL 263.455678 206.031204 \nL 264.289551 201.066357 \nL 265.123424 203.211633 \nL 265.957297 191.565825 \nL 266.79117 198.614605 \nL 269.292789 205.969887 \nL 270.126662 212.712224 \nL 270.960535 224.970984 \nL 271.794408 213.0187 \nL 272.628281 218.841575 \nL 275.1299 213.325151 \nL 275.963773 209.034566 \nL 276.797646 204.131062 \nL 278.465392 183.904092 \nL 279.299264 188.50112 \nL 280.96701 195.36605 \nL 281.800883 164.90297 \nL 282.634756 148.353657 \nL 284.302502 126.287888 \nL 285.136375 133.336668 \nL 287.637994 135.700864 \nL 288.471867 147.434228 \nL 289.30574 156.321866 \nL 290.139613 155.095961 \nL 290.973486 149.579504 \nL 292.641232 146.882606 \nL 293.475105 144.982476 \nL 294.308978 154.176591 \nL 295.142851 133.949621 \nL 295.976724 154.483067 \nL 296.810597 156.01539 \nL 298.478343 145.718019 \nL 299.312216 147.434228 \nL 300.146089 157.854189 \nL 300.979962 137.320743 \nL 301.813835 139.466019 \nL 302.647708 179.613541 \nL 304.315454 176.671415 \nL 305.149327 171.951808 \nL 305.9832 181.758817 \nL 306.817073 171.951808 \nL 307.650946 184.210569 \nL 308.484819 159.080095 \nL 310.986438 148.83523 \nL 311.820311 156.628343 \nL 312.654184 148.353657 \nL 313.488057 164.290075 \nL 314.321929 148.96661 \nL 315.989675 148.231067 \nL 316.823548 155.708914 \nL 317.657421 164.290075 \nL 318.491294 129.352534 \nL 319.325167 138.240172 \nL 320.15904 150.498933 \nL 321.826786 147.066492 \nL 322.660659 139.772496 \nL 324.328405 145.288953 \nL 325.162278 146.208381 \nL 325.996151 136.401373 \nL 327.663897 130.026806 \nL 328.49777 133.336668 \nL 329.331643 149.88598 \nL 330.165516 129.659011 \nL 330.999389 126.287888 \nL 331.833262 141.611354 \nL 333.501008 141.611354 \nL 334.334881 136.707849 \nL 335.168754 140.078972 \nL 336.002627 149.88598 \nL 336.8365 169.500056 \nL 337.670373 164.596552 \nL 339.338119 170.480757 \nL 340.171992 166.128875 \nL 341.005865 167.35478 \nL 341.839738 159.080095 \nL 343.507484 129.965487 \nL 345.17523 131.926889 \nL 346.009103 128.433164 \nL 346.842976 141.917771 \nL 347.676849 142.224248 \nL 348.510722 132.723716 \nL 351.01234 138.502833 \nL 351.846213 149.273086 \nL 352.680086 151.111886 \nL 353.513959 151.418362 \nL 354.347832 170.725903 \nL 355.181705 185.129998 \nL 356.849451 180.962013 \nL 357.683324 198.001711 \nL 358.517197 205.356967 \nL 359.35107 198.614605 \nL 360.184943 201.985786 \nL 360.184943 201.985786 \n\" style=\"fill:none;stroke:#1f77b4;stroke-linecap:square;stroke-width:1.5;\"/>\n   </g>\n   <g id=\"line2d_17\">\n    <path clip-path=\"url(#p835ee68747)\" d=\"M 55.821307 129.083599 \nL 56.65518 114.490527 \nL 57.489053 121.707973 \nL 58.322926 85.817079 \nL 59.156799 94.041445 \nL 59.990672 96.689238 \nL 60.824545 68.052727 \nL 61.658418 74.40727 \nL 62.492291 77.584953 \nL 63.326164 93.671083 \nL 64.160037 90.717662 \nL 64.99391 92.604231 \nL 65.827783 91.962464 \nL 66.661656 72.967854 \nL 67.495528 90.099854 \nL 68.329401 80.31754 \nL 69.163274 72.948042 \nL 69.997147 96.386833 \nL 70.83102 90.251855 \nL 71.664893 90.847925 \nL 72.498766 90.115867 \nL 73.332639 92.082005 \nL 74.166512 110.963857 \nL 75.000385 101.809329 \nL 75.834258 91.270334 \nL 76.668131 91.782849 \nL 77.502004 92.866772 \nL 78.335877 122.440727 \nL 80.003623 143.177991 \nL 81.671369 153.670439 \nL 83.339115 141.828396 \nL 84.172988 148.581173 \nL 85.006861 152.895942 \nL 85.840734 138.879191 \nL 86.674607 145.954052 \nL 87.50848 136.32456 \nL 88.342353 135.628186 \nL 89.176226 134.288814 \nL 90.010099 134.195534 \nL 90.843972 119.174531 \nL 91.677845 101.258887 \nL 92.511718 125.178136 \nL 93.345591 112.004768 \nL 94.179464 120.049948 \nL 95.013337 126.669732 \nL 95.84721 110.252147 \nL 96.681083 98.702835 \nL 97.514956 98.362606 \nL 98.348829 103.744009 \nL 99.182702 94.532434 \nL 100.016575 98.314964 \nL 100.850448 91.625865 \nL 101.684321 46.086 \nL 102.518193 53.292388 \nL 103.352066 93.617983 \nL 104.185939 96.946735 \nL 105.019812 101.068734 \nL 105.853685 106.87092 \nL 106.687558 109.061722 \nL 107.521431 113.317272 \nL 108.355304 122.27778 \nL 109.189177 133.693262 \nL 110.02305 131.147515 \nL 110.856923 137.716776 \nL 111.690796 140.050341 \nL 112.524669 145.816995 \nL 113.358542 155.464762 \nL 114.192415 155.949904 \nL 115.860161 193.848231 \nL 116.694034 206.028428 \nL 117.527907 204.834305 \nL 118.36178 202.061357 \nL 119.195653 190.533879 \nL 120.029526 191.255191 \nL 120.863399 191.706052 \nL 121.697272 174.72627 \nL 122.531145 174.842713 \nL 123.365018 170.652324 \nL 124.198891 169.079707 \nL 125.032764 172.449186 \nL 125.866637 167.967969 \nL 127.534383 192.197427 \nL 128.368256 179.06667 \nL 129.202129 181.120688 \nL 130.036002 181.097893 \nL 130.869875 191.663665 \nL 131.703748 181.370693 \nL 132.537621 173.710689 \nL 133.371494 176.481537 \nL 134.205367 169.347859 \nL 135.03924 171.691378 \nL 135.873113 170.683345 \nL 136.706986 175.199368 \nL 137.540858 157.651978 \nL 138.374731 152.293543 \nL 139.208604 135.554595 \nL 140.042477 138.688051 \nL 140.87635 140.167269 \nL 141.710223 141.288285 \nL 142.544096 163.046919 \nL 143.377969 154.565213 \nL 144.211842 153.036113 \nL 145.045715 163.001398 \nL 145.879588 145.07131 \nL 146.713461 144.812746 \nL 147.547334 142.273107 \nL 148.381207 133.850197 \nL 149.21508 116.610576 \nL 150.048953 119.413754 \nL 150.882826 108.929181 \nL 151.716699 92.713561 \nL 152.550572 93.39956 \nL 153.384445 89.902932 \nL 154.218318 89.869208 \nL 155.052191 111.548125 \nL 155.886064 111.671242 \nL 156.719937 125.727727 \nL 157.55381 103.552516 \nL 158.387683 104.331799 \nL 159.221556 103.966215 \nL 160.055429 98.590379 \nL 160.889302 109.109901 \nL 161.723175 104.237423 \nL 162.557048 121.676963 \nL 163.390921 117.427496 \nL 164.224794 117.822503 \nL 165.058667 117.316675 \nL 165.89254 116.356692 \nL 166.726413 130.291597 \nL 167.560286 141.513484 \nL 168.394159 133.144644 \nL 169.228032 137.492587 \nL 170.061905 136.89992 \nL 170.895778 137.646836 \nL 171.729651 141.071565 \nL 173.397396 160.590773 \nL 174.231269 160.905163 \nL 175.065142 156.129507 \nL 175.899015 158.257911 \nL 176.732888 159.078959 \nL 178.400634 166.448143 \nL 179.234507 148.970967 \nL 180.06838 158.633752 \nL 180.902253 157.887811 \nL 181.736126 157.591272 \nL 182.569999 157.066279 \nL 183.403872 148.313555 \nL 184.237745 141.984778 \nL 185.071618 131.932087 \nL 185.905491 127.287575 \nL 186.739364 126.545291 \nL 187.573237 129.223145 \nL 188.40711 131.301113 \nL 189.240983 126.9452 \nL 190.074856 124.516905 \nL 190.908729 142.418768 \nL 191.742602 145.57661 \nL 192.576475 159.513926 \nL 193.410348 157.850116 \nL 194.244221 157.52188 \nL 195.911967 177.464007 \nL 196.74584 189.027931 \nL 197.579713 206.824636 \nL 198.413586 197.647921 \nL 200.081332 190.510399 \nL 200.915205 171.866305 \nL 201.749078 175.930594 \nL 202.582951 163.663667 \nL 203.416824 153.645998 \nL 204.250697 145.099063 \nL 205.08457 144.912845 \nL 205.918443 141.810259 \nL 206.752316 126.794153 \nL 207.586189 134.675776 \nL 208.420061 134.10626 \nL 209.253934 129.773132 \nL 210.087807 136.853378 \nL 210.92168 134.35032 \nL 211.755553 135.026347 \nL 212.589426 135.926718 \nL 213.423299 130.694618 \nL 214.257172 130.862409 \nL 215.091045 103.54726 \nL 215.924918 113.909759 \nL 216.758791 112.285371 \nL 217.592664 110.025373 \nL 218.426537 125.009635 \nL 219.26041 137.914965 \nL 220.094283 163.97219 \nL 220.928156 159.386819 \nL 221.762029 169.297695 \nL 222.595902 164.409556 \nL 223.429775 165.963808 \nL 224.263648 183.74241 \nL 225.097521 205.748557 \nL 225.931394 223.32692 \nL 226.765267 210.261513 \nL 227.59914 210.020433 \nL 228.433013 199.052113 \nL 229.266886 190.539873 \nL 230.100759 204.698532 \nL 230.934632 188.542939 \nL 232.602378 200.035926 \nL 233.436251 180.678384 \nL 234.270124 184.603857 \nL 235.103997 181.838707 \nL 235.93787 198.740922 \nL 236.771743 192.904277 \nL 237.605616 207.373713 \nL 238.439489 193.980871 \nL 239.273362 194.344882 \nL 240.107235 195.128427 \nL 240.941108 192.877072 \nL 241.774981 177.362142 \nL 242.608854 170.642048 \nL 243.442726 177.004453 \nL 244.276599 178.743053 \nL 245.110472 176.748083 \nL 245.944345 177.021518 \nL 246.778218 176.550254 \nL 247.612091 178.359977 \nL 248.445964 188.095219 \nL 249.279837 204.238209 \nL 250.11371 227.190743 \nL 250.947583 216.142918 \nL 251.781456 220.075238 \nL 252.615329 221.851365 \nL 253.449202 214.584164 \nL 254.283075 214.866902 \nL 255.116948 202.783519 \nL 255.950821 186.514081 \nL 256.784694 199.342729 \nL 257.618567 193.507108 \nL 258.45244 192.819147 \nL 259.286313 190.174174 \nL 260.120186 190.373003 \nL 260.954059 196.963286 \nL 261.787932 191.278473 \nL 262.621805 200.372076 \nL 263.455678 203.068183 \nL 264.289551 207.540722 \nL 265.123424 201.568547 \nL 265.957297 202.755173 \nL 266.79117 191.4454 \nL 267.625043 199.631084 \nL 269.292789 203.904982 \nL 270.126662 207.603712 \nL 270.960535 212.291095 \nL 271.794408 223.477773 \nL 272.628281 213.852927 \nL 273.462154 218.634053 \nL 274.296027 216.275298 \nL 275.1299 214.379476 \nL 275.963773 213.672163 \nL 276.797646 206.677244 \nL 277.631519 209.535656 \nL 278.465392 197.138917 \nL 279.299264 187.850145 \nL 280.133137 192.324861 \nL 280.96701 193.36533 \nL 281.800883 195.681507 \nL 282.634756 164.934768 \nL 284.302502 140.512418 \nL 285.136375 132.549962 \nL 285.970248 138.684444 \nL 286.804121 137.511372 \nL 287.637994 140.337965 \nL 288.471867 141.659054 \nL 289.30574 153.029527 \nL 290.139613 158.177991 \nL 290.973486 160.268785 \nL 291.807359 153.631038 \nL 292.641232 152.698043 \nL 293.475105 153.54794 \nL 294.308978 143.742326 \nL 295.142851 156.073158 \nL 295.976724 137.098503 \nL 296.810597 153.945463 \nL 297.64447 155.487282 \nL 298.478343 149.36176 \nL 299.312216 146.604175 \nL 300.146089 141.234561 \nL 300.979962 156.017388 \nL 301.813835 141.165899 \nL 302.647708 142.497974 \nL 303.481581 172.755422 \nL 305.149327 175.26521 \nL 305.9832 173.857974 \nL 306.817073 176.441991 \nL 307.650946 170.133814 \nL 308.484819 183.712186 \nL 309.318692 160.57913 \nL 310.986438 153.716801 \nL 311.820311 148.783905 \nL 312.654184 156.816659 \nL 313.488057 150.882094 \nL 314.321929 162.888033 \nL 315.155802 151.686454 \nL 315.989675 153.018783 \nL 316.823548 152.774806 \nL 317.657421 156.4683 \nL 318.491294 159.144867 \nL 319.325167 137.896164 \nL 320.15904 145.661076 \nL 320.992913 148.624312 \nL 321.826786 148.682986 \nL 322.660659 147.993121 \nL 323.494532 140.446147 \nL 324.328405 141.752072 \nL 325.162278 144.952857 \nL 325.996151 144.146247 \nL 326.830024 138.087596 \nL 327.663897 136.403842 \nL 328.49777 132.875213 \nL 329.331643 140.360897 \nL 330.165516 146.613022 \nL 330.999389 131.408999 \nL 331.833262 127.415339 \nL 332.667135 140.010124 \nL 333.501008 140.564968 \nL 334.334881 142.155114 \nL 335.168754 140.177183 \nL 336.002627 140.251647 \nL 337.670373 168.928707 \nL 338.504246 165.130979 \nL 339.338119 168.654142 \nL 341.005865 168.140486 \nL 341.839738 166.676914 \nL 342.673611 160.08838 \nL 343.507484 143.900955 \nL 344.341357 134.591268 \nL 345.17523 135.459278 \nL 346.009103 134.710441 \nL 346.842976 135.357208 \nL 347.676849 145.024425 \nL 348.510722 141.162402 \nL 349.344594 136.599765 \nL 350.178467 139.350342 \nL 351.01234 139.941579 \nL 351.846213 143.480711 \nL 352.680086 150.781235 \nL 353.513959 152.557045 \nL 354.347832 158.353485 \nL 355.181705 176.638966 \nL 356.015578 185.571879 \nL 356.849451 183.683536 \nL 357.683324 185.348049 \nL 358.517197 201.770326 \nL 359.35107 203.105489 \nL 360.184943 199.059026 \nL 360.184943 199.059026 \n\" style=\"fill:none;stroke:#ff7f0e;stroke-linecap:square;stroke-width:1.5;\"/>\n   </g>\n   <g id=\"patch_3\">\n    <path d=\"M 40.603125 239.758125 \nL 40.603125 22.318125 \n\" style=\"fill:none;stroke:#000000;stroke-linecap:square;stroke-linejoin:miter;stroke-width:0.8;\"/>\n   </g>\n   <g id=\"patch_4\">\n    <path d=\"M 375.403125 239.758125 \nL 375.403125 22.318125 \n\" style=\"fill:none;stroke:#000000;stroke-linecap:square;stroke-linejoin:miter;stroke-width:0.8;\"/>\n   </g>\n   <g id=\"patch_5\">\n    <path d=\"M 40.603125 239.758125 \nL 375.403125 239.758125 \n\" style=\"fill:none;stroke:#000000;stroke-linecap:square;stroke-linejoin:miter;stroke-width:0.8;\"/>\n   </g>\n   <g id=\"patch_6\">\n    <path d=\"M 40.603125 22.318125 \nL 375.403125 22.318125 \n\" style=\"fill:none;stroke:#000000;stroke-linecap:square;stroke-linejoin:miter;stroke-width:0.8;\"/>\n   </g>\n   <g id=\"text_18\">\n    <!-- Denormalized Long_9 model of COG -->\n    <g transform=\"translate(99.35625 16.318125)scale(0.12 -0.12)\">\n     <defs>\n      <path d=\"M 19.671875 64.796875 \nL 19.671875 8.109375 \nL 31.59375 8.109375 \nQ 46.6875 8.109375 53.6875 14.9375 \nQ 60.6875 21.78125 60.6875 36.53125 \nQ 60.6875 51.171875 53.6875 57.984375 \nQ 46.6875 64.796875 31.59375 64.796875 \nz\nM 9.8125 72.90625 \nL 30.078125 72.90625 \nQ 51.265625 72.90625 61.171875 64.09375 \nQ 71.09375 55.28125 71.09375 36.53125 \nQ 71.09375 17.671875 61.125 8.828125 \nQ 51.171875 0 30.078125 0 \nL 9.8125 0 \nz\n\" id=\"DejaVuSans-68\"/>\n      <path d=\"M 54.890625 33.015625 \nL 54.890625 0 \nL 45.90625 0 \nL 45.90625 32.71875 \nQ 45.90625 40.484375 42.875 44.328125 \nQ 39.84375 48.1875 33.796875 48.1875 \nQ 26.515625 48.1875 22.3125 43.546875 \nQ 18.109375 38.921875 18.109375 30.90625 \nL 18.109375 0 \nL 9.078125 0 \nL 9.078125 54.6875 \nL 18.109375 54.6875 \nL 18.109375 46.1875 \nQ 21.34375 51.125 25.703125 53.5625 \nQ 30.078125 56 35.796875 56 \nQ 45.21875 56 50.046875 50.171875 \nQ 54.890625 44.34375 54.890625 33.015625 \nz\n\" id=\"DejaVuSans-110\"/>\n      <path d=\"M 52 44.1875 \nQ 55.375 50.25 60.0625 53.125 \nQ 64.75 56 71.09375 56 \nQ 79.640625 56 84.28125 50.015625 \nQ 88.921875 44.046875 88.921875 33.015625 \nL 88.921875 0 \nL 79.890625 0 \nL 79.890625 32.71875 \nQ 79.890625 40.578125 77.09375 44.375 \nQ 74.3125 48.1875 68.609375 48.1875 \nQ 61.625 48.1875 57.5625 43.546875 \nQ 53.515625 38.921875 53.515625 30.90625 \nL 53.515625 0 \nL 44.484375 0 \nL 44.484375 32.71875 \nQ 44.484375 40.625 41.703125 44.40625 \nQ 38.921875 48.1875 33.109375 48.1875 \nQ 26.21875 48.1875 22.15625 43.53125 \nQ 18.109375 38.875 18.109375 30.90625 \nL 18.109375 0 \nL 9.078125 0 \nL 9.078125 54.6875 \nL 18.109375 54.6875 \nL 18.109375 46.1875 \nQ 21.1875 51.21875 25.484375 53.609375 \nQ 29.78125 56 35.6875 56 \nQ 41.65625 56 45.828125 52.96875 \nQ 50 49.953125 52 44.1875 \nz\n\" id=\"DejaVuSans-109\"/>\n      <path d=\"M 9.421875 75.984375 \nL 18.40625 75.984375 \nL 18.40625 0 \nL 9.421875 0 \nz\n\" id=\"DejaVuSans-108\"/>\n      <path d=\"M 5.515625 54.6875 \nL 48.1875 54.6875 \nL 48.1875 46.484375 \nL 14.40625 7.171875 \nL 48.1875 7.171875 \nL 48.1875 0 \nL 4.296875 0 \nL 4.296875 8.203125 \nL 38.09375 47.515625 \nL 5.515625 47.515625 \nz\n\" id=\"DejaVuSans-122\"/>\n      <path d=\"M 9.8125 72.90625 \nL 19.671875 72.90625 \nL 19.671875 8.296875 \nL 55.171875 8.296875 \nL 55.171875 0 \nL 9.8125 0 \nz\n\" id=\"DejaVuSans-76\"/>\n      <path d=\"M 45.40625 27.984375 \nQ 45.40625 37.75 41.375 43.109375 \nQ 37.359375 48.484375 30.078125 48.484375 \nQ 22.859375 48.484375 18.828125 43.109375 \nQ 14.796875 37.75 14.796875 27.984375 \nQ 14.796875 18.265625 18.828125 12.890625 \nQ 22.859375 7.515625 30.078125 7.515625 \nQ 37.359375 7.515625 41.375 12.890625 \nQ 45.40625 18.265625 45.40625 27.984375 \nz\nM 54.390625 6.78125 \nQ 54.390625 -7.171875 48.1875 -13.984375 \nQ 42 -20.796875 29.203125 -20.796875 \nQ 24.46875 -20.796875 20.265625 -20.09375 \nQ 16.0625 -19.390625 12.109375 -17.921875 \nL 12.109375 -9.1875 \nQ 16.0625 -11.328125 19.921875 -12.34375 \nQ 23.78125 -13.375 27.78125 -13.375 \nQ 36.625 -13.375 41.015625 -8.765625 \nQ 45.40625 -4.15625 45.40625 5.171875 \nL 45.40625 9.625 \nQ 42.625 4.78125 38.28125 2.390625 \nQ 33.9375 0 27.875 0 \nQ 17.828125 0 11.671875 7.65625 \nQ 5.515625 15.328125 5.515625 27.984375 \nQ 5.515625 40.671875 11.671875 48.328125 \nQ 17.828125 56 27.875 56 \nQ 33.9375 56 38.28125 53.609375 \nQ 42.625 51.21875 45.40625 46.390625 \nL 45.40625 54.6875 \nL 54.390625 54.6875 \nz\n\" id=\"DejaVuSans-103\"/>\n      <path d=\"M 50.984375 -16.609375 \nL 50.984375 -23.578125 \nL -0.984375 -23.578125 \nL -0.984375 -16.609375 \nz\n\" id=\"DejaVuSans-95\"/>\n      <path d=\"M 37.109375 75.984375 \nL 37.109375 68.5 \nL 28.515625 68.5 \nQ 23.6875 68.5 21.796875 66.546875 \nQ 19.921875 64.59375 19.921875 59.515625 \nL 19.921875 54.6875 \nL 34.71875 54.6875 \nL 34.71875 47.703125 \nL 19.921875 47.703125 \nL 19.921875 0 \nL 10.890625 0 \nL 10.890625 47.703125 \nL 2.296875 47.703125 \nL 2.296875 54.6875 \nL 10.890625 54.6875 \nL 10.890625 58.5 \nQ 10.890625 67.625 15.140625 71.796875 \nQ 19.390625 75.984375 28.609375 75.984375 \nz\n\" id=\"DejaVuSans-102\"/>\n      <path d=\"M 64.40625 67.28125 \nL 64.40625 56.890625 \nQ 59.421875 61.53125 53.78125 63.8125 \nQ 48.140625 66.109375 41.796875 66.109375 \nQ 29.296875 66.109375 22.65625 58.46875 \nQ 16.015625 50.828125 16.015625 36.375 \nQ 16.015625 21.96875 22.65625 14.328125 \nQ 29.296875 6.6875 41.796875 6.6875 \nQ 48.140625 6.6875 53.78125 8.984375 \nQ 59.421875 11.28125 64.40625 15.921875 \nL 64.40625 5.609375 \nQ 59.234375 2.09375 53.4375 0.328125 \nQ 47.65625 -1.421875 41.21875 -1.421875 \nQ 24.65625 -1.421875 15.125 8.703125 \nQ 5.609375 18.84375 5.609375 36.375 \nQ 5.609375 53.953125 15.125 64.078125 \nQ 24.65625 74.21875 41.21875 74.21875 \nQ 47.75 74.21875 53.53125 72.484375 \nQ 59.328125 70.75 64.40625 67.28125 \nz\n\" id=\"DejaVuSans-67\"/>\n      <path d=\"M 39.40625 66.21875 \nQ 28.65625 66.21875 22.328125 58.203125 \nQ 16.015625 50.203125 16.015625 36.375 \nQ 16.015625 22.609375 22.328125 14.59375 \nQ 28.65625 6.59375 39.40625 6.59375 \nQ 50.140625 6.59375 56.421875 14.59375 \nQ 62.703125 22.609375 62.703125 36.375 \nQ 62.703125 50.203125 56.421875 58.203125 \nQ 50.140625 66.21875 39.40625 66.21875 \nz\nM 39.40625 74.21875 \nQ 54.734375 74.21875 63.90625 63.9375 \nQ 73.09375 53.65625 73.09375 36.375 \nQ 73.09375 19.140625 63.90625 8.859375 \nQ 54.734375 -1.421875 39.40625 -1.421875 \nQ 24.03125 -1.421875 14.8125 8.828125 \nQ 5.609375 19.09375 5.609375 36.375 \nQ 5.609375 53.65625 14.8125 63.9375 \nQ 24.03125 74.21875 39.40625 74.21875 \nz\n\" id=\"DejaVuSans-79\"/>\n      <path d=\"M 59.515625 10.40625 \nL 59.515625 29.984375 \nL 43.40625 29.984375 \nL 43.40625 38.09375 \nL 69.28125 38.09375 \nL 69.28125 6.78125 \nQ 63.578125 2.734375 56.6875 0.65625 \nQ 49.8125 -1.421875 42 -1.421875 \nQ 24.90625 -1.421875 15.25 8.5625 \nQ 5.609375 18.5625 5.609375 36.375 \nQ 5.609375 54.25 15.25 64.234375 \nQ 24.90625 74.21875 42 74.21875 \nQ 49.125 74.21875 55.546875 72.453125 \nQ 61.96875 70.703125 67.390625 67.28125 \nL 67.390625 56.78125 \nQ 61.921875 61.421875 55.765625 63.765625 \nQ 49.609375 66.109375 42.828125 66.109375 \nQ 29.4375 66.109375 22.71875 58.640625 \nQ 16.015625 51.171875 16.015625 36.375 \nQ 16.015625 21.625 22.71875 14.15625 \nQ 29.4375 6.6875 42.828125 6.6875 \nQ 48.046875 6.6875 52.140625 7.59375 \nQ 56.25 8.5 59.515625 10.40625 \nz\n\" id=\"DejaVuSans-71\"/>\n     </defs>\n     <use xlink:href=\"#DejaVuSans-68\"/>\n     <use x=\"77.001953\" xlink:href=\"#DejaVuSans-101\"/>\n     <use x=\"138.525391\" xlink:href=\"#DejaVuSans-110\"/>\n     <use x=\"201.904297\" xlink:href=\"#DejaVuSans-111\"/>\n     <use x=\"263.085938\" xlink:href=\"#DejaVuSans-114\"/>\n     <use x=\"302.449219\" xlink:href=\"#DejaVuSans-109\"/>\n     <use x=\"399.861328\" xlink:href=\"#DejaVuSans-97\"/>\n     <use x=\"461.140625\" xlink:href=\"#DejaVuSans-108\"/>\n     <use x=\"488.923828\" xlink:href=\"#DejaVuSans-105\"/>\n     <use x=\"516.707031\" xlink:href=\"#DejaVuSans-122\"/>\n     <use x=\"569.197266\" xlink:href=\"#DejaVuSans-101\"/>\n     <use x=\"630.720703\" xlink:href=\"#DejaVuSans-100\"/>\n     <use x=\"694.197266\" xlink:href=\"#DejaVuSans-32\"/>\n     <use x=\"725.984375\" xlink:href=\"#DejaVuSans-76\"/>\n     <use x=\"779.947266\" xlink:href=\"#DejaVuSans-111\"/>\n     <use x=\"841.128906\" xlink:href=\"#DejaVuSans-110\"/>\n     <use x=\"904.507812\" xlink:href=\"#DejaVuSans-103\"/>\n     <use x=\"967.984375\" xlink:href=\"#DejaVuSans-95\"/>\n     <use x=\"1017.984375\" xlink:href=\"#DejaVuSans-57\"/>\n     <use x=\"1081.607422\" xlink:href=\"#DejaVuSans-32\"/>\n     <use x=\"1113.394531\" xlink:href=\"#DejaVuSans-109\"/>\n     <use x=\"1210.806641\" xlink:href=\"#DejaVuSans-111\"/>\n     <use x=\"1271.988281\" xlink:href=\"#DejaVuSans-100\"/>\n     <use x=\"1335.464844\" xlink:href=\"#DejaVuSans-101\"/>\n     <use x=\"1396.988281\" xlink:href=\"#DejaVuSans-108\"/>\n     <use x=\"1424.771484\" xlink:href=\"#DejaVuSans-32\"/>\n     <use x=\"1456.558594\" xlink:href=\"#DejaVuSans-111\"/>\n     <use x=\"1517.740234\" xlink:href=\"#DejaVuSans-102\"/>\n     <use x=\"1552.945312\" xlink:href=\"#DejaVuSans-32\"/>\n     <use x=\"1584.732422\" xlink:href=\"#DejaVuSans-67\"/>\n     <use x=\"1654.556641\" xlink:href=\"#DejaVuSans-79\"/>\n     <use x=\"1733.267578\" xlink:href=\"#DejaVuSans-71\"/>\n    </g>\n   </g>\n   <g id=\"legend_1\">\n    <g id=\"patch_7\">\n     <path d=\"M 313.667187 59.674375 \nL 368.403125 59.674375 \nQ 370.403125 59.674375 370.403125 57.674375 \nL 370.403125 29.318125 \nQ 370.403125 27.318125 368.403125 27.318125 \nL 313.667187 27.318125 \nQ 311.667187 27.318125 311.667187 29.318125 \nL 311.667187 57.674375 \nQ 311.667187 59.674375 313.667187 59.674375 \nz\n\" style=\"fill:#ffffff;opacity:0.8;stroke:#cccccc;stroke-linejoin:miter;\"/>\n    </g>\n    <g id=\"line2d_18\">\n     <path d=\"M 315.667187 35.416562 \nL 335.667187 35.416562 \n\" style=\"fill:none;stroke:#1f77b4;stroke-linecap:square;stroke-width:1.5;\"/>\n    </g>\n    <g id=\"line2d_19\"/>\n    <g id=\"text_19\">\n     <!-- true -->\n     <g transform=\"translate(343.667187 38.916562)scale(0.1 -0.1)\">\n      <defs>\n       <path d=\"M 8.5 21.578125 \nL 8.5 54.6875 \nL 17.484375 54.6875 \nL 17.484375 21.921875 \nQ 17.484375 14.15625 20.5 10.265625 \nQ 23.53125 6.390625 29.59375 6.390625 \nQ 36.859375 6.390625 41.078125 11.03125 \nQ 45.3125 15.671875 45.3125 23.6875 \nL 45.3125 54.6875 \nL 54.296875 54.6875 \nL 54.296875 0 \nL 45.3125 0 \nL 45.3125 8.40625 \nQ 42.046875 3.421875 37.71875 1 \nQ 33.40625 -1.421875 27.6875 -1.421875 \nQ 18.265625 -1.421875 13.375 4.4375 \nQ 8.5 10.296875 8.5 21.578125 \nz\nM 31.109375 56 \nz\n\" id=\"DejaVuSans-117\"/>\n      </defs>\n      <use xlink:href=\"#DejaVuSans-116\"/>\n      <use x=\"39.208984\" xlink:href=\"#DejaVuSans-114\"/>\n      <use x=\"80.322266\" xlink:href=\"#DejaVuSans-117\"/>\n      <use x=\"143.701172\" xlink:href=\"#DejaVuSans-101\"/>\n     </g>\n    </g>\n    <g id=\"line2d_20\">\n     <path d=\"M 315.667187 50.094687 \nL 335.667187 50.094687 \n\" style=\"fill:none;stroke:#ff7f0e;stroke-linecap:square;stroke-width:1.5;\"/>\n    </g>\n    <g id=\"line2d_21\"/>\n    <g id=\"text_20\">\n     <!-- pred -->\n     <g transform=\"translate(343.667187 53.594687)scale(0.1 -0.1)\">\n      <use xlink:href=\"#DejaVuSans-112\"/>\n      <use x=\"63.476562\" xlink:href=\"#DejaVuSans-114\"/>\n      <use x=\"102.339844\" xlink:href=\"#DejaVuSans-101\"/>\n      <use x=\"163.863281\" xlink:href=\"#DejaVuSans-100\"/>\n     </g>\n    </g>\n   </g>\n  </g>\n </g>\n <defs>\n  <clipPath id=\"p835ee68747\">\n   <rect height=\"217.44\" width=\"334.8\" x=\"40.603125\" y=\"22.318125\"/>\n  </clipPath>\n </defs>\n</svg>\n",
      "image/png": "[encoded data removed]"
     },
     "metadata": {
      "needs_background": "light"
     }
    }
   ],
   "source": [
    "plt.plot(np.array(ytest_denorm)[:, -1], label = 'true')\n",
    "plt.plot(np.array(pred_denorm)[:, -1], label = 'pred')\n",
    "plt.xlabel('days')\n",
    "plt.ylabel('stock price')\n",
    "plt.title('Denormalized Long_{} model of '.format(n) + stock)\n",
    "plt.legend()"
   ]
  },
  {
   "cell_type": "code",
   "execution_count": null,
   "metadata": {},
   "outputs": [],
   "source": [
    "# de_normalized\n",
    "de_predicted=[]\n",
    "len_pre_win=int(len(data)/prediction_len)\n",
    "len_pre=prediction_len\n",
    "\n",
    "m=0\n",
    "for i in range(0,len_pre_win):\n",
    "    for j in range(0,len_pre):\n",
    "      de_predicted.append(prediction_seqs[i][j][0]*record_max[m]+record_min[m])  # record_max is the max difference among prices, and record_min is the minimum price\n",
    "      m=m+1\n",
    "print(de_predicted)\n",
    "\n",
    "# np.save(../stockdata/result2/sp_5dim_n01_7030.npy',de_predicted)"
   ]
  },
  {
   "cell_type": "code",
   "execution_count": null,
   "metadata": {},
   "outputs": [],
   "source": [
    "error = []\n",
    "diff=y_test.shape[0]-prediction_len*pre_win_num\n",
    "\n",
    "for i in range(y_test_ori.shape[0]-diff):\n",
    "    error.append(y_test_ori[i,] - de_predicted[i])\n",
    "    \n",
    "squaredError = []\n",
    "absError = []\n",
    "for val in error:\n",
    "    squaredError.append(val * val) \n",
    "    absError.append(abs(val))\n",
    "\n",
    "error_percent=[]\n",
    "for i in range(len(error)):\n",
    "    val=absError[i]/y_test_ori[i,]\n",
    "    val=abs(val)\n",
    "    error_percent.append(val)\n",
    "\n",
    "mean_error_percent=sum(error_percent) / len(error_percent)\n",
    "accuracy=1-mean_error_percent\n",
    "\n",
    "MSE=sum(squaredError) / len(squaredError)\n",
    "\n",
    "print(\"MSE\",MSE)\n",
    "print('accuracy',accuracy)\n",
    "print('mean_error_percent',mean_error_percent)"
   ]
  },
  {
   "cell_type": "code",
   "execution_count": null,
   "metadata": {},
   "outputs": [],
   "source": []
  }
 ]
}