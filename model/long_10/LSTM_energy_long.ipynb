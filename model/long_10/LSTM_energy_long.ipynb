{
 "metadata": {
  "language_info": {
   "codemirror_mode": {
    "name": "ipython",
    "version": 3
   },
   "file_extension": ".py",
   "mimetype": "text/x-python",
   "name": "python",
   "nbconvert_exporter": "python",
   "pygments_lexer": "ipython3",
   "version": "3.8.3"
  },
  "orig_nbformat": 2,
  "kernelspec": {
   "name": "python383jvsc74a57bd0f9520ba11fdc1099356e05d27a34ed870b487e4078e45fe1cddd0198c8b5354c",
   "display_name": "Python 3.8.3 64-bit ('base': conda)"
  }
 },
 "nbformat": 4,
 "nbformat_minor": 2,
 "cells": [
  {
   "source": [
    "# LSTM model\n",
    "from https://github.com/Xinyi6/DP-LSTM-Differential-Privacy-inspired-LSTM-for-Stock-Prediction-Using-Financial-News and make some changes\n",
    "\n",
    "### Where we can use big compute:\n",
    "- Adding noises to data\n",
    "- The computations of multi-sequence predictions\n",
    "- The calculation of MSE\n",
    "\n",
    "### Where we cannot use big compute:\n",
    "- The training of LSTM\n"
   ],
   "cell_type": "markdown",
   "metadata": {}
  },
  {
   "source": [
    "## COG Model"
   ],
   "cell_type": "markdown",
   "metadata": {}
  },
  {
   "cell_type": "code",
   "execution_count": 2,
   "metadata": {},
   "outputs": [],
   "source": [
    "import json\n",
    "import time\n",
    "import math\n",
    "import matplotlib.pyplot as plt\n",
    "import numpy as np\n",
    "import pandas as pd\n",
    "import datetime as dt\n",
    "from numpy import newaxis\n",
    "from keras.layers import Dense, Activation, Dropout, LSTM\n",
    "from keras.models import Sequential, load_model\n",
    "from keras.callbacks import EarlyStopping, ModelCheckpoint\n",
    "from sklearn.linear_model import LinearRegression\n",
    "from sklearn.ensemble import RandomForestRegressor\n",
    "from sklearn.linear_model import Ridge\n",
    "from sklearn.metrics import mean_squared_error\n",
    "\n",
    "from math import pi,sqrt,exp,pow,log\n",
    "from numpy.linalg import det, inv\n",
    "from abc import ABCMeta, abstractmethod\n",
    "from sklearn import cluster\n",
    "\n",
    "import statsmodels.api as sm \n",
    "import scipy.stats as scs\n",
    "import scipy.optimize as sco\n",
    "import scipy.interpolate as sci\n",
    "from scipy import stats\n",
    "\n",
    "import matplotlib.pyplot as plt\n",
    "\n",
    "stock = 'COG'\n",
    "industry = 'energy'"
   ]
  },
  {
   "cell_type": "code",
   "execution_count": 3,
   "metadata": {},
   "outputs": [
    {
     "output_type": "execute_result",
     "data": {
      "text/plain": [
       "                                              window  \\\n",
       "0  Row(start=datetime.datetime(2016, 3, 30, 20, 0...   \n",
       "1  Row(start=datetime.datetime(2016, 3, 31, 20, 0...   \n",
       "2  Row(start=datetime.datetime(2016, 4, 1, 20, 0)...   \n",
       "3  Row(start=datetime.datetime(2016, 4, 2, 20, 0)...   \n",
       "4  Row(start=datetime.datetime(2016, 4, 3, 20, 0)...   \n",
       "\n",
       "                                           NewsScore  \\\n",
       "0  [0.23850909090909092, 0.2385090909090909, 0.40...   \n",
       "1  [0.4082222222222222, 0.4082222222222222, 0.636...   \n",
       "2  [0.6362, 0.6362, 0.3410333333333333, 0.3410333...   \n",
       "3  [0.3410333333333333, 0.3410333333333333, 0.422...   \n",
       "4  [0.42273333333333335, 0.42273333333333335, 0.4...   \n",
       "\n",
       "                                     StockPrice_IXIC  \\\n",
       "0  [0.34565533783488345, 0.3492407538118469, 0.0,...   \n",
       "1  [0.10478549700277355, 0.9292240762279681, 0.92...   \n",
       "2  [0.9215968059407712, 0.9139695356535743, 0.906...   \n",
       "3  [0.6941069662074488, 0.6882657496584773, 0.682...   \n",
       "4  [0.6812284384177699, 0.5112921773404069, 0.196...   \n",
       "\n",
       "                                      StockPrice_COG  \\\n",
       "0  [0.3310344283277012, 0.3103442832770117, 0.0, ...   \n",
       "1  [0.0, 0.17241392918074708, 0.18620709613176337...   \n",
       "2  [0.15436295907525793, 0.16778581395051093, 0.1...   \n",
       "3  [0.1812086688257663, 0.19463152370101927, 0.20...   \n",
       "4  [0.20805437857627465, 0.2684570975050884, 0.08...   \n",
       "\n",
       "                                      StockPrice_DVN  \\\n",
       "0  [0.12231500252757865, 0.5459427526776289, 0.23...   \n",
       "1  [0.2267439217099609, 0.2906977904687976, 0.297...   \n",
       "2  [0.1910280433806068, 0.19514014560026252, 0.19...   \n",
       "3  [0.19925224781991757, 0.20336435003957332, 0.2...   \n",
       "4  [0.19337957269407688, 0.07665481607210442, 0.0...   \n",
       "\n",
       "                                      StockPrice_HFC  \n",
       "0  [0.31865551106792966, 0.8342984270004616, 0.35...  \n",
       "1  [0.3388893716131302, 0.17777768358768192, 0.14...  \n",
       "2  [0.14222214687014711, 0.10666661015260837, 0.0...  \n",
       "3  [0.06243898808139334, 0.031219494040694934, 0....  \n",
       "4  [0.0, 0.3073385665839566, 0.2110087248063779, ...  "
      ],
      "text/html": "<div>\n<style scoped>\n    .dataframe tbody tr th:only-of-type {\n        vertical-align: middle;\n    }\n\n    .dataframe tbody tr th {\n        vertical-align: top;\n    }\n\n    .dataframe thead th {\n        text-align: right;\n    }\n</style>\n<table border=\"1\" class=\"dataframe\">\n  <thead>\n    <tr style=\"text-align: right;\">\n      <th></th>\n      <th>window</th>\n      <th>NewsScore</th>\n      <th>StockPrice_IXIC</th>\n      <th>StockPrice_COG</th>\n      <th>StockPrice_DVN</th>\n      <th>StockPrice_HFC</th>\n    </tr>\n  </thead>\n  <tbody>\n    <tr>\n      <th>0</th>\n      <td>Row(start=datetime.datetime(2016, 3, 30, 20, 0...</td>\n      <td>[0.23850909090909092, 0.2385090909090909, 0.40...</td>\n      <td>[0.34565533783488345, 0.3492407538118469, 0.0,...</td>\n      <td>[0.3310344283277012, 0.3103442832770117, 0.0, ...</td>\n      <td>[0.12231500252757865, 0.5459427526776289, 0.23...</td>\n      <td>[0.31865551106792966, 0.8342984270004616, 0.35...</td>\n    </tr>\n    <tr>\n      <th>1</th>\n      <td>Row(start=datetime.datetime(2016, 3, 31, 20, 0...</td>\n      <td>[0.4082222222222222, 0.4082222222222222, 0.636...</td>\n      <td>[0.10478549700277355, 0.9292240762279681, 0.92...</td>\n      <td>[0.0, 0.17241392918074708, 0.18620709613176337...</td>\n      <td>[0.2267439217099609, 0.2906977904687976, 0.297...</td>\n      <td>[0.3388893716131302, 0.17777768358768192, 0.14...</td>\n    </tr>\n    <tr>\n      <th>2</th>\n      <td>Row(start=datetime.datetime(2016, 4, 1, 20, 0)...</td>\n      <td>[0.6362, 0.6362, 0.3410333333333333, 0.3410333...</td>\n      <td>[0.9215968059407712, 0.9139695356535743, 0.906...</td>\n      <td>[0.15436295907525793, 0.16778581395051093, 0.1...</td>\n      <td>[0.1910280433806068, 0.19514014560026252, 0.19...</td>\n      <td>[0.14222214687014711, 0.10666661015260837, 0.0...</td>\n    </tr>\n    <tr>\n      <th>3</th>\n      <td>Row(start=datetime.datetime(2016, 4, 2, 20, 0)...</td>\n      <td>[0.3410333333333333, 0.3410333333333333, 0.422...</td>\n      <td>[0.6941069662074488, 0.6882657496584773, 0.682...</td>\n      <td>[0.1812086688257663, 0.19463152370101927, 0.20...</td>\n      <td>[0.19925224781991757, 0.20336435003957332, 0.2...</td>\n      <td>[0.06243898808139334, 0.031219494040694934, 0....</td>\n    </tr>\n    <tr>\n      <th>4</th>\n      <td>Row(start=datetime.datetime(2016, 4, 3, 20, 0)...</td>\n      <td>[0.42273333333333335, 0.42273333333333335, 0.4...</td>\n      <td>[0.6812284384177699, 0.5112921773404069, 0.196...</td>\n      <td>[0.20805437857627465, 0.2684570975050884, 0.08...</td>\n      <td>[0.19337957269407688, 0.07665481607210442, 0.0...</td>\n      <td>[0.0, 0.3073385665839566, 0.2110087248063779, ...</td>\n    </tr>\n  </tbody>\n</table>\n</div>"
     },
     "metadata": {},
     "execution_count": 3
    }
   ],
   "source": [
    "# read data\n",
    "data = pd.read_csv('../../data/processed_data/data/processed_data_' + industry + '.txt')\n",
    "data.head(5)"
   ]
  },
  {
   "cell_type": "code",
   "execution_count": 4,
   "metadata": {},
   "outputs": [
    {
     "output_type": "execute_result",
     "data": {
      "text/plain": [
       "                                                 window  \\\n",
       "1831  Row(start=datetime.datetime(2021, 4, 4, 20, 0)...   \n",
       "1832  Row(start=datetime.datetime(2021, 4, 5, 20, 0)...   \n",
       "\n",
       "                                              NewsScore  \\\n",
       "1831  [0.0, 0.0, 0.5825199999999999, 0.6053, 0.99182...   \n",
       "1832  [0.5825199999999999, 0.6053, 0.991828571428571...   \n",
       "\n",
       "                                        StockPrice_IXIC  \\\n",
       "1831  [0.0, 0.24937955433519907, 0.19548878797479494...   \n",
       "1832                                                NaN   \n",
       "\n",
       "                                         StockPrice_COG  \\\n",
       "1831  [1.0, 0.8511621511328755, 0.9395344298362343, ...   \n",
       "1832                                                NaN   \n",
       "\n",
       "                                         StockPrice_DVN  \\\n",
       "1831  [1.0, 0.4476737545396579, 0.6220930941753764, ...   \n",
       "1832                                                NaN   \n",
       "\n",
       "                                         StockPrice_HFC  \n",
       "1831  [1.0, 0.7259479466253834, 0.763848017136108, 0...  \n",
       "1832                                                NaN  "
      ],
      "text/html": "<div>\n<style scoped>\n    .dataframe tbody tr th:only-of-type {\n        vertical-align: middle;\n    }\n\n    .dataframe tbody tr th {\n        vertical-align: top;\n    }\n\n    .dataframe thead th {\n        text-align: right;\n    }\n</style>\n<table border=\"1\" class=\"dataframe\">\n  <thead>\n    <tr style=\"text-align: right;\">\n      <th></th>\n      <th>window</th>\n      <th>NewsScore</th>\n      <th>StockPrice_IXIC</th>\n      <th>StockPrice_COG</th>\n      <th>StockPrice_DVN</th>\n      <th>StockPrice_HFC</th>\n    </tr>\n  </thead>\n  <tbody>\n    <tr>\n      <th>1831</th>\n      <td>Row(start=datetime.datetime(2021, 4, 4, 20, 0)...</td>\n      <td>[0.0, 0.0, 0.5825199999999999, 0.6053, 0.99182...</td>\n      <td>[0.0, 0.24937955433519907, 0.19548878797479494...</td>\n      <td>[1.0, 0.8511621511328755, 0.9395344298362343, ...</td>\n      <td>[1.0, 0.4476737545396579, 0.6220930941753764, ...</td>\n      <td>[1.0, 0.7259479466253834, 0.763848017136108, 0...</td>\n    </tr>\n    <tr>\n      <th>1832</th>\n      <td>Row(start=datetime.datetime(2021, 4, 5, 20, 0)...</td>\n      <td>[0.5825199999999999, 0.6053, 0.991828571428571...</td>\n      <td>NaN</td>\n      <td>NaN</td>\n      <td>NaN</td>\n      <td>NaN</td>\n    </tr>\n  </tbody>\n</table>\n</div>"
     },
     "metadata": {},
     "execution_count": 4
    }
   ],
   "source": [
    "data.iloc[-2:]"
   ]
  },
  {
   "cell_type": "code",
   "execution_count": 5,
   "metadata": {},
   "outputs": [],
   "source": [
    "data = data.iloc[:-1]\n",
    "# ratio of train and test data 0.8:0.2\n",
    "train_len = int(len(data)*0.8)\n",
    "test_len = len(data) - train_len"
   ]
  },
  {
   "source": [
    "### 2. Processing data"
   ],
   "cell_type": "markdown",
   "metadata": {}
  },
  {
   "cell_type": "code",
   "execution_count": 6,
   "metadata": {},
   "outputs": [],
   "source": [
    "def str2num(row):\n",
    "    l = row.split(',')\n",
    "    result = []\n",
    "    result.append(float(l[0][1:]))\n",
    "    for n in l[1:-1]:\n",
    "        result.append(float(n))\n",
    "    result.append(float(l[-1][:-1]))\n",
    "    return result"
   ]
  },
  {
   "cell_type": "code",
   "execution_count": 7,
   "metadata": {},
   "outputs": [],
   "source": [
    "df_prices_train = list(data['StockPrice_' + stock.upper()][:train_len])\n",
    "df_prices_test = list(data['StockPrice_' + stock.upper()][train_len:])\n",
    "df_senti_train = list(data['NewsScore'][:train_len])\n",
    "df_senti_test = list(data['NewsScore'][train_len:])\n"
   ]
  },
  {
   "cell_type": "code",
   "execution_count": 8,
   "metadata": {},
   "outputs": [],
   "source": [
    "# prepare train and test data\n",
    "def input_data(df_prices, df_senti):\n",
    "    x = []\n",
    "    y = []\n",
    "    min_max = []\n",
    "    for i, row in enumerate(df_prices):\n",
    "        if type(row) == float:\n",
    "            print(row)\n",
    "        prices = str2num(row)\n",
    "        senti = str2num(df_senti[i])\n",
    "        one_row = []\n",
    "        for i, p in enumerate(prices[:-3]):\n",
    "            one_row.append([p, senti[i]])\n",
    "        x.append(one_row)\n",
    "        y.append(prices[-3])\n",
    "        min_max.append(prices[-2:])\n",
    "    x = np.array(x)\n",
    "    y = np.array(y)\n",
    "    return x, y, min_max"
   ]
  },
  {
   "cell_type": "code",
   "execution_count": 9,
   "metadata": {
    "tags": []
   },
   "outputs": [
    {
     "output_type": "stream",
     "name": "stdout",
     "text": [
      "(1465, 21, 2) (1465,) (367, 21, 2) (367,)\n"
     ]
    }
   ],
   "source": [
    "x_train, y_train, min_max_train = input_data(df_prices_train, df_senti_train)\n",
    "x_test, y_test, min_max_test = input_data(df_prices_test, df_senti_test)\n",
    "print(x_train.shape, y_train.shape, x_test.shape, y_test.shape)"
   ]
  },
  {
   "source": [
    "## Convert to: 21 prices predict 10 prices"
   ],
   "cell_type": "markdown",
   "metadata": {}
  },
  {
   "cell_type": "code",
   "execution_count": 16,
   "metadata": {},
   "outputs": [],
   "source": [
    "def conv_ny(y, n, min_max):\n",
    "    '''\n",
    "    n: the number of prices to be predicted\n",
    "    '''\n",
    "    yn = []\n",
    "    size = len(y)\n",
    "    for i in range(size-(n+1)):\n",
    "        newy = [y[i]]\n",
    "        min_i = min_max[i][0]\n",
    "        max_i = min_max[i][1]\n",
    "        diff_i = max_i - min_i\n",
    "        for j in range(1, n):\n",
    "            min_j = min_max[i+j][0]\n",
    "            max_j = min_max[i+j][1]\n",
    "            diff_j = max_j - min_j\n",
    "            newy.append((y[i+j] * diff_j + min_j - min_i)/diff_i)\n",
    "        yn.append(newy)\n",
    "    return np.array(yn)"
   ]
  },
  {
   "cell_type": "code",
   "execution_count": 67,
   "metadata": {},
   "outputs": [
    {
     "output_type": "stream",
     "name": "stdout",
     "text": [
      "(1454, 21, 2) (1454, 10) (356, 21, 2) (356, 10)\n"
     ]
    }
   ],
   "source": [
    "n = 10\n",
    "y_train_10, y_test_10 = conv_ny(y_train, n, min_max_train), conv_ny(y_test, n, min_max_test)\n",
    "x_train_10 = x_train[:len(y_train_10)]\n",
    "x_test_10 = x_test[:len(y_test_10)]\n",
    "print(x_train_10.shape, y_train_10.shape, x_test_10.shape, y_test_10.shape)"
   ]
  },
  {
   "source": [
    "## Model training"
   ],
   "cell_type": "markdown",
   "metadata": {}
  },
  {
   "cell_type": "code",
   "execution_count": 68,
   "metadata": {},
   "outputs": [],
   "source": [
    "# model parameters setting to predict n prices\n",
    "split = 0.85 # train_data percent\n",
    "\n",
    "normalise= True  # normalize 3 features\n",
    "batch_size=64;\n",
    "input_dim=x_train.shape[2]  # ['price','sentiment']\n",
    "input_timesteps=x_train.shape[1] # the window length of a training data set\n",
    "neurons=10  # number of neurons in one LSTM layer\n",
    "epochs=200\n",
    "prediction_len=1  # predict one day's price\n",
    "dense_output=n  # output size of the last dense layer\n",
    "drop_out=0.1  # dropout rate"
   ]
  },
  {
   "cell_type": "code",
   "execution_count": 69,
   "metadata": {
    "tags": []
   },
   "outputs": [
    {
     "output_type": "stream",
     "name": "stdout",
     "text": [
      "Epoch 1/200\n",
      "23/23 [==============================] - 5s 23ms/step - loss: 0.3417\n",
      "Epoch 2/200\n",
      "23/23 [==============================] - 0s 17ms/step - loss: 0.2432\n",
      "Epoch 3/200\n",
      "23/23 [==============================] - 0s 17ms/step - loss: 0.1785\n",
      "Epoch 4/200\n",
      "23/23 [==============================] - 0s 15ms/step - loss: 0.1492\n",
      "Epoch 5/200\n",
      "23/23 [==============================] - 0s 14ms/step - loss: 0.1295\n",
      "Epoch 6/200\n",
      "23/23 [==============================] - 0s 13ms/step - loss: 0.1211\n",
      "Epoch 7/200\n",
      "23/23 [==============================] - 0s 13ms/step - loss: 0.1127\n",
      "Epoch 8/200\n",
      "23/23 [==============================] - 0s 13ms/step - loss: 0.1068\n",
      "Epoch 9/200\n",
      "23/23 [==============================] - 0s 13ms/step - loss: 0.1111\n",
      "Epoch 10/200\n",
      "23/23 [==============================] - 0s 13ms/step - loss: 0.1042\n",
      "Epoch 11/200\n",
      "23/23 [==============================] - 0s 13ms/step - loss: 0.1018\n",
      "Epoch 12/200\n",
      "23/23 [==============================] - 0s 17ms/step - loss: 0.0963\n",
      "Epoch 13/200\n",
      "23/23 [==============================] - 0s 17ms/step - loss: 0.0998\n",
      "Epoch 14/200\n",
      "23/23 [==============================] - 0s 16ms/step - loss: 0.0957\n",
      "Epoch 15/200\n",
      "23/23 [==============================] - 0s 16ms/step - loss: 0.0970\n",
      "Epoch 16/200\n",
      "23/23 [==============================] - 0s 16ms/step - loss: 0.0937\n",
      "Epoch 17/200\n",
      "23/23 [==============================] - 0s 16ms/step - loss: 0.0879\n",
      "Epoch 18/200\n",
      "23/23 [==============================] - 0s 16ms/step - loss: 0.0872\n",
      "Epoch 19/200\n",
      "23/23 [==============================] - 0s 18ms/step - loss: 0.0891\n",
      "Epoch 20/200\n",
      "23/23 [==============================] - 0s 16ms/step - loss: 0.0815\n",
      "Epoch 21/200\n",
      "23/23 [==============================] - 0s 15ms/step - loss: 0.0850\n",
      "Epoch 22/200\n",
      "23/23 [==============================] - 0s 14ms/step - loss: 0.0844\n",
      "Epoch 23/200\n",
      "23/23 [==============================] - 0s 15ms/step - loss: 0.0869\n",
      "Epoch 24/200\n",
      "23/23 [==============================] - 0s 15ms/step - loss: 0.0767\n",
      "Epoch 25/200\n",
      "23/23 [==============================] - 0s 14ms/step - loss: 0.0773\n",
      "Epoch 26/200\n",
      "23/23 [==============================] - 0s 14ms/step - loss: 0.0802\n",
      "Epoch 27/200\n",
      "23/23 [==============================] - 0s 14ms/step - loss: 0.0772\n",
      "Epoch 28/200\n",
      "23/23 [==============================] - 0s 14ms/step - loss: 0.0728\n",
      "Epoch 29/200\n",
      "23/23 [==============================] - 0s 14ms/step - loss: 0.0744\n",
      "Epoch 30/200\n",
      "23/23 [==============================] - 0s 15ms/step - loss: 0.0684\n",
      "Epoch 31/200\n",
      "23/23 [==============================] - 0s 17ms/step - loss: 0.0709\n",
      "Epoch 32/200\n",
      "23/23 [==============================] - 0s 17ms/step - loss: 0.0694\n",
      "Epoch 33/200\n",
      "23/23 [==============================] - 0s 14ms/step - loss: 0.0691\n",
      "Epoch 34/200\n",
      "23/23 [==============================] - 0s 15ms/step - loss: 0.0664\n",
      "Epoch 35/200\n",
      "23/23 [==============================] - 0s 15ms/step - loss: 0.0724\n",
      "Epoch 36/200\n",
      "23/23 [==============================] - 0s 15ms/step - loss: 0.0650\n",
      "Epoch 37/200\n",
      "23/23 [==============================] - 0s 15ms/step - loss: 0.0646\n",
      "Epoch 38/200\n",
      "23/23 [==============================] - 0s 14ms/step - loss: 0.0611\n",
      "Epoch 39/200\n",
      "23/23 [==============================] - 0s 15ms/step - loss: 0.0610\n",
      "Epoch 40/200\n",
      "23/23 [==============================] - 0s 15ms/step - loss: 0.0625\n",
      "Epoch 41/200\n",
      "23/23 [==============================] - 0s 15ms/step - loss: 0.0638\n",
      "Epoch 42/200\n",
      "23/23 [==============================] - 0s 15ms/step - loss: 0.0643\n",
      "Epoch 43/200\n",
      "23/23 [==============================] - 0s 15ms/step - loss: 0.0622\n",
      "Epoch 44/200\n",
      "23/23 [==============================] - 0s 14ms/step - loss: 0.0590\n",
      "Epoch 45/200\n",
      "23/23 [==============================] - 0s 17ms/step - loss: 0.0633\n",
      "Epoch 46/200\n",
      "23/23 [==============================] - 0s 16ms/step - loss: 0.0627\n",
      "Epoch 47/200\n",
      "23/23 [==============================] - 0s 14ms/step - loss: 0.0607\n",
      "Epoch 48/200\n",
      "23/23 [==============================] - 0s 16ms/step - loss: 0.0584\n",
      "Epoch 49/200\n",
      "23/23 [==============================] - 0s 15ms/step - loss: 0.0581\n",
      "Epoch 50/200\n",
      "23/23 [==============================] - 0s 15ms/step - loss: 0.0590\n",
      "Epoch 51/200\n",
      "23/23 [==============================] - 0s 15ms/step - loss: 0.0598\n",
      "Epoch 52/200\n",
      "23/23 [==============================] - 0s 15ms/step - loss: 0.0615\n",
      "Epoch 53/200\n",
      "23/23 [==============================] - 0s 15ms/step - loss: 0.0579\n",
      "Epoch 54/200\n",
      "23/23 [==============================] - 0s 15ms/step - loss: 0.0597\n",
      "Epoch 55/200\n",
      "23/23 [==============================] - 0s 15ms/step - loss: 0.0622\n",
      "Epoch 56/200\n",
      "23/23 [==============================] - 0s 15ms/step - loss: 0.0580\n",
      "Epoch 57/200\n",
      "23/23 [==============================] - 0s 14ms/step - loss: 0.0575\n",
      "Epoch 58/200\n",
      "23/23 [==============================] - 0s 16ms/step - loss: 0.0599\n",
      "Epoch 59/200\n",
      "23/23 [==============================] - 0s 15ms/step - loss: 0.0586\n",
      "Epoch 60/200\n",
      "23/23 [==============================] - 0s 14ms/step - loss: 0.0551\n",
      "Epoch 61/200\n",
      "23/23 [==============================] - 0s 15ms/step - loss: 0.0628\n",
      "Epoch 62/200\n",
      "23/23 [==============================] - 0s 16ms/step - loss: 0.0576\n",
      "Epoch 63/200\n",
      "23/23 [==============================] - 0s 16ms/step - loss: 0.0570\n",
      "Epoch 64/200\n",
      "23/23 [==============================] - 0s 14ms/step - loss: 0.0585\n",
      "Epoch 65/200\n",
      "23/23 [==============================] - 0s 15ms/step - loss: 0.0567\n",
      "Epoch 66/200\n",
      "23/23 [==============================] - 0s 15ms/step - loss: 0.0571\n",
      "Epoch 67/200\n",
      "23/23 [==============================] - 0s 15ms/step - loss: 0.0587\n",
      "Epoch 68/200\n",
      "23/23 [==============================] - 0s 16ms/step - loss: 0.0586\n",
      "Epoch 69/200\n",
      "23/23 [==============================] - 0s 14ms/step - loss: 0.0522\n",
      "Epoch 70/200\n",
      "23/23 [==============================] - 0s 15ms/step - loss: 0.0560\n",
      "Epoch 71/200\n",
      "23/23 [==============================] - 0s 15ms/step - loss: 0.0584\n",
      "Epoch 72/200\n",
      "23/23 [==============================] - 0s 15ms/step - loss: 0.0551\n",
      "Epoch 73/200\n",
      "23/23 [==============================] - 0s 15ms/step - loss: 0.0527\n",
      "Epoch 74/200\n",
      "23/23 [==============================] - 0s 15ms/step - loss: 0.0555\n",
      "Epoch 75/200\n",
      "23/23 [==============================] - 0s 18ms/step - loss: 0.0566\n",
      "Epoch 76/200\n",
      "23/23 [==============================] - 0s 19ms/step - loss: 0.0567\n",
      "Epoch 77/200\n",
      "23/23 [==============================] - 0s 17ms/step - loss: 0.0584\n",
      "Epoch 78/200\n",
      "23/23 [==============================] - 0s 15ms/step - loss: 0.0565\n",
      "Epoch 79/200\n",
      "23/23 [==============================] - 0s 16ms/step - loss: 0.0535\n",
      "Epoch 80/200\n",
      "23/23 [==============================] - 0s 15ms/step - loss: 0.0559\n",
      "Epoch 81/200\n",
      "23/23 [==============================] - 0s 15ms/step - loss: 0.0549\n",
      "Epoch 82/200\n",
      "23/23 [==============================] - 0s 15ms/step - loss: 0.0564\n",
      "Epoch 83/200\n",
      "23/23 [==============================] - 0s 15ms/step - loss: 0.0560\n",
      "Epoch 84/200\n",
      "23/23 [==============================] - 0s 15ms/step - loss: 0.0512\n",
      "Epoch 85/200\n",
      "23/23 [==============================] - 0s 15ms/step - loss: 0.0535\n",
      "Epoch 86/200\n",
      "23/23 [==============================] - 0s 15ms/step - loss: 0.0524\n",
      "Epoch 87/200\n",
      "23/23 [==============================] - 0s 15ms/step - loss: 0.0495\n",
      "Epoch 88/200\n",
      "23/23 [==============================] - 0s 18ms/step - loss: 0.0568\n",
      "Epoch 89/200\n",
      "23/23 [==============================] - 0s 15ms/step - loss: 0.0526\n",
      "Epoch 90/200\n",
      "23/23 [==============================] - 0s 16ms/step - loss: 0.0557\n",
      "Epoch 91/200\n",
      "23/23 [==============================] - 0s 17ms/step - loss: 0.0551\n",
      "Epoch 92/200\n",
      "23/23 [==============================] - 0s 15ms/step - loss: 0.0537\n",
      "Epoch 93/200\n",
      "23/23 [==============================] - 0s 15ms/step - loss: 0.0575\n",
      "Epoch 94/200\n",
      "23/23 [==============================] - 0s 17ms/step - loss: 0.0503\n",
      "Epoch 95/200\n",
      "23/23 [==============================] - 0s 15ms/step - loss: 0.0500\n",
      "Epoch 96/200\n",
      "23/23 [==============================] - 0s 15ms/step - loss: 0.0498\n",
      "Epoch 97/200\n",
      "23/23 [==============================] - 0s 14ms/step - loss: 0.0466\n",
      "Epoch 98/200\n",
      "23/23 [==============================] - 0s 15ms/step - loss: 0.0544\n",
      "Epoch 99/200\n",
      "23/23 [==============================] - 0s 15ms/step - loss: 0.0534\n",
      "Epoch 100/200\n",
      "23/23 [==============================] - 0s 15ms/step - loss: 0.0536\n",
      "Epoch 101/200\n",
      "23/23 [==============================] - 0s 17ms/step - loss: 0.0551\n",
      "Epoch 102/200\n",
      "23/23 [==============================] - 0s 15ms/step - loss: 0.0510\n",
      "Epoch 103/200\n",
      "23/23 [==============================] - 0s 14ms/step - loss: 0.0553\n",
      "Epoch 104/200\n",
      "23/23 [==============================] - 0s 16ms/step - loss: 0.0559\n",
      "Epoch 105/200\n",
      "23/23 [==============================] - 0s 16ms/step - loss: 0.0521\n",
      "Epoch 106/200\n",
      "23/23 [==============================] - 0s 15ms/step - loss: 0.0558\n",
      "Epoch 107/200\n",
      "23/23 [==============================] - 0s 15ms/step - loss: 0.0511\n",
      "Epoch 108/200\n",
      "23/23 [==============================] - 0s 15ms/step - loss: 0.0508\n",
      "Epoch 109/200\n",
      "23/23 [==============================] - 0s 15ms/step - loss: 0.0507\n",
      "Epoch 110/200\n",
      "23/23 [==============================] - 0s 15ms/step - loss: 0.0523\n",
      "Epoch 111/200\n",
      "23/23 [==============================] - 0s 15ms/step - loss: 0.0539\n",
      "Epoch 112/200\n",
      "23/23 [==============================] - 0s 15ms/step - loss: 0.0512\n",
      "Epoch 113/200\n",
      "23/23 [==============================] - 0s 15ms/step - loss: 0.0531\n",
      "Epoch 114/200\n",
      "23/23 [==============================] - 0s 15ms/step - loss: 0.0505\n",
      "Epoch 115/200\n",
      "23/23 [==============================] - 0s 17ms/step - loss: 0.0531\n",
      "Epoch 116/200\n",
      "23/23 [==============================] - 0s 15ms/step - loss: 0.0521\n",
      "Epoch 117/200\n",
      "23/23 [==============================] - 0s 15ms/step - loss: 0.0474\n",
      "Epoch 118/200\n",
      "23/23 [==============================] - 0s 15ms/step - loss: 0.0485\n",
      "Epoch 119/200\n",
      "23/23 [==============================] - 0s 16ms/step - loss: 0.0522\n",
      "Epoch 120/200\n",
      "23/23 [==============================] - 0s 15ms/step - loss: 0.0517\n",
      "Epoch 121/200\n",
      "23/23 [==============================] - 0s 15ms/step - loss: 0.0507\n",
      "Epoch 122/200\n",
      "23/23 [==============================] - 0s 15ms/step - loss: 0.0532\n",
      "Epoch 123/200\n",
      "23/23 [==============================] - 0s 15ms/step - loss: 0.0492\n",
      "Epoch 124/200\n",
      "23/23 [==============================] - 0s 14ms/step - loss: 0.0535\n",
      "Epoch 125/200\n",
      "23/23 [==============================] - 0s 15ms/step - loss: 0.0494\n",
      "Epoch 126/200\n",
      "23/23 [==============================] - 0s 15ms/step - loss: 0.0488\n",
      "Epoch 127/200\n",
      "23/23 [==============================] - 0s 15ms/step - loss: 0.0474\n",
      "Epoch 128/200\n",
      "23/23 [==============================] - 0s 15ms/step - loss: 0.0479\n",
      "Epoch 129/200\n",
      "23/23 [==============================] - 0s 15ms/step - loss: 0.0495\n",
      "Epoch 130/200\n",
      "23/23 [==============================] - 0s 15ms/step - loss: 0.0496\n",
      "Epoch 131/200\n",
      "23/23 [==============================] - 0s 17ms/step - loss: 0.0513\n",
      "Epoch 132/200\n",
      "23/23 [==============================] - 0s 15ms/step - loss: 0.0521\n",
      "Epoch 133/200\n",
      "23/23 [==============================] - 0s 16ms/step - loss: 0.0481\n",
      "Epoch 134/200\n",
      "23/23 [==============================] - 0s 17ms/step - loss: 0.0478\n",
      "Epoch 135/200\n",
      "23/23 [==============================] - 0s 15ms/step - loss: 0.0497\n",
      "Epoch 136/200\n",
      "23/23 [==============================] - 0s 15ms/step - loss: 0.0501\n",
      "Epoch 137/200\n",
      "23/23 [==============================] - 0s 15ms/step - loss: 0.0486\n",
      "Epoch 138/200\n",
      "23/23 [==============================] - 0s 14ms/step - loss: 0.0478\n",
      "Epoch 139/200\n",
      "23/23 [==============================] - 0s 15ms/step - loss: 0.0493\n",
      "Epoch 140/200\n",
      "23/23 [==============================] - 0s 16ms/step - loss: 0.0490\n",
      "Epoch 141/200\n",
      "23/23 [==============================] - 0s 15ms/step - loss: 0.0482\n",
      "Epoch 142/200\n",
      "23/23 [==============================] - 0s 15ms/step - loss: 0.0489\n",
      "Epoch 143/200\n",
      "23/23 [==============================] - 0s 15ms/step - loss: 0.0530\n",
      "Epoch 144/200\n",
      "23/23 [==============================] - 0s 19ms/step - loss: 0.0502\n",
      "Epoch 145/200\n",
      "23/23 [==============================] - 0s 18ms/step - loss: 0.0485\n",
      "Epoch 146/200\n",
      "23/23 [==============================] - 0s 15ms/step - loss: 0.0472\n",
      "Epoch 147/200\n",
      "23/23 [==============================] - 0s 17ms/step - loss: 0.0497\n",
      "Epoch 148/200\n",
      "23/23 [==============================] - 0s 16ms/step - loss: 0.0479\n",
      "Epoch 149/200\n",
      "23/23 [==============================] - 0s 15ms/step - loss: 0.0518\n",
      "Epoch 150/200\n",
      "23/23 [==============================] - 0s 15ms/step - loss: 0.0515\n",
      "Epoch 151/200\n",
      "23/23 [==============================] - 0s 15ms/step - loss: 0.0506\n",
      "Epoch 152/200\n",
      "23/23 [==============================] - 0s 14ms/step - loss: 0.0467\n",
      "Epoch 153/200\n",
      "23/23 [==============================] - 0s 14ms/step - loss: 0.0487\n",
      "Epoch 154/200\n",
      "23/23 [==============================] - 0s 15ms/step - loss: 0.0489\n",
      "Epoch 155/200\n",
      "23/23 [==============================] - 0s 15ms/step - loss: 0.0501\n",
      "Epoch 156/200\n",
      "23/23 [==============================] - 0s 16ms/step - loss: 0.0498\n",
      "Epoch 157/200\n",
      "23/23 [==============================] - 0s 17ms/step - loss: 0.0486\n",
      "Epoch 158/200\n",
      "23/23 [==============================] - 0s 16ms/step - loss: 0.0481\n",
      "Epoch 159/200\n",
      "23/23 [==============================] - 0s 16ms/step - loss: 0.0499\n",
      "Epoch 160/200\n",
      "23/23 [==============================] - 0s 15ms/step - loss: 0.0466\n",
      "Epoch 161/200\n",
      "23/23 [==============================] - 0s 15ms/step - loss: 0.0498\n",
      "Epoch 162/200\n",
      "23/23 [==============================] - 0s 17ms/step - loss: 0.0452\n",
      "Epoch 163/200\n",
      "23/23 [==============================] - 0s 17ms/step - loss: 0.0494\n",
      "Epoch 164/200\n",
      "23/23 [==============================] - 0s 15ms/step - loss: 0.0478\n",
      "Epoch 165/200\n",
      "23/23 [==============================] - 0s 15ms/step - loss: 0.0455\n",
      "Epoch 166/200\n",
      "23/23 [==============================] - 0s 15ms/step - loss: 0.0477\n",
      "Epoch 167/200\n",
      "23/23 [==============================] - 0s 14ms/step - loss: 0.0461\n",
      "Epoch 168/200\n",
      "23/23 [==============================] - 0s 19ms/step - loss: 0.0467\n",
      "Epoch 169/200\n",
      "23/23 [==============================] - 0s 15ms/step - loss: 0.0433\n",
      "Epoch 170/200\n",
      "23/23 [==============================] - 0s 15ms/step - loss: 0.0444\n",
      "Epoch 171/200\n",
      "23/23 [==============================] - 0s 15ms/step - loss: 0.0426\n",
      "Epoch 172/200\n",
      "23/23 [==============================] - 0s 17ms/step - loss: 0.0480\n",
      "Epoch 173/200\n",
      "23/23 [==============================] - 0s 14ms/step - loss: 0.0491\n",
      "Epoch 174/200\n",
      "23/23 [==============================] - 0s 15ms/step - loss: 0.0437\n",
      "Epoch 175/200\n",
      "23/23 [==============================] - 0s 15ms/step - loss: 0.0467\n",
      "Epoch 176/200\n",
      "23/23 [==============================] - 0s 16ms/step - loss: 0.0455\n",
      "Epoch 177/200\n",
      "23/23 [==============================] - 0s 16ms/step - loss: 0.0433\n",
      "Epoch 178/200\n",
      "23/23 [==============================] - 0s 15ms/step - loss: 0.0477\n",
      "Epoch 179/200\n",
      "23/23 [==============================] - 0s 15ms/step - loss: 0.0469\n",
      "Epoch 180/200\n",
      "23/23 [==============================] - 0s 15ms/step - loss: 0.0440\n",
      "Epoch 181/200\n",
      "23/23 [==============================] - 0s 15ms/step - loss: 0.0465\n",
      "Epoch 182/200\n",
      "23/23 [==============================] - 0s 15ms/step - loss: 0.0513\n",
      "Epoch 183/200\n",
      "23/23 [==============================] - 0s 15ms/step - loss: 0.0518\n",
      "Epoch 184/200\n",
      "23/23 [==============================] - 0s 18ms/step - loss: 0.0479\n",
      "Epoch 185/200\n",
      "23/23 [==============================] - 0s 15ms/step - loss: 0.0453\n",
      "Epoch 186/200\n",
      "23/23 [==============================] - 0s 15ms/step - loss: 0.0469\n",
      "Epoch 187/200\n",
      "23/23 [==============================] - 0s 17ms/step - loss: 0.0477\n",
      "Epoch 188/200\n",
      "23/23 [==============================] - 0s 15ms/step - loss: 0.0426\n",
      "Epoch 189/200\n",
      "23/23 [==============================] - 0s 16ms/step - loss: 0.0470\n",
      "Epoch 190/200\n",
      "23/23 [==============================] - 0s 16ms/step - loss: 0.0455\n",
      "Epoch 191/200\n",
      "23/23 [==============================] - 0s 16ms/step - loss: 0.0452\n",
      "Epoch 192/200\n",
      "23/23 [==============================] - 0s 15ms/step - loss: 0.0463\n",
      "Epoch 193/200\n",
      "23/23 [==============================] - 0s 15ms/step - loss: 0.0457\n",
      "Epoch 194/200\n",
      "23/23 [==============================] - 0s 15ms/step - loss: 0.0495\n",
      "Epoch 195/200\n",
      "23/23 [==============================] - 0s 15ms/step - loss: 0.0470\n",
      "Epoch 196/200\n",
      "23/23 [==============================] - 0s 15ms/step - loss: 0.0474\n",
      "Epoch 197/200\n",
      "23/23 [==============================] - 0s 15ms/step - loss: 0.0422\n",
      "Epoch 198/200\n",
      "23/23 [==============================] - 0s 15ms/step - loss: 0.0468\n",
      "Epoch 199/200\n",
      "23/23 [==============================] - 0s 18ms/step - loss: 0.0460\n",
      "Epoch 200/200\n",
      "23/23 [==============================] - 0s 15ms/step - loss: 0.0437\n"
     ]
    },
    {
     "output_type": "execute_result",
     "data": {
      "text/plain": [
       "<tensorflow.python.keras.callbacks.History at 0x7ff213b362e0>"
      ]
     },
     "metadata": {},
     "execution_count": 69
    }
   ],
   "source": [
    "# Build LSTM MODEL to predict 10 price\n",
    "model = Sequential()\n",
    "model.add(LSTM(neurons, input_shape=(input_timesteps, input_dim), return_sequences = True))\n",
    "model.add(Dropout(drop_out))\n",
    "model.add(LSTM(neurons,return_sequences = True))\n",
    "model.add(LSTM(neurons,return_sequences =False))\n",
    "model.add(Dropout(drop_out))\n",
    "model.add(Dense(dense_output, activation='linear'))\n",
    "# Compile model\n",
    "model.compile(loss='mean_squared_error',\n",
    "                optimizer='adam')\n",
    "# Fit the model\n",
    "model.fit(x_train,y_train,epochs=epochs,batch_size=batch_size)"
   ]
  },
  {
   "source": [
    "# model parameters setting to predict 1 price\n",
    "split = 0.85 # train_data percent\n",
    "\n",
    "normalise= True  # normalize 3 features\n",
    "batch_size=64;\n",
    "input_dim=2  # ['price','sentiment']\n",
    "input_timesteps=21 # the window length of a training data set\n",
    "neurons=10  # number of neurons in one LSTM layer\n",
    "epochs=50\n",
    "prediction_len=1  # predict one day's price\n",
    "dense_output=1  # output size of the last dense layer\n",
    "drop_out=0.1  # dropout rate"
   ],
   "cell_type": "code",
   "metadata": {},
   "execution_count": null,
   "outputs": []
  },
  {
   "cell_type": "code",
   "execution_count": 40,
   "metadata": {},
   "outputs": [
    {
     "output_type": "stream",
     "name": "stdout",
     "text": [
      "Epoch 1/50\n",
      "23/23 [==============================] - 4s 18ms/step - loss: 0.3322\n",
      "Epoch 2/50\n",
      "23/23 [==============================] - 0s 14ms/step - loss: 0.1387\n",
      "Epoch 3/50\n",
      "23/23 [==============================] - 0s 15ms/step - loss: 0.1351\n",
      "Epoch 4/50\n",
      "23/23 [==============================] - 0s 14ms/step - loss: 0.1297\n",
      "Epoch 5/50\n",
      "23/23 [==============================] - 0s 14ms/step - loss: 0.1153\n",
      "Epoch 6/50\n",
      "23/23 [==============================] - 0s 14ms/step - loss: 0.1018\n",
      "Epoch 7/50\n",
      "23/23 [==============================] - 0s 14ms/step - loss: 0.1047\n",
      "Epoch 8/50\n",
      "23/23 [==============================] - 0s 20ms/step - loss: 0.0945\n",
      "Epoch 9/50\n",
      "23/23 [==============================] - 0s 19ms/step - loss: 0.0956\n",
      "Epoch 10/50\n",
      "23/23 [==============================] - 0s 14ms/step - loss: 0.0926\n",
      "Epoch 11/50\n",
      "23/23 [==============================] - 0s 14ms/step - loss: 0.0907\n",
      "Epoch 12/50\n",
      "23/23 [==============================] - 0s 18ms/step - loss: 0.0854\n",
      "Epoch 13/50\n",
      "23/23 [==============================] - 0s 16ms/step - loss: 0.0856\n",
      "Epoch 14/50\n",
      "23/23 [==============================] - 0s 18ms/step - loss: 0.0832\n",
      "Epoch 15/50\n",
      "23/23 [==============================] - 0s 14ms/step - loss: 0.0811\n",
      "Epoch 16/50\n",
      "23/23 [==============================] - 0s 14ms/step - loss: 0.0837\n",
      "Epoch 17/50\n",
      "23/23 [==============================] - 0s 17ms/step - loss: 0.0853\n",
      "Epoch 18/50\n",
      "23/23 [==============================] - 0s 17ms/step - loss: 0.0815\n",
      "Epoch 19/50\n",
      "23/23 [==============================] - 0s 15ms/step - loss: 0.0866\n",
      "Epoch 20/50\n",
      "23/23 [==============================] - 0s 15ms/step - loss: 0.0837\n",
      "Epoch 21/50\n",
      "23/23 [==============================] - 0s 15ms/step - loss: 0.0799\n",
      "Epoch 22/50\n",
      "23/23 [==============================] - 0s 19ms/step - loss: 0.0778\n",
      "Epoch 23/50\n",
      "23/23 [==============================] - 0s 15ms/step - loss: 0.0810\n",
      "Epoch 24/50\n",
      "23/23 [==============================] - 0s 15ms/step - loss: 0.0816\n",
      "Epoch 25/50\n",
      "23/23 [==============================] - 0s 18ms/step - loss: 0.0747\n",
      "Epoch 26/50\n",
      "23/23 [==============================] - 0s 18ms/step - loss: 0.0784\n",
      "Epoch 27/50\n",
      "23/23 [==============================] - 0s 15ms/step - loss: 0.0768\n",
      "Epoch 28/50\n",
      "23/23 [==============================] - 0s 14ms/step - loss: 0.0771\n",
      "Epoch 29/50\n",
      "23/23 [==============================] - 0s 14ms/step - loss: 0.0756\n",
      "Epoch 30/50\n",
      "23/23 [==============================] - 0s 14ms/step - loss: 0.0742\n",
      "Epoch 31/50\n",
      "23/23 [==============================] - 0s 16ms/step - loss: 0.0740\n",
      "Epoch 32/50\n",
      "23/23 [==============================] - 0s 14ms/step - loss: 0.0683\n",
      "Epoch 33/50\n",
      "23/23 [==============================] - 0s 14ms/step - loss: 0.0689\n",
      "Epoch 34/50\n",
      "23/23 [==============================] - 0s 17ms/step - loss: 0.0701\n",
      "Epoch 35/50\n",
      "23/23 [==============================] - 0s 15ms/step - loss: 0.0739\n",
      "Epoch 36/50\n",
      "23/23 [==============================] - 0s 15ms/step - loss: 0.0705\n",
      "Epoch 37/50\n",
      "23/23 [==============================] - 0s 14ms/step - loss: 0.0721\n",
      "Epoch 38/50\n",
      "23/23 [==============================] - 0s 14ms/step - loss: 0.0695\n",
      "Epoch 39/50\n",
      "23/23 [==============================] - 0s 15ms/step - loss: 0.0665\n",
      "Epoch 40/50\n",
      "23/23 [==============================] - 0s 17ms/step - loss: 0.0683\n",
      "Epoch 41/50\n",
      "23/23 [==============================] - 0s 14ms/step - loss: 0.0681\n",
      "Epoch 42/50\n",
      "23/23 [==============================] - 0s 15ms/step - loss: 0.0620\n",
      "Epoch 43/50\n",
      "23/23 [==============================] - 0s 14ms/step - loss: 0.0692\n",
      "Epoch 44/50\n",
      "23/23 [==============================] - 0s 14ms/step - loss: 0.0615\n",
      "Epoch 45/50\n",
      "23/23 [==============================] - 0s 15ms/step - loss: 0.0618\n",
      "Epoch 46/50\n",
      "23/23 [==============================] - 0s 16ms/step - loss: 0.0599\n",
      "Epoch 47/50\n",
      "23/23 [==============================] - 0s 17ms/step - loss: 0.0622\n",
      "Epoch 48/50\n",
      "23/23 [==============================] - 0s 14ms/step - loss: 0.0636\n",
      "Epoch 49/50\n",
      "23/23 [==============================] - 0s 14ms/step - loss: 0.0617\n",
      "Epoch 50/50\n",
      "23/23 [==============================] - 0s 17ms/step - loss: 0.0600\n"
     ]
    },
    {
     "output_type": "execute_result",
     "data": {
      "text/plain": [
       "<tensorflow.python.keras.callbacks.History at 0x7fee347db7f0>"
      ]
     },
     "metadata": {},
     "execution_count": 40
    }
   ],
   "source": [
    "# Build LSTM MODEL to predict 1 price\n",
    "model = Sequential()\n",
    "model.add(LSTM(neurons, input_shape=(input_timesteps, input_dim), return_sequences = True))\n",
    "model.add(Dropout(drop_out))\n",
    "model.add(LSTM(neurons,return_sequences = True))\n",
    "model.add(LSTM(neurons,return_sequences =False))\n",
    "model.add(Dropout(drop_out))\n",
    "model.add(Dense(dense_output, activation='linear'))\n",
    "# Compile model\n",
    "model.compile(loss='mean_squared_error',\n",
    "                optimizer='adam')\n",
    "# Fit the model\n",
    "model.fit(x_train,y_train,epochs=epochs,batch_size=batch_size)"
   ]
  },
  {
   "cell_type": "code",
   "execution_count": 70,
   "metadata": {},
   "outputs": [
    {
     "output_type": "execute_result",
     "data": {
      "text/plain": [
       "'\\nfor x in x_test:\\n      temp=model.predict(curr_frame[newaxis,:,:])[0]\\n      predicted.append(temp)\\n      curr_frame = curr_frame[1:]\\n      curr_frame = np.insert(curr_frame, [window_size-2], predicted[-1], axis=0)\\n    prediction_seqs.append(predicted)\\n'"
      ]
     },
     "metadata": {},
     "execution_count": 70
    }
   ],
   "source": [
    "#multi sequence predict\n",
    "prediction_seqs = model.predict(x_test_10) # prediction data\n",
    "# !! parallelizable !!\n",
    "\n",
    "'''\n",
    "for x in x_test:\n",
    "      temp=model.predict(curr_frame[newaxis,:,:])[0]\n",
    "      predicted.append(temp)\n",
    "      curr_frame = curr_frame[1:]\n",
    "      curr_frame = np.insert(curr_frame, [window_size-2], predicted[-1], axis=0)\n",
    "    prediction_seqs.append(predicted)\n",
    "'''"
   ]
  },
  {
   "cell_type": "code",
   "execution_count": 71,
   "metadata": {},
   "outputs": [
    {
     "output_type": "execute_result",
     "data": {
      "text/plain": [
       "0.6133045950947208"
      ]
     },
     "metadata": {},
     "execution_count": 71
    }
   ],
   "source": [
    "np.sqrt(mean_squared_error(prediction_seqs, y_test_10))"
   ]
  },
  {
   "cell_type": "code",
   "execution_count": 72,
   "metadata": {},
   "outputs": [
    {
     "output_type": "execute_result",
     "data": {
      "text/plain": [
       "<matplotlib.legend.Legend at 0x7ff213edff10>"
      ]
     },
     "metadata": {},
     "execution_count": 72
    },
    {
     "output_type": "display_data",
     "data": {
      "text/plain": "<Figure size 432x288 with 1 Axes>",
      "image/svg+xml": "<?xml version=\"1.0\" encoding=\"utf-8\" standalone=\"no\"?>\n<!DOCTYPE svg PUBLIC \"-//W3C//DTD SVG 1.1//EN\"\n  \"http://www.w3.org/Graphics/SVG/1.1/DTD/svg11.dtd\">\n<!-- Created with matplotlib (https://matplotlib.org/) -->\n<svg height=\"262.19625pt\" version=\"1.1\" viewBox=\"0 0 400.523437 262.19625\" width=\"400.523437pt\" xmlns=\"http://www.w3.org/2000/svg\" xmlns:xlink=\"http://www.w3.org/1999/xlink\">\n <metadata>\n  <rdf:RDF xmlns:cc=\"http://creativecommons.org/ns#\" xmlns:dc=\"http://purl.org/dc/elements/1.1/\" xmlns:rdf=\"http://www.w3.org/1999/02/22-rdf-syntax-ns#\">\n   <cc:Work>\n    <dc:type rdf:resource=\"http://purl.org/dc/dcmitype/StillImage\"/>\n    <dc:date>2021-05-07T15:38:25.668163</dc:date>\n    <dc:format>image/svg+xml</dc:format>\n    <dc:creator>\n     <cc:Agent>\n      <dc:title>Matplotlib v3.3.3, https://matplotlib.org/</dc:title>\n     </cc:Agent>\n    </dc:creator>\n   </cc:Work>\n  </rdf:RDF>\n </metadata>\n <defs>\n  <style type=\"text/css\">*{stroke-linecap:butt;stroke-linejoin:round;}</style>\n </defs>\n <g id=\"figure_1\">\n  <g id=\"patch_1\">\n   <path d=\"M 0 262.19625 \nL 400.523437 262.19625 \nL 400.523437 0 \nL 0 0 \nz\n\" style=\"fill:none;\"/>\n  </g>\n  <g id=\"axes_1\">\n   <g id=\"patch_2\">\n    <path d=\"M 58.523438 224.64 \nL 393.323438 224.64 \nL 393.323438 7.2 \nL 58.523438 7.2 \nz\n\" style=\"fill:#ffffff;\"/>\n   </g>\n   <g id=\"matplotlib.axis_1\">\n    <g id=\"xtick_1\">\n     <g id=\"line2d_1\">\n      <defs>\n       <path d=\"M 0 0 \nL 0 3.5 \n\" id=\"mc0575c0693\" style=\"stroke:#000000;stroke-width:0.8;\"/>\n      </defs>\n      <g>\n       <use style=\"stroke:#000000;stroke-width:0.8;\" x=\"73.741619\" xlink:href=\"#mc0575c0693\" y=\"224.64\"/>\n      </g>\n     </g>\n     <g id=\"text_1\">\n      <!-- 0 -->\n      <g transform=\"translate(70.560369 239.238437)scale(0.1 -0.1)\">\n       <defs>\n        <path d=\"M 31.78125 66.40625 \nQ 24.171875 66.40625 20.328125 58.90625 \nQ 16.5 51.421875 16.5 36.375 \nQ 16.5 21.390625 20.328125 13.890625 \nQ 24.171875 6.390625 31.78125 6.390625 \nQ 39.453125 6.390625 43.28125 13.890625 \nQ 47.125 21.390625 47.125 36.375 \nQ 47.125 51.421875 43.28125 58.90625 \nQ 39.453125 66.40625 31.78125 66.40625 \nz\nM 31.78125 74.21875 \nQ 44.046875 74.21875 50.515625 64.515625 \nQ 56.984375 54.828125 56.984375 36.375 \nQ 56.984375 17.96875 50.515625 8.265625 \nQ 44.046875 -1.421875 31.78125 -1.421875 \nQ 19.53125 -1.421875 13.0625 8.265625 \nQ 6.59375 17.96875 6.59375 36.375 \nQ 6.59375 54.828125 13.0625 64.515625 \nQ 19.53125 74.21875 31.78125 74.21875 \nz\n\" id=\"DejaVuSans-48\"/>\n       </defs>\n       <use xlink:href=\"#DejaVuSans-48\"/>\n      </g>\n     </g>\n    </g>\n    <g id=\"xtick_2\">\n     <g id=\"line2d_2\">\n      <g>\n       <use style=\"stroke:#000000;stroke-width:0.8;\" x=\"141.377983\" xlink:href=\"#mc0575c0693\" y=\"224.64\"/>\n      </g>\n     </g>\n     <g id=\"text_2\">\n      <!-- 2 -->\n      <g transform=\"translate(138.196733 239.238437)scale(0.1 -0.1)\">\n       <defs>\n        <path d=\"M 19.1875 8.296875 \nL 53.609375 8.296875 \nL 53.609375 0 \nL 7.328125 0 \nL 7.328125 8.296875 \nQ 12.9375 14.109375 22.625 23.890625 \nQ 32.328125 33.6875 34.8125 36.53125 \nQ 39.546875 41.84375 41.421875 45.53125 \nQ 43.3125 49.21875 43.3125 52.78125 \nQ 43.3125 58.59375 39.234375 62.25 \nQ 35.15625 65.921875 28.609375 65.921875 \nQ 23.96875 65.921875 18.8125 64.3125 \nQ 13.671875 62.703125 7.8125 59.421875 \nL 7.8125 69.390625 \nQ 13.765625 71.78125 18.9375 73 \nQ 24.125 74.21875 28.421875 74.21875 \nQ 39.75 74.21875 46.484375 68.546875 \nQ 53.21875 62.890625 53.21875 53.421875 \nQ 53.21875 48.921875 51.53125 44.890625 \nQ 49.859375 40.875 45.40625 35.40625 \nQ 44.1875 33.984375 37.640625 27.21875 \nQ 31.109375 20.453125 19.1875 8.296875 \nz\n\" id=\"DejaVuSans-50\"/>\n       </defs>\n       <use xlink:href=\"#DejaVuSans-50\"/>\n      </g>\n     </g>\n    </g>\n    <g id=\"xtick_3\">\n     <g id=\"line2d_3\">\n      <g>\n       <use style=\"stroke:#000000;stroke-width:0.8;\" x=\"209.014347\" xlink:href=\"#mc0575c0693\" y=\"224.64\"/>\n      </g>\n     </g>\n     <g id=\"text_3\">\n      <!-- 4 -->\n      <g transform=\"translate(205.833097 239.238437)scale(0.1 -0.1)\">\n       <defs>\n        <path d=\"M 37.796875 64.3125 \nL 12.890625 25.390625 \nL 37.796875 25.390625 \nz\nM 35.203125 72.90625 \nL 47.609375 72.90625 \nL 47.609375 25.390625 \nL 58.015625 25.390625 \nL 58.015625 17.1875 \nL 47.609375 17.1875 \nL 47.609375 0 \nL 37.796875 0 \nL 37.796875 17.1875 \nL 4.890625 17.1875 \nL 4.890625 26.703125 \nz\n\" id=\"DejaVuSans-52\"/>\n       </defs>\n       <use xlink:href=\"#DejaVuSans-52\"/>\n      </g>\n     </g>\n    </g>\n    <g id=\"xtick_4\">\n     <g id=\"line2d_4\">\n      <g>\n       <use style=\"stroke:#000000;stroke-width:0.8;\" x=\"276.65071\" xlink:href=\"#mc0575c0693\" y=\"224.64\"/>\n      </g>\n     </g>\n     <g id=\"text_4\">\n      <!-- 6 -->\n      <g transform=\"translate(273.46946 239.238437)scale(0.1 -0.1)\">\n       <defs>\n        <path d=\"M 33.015625 40.375 \nQ 26.375 40.375 22.484375 35.828125 \nQ 18.609375 31.296875 18.609375 23.390625 \nQ 18.609375 15.53125 22.484375 10.953125 \nQ 26.375 6.390625 33.015625 6.390625 \nQ 39.65625 6.390625 43.53125 10.953125 \nQ 47.40625 15.53125 47.40625 23.390625 \nQ 47.40625 31.296875 43.53125 35.828125 \nQ 39.65625 40.375 33.015625 40.375 \nz\nM 52.59375 71.296875 \nL 52.59375 62.3125 \nQ 48.875 64.0625 45.09375 64.984375 \nQ 41.3125 65.921875 37.59375 65.921875 \nQ 27.828125 65.921875 22.671875 59.328125 \nQ 17.53125 52.734375 16.796875 39.40625 \nQ 19.671875 43.65625 24.015625 45.921875 \nQ 28.375 48.1875 33.59375 48.1875 \nQ 44.578125 48.1875 50.953125 41.515625 \nQ 57.328125 34.859375 57.328125 23.390625 \nQ 57.328125 12.15625 50.6875 5.359375 \nQ 44.046875 -1.421875 33.015625 -1.421875 \nQ 20.359375 -1.421875 13.671875 8.265625 \nQ 6.984375 17.96875 6.984375 36.375 \nQ 6.984375 53.65625 15.1875 63.9375 \nQ 23.390625 74.21875 37.203125 74.21875 \nQ 40.921875 74.21875 44.703125 73.484375 \nQ 48.484375 72.75 52.59375 71.296875 \nz\n\" id=\"DejaVuSans-54\"/>\n       </defs>\n       <use xlink:href=\"#DejaVuSans-54\"/>\n      </g>\n     </g>\n    </g>\n    <g id=\"xtick_5\">\n     <g id=\"line2d_5\">\n      <g>\n       <use style=\"stroke:#000000;stroke-width:0.8;\" x=\"344.287074\" xlink:href=\"#mc0575c0693\" y=\"224.64\"/>\n      </g>\n     </g>\n     <g id=\"text_5\">\n      <!-- 8 -->\n      <g transform=\"translate(341.105824 239.238437)scale(0.1 -0.1)\">\n       <defs>\n        <path d=\"M 31.78125 34.625 \nQ 24.75 34.625 20.71875 30.859375 \nQ 16.703125 27.09375 16.703125 20.515625 \nQ 16.703125 13.921875 20.71875 10.15625 \nQ 24.75 6.390625 31.78125 6.390625 \nQ 38.8125 6.390625 42.859375 10.171875 \nQ 46.921875 13.96875 46.921875 20.515625 \nQ 46.921875 27.09375 42.890625 30.859375 \nQ 38.875 34.625 31.78125 34.625 \nz\nM 21.921875 38.8125 \nQ 15.578125 40.375 12.03125 44.71875 \nQ 8.5 49.078125 8.5 55.328125 \nQ 8.5 64.0625 14.71875 69.140625 \nQ 20.953125 74.21875 31.78125 74.21875 \nQ 42.671875 74.21875 48.875 69.140625 \nQ 55.078125 64.0625 55.078125 55.328125 \nQ 55.078125 49.078125 51.53125 44.71875 \nQ 48 40.375 41.703125 38.8125 \nQ 48.828125 37.15625 52.796875 32.3125 \nQ 56.78125 27.484375 56.78125 20.515625 \nQ 56.78125 9.90625 50.3125 4.234375 \nQ 43.84375 -1.421875 31.78125 -1.421875 \nQ 19.734375 -1.421875 13.25 4.234375 \nQ 6.78125 9.90625 6.78125 20.515625 \nQ 6.78125 27.484375 10.78125 32.3125 \nQ 14.796875 37.15625 21.921875 38.8125 \nz\nM 18.3125 54.390625 \nQ 18.3125 48.734375 21.84375 45.5625 \nQ 25.390625 42.390625 31.78125 42.390625 \nQ 38.140625 42.390625 41.71875 45.5625 \nQ 45.3125 48.734375 45.3125 54.390625 \nQ 45.3125 60.0625 41.71875 63.234375 \nQ 38.140625 66.40625 31.78125 66.40625 \nQ 25.390625 66.40625 21.84375 63.234375 \nQ 18.3125 60.0625 18.3125 54.390625 \nz\n\" id=\"DejaVuSans-56\"/>\n       </defs>\n       <use xlink:href=\"#DejaVuSans-56\"/>\n      </g>\n     </g>\n    </g>\n    <g id=\"text_6\">\n     <!-- days -->\n     <g transform=\"translate(214.121094 252.916562)scale(0.1 -0.1)\">\n      <defs>\n       <path d=\"M 45.40625 46.390625 \nL 45.40625 75.984375 \nL 54.390625 75.984375 \nL 54.390625 0 \nL 45.40625 0 \nL 45.40625 8.203125 \nQ 42.578125 3.328125 38.25 0.953125 \nQ 33.9375 -1.421875 27.875 -1.421875 \nQ 17.96875 -1.421875 11.734375 6.484375 \nQ 5.515625 14.40625 5.515625 27.296875 \nQ 5.515625 40.1875 11.734375 48.09375 \nQ 17.96875 56 27.875 56 \nQ 33.9375 56 38.25 53.625 \nQ 42.578125 51.265625 45.40625 46.390625 \nz\nM 14.796875 27.296875 \nQ 14.796875 17.390625 18.875 11.75 \nQ 22.953125 6.109375 30.078125 6.109375 \nQ 37.203125 6.109375 41.296875 11.75 \nQ 45.40625 17.390625 45.40625 27.296875 \nQ 45.40625 37.203125 41.296875 42.84375 \nQ 37.203125 48.484375 30.078125 48.484375 \nQ 22.953125 48.484375 18.875 42.84375 \nQ 14.796875 37.203125 14.796875 27.296875 \nz\n\" id=\"DejaVuSans-100\"/>\n       <path d=\"M 34.28125 27.484375 \nQ 23.390625 27.484375 19.1875 25 \nQ 14.984375 22.515625 14.984375 16.5 \nQ 14.984375 11.71875 18.140625 8.90625 \nQ 21.296875 6.109375 26.703125 6.109375 \nQ 34.1875 6.109375 38.703125 11.40625 \nQ 43.21875 16.703125 43.21875 25.484375 \nL 43.21875 27.484375 \nz\nM 52.203125 31.203125 \nL 52.203125 0 \nL 43.21875 0 \nL 43.21875 8.296875 \nQ 40.140625 3.328125 35.546875 0.953125 \nQ 30.953125 -1.421875 24.3125 -1.421875 \nQ 15.921875 -1.421875 10.953125 3.296875 \nQ 6 8.015625 6 15.921875 \nQ 6 25.140625 12.171875 29.828125 \nQ 18.359375 34.515625 30.609375 34.515625 \nL 43.21875 34.515625 \nL 43.21875 35.40625 \nQ 43.21875 41.609375 39.140625 45 \nQ 35.0625 48.390625 27.6875 48.390625 \nQ 23 48.390625 18.546875 47.265625 \nQ 14.109375 46.140625 10.015625 43.890625 \nL 10.015625 52.203125 \nQ 14.9375 54.109375 19.578125 55.046875 \nQ 24.21875 56 28.609375 56 \nQ 40.484375 56 46.34375 49.84375 \nQ 52.203125 43.703125 52.203125 31.203125 \nz\n\" id=\"DejaVuSans-97\"/>\n       <path d=\"M 32.171875 -5.078125 \nQ 28.375 -14.84375 24.75 -17.8125 \nQ 21.140625 -20.796875 15.09375 -20.796875 \nL 7.90625 -20.796875 \nL 7.90625 -13.28125 \nL 13.1875 -13.28125 \nQ 16.890625 -13.28125 18.9375 -11.515625 \nQ 21 -9.765625 23.484375 -3.21875 \nL 25.09375 0.875 \nL 2.984375 54.6875 \nL 12.5 54.6875 \nL 29.59375 11.921875 \nL 46.6875 54.6875 \nL 56.203125 54.6875 \nz\n\" id=\"DejaVuSans-121\"/>\n       <path d=\"M 44.28125 53.078125 \nL 44.28125 44.578125 \nQ 40.484375 46.53125 36.375 47.5 \nQ 32.28125 48.484375 27.875 48.484375 \nQ 21.1875 48.484375 17.84375 46.4375 \nQ 14.5 44.390625 14.5 40.28125 \nQ 14.5 37.15625 16.890625 35.375 \nQ 19.28125 33.59375 26.515625 31.984375 \nL 29.59375 31.296875 \nQ 39.15625 29.25 43.1875 25.515625 \nQ 47.21875 21.78125 47.21875 15.09375 \nQ 47.21875 7.46875 41.1875 3.015625 \nQ 35.15625 -1.421875 24.609375 -1.421875 \nQ 20.21875 -1.421875 15.453125 -0.5625 \nQ 10.6875 0.296875 5.421875 2 \nL 5.421875 11.28125 \nQ 10.40625 8.6875 15.234375 7.390625 \nQ 20.0625 6.109375 24.8125 6.109375 \nQ 31.15625 6.109375 34.5625 8.28125 \nQ 37.984375 10.453125 37.984375 14.40625 \nQ 37.984375 18.0625 35.515625 20.015625 \nQ 33.0625 21.96875 24.703125 23.78125 \nL 21.578125 24.515625 \nQ 13.234375 26.265625 9.515625 29.90625 \nQ 5.8125 33.546875 5.8125 39.890625 \nQ 5.8125 47.609375 11.28125 51.796875 \nQ 16.75 56 26.8125 56 \nQ 31.78125 56 36.171875 55.265625 \nQ 40.578125 54.546875 44.28125 53.078125 \nz\n\" id=\"DejaVuSans-115\"/>\n      </defs>\n      <use xlink:href=\"#DejaVuSans-100\"/>\n      <use x=\"63.476562\" xlink:href=\"#DejaVuSans-97\"/>\n      <use x=\"124.755859\" xlink:href=\"#DejaVuSans-121\"/>\n      <use x=\"183.935547\" xlink:href=\"#DejaVuSans-115\"/>\n     </g>\n    </g>\n   </g>\n   <g id=\"matplotlib.axis_2\">\n    <g id=\"ytick_1\">\n     <g id=\"line2d_6\">\n      <defs>\n       <path d=\"M 0 0 \nL -3.5 0 \n\" id=\"m4c383755be\" style=\"stroke:#000000;stroke-width:0.8;\"/>\n      </defs>\n      <g>\n       <use style=\"stroke:#000000;stroke-width:0.8;\" x=\"58.523438\" xlink:href=\"#m4c383755be\" y=\"217.701196\"/>\n      </g>\n     </g>\n     <g id=\"text_7\">\n      <!-- −1.25 -->\n      <g transform=\"translate(20.878125 221.500415)scale(0.1 -0.1)\">\n       <defs>\n        <path d=\"M 10.59375 35.5 \nL 73.1875 35.5 \nL 73.1875 27.203125 \nL 10.59375 27.203125 \nz\n\" id=\"DejaVuSans-8722\"/>\n        <path d=\"M 12.40625 8.296875 \nL 28.515625 8.296875 \nL 28.515625 63.921875 \nL 10.984375 60.40625 \nL 10.984375 69.390625 \nL 28.421875 72.90625 \nL 38.28125 72.90625 \nL 38.28125 8.296875 \nL 54.390625 8.296875 \nL 54.390625 0 \nL 12.40625 0 \nz\n\" id=\"DejaVuSans-49\"/>\n        <path d=\"M 10.6875 12.40625 \nL 21 12.40625 \nL 21 0 \nL 10.6875 0 \nz\n\" id=\"DejaVuSans-46\"/>\n        <path d=\"M 10.796875 72.90625 \nL 49.515625 72.90625 \nL 49.515625 64.59375 \nL 19.828125 64.59375 \nL 19.828125 46.734375 \nQ 21.96875 47.46875 24.109375 47.828125 \nQ 26.265625 48.1875 28.421875 48.1875 \nQ 40.625 48.1875 47.75 41.5 \nQ 54.890625 34.8125 54.890625 23.390625 \nQ 54.890625 11.625 47.5625 5.09375 \nQ 40.234375 -1.421875 26.90625 -1.421875 \nQ 22.3125 -1.421875 17.546875 -0.640625 \nQ 12.796875 0.140625 7.71875 1.703125 \nL 7.71875 11.625 \nQ 12.109375 9.234375 16.796875 8.0625 \nQ 21.484375 6.890625 26.703125 6.890625 \nQ 35.15625 6.890625 40.078125 11.328125 \nQ 45.015625 15.765625 45.015625 23.390625 \nQ 45.015625 31 40.078125 35.4375 \nQ 35.15625 39.890625 26.703125 39.890625 \nQ 22.75 39.890625 18.8125 39.015625 \nQ 14.890625 38.140625 10.796875 36.28125 \nz\n\" id=\"DejaVuSans-53\"/>\n       </defs>\n       <use xlink:href=\"#DejaVuSans-8722\"/>\n       <use x=\"83.789062\" xlink:href=\"#DejaVuSans-49\"/>\n       <use x=\"147.412109\" xlink:href=\"#DejaVuSans-46\"/>\n       <use x=\"179.199219\" xlink:href=\"#DejaVuSans-50\"/>\n       <use x=\"242.822266\" xlink:href=\"#DejaVuSans-53\"/>\n      </g>\n     </g>\n    </g>\n    <g id=\"ytick_2\">\n     <g id=\"line2d_7\">\n      <g>\n       <use style=\"stroke:#000000;stroke-width:0.8;\" x=\"58.523438\" xlink:href=\"#m4c383755be\" y=\"192.10216\"/>\n      </g>\n     </g>\n     <g id=\"text_8\">\n      <!-- −1.00 -->\n      <g transform=\"translate(20.878125 195.901379)scale(0.1 -0.1)\">\n       <use xlink:href=\"#DejaVuSans-8722\"/>\n       <use x=\"83.789062\" xlink:href=\"#DejaVuSans-49\"/>\n       <use x=\"147.412109\" xlink:href=\"#DejaVuSans-46\"/>\n       <use x=\"179.199219\" xlink:href=\"#DejaVuSans-48\"/>\n       <use x=\"242.822266\" xlink:href=\"#DejaVuSans-48\"/>\n      </g>\n     </g>\n    </g>\n    <g id=\"ytick_3\">\n     <g id=\"line2d_8\">\n      <g>\n       <use style=\"stroke:#000000;stroke-width:0.8;\" x=\"58.523438\" xlink:href=\"#m4c383755be\" y=\"166.503125\"/>\n      </g>\n     </g>\n     <g id=\"text_9\">\n      <!-- −0.75 -->\n      <g transform=\"translate(20.878125 170.302344)scale(0.1 -0.1)\">\n       <defs>\n        <path d=\"M 8.203125 72.90625 \nL 55.078125 72.90625 \nL 55.078125 68.703125 \nL 28.609375 0 \nL 18.3125 0 \nL 43.21875 64.59375 \nL 8.203125 64.59375 \nz\n\" id=\"DejaVuSans-55\"/>\n       </defs>\n       <use xlink:href=\"#DejaVuSans-8722\"/>\n       <use x=\"83.789062\" xlink:href=\"#DejaVuSans-48\"/>\n       <use x=\"147.412109\" xlink:href=\"#DejaVuSans-46\"/>\n       <use x=\"179.199219\" xlink:href=\"#DejaVuSans-55\"/>\n       <use x=\"242.822266\" xlink:href=\"#DejaVuSans-53\"/>\n      </g>\n     </g>\n    </g>\n    <g id=\"ytick_4\">\n     <g id=\"line2d_9\">\n      <g>\n       <use style=\"stroke:#000000;stroke-width:0.8;\" x=\"58.523438\" xlink:href=\"#m4c383755be\" y=\"140.904089\"/>\n      </g>\n     </g>\n     <g id=\"text_10\">\n      <!-- −0.50 -->\n      <g transform=\"translate(20.878125 144.703308)scale(0.1 -0.1)\">\n       <use xlink:href=\"#DejaVuSans-8722\"/>\n       <use x=\"83.789062\" xlink:href=\"#DejaVuSans-48\"/>\n       <use x=\"147.412109\" xlink:href=\"#DejaVuSans-46\"/>\n       <use x=\"179.199219\" xlink:href=\"#DejaVuSans-53\"/>\n       <use x=\"242.822266\" xlink:href=\"#DejaVuSans-48\"/>\n      </g>\n     </g>\n    </g>\n    <g id=\"ytick_5\">\n     <g id=\"line2d_10\">\n      <g>\n       <use style=\"stroke:#000000;stroke-width:0.8;\" x=\"58.523438\" xlink:href=\"#m4c383755be\" y=\"115.305054\"/>\n      </g>\n     </g>\n     <g id=\"text_11\">\n      <!-- −0.25 -->\n      <g transform=\"translate(20.878125 119.104273)scale(0.1 -0.1)\">\n       <use xlink:href=\"#DejaVuSans-8722\"/>\n       <use x=\"83.789062\" xlink:href=\"#DejaVuSans-48\"/>\n       <use x=\"147.412109\" xlink:href=\"#DejaVuSans-46\"/>\n       <use x=\"179.199219\" xlink:href=\"#DejaVuSans-50\"/>\n       <use x=\"242.822266\" xlink:href=\"#DejaVuSans-53\"/>\n      </g>\n     </g>\n    </g>\n    <g id=\"ytick_6\">\n     <g id=\"line2d_11\">\n      <g>\n       <use style=\"stroke:#000000;stroke-width:0.8;\" x=\"58.523438\" xlink:href=\"#m4c383755be\" y=\"89.706018\"/>\n      </g>\n     </g>\n     <g id=\"text_12\">\n      <!-- 0.00 -->\n      <g transform=\"translate(29.257813 93.505237)scale(0.1 -0.1)\">\n       <use xlink:href=\"#DejaVuSans-48\"/>\n       <use x=\"63.623047\" xlink:href=\"#DejaVuSans-46\"/>\n       <use x=\"95.410156\" xlink:href=\"#DejaVuSans-48\"/>\n       <use x=\"159.033203\" xlink:href=\"#DejaVuSans-48\"/>\n      </g>\n     </g>\n    </g>\n    <g id=\"ytick_7\">\n     <g id=\"line2d_12\">\n      <g>\n       <use style=\"stroke:#000000;stroke-width:0.8;\" x=\"58.523438\" xlink:href=\"#m4c383755be\" y=\"64.106983\"/>\n      </g>\n     </g>\n     <g id=\"text_13\">\n      <!-- 0.25 -->\n      <g transform=\"translate(29.257813 67.906202)scale(0.1 -0.1)\">\n       <use xlink:href=\"#DejaVuSans-48\"/>\n       <use x=\"63.623047\" xlink:href=\"#DejaVuSans-46\"/>\n       <use x=\"95.410156\" xlink:href=\"#DejaVuSans-50\"/>\n       <use x=\"159.033203\" xlink:href=\"#DejaVuSans-53\"/>\n      </g>\n     </g>\n    </g>\n    <g id=\"ytick_8\">\n     <g id=\"line2d_13\">\n      <g>\n       <use style=\"stroke:#000000;stroke-width:0.8;\" x=\"58.523438\" xlink:href=\"#m4c383755be\" y=\"38.507947\"/>\n      </g>\n     </g>\n     <g id=\"text_14\">\n      <!-- 0.50 -->\n      <g transform=\"translate(29.257813 42.307166)scale(0.1 -0.1)\">\n       <use xlink:href=\"#DejaVuSans-48\"/>\n       <use x=\"63.623047\" xlink:href=\"#DejaVuSans-46\"/>\n       <use x=\"95.410156\" xlink:href=\"#DejaVuSans-53\"/>\n       <use x=\"159.033203\" xlink:href=\"#DejaVuSans-48\"/>\n      </g>\n     </g>\n    </g>\n    <g id=\"ytick_9\">\n     <g id=\"line2d_14\">\n      <g>\n       <use style=\"stroke:#000000;stroke-width:0.8;\" x=\"58.523438\" xlink:href=\"#m4c383755be\" y=\"12.908912\"/>\n      </g>\n     </g>\n     <g id=\"text_15\">\n      <!-- 0.75 -->\n      <g transform=\"translate(29.257813 16.708131)scale(0.1 -0.1)\">\n       <use xlink:href=\"#DejaVuSans-48\"/>\n       <use x=\"63.623047\" xlink:href=\"#DejaVuSans-46\"/>\n       <use x=\"95.410156\" xlink:href=\"#DejaVuSans-55\"/>\n       <use x=\"159.033203\" xlink:href=\"#DejaVuSans-53\"/>\n      </g>\n     </g>\n    </g>\n    <g id=\"text_16\">\n     <!-- stock price -->\n     <g transform=\"translate(14.798438 143.222344)rotate(-90)scale(0.1 -0.1)\">\n      <defs>\n       <path d=\"M 18.3125 70.21875 \nL 18.3125 54.6875 \nL 36.8125 54.6875 \nL 36.8125 47.703125 \nL 18.3125 47.703125 \nL 18.3125 18.015625 \nQ 18.3125 11.328125 20.140625 9.421875 \nQ 21.96875 7.515625 27.59375 7.515625 \nL 36.8125 7.515625 \nL 36.8125 0 \nL 27.59375 0 \nQ 17.1875 0 13.234375 3.875 \nQ 9.28125 7.765625 9.28125 18.015625 \nL 9.28125 47.703125 \nL 2.6875 47.703125 \nL 2.6875 54.6875 \nL 9.28125 54.6875 \nL 9.28125 70.21875 \nz\n\" id=\"DejaVuSans-116\"/>\n       <path d=\"M 30.609375 48.390625 \nQ 23.390625 48.390625 19.1875 42.75 \nQ 14.984375 37.109375 14.984375 27.296875 \nQ 14.984375 17.484375 19.15625 11.84375 \nQ 23.34375 6.203125 30.609375 6.203125 \nQ 37.796875 6.203125 41.984375 11.859375 \nQ 46.1875 17.53125 46.1875 27.296875 \nQ 46.1875 37.015625 41.984375 42.703125 \nQ 37.796875 48.390625 30.609375 48.390625 \nz\nM 30.609375 56 \nQ 42.328125 56 49.015625 48.375 \nQ 55.71875 40.765625 55.71875 27.296875 \nQ 55.71875 13.875 49.015625 6.21875 \nQ 42.328125 -1.421875 30.609375 -1.421875 \nQ 18.84375 -1.421875 12.171875 6.21875 \nQ 5.515625 13.875 5.515625 27.296875 \nQ 5.515625 40.765625 12.171875 48.375 \nQ 18.84375 56 30.609375 56 \nz\n\" id=\"DejaVuSans-111\"/>\n       <path d=\"M 48.78125 52.59375 \nL 48.78125 44.1875 \nQ 44.96875 46.296875 41.140625 47.34375 \nQ 37.3125 48.390625 33.40625 48.390625 \nQ 24.65625 48.390625 19.8125 42.84375 \nQ 14.984375 37.3125 14.984375 27.296875 \nQ 14.984375 17.28125 19.8125 11.734375 \nQ 24.65625 6.203125 33.40625 6.203125 \nQ 37.3125 6.203125 41.140625 7.25 \nQ 44.96875 8.296875 48.78125 10.40625 \nL 48.78125 2.09375 \nQ 45.015625 0.34375 40.984375 -0.53125 \nQ 36.96875 -1.421875 32.421875 -1.421875 \nQ 20.0625 -1.421875 12.78125 6.34375 \nQ 5.515625 14.109375 5.515625 27.296875 \nQ 5.515625 40.671875 12.859375 48.328125 \nQ 20.21875 56 33.015625 56 \nQ 37.15625 56 41.109375 55.140625 \nQ 45.0625 54.296875 48.78125 52.59375 \nz\n\" id=\"DejaVuSans-99\"/>\n       <path d=\"M 9.078125 75.984375 \nL 18.109375 75.984375 \nL 18.109375 31.109375 \nL 44.921875 54.6875 \nL 56.390625 54.6875 \nL 27.390625 29.109375 \nL 57.625 0 \nL 45.90625 0 \nL 18.109375 26.703125 \nL 18.109375 0 \nL 9.078125 0 \nz\n\" id=\"DejaVuSans-107\"/>\n       <path id=\"DejaVuSans-32\"/>\n       <path d=\"M 18.109375 8.203125 \nL 18.109375 -20.796875 \nL 9.078125 -20.796875 \nL 9.078125 54.6875 \nL 18.109375 54.6875 \nL 18.109375 46.390625 \nQ 20.953125 51.265625 25.265625 53.625 \nQ 29.59375 56 35.59375 56 \nQ 45.5625 56 51.78125 48.09375 \nQ 58.015625 40.1875 58.015625 27.296875 \nQ 58.015625 14.40625 51.78125 6.484375 \nQ 45.5625 -1.421875 35.59375 -1.421875 \nQ 29.59375 -1.421875 25.265625 0.953125 \nQ 20.953125 3.328125 18.109375 8.203125 \nz\nM 48.6875 27.296875 \nQ 48.6875 37.203125 44.609375 42.84375 \nQ 40.53125 48.484375 33.40625 48.484375 \nQ 26.265625 48.484375 22.1875 42.84375 \nQ 18.109375 37.203125 18.109375 27.296875 \nQ 18.109375 17.390625 22.1875 11.75 \nQ 26.265625 6.109375 33.40625 6.109375 \nQ 40.53125 6.109375 44.609375 11.75 \nQ 48.6875 17.390625 48.6875 27.296875 \nz\n\" id=\"DejaVuSans-112\"/>\n       <path d=\"M 41.109375 46.296875 \nQ 39.59375 47.171875 37.8125 47.578125 \nQ 36.03125 48 33.890625 48 \nQ 26.265625 48 22.1875 43.046875 \nQ 18.109375 38.09375 18.109375 28.8125 \nL 18.109375 0 \nL 9.078125 0 \nL 9.078125 54.6875 \nL 18.109375 54.6875 \nL 18.109375 46.1875 \nQ 20.953125 51.171875 25.484375 53.578125 \nQ 30.03125 56 36.53125 56 \nQ 37.453125 56 38.578125 55.875 \nQ 39.703125 55.765625 41.0625 55.515625 \nz\n\" id=\"DejaVuSans-114\"/>\n       <path d=\"M 9.421875 54.6875 \nL 18.40625 54.6875 \nL 18.40625 0 \nL 9.421875 0 \nz\nM 9.421875 75.984375 \nL 18.40625 75.984375 \nL 18.40625 64.59375 \nL 9.421875 64.59375 \nz\n\" id=\"DejaVuSans-105\"/>\n       <path d=\"M 56.203125 29.59375 \nL 56.203125 25.203125 \nL 14.890625 25.203125 \nQ 15.484375 15.921875 20.484375 11.0625 \nQ 25.484375 6.203125 34.421875 6.203125 \nQ 39.59375 6.203125 44.453125 7.46875 \nQ 49.3125 8.734375 54.109375 11.28125 \nL 54.109375 2.78125 \nQ 49.265625 0.734375 44.1875 -0.34375 \nQ 39.109375 -1.421875 33.890625 -1.421875 \nQ 20.796875 -1.421875 13.15625 6.1875 \nQ 5.515625 13.8125 5.515625 26.8125 \nQ 5.515625 40.234375 12.765625 48.109375 \nQ 20.015625 56 32.328125 56 \nQ 43.359375 56 49.78125 48.890625 \nQ 56.203125 41.796875 56.203125 29.59375 \nz\nM 47.21875 32.234375 \nQ 47.125 39.59375 43.09375 43.984375 \nQ 39.0625 48.390625 32.421875 48.390625 \nQ 24.90625 48.390625 20.390625 44.140625 \nQ 15.875 39.890625 15.1875 32.171875 \nz\n\" id=\"DejaVuSans-101\"/>\n      </defs>\n      <use xlink:href=\"#DejaVuSans-115\"/>\n      <use x=\"52.099609\" xlink:href=\"#DejaVuSans-116\"/>\n      <use x=\"91.308594\" xlink:href=\"#DejaVuSans-111\"/>\n      <use x=\"152.490234\" xlink:href=\"#DejaVuSans-99\"/>\n      <use x=\"207.470703\" xlink:href=\"#DejaVuSans-107\"/>\n      <use x=\"265.380859\" xlink:href=\"#DejaVuSans-32\"/>\n      <use x=\"297.167969\" xlink:href=\"#DejaVuSans-112\"/>\n      <use x=\"360.644531\" xlink:href=\"#DejaVuSans-114\"/>\n      <use x=\"401.757812\" xlink:href=\"#DejaVuSans-105\"/>\n      <use x=\"429.541016\" xlink:href=\"#DejaVuSans-99\"/>\n      <use x=\"484.521484\" xlink:href=\"#DejaVuSans-101\"/>\n     </g>\n    </g>\n   </g>\n   <g id=\"line2d_15\">\n    <path clip-path=\"url(#pcb485ba9a3)\" d=\"M 73.741619 17.083636 \nL 107.559801 48.928867 \nL 141.377983 54.365786 \nL 175.196165 55.271968 \nL 209.014347 112.360049 \nL 242.832528 154.949737 \nL 276.65071 148.787838 \nL 310.468892 142.625939 \nL 344.287074 193.008515 \nL 378.105256 214.756364 \n\" style=\"fill:none;stroke:#1f77b4;stroke-linecap:square;stroke-width:1.5;\"/>\n   </g>\n   <g id=\"line2d_16\">\n    <path clip-path=\"url(#pcb485ba9a3)\" d=\"M 73.741619 84.29097 \nL 107.559801 83.097207 \nL 141.377983 83.676213 \nL 175.196165 83.530906 \nL 209.014347 83.924599 \nL 242.832528 82.955925 \nL 276.65071 83.992247 \nL 310.468892 83.608165 \nL 344.287074 85.329645 \nL 378.105256 84.601868 \n\" style=\"fill:none;stroke:#ff7f0e;stroke-linecap:square;stroke-width:1.5;\"/>\n   </g>\n   <g id=\"patch_3\">\n    <path d=\"M 58.523438 224.64 \nL 58.523438 7.2 \n\" style=\"fill:none;stroke:#000000;stroke-linecap:square;stroke-linejoin:miter;stroke-width:0.8;\"/>\n   </g>\n   <g id=\"patch_4\">\n    <path d=\"M 393.323438 224.64 \nL 393.323438 7.2 \n\" style=\"fill:none;stroke:#000000;stroke-linecap:square;stroke-linejoin:miter;stroke-width:0.8;\"/>\n   </g>\n   <g id=\"patch_5\">\n    <path d=\"M 58.523438 224.64 \nL 393.323438 224.64 \n\" style=\"fill:none;stroke:#000000;stroke-linecap:square;stroke-linejoin:miter;stroke-width:0.8;\"/>\n   </g>\n   <g id=\"patch_6\">\n    <path d=\"M 58.523438 7.2 \nL 393.323438 7.2 \n\" style=\"fill:none;stroke:#000000;stroke-linecap:square;stroke-linejoin:miter;stroke-width:0.8;\"/>\n   </g>\n   <g id=\"legend_1\">\n    <g id=\"patch_7\">\n     <path d=\"M 331.5875 44.55625 \nL 386.323437 44.55625 \nQ 388.323437 44.55625 388.323437 42.55625 \nL 388.323437 14.2 \nQ 388.323437 12.2 386.323437 12.2 \nL 331.5875 12.2 \nQ 329.5875 12.2 329.5875 14.2 \nL 329.5875 42.55625 \nQ 329.5875 44.55625 331.5875 44.55625 \nz\n\" style=\"fill:#ffffff;opacity:0.8;stroke:#cccccc;stroke-linejoin:miter;\"/>\n    </g>\n    <g id=\"line2d_17\">\n     <path d=\"M 333.5875 20.298437 \nL 353.5875 20.298437 \n\" style=\"fill:none;stroke:#1f77b4;stroke-linecap:square;stroke-width:1.5;\"/>\n    </g>\n    <g id=\"line2d_18\"/>\n    <g id=\"text_17\">\n     <!-- true -->\n     <g transform=\"translate(361.5875 23.798437)scale(0.1 -0.1)\">\n      <defs>\n       <path d=\"M 8.5 21.578125 \nL 8.5 54.6875 \nL 17.484375 54.6875 \nL 17.484375 21.921875 \nQ 17.484375 14.15625 20.5 10.265625 \nQ 23.53125 6.390625 29.59375 6.390625 \nQ 36.859375 6.390625 41.078125 11.03125 \nQ 45.3125 15.671875 45.3125 23.6875 \nL 45.3125 54.6875 \nL 54.296875 54.6875 \nL 54.296875 0 \nL 45.3125 0 \nL 45.3125 8.40625 \nQ 42.046875 3.421875 37.71875 1 \nQ 33.40625 -1.421875 27.6875 -1.421875 \nQ 18.265625 -1.421875 13.375 4.4375 \nQ 8.5 10.296875 8.5 21.578125 \nz\nM 31.109375 56 \nz\n\" id=\"DejaVuSans-117\"/>\n      </defs>\n      <use xlink:href=\"#DejaVuSans-116\"/>\n      <use x=\"39.208984\" xlink:href=\"#DejaVuSans-114\"/>\n      <use x=\"80.322266\" xlink:href=\"#DejaVuSans-117\"/>\n      <use x=\"143.701172\" xlink:href=\"#DejaVuSans-101\"/>\n     </g>\n    </g>\n    <g id=\"line2d_19\">\n     <path d=\"M 333.5875 34.976562 \nL 353.5875 34.976562 \n\" style=\"fill:none;stroke:#ff7f0e;stroke-linecap:square;stroke-width:1.5;\"/>\n    </g>\n    <g id=\"line2d_20\"/>\n    <g id=\"text_18\">\n     <!-- pred -->\n     <g transform=\"translate(361.5875 38.476562)scale(0.1 -0.1)\">\n      <use xlink:href=\"#DejaVuSans-112\"/>\n      <use x=\"63.476562\" xlink:href=\"#DejaVuSans-114\"/>\n      <use x=\"102.339844\" xlink:href=\"#DejaVuSans-101\"/>\n      <use x=\"163.863281\" xlink:href=\"#DejaVuSans-100\"/>\n     </g>\n    </g>\n   </g>\n  </g>\n </g>\n <defs>\n  <clipPath id=\"pcb485ba9a3\">\n   <rect height=\"217.44\" width=\"334.8\" x=\"58.523438\" y=\"7.2\"/>\n  </clipPath>\n </defs>\n</svg>\n",
      "image/png": "[encoded data removed]"
     },
     "metadata": {
      "needs_background": "light"
     }
    }
   ],
   "source": [
    "plt.plot(y_test_10[-1], label = 'true')\n",
    "plt.plot(prediction_seqs[-1], label = 'pred')\n",
    "plt.xlabel('days')\n",
    "plt.ylabel('stock price')\n",
    "plt.legend()"
   ]
  },
  {
   "source": [
    "### De-normalized\n"
   ],
   "cell_type": "markdown",
   "metadata": {}
  },
  {
   "cell_type": "code",
   "execution_count": 73,
   "metadata": {},
   "outputs": [],
   "source": [
    "ori_price = pd.read_csv('../../data/stock_price/data/' + industry +'/price_' + stock.upper() + '.csv')"
   ]
  },
  {
   "cell_type": "code",
   "execution_count": 43,
   "metadata": {},
   "outputs": [
    {
     "output_type": "execute_result",
     "data": {
      "text/plain": [
       "         Date    Type ticker      Price\n",
       "0  2016-03-31    Open    COG  22.740000\n",
       "1  2016-03-31  Closed    COG  22.709999\n",
       "2  2016-04-01    Open    COG  22.260000\n",
       "3  2016-04-01  Closed    COG  22.510000\n",
       "4  2016-04-04    Open    COG  22.610001"
      ],
      "text/html": "<div>\n<style scoped>\n    .dataframe tbody tr th:only-of-type {\n        vertical-align: middle;\n    }\n\n    .dataframe tbody tr th {\n        vertical-align: top;\n    }\n\n    .dataframe thead th {\n        text-align: right;\n    }\n</style>\n<table border=\"1\" class=\"dataframe\">\n  <thead>\n    <tr style=\"text-align: right;\">\n      <th></th>\n      <th>Date</th>\n      <th>Type</th>\n      <th>ticker</th>\n      <th>Price</th>\n    </tr>\n  </thead>\n  <tbody>\n    <tr>\n      <th>0</th>\n      <td>2016-03-31</td>\n      <td>Open</td>\n      <td>COG</td>\n      <td>22.740000</td>\n    </tr>\n    <tr>\n      <th>1</th>\n      <td>2016-03-31</td>\n      <td>Closed</td>\n      <td>COG</td>\n      <td>22.709999</td>\n    </tr>\n    <tr>\n      <th>2</th>\n      <td>2016-04-01</td>\n      <td>Open</td>\n      <td>COG</td>\n      <td>22.260000</td>\n    </tr>\n    <tr>\n      <th>3</th>\n      <td>2016-04-01</td>\n      <td>Closed</td>\n      <td>COG</td>\n      <td>22.510000</td>\n    </tr>\n    <tr>\n      <th>4</th>\n      <td>2016-04-04</td>\n      <td>Open</td>\n      <td>COG</td>\n      <td>22.610001</td>\n    </tr>\n  </tbody>\n</table>\n</div>"
     },
     "metadata": {},
     "execution_count": 43
    }
   ],
   "source": [
    "ori_price.head(5)"
   ]
  },
  {
   "cell_type": "code",
   "execution_count": 45,
   "metadata": {},
   "outputs": [],
   "source": [
    "def normalize(x):\n",
    "    \"\"\"\n",
    "    Normalize the input to the range between 0 and 1\n",
    "    \"\"\"\n",
    "    x = np.array(x)\n",
    "    x_normalized = ((x - np.min(x)) / (np.max(x) - np.min(x))).tolist()\n",
    "    return x_normalized\n",
    "max_price = np.max(ori_price['Price'])\n",
    "min_price = np.min(ori_price['Price'])\n",
    "def denorm_n(x, min_max, n):\n",
    "    de_result = []\n",
    "    for i, v in enumerate(x):\n",
    "        min_p, max_p = min_max[i]\n",
    "        v_denorm = []\n",
    "        for j in range(n):\n",
    "            v_denorm.append(x[i][j] * (max_p - min_p) + min_p)\n",
    "        de_result.append(v_denorm)\n",
    "    return de_result\n"
   ]
  },
  {
   "cell_type": "code",
   "execution_count": 74,
   "metadata": {},
   "outputs": [
    {
     "output_type": "stream",
     "name": "stdout",
     "text": [
      "Industry:  energy ; stock:  COG\n",
      "The max price is 29.489999771118164, the min price is 13.09000015258789\n",
      "The RMSE of predictions is 0.8512038949800783\n"
     ]
    }
   ],
   "source": [
    "pred_denorm = denorm_n(prediction_seqs, min_max_test, n)\n",
    "ytest_denorm = denorm_n(y_test_10, min_max_test, n)\n",
    "print('Industry: ', industry, '; stock: ', stock.upper())\n",
    "print('The max price is {0}, the min price is {1}'.format(max_price, min_price))\n",
    "print('The RMSE of predictions is', np.sqrt(mean_squared_error(pred_denorm, ytest_denorm)))"
   ]
  },
  {
   "cell_type": "code",
   "execution_count": 76,
   "metadata": {},
   "outputs": [
    {
     "output_type": "execute_result",
     "data": {
      "text/plain": [
       "<matplotlib.legend.Legend at 0x7ff1b0117400>"
      ]
     },
     "metadata": {},
     "execution_count": 76
    },
    {
     "output_type": "display_data",
     "data": {
      "text/plain": "<Figure size 432x288 with 1 Axes>",
      "image/svg+xml": "<?xml version=\"1.0\" encoding=\"utf-8\" standalone=\"no\"?>\n<!DOCTYPE svg PUBLIC \"-//W3C//DTD SVG 1.1//EN\"\n  \"http://www.w3.org/Graphics/SVG/1.1/DTD/svg11.dtd\">\n<!-- Created with matplotlib (https://matplotlib.org/) -->\n<svg height=\"277.314375pt\" version=\"1.1\" viewBox=\"0 0 392.14375 277.314375\" width=\"392.14375pt\" xmlns=\"http://www.w3.org/2000/svg\" xmlns:xlink=\"http://www.w3.org/1999/xlink\">\n <metadata>\n  <rdf:RDF xmlns:cc=\"http://creativecommons.org/ns#\" xmlns:dc=\"http://purl.org/dc/elements/1.1/\" xmlns:rdf=\"http://www.w3.org/1999/02/22-rdf-syntax-ns#\">\n   <cc:Work>\n    <dc:type rdf:resource=\"http://purl.org/dc/dcmitype/StillImage\"/>\n    <dc:date>2021-05-07T15:38:43.318589</dc:date>\n    <dc:format>image/svg+xml</dc:format>\n    <dc:creator>\n     <cc:Agent>\n      <dc:title>Matplotlib v3.3.3, https://matplotlib.org/</dc:title>\n     </cc:Agent>\n    </dc:creator>\n   </cc:Work>\n  </rdf:RDF>\n </metadata>\n <defs>\n  <style type=\"text/css\">*{stroke-linecap:butt;stroke-linejoin:round;}</style>\n </defs>\n <g id=\"figure_1\">\n  <g id=\"patch_1\">\n   <path d=\"M 0 277.314375 \nL 392.14375 277.314375 \nL 392.14375 0 \nL 0 0 \nz\n\" style=\"fill:none;\"/>\n  </g>\n  <g id=\"axes_1\">\n   <g id=\"patch_2\">\n    <path d=\"M 50.14375 239.758125 \nL 384.94375 239.758125 \nL 384.94375 22.318125 \nL 50.14375 22.318125 \nz\n\" style=\"fill:#ffffff;\"/>\n   </g>\n   <g id=\"matplotlib.axis_1\">\n    <g id=\"xtick_1\">\n     <g id=\"line2d_1\">\n      <defs>\n       <path d=\"M 0 0 \nL 0 3.5 \n\" id=\"m75a127c48f\" style=\"stroke:#000000;stroke-width:0.8;\"/>\n      </defs>\n      <g>\n       <use style=\"stroke:#000000;stroke-width:0.8;\" x=\"65.361932\" xlink:href=\"#m75a127c48f\" y=\"239.758125\"/>\n      </g>\n     </g>\n     <g id=\"text_1\">\n      <!-- 0 -->\n      <g transform=\"translate(62.180682 254.356562)scale(0.1 -0.1)\">\n       <defs>\n        <path d=\"M 31.78125 66.40625 \nQ 24.171875 66.40625 20.328125 58.90625 \nQ 16.5 51.421875 16.5 36.375 \nQ 16.5 21.390625 20.328125 13.890625 \nQ 24.171875 6.390625 31.78125 6.390625 \nQ 39.453125 6.390625 43.28125 13.890625 \nQ 47.125 21.390625 47.125 36.375 \nQ 47.125 51.421875 43.28125 58.90625 \nQ 39.453125 66.40625 31.78125 66.40625 \nz\nM 31.78125 74.21875 \nQ 44.046875 74.21875 50.515625 64.515625 \nQ 56.984375 54.828125 56.984375 36.375 \nQ 56.984375 17.96875 50.515625 8.265625 \nQ 44.046875 -1.421875 31.78125 -1.421875 \nQ 19.53125 -1.421875 13.0625 8.265625 \nQ 6.59375 17.96875 6.59375 36.375 \nQ 6.59375 54.828125 13.0625 64.515625 \nQ 19.53125 74.21875 31.78125 74.21875 \nz\n\" id=\"DejaVuSans-48\"/>\n       </defs>\n       <use xlink:href=\"#DejaVuSans-48\"/>\n      </g>\n     </g>\n    </g>\n    <g id=\"xtick_2\">\n     <g id=\"line2d_2\">\n      <g>\n       <use style=\"stroke:#000000;stroke-width:0.8;\" x=\"132.998295\" xlink:href=\"#m75a127c48f\" y=\"239.758125\"/>\n      </g>\n     </g>\n     <g id=\"text_2\">\n      <!-- 2 -->\n      <g transform=\"translate(129.817045 254.356562)scale(0.1 -0.1)\">\n       <defs>\n        <path d=\"M 19.1875 8.296875 \nL 53.609375 8.296875 \nL 53.609375 0 \nL 7.328125 0 \nL 7.328125 8.296875 \nQ 12.9375 14.109375 22.625 23.890625 \nQ 32.328125 33.6875 34.8125 36.53125 \nQ 39.546875 41.84375 41.421875 45.53125 \nQ 43.3125 49.21875 43.3125 52.78125 \nQ 43.3125 58.59375 39.234375 62.25 \nQ 35.15625 65.921875 28.609375 65.921875 \nQ 23.96875 65.921875 18.8125 64.3125 \nQ 13.671875 62.703125 7.8125 59.421875 \nL 7.8125 69.390625 \nQ 13.765625 71.78125 18.9375 73 \nQ 24.125 74.21875 28.421875 74.21875 \nQ 39.75 74.21875 46.484375 68.546875 \nQ 53.21875 62.890625 53.21875 53.421875 \nQ 53.21875 48.921875 51.53125 44.890625 \nQ 49.859375 40.875 45.40625 35.40625 \nQ 44.1875 33.984375 37.640625 27.21875 \nQ 31.109375 20.453125 19.1875 8.296875 \nz\n\" id=\"DejaVuSans-50\"/>\n       </defs>\n       <use xlink:href=\"#DejaVuSans-50\"/>\n      </g>\n     </g>\n    </g>\n    <g id=\"xtick_3\">\n     <g id=\"line2d_3\">\n      <g>\n       <use style=\"stroke:#000000;stroke-width:0.8;\" x=\"200.634659\" xlink:href=\"#m75a127c48f\" y=\"239.758125\"/>\n      </g>\n     </g>\n     <g id=\"text_3\">\n      <!-- 4 -->\n      <g transform=\"translate(197.453409 254.356562)scale(0.1 -0.1)\">\n       <defs>\n        <path d=\"M 37.796875 64.3125 \nL 12.890625 25.390625 \nL 37.796875 25.390625 \nz\nM 35.203125 72.90625 \nL 47.609375 72.90625 \nL 47.609375 25.390625 \nL 58.015625 25.390625 \nL 58.015625 17.1875 \nL 47.609375 17.1875 \nL 47.609375 0 \nL 37.796875 0 \nL 37.796875 17.1875 \nL 4.890625 17.1875 \nL 4.890625 26.703125 \nz\n\" id=\"DejaVuSans-52\"/>\n       </defs>\n       <use xlink:href=\"#DejaVuSans-52\"/>\n      </g>\n     </g>\n    </g>\n    <g id=\"xtick_4\">\n     <g id=\"line2d_4\">\n      <g>\n       <use style=\"stroke:#000000;stroke-width:0.8;\" x=\"268.271023\" xlink:href=\"#m75a127c48f\" y=\"239.758125\"/>\n      </g>\n     </g>\n     <g id=\"text_4\">\n      <!-- 6 -->\n      <g transform=\"translate(265.089773 254.356562)scale(0.1 -0.1)\">\n       <defs>\n        <path d=\"M 33.015625 40.375 \nQ 26.375 40.375 22.484375 35.828125 \nQ 18.609375 31.296875 18.609375 23.390625 \nQ 18.609375 15.53125 22.484375 10.953125 \nQ 26.375 6.390625 33.015625 6.390625 \nQ 39.65625 6.390625 43.53125 10.953125 \nQ 47.40625 15.53125 47.40625 23.390625 \nQ 47.40625 31.296875 43.53125 35.828125 \nQ 39.65625 40.375 33.015625 40.375 \nz\nM 52.59375 71.296875 \nL 52.59375 62.3125 \nQ 48.875 64.0625 45.09375 64.984375 \nQ 41.3125 65.921875 37.59375 65.921875 \nQ 27.828125 65.921875 22.671875 59.328125 \nQ 17.53125 52.734375 16.796875 39.40625 \nQ 19.671875 43.65625 24.015625 45.921875 \nQ 28.375 48.1875 33.59375 48.1875 \nQ 44.578125 48.1875 50.953125 41.515625 \nQ 57.328125 34.859375 57.328125 23.390625 \nQ 57.328125 12.15625 50.6875 5.359375 \nQ 44.046875 -1.421875 33.015625 -1.421875 \nQ 20.359375 -1.421875 13.671875 8.265625 \nQ 6.984375 17.96875 6.984375 36.375 \nQ 6.984375 53.65625 15.1875 63.9375 \nQ 23.390625 74.21875 37.203125 74.21875 \nQ 40.921875 74.21875 44.703125 73.484375 \nQ 48.484375 72.75 52.59375 71.296875 \nz\n\" id=\"DejaVuSans-54\"/>\n       </defs>\n       <use xlink:href=\"#DejaVuSans-54\"/>\n      </g>\n     </g>\n    </g>\n    <g id=\"xtick_5\">\n     <g id=\"line2d_5\">\n      <g>\n       <use style=\"stroke:#000000;stroke-width:0.8;\" x=\"335.907386\" xlink:href=\"#m75a127c48f\" y=\"239.758125\"/>\n      </g>\n     </g>\n     <g id=\"text_5\">\n      <!-- 8 -->\n      <g transform=\"translate(332.726136 254.356562)scale(0.1 -0.1)\">\n       <defs>\n        <path d=\"M 31.78125 34.625 \nQ 24.75 34.625 20.71875 30.859375 \nQ 16.703125 27.09375 16.703125 20.515625 \nQ 16.703125 13.921875 20.71875 10.15625 \nQ 24.75 6.390625 31.78125 6.390625 \nQ 38.8125 6.390625 42.859375 10.171875 \nQ 46.921875 13.96875 46.921875 20.515625 \nQ 46.921875 27.09375 42.890625 30.859375 \nQ 38.875 34.625 31.78125 34.625 \nz\nM 21.921875 38.8125 \nQ 15.578125 40.375 12.03125 44.71875 \nQ 8.5 49.078125 8.5 55.328125 \nQ 8.5 64.0625 14.71875 69.140625 \nQ 20.953125 74.21875 31.78125 74.21875 \nQ 42.671875 74.21875 48.875 69.140625 \nQ 55.078125 64.0625 55.078125 55.328125 \nQ 55.078125 49.078125 51.53125 44.71875 \nQ 48 40.375 41.703125 38.8125 \nQ 48.828125 37.15625 52.796875 32.3125 \nQ 56.78125 27.484375 56.78125 20.515625 \nQ 56.78125 9.90625 50.3125 4.234375 \nQ 43.84375 -1.421875 31.78125 -1.421875 \nQ 19.734375 -1.421875 13.25 4.234375 \nQ 6.78125 9.90625 6.78125 20.515625 \nQ 6.78125 27.484375 10.78125 32.3125 \nQ 14.796875 37.15625 21.921875 38.8125 \nz\nM 18.3125 54.390625 \nQ 18.3125 48.734375 21.84375 45.5625 \nQ 25.390625 42.390625 31.78125 42.390625 \nQ 38.140625 42.390625 41.71875 45.5625 \nQ 45.3125 48.734375 45.3125 54.390625 \nQ 45.3125 60.0625 41.71875 63.234375 \nQ 38.140625 66.40625 31.78125 66.40625 \nQ 25.390625 66.40625 21.84375 63.234375 \nQ 18.3125 60.0625 18.3125 54.390625 \nz\n\" id=\"DejaVuSans-56\"/>\n       </defs>\n       <use xlink:href=\"#DejaVuSans-56\"/>\n      </g>\n     </g>\n    </g>\n    <g id=\"text_6\">\n     <!-- days -->\n     <g transform=\"translate(205.741406 268.034687)scale(0.1 -0.1)\">\n      <defs>\n       <path d=\"M 45.40625 46.390625 \nL 45.40625 75.984375 \nL 54.390625 75.984375 \nL 54.390625 0 \nL 45.40625 0 \nL 45.40625 8.203125 \nQ 42.578125 3.328125 38.25 0.953125 \nQ 33.9375 -1.421875 27.875 -1.421875 \nQ 17.96875 -1.421875 11.734375 6.484375 \nQ 5.515625 14.40625 5.515625 27.296875 \nQ 5.515625 40.1875 11.734375 48.09375 \nQ 17.96875 56 27.875 56 \nQ 33.9375 56 38.25 53.625 \nQ 42.578125 51.265625 45.40625 46.390625 \nz\nM 14.796875 27.296875 \nQ 14.796875 17.390625 18.875 11.75 \nQ 22.953125 6.109375 30.078125 6.109375 \nQ 37.203125 6.109375 41.296875 11.75 \nQ 45.40625 17.390625 45.40625 27.296875 \nQ 45.40625 37.203125 41.296875 42.84375 \nQ 37.203125 48.484375 30.078125 48.484375 \nQ 22.953125 48.484375 18.875 42.84375 \nQ 14.796875 37.203125 14.796875 27.296875 \nz\n\" id=\"DejaVuSans-100\"/>\n       <path d=\"M 34.28125 27.484375 \nQ 23.390625 27.484375 19.1875 25 \nQ 14.984375 22.515625 14.984375 16.5 \nQ 14.984375 11.71875 18.140625 8.90625 \nQ 21.296875 6.109375 26.703125 6.109375 \nQ 34.1875 6.109375 38.703125 11.40625 \nQ 43.21875 16.703125 43.21875 25.484375 \nL 43.21875 27.484375 \nz\nM 52.203125 31.203125 \nL 52.203125 0 \nL 43.21875 0 \nL 43.21875 8.296875 \nQ 40.140625 3.328125 35.546875 0.953125 \nQ 30.953125 -1.421875 24.3125 -1.421875 \nQ 15.921875 -1.421875 10.953125 3.296875 \nQ 6 8.015625 6 15.921875 \nQ 6 25.140625 12.171875 29.828125 \nQ 18.359375 34.515625 30.609375 34.515625 \nL 43.21875 34.515625 \nL 43.21875 35.40625 \nQ 43.21875 41.609375 39.140625 45 \nQ 35.0625 48.390625 27.6875 48.390625 \nQ 23 48.390625 18.546875 47.265625 \nQ 14.109375 46.140625 10.015625 43.890625 \nL 10.015625 52.203125 \nQ 14.9375 54.109375 19.578125 55.046875 \nQ 24.21875 56 28.609375 56 \nQ 40.484375 56 46.34375 49.84375 \nQ 52.203125 43.703125 52.203125 31.203125 \nz\n\" id=\"DejaVuSans-97\"/>\n       <path d=\"M 32.171875 -5.078125 \nQ 28.375 -14.84375 24.75 -17.8125 \nQ 21.140625 -20.796875 15.09375 -20.796875 \nL 7.90625 -20.796875 \nL 7.90625 -13.28125 \nL 13.1875 -13.28125 \nQ 16.890625 -13.28125 18.9375 -11.515625 \nQ 21 -9.765625 23.484375 -3.21875 \nL 25.09375 0.875 \nL 2.984375 54.6875 \nL 12.5 54.6875 \nL 29.59375 11.921875 \nL 46.6875 54.6875 \nL 56.203125 54.6875 \nz\n\" id=\"DejaVuSans-121\"/>\n       <path d=\"M 44.28125 53.078125 \nL 44.28125 44.578125 \nQ 40.484375 46.53125 36.375 47.5 \nQ 32.28125 48.484375 27.875 48.484375 \nQ 21.1875 48.484375 17.84375 46.4375 \nQ 14.5 44.390625 14.5 40.28125 \nQ 14.5 37.15625 16.890625 35.375 \nQ 19.28125 33.59375 26.515625 31.984375 \nL 29.59375 31.296875 \nQ 39.15625 29.25 43.1875 25.515625 \nQ 47.21875 21.78125 47.21875 15.09375 \nQ 47.21875 7.46875 41.1875 3.015625 \nQ 35.15625 -1.421875 24.609375 -1.421875 \nQ 20.21875 -1.421875 15.453125 -0.5625 \nQ 10.6875 0.296875 5.421875 2 \nL 5.421875 11.28125 \nQ 10.40625 8.6875 15.234375 7.390625 \nQ 20.0625 6.109375 24.8125 6.109375 \nQ 31.15625 6.109375 34.5625 8.28125 \nQ 37.984375 10.453125 37.984375 14.40625 \nQ 37.984375 18.0625 35.515625 20.015625 \nQ 33.0625 21.96875 24.703125 23.78125 \nL 21.578125 24.515625 \nQ 13.234375 26.265625 9.515625 29.90625 \nQ 5.8125 33.546875 5.8125 39.890625 \nQ 5.8125 47.609375 11.28125 51.796875 \nQ 16.75 56 26.8125 56 \nQ 31.78125 56 36.171875 55.265625 \nQ 40.578125 54.546875 44.28125 53.078125 \nz\n\" id=\"DejaVuSans-115\"/>\n      </defs>\n      <use xlink:href=\"#DejaVuSans-100\"/>\n      <use x=\"63.476562\" xlink:href=\"#DejaVuSans-97\"/>\n      <use x=\"124.755859\" xlink:href=\"#DejaVuSans-121\"/>\n      <use x=\"183.935547\" xlink:href=\"#DejaVuSans-115\"/>\n     </g>\n    </g>\n   </g>\n   <g id=\"matplotlib.axis_2\">\n    <g id=\"ytick_1\">\n     <g id=\"line2d_6\">\n      <defs>\n       <path d=\"M 0 0 \nL -3.5 0 \n\" id=\"m62021c902b\" style=\"stroke:#000000;stroke-width:0.8;\"/>\n      </defs>\n      <g>\n       <use style=\"stroke:#000000;stroke-width:0.8;\" x=\"50.14375\" xlink:href=\"#m62021c902b\" y=\"232.947874\"/>\n      </g>\n     </g>\n     <g id=\"text_7\">\n      <!-- 19.0 -->\n      <g transform=\"translate(20.878125 236.747093)scale(0.1 -0.1)\">\n       <defs>\n        <path d=\"M 12.40625 8.296875 \nL 28.515625 8.296875 \nL 28.515625 63.921875 \nL 10.984375 60.40625 \nL 10.984375 69.390625 \nL 28.421875 72.90625 \nL 38.28125 72.90625 \nL 38.28125 8.296875 \nL 54.390625 8.296875 \nL 54.390625 0 \nL 12.40625 0 \nz\n\" id=\"DejaVuSans-49\"/>\n        <path d=\"M 10.984375 1.515625 \nL 10.984375 10.5 \nQ 14.703125 8.734375 18.5 7.8125 \nQ 22.3125 6.890625 25.984375 6.890625 \nQ 35.75 6.890625 40.890625 13.453125 \nQ 46.046875 20.015625 46.78125 33.40625 \nQ 43.953125 29.203125 39.59375 26.953125 \nQ 35.25 24.703125 29.984375 24.703125 \nQ 19.046875 24.703125 12.671875 31.3125 \nQ 6.296875 37.9375 6.296875 49.421875 \nQ 6.296875 60.640625 12.9375 67.421875 \nQ 19.578125 74.21875 30.609375 74.21875 \nQ 43.265625 74.21875 49.921875 64.515625 \nQ 56.59375 54.828125 56.59375 36.375 \nQ 56.59375 19.140625 48.40625 8.859375 \nQ 40.234375 -1.421875 26.421875 -1.421875 \nQ 22.703125 -1.421875 18.890625 -0.6875 \nQ 15.09375 0.046875 10.984375 1.515625 \nz\nM 30.609375 32.421875 \nQ 37.25 32.421875 41.125 36.953125 \nQ 45.015625 41.5 45.015625 49.421875 \nQ 45.015625 57.28125 41.125 61.84375 \nQ 37.25 66.40625 30.609375 66.40625 \nQ 23.96875 66.40625 20.09375 61.84375 \nQ 16.21875 57.28125 16.21875 49.421875 \nQ 16.21875 41.5 20.09375 36.953125 \nQ 23.96875 32.421875 30.609375 32.421875 \nz\n\" id=\"DejaVuSans-57\"/>\n        <path d=\"M 10.6875 12.40625 \nL 21 12.40625 \nL 21 0 \nL 10.6875 0 \nz\n\" id=\"DejaVuSans-46\"/>\n       </defs>\n       <use xlink:href=\"#DejaVuSans-49\"/>\n       <use x=\"63.623047\" xlink:href=\"#DejaVuSans-57\"/>\n       <use x=\"127.246094\" xlink:href=\"#DejaVuSans-46\"/>\n       <use x=\"159.033203\" xlink:href=\"#DejaVuSans-48\"/>\n      </g>\n     </g>\n    </g>\n    <g id=\"ytick_2\">\n     <g id=\"line2d_7\">\n      <g>\n       <use style=\"stroke:#000000;stroke-width:0.8;\" x=\"50.14375\" xlink:href=\"#m62021c902b\" y=\"191.471406\"/>\n      </g>\n     </g>\n     <g id=\"text_8\">\n      <!-- 19.5 -->\n      <g transform=\"translate(20.878125 195.270624)scale(0.1 -0.1)\">\n       <defs>\n        <path d=\"M 10.796875 72.90625 \nL 49.515625 72.90625 \nL 49.515625 64.59375 \nL 19.828125 64.59375 \nL 19.828125 46.734375 \nQ 21.96875 47.46875 24.109375 47.828125 \nQ 26.265625 48.1875 28.421875 48.1875 \nQ 40.625 48.1875 47.75 41.5 \nQ 54.890625 34.8125 54.890625 23.390625 \nQ 54.890625 11.625 47.5625 5.09375 \nQ 40.234375 -1.421875 26.90625 -1.421875 \nQ 22.3125 -1.421875 17.546875 -0.640625 \nQ 12.796875 0.140625 7.71875 1.703125 \nL 7.71875 11.625 \nQ 12.109375 9.234375 16.796875 8.0625 \nQ 21.484375 6.890625 26.703125 6.890625 \nQ 35.15625 6.890625 40.078125 11.328125 \nQ 45.015625 15.765625 45.015625 23.390625 \nQ 45.015625 31 40.078125 35.4375 \nQ 35.15625 39.890625 26.703125 39.890625 \nQ 22.75 39.890625 18.8125 39.015625 \nQ 14.890625 38.140625 10.796875 36.28125 \nz\n\" id=\"DejaVuSans-53\"/>\n       </defs>\n       <use xlink:href=\"#DejaVuSans-49\"/>\n       <use x=\"63.623047\" xlink:href=\"#DejaVuSans-57\"/>\n       <use x=\"127.246094\" xlink:href=\"#DejaVuSans-46\"/>\n       <use x=\"159.033203\" xlink:href=\"#DejaVuSans-53\"/>\n      </g>\n     </g>\n    </g>\n    <g id=\"ytick_3\">\n     <g id=\"line2d_8\">\n      <g>\n       <use style=\"stroke:#000000;stroke-width:0.8;\" x=\"50.14375\" xlink:href=\"#m62021c902b\" y=\"149.994937\"/>\n      </g>\n     </g>\n     <g id=\"text_9\">\n      <!-- 20.0 -->\n      <g transform=\"translate(20.878125 153.794156)scale(0.1 -0.1)\">\n       <use xlink:href=\"#DejaVuSans-50\"/>\n       <use x=\"63.623047\" xlink:href=\"#DejaVuSans-48\"/>\n       <use x=\"127.246094\" xlink:href=\"#DejaVuSans-46\"/>\n       <use x=\"159.033203\" xlink:href=\"#DejaVuSans-48\"/>\n      </g>\n     </g>\n    </g>\n    <g id=\"ytick_4\">\n     <g id=\"line2d_9\">\n      <g>\n       <use style=\"stroke:#000000;stroke-width:0.8;\" x=\"50.14375\" xlink:href=\"#m62021c902b\" y=\"108.518469\"/>\n      </g>\n     </g>\n     <g id=\"text_10\">\n      <!-- 20.5 -->\n      <g transform=\"translate(20.878125 112.317688)scale(0.1 -0.1)\">\n       <use xlink:href=\"#DejaVuSans-50\"/>\n       <use x=\"63.623047\" xlink:href=\"#DejaVuSans-48\"/>\n       <use x=\"127.246094\" xlink:href=\"#DejaVuSans-46\"/>\n       <use x=\"159.033203\" xlink:href=\"#DejaVuSans-53\"/>\n      </g>\n     </g>\n    </g>\n    <g id=\"ytick_5\">\n     <g id=\"line2d_10\">\n      <g>\n       <use style=\"stroke:#000000;stroke-width:0.8;\" x=\"50.14375\" xlink:href=\"#m62021c902b\" y=\"67.042001\"/>\n      </g>\n     </g>\n     <g id=\"text_11\">\n      <!-- 21.0 -->\n      <g transform=\"translate(20.878125 70.84122)scale(0.1 -0.1)\">\n       <use xlink:href=\"#DejaVuSans-50\"/>\n       <use x=\"63.623047\" xlink:href=\"#DejaVuSans-49\"/>\n       <use x=\"127.246094\" xlink:href=\"#DejaVuSans-46\"/>\n       <use x=\"159.033203\" xlink:href=\"#DejaVuSans-48\"/>\n      </g>\n     </g>\n    </g>\n    <g id=\"ytick_6\">\n     <g id=\"line2d_11\">\n      <g>\n       <use style=\"stroke:#000000;stroke-width:0.8;\" x=\"50.14375\" xlink:href=\"#m62021c902b\" y=\"25.565533\"/>\n      </g>\n     </g>\n     <g id=\"text_12\">\n      <!-- 21.5 -->\n      <g transform=\"translate(20.878125 29.364752)scale(0.1 -0.1)\">\n       <use xlink:href=\"#DejaVuSans-50\"/>\n       <use x=\"63.623047\" xlink:href=\"#DejaVuSans-49\"/>\n       <use x=\"127.246094\" xlink:href=\"#DejaVuSans-46\"/>\n       <use x=\"159.033203\" xlink:href=\"#DejaVuSans-53\"/>\n      </g>\n     </g>\n    </g>\n    <g id=\"text_13\">\n     <!-- stock price -->\n     <g transform=\"translate(14.798438 158.340469)rotate(-90)scale(0.1 -0.1)\">\n      <defs>\n       <path d=\"M 18.3125 70.21875 \nL 18.3125 54.6875 \nL 36.8125 54.6875 \nL 36.8125 47.703125 \nL 18.3125 47.703125 \nL 18.3125 18.015625 \nQ 18.3125 11.328125 20.140625 9.421875 \nQ 21.96875 7.515625 27.59375 7.515625 \nL 36.8125 7.515625 \nL 36.8125 0 \nL 27.59375 0 \nQ 17.1875 0 13.234375 3.875 \nQ 9.28125 7.765625 9.28125 18.015625 \nL 9.28125 47.703125 \nL 2.6875 47.703125 \nL 2.6875 54.6875 \nL 9.28125 54.6875 \nL 9.28125 70.21875 \nz\n\" id=\"DejaVuSans-116\"/>\n       <path d=\"M 30.609375 48.390625 \nQ 23.390625 48.390625 19.1875 42.75 \nQ 14.984375 37.109375 14.984375 27.296875 \nQ 14.984375 17.484375 19.15625 11.84375 \nQ 23.34375 6.203125 30.609375 6.203125 \nQ 37.796875 6.203125 41.984375 11.859375 \nQ 46.1875 17.53125 46.1875 27.296875 \nQ 46.1875 37.015625 41.984375 42.703125 \nQ 37.796875 48.390625 30.609375 48.390625 \nz\nM 30.609375 56 \nQ 42.328125 56 49.015625 48.375 \nQ 55.71875 40.765625 55.71875 27.296875 \nQ 55.71875 13.875 49.015625 6.21875 \nQ 42.328125 -1.421875 30.609375 -1.421875 \nQ 18.84375 -1.421875 12.171875 6.21875 \nQ 5.515625 13.875 5.515625 27.296875 \nQ 5.515625 40.765625 12.171875 48.375 \nQ 18.84375 56 30.609375 56 \nz\n\" id=\"DejaVuSans-111\"/>\n       <path d=\"M 48.78125 52.59375 \nL 48.78125 44.1875 \nQ 44.96875 46.296875 41.140625 47.34375 \nQ 37.3125 48.390625 33.40625 48.390625 \nQ 24.65625 48.390625 19.8125 42.84375 \nQ 14.984375 37.3125 14.984375 27.296875 \nQ 14.984375 17.28125 19.8125 11.734375 \nQ 24.65625 6.203125 33.40625 6.203125 \nQ 37.3125 6.203125 41.140625 7.25 \nQ 44.96875 8.296875 48.78125 10.40625 \nL 48.78125 2.09375 \nQ 45.015625 0.34375 40.984375 -0.53125 \nQ 36.96875 -1.421875 32.421875 -1.421875 \nQ 20.0625 -1.421875 12.78125 6.34375 \nQ 5.515625 14.109375 5.515625 27.296875 \nQ 5.515625 40.671875 12.859375 48.328125 \nQ 20.21875 56 33.015625 56 \nQ 37.15625 56 41.109375 55.140625 \nQ 45.0625 54.296875 48.78125 52.59375 \nz\n\" id=\"DejaVuSans-99\"/>\n       <path d=\"M 9.078125 75.984375 \nL 18.109375 75.984375 \nL 18.109375 31.109375 \nL 44.921875 54.6875 \nL 56.390625 54.6875 \nL 27.390625 29.109375 \nL 57.625 0 \nL 45.90625 0 \nL 18.109375 26.703125 \nL 18.109375 0 \nL 9.078125 0 \nz\n\" id=\"DejaVuSans-107\"/>\n       <path id=\"DejaVuSans-32\"/>\n       <path d=\"M 18.109375 8.203125 \nL 18.109375 -20.796875 \nL 9.078125 -20.796875 \nL 9.078125 54.6875 \nL 18.109375 54.6875 \nL 18.109375 46.390625 \nQ 20.953125 51.265625 25.265625 53.625 \nQ 29.59375 56 35.59375 56 \nQ 45.5625 56 51.78125 48.09375 \nQ 58.015625 40.1875 58.015625 27.296875 \nQ 58.015625 14.40625 51.78125 6.484375 \nQ 45.5625 -1.421875 35.59375 -1.421875 \nQ 29.59375 -1.421875 25.265625 0.953125 \nQ 20.953125 3.328125 18.109375 8.203125 \nz\nM 48.6875 27.296875 \nQ 48.6875 37.203125 44.609375 42.84375 \nQ 40.53125 48.484375 33.40625 48.484375 \nQ 26.265625 48.484375 22.1875 42.84375 \nQ 18.109375 37.203125 18.109375 27.296875 \nQ 18.109375 17.390625 22.1875 11.75 \nQ 26.265625 6.109375 33.40625 6.109375 \nQ 40.53125 6.109375 44.609375 11.75 \nQ 48.6875 17.390625 48.6875 27.296875 \nz\n\" id=\"DejaVuSans-112\"/>\n       <path d=\"M 41.109375 46.296875 \nQ 39.59375 47.171875 37.8125 47.578125 \nQ 36.03125 48 33.890625 48 \nQ 26.265625 48 22.1875 43.046875 \nQ 18.109375 38.09375 18.109375 28.8125 \nL 18.109375 0 \nL 9.078125 0 \nL 9.078125 54.6875 \nL 18.109375 54.6875 \nL 18.109375 46.1875 \nQ 20.953125 51.171875 25.484375 53.578125 \nQ 30.03125 56 36.53125 56 \nQ 37.453125 56 38.578125 55.875 \nQ 39.703125 55.765625 41.0625 55.515625 \nz\n\" id=\"DejaVuSans-114\"/>\n       <path d=\"M 9.421875 54.6875 \nL 18.40625 54.6875 \nL 18.40625 0 \nL 9.421875 0 \nz\nM 9.421875 75.984375 \nL 18.40625 75.984375 \nL 18.40625 64.59375 \nL 9.421875 64.59375 \nz\n\" id=\"DejaVuSans-105\"/>\n       <path d=\"M 56.203125 29.59375 \nL 56.203125 25.203125 \nL 14.890625 25.203125 \nQ 15.484375 15.921875 20.484375 11.0625 \nQ 25.484375 6.203125 34.421875 6.203125 \nQ 39.59375 6.203125 44.453125 7.46875 \nQ 49.3125 8.734375 54.109375 11.28125 \nL 54.109375 2.78125 \nQ 49.265625 0.734375 44.1875 -0.34375 \nQ 39.109375 -1.421875 33.890625 -1.421875 \nQ 20.796875 -1.421875 13.15625 6.1875 \nQ 5.515625 13.8125 5.515625 26.8125 \nQ 5.515625 40.234375 12.765625 48.109375 \nQ 20.015625 56 32.328125 56 \nQ 43.359375 56 49.78125 48.890625 \nQ 56.203125 41.796875 56.203125 29.59375 \nz\nM 47.21875 32.234375 \nQ 47.125 39.59375 43.09375 43.984375 \nQ 39.0625 48.390625 32.421875 48.390625 \nQ 24.90625 48.390625 20.390625 44.140625 \nQ 15.875 39.890625 15.1875 32.171875 \nz\n\" id=\"DejaVuSans-101\"/>\n      </defs>\n      <use xlink:href=\"#DejaVuSans-115\"/>\n      <use x=\"52.099609\" xlink:href=\"#DejaVuSans-116\"/>\n      <use x=\"91.308594\" xlink:href=\"#DejaVuSans-111\"/>\n      <use x=\"152.490234\" xlink:href=\"#DejaVuSans-99\"/>\n      <use x=\"207.470703\" xlink:href=\"#DejaVuSans-107\"/>\n      <use x=\"265.380859\" xlink:href=\"#DejaVuSans-32\"/>\n      <use x=\"297.167969\" xlink:href=\"#DejaVuSans-112\"/>\n      <use x=\"360.644531\" xlink:href=\"#DejaVuSans-114\"/>\n      <use x=\"401.757812\" xlink:href=\"#DejaVuSans-105\"/>\n      <use x=\"429.541016\" xlink:href=\"#DejaVuSans-99\"/>\n      <use x=\"484.521484\" xlink:href=\"#DejaVuSans-101\"/>\n     </g>\n    </g>\n   </g>\n   <g id=\"line2d_12\">\n    <path clip-path=\"url(#p7ebe43dc85)\" d=\"M 65.361932 188.153212 \nL 99.180114 150.824486 \nL 132.998295 207.232508 \nL 166.816477 70.360194 \nL 200.634659 91.264307 \nL 234.452841 112.168419 \nL 268.271023 32.201761 \nL 302.089205 64.553356 \nL 335.907386 90.26888 \nL 369.725568 146.676744 \n\" style=\"fill:none;stroke:#1f77b4;stroke-linecap:square;stroke-width:1.5;\"/>\n   </g>\n   <g id=\"line2d_13\">\n    <path clip-path=\"url(#p7ebe43dc85)\" d=\"M 65.361932 226.526817 \nL 99.180114 227.013586 \nL 132.998295 226.01791 \nL 166.816477 224.903488 \nL 200.634659 229.874489 \nL 234.452841 225.191159 \nL 268.271023 225.757427 \nL 302.089205 228.732762 \nL 335.907386 228.757756 \nL 369.725568 228.736838 \n\" style=\"fill:none;stroke:#ff7f0e;stroke-linecap:square;stroke-width:1.5;\"/>\n   </g>\n   <g id=\"patch_3\">\n    <path d=\"M 50.14375 239.758125 \nL 50.14375 22.318125 \n\" style=\"fill:none;stroke:#000000;stroke-linecap:square;stroke-linejoin:miter;stroke-width:0.8;\"/>\n   </g>\n   <g id=\"patch_4\">\n    <path d=\"M 384.94375 239.758125 \nL 384.94375 22.318125 \n\" style=\"fill:none;stroke:#000000;stroke-linecap:square;stroke-linejoin:miter;stroke-width:0.8;\"/>\n   </g>\n   <g id=\"patch_5\">\n    <path d=\"M 50.14375 239.758125 \nL 384.94375 239.758125 \n\" style=\"fill:none;stroke:#000000;stroke-linecap:square;stroke-linejoin:miter;stroke-width:0.8;\"/>\n   </g>\n   <g id=\"patch_6\">\n    <path d=\"M 50.14375 22.318125 \nL 384.94375 22.318125 \n\" style=\"fill:none;stroke:#000000;stroke-linecap:square;stroke-linejoin:miter;stroke-width:0.8;\"/>\n   </g>\n   <g id=\"text_14\">\n    <!-- Denormalized Long_10 model of COG -->\n    <g transform=\"translate(105.079375 16.318125)scale(0.12 -0.12)\">\n     <defs>\n      <path d=\"M 19.671875 64.796875 \nL 19.671875 8.109375 \nL 31.59375 8.109375 \nQ 46.6875 8.109375 53.6875 14.9375 \nQ 60.6875 21.78125 60.6875 36.53125 \nQ 60.6875 51.171875 53.6875 57.984375 \nQ 46.6875 64.796875 31.59375 64.796875 \nz\nM 9.8125 72.90625 \nL 30.078125 72.90625 \nQ 51.265625 72.90625 61.171875 64.09375 \nQ 71.09375 55.28125 71.09375 36.53125 \nQ 71.09375 17.671875 61.125 8.828125 \nQ 51.171875 0 30.078125 0 \nL 9.8125 0 \nz\n\" id=\"DejaVuSans-68\"/>\n      <path d=\"M 54.890625 33.015625 \nL 54.890625 0 \nL 45.90625 0 \nL 45.90625 32.71875 \nQ 45.90625 40.484375 42.875 44.328125 \nQ 39.84375 48.1875 33.796875 48.1875 \nQ 26.515625 48.1875 22.3125 43.546875 \nQ 18.109375 38.921875 18.109375 30.90625 \nL 18.109375 0 \nL 9.078125 0 \nL 9.078125 54.6875 \nL 18.109375 54.6875 \nL 18.109375 46.1875 \nQ 21.34375 51.125 25.703125 53.5625 \nQ 30.078125 56 35.796875 56 \nQ 45.21875 56 50.046875 50.171875 \nQ 54.890625 44.34375 54.890625 33.015625 \nz\n\" id=\"DejaVuSans-110\"/>\n      <path d=\"M 52 44.1875 \nQ 55.375 50.25 60.0625 53.125 \nQ 64.75 56 71.09375 56 \nQ 79.640625 56 84.28125 50.015625 \nQ 88.921875 44.046875 88.921875 33.015625 \nL 88.921875 0 \nL 79.890625 0 \nL 79.890625 32.71875 \nQ 79.890625 40.578125 77.09375 44.375 \nQ 74.3125 48.1875 68.609375 48.1875 \nQ 61.625 48.1875 57.5625 43.546875 \nQ 53.515625 38.921875 53.515625 30.90625 \nL 53.515625 0 \nL 44.484375 0 \nL 44.484375 32.71875 \nQ 44.484375 40.625 41.703125 44.40625 \nQ 38.921875 48.1875 33.109375 48.1875 \nQ 26.21875 48.1875 22.15625 43.53125 \nQ 18.109375 38.875 18.109375 30.90625 \nL 18.109375 0 \nL 9.078125 0 \nL 9.078125 54.6875 \nL 18.109375 54.6875 \nL 18.109375 46.1875 \nQ 21.1875 51.21875 25.484375 53.609375 \nQ 29.78125 56 35.6875 56 \nQ 41.65625 56 45.828125 52.96875 \nQ 50 49.953125 52 44.1875 \nz\n\" id=\"DejaVuSans-109\"/>\n      <path d=\"M 9.421875 75.984375 \nL 18.40625 75.984375 \nL 18.40625 0 \nL 9.421875 0 \nz\n\" id=\"DejaVuSans-108\"/>\n      <path d=\"M 5.515625 54.6875 \nL 48.1875 54.6875 \nL 48.1875 46.484375 \nL 14.40625 7.171875 \nL 48.1875 7.171875 \nL 48.1875 0 \nL 4.296875 0 \nL 4.296875 8.203125 \nL 38.09375 47.515625 \nL 5.515625 47.515625 \nz\n\" id=\"DejaVuSans-122\"/>\n      <path d=\"M 9.8125 72.90625 \nL 19.671875 72.90625 \nL 19.671875 8.296875 \nL 55.171875 8.296875 \nL 55.171875 0 \nL 9.8125 0 \nz\n\" id=\"DejaVuSans-76\"/>\n      <path d=\"M 45.40625 27.984375 \nQ 45.40625 37.75 41.375 43.109375 \nQ 37.359375 48.484375 30.078125 48.484375 \nQ 22.859375 48.484375 18.828125 43.109375 \nQ 14.796875 37.75 14.796875 27.984375 \nQ 14.796875 18.265625 18.828125 12.890625 \nQ 22.859375 7.515625 30.078125 7.515625 \nQ 37.359375 7.515625 41.375 12.890625 \nQ 45.40625 18.265625 45.40625 27.984375 \nz\nM 54.390625 6.78125 \nQ 54.390625 -7.171875 48.1875 -13.984375 \nQ 42 -20.796875 29.203125 -20.796875 \nQ 24.46875 -20.796875 20.265625 -20.09375 \nQ 16.0625 -19.390625 12.109375 -17.921875 \nL 12.109375 -9.1875 \nQ 16.0625 -11.328125 19.921875 -12.34375 \nQ 23.78125 -13.375 27.78125 -13.375 \nQ 36.625 -13.375 41.015625 -8.765625 \nQ 45.40625 -4.15625 45.40625 5.171875 \nL 45.40625 9.625 \nQ 42.625 4.78125 38.28125 2.390625 \nQ 33.9375 0 27.875 0 \nQ 17.828125 0 11.671875 7.65625 \nQ 5.515625 15.328125 5.515625 27.984375 \nQ 5.515625 40.671875 11.671875 48.328125 \nQ 17.828125 56 27.875 56 \nQ 33.9375 56 38.28125 53.609375 \nQ 42.625 51.21875 45.40625 46.390625 \nL 45.40625 54.6875 \nL 54.390625 54.6875 \nz\n\" id=\"DejaVuSans-103\"/>\n      <path d=\"M 50.984375 -16.609375 \nL 50.984375 -23.578125 \nL -0.984375 -23.578125 \nL -0.984375 -16.609375 \nz\n\" id=\"DejaVuSans-95\"/>\n      <path d=\"M 37.109375 75.984375 \nL 37.109375 68.5 \nL 28.515625 68.5 \nQ 23.6875 68.5 21.796875 66.546875 \nQ 19.921875 64.59375 19.921875 59.515625 \nL 19.921875 54.6875 \nL 34.71875 54.6875 \nL 34.71875 47.703125 \nL 19.921875 47.703125 \nL 19.921875 0 \nL 10.890625 0 \nL 10.890625 47.703125 \nL 2.296875 47.703125 \nL 2.296875 54.6875 \nL 10.890625 54.6875 \nL 10.890625 58.5 \nQ 10.890625 67.625 15.140625 71.796875 \nQ 19.390625 75.984375 28.609375 75.984375 \nz\n\" id=\"DejaVuSans-102\"/>\n      <path d=\"M 64.40625 67.28125 \nL 64.40625 56.890625 \nQ 59.421875 61.53125 53.78125 63.8125 \nQ 48.140625 66.109375 41.796875 66.109375 \nQ 29.296875 66.109375 22.65625 58.46875 \nQ 16.015625 50.828125 16.015625 36.375 \nQ 16.015625 21.96875 22.65625 14.328125 \nQ 29.296875 6.6875 41.796875 6.6875 \nQ 48.140625 6.6875 53.78125 8.984375 \nQ 59.421875 11.28125 64.40625 15.921875 \nL 64.40625 5.609375 \nQ 59.234375 2.09375 53.4375 0.328125 \nQ 47.65625 -1.421875 41.21875 -1.421875 \nQ 24.65625 -1.421875 15.125 8.703125 \nQ 5.609375 18.84375 5.609375 36.375 \nQ 5.609375 53.953125 15.125 64.078125 \nQ 24.65625 74.21875 41.21875 74.21875 \nQ 47.75 74.21875 53.53125 72.484375 \nQ 59.328125 70.75 64.40625 67.28125 \nz\n\" id=\"DejaVuSans-67\"/>\n      <path d=\"M 39.40625 66.21875 \nQ 28.65625 66.21875 22.328125 58.203125 \nQ 16.015625 50.203125 16.015625 36.375 \nQ 16.015625 22.609375 22.328125 14.59375 \nQ 28.65625 6.59375 39.40625 6.59375 \nQ 50.140625 6.59375 56.421875 14.59375 \nQ 62.703125 22.609375 62.703125 36.375 \nQ 62.703125 50.203125 56.421875 58.203125 \nQ 50.140625 66.21875 39.40625 66.21875 \nz\nM 39.40625 74.21875 \nQ 54.734375 74.21875 63.90625 63.9375 \nQ 73.09375 53.65625 73.09375 36.375 \nQ 73.09375 19.140625 63.90625 8.859375 \nQ 54.734375 -1.421875 39.40625 -1.421875 \nQ 24.03125 -1.421875 14.8125 8.828125 \nQ 5.609375 19.09375 5.609375 36.375 \nQ 5.609375 53.65625 14.8125 63.9375 \nQ 24.03125 74.21875 39.40625 74.21875 \nz\n\" id=\"DejaVuSans-79\"/>\n      <path d=\"M 59.515625 10.40625 \nL 59.515625 29.984375 \nL 43.40625 29.984375 \nL 43.40625 38.09375 \nL 69.28125 38.09375 \nL 69.28125 6.78125 \nQ 63.578125 2.734375 56.6875 0.65625 \nQ 49.8125 -1.421875 42 -1.421875 \nQ 24.90625 -1.421875 15.25 8.5625 \nQ 5.609375 18.5625 5.609375 36.375 \nQ 5.609375 54.25 15.25 64.234375 \nQ 24.90625 74.21875 42 74.21875 \nQ 49.125 74.21875 55.546875 72.453125 \nQ 61.96875 70.703125 67.390625 67.28125 \nL 67.390625 56.78125 \nQ 61.921875 61.421875 55.765625 63.765625 \nQ 49.609375 66.109375 42.828125 66.109375 \nQ 29.4375 66.109375 22.71875 58.640625 \nQ 16.015625 51.171875 16.015625 36.375 \nQ 16.015625 21.625 22.71875 14.15625 \nQ 29.4375 6.6875 42.828125 6.6875 \nQ 48.046875 6.6875 52.140625 7.59375 \nQ 56.25 8.5 59.515625 10.40625 \nz\n\" id=\"DejaVuSans-71\"/>\n     </defs>\n     <use xlink:href=\"#DejaVuSans-68\"/>\n     <use x=\"77.001953\" xlink:href=\"#DejaVuSans-101\"/>\n     <use x=\"138.525391\" xlink:href=\"#DejaVuSans-110\"/>\n     <use x=\"201.904297\" xlink:href=\"#DejaVuSans-111\"/>\n     <use x=\"263.085938\" xlink:href=\"#DejaVuSans-114\"/>\n     <use x=\"302.449219\" xlink:href=\"#DejaVuSans-109\"/>\n     <use x=\"399.861328\" xlink:href=\"#DejaVuSans-97\"/>\n     <use x=\"461.140625\" xlink:href=\"#DejaVuSans-108\"/>\n     <use x=\"488.923828\" xlink:href=\"#DejaVuSans-105\"/>\n     <use x=\"516.707031\" xlink:href=\"#DejaVuSans-122\"/>\n     <use x=\"569.197266\" xlink:href=\"#DejaVuSans-101\"/>\n     <use x=\"630.720703\" xlink:href=\"#DejaVuSans-100\"/>\n     <use x=\"694.197266\" xlink:href=\"#DejaVuSans-32\"/>\n     <use x=\"725.984375\" xlink:href=\"#DejaVuSans-76\"/>\n     <use x=\"779.947266\" xlink:href=\"#DejaVuSans-111\"/>\n     <use x=\"841.128906\" xlink:href=\"#DejaVuSans-110\"/>\n     <use x=\"904.507812\" xlink:href=\"#DejaVuSans-103\"/>\n     <use x=\"967.984375\" xlink:href=\"#DejaVuSans-95\"/>\n     <use x=\"1017.984375\" xlink:href=\"#DejaVuSans-49\"/>\n     <use x=\"1081.607422\" xlink:href=\"#DejaVuSans-48\"/>\n     <use x=\"1145.230469\" xlink:href=\"#DejaVuSans-32\"/>\n     <use x=\"1177.017578\" xlink:href=\"#DejaVuSans-109\"/>\n     <use x=\"1274.429688\" xlink:href=\"#DejaVuSans-111\"/>\n     <use x=\"1335.611328\" xlink:href=\"#DejaVuSans-100\"/>\n     <use x=\"1399.087891\" xlink:href=\"#DejaVuSans-101\"/>\n     <use x=\"1460.611328\" xlink:href=\"#DejaVuSans-108\"/>\n     <use x=\"1488.394531\" xlink:href=\"#DejaVuSans-32\"/>\n     <use x=\"1520.181641\" xlink:href=\"#DejaVuSans-111\"/>\n     <use x=\"1581.363281\" xlink:href=\"#DejaVuSans-102\"/>\n     <use x=\"1616.568359\" xlink:href=\"#DejaVuSans-32\"/>\n     <use x=\"1648.355469\" xlink:href=\"#DejaVuSans-67\"/>\n     <use x=\"1718.179688\" xlink:href=\"#DejaVuSans-79\"/>\n     <use x=\"1796.890625\" xlink:href=\"#DejaVuSans-71\"/>\n    </g>\n   </g>\n   <g id=\"legend_1\">\n    <g id=\"patch_7\">\n     <path d=\"M 323.207812 59.674375 \nL 377.94375 59.674375 \nQ 379.94375 59.674375 379.94375 57.674375 \nL 379.94375 29.318125 \nQ 379.94375 27.318125 377.94375 27.318125 \nL 323.207812 27.318125 \nQ 321.207812 27.318125 321.207812 29.318125 \nL 321.207812 57.674375 \nQ 321.207812 59.674375 323.207812 59.674375 \nz\n\" style=\"fill:#ffffff;opacity:0.8;stroke:#cccccc;stroke-linejoin:miter;\"/>\n    </g>\n    <g id=\"line2d_14\">\n     <path d=\"M 325.207812 35.416562 \nL 345.207812 35.416562 \n\" style=\"fill:none;stroke:#1f77b4;stroke-linecap:square;stroke-width:1.5;\"/>\n    </g>\n    <g id=\"line2d_15\"/>\n    <g id=\"text_15\">\n     <!-- true -->\n     <g transform=\"translate(353.207812 38.916562)scale(0.1 -0.1)\">\n      <defs>\n       <path d=\"M 8.5 21.578125 \nL 8.5 54.6875 \nL 17.484375 54.6875 \nL 17.484375 21.921875 \nQ 17.484375 14.15625 20.5 10.265625 \nQ 23.53125 6.390625 29.59375 6.390625 \nQ 36.859375 6.390625 41.078125 11.03125 \nQ 45.3125 15.671875 45.3125 23.6875 \nL 45.3125 54.6875 \nL 54.296875 54.6875 \nL 54.296875 0 \nL 45.3125 0 \nL 45.3125 8.40625 \nQ 42.046875 3.421875 37.71875 1 \nQ 33.40625 -1.421875 27.6875 -1.421875 \nQ 18.265625 -1.421875 13.375 4.4375 \nQ 8.5 10.296875 8.5 21.578125 \nz\nM 31.109375 56 \nz\n\" id=\"DejaVuSans-117\"/>\n      </defs>\n      <use xlink:href=\"#DejaVuSans-116\"/>\n      <use x=\"39.208984\" xlink:href=\"#DejaVuSans-114\"/>\n      <use x=\"80.322266\" xlink:href=\"#DejaVuSans-117\"/>\n      <use x=\"143.701172\" xlink:href=\"#DejaVuSans-101\"/>\n     </g>\n    </g>\n    <g id=\"line2d_16\">\n     <path d=\"M 325.207812 50.094687 \nL 345.207812 50.094687 \n\" style=\"fill:none;stroke:#ff7f0e;stroke-linecap:square;stroke-width:1.5;\"/>\n    </g>\n    <g id=\"line2d_17\"/>\n    <g id=\"text_16\">\n     <!-- pred -->\n     <g transform=\"translate(353.207812 53.594687)scale(0.1 -0.1)\">\n      <use xlink:href=\"#DejaVuSans-112\"/>\n      <use x=\"63.476562\" xlink:href=\"#DejaVuSans-114\"/>\n      <use x=\"102.339844\" xlink:href=\"#DejaVuSans-101\"/>\n      <use x=\"163.863281\" xlink:href=\"#DejaVuSans-100\"/>\n     </g>\n    </g>\n   </g>\n  </g>\n </g>\n <defs>\n  <clipPath id=\"p7ebe43dc85\">\n   <rect height=\"217.44\" width=\"334.8\" x=\"50.14375\" y=\"22.318125\"/>\n  </clipPath>\n </defs>\n</svg>\n",
      "image/png": "[encoded data removed]"
     },
     "metadata": {
      "needs_background": "light"
     }
    }
   ],
   "source": [
    "plt.plot(ytest_denorm[0], label = 'true')\n",
    "plt.plot(pred_denorm[0], label = 'pred')\n",
    "plt.xlabel('days')\n",
    "plt.ylabel('stock price')\n",
    "plt.title('Denormalized Long_{} model of '.format(n) + stock)\n",
    "plt.legend()"
   ]
  },
  {
   "cell_type": "code",
   "execution_count": null,
   "metadata": {},
   "outputs": [],
   "source": [
    "# de_normalized\n",
    "de_predicted=[]\n",
    "len_pre_win=int(len(data)/prediction_len)\n",
    "len_pre=prediction_len\n",
    "\n",
    "m=0\n",
    "for i in range(0,len_pre_win):\n",
    "    for j in range(0,len_pre):\n",
    "      de_predicted.append(prediction_seqs[i][j][0]*record_max[m]+record_min[m])  # record_max is the max difference among prices, and record_min is the minimum price\n",
    "      m=m+1\n",
    "print(de_predicted)\n",
    "\n",
    "# np.save(../stockdata/result2/sp_5dim_n01_7030.npy',de_predicted)"
   ]
  },
  {
   "cell_type": "code",
   "execution_count": null,
   "metadata": {},
   "outputs": [],
   "source": [
    "error = []\n",
    "diff=y_test.shape[0]-prediction_len*pre_win_num\n",
    "\n",
    "for i in range(y_test_ori.shape[0]-diff):\n",
    "    error.append(y_test_ori[i,] - de_predicted[i])\n",
    "    \n",
    "squaredError = []\n",
    "absError = []\n",
    "for val in error:\n",
    "    squaredError.append(val * val) \n",
    "    absError.append(abs(val))\n",
    "\n",
    "error_percent=[]\n",
    "for i in range(len(error)):\n",
    "    val=absError[i]/y_test_ori[i,]\n",
    "    val=abs(val)\n",
    "    error_percent.append(val)\n",
    "\n",
    "mean_error_percent=sum(error_percent) / len(error_percent)\n",
    "accuracy=1-mean_error_percent\n",
    "\n",
    "MSE=sum(squaredError) / len(squaredError)\n",
    "\n",
    "print(\"MSE\",MSE)\n",
    "print('accuracy',accuracy)\n",
    "print('mean_error_percent',mean_error_percent)"
   ]
  }
 ]
}