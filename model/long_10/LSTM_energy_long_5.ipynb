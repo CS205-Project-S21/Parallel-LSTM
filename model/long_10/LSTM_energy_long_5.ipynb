{
 "metadata": {
  "language_info": {
   "codemirror_mode": {
    "name": "ipython",
    "version": 3
   },
   "file_extension": ".py",
   "mimetype": "text/x-python",
   "name": "python",
   "nbconvert_exporter": "python",
   "pygments_lexer": "ipython3",
   "version": "3.8.3"
  },
  "orig_nbformat": 2,
  "kernelspec": {
   "name": "python383jvsc74a57bd0f9520ba11fdc1099356e05d27a34ed870b487e4078e45fe1cddd0198c8b5354c",
   "display_name": "Python 3.8.3 64-bit ('base': conda)"
  }
 },
 "nbformat": 4,
 "nbformat_minor": 2,
 "cells": [
  {
   "source": [
    "# LSTM model\n",
    "from https://github.com/Xinyi6/DP-LSTM-Differential-Privacy-inspired-LSTM-for-Stock-Prediction-Using-Financial-News and make some changes\n",
    "\n",
    "### Where we can use big compute:\n",
    "- Adding noises to data\n",
    "- The computations of multi-sequence predictions\n",
    "- The calculation of MSE\n",
    "\n",
    "### Where we cannot use big compute:\n",
    "- The training of LSTM\n"
   ],
   "cell_type": "markdown",
   "metadata": {}
  },
  {
   "cell_type": "code",
   "execution_count": 95,
   "metadata": {},
   "outputs": [
    {
     "output_type": "stream",
     "name": "stdout",
     "text": [
      "Requirement already satisfied: vaderSentiment in /Users/lihongzhang/opt/anaconda3/lib/python3.8/site-packages (3.3.2)\n",
      "Requirement already satisfied: requests in /Users/lihongzhang/opt/anaconda3/lib/python3.8/site-packages (from vaderSentiment) (2.24.0)\n",
      "Requirement already satisfied: chardet<4,>=3.0.2 in /Users/lihongzhang/opt/anaconda3/lib/python3.8/site-packages (from requests->vaderSentiment) (3.0.4)\n",
      "Requirement already satisfied: urllib3!=1.25.0,!=1.25.1,<1.26,>=1.21.1 in /Users/lihongzhang/opt/anaconda3/lib/python3.8/site-packages (from requests->vaderSentiment) (1.25.9)\n",
      "Requirement already satisfied: idna<3,>=2.5 in /Users/lihongzhang/opt/anaconda3/lib/python3.8/site-packages (from requests->vaderSentiment) (2.10)\n",
      "Requirement already satisfied: certifi>=2017.4.17 in /Users/lihongzhang/opt/anaconda3/lib/python3.8/site-packages (from requests->vaderSentiment) (2020.11.8)\n"
     ]
    }
   ],
   "source": [
    "! pip install vaderSentiment"
   ]
  },
  {
   "source": [
    "## COG Model"
   ],
   "cell_type": "markdown",
   "metadata": {}
  },
  {
   "cell_type": "code",
   "execution_count": 2,
   "metadata": {},
   "outputs": [],
   "source": [
    "import json\n",
    "import time\n",
    "import math\n",
    "import matplotlib.pyplot as plt\n",
    "import numpy as np\n",
    "import pandas as pd\n",
    "import datetime as dt\n",
    "from numpy import newaxis\n",
    "from keras.layers import Dense, Activation, Dropout, LSTM\n",
    "from keras.models import Sequential, load_model\n",
    "from keras.callbacks import EarlyStopping, ModelCheckpoint\n",
    "from sklearn.linear_model import LinearRegression\n",
    "from sklearn.ensemble import RandomForestRegressor\n",
    "from sklearn.linear_model import Ridge\n",
    "from sklearn.metrics import mean_squared_error\n",
    "\n",
    "from math import pi,sqrt,exp,pow,log\n",
    "from numpy.linalg import det, inv\n",
    "from abc import ABCMeta, abstractmethod\n",
    "from sklearn import cluster\n",
    "\n",
    "import statsmodels.api as sm \n",
    "import scipy.stats as scs\n",
    "import scipy.optimize as sco\n",
    "import scipy.interpolate as sci\n",
    "from scipy import stats\n",
    "\n",
    "import matplotlib.pyplot as plt\n",
    "\n",
    "stock = 'COG'\n",
    "industry = 'energy'"
   ]
  },
  {
   "cell_type": "code",
   "execution_count": 3,
   "metadata": {},
   "outputs": [
    {
     "output_type": "execute_result",
     "data": {
      "text/plain": [
       "                                              window  \\\n",
       "0  Row(start=datetime.datetime(2016, 3, 30, 20, 0...   \n",
       "1  Row(start=datetime.datetime(2016, 3, 31, 20, 0...   \n",
       "2  Row(start=datetime.datetime(2016, 4, 1, 20, 0)...   \n",
       "3  Row(start=datetime.datetime(2016, 4, 2, 20, 0)...   \n",
       "4  Row(start=datetime.datetime(2016, 4, 3, 20, 0)...   \n",
       "\n",
       "                                           NewsScore  \\\n",
       "0  [0.23850909090909092, 0.2385090909090909, 0.40...   \n",
       "1  [0.4082222222222222, 0.4082222222222222, 0.636...   \n",
       "2  [0.6362, 0.6362, 0.3410333333333333, 0.3410333...   \n",
       "3  [0.3410333333333333, 0.3410333333333333, 0.422...   \n",
       "4  [0.42273333333333335, 0.42273333333333335, 0.4...   \n",
       "\n",
       "                                     StockPrice_IXIC  \\\n",
       "0  [0.34565533783488345, 0.3492407538118469, 0.0,...   \n",
       "1  [0.10478549700277355, 0.9292240762279681, 0.92...   \n",
       "2  [0.9215968059407712, 0.9139695356535743, 0.906...   \n",
       "3  [0.6941069662074488, 0.6882657496584773, 0.682...   \n",
       "4  [0.6812284384177699, 0.5112921773404069, 0.196...   \n",
       "\n",
       "                                      StockPrice_COG  \\\n",
       "0  [0.3310344283277012, 0.3103442832770117, 0.0, ...   \n",
       "1  [0.0, 0.17241392918074708, 0.18620709613176337...   \n",
       "2  [0.15436295907525793, 0.16778581395051093, 0.1...   \n",
       "3  [0.1812086688257663, 0.19463152370101927, 0.20...   \n",
       "4  [0.20805437857627465, 0.2684570975050884, 0.08...   \n",
       "\n",
       "                                      StockPrice_DVN  \\\n",
       "0  [0.12231500252757865, 0.5459427526776289, 0.23...   \n",
       "1  [0.2267439217099609, 0.2906977904687976, 0.297...   \n",
       "2  [0.1910280433806068, 0.19514014560026252, 0.19...   \n",
       "3  [0.19925224781991757, 0.20336435003957332, 0.2...   \n",
       "4  [0.19337957269407688, 0.07665481607210442, 0.0...   \n",
       "\n",
       "                                      StockPrice_HFC  \n",
       "0  [0.31865551106792966, 0.8342984270004616, 0.35...  \n",
       "1  [0.3388893716131302, 0.17777768358768192, 0.14...  \n",
       "2  [0.14222214687014711, 0.10666661015260837, 0.0...  \n",
       "3  [0.06243898808139334, 0.031219494040694934, 0....  \n",
       "4  [0.0, 0.3073385665839566, 0.2110087248063779, ...  "
      ],
      "text/html": "<div>\n<style scoped>\n    .dataframe tbody tr th:only-of-type {\n        vertical-align: middle;\n    }\n\n    .dataframe tbody tr th {\n        vertical-align: top;\n    }\n\n    .dataframe thead th {\n        text-align: right;\n    }\n</style>\n<table border=\"1\" class=\"dataframe\">\n  <thead>\n    <tr style=\"text-align: right;\">\n      <th></th>\n      <th>window</th>\n      <th>NewsScore</th>\n      <th>StockPrice_IXIC</th>\n      <th>StockPrice_COG</th>\n      <th>StockPrice_DVN</th>\n      <th>StockPrice_HFC</th>\n    </tr>\n  </thead>\n  <tbody>\n    <tr>\n      <th>0</th>\n      <td>Row(start=datetime.datetime(2016, 3, 30, 20, 0...</td>\n      <td>[0.23850909090909092, 0.2385090909090909, 0.40...</td>\n      <td>[0.34565533783488345, 0.3492407538118469, 0.0,...</td>\n      <td>[0.3310344283277012, 0.3103442832770117, 0.0, ...</td>\n      <td>[0.12231500252757865, 0.5459427526776289, 0.23...</td>\n      <td>[0.31865551106792966, 0.8342984270004616, 0.35...</td>\n    </tr>\n    <tr>\n      <th>1</th>\n      <td>Row(start=datetime.datetime(2016, 3, 31, 20, 0...</td>\n      <td>[0.4082222222222222, 0.4082222222222222, 0.636...</td>\n      <td>[0.10478549700277355, 0.9292240762279681, 0.92...</td>\n      <td>[0.0, 0.17241392918074708, 0.18620709613176337...</td>\n      <td>[0.2267439217099609, 0.2906977904687976, 0.297...</td>\n      <td>[0.3388893716131302, 0.17777768358768192, 0.14...</td>\n    </tr>\n    <tr>\n      <th>2</th>\n      <td>Row(start=datetime.datetime(2016, 4, 1, 20, 0)...</td>\n      <td>[0.6362, 0.6362, 0.3410333333333333, 0.3410333...</td>\n      <td>[0.9215968059407712, 0.9139695356535743, 0.906...</td>\n      <td>[0.15436295907525793, 0.16778581395051093, 0.1...</td>\n      <td>[0.1910280433806068, 0.19514014560026252, 0.19...</td>\n      <td>[0.14222214687014711, 0.10666661015260837, 0.0...</td>\n    </tr>\n    <tr>\n      <th>3</th>\n      <td>Row(start=datetime.datetime(2016, 4, 2, 20, 0)...</td>\n      <td>[0.3410333333333333, 0.3410333333333333, 0.422...</td>\n      <td>[0.6941069662074488, 0.6882657496584773, 0.682...</td>\n      <td>[0.1812086688257663, 0.19463152370101927, 0.20...</td>\n      <td>[0.19925224781991757, 0.20336435003957332, 0.2...</td>\n      <td>[0.06243898808139334, 0.031219494040694934, 0....</td>\n    </tr>\n    <tr>\n      <th>4</th>\n      <td>Row(start=datetime.datetime(2016, 4, 3, 20, 0)...</td>\n      <td>[0.42273333333333335, 0.42273333333333335, 0.4...</td>\n      <td>[0.6812284384177699, 0.5112921773404069, 0.196...</td>\n      <td>[0.20805437857627465, 0.2684570975050884, 0.08...</td>\n      <td>[0.19337957269407688, 0.07665481607210442, 0.0...</td>\n      <td>[0.0, 0.3073385665839566, 0.2110087248063779, ...</td>\n    </tr>\n  </tbody>\n</table>\n</div>"
     },
     "metadata": {},
     "execution_count": 3
    }
   ],
   "source": [
    "# read data\n",
    "data = pd.read_csv('../../data/processed_data/data/processed_data_' + industry + '.txt')\n",
    "data.head(5)"
   ]
  },
  {
   "cell_type": "code",
   "execution_count": 4,
   "metadata": {},
   "outputs": [
    {
     "output_type": "execute_result",
     "data": {
      "text/plain": [
       "                                                 window  \\\n",
       "1831  Row(start=datetime.datetime(2021, 4, 4, 20, 0)...   \n",
       "1832  Row(start=datetime.datetime(2021, 4, 5, 20, 0)...   \n",
       "\n",
       "                                              NewsScore  \\\n",
       "1831  [0.0, 0.0, 0.5825199999999999, 0.6053, 0.99182...   \n",
       "1832  [0.5825199999999999, 0.6053, 0.991828571428571...   \n",
       "\n",
       "                                        StockPrice_IXIC  \\\n",
       "1831  [0.0, 0.24937955433519907, 0.19548878797479494...   \n",
       "1832                                                NaN   \n",
       "\n",
       "                                         StockPrice_COG  \\\n",
       "1831  [1.0, 0.8511621511328755, 0.9395344298362343, ...   \n",
       "1832                                                NaN   \n",
       "\n",
       "                                         StockPrice_DVN  \\\n",
       "1831  [1.0, 0.4476737545396579, 0.6220930941753764, ...   \n",
       "1832                                                NaN   \n",
       "\n",
       "                                         StockPrice_HFC  \n",
       "1831  [1.0, 0.7259479466253834, 0.763848017136108, 0...  \n",
       "1832                                                NaN  "
      ],
      "text/html": "<div>\n<style scoped>\n    .dataframe tbody tr th:only-of-type {\n        vertical-align: middle;\n    }\n\n    .dataframe tbody tr th {\n        vertical-align: top;\n    }\n\n    .dataframe thead th {\n        text-align: right;\n    }\n</style>\n<table border=\"1\" class=\"dataframe\">\n  <thead>\n    <tr style=\"text-align: right;\">\n      <th></th>\n      <th>window</th>\n      <th>NewsScore</th>\n      <th>StockPrice_IXIC</th>\n      <th>StockPrice_COG</th>\n      <th>StockPrice_DVN</th>\n      <th>StockPrice_HFC</th>\n    </tr>\n  </thead>\n  <tbody>\n    <tr>\n      <th>1831</th>\n      <td>Row(start=datetime.datetime(2021, 4, 4, 20, 0)...</td>\n      <td>[0.0, 0.0, 0.5825199999999999, 0.6053, 0.99182...</td>\n      <td>[0.0, 0.24937955433519907, 0.19548878797479494...</td>\n      <td>[1.0, 0.8511621511328755, 0.9395344298362343, ...</td>\n      <td>[1.0, 0.4476737545396579, 0.6220930941753764, ...</td>\n      <td>[1.0, 0.7259479466253834, 0.763848017136108, 0...</td>\n    </tr>\n    <tr>\n      <th>1832</th>\n      <td>Row(start=datetime.datetime(2021, 4, 5, 20, 0)...</td>\n      <td>[0.5825199999999999, 0.6053, 0.991828571428571...</td>\n      <td>NaN</td>\n      <td>NaN</td>\n      <td>NaN</td>\n      <td>NaN</td>\n    </tr>\n  </tbody>\n</table>\n</div>"
     },
     "metadata": {},
     "execution_count": 4
    }
   ],
   "source": [
    "data.iloc[-2:]"
   ]
  },
  {
   "cell_type": "code",
   "execution_count": 5,
   "metadata": {},
   "outputs": [],
   "source": [
    "data = data.iloc[:-1]\n",
    "# ratio of train and test data 0.8:0.2\n",
    "train_len = int(len(data)*0.8)\n",
    "test_len = len(data) - train_len"
   ]
  },
  {
   "source": [
    "### 2. Processing data"
   ],
   "cell_type": "markdown",
   "metadata": {}
  },
  {
   "cell_type": "code",
   "execution_count": 6,
   "metadata": {},
   "outputs": [],
   "source": [
    "def str2num(row):\n",
    "    l = row.split(',')\n",
    "    result = []\n",
    "    result.append(float(l[0][1:]))\n",
    "    for n in l[1:-1]:\n",
    "        result.append(float(n))\n",
    "    result.append(float(l[-1][:-1]))\n",
    "    return result"
   ]
  },
  {
   "cell_type": "code",
   "execution_count": 7,
   "metadata": {},
   "outputs": [],
   "source": [
    "df_prices_train = list(data['StockPrice_' + stock.upper()][:train_len])  # 1896 x 24 list of stock prices: df_prices_train[0]: stock price 0th row\n",
    "df_prices_test = list(data['StockPrice_' + stock.upper()][train_len:])\n",
    "df_senti_train = list(data['NewsScore'][:train_len])\n",
    "df_senti_test = list(data['NewsScore'][train_len:])\n"
   ]
  },
  {
   "cell_type": "code",
   "execution_count": 8,
   "metadata": {},
   "outputs": [],
   "source": [
    "# prepare train and test data\n",
    "def input_data(df_prices, df_senti):\n",
    "    x = []\n",
    "    y = []\n",
    "    min_max = []\n",
    "    for i, row in enumerate(df_prices):\n",
    "        if type(row) == float:\n",
    "            print(row)\n",
    "        prices = str2num(row)\n",
    "        senti = str2num(df_senti[i])\n",
    "        one_row = []\n",
    "        for i, p in enumerate(prices[:-3]):\n",
    "            one_row.append([p, senti[i]])\n",
    "        x.append(one_row)\n",
    "        y.append(prices[-3])\n",
    "        min_max.append(prices[-2:])\n",
    "    x = np.array(x)\n",
    "    y = np.array(y)\n",
    "    return x, y, min_max"
   ]
  },
  {
   "cell_type": "code",
   "execution_count": 9,
   "metadata": {
    "tags": []
   },
   "outputs": [
    {
     "output_type": "stream",
     "name": "stdout",
     "text": [
      "(1465, 21, 2) (1465,) (367, 21, 2) (367,)\n"
     ]
    }
   ],
   "source": [
    "x_train, y_train, min_max_train = input_data(df_prices_train, df_senti_train)\n",
    "x_test, y_test, min_max_test = input_data(df_prices_test, df_senti_test)\n",
    "print(x_train.shape, y_train.shape, x_test.shape, y_test.shape)"
   ]
  },
  {
   "source": [
    "## Convert to: 21 prices predict n prices"
   ],
   "cell_type": "markdown",
   "metadata": {}
  },
  {
   "cell_type": "code",
   "execution_count": 16,
   "metadata": {},
   "outputs": [],
   "source": [
    "def conv_ny(y, n, min_max):\n",
    "    '''\n",
    "    n: the number of prices to be predicted\n",
    "    y_test: (367,) y0, y1, y2\n",
    "    y_test_10: (357, 10)\n",
    "    y_test_10[0]: [y0, y1, y2, ..., y10]\n",
    "    y_test_10[1]: [y1, y2, y3, ..., y11]\n",
    "\n",
    "    '''\n",
    "    yn = []  # final result of dimension (x, n)\n",
    "    size = len(y)  # data size of y\n",
    "    for i in range(size-(n+1)): # no last n prices in y \n",
    "        newy = [y[i]]\n",
    "        min_i = min_max[i][0]\n",
    "        max_i = min_max[i][1]\n",
    "        diff_i = max_i - min_i\n",
    "        for j in range(1, n):\n",
    "            min_j = min_max[i+j][0]\n",
    "            max_j = min_max[i+j][1]\n",
    "            diff_j = max_j - min_j\n",
    "            newy.append((y[i+j] * diff_j + min_j - min_i)/diff_i)\n",
    "        yn.append(newy)\n",
    "    return np.array(yn)"
   ]
  },
  {
   "cell_type": "code",
   "execution_count": 67,
   "metadata": {},
   "outputs": [
    {
     "output_type": "stream",
     "name": "stdout",
     "text": [
      "(1454, 21, 2) (1454, 10) (356, 21, 2) (356, 10)\n"
     ]
    }
   ],
   "source": [
    "n = 10\n",
    "y_train_10, y_test_10 = conv_ny(y_train, n, min_max_train), conv_ny(y_test, n, min_max_test)\n",
    "x_train_10 = x_train[:len(y_train_10)]\n",
    "x_test_10 = x_test[:len(y_test_10)]\n",
    "print(x_train_10.shape, y_train_10.shape, x_test_10.shape, y_test_10.shape)"
   ]
  },
  {
   "cell_type": "code",
   "execution_count": 94,
   "metadata": {},
   "outputs": [
    {
     "output_type": "stream",
     "name": "stdout",
     "text": [
      "[1.         1.         0.69847303 1.         0.89322042 0.75769262\n 1.         0.81349237 0.69047597 0.42063539] [1.         1.20794765 0.89371471 1.65619118 1.53974035 1.42328953\n 1.86876088 1.68853941 1.54528559 1.23105353]\n"
     ]
    }
   ],
   "source": [
    "print(y_test[0:10], y_test_10[0])"
   ]
  },
  {
   "source": [
    "## Model training"
   ],
   "cell_type": "markdown",
   "metadata": {}
  },
  {
   "cell_type": "code",
   "execution_count": 68,
   "metadata": {},
   "outputs": [],
   "source": [
    "# model parameters setting to predict n prices\n",
    "split = 0.85 # train_data percent\n",
    "\n",
    "normalise= True  # normalize 3 features\n",
    "batch_size=64;\n",
    "input_dim=x_train.shape[2]  # ['price','sentiment']\n",
    "input_timesteps=x_train.shape[1] # the window length of a training data set\n",
    "neurons=10  # number of neurons in one LSTM layer\n",
    "epochs=200\n",
    "prediction_len=1  # predict one day's price\n",
    "dense_output=n  # output size of the last dense layer\n",
    "drop_out=0.1  # dropout rate"
   ]
  },
  {
   "cell_type": "code",
   "execution_count": 78,
   "metadata": {
    "tags": []
   },
   "outputs": [
    {
     "output_type": "stream",
     "name": "stdout",
     "text": [
      "Epoch 1/200\n",
      "23/23 [==============================] - 5s 21ms/step - loss: 0.3526\n",
      "Epoch 2/200\n",
      "23/23 [==============================] - 0s 19ms/step - loss: 0.2333\n",
      "Epoch 3/200\n",
      "23/23 [==============================] - 0s 19ms/step - loss: 0.1721\n",
      "Epoch 4/200\n",
      "23/23 [==============================] - 0s 18ms/step - loss: 0.1569\n",
      "Epoch 5/200\n",
      "23/23 [==============================] - 0s 19ms/step - loss: 0.1423\n",
      "Epoch 6/200\n",
      "23/23 [==============================] - 0s 19ms/step - loss: 0.1311\n",
      "Epoch 7/200\n",
      "23/23 [==============================] - 0s 18ms/step - loss: 0.1149\n",
      "Epoch 8/200\n",
      "23/23 [==============================] - 0s 18ms/step - loss: 0.1157\n",
      "Epoch 9/200\n",
      "23/23 [==============================] - 0s 18ms/step - loss: 0.1010\n",
      "Epoch 10/200\n",
      "23/23 [==============================] - 0s 20ms/step - loss: 0.1018\n",
      "Epoch 11/200\n",
      "23/23 [==============================] - 0s 19ms/step - loss: 0.0991\n",
      "Epoch 12/200\n",
      "23/23 [==============================] - 0s 19ms/step - loss: 0.0940\n",
      "Epoch 13/200\n",
      "23/23 [==============================] - 0s 20ms/step - loss: 0.0987\n",
      "Epoch 14/200\n",
      "23/23 [==============================] - 1s 28ms/step - loss: 0.0932\n",
      "Epoch 15/200\n",
      "23/23 [==============================] - 1s 22ms/step - loss: 0.0918\n",
      "Epoch 16/200\n",
      "23/23 [==============================] - 0s 20ms/step - loss: 0.0907\n",
      "Epoch 17/200\n",
      "23/23 [==============================] - 0s 20ms/step - loss: 0.0866\n",
      "Epoch 18/200\n",
      "23/23 [==============================] - 0s 18ms/step - loss: 0.0855\n",
      "Epoch 19/200\n",
      "23/23 [==============================] - 0s 20ms/step - loss: 0.0875\n",
      "Epoch 20/200\n",
      "23/23 [==============================] - 0s 20ms/step - loss: 0.0887\n",
      "Epoch 21/200\n",
      "23/23 [==============================] - 0s 18ms/step - loss: 0.0907\n",
      "Epoch 22/200\n",
      "23/23 [==============================] - 1s 28ms/step - loss: 0.0771\n",
      "Epoch 23/200\n",
      "23/23 [==============================] - 1s 27ms/step - loss: 0.0830\n",
      "Epoch 24/200\n",
      "23/23 [==============================] - 1s 28ms/step - loss: 0.0822\n",
      "Epoch 25/200\n",
      "23/23 [==============================] - 1s 26ms/step - loss: 0.0764\n",
      "Epoch 26/200\n",
      "23/23 [==============================] - 0s 17ms/step - loss: 0.0731\n",
      "Epoch 27/200\n",
      "23/23 [==============================] - 0s 21ms/step - loss: 0.0718\n",
      "Epoch 28/200\n",
      "23/23 [==============================] - 0s 17ms/step - loss: 0.0706\n",
      "Epoch 29/200\n",
      "23/23 [==============================] - 0s 18ms/step - loss: 0.0726\n",
      "Epoch 30/200\n",
      "23/23 [==============================] - 0s 21ms/step - loss: 0.0780\n",
      "Epoch 31/200\n",
      "23/23 [==============================] - 1s 29ms/step - loss: 0.0677\n",
      "Epoch 32/200\n",
      "23/23 [==============================] - 1s 23ms/step - loss: 0.0687\n",
      "Epoch 33/200\n",
      "23/23 [==============================] - 0s 18ms/step - loss: 0.0685\n",
      "Epoch 34/200\n",
      "23/23 [==============================] - 0s 18ms/step - loss: 0.0657\n",
      "Epoch 35/200\n",
      "23/23 [==============================] - 0s 18ms/step - loss: 0.0619\n",
      "Epoch 36/200\n",
      "23/23 [==============================] - 0s 17ms/step - loss: 0.0642\n",
      "Epoch 37/200\n",
      "23/23 [==============================] - 0s 15ms/step - loss: 0.0616\n",
      "Epoch 38/200\n",
      "23/23 [==============================] - 0s 18ms/step - loss: 0.0581\n",
      "Epoch 39/200\n",
      "23/23 [==============================] - 0s 17ms/step - loss: 0.0568\n",
      "Epoch 40/200\n",
      "23/23 [==============================] - 0s 15ms/step - loss: 0.0623\n",
      "Epoch 41/200\n",
      "23/23 [==============================] - 0s 16ms/step - loss: 0.0629\n",
      "Epoch 42/200\n",
      "23/23 [==============================] - 0s 16ms/step - loss: 0.0602\n",
      "Epoch 43/200\n",
      "23/23 [==============================] - 0s 17ms/step - loss: 0.0582\n",
      "Epoch 44/200\n",
      "23/23 [==============================] - 0s 16ms/step - loss: 0.0638\n",
      "Epoch 45/200\n",
      "23/23 [==============================] - 0s 16ms/step - loss: 0.0583\n",
      "Epoch 46/200\n",
      "23/23 [==============================] - 0s 16ms/step - loss: 0.0603\n",
      "Epoch 47/200\n",
      "23/23 [==============================] - 0s 16ms/step - loss: 0.0613\n",
      "Epoch 48/200\n",
      "23/23 [==============================] - 0s 16ms/step - loss: 0.0586\n",
      "Epoch 49/200\n",
      "23/23 [==============================] - 0s 16ms/step - loss: 0.0624\n",
      "Epoch 50/200\n",
      "23/23 [==============================] - 0s 17ms/step - loss: 0.0574\n",
      "Epoch 51/200\n",
      "23/23 [==============================] - 0s 16ms/step - loss: 0.0617\n",
      "Epoch 52/200\n",
      "23/23 [==============================] - 0s 18ms/step - loss: 0.0624\n",
      "Epoch 53/200\n",
      "23/23 [==============================] - 0s 17ms/step - loss: 0.0553\n",
      "Epoch 54/200\n",
      "23/23 [==============================] - 0s 20ms/step - loss: 0.0585\n",
      "Epoch 55/200\n",
      "23/23 [==============================] - 0s 18ms/step - loss: 0.0560\n",
      "Epoch 56/200\n",
      "23/23 [==============================] - 0s 16ms/step - loss: 0.0597\n",
      "Epoch 57/200\n",
      "23/23 [==============================] - 0s 17ms/step - loss: 0.0601\n",
      "Epoch 58/200\n",
      "23/23 [==============================] - 0s 16ms/step - loss: 0.0573\n",
      "Epoch 59/200\n",
      "23/23 [==============================] - 1s 25ms/step - loss: 0.0582\n",
      "Epoch 60/200\n",
      "23/23 [==============================] - 0s 18ms/step - loss: 0.0577\n",
      "Epoch 61/200\n",
      "23/23 [==============================] - 0s 21ms/step - loss: 0.0564\n",
      "Epoch 62/200\n",
      "23/23 [==============================] - 0s 21ms/step - loss: 0.0558\n",
      "Epoch 63/200\n",
      "23/23 [==============================] - 0s 16ms/step - loss: 0.0567\n",
      "Epoch 64/200\n",
      "23/23 [==============================] - 0s 17ms/step - loss: 0.0620\n",
      "Epoch 65/200\n",
      "23/23 [==============================] - 0s 16ms/step - loss: 0.0583\n",
      "Epoch 66/200\n",
      "23/23 [==============================] - 0s 16ms/step - loss: 0.0576\n",
      "Epoch 67/200\n",
      "23/23 [==============================] - 0s 19ms/step - loss: 0.0558\n",
      "Epoch 68/200\n",
      "23/23 [==============================] - 0s 18ms/step - loss: 0.0543\n",
      "Epoch 69/200\n",
      "23/23 [==============================] - 0s 18ms/step - loss: 0.0580\n",
      "Epoch 70/200\n",
      "23/23 [==============================] - 1s 31ms/step - loss: 0.0582\n",
      "Epoch 71/200\n",
      "23/23 [==============================] - 1s 23ms/step - loss: 0.0564\n",
      "Epoch 72/200\n",
      "23/23 [==============================] - 0s 20ms/step - loss: 0.0536\n",
      "Epoch 73/200\n",
      "23/23 [==============================] - 0s 20ms/step - loss: 0.0547\n",
      "Epoch 74/200\n",
      "23/23 [==============================] - 0s 19ms/step - loss: 0.0551\n",
      "Epoch 75/200\n",
      "23/23 [==============================] - 1s 24ms/step - loss: 0.0580\n",
      "Epoch 76/200\n",
      "23/23 [==============================] - 0s 19ms/step - loss: 0.0531\n",
      "Epoch 77/200\n",
      "23/23 [==============================] - 0s 18ms/step - loss: 0.0605\n",
      "Epoch 78/200\n",
      "23/23 [==============================] - 0s 20ms/step - loss: 0.0562\n",
      "Epoch 79/200\n",
      "23/23 [==============================] - 0s 20ms/step - loss: 0.0536\n",
      "Epoch 80/200\n",
      "23/23 [==============================] - 0s 19ms/step - loss: 0.0549\n",
      "Epoch 81/200\n",
      "23/23 [==============================] - 0s 20ms/step - loss: 0.0563\n",
      "Epoch 82/200\n",
      "23/23 [==============================] - 0s 20ms/step - loss: 0.0559\n",
      "Epoch 83/200\n",
      "23/23 [==============================] - 0s 19ms/step - loss: 0.0515\n",
      "Epoch 84/200\n",
      "23/23 [==============================] - 0s 20ms/step - loss: 0.0558\n",
      "Epoch 85/200\n",
      "23/23 [==============================] - 0s 20ms/step - loss: 0.0505\n",
      "Epoch 86/200\n",
      "23/23 [==============================] - 0s 19ms/step - loss: 0.0573\n",
      "Epoch 87/200\n",
      "23/23 [==============================] - 1s 34ms/step - loss: 0.0575\n",
      "Epoch 88/200\n",
      "23/23 [==============================] - 0s 18ms/step - loss: 0.0530\n",
      "Epoch 89/200\n",
      "23/23 [==============================] - 0s 19ms/step - loss: 0.0553\n",
      "Epoch 90/200\n",
      "23/23 [==============================] - 0s 21ms/step - loss: 0.0576\n",
      "Epoch 91/200\n",
      "23/23 [==============================] - 0s 19ms/step - loss: 0.0570\n",
      "Epoch 92/200\n",
      "23/23 [==============================] - 0s 15ms/step - loss: 0.0549\n",
      "Epoch 93/200\n",
      "23/23 [==============================] - 0s 19ms/step - loss: 0.0553\n",
      "Epoch 94/200\n",
      "23/23 [==============================] - 0s 20ms/step - loss: 0.0569\n",
      "Epoch 95/200\n",
      "23/23 [==============================] - 1s 26ms/step - loss: 0.0557\n",
      "Epoch 96/200\n",
      "23/23 [==============================] - 0s 19ms/step - loss: 0.0539\n",
      "Epoch 97/200\n",
      "23/23 [==============================] - 1s 32ms/step - loss: 0.0554\n",
      "Epoch 98/200\n",
      "23/23 [==============================] - 1s 27ms/step - loss: 0.0545\n",
      "Epoch 99/200\n",
      "23/23 [==============================] - 1s 24ms/step - loss: 0.0536\n",
      "Epoch 100/200\n",
      "23/23 [==============================] - 0s 21ms/step - loss: 0.0515\n",
      "Epoch 101/200\n",
      "23/23 [==============================] - 0s 21ms/step - loss: 0.0522\n",
      "Epoch 102/200\n",
      "23/23 [==============================] - 0s 20ms/step - loss: 0.0502\n",
      "Epoch 103/200\n",
      "23/23 [==============================] - 0s 19ms/step - loss: 0.0546\n",
      "Epoch 104/200\n",
      "23/23 [==============================] - 0s 20ms/step - loss: 0.0535\n",
      "Epoch 105/200\n",
      "23/23 [==============================] - 1s 22ms/step - loss: 0.0552\n",
      "Epoch 106/200\n",
      "23/23 [==============================] - 0s 17ms/step - loss: 0.0540\n",
      "Epoch 107/200\n",
      "23/23 [==============================] - 0s 18ms/step - loss: 0.0546\n",
      "Epoch 108/200\n",
      "23/23 [==============================] - 0s 18ms/step - loss: 0.0519\n",
      "Epoch 109/200\n",
      "23/23 [==============================] - 0s 16ms/step - loss: 0.0516\n",
      "Epoch 110/200\n",
      "23/23 [==============================] - 0s 19ms/step - loss: 0.0526\n",
      "Epoch 111/200\n",
      "23/23 [==============================] - 0s 18ms/step - loss: 0.0536\n",
      "Epoch 112/200\n",
      "23/23 [==============================] - 0s 16ms/step - loss: 0.0508\n",
      "Epoch 113/200\n",
      "23/23 [==============================] - 0s 18ms/step - loss: 0.0545\n",
      "Epoch 114/200\n",
      "23/23 [==============================] - 0s 17ms/step - loss: 0.0526\n",
      "Epoch 115/200\n",
      "23/23 [==============================] - 0s 18ms/step - loss: 0.0521\n",
      "Epoch 116/200\n",
      "23/23 [==============================] - 0s 19ms/step - loss: 0.0508\n",
      "Epoch 117/200\n",
      "23/23 [==============================] - 0s 20ms/step - loss: 0.0522\n",
      "Epoch 118/200\n",
      "23/23 [==============================] - 1s 23ms/step - loss: 0.0486\n",
      "Epoch 119/200\n",
      "23/23 [==============================] - 0s 17ms/step - loss: 0.0495\n",
      "Epoch 120/200\n",
      "23/23 [==============================] - 0s 17ms/step - loss: 0.0574\n",
      "Epoch 121/200\n",
      "23/23 [==============================] - 0s 17ms/step - loss: 0.0530\n",
      "Epoch 122/200\n",
      "23/23 [==============================] - 0s 19ms/step - loss: 0.0508\n",
      "Epoch 123/200\n",
      "23/23 [==============================] - 1s 24ms/step - loss: 0.0497\n",
      "Epoch 124/200\n",
      "23/23 [==============================] - 1s 26ms/step - loss: 0.0507\n",
      "Epoch 125/200\n",
      "23/23 [==============================] - 0s 21ms/step - loss: 0.0511\n",
      "Epoch 126/200\n",
      "23/23 [==============================] - 0s 20ms/step - loss: 0.0512\n",
      "Epoch 127/200\n",
      "23/23 [==============================] - 0s 18ms/step - loss: 0.0514\n",
      "Epoch 128/200\n",
      "23/23 [==============================] - 0s 19ms/step - loss: 0.0491\n",
      "Epoch 129/200\n",
      "23/23 [==============================] - 0s 19ms/step - loss: 0.0512\n",
      "Epoch 130/200\n",
      "23/23 [==============================] - 0s 19ms/step - loss: 0.0511\n",
      "Epoch 131/200\n",
      "23/23 [==============================] - 0s 16ms/step - loss: 0.0510\n",
      "Epoch 132/200\n",
      "23/23 [==============================] - 0s 17ms/step - loss: 0.0463\n",
      "Epoch 133/200\n",
      "23/23 [==============================] - 0s 17ms/step - loss: 0.0513\n",
      "Epoch 134/200\n",
      "23/23 [==============================] - 0s 17ms/step - loss: 0.0465\n",
      "Epoch 135/200\n",
      "23/23 [==============================] - 0s 17ms/step - loss: 0.0496\n",
      "Epoch 136/200\n",
      "23/23 [==============================] - 0s 17ms/step - loss: 0.0529\n",
      "Epoch 137/200\n",
      "23/23 [==============================] - 0s 17ms/step - loss: 0.0508\n",
      "Epoch 138/200\n",
      "23/23 [==============================] - 0s 17ms/step - loss: 0.0491\n",
      "Epoch 139/200\n",
      "23/23 [==============================] - 0s 18ms/step - loss: 0.0508\n",
      "Epoch 140/200\n",
      "23/23 [==============================] - 0s 17ms/step - loss: 0.0494\n",
      "Epoch 141/200\n",
      "23/23 [==============================] - 0s 16ms/step - loss: 0.0481\n",
      "Epoch 142/200\n",
      "23/23 [==============================] - 0s 17ms/step - loss: 0.0512\n",
      "Epoch 143/200\n",
      "23/23 [==============================] - 0s 17ms/step - loss: 0.0522\n",
      "Epoch 144/200\n",
      "23/23 [==============================] - 0s 17ms/step - loss: 0.0476\n",
      "Epoch 145/200\n",
      "23/23 [==============================] - 0s 17ms/step - loss: 0.0481\n",
      "Epoch 146/200\n",
      "23/23 [==============================] - 0s 18ms/step - loss: 0.0498\n",
      "Epoch 147/200\n",
      "23/23 [==============================] - 0s 19ms/step - loss: 0.0480\n",
      "Epoch 148/200\n",
      "23/23 [==============================] - 0s 17ms/step - loss: 0.0466\n",
      "Epoch 149/200\n",
      "23/23 [==============================] - 0s 17ms/step - loss: 0.0498\n",
      "Epoch 150/200\n",
      "23/23 [==============================] - 0s 17ms/step - loss: 0.0528\n",
      "Epoch 151/200\n",
      "23/23 [==============================] - 0s 17ms/step - loss: 0.0481\n",
      "Epoch 152/200\n",
      "23/23 [==============================] - 0s 17ms/step - loss: 0.0474\n",
      "Epoch 153/200\n",
      "23/23 [==============================] - 0s 18ms/step - loss: 0.0496\n",
      "Epoch 154/200\n",
      "23/23 [==============================] - 0s 20ms/step - loss: 0.0476\n",
      "Epoch 155/200\n",
      "23/23 [==============================] - 0s 18ms/step - loss: 0.0523\n",
      "Epoch 156/200\n",
      "23/23 [==============================] - 0s 18ms/step - loss: 0.0474\n",
      "Epoch 157/200\n",
      "23/23 [==============================] - 0s 21ms/step - loss: 0.0518\n",
      "Epoch 158/200\n",
      "23/23 [==============================] - 1s 24ms/step - loss: 0.0456\n",
      "Epoch 159/200\n",
      "23/23 [==============================] - 0s 19ms/step - loss: 0.0484\n",
      "Epoch 160/200\n",
      "23/23 [==============================] - 0s 21ms/step - loss: 0.0478\n",
      "Epoch 161/200\n",
      "23/23 [==============================] - 0s 19ms/step - loss: 0.0495\n",
      "Epoch 162/200\n",
      "23/23 [==============================] - 0s 19ms/step - loss: 0.0441\n",
      "Epoch 163/200\n",
      "23/23 [==============================] - 0s 20ms/step - loss: 0.0497\n",
      "Epoch 164/200\n",
      "23/23 [==============================] - 0s 19ms/step - loss: 0.0475\n",
      "Epoch 165/200\n",
      "23/23 [==============================] - 0s 22ms/step - loss: 0.0499\n",
      "Epoch 166/200\n",
      "23/23 [==============================] - 0s 20ms/step - loss: 0.0468\n",
      "Epoch 167/200\n",
      "23/23 [==============================] - 0s 21ms/step - loss: 0.0499\n",
      "Epoch 168/200\n",
      "23/23 [==============================] - 1s 24ms/step - loss: 0.0471\n",
      "Epoch 169/200\n",
      "23/23 [==============================] - 1s 26ms/step - loss: 0.0517\n",
      "Epoch 170/200\n",
      "23/23 [==============================] - 1s 31ms/step - loss: 0.0494\n",
      "Epoch 171/200\n",
      "23/23 [==============================] - 1s 43ms/step - loss: 0.0471\n",
      "Epoch 172/200\n",
      "23/23 [==============================] - 1s 36ms/step - loss: 0.0481\n",
      "Epoch 173/200\n",
      "23/23 [==============================] - 1s 35ms/step - loss: 0.0423\n",
      "Epoch 174/200\n",
      "23/23 [==============================] - 1s 32ms/step - loss: 0.0455\n",
      "Epoch 175/200\n",
      "23/23 [==============================] - 1s 32ms/step - loss: 0.0469\n",
      "Epoch 176/200\n",
      "23/23 [==============================] - 1s 31ms/step - loss: 0.0434\n",
      "Epoch 177/200\n",
      "23/23 [==============================] - 1s 33ms/step - loss: 0.0471\n",
      "Epoch 178/200\n",
      "23/23 [==============================] - 1s 30ms/step - loss: 0.0464\n",
      "Epoch 179/200\n",
      "23/23 [==============================] - 1s 30ms/step - loss: 0.0523\n",
      "Epoch 180/200\n",
      "23/23 [==============================] - 1s 29ms/step - loss: 0.0500\n",
      "Epoch 181/200\n",
      "23/23 [==============================] - 1s 33ms/step - loss: 0.0499\n",
      "Epoch 182/200\n",
      "23/23 [==============================] - 1s 33ms/step - loss: 0.0502\n",
      "Epoch 183/200\n",
      "23/23 [==============================] - 1s 32ms/step - loss: 0.0471\n",
      "Epoch 184/200\n",
      "23/23 [==============================] - 1s 29ms/step - loss: 0.0473\n",
      "Epoch 185/200\n",
      "23/23 [==============================] - 1s 29ms/step - loss: 0.0498\n",
      "Epoch 186/200\n",
      "23/23 [==============================] - 1s 24ms/step - loss: 0.0439\n",
      "Epoch 187/200\n",
      "23/23 [==============================] - 1s 23ms/step - loss: 0.0469\n",
      "Epoch 188/200\n",
      "23/23 [==============================] - 1s 23ms/step - loss: 0.0426\n",
      "Epoch 189/200\n",
      "23/23 [==============================] - 0s 22ms/step - loss: 0.0474\n",
      "Epoch 190/200\n",
      "23/23 [==============================] - 1s 22ms/step - loss: 0.0481\n",
      "Epoch 191/200\n",
      "23/23 [==============================] - 1s 22ms/step - loss: 0.0452\n",
      "Epoch 192/200\n",
      "23/23 [==============================] - 0s 21ms/step - loss: 0.0463\n",
      "Epoch 193/200\n",
      "23/23 [==============================] - 0s 20ms/step - loss: 0.0464\n",
      "Epoch 194/200\n",
      "23/23 [==============================] - 0s 21ms/step - loss: 0.0434\n",
      "Epoch 195/200\n",
      "23/23 [==============================] - 0s 20ms/step - loss: 0.0459\n",
      "Epoch 196/200\n",
      "23/23 [==============================] - 0s 20ms/step - loss: 0.0453\n",
      "Epoch 197/200\n",
      "23/23 [==============================] - 0s 19ms/step - loss: 0.0471\n",
      "Epoch 198/200\n",
      "23/23 [==============================] - 0s 19ms/step - loss: 0.0461\n",
      "Epoch 199/200\n",
      "23/23 [==============================] - 0s 20ms/step - loss: 0.0448\n",
      "Epoch 200/200\n",
      "23/23 [==============================] - 0s 20ms/step - loss: 0.0465\n"
     ]
    }
   ],
   "source": [
    "# Build LSTM MODEL to predict 10 prices\n",
    "model = Sequential()\n",
    "model.add(LSTM(neurons, input_shape=(input_timesteps, input_dim), return_sequences = True))\n",
    "model.add(Dropout(drop_out))\n",
    "model.add(LSTM(neurons,return_sequences = True))\n",
    "model.add(LSTM(neurons,return_sequences =False))\n",
    "model.add(Dropout(drop_out))\n",
    "model.add(Dense(dense_output, activation='linear'))\n",
    "# Compile model\n",
    "model.compile(loss='mean_squared_error',\n",
    "                optimizer='adam')\n",
    "# Fit the model\n",
    "history = model.fit(x_train,y_train,epochs=epochs,batch_size=batch_size)"
   ]
  },
  {
   "cell_type": "code",
   "execution_count": 81,
   "metadata": {},
   "outputs": [
    {
     "output_type": "execute_result",
     "data": {
      "text/plain": [
       "Text(0.5, 1.0, 'MSE v.s. Epochs')"
      ]
     },
     "metadata": {},
     "execution_count": 81
    },
    {
     "output_type": "display_data",
     "data": {
      "text/plain": "<Figure size 432x288 with 1 Axes>",
      "image/svg+xml": "<?xml version=\"1.0\" encoding=\"utf-8\" standalone=\"no\"?>\n<!DOCTYPE svg PUBLIC \"-//W3C//DTD SVG 1.1//EN\"\n  \"http://www.w3.org/Graphics/SVG/1.1/DTD/svg11.dtd\">\n<!-- Created with matplotlib (https://matplotlib.org/) -->\n<svg height=\"277.314375pt\" version=\"1.1\" viewBox=\"0 0 392.14375 277.314375\" width=\"392.14375pt\" xmlns=\"http://www.w3.org/2000/svg\" xmlns:xlink=\"http://www.w3.org/1999/xlink\">\n <metadata>\n  <rdf:RDF xmlns:cc=\"http://creativecommons.org/ns#\" xmlns:dc=\"http://purl.org/dc/elements/1.1/\" xmlns:rdf=\"http://www.w3.org/1999/02/22-rdf-syntax-ns#\">\n   <cc:Work>\n    <dc:type rdf:resource=\"http://purl.org/dc/dcmitype/StillImage\"/>\n    <dc:date>2021-05-07T16:37:15.260806</dc:date>\n    <dc:format>image/svg+xml</dc:format>\n    <dc:creator>\n     <cc:Agent>\n      <dc:title>Matplotlib v3.3.3, https://matplotlib.org/</dc:title>\n     </cc:Agent>\n    </dc:creator>\n   </cc:Work>\n  </rdf:RDF>\n </metadata>\n <defs>\n  <style type=\"text/css\">*{stroke-linecap:butt;stroke-linejoin:round;}</style>\n </defs>\n <g id=\"figure_1\">\n  <g id=\"patch_1\">\n   <path d=\"M 0 277.314375 \nL 392.14375 277.314375 \nL 392.14375 0 \nL 0 0 \nz\n\" style=\"fill:none;\"/>\n  </g>\n  <g id=\"axes_1\">\n   <g id=\"patch_2\">\n    <path d=\"M 50.14375 239.758125 \nL 384.94375 239.758125 \nL 384.94375 22.318125 \nL 50.14375 22.318125 \nz\n\" style=\"fill:#ffffff;\"/>\n   </g>\n   <g id=\"matplotlib.axis_1\">\n    <g id=\"xtick_1\">\n     <g id=\"line2d_1\">\n      <defs>\n       <path d=\"M 0 0 \nL 0 3.5 \n\" id=\"mc4725bf846\" style=\"stroke:#000000;stroke-width:0.8;\"/>\n      </defs>\n      <g>\n       <use style=\"stroke:#000000;stroke-width:0.8;\" x=\"65.361932\" xlink:href=\"#mc4725bf846\" y=\"239.758125\"/>\n      </g>\n     </g>\n     <g id=\"text_1\">\n      <!-- 0 -->\n      <g transform=\"translate(62.180682 254.356562)scale(0.1 -0.1)\">\n       <defs>\n        <path d=\"M 31.78125 66.40625 \nQ 24.171875 66.40625 20.328125 58.90625 \nQ 16.5 51.421875 16.5 36.375 \nQ 16.5 21.390625 20.328125 13.890625 \nQ 24.171875 6.390625 31.78125 6.390625 \nQ 39.453125 6.390625 43.28125 13.890625 \nQ 47.125 21.390625 47.125 36.375 \nQ 47.125 51.421875 43.28125 58.90625 \nQ 39.453125 66.40625 31.78125 66.40625 \nz\nM 31.78125 74.21875 \nQ 44.046875 74.21875 50.515625 64.515625 \nQ 56.984375 54.828125 56.984375 36.375 \nQ 56.984375 17.96875 50.515625 8.265625 \nQ 44.046875 -1.421875 31.78125 -1.421875 \nQ 19.53125 -1.421875 13.0625 8.265625 \nQ 6.59375 17.96875 6.59375 36.375 \nQ 6.59375 54.828125 13.0625 64.515625 \nQ 19.53125 74.21875 31.78125 74.21875 \nz\n\" id=\"DejaVuSans-48\"/>\n       </defs>\n       <use xlink:href=\"#DejaVuSans-48\"/>\n      </g>\n     </g>\n    </g>\n    <g id=\"xtick_2\">\n     <g id=\"line2d_2\">\n      <g>\n       <use style=\"stroke:#000000;stroke-width:0.8;\" x=\"103.59857\" xlink:href=\"#mc4725bf846\" y=\"239.758125\"/>\n      </g>\n     </g>\n     <g id=\"text_2\">\n      <!-- 25 -->\n      <g transform=\"translate(97.23607 254.356562)scale(0.1 -0.1)\">\n       <defs>\n        <path d=\"M 19.1875 8.296875 \nL 53.609375 8.296875 \nL 53.609375 0 \nL 7.328125 0 \nL 7.328125 8.296875 \nQ 12.9375 14.109375 22.625 23.890625 \nQ 32.328125 33.6875 34.8125 36.53125 \nQ 39.546875 41.84375 41.421875 45.53125 \nQ 43.3125 49.21875 43.3125 52.78125 \nQ 43.3125 58.59375 39.234375 62.25 \nQ 35.15625 65.921875 28.609375 65.921875 \nQ 23.96875 65.921875 18.8125 64.3125 \nQ 13.671875 62.703125 7.8125 59.421875 \nL 7.8125 69.390625 \nQ 13.765625 71.78125 18.9375 73 \nQ 24.125 74.21875 28.421875 74.21875 \nQ 39.75 74.21875 46.484375 68.546875 \nQ 53.21875 62.890625 53.21875 53.421875 \nQ 53.21875 48.921875 51.53125 44.890625 \nQ 49.859375 40.875 45.40625 35.40625 \nQ 44.1875 33.984375 37.640625 27.21875 \nQ 31.109375 20.453125 19.1875 8.296875 \nz\n\" id=\"DejaVuSans-50\"/>\n        <path d=\"M 10.796875 72.90625 \nL 49.515625 72.90625 \nL 49.515625 64.59375 \nL 19.828125 64.59375 \nL 19.828125 46.734375 \nQ 21.96875 47.46875 24.109375 47.828125 \nQ 26.265625 48.1875 28.421875 48.1875 \nQ 40.625 48.1875 47.75 41.5 \nQ 54.890625 34.8125 54.890625 23.390625 \nQ 54.890625 11.625 47.5625 5.09375 \nQ 40.234375 -1.421875 26.90625 -1.421875 \nQ 22.3125 -1.421875 17.546875 -0.640625 \nQ 12.796875 0.140625 7.71875 1.703125 \nL 7.71875 11.625 \nQ 12.109375 9.234375 16.796875 8.0625 \nQ 21.484375 6.890625 26.703125 6.890625 \nQ 35.15625 6.890625 40.078125 11.328125 \nQ 45.015625 15.765625 45.015625 23.390625 \nQ 45.015625 31 40.078125 35.4375 \nQ 35.15625 39.890625 26.703125 39.890625 \nQ 22.75 39.890625 18.8125 39.015625 \nQ 14.890625 38.140625 10.796875 36.28125 \nz\n\" id=\"DejaVuSans-53\"/>\n       </defs>\n       <use xlink:href=\"#DejaVuSans-50\"/>\n       <use x=\"63.623047\" xlink:href=\"#DejaVuSans-53\"/>\n      </g>\n     </g>\n    </g>\n    <g id=\"xtick_3\">\n     <g id=\"line2d_3\">\n      <g>\n       <use style=\"stroke:#000000;stroke-width:0.8;\" x=\"141.835207\" xlink:href=\"#mc4725bf846\" y=\"239.758125\"/>\n      </g>\n     </g>\n     <g id=\"text_3\">\n      <!-- 50 -->\n      <g transform=\"translate(135.472707 254.356562)scale(0.1 -0.1)\">\n       <use xlink:href=\"#DejaVuSans-53\"/>\n       <use x=\"63.623047\" xlink:href=\"#DejaVuSans-48\"/>\n      </g>\n     </g>\n    </g>\n    <g id=\"xtick_4\">\n     <g id=\"line2d_4\">\n      <g>\n       <use style=\"stroke:#000000;stroke-width:0.8;\" x=\"180.071845\" xlink:href=\"#mc4725bf846\" y=\"239.758125\"/>\n      </g>\n     </g>\n     <g id=\"text_4\">\n      <!-- 75 -->\n      <g transform=\"translate(173.709345 254.356562)scale(0.1 -0.1)\">\n       <defs>\n        <path d=\"M 8.203125 72.90625 \nL 55.078125 72.90625 \nL 55.078125 68.703125 \nL 28.609375 0 \nL 18.3125 0 \nL 43.21875 64.59375 \nL 8.203125 64.59375 \nz\n\" id=\"DejaVuSans-55\"/>\n       </defs>\n       <use xlink:href=\"#DejaVuSans-55\"/>\n       <use x=\"63.623047\" xlink:href=\"#DejaVuSans-53\"/>\n      </g>\n     </g>\n    </g>\n    <g id=\"xtick_5\">\n     <g id=\"line2d_5\">\n      <g>\n       <use style=\"stroke:#000000;stroke-width:0.8;\" x=\"218.308483\" xlink:href=\"#mc4725bf846\" y=\"239.758125\"/>\n      </g>\n     </g>\n     <g id=\"text_5\">\n      <!-- 100 -->\n      <g transform=\"translate(208.764733 254.356562)scale(0.1 -0.1)\">\n       <defs>\n        <path d=\"M 12.40625 8.296875 \nL 28.515625 8.296875 \nL 28.515625 63.921875 \nL 10.984375 60.40625 \nL 10.984375 69.390625 \nL 28.421875 72.90625 \nL 38.28125 72.90625 \nL 38.28125 8.296875 \nL 54.390625 8.296875 \nL 54.390625 0 \nL 12.40625 0 \nz\n\" id=\"DejaVuSans-49\"/>\n       </defs>\n       <use xlink:href=\"#DejaVuSans-49\"/>\n       <use x=\"63.623047\" xlink:href=\"#DejaVuSans-48\"/>\n       <use x=\"127.246094\" xlink:href=\"#DejaVuSans-48\"/>\n      </g>\n     </g>\n    </g>\n    <g id=\"xtick_6\">\n     <g id=\"line2d_6\">\n      <g>\n       <use style=\"stroke:#000000;stroke-width:0.8;\" x=\"256.54512\" xlink:href=\"#mc4725bf846\" y=\"239.758125\"/>\n      </g>\n     </g>\n     <g id=\"text_6\">\n      <!-- 125 -->\n      <g transform=\"translate(247.00137 254.356562)scale(0.1 -0.1)\">\n       <use xlink:href=\"#DejaVuSans-49\"/>\n       <use x=\"63.623047\" xlink:href=\"#DejaVuSans-50\"/>\n       <use x=\"127.246094\" xlink:href=\"#DejaVuSans-53\"/>\n      </g>\n     </g>\n    </g>\n    <g id=\"xtick_7\">\n     <g id=\"line2d_7\">\n      <g>\n       <use style=\"stroke:#000000;stroke-width:0.8;\" x=\"294.781758\" xlink:href=\"#mc4725bf846\" y=\"239.758125\"/>\n      </g>\n     </g>\n     <g id=\"text_7\">\n      <!-- 150 -->\n      <g transform=\"translate(285.238008 254.356562)scale(0.1 -0.1)\">\n       <use xlink:href=\"#DejaVuSans-49\"/>\n       <use x=\"63.623047\" xlink:href=\"#DejaVuSans-53\"/>\n       <use x=\"127.246094\" xlink:href=\"#DejaVuSans-48\"/>\n      </g>\n     </g>\n    </g>\n    <g id=\"xtick_8\">\n     <g id=\"line2d_8\">\n      <g>\n       <use style=\"stroke:#000000;stroke-width:0.8;\" x=\"333.018396\" xlink:href=\"#mc4725bf846\" y=\"239.758125\"/>\n      </g>\n     </g>\n     <g id=\"text_8\">\n      <!-- 175 -->\n      <g transform=\"translate(323.474646 254.356562)scale(0.1 -0.1)\">\n       <use xlink:href=\"#DejaVuSans-49\"/>\n       <use x=\"63.623047\" xlink:href=\"#DejaVuSans-55\"/>\n       <use x=\"127.246094\" xlink:href=\"#DejaVuSans-53\"/>\n      </g>\n     </g>\n    </g>\n    <g id=\"xtick_9\">\n     <g id=\"line2d_9\">\n      <g>\n       <use style=\"stroke:#000000;stroke-width:0.8;\" x=\"371.255034\" xlink:href=\"#mc4725bf846\" y=\"239.758125\"/>\n      </g>\n     </g>\n     <g id=\"text_9\">\n      <!-- 200 -->\n      <g transform=\"translate(361.711284 254.356562)scale(0.1 -0.1)\">\n       <use xlink:href=\"#DejaVuSans-50\"/>\n       <use x=\"63.623047\" xlink:href=\"#DejaVuSans-48\"/>\n       <use x=\"127.246094\" xlink:href=\"#DejaVuSans-48\"/>\n      </g>\n     </g>\n    </g>\n    <g id=\"text_10\">\n     <!-- epochs -->\n     <g transform=\"translate(199.710938 268.034687)scale(0.1 -0.1)\">\n      <defs>\n       <path d=\"M 56.203125 29.59375 \nL 56.203125 25.203125 \nL 14.890625 25.203125 \nQ 15.484375 15.921875 20.484375 11.0625 \nQ 25.484375 6.203125 34.421875 6.203125 \nQ 39.59375 6.203125 44.453125 7.46875 \nQ 49.3125 8.734375 54.109375 11.28125 \nL 54.109375 2.78125 \nQ 49.265625 0.734375 44.1875 -0.34375 \nQ 39.109375 -1.421875 33.890625 -1.421875 \nQ 20.796875 -1.421875 13.15625 6.1875 \nQ 5.515625 13.8125 5.515625 26.8125 \nQ 5.515625 40.234375 12.765625 48.109375 \nQ 20.015625 56 32.328125 56 \nQ 43.359375 56 49.78125 48.890625 \nQ 56.203125 41.796875 56.203125 29.59375 \nz\nM 47.21875 32.234375 \nQ 47.125 39.59375 43.09375 43.984375 \nQ 39.0625 48.390625 32.421875 48.390625 \nQ 24.90625 48.390625 20.390625 44.140625 \nQ 15.875 39.890625 15.1875 32.171875 \nz\n\" id=\"DejaVuSans-101\"/>\n       <path d=\"M 18.109375 8.203125 \nL 18.109375 -20.796875 \nL 9.078125 -20.796875 \nL 9.078125 54.6875 \nL 18.109375 54.6875 \nL 18.109375 46.390625 \nQ 20.953125 51.265625 25.265625 53.625 \nQ 29.59375 56 35.59375 56 \nQ 45.5625 56 51.78125 48.09375 \nQ 58.015625 40.1875 58.015625 27.296875 \nQ 58.015625 14.40625 51.78125 6.484375 \nQ 45.5625 -1.421875 35.59375 -1.421875 \nQ 29.59375 -1.421875 25.265625 0.953125 \nQ 20.953125 3.328125 18.109375 8.203125 \nz\nM 48.6875 27.296875 \nQ 48.6875 37.203125 44.609375 42.84375 \nQ 40.53125 48.484375 33.40625 48.484375 \nQ 26.265625 48.484375 22.1875 42.84375 \nQ 18.109375 37.203125 18.109375 27.296875 \nQ 18.109375 17.390625 22.1875 11.75 \nQ 26.265625 6.109375 33.40625 6.109375 \nQ 40.53125 6.109375 44.609375 11.75 \nQ 48.6875 17.390625 48.6875 27.296875 \nz\n\" id=\"DejaVuSans-112\"/>\n       <path d=\"M 30.609375 48.390625 \nQ 23.390625 48.390625 19.1875 42.75 \nQ 14.984375 37.109375 14.984375 27.296875 \nQ 14.984375 17.484375 19.15625 11.84375 \nQ 23.34375 6.203125 30.609375 6.203125 \nQ 37.796875 6.203125 41.984375 11.859375 \nQ 46.1875 17.53125 46.1875 27.296875 \nQ 46.1875 37.015625 41.984375 42.703125 \nQ 37.796875 48.390625 30.609375 48.390625 \nz\nM 30.609375 56 \nQ 42.328125 56 49.015625 48.375 \nQ 55.71875 40.765625 55.71875 27.296875 \nQ 55.71875 13.875 49.015625 6.21875 \nQ 42.328125 -1.421875 30.609375 -1.421875 \nQ 18.84375 -1.421875 12.171875 6.21875 \nQ 5.515625 13.875 5.515625 27.296875 \nQ 5.515625 40.765625 12.171875 48.375 \nQ 18.84375 56 30.609375 56 \nz\n\" id=\"DejaVuSans-111\"/>\n       <path d=\"M 48.78125 52.59375 \nL 48.78125 44.1875 \nQ 44.96875 46.296875 41.140625 47.34375 \nQ 37.3125 48.390625 33.40625 48.390625 \nQ 24.65625 48.390625 19.8125 42.84375 \nQ 14.984375 37.3125 14.984375 27.296875 \nQ 14.984375 17.28125 19.8125 11.734375 \nQ 24.65625 6.203125 33.40625 6.203125 \nQ 37.3125 6.203125 41.140625 7.25 \nQ 44.96875 8.296875 48.78125 10.40625 \nL 48.78125 2.09375 \nQ 45.015625 0.34375 40.984375 -0.53125 \nQ 36.96875 -1.421875 32.421875 -1.421875 \nQ 20.0625 -1.421875 12.78125 6.34375 \nQ 5.515625 14.109375 5.515625 27.296875 \nQ 5.515625 40.671875 12.859375 48.328125 \nQ 20.21875 56 33.015625 56 \nQ 37.15625 56 41.109375 55.140625 \nQ 45.0625 54.296875 48.78125 52.59375 \nz\n\" id=\"DejaVuSans-99\"/>\n       <path d=\"M 54.890625 33.015625 \nL 54.890625 0 \nL 45.90625 0 \nL 45.90625 32.71875 \nQ 45.90625 40.484375 42.875 44.328125 \nQ 39.84375 48.1875 33.796875 48.1875 \nQ 26.515625 48.1875 22.3125 43.546875 \nQ 18.109375 38.921875 18.109375 30.90625 \nL 18.109375 0 \nL 9.078125 0 \nL 9.078125 75.984375 \nL 18.109375 75.984375 \nL 18.109375 46.1875 \nQ 21.34375 51.125 25.703125 53.5625 \nQ 30.078125 56 35.796875 56 \nQ 45.21875 56 50.046875 50.171875 \nQ 54.890625 44.34375 54.890625 33.015625 \nz\n\" id=\"DejaVuSans-104\"/>\n       <path d=\"M 44.28125 53.078125 \nL 44.28125 44.578125 \nQ 40.484375 46.53125 36.375 47.5 \nQ 32.28125 48.484375 27.875 48.484375 \nQ 21.1875 48.484375 17.84375 46.4375 \nQ 14.5 44.390625 14.5 40.28125 \nQ 14.5 37.15625 16.890625 35.375 \nQ 19.28125 33.59375 26.515625 31.984375 \nL 29.59375 31.296875 \nQ 39.15625 29.25 43.1875 25.515625 \nQ 47.21875 21.78125 47.21875 15.09375 \nQ 47.21875 7.46875 41.1875 3.015625 \nQ 35.15625 -1.421875 24.609375 -1.421875 \nQ 20.21875 -1.421875 15.453125 -0.5625 \nQ 10.6875 0.296875 5.421875 2 \nL 5.421875 11.28125 \nQ 10.40625 8.6875 15.234375 7.390625 \nQ 20.0625 6.109375 24.8125 6.109375 \nQ 31.15625 6.109375 34.5625 8.28125 \nQ 37.984375 10.453125 37.984375 14.40625 \nQ 37.984375 18.0625 35.515625 20.015625 \nQ 33.0625 21.96875 24.703125 23.78125 \nL 21.578125 24.515625 \nQ 13.234375 26.265625 9.515625 29.90625 \nQ 5.8125 33.546875 5.8125 39.890625 \nQ 5.8125 47.609375 11.28125 51.796875 \nQ 16.75 56 26.8125 56 \nQ 31.78125 56 36.171875 55.265625 \nQ 40.578125 54.546875 44.28125 53.078125 \nz\n\" id=\"DejaVuSans-115\"/>\n      </defs>\n      <use xlink:href=\"#DejaVuSans-101\"/>\n      <use x=\"61.523438\" xlink:href=\"#DejaVuSans-112\"/>\n      <use x=\"125\" xlink:href=\"#DejaVuSans-111\"/>\n      <use x=\"186.181641\" xlink:href=\"#DejaVuSans-99\"/>\n      <use x=\"241.162109\" xlink:href=\"#DejaVuSans-104\"/>\n      <use x=\"304.541016\" xlink:href=\"#DejaVuSans-115\"/>\n     </g>\n    </g>\n   </g>\n   <g id=\"matplotlib.axis_2\">\n    <g id=\"ytick_1\">\n     <g id=\"line2d_10\">\n      <defs>\n       <path d=\"M 0 0 \nL -3.5 0 \n\" id=\"mde7bdb3155\" style=\"stroke:#000000;stroke-width:0.8;\"/>\n      </defs>\n      <g>\n       <use style=\"stroke:#000000;stroke-width:0.8;\" x=\"50.14375\" xlink:href=\"#mde7bdb3155\" y=\"226.795854\"/>\n      </g>\n     </g>\n     <g id=\"text_11\">\n      <!-- 0.05 -->\n      <g transform=\"translate(20.878125 230.595073)scale(0.1 -0.1)\">\n       <defs>\n        <path d=\"M 10.6875 12.40625 \nL 21 12.40625 \nL 21 0 \nL 10.6875 0 \nz\n\" id=\"DejaVuSans-46\"/>\n       </defs>\n       <use xlink:href=\"#DejaVuSans-48\"/>\n       <use x=\"63.623047\" xlink:href=\"#DejaVuSans-46\"/>\n       <use x=\"95.410156\" xlink:href=\"#DejaVuSans-48\"/>\n       <use x=\"159.033203\" xlink:href=\"#DejaVuSans-53\"/>\n      </g>\n     </g>\n    </g>\n    <g id=\"ytick_2\">\n     <g id=\"line2d_11\">\n      <g>\n       <use style=\"stroke:#000000;stroke-width:0.8;\" x=\"50.14375\" xlink:href=\"#mde7bdb3155\" y=\"191.833296\"/>\n      </g>\n     </g>\n     <g id=\"text_12\">\n      <!-- 0.10 -->\n      <g transform=\"translate(20.878125 195.632515)scale(0.1 -0.1)\">\n       <use xlink:href=\"#DejaVuSans-48\"/>\n       <use x=\"63.623047\" xlink:href=\"#DejaVuSans-46\"/>\n       <use x=\"95.410156\" xlink:href=\"#DejaVuSans-49\"/>\n       <use x=\"159.033203\" xlink:href=\"#DejaVuSans-48\"/>\n      </g>\n     </g>\n    </g>\n    <g id=\"ytick_3\">\n     <g id=\"line2d_12\">\n      <g>\n       <use style=\"stroke:#000000;stroke-width:0.8;\" x=\"50.14375\" xlink:href=\"#mde7bdb3155\" y=\"156.870739\"/>\n      </g>\n     </g>\n     <g id=\"text_13\">\n      <!-- 0.15 -->\n      <g transform=\"translate(20.878125 160.669958)scale(0.1 -0.1)\">\n       <use xlink:href=\"#DejaVuSans-48\"/>\n       <use x=\"63.623047\" xlink:href=\"#DejaVuSans-46\"/>\n       <use x=\"95.410156\" xlink:href=\"#DejaVuSans-49\"/>\n       <use x=\"159.033203\" xlink:href=\"#DejaVuSans-53\"/>\n      </g>\n     </g>\n    </g>\n    <g id=\"ytick_4\">\n     <g id=\"line2d_13\">\n      <g>\n       <use style=\"stroke:#000000;stroke-width:0.8;\" x=\"50.14375\" xlink:href=\"#mde7bdb3155\" y=\"121.908181\"/>\n      </g>\n     </g>\n     <g id=\"text_14\">\n      <!-- 0.20 -->\n      <g transform=\"translate(20.878125 125.7074)scale(0.1 -0.1)\">\n       <use xlink:href=\"#DejaVuSans-48\"/>\n       <use x=\"63.623047\" xlink:href=\"#DejaVuSans-46\"/>\n       <use x=\"95.410156\" xlink:href=\"#DejaVuSans-50\"/>\n       <use x=\"159.033203\" xlink:href=\"#DejaVuSans-48\"/>\n      </g>\n     </g>\n    </g>\n    <g id=\"ytick_5\">\n     <g id=\"line2d_14\">\n      <g>\n       <use style=\"stroke:#000000;stroke-width:0.8;\" x=\"50.14375\" xlink:href=\"#mde7bdb3155\" y=\"86.945624\"/>\n      </g>\n     </g>\n     <g id=\"text_15\">\n      <!-- 0.25 -->\n      <g transform=\"translate(20.878125 90.744843)scale(0.1 -0.1)\">\n       <use xlink:href=\"#DejaVuSans-48\"/>\n       <use x=\"63.623047\" xlink:href=\"#DejaVuSans-46\"/>\n       <use x=\"95.410156\" xlink:href=\"#DejaVuSans-50\"/>\n       <use x=\"159.033203\" xlink:href=\"#DejaVuSans-53\"/>\n      </g>\n     </g>\n    </g>\n    <g id=\"ytick_6\">\n     <g id=\"line2d_15\">\n      <g>\n       <use style=\"stroke:#000000;stroke-width:0.8;\" x=\"50.14375\" xlink:href=\"#mde7bdb3155\" y=\"51.983066\"/>\n      </g>\n     </g>\n     <g id=\"text_16\">\n      <!-- 0.30 -->\n      <g transform=\"translate(20.878125 55.782285)scale(0.1 -0.1)\">\n       <defs>\n        <path d=\"M 40.578125 39.3125 \nQ 47.65625 37.796875 51.625 33 \nQ 55.609375 28.21875 55.609375 21.1875 \nQ 55.609375 10.40625 48.1875 4.484375 \nQ 40.765625 -1.421875 27.09375 -1.421875 \nQ 22.515625 -1.421875 17.65625 -0.515625 \nQ 12.796875 0.390625 7.625 2.203125 \nL 7.625 11.71875 \nQ 11.71875 9.328125 16.59375 8.109375 \nQ 21.484375 6.890625 26.8125 6.890625 \nQ 36.078125 6.890625 40.9375 10.546875 \nQ 45.796875 14.203125 45.796875 21.1875 \nQ 45.796875 27.640625 41.28125 31.265625 \nQ 36.765625 34.90625 28.71875 34.90625 \nL 20.21875 34.90625 \nL 20.21875 43.015625 \nL 29.109375 43.015625 \nQ 36.375 43.015625 40.234375 45.921875 \nQ 44.09375 48.828125 44.09375 54.296875 \nQ 44.09375 59.90625 40.109375 62.90625 \nQ 36.140625 65.921875 28.71875 65.921875 \nQ 24.65625 65.921875 20.015625 65.03125 \nQ 15.375 64.15625 9.8125 62.3125 \nL 9.8125 71.09375 \nQ 15.4375 72.65625 20.34375 73.4375 \nQ 25.25 74.21875 29.59375 74.21875 \nQ 40.828125 74.21875 47.359375 69.109375 \nQ 53.90625 64.015625 53.90625 55.328125 \nQ 53.90625 49.265625 50.4375 45.09375 \nQ 46.96875 40.921875 40.578125 39.3125 \nz\n\" id=\"DejaVuSans-51\"/>\n       </defs>\n       <use xlink:href=\"#DejaVuSans-48\"/>\n       <use x=\"63.623047\" xlink:href=\"#DejaVuSans-46\"/>\n       <use x=\"95.410156\" xlink:href=\"#DejaVuSans-51\"/>\n       <use x=\"159.033203\" xlink:href=\"#DejaVuSans-48\"/>\n      </g>\n     </g>\n    </g>\n    <g id=\"text_17\">\n     <!-- MSE -->\n     <g transform=\"translate(14.798438 141.685781)rotate(-90)scale(0.1 -0.1)\">\n      <defs>\n       <path d=\"M 9.8125 72.90625 \nL 24.515625 72.90625 \nL 43.109375 23.296875 \nL 61.8125 72.90625 \nL 76.515625 72.90625 \nL 76.515625 0 \nL 66.890625 0 \nL 66.890625 64.015625 \nL 48.09375 14.015625 \nL 38.1875 14.015625 \nL 19.390625 64.015625 \nL 19.390625 0 \nL 9.8125 0 \nz\n\" id=\"DejaVuSans-77\"/>\n       <path d=\"M 53.515625 70.515625 \nL 53.515625 60.890625 \nQ 47.90625 63.578125 42.921875 64.890625 \nQ 37.9375 66.21875 33.296875 66.21875 \nQ 25.25 66.21875 20.875 63.09375 \nQ 16.5 59.96875 16.5 54.203125 \nQ 16.5 49.359375 19.40625 46.890625 \nQ 22.3125 44.4375 30.421875 42.921875 \nL 36.375 41.703125 \nQ 47.40625 39.59375 52.65625 34.296875 \nQ 57.90625 29 57.90625 20.125 \nQ 57.90625 9.515625 50.796875 4.046875 \nQ 43.703125 -1.421875 29.984375 -1.421875 \nQ 24.8125 -1.421875 18.96875 -0.25 \nQ 13.140625 0.921875 6.890625 3.21875 \nL 6.890625 13.375 \nQ 12.890625 10.015625 18.65625 8.296875 \nQ 24.421875 6.59375 29.984375 6.59375 \nQ 38.421875 6.59375 43.015625 9.90625 \nQ 47.609375 13.234375 47.609375 19.390625 \nQ 47.609375 24.75 44.3125 27.78125 \nQ 41.015625 30.8125 33.5 32.328125 \nL 27.484375 33.5 \nQ 16.453125 35.6875 11.515625 40.375 \nQ 6.59375 45.0625 6.59375 53.421875 \nQ 6.59375 63.09375 13.40625 68.65625 \nQ 20.21875 74.21875 32.171875 74.21875 \nQ 37.3125 74.21875 42.625 73.28125 \nQ 47.953125 72.359375 53.515625 70.515625 \nz\n\" id=\"DejaVuSans-83\"/>\n       <path d=\"M 9.8125 72.90625 \nL 55.90625 72.90625 \nL 55.90625 64.59375 \nL 19.671875 64.59375 \nL 19.671875 43.015625 \nL 54.390625 43.015625 \nL 54.390625 34.71875 \nL 19.671875 34.71875 \nL 19.671875 8.296875 \nL 56.78125 8.296875 \nL 56.78125 0 \nL 9.8125 0 \nz\n\" id=\"DejaVuSans-69\"/>\n      </defs>\n      <use xlink:href=\"#DejaVuSans-77\"/>\n      <use x=\"86.279297\" xlink:href=\"#DejaVuSans-83\"/>\n      <use x=\"149.755859\" xlink:href=\"#DejaVuSans-69\"/>\n     </g>\n    </g>\n   </g>\n   <g id=\"line2d_16\">\n    <path clip-path=\"url(#p7de0e6cc91)\" d=\"M 65.361932 32.201761 \nL 66.891397 111.140832 \nL 68.420863 143.9818 \nL 69.950328 152.404767 \nL 71.479794 159.729586 \nL 73.009259 170.455692 \nL 74.538725 183.566456 \nL 76.06819 187.007266 \nL 77.597656 190.919059 \nL 79.127121 191.679652 \nL 80.656587 194.629915 \nL 82.186052 195.722384 \nL 83.715518 194.822882 \nL 85.244983 196.973613 \nL 86.774449 197.362464 \nL 88.303914 199.379662 \nL 89.83338 200.311789 \nL 91.362845 201.931842 \nL 92.892311 202.520703 \nL 94.421776 202.567404 \nL 95.951242 201.887157 \nL 97.480708 204.190682 \nL 99.010173 206.020472 \nL 100.539639 206.586989 \nL 102.069104 209.372293 \nL 103.59857 209.91884 \nL 105.128035 210.253624 \nL 108.186966 211.894099 \nL 109.716432 212.216202 \nL 111.245897 214.366996 \nL 112.775363 213.780312 \nL 114.304828 215.768366 \nL 115.834294 216.145818 \nL 117.363759 217.543125 \nL 118.893225 218.05826 \nL 120.42269 215.937488 \nL 121.952156 218.543188 \nL 123.481621 218.230413 \nL 125.011087 218.57651 \nL 126.540552 217.416349 \nL 128.070018 219.450094 \nL 129.599483 220.432539 \nL 131.128949 218.591741 \nL 132.658414 220.602992 \nL 134.18788 218.843107 \nL 135.717345 218.640213 \nL 137.246811 219.460094 \nL 138.776276 220.135071 \nL 140.305742 220.081392 \nL 141.835207 220.742381 \nL 143.364673 220.155785 \nL 144.894138 220.944639 \nL 146.423604 219.562759 \nL 149.482535 221.002539 \nL 151.012 221.071527 \nL 152.541466 222.320714 \nL 154.070931 221.279751 \nL 155.600397 221.33318 \nL 157.129862 221.159115 \nL 158.659328 221.902117 \nL 161.718259 221.167774 \nL 163.247724 222.173671 \nL 164.77719 221.211273 \nL 166.306655 221.658935 \nL 167.836121 221.810684 \nL 169.365586 220.88992 \nL 170.895052 220.134183 \nL 172.424517 222.027794 \nL 173.953983 221.869915 \nL 175.483448 222.735869 \nL 177.012914 222.52434 \nL 178.54238 222.489197 \nL 181.601311 222.024712 \nL 183.130776 221.570603 \nL 184.660242 222.561506 \nL 187.719173 223.49636 \nL 189.248638 222.634796 \nL 190.778104 223.595933 \nL 192.307569 223.284078 \nL 193.837035 223.459277 \nL 195.3665 222.380069 \nL 196.895966 223.164732 \nL 198.425431 223.235273 \nL 199.954897 222.842113 \nL 201.484362 222.910534 \nL 203.013828 223.885313 \nL 204.543293 223.429167 \nL 206.072759 222.59959 \nL 207.602224 223.544192 \nL 209.13169 224.326304 \nL 210.661155 224.110341 \nL 212.190621 223.486629 \nL 213.720086 224.242103 \nL 215.249552 223.304902 \nL 216.779017 223.370715 \nL 218.308483 224.833911 \nL 219.837948 225.490195 \nL 221.367414 223.827627 \nL 222.896879 225.073982 \nL 224.426345 224.206989 \nL 225.95581 225.296585 \nL 227.485276 223.55148 \nL 229.014741 224.805923 \nL 230.544207 223.730303 \nL 232.073672 224.601951 \nL 233.603138 224.611456 \nL 235.132603 224.932431 \nL 236.662069 224.597022 \nL 238.191534 224.814139 \nL 239.721 225.580411 \nL 241.250465 225.471862 \nL 242.779931 224.52173 \nL 244.309396 225.4841 \nL 245.838862 225.162916 \nL 247.368327 224.277723 \nL 248.897793 225.070103 \nL 250.427258 226.044234 \nL 251.956724 226.183579 \nL 253.486189 225.187963 \nL 256.54512 225.939785 \nL 258.074586 225.939509 \nL 259.604052 226.437691 \nL 261.133517 226.296056 \nL 262.662983 225.340704 \nL 264.192448 226.136453 \nL 265.721914 226.081529 \nL 267.251379 226.611412 \nL 268.780845 225.627443 \nL 270.31031 226.609344 \nL 271.839776 226.010665 \nL 273.369241 226.734943 \nL 274.898707 226.804546 \nL 276.428172 227.003598 \nL 277.957638 226.486614 \nL 279.487103 225.814007 \nL 281.016569 227.790029 \nL 282.546034 227.185645 \nL 284.0755 226.877997 \nL 285.604965 227.373662 \nL 288.663896 226.821626 \nL 290.193362 227.626276 \nL 291.722827 226.459408 \nL 293.252293 226.679005 \nL 294.781758 227.342513 \nL 296.311224 228.392824 \nL 297.840689 227.474517 \nL 299.370155 226.943281 \nL 300.89962 227.079984 \nL 302.429086 227.665324 \nL 303.958551 228.100928 \nL 307.017482 227.618915 \nL 308.546948 227.735875 \nL 310.076413 226.981714 \nL 311.605879 228.199821 \nL 314.66481 227.948238 \nL 316.194275 228.385642 \nL 317.723741 227.634214 \nL 319.253206 227.915023 \nL 320.782672 228.569221 \nL 322.312137 227.666814 \nL 323.841603 228.722104 \nL 325.371068 228.471555 \nL 328.429999 229.193916 \nL 329.959465 229.068698 \nL 331.48893 229.629671 \nL 333.018396 228.645326 \nL 334.547861 228.136459 \nL 336.077327 228.219553 \nL 337.606792 229.036827 \nL 339.136258 227.213801 \nL 340.665724 228.145464 \nL 342.195189 228.90576 \nL 343.724655 228.983986 \nL 345.25412 228.576116 \nL 346.783586 228.958239 \nL 348.313051 229.526305 \nL 349.842517 228.97632 \nL 351.371982 229.443334 \nL 352.901448 228.630606 \nL 354.430913 228.920965 \nL 355.960379 227.803476 \nL 357.489844 229.000246 \nL 359.01931 229.58465 \nL 360.548775 229.487581 \nL 362.078241 229.874489 \nL 363.607706 229.294075 \nL 365.137172 229.097427 \nL 366.666637 229.150211 \nL 368.196103 229.700196 \nL 369.725568 229.809444 \nL 369.725568 229.809444 \n\" style=\"fill:none;stroke:#1f77b4;stroke-linecap:square;stroke-width:1.5;\"/>\n   </g>\n   <g id=\"patch_3\">\n    <path d=\"M 50.14375 239.758125 \nL 50.14375 22.318125 \n\" style=\"fill:none;stroke:#000000;stroke-linecap:square;stroke-linejoin:miter;stroke-width:0.8;\"/>\n   </g>\n   <g id=\"patch_4\">\n    <path d=\"M 384.94375 239.758125 \nL 384.94375 22.318125 \n\" style=\"fill:none;stroke:#000000;stroke-linecap:square;stroke-linejoin:miter;stroke-width:0.8;\"/>\n   </g>\n   <g id=\"patch_5\">\n    <path d=\"M 50.14375 239.758125 \nL 384.94375 239.758125 \n\" style=\"fill:none;stroke:#000000;stroke-linecap:square;stroke-linejoin:miter;stroke-width:0.8;\"/>\n   </g>\n   <g id=\"patch_6\">\n    <path d=\"M 50.14375 22.318125 \nL 384.94375 22.318125 \n\" style=\"fill:none;stroke:#000000;stroke-linecap:square;stroke-linejoin:miter;stroke-width:0.8;\"/>\n   </g>\n   <g id=\"text_18\">\n    <!-- MSE v.s. Epochs -->\n    <g transform=\"translate(169.428438 16.318125)scale(0.12 -0.12)\">\n     <defs>\n      <path id=\"DejaVuSans-32\"/>\n      <path d=\"M 2.984375 54.6875 \nL 12.5 54.6875 \nL 29.59375 8.796875 \nL 46.6875 54.6875 \nL 56.203125 54.6875 \nL 35.6875 0 \nL 23.484375 0 \nz\n\" id=\"DejaVuSans-118\"/>\n     </defs>\n     <use xlink:href=\"#DejaVuSans-77\"/>\n     <use x=\"86.279297\" xlink:href=\"#DejaVuSans-83\"/>\n     <use x=\"149.755859\" xlink:href=\"#DejaVuSans-69\"/>\n     <use x=\"212.939453\" xlink:href=\"#DejaVuSans-32\"/>\n     <use x=\"244.726562\" xlink:href=\"#DejaVuSans-118\"/>\n     <use x=\"296.15625\" xlink:href=\"#DejaVuSans-46\"/>\n     <use x=\"327.943359\" xlink:href=\"#DejaVuSans-115\"/>\n     <use x=\"380.042969\" xlink:href=\"#DejaVuSans-46\"/>\n     <use x=\"411.830078\" xlink:href=\"#DejaVuSans-32\"/>\n     <use x=\"443.617188\" xlink:href=\"#DejaVuSans-69\"/>\n     <use x=\"506.800781\" xlink:href=\"#DejaVuSans-112\"/>\n     <use x=\"570.277344\" xlink:href=\"#DejaVuSans-111\"/>\n     <use x=\"631.458984\" xlink:href=\"#DejaVuSans-99\"/>\n     <use x=\"686.439453\" xlink:href=\"#DejaVuSans-104\"/>\n     <use x=\"749.818359\" xlink:href=\"#DejaVuSans-115\"/>\n    </g>\n   </g>\n  </g>\n </g>\n <defs>\n  <clipPath id=\"p7de0e6cc91\">\n   <rect height=\"217.44\" width=\"334.8\" x=\"50.14375\" y=\"22.318125\"/>\n  </clipPath>\n </defs>\n</svg>\n",
      "image/png": "[encoded data removed]"
     },
     "metadata": {
      "needs_background": "light"
     }
    }
   ],
   "source": [
    "plt.plot(history.history['loss'])\n",
    "plt.ylabel('MSE')\n",
    "plt.xlabel('epochs')\n",
    "plt.title('MSE v.s. Epochs')"
   ]
  },
  {
   "source": [
    "# model parameters setting to predict 1 price\n",
    "split = 0.85 # train_data percent\n",
    "\n",
    "normalise= True  # normalize 3 features\n",
    "batch_size=64;\n",
    "input_dim=2  # ['price','sentiment']\n",
    "input_timesteps=21 # the window length of a training data set\n",
    "neurons=10  # number of neurons in one LSTM layer\n",
    "epochs=50\n",
    "prediction_len=1  # predict one day's price\n",
    "dense_output=1  # output size of the last dense layer\n",
    "drop_out=0.1  # dropout rate"
   ],
   "cell_type": "code",
   "metadata": {},
   "execution_count": null,
   "outputs": []
  },
  {
   "cell_type": "code",
   "execution_count": 40,
   "metadata": {},
   "outputs": [
    {
     "output_type": "stream",
     "name": "stdout",
     "text": [
      "Epoch 1/50\n",
      "23/23 [==============================] - 4s 18ms/step - loss: 0.3322\n",
      "Epoch 2/50\n",
      "23/23 [==============================] - 0s 14ms/step - loss: 0.1387\n",
      "Epoch 3/50\n",
      "23/23 [==============================] - 0s 15ms/step - loss: 0.1351\n",
      "Epoch 4/50\n",
      "23/23 [==============================] - 0s 14ms/step - loss: 0.1297\n",
      "Epoch 5/50\n",
      "23/23 [==============================] - 0s 14ms/step - loss: 0.1153\n",
      "Epoch 6/50\n",
      "23/23 [==============================] - 0s 14ms/step - loss: 0.1018\n",
      "Epoch 7/50\n",
      "23/23 [==============================] - 0s 14ms/step - loss: 0.1047\n",
      "Epoch 8/50\n",
      "23/23 [==============================] - 0s 20ms/step - loss: 0.0945\n",
      "Epoch 9/50\n",
      "23/23 [==============================] - 0s 19ms/step - loss: 0.0956\n",
      "Epoch 10/50\n",
      "23/23 [==============================] - 0s 14ms/step - loss: 0.0926\n",
      "Epoch 11/50\n",
      "23/23 [==============================] - 0s 14ms/step - loss: 0.0907\n",
      "Epoch 12/50\n",
      "23/23 [==============================] - 0s 18ms/step - loss: 0.0854\n",
      "Epoch 13/50\n",
      "23/23 [==============================] - 0s 16ms/step - loss: 0.0856\n",
      "Epoch 14/50\n",
      "23/23 [==============================] - 0s 18ms/step - loss: 0.0832\n",
      "Epoch 15/50\n",
      "23/23 [==============================] - 0s 14ms/step - loss: 0.0811\n",
      "Epoch 16/50\n",
      "23/23 [==============================] - 0s 14ms/step - loss: 0.0837\n",
      "Epoch 17/50\n",
      "23/23 [==============================] - 0s 17ms/step - loss: 0.0853\n",
      "Epoch 18/50\n",
      "23/23 [==============================] - 0s 17ms/step - loss: 0.0815\n",
      "Epoch 19/50\n",
      "23/23 [==============================] - 0s 15ms/step - loss: 0.0866\n",
      "Epoch 20/50\n",
      "23/23 [==============================] - 0s 15ms/step - loss: 0.0837\n",
      "Epoch 21/50\n",
      "23/23 [==============================] - 0s 15ms/step - loss: 0.0799\n",
      "Epoch 22/50\n",
      "23/23 [==============================] - 0s 19ms/step - loss: 0.0778\n",
      "Epoch 23/50\n",
      "23/23 [==============================] - 0s 15ms/step - loss: 0.0810\n",
      "Epoch 24/50\n",
      "23/23 [==============================] - 0s 15ms/step - loss: 0.0816\n",
      "Epoch 25/50\n",
      "23/23 [==============================] - 0s 18ms/step - loss: 0.0747\n",
      "Epoch 26/50\n",
      "23/23 [==============================] - 0s 18ms/step - loss: 0.0784\n",
      "Epoch 27/50\n",
      "23/23 [==============================] - 0s 15ms/step - loss: 0.0768\n",
      "Epoch 28/50\n",
      "23/23 [==============================] - 0s 14ms/step - loss: 0.0771\n",
      "Epoch 29/50\n",
      "23/23 [==============================] - 0s 14ms/step - loss: 0.0756\n",
      "Epoch 30/50\n",
      "23/23 [==============================] - 0s 14ms/step - loss: 0.0742\n",
      "Epoch 31/50\n",
      "23/23 [==============================] - 0s 16ms/step - loss: 0.0740\n",
      "Epoch 32/50\n",
      "23/23 [==============================] - 0s 14ms/step - loss: 0.0683\n",
      "Epoch 33/50\n",
      "23/23 [==============================] - 0s 14ms/step - loss: 0.0689\n",
      "Epoch 34/50\n",
      "23/23 [==============================] - 0s 17ms/step - loss: 0.0701\n",
      "Epoch 35/50\n",
      "23/23 [==============================] - 0s 15ms/step - loss: 0.0739\n",
      "Epoch 36/50\n",
      "23/23 [==============================] - 0s 15ms/step - loss: 0.0705\n",
      "Epoch 37/50\n",
      "23/23 [==============================] - 0s 14ms/step - loss: 0.0721\n",
      "Epoch 38/50\n",
      "23/23 [==============================] - 0s 14ms/step - loss: 0.0695\n",
      "Epoch 39/50\n",
      "23/23 [==============================] - 0s 15ms/step - loss: 0.0665\n",
      "Epoch 40/50\n",
      "23/23 [==============================] - 0s 17ms/step - loss: 0.0683\n",
      "Epoch 41/50\n",
      "23/23 [==============================] - 0s 14ms/step - loss: 0.0681\n",
      "Epoch 42/50\n",
      "23/23 [==============================] - 0s 15ms/step - loss: 0.0620\n",
      "Epoch 43/50\n",
      "23/23 [==============================] - 0s 14ms/step - loss: 0.0692\n",
      "Epoch 44/50\n",
      "23/23 [==============================] - 0s 14ms/step - loss: 0.0615\n",
      "Epoch 45/50\n",
      "23/23 [==============================] - 0s 15ms/step - loss: 0.0618\n",
      "Epoch 46/50\n",
      "23/23 [==============================] - 0s 16ms/step - loss: 0.0599\n",
      "Epoch 47/50\n",
      "23/23 [==============================] - 0s 17ms/step - loss: 0.0622\n",
      "Epoch 48/50\n",
      "23/23 [==============================] - 0s 14ms/step - loss: 0.0636\n",
      "Epoch 49/50\n",
      "23/23 [==============================] - 0s 14ms/step - loss: 0.0617\n",
      "Epoch 50/50\n",
      "23/23 [==============================] - 0s 17ms/step - loss: 0.0600\n"
     ]
    },
    {
     "output_type": "execute_result",
     "data": {
      "text/plain": [
       "<tensorflow.python.keras.callbacks.History at 0x7fee347db7f0>"
      ]
     },
     "metadata": {},
     "execution_count": 40
    }
   ],
   "source": [
    "# Build LSTM MODEL to predict 1 price\n",
    "model = Sequential()\n",
    "model.add(LSTM(neurons, input_shape=(input_timesteps, input_dim), return_sequences = True))\n",
    "model.add(Dropout(drop_out))\n",
    "model.add(LSTM(neurons,return_sequences = True))\n",
    "model.add(LSTM(neurons,return_sequences =False))\n",
    "model.add(Dropout(drop_out))\n",
    "model.add(Dense(dense_output, activation='linear'))\n",
    "# Compile model\n",
    "model.compile(loss='mean_squared_error',\n",
    "                optimizer='adam')\n",
    "# Fit the model\n",
    "model.fit(x_train,y_train,epochs=epochs,batch_size=batch_size)"
   ]
  },
  {
   "cell_type": "code",
   "execution_count": 70,
   "metadata": {},
   "outputs": [
    {
     "output_type": "execute_result",
     "data": {
      "text/plain": [
       "'\\nfor x in x_test:\\n      temp=model.predict(curr_frame[newaxis,:,:])[0]\\n      predicted.append(temp)\\n      curr_frame = curr_frame[1:]\\n      curr_frame = np.insert(curr_frame, [window_size-2], predicted[-1], axis=0)\\n    prediction_seqs.append(predicted)\\n'"
      ]
     },
     "metadata": {},
     "execution_count": 70
    }
   ],
   "source": [
    "#multi sequence predict\n",
    "prediction_seqs = model.predict(x_test_10) # prediction data\n",
    "# !! parallelizable !!\n",
    "\n",
    "'''\n",
    "for x in x_test:\n",
    "      temp=model.predict(curr_frame[newaxis,:,:])[0]\n",
    "      predicted.append(temp)\n",
    "      curr_frame = curr_frame[1:]\n",
    "      curr_frame = np.insert(curr_frame, [window_size-2], predicted[-1], axis=0)\n",
    "    prediction_seqs.append(predicted)\n",
    "'''"
   ]
  },
  {
   "cell_type": "code",
   "execution_count": 71,
   "metadata": {},
   "outputs": [
    {
     "output_type": "execute_result",
     "data": {
      "text/plain": [
       "0.6133045950947208"
      ]
     },
     "metadata": {},
     "execution_count": 71
    }
   ],
   "source": [
    "np.sqrt(mean_squared_error(prediction_seqs, y_test_10))"
   ]
  },
  {
   "cell_type": "code",
   "execution_count": 72,
   "metadata": {},
   "outputs": [
    {
     "output_type": "execute_result",
     "data": {
      "text/plain": [
       "<matplotlib.legend.Legend at 0x7ff213edff10>"
      ]
     },
     "metadata": {},
     "execution_count": 72
    },
    {
     "output_type": "display_data",
     "data": {
      "text/plain": "<Figure size 432x288 with 1 Axes>",
      "image/svg+xml": "<?xml version=\"1.0\" encoding=\"utf-8\" standalone=\"no\"?>\n<!DOCTYPE svg PUBLIC \"-//W3C//DTD SVG 1.1//EN\"\n  \"http://www.w3.org/Graphics/SVG/1.1/DTD/svg11.dtd\">\n<!-- Created with matplotlib (https://matplotlib.org/) -->\n<svg height=\"262.19625pt\" version=\"1.1\" viewBox=\"0 0 400.523437 262.19625\" width=\"400.523437pt\" xmlns=\"http://www.w3.org/2000/svg\" xmlns:xlink=\"http://www.w3.org/1999/xlink\">\n <metadata>\n  <rdf:RDF xmlns:cc=\"http://creativecommons.org/ns#\" xmlns:dc=\"http://purl.org/dc/elements/1.1/\" xmlns:rdf=\"http://www.w3.org/1999/02/22-rdf-syntax-ns#\">\n   <cc:Work>\n    <dc:type rdf:resource=\"http://purl.org/dc/dcmitype/StillImage\"/>\n    <dc:date>2021-05-07T15:38:25.668163</dc:date>\n    <dc:format>image/svg+xml</dc:format>\n    <dc:creator>\n     <cc:Agent>\n      <dc:title>Matplotlib v3.3.3, https://matplotlib.org/</dc:title>\n     </cc:Agent>\n    </dc:creator>\n   </cc:Work>\n  </rdf:RDF>\n </metadata>\n <defs>\n  <style type=\"text/css\">*{stroke-linecap:butt;stroke-linejoin:round;}</style>\n </defs>\n <g id=\"figure_1\">\n  <g id=\"patch_1\">\n   <path d=\"M 0 262.19625 \nL 400.523437 262.19625 \nL 400.523437 0 \nL 0 0 \nz\n\" style=\"fill:none;\"/>\n  </g>\n  <g id=\"axes_1\">\n   <g id=\"patch_2\">\n    <path d=\"M 58.523438 224.64 \nL 393.323438 224.64 \nL 393.323438 7.2 \nL 58.523438 7.2 \nz\n\" style=\"fill:#ffffff;\"/>\n   </g>\n   <g id=\"matplotlib.axis_1\">\n    <g id=\"xtick_1\">\n     <g id=\"line2d_1\">\n      <defs>\n       <path d=\"M 0 0 \nL 0 3.5 \n\" id=\"mc0575c0693\" style=\"stroke:#000000;stroke-width:0.8;\"/>\n      </defs>\n      <g>\n       <use style=\"stroke:#000000;stroke-width:0.8;\" x=\"73.741619\" xlink:href=\"#mc0575c0693\" y=\"224.64\"/>\n      </g>\n     </g>\n     <g id=\"text_1\">\n      <!-- 0 -->\n      <g transform=\"translate(70.560369 239.238437)scale(0.1 -0.1)\">\n       <defs>\n        <path d=\"M 31.78125 66.40625 \nQ 24.171875 66.40625 20.328125 58.90625 \nQ 16.5 51.421875 16.5 36.375 \nQ 16.5 21.390625 20.328125 13.890625 \nQ 24.171875 6.390625 31.78125 6.390625 \nQ 39.453125 6.390625 43.28125 13.890625 \nQ 47.125 21.390625 47.125 36.375 \nQ 47.125 51.421875 43.28125 58.90625 \nQ 39.453125 66.40625 31.78125 66.40625 \nz\nM 31.78125 74.21875 \nQ 44.046875 74.21875 50.515625 64.515625 \nQ 56.984375 54.828125 56.984375 36.375 \nQ 56.984375 17.96875 50.515625 8.265625 \nQ 44.046875 -1.421875 31.78125 -1.421875 \nQ 19.53125 -1.421875 13.0625 8.265625 \nQ 6.59375 17.96875 6.59375 36.375 \nQ 6.59375 54.828125 13.0625 64.515625 \nQ 19.53125 74.21875 31.78125 74.21875 \nz\n\" id=\"DejaVuSans-48\"/>\n       </defs>\n       <use xlink:href=\"#DejaVuSans-48\"/>\n      </g>\n     </g>\n    </g>\n    <g id=\"xtick_2\">\n     <g id=\"line2d_2\">\n      <g>\n       <use style=\"stroke:#000000;stroke-width:0.8;\" x=\"141.377983\" xlink:href=\"#mc0575c0693\" y=\"224.64\"/>\n      </g>\n     </g>\n     <g id=\"text_2\">\n      <!-- 2 -->\n      <g transform=\"translate(138.196733 239.238437)scale(0.1 -0.1)\">\n       <defs>\n        <path d=\"M 19.1875 8.296875 \nL 53.609375 8.296875 \nL 53.609375 0 \nL 7.328125 0 \nL 7.328125 8.296875 \nQ 12.9375 14.109375 22.625 23.890625 \nQ 32.328125 33.6875 34.8125 36.53125 \nQ 39.546875 41.84375 41.421875 45.53125 \nQ 43.3125 49.21875 43.3125 52.78125 \nQ 43.3125 58.59375 39.234375 62.25 \nQ 35.15625 65.921875 28.609375 65.921875 \nQ 23.96875 65.921875 18.8125 64.3125 \nQ 13.671875 62.703125 7.8125 59.421875 \nL 7.8125 69.390625 \nQ 13.765625 71.78125 18.9375 73 \nQ 24.125 74.21875 28.421875 74.21875 \nQ 39.75 74.21875 46.484375 68.546875 \nQ 53.21875 62.890625 53.21875 53.421875 \nQ 53.21875 48.921875 51.53125 44.890625 \nQ 49.859375 40.875 45.40625 35.40625 \nQ 44.1875 33.984375 37.640625 27.21875 \nQ 31.109375 20.453125 19.1875 8.296875 \nz\n\" id=\"DejaVuSans-50\"/>\n       </defs>\n       <use xlink:href=\"#DejaVuSans-50\"/>\n      </g>\n     </g>\n    </g>\n    <g id=\"xtick_3\">\n     <g id=\"line2d_3\">\n      <g>\n       <use style=\"stroke:#000000;stroke-width:0.8;\" x=\"209.014347\" xlink:href=\"#mc0575c0693\" y=\"224.64\"/>\n      </g>\n     </g>\n     <g id=\"text_3\">\n      <!-- 4 -->\n      <g transform=\"translate(205.833097 239.238437)scale(0.1 -0.1)\">\n       <defs>\n        <path d=\"M 37.796875 64.3125 \nL 12.890625 25.390625 \nL 37.796875 25.390625 \nz\nM 35.203125 72.90625 \nL 47.609375 72.90625 \nL 47.609375 25.390625 \nL 58.015625 25.390625 \nL 58.015625 17.1875 \nL 47.609375 17.1875 \nL 47.609375 0 \nL 37.796875 0 \nL 37.796875 17.1875 \nL 4.890625 17.1875 \nL 4.890625 26.703125 \nz\n\" id=\"DejaVuSans-52\"/>\n       </defs>\n       <use xlink:href=\"#DejaVuSans-52\"/>\n      </g>\n     </g>\n    </g>\n    <g id=\"xtick_4\">\n     <g id=\"line2d_4\">\n      <g>\n       <use style=\"stroke:#000000;stroke-width:0.8;\" x=\"276.65071\" xlink:href=\"#mc0575c0693\" y=\"224.64\"/>\n      </g>\n     </g>\n     <g id=\"text_4\">\n      <!-- 6 -->\n      <g transform=\"translate(273.46946 239.238437)scale(0.1 -0.1)\">\n       <defs>\n        <path d=\"M 33.015625 40.375 \nQ 26.375 40.375 22.484375 35.828125 \nQ 18.609375 31.296875 18.609375 23.390625 \nQ 18.609375 15.53125 22.484375 10.953125 \nQ 26.375 6.390625 33.015625 6.390625 \nQ 39.65625 6.390625 43.53125 10.953125 \nQ 47.40625 15.53125 47.40625 23.390625 \nQ 47.40625 31.296875 43.53125 35.828125 \nQ 39.65625 40.375 33.015625 40.375 \nz\nM 52.59375 71.296875 \nL 52.59375 62.3125 \nQ 48.875 64.0625 45.09375 64.984375 \nQ 41.3125 65.921875 37.59375 65.921875 \nQ 27.828125 65.921875 22.671875 59.328125 \nQ 17.53125 52.734375 16.796875 39.40625 \nQ 19.671875 43.65625 24.015625 45.921875 \nQ 28.375 48.1875 33.59375 48.1875 \nQ 44.578125 48.1875 50.953125 41.515625 \nQ 57.328125 34.859375 57.328125 23.390625 \nQ 57.328125 12.15625 50.6875 5.359375 \nQ 44.046875 -1.421875 33.015625 -1.421875 \nQ 20.359375 -1.421875 13.671875 8.265625 \nQ 6.984375 17.96875 6.984375 36.375 \nQ 6.984375 53.65625 15.1875 63.9375 \nQ 23.390625 74.21875 37.203125 74.21875 \nQ 40.921875 74.21875 44.703125 73.484375 \nQ 48.484375 72.75 52.59375 71.296875 \nz\n\" id=\"DejaVuSans-54\"/>\n       </defs>\n       <use xlink:href=\"#DejaVuSans-54\"/>\n      </g>\n     </g>\n    </g>\n    <g id=\"xtick_5\">\n     <g id=\"line2d_5\">\n      <g>\n       <use style=\"stroke:#000000;stroke-width:0.8;\" x=\"344.287074\" xlink:href=\"#mc0575c0693\" y=\"224.64\"/>\n      </g>\n     </g>\n     <g id=\"text_5\">\n      <!-- 8 -->\n      <g transform=\"translate(341.105824 239.238437)scale(0.1 -0.1)\">\n       <defs>\n        <path d=\"M 31.78125 34.625 \nQ 24.75 34.625 20.71875 30.859375 \nQ 16.703125 27.09375 16.703125 20.515625 \nQ 16.703125 13.921875 20.71875 10.15625 \nQ 24.75 6.390625 31.78125 6.390625 \nQ 38.8125 6.390625 42.859375 10.171875 \nQ 46.921875 13.96875 46.921875 20.515625 \nQ 46.921875 27.09375 42.890625 30.859375 \nQ 38.875 34.625 31.78125 34.625 \nz\nM 21.921875 38.8125 \nQ 15.578125 40.375 12.03125 44.71875 \nQ 8.5 49.078125 8.5 55.328125 \nQ 8.5 64.0625 14.71875 69.140625 \nQ 20.953125 74.21875 31.78125 74.21875 \nQ 42.671875 74.21875 48.875 69.140625 \nQ 55.078125 64.0625 55.078125 55.328125 \nQ 55.078125 49.078125 51.53125 44.71875 \nQ 48 40.375 41.703125 38.8125 \nQ 48.828125 37.15625 52.796875 32.3125 \nQ 56.78125 27.484375 56.78125 20.515625 \nQ 56.78125 9.90625 50.3125 4.234375 \nQ 43.84375 -1.421875 31.78125 -1.421875 \nQ 19.734375 -1.421875 13.25 4.234375 \nQ 6.78125 9.90625 6.78125 20.515625 \nQ 6.78125 27.484375 10.78125 32.3125 \nQ 14.796875 37.15625 21.921875 38.8125 \nz\nM 18.3125 54.390625 \nQ 18.3125 48.734375 21.84375 45.5625 \nQ 25.390625 42.390625 31.78125 42.390625 \nQ 38.140625 42.390625 41.71875 45.5625 \nQ 45.3125 48.734375 45.3125 54.390625 \nQ 45.3125 60.0625 41.71875 63.234375 \nQ 38.140625 66.40625 31.78125 66.40625 \nQ 25.390625 66.40625 21.84375 63.234375 \nQ 18.3125 60.0625 18.3125 54.390625 \nz\n\" id=\"DejaVuSans-56\"/>\n       </defs>\n       <use xlink:href=\"#DejaVuSans-56\"/>\n      </g>\n     </g>\n    </g>\n    <g id=\"text_6\">\n     <!-- days -->\n     <g transform=\"translate(214.121094 252.916562)scale(0.1 -0.1)\">\n      <defs>\n       <path d=\"M 45.40625 46.390625 \nL 45.40625 75.984375 \nL 54.390625 75.984375 \nL 54.390625 0 \nL 45.40625 0 \nL 45.40625 8.203125 \nQ 42.578125 3.328125 38.25 0.953125 \nQ 33.9375 -1.421875 27.875 -1.421875 \nQ 17.96875 -1.421875 11.734375 6.484375 \nQ 5.515625 14.40625 5.515625 27.296875 \nQ 5.515625 40.1875 11.734375 48.09375 \nQ 17.96875 56 27.875 56 \nQ 33.9375 56 38.25 53.625 \nQ 42.578125 51.265625 45.40625 46.390625 \nz\nM 14.796875 27.296875 \nQ 14.796875 17.390625 18.875 11.75 \nQ 22.953125 6.109375 30.078125 6.109375 \nQ 37.203125 6.109375 41.296875 11.75 \nQ 45.40625 17.390625 45.40625 27.296875 \nQ 45.40625 37.203125 41.296875 42.84375 \nQ 37.203125 48.484375 30.078125 48.484375 \nQ 22.953125 48.484375 18.875 42.84375 \nQ 14.796875 37.203125 14.796875 27.296875 \nz\n\" id=\"DejaVuSans-100\"/>\n       <path d=\"M 34.28125 27.484375 \nQ 23.390625 27.484375 19.1875 25 \nQ 14.984375 22.515625 14.984375 16.5 \nQ 14.984375 11.71875 18.140625 8.90625 \nQ 21.296875 6.109375 26.703125 6.109375 \nQ 34.1875 6.109375 38.703125 11.40625 \nQ 43.21875 16.703125 43.21875 25.484375 \nL 43.21875 27.484375 \nz\nM 52.203125 31.203125 \nL 52.203125 0 \nL 43.21875 0 \nL 43.21875 8.296875 \nQ 40.140625 3.328125 35.546875 0.953125 \nQ 30.953125 -1.421875 24.3125 -1.421875 \nQ 15.921875 -1.421875 10.953125 3.296875 \nQ 6 8.015625 6 15.921875 \nQ 6 25.140625 12.171875 29.828125 \nQ 18.359375 34.515625 30.609375 34.515625 \nL 43.21875 34.515625 \nL 43.21875 35.40625 \nQ 43.21875 41.609375 39.140625 45 \nQ 35.0625 48.390625 27.6875 48.390625 \nQ 23 48.390625 18.546875 47.265625 \nQ 14.109375 46.140625 10.015625 43.890625 \nL 10.015625 52.203125 \nQ 14.9375 54.109375 19.578125 55.046875 \nQ 24.21875 56 28.609375 56 \nQ 40.484375 56 46.34375 49.84375 \nQ 52.203125 43.703125 52.203125 31.203125 \nz\n\" id=\"DejaVuSans-97\"/>\n       <path d=\"M 32.171875 -5.078125 \nQ 28.375 -14.84375 24.75 -17.8125 \nQ 21.140625 -20.796875 15.09375 -20.796875 \nL 7.90625 -20.796875 \nL 7.90625 -13.28125 \nL 13.1875 -13.28125 \nQ 16.890625 -13.28125 18.9375 -11.515625 \nQ 21 -9.765625 23.484375 -3.21875 \nL 25.09375 0.875 \nL 2.984375 54.6875 \nL 12.5 54.6875 \nL 29.59375 11.921875 \nL 46.6875 54.6875 \nL 56.203125 54.6875 \nz\n\" id=\"DejaVuSans-121\"/>\n       <path d=\"M 44.28125 53.078125 \nL 44.28125 44.578125 \nQ 40.484375 46.53125 36.375 47.5 \nQ 32.28125 48.484375 27.875 48.484375 \nQ 21.1875 48.484375 17.84375 46.4375 \nQ 14.5 44.390625 14.5 40.28125 \nQ 14.5 37.15625 16.890625 35.375 \nQ 19.28125 33.59375 26.515625 31.984375 \nL 29.59375 31.296875 \nQ 39.15625 29.25 43.1875 25.515625 \nQ 47.21875 21.78125 47.21875 15.09375 \nQ 47.21875 7.46875 41.1875 3.015625 \nQ 35.15625 -1.421875 24.609375 -1.421875 \nQ 20.21875 -1.421875 15.453125 -0.5625 \nQ 10.6875 0.296875 5.421875 2 \nL 5.421875 11.28125 \nQ 10.40625 8.6875 15.234375 7.390625 \nQ 20.0625 6.109375 24.8125 6.109375 \nQ 31.15625 6.109375 34.5625 8.28125 \nQ 37.984375 10.453125 37.984375 14.40625 \nQ 37.984375 18.0625 35.515625 20.015625 \nQ 33.0625 21.96875 24.703125 23.78125 \nL 21.578125 24.515625 \nQ 13.234375 26.265625 9.515625 29.90625 \nQ 5.8125 33.546875 5.8125 39.890625 \nQ 5.8125 47.609375 11.28125 51.796875 \nQ 16.75 56 26.8125 56 \nQ 31.78125 56 36.171875 55.265625 \nQ 40.578125 54.546875 44.28125 53.078125 \nz\n\" id=\"DejaVuSans-115\"/>\n      </defs>\n      <use xlink:href=\"#DejaVuSans-100\"/>\n      <use x=\"63.476562\" xlink:href=\"#DejaVuSans-97\"/>\n      <use x=\"124.755859\" xlink:href=\"#DejaVuSans-121\"/>\n      <use x=\"183.935547\" xlink:href=\"#DejaVuSans-115\"/>\n     </g>\n    </g>\n   </g>\n   <g id=\"matplotlib.axis_2\">\n    <g id=\"ytick_1\">\n     <g id=\"line2d_6\">\n      <defs>\n       <path d=\"M 0 0 \nL -3.5 0 \n\" id=\"m4c383755be\" style=\"stroke:#000000;stroke-width:0.8;\"/>\n      </defs>\n      <g>\n       <use style=\"stroke:#000000;stroke-width:0.8;\" x=\"58.523438\" xlink:href=\"#m4c383755be\" y=\"217.701196\"/>\n      </g>\n     </g>\n     <g id=\"text_7\">\n      <!-- −1.25 -->\n      <g transform=\"translate(20.878125 221.500415)scale(0.1 -0.1)\">\n       <defs>\n        <path d=\"M 10.59375 35.5 \nL 73.1875 35.5 \nL 73.1875 27.203125 \nL 10.59375 27.203125 \nz\n\" id=\"DejaVuSans-8722\"/>\n        <path d=\"M 12.40625 8.296875 \nL 28.515625 8.296875 \nL 28.515625 63.921875 \nL 10.984375 60.40625 \nL 10.984375 69.390625 \nL 28.421875 72.90625 \nL 38.28125 72.90625 \nL 38.28125 8.296875 \nL 54.390625 8.296875 \nL 54.390625 0 \nL 12.40625 0 \nz\n\" id=\"DejaVuSans-49\"/>\n        <path d=\"M 10.6875 12.40625 \nL 21 12.40625 \nL 21 0 \nL 10.6875 0 \nz\n\" id=\"DejaVuSans-46\"/>\n        <path d=\"M 10.796875 72.90625 \nL 49.515625 72.90625 \nL 49.515625 64.59375 \nL 19.828125 64.59375 \nL 19.828125 46.734375 \nQ 21.96875 47.46875 24.109375 47.828125 \nQ 26.265625 48.1875 28.421875 48.1875 \nQ 40.625 48.1875 47.75 41.5 \nQ 54.890625 34.8125 54.890625 23.390625 \nQ 54.890625 11.625 47.5625 5.09375 \nQ 40.234375 -1.421875 26.90625 -1.421875 \nQ 22.3125 -1.421875 17.546875 -0.640625 \nQ 12.796875 0.140625 7.71875 1.703125 \nL 7.71875 11.625 \nQ 12.109375 9.234375 16.796875 8.0625 \nQ 21.484375 6.890625 26.703125 6.890625 \nQ 35.15625 6.890625 40.078125 11.328125 \nQ 45.015625 15.765625 45.015625 23.390625 \nQ 45.015625 31 40.078125 35.4375 \nQ 35.15625 39.890625 26.703125 39.890625 \nQ 22.75 39.890625 18.8125 39.015625 \nQ 14.890625 38.140625 10.796875 36.28125 \nz\n\" id=\"DejaVuSans-53\"/>\n       </defs>\n       <use xlink:href=\"#DejaVuSans-8722\"/>\n       <use x=\"83.789062\" xlink:href=\"#DejaVuSans-49\"/>\n       <use x=\"147.412109\" xlink:href=\"#DejaVuSans-46\"/>\n       <use x=\"179.199219\" xlink:href=\"#DejaVuSans-50\"/>\n       <use x=\"242.822266\" xlink:href=\"#DejaVuSans-53\"/>\n      </g>\n     </g>\n    </g>\n    <g id=\"ytick_2\">\n     <g id=\"line2d_7\">\n      <g>\n       <use style=\"stroke:#000000;stroke-width:0.8;\" x=\"58.523438\" xlink:href=\"#m4c383755be\" y=\"192.10216\"/>\n      </g>\n     </g>\n     <g id=\"text_8\">\n      <!-- −1.00 -->\n      <g transform=\"translate(20.878125 195.901379)scale(0.1 -0.1)\">\n       <use xlink:href=\"#DejaVuSans-8722\"/>\n       <use x=\"83.789062\" xlink:href=\"#DejaVuSans-49\"/>\n       <use x=\"147.412109\" xlink:href=\"#DejaVuSans-46\"/>\n       <use x=\"179.199219\" xlink:href=\"#DejaVuSans-48\"/>\n       <use x=\"242.822266\" xlink:href=\"#DejaVuSans-48\"/>\n      </g>\n     </g>\n    </g>\n    <g id=\"ytick_3\">\n     <g id=\"line2d_8\">\n      <g>\n       <use style=\"stroke:#000000;stroke-width:0.8;\" x=\"58.523438\" xlink:href=\"#m4c383755be\" y=\"166.503125\"/>\n      </g>\n     </g>\n     <g id=\"text_9\">\n      <!-- −0.75 -->\n      <g transform=\"translate(20.878125 170.302344)scale(0.1 -0.1)\">\n       <defs>\n        <path d=\"M 8.203125 72.90625 \nL 55.078125 72.90625 \nL 55.078125 68.703125 \nL 28.609375 0 \nL 18.3125 0 \nL 43.21875 64.59375 \nL 8.203125 64.59375 \nz\n\" id=\"DejaVuSans-55\"/>\n       </defs>\n       <use xlink:href=\"#DejaVuSans-8722\"/>\n       <use x=\"83.789062\" xlink:href=\"#DejaVuSans-48\"/>\n       <use x=\"147.412109\" xlink:href=\"#DejaVuSans-46\"/>\n       <use x=\"179.199219\" xlink:href=\"#DejaVuSans-55\"/>\n       <use x=\"242.822266\" xlink:href=\"#DejaVuSans-53\"/>\n      </g>\n     </g>\n    </g>\n    <g id=\"ytick_4\">\n     <g id=\"line2d_9\">\n      <g>\n       <use style=\"stroke:#000000;stroke-width:0.8;\" x=\"58.523438\" xlink:href=\"#m4c383755be\" y=\"140.904089\"/>\n      </g>\n     </g>\n     <g id=\"text_10\">\n      <!-- −0.50 -->\n      <g transform=\"translate(20.878125 144.703308)scale(0.1 -0.1)\">\n       <use xlink:href=\"#DejaVuSans-8722\"/>\n       <use x=\"83.789062\" xlink:href=\"#DejaVuSans-48\"/>\n       <use x=\"147.412109\" xlink:href=\"#DejaVuSans-46\"/>\n       <use x=\"179.199219\" xlink:href=\"#DejaVuSans-53\"/>\n       <use x=\"242.822266\" xlink:href=\"#DejaVuSans-48\"/>\n      </g>\n     </g>\n    </g>\n    <g id=\"ytick_5\">\n     <g id=\"line2d_10\">\n      <g>\n       <use style=\"stroke:#000000;stroke-width:0.8;\" x=\"58.523438\" xlink:href=\"#m4c383755be\" y=\"115.305054\"/>\n      </g>\n     </g>\n     <g id=\"text_11\">\n      <!-- −0.25 -->\n      <g transform=\"translate(20.878125 119.104273)scale(0.1 -0.1)\">\n       <use xlink:href=\"#DejaVuSans-8722\"/>\n       <use x=\"83.789062\" xlink:href=\"#DejaVuSans-48\"/>\n       <use x=\"147.412109\" xlink:href=\"#DejaVuSans-46\"/>\n       <use x=\"179.199219\" xlink:href=\"#DejaVuSans-50\"/>\n       <use x=\"242.822266\" xlink:href=\"#DejaVuSans-53\"/>\n      </g>\n     </g>\n    </g>\n    <g id=\"ytick_6\">\n     <g id=\"line2d_11\">\n      <g>\n       <use style=\"stroke:#000000;stroke-width:0.8;\" x=\"58.523438\" xlink:href=\"#m4c383755be\" y=\"89.706018\"/>\n      </g>\n     </g>\n     <g id=\"text_12\">\n      <!-- 0.00 -->\n      <g transform=\"translate(29.257813 93.505237)scale(0.1 -0.1)\">\n       <use xlink:href=\"#DejaVuSans-48\"/>\n       <use x=\"63.623047\" xlink:href=\"#DejaVuSans-46\"/>\n       <use x=\"95.410156\" xlink:href=\"#DejaVuSans-48\"/>\n       <use x=\"159.033203\" xlink:href=\"#DejaVuSans-48\"/>\n      </g>\n     </g>\n    </g>\n    <g id=\"ytick_7\">\n     <g id=\"line2d_12\">\n      <g>\n       <use style=\"stroke:#000000;stroke-width:0.8;\" x=\"58.523438\" xlink:href=\"#m4c383755be\" y=\"64.106983\"/>\n      </g>\n     </g>\n     <g id=\"text_13\">\n      <!-- 0.25 -->\n      <g transform=\"translate(29.257813 67.906202)scale(0.1 -0.1)\">\n       <use xlink:href=\"#DejaVuSans-48\"/>\n       <use x=\"63.623047\" xlink:href=\"#DejaVuSans-46\"/>\n       <use x=\"95.410156\" xlink:href=\"#DejaVuSans-50\"/>\n       <use x=\"159.033203\" xlink:href=\"#DejaVuSans-53\"/>\n      </g>\n     </g>\n    </g>\n    <g id=\"ytick_8\">\n     <g id=\"line2d_13\">\n      <g>\n       <use style=\"stroke:#000000;stroke-width:0.8;\" x=\"58.523438\" xlink:href=\"#m4c383755be\" y=\"38.507947\"/>\n      </g>\n     </g>\n     <g id=\"text_14\">\n      <!-- 0.50 -->\n      <g transform=\"translate(29.257813 42.307166)scale(0.1 -0.1)\">\n       <use xlink:href=\"#DejaVuSans-48\"/>\n       <use x=\"63.623047\" xlink:href=\"#DejaVuSans-46\"/>\n       <use x=\"95.410156\" xlink:href=\"#DejaVuSans-53\"/>\n       <use x=\"159.033203\" xlink:href=\"#DejaVuSans-48\"/>\n      </g>\n     </g>\n    </g>\n    <g id=\"ytick_9\">\n     <g id=\"line2d_14\">\n      <g>\n       <use style=\"stroke:#000000;stroke-width:0.8;\" x=\"58.523438\" xlink:href=\"#m4c383755be\" y=\"12.908912\"/>\n      </g>\n     </g>\n     <g id=\"text_15\">\n      <!-- 0.75 -->\n      <g transform=\"translate(29.257813 16.708131)scale(0.1 -0.1)\">\n       <use xlink:href=\"#DejaVuSans-48\"/>\n       <use x=\"63.623047\" xlink:href=\"#DejaVuSans-46\"/>\n       <use x=\"95.410156\" xlink:href=\"#DejaVuSans-55\"/>\n       <use x=\"159.033203\" xlink:href=\"#DejaVuSans-53\"/>\n      </g>\n     </g>\n    </g>\n    <g id=\"text_16\">\n     <!-- stock price -->\n     <g transform=\"translate(14.798438 143.222344)rotate(-90)scale(0.1 -0.1)\">\n      <defs>\n       <path d=\"M 18.3125 70.21875 \nL 18.3125 54.6875 \nL 36.8125 54.6875 \nL 36.8125 47.703125 \nL 18.3125 47.703125 \nL 18.3125 18.015625 \nQ 18.3125 11.328125 20.140625 9.421875 \nQ 21.96875 7.515625 27.59375 7.515625 \nL 36.8125 7.515625 \nL 36.8125 0 \nL 27.59375 0 \nQ 17.1875 0 13.234375 3.875 \nQ 9.28125 7.765625 9.28125 18.015625 \nL 9.28125 47.703125 \nL 2.6875 47.703125 \nL 2.6875 54.6875 \nL 9.28125 54.6875 \nL 9.28125 70.21875 \nz\n\" id=\"DejaVuSans-116\"/>\n       <path d=\"M 30.609375 48.390625 \nQ 23.390625 48.390625 19.1875 42.75 \nQ 14.984375 37.109375 14.984375 27.296875 \nQ 14.984375 17.484375 19.15625 11.84375 \nQ 23.34375 6.203125 30.609375 6.203125 \nQ 37.796875 6.203125 41.984375 11.859375 \nQ 46.1875 17.53125 46.1875 27.296875 \nQ 46.1875 37.015625 41.984375 42.703125 \nQ 37.796875 48.390625 30.609375 48.390625 \nz\nM 30.609375 56 \nQ 42.328125 56 49.015625 48.375 \nQ 55.71875 40.765625 55.71875 27.296875 \nQ 55.71875 13.875 49.015625 6.21875 \nQ 42.328125 -1.421875 30.609375 -1.421875 \nQ 18.84375 -1.421875 12.171875 6.21875 \nQ 5.515625 13.875 5.515625 27.296875 \nQ 5.515625 40.765625 12.171875 48.375 \nQ 18.84375 56 30.609375 56 \nz\n\" id=\"DejaVuSans-111\"/>\n       <path d=\"M 48.78125 52.59375 \nL 48.78125 44.1875 \nQ 44.96875 46.296875 41.140625 47.34375 \nQ 37.3125 48.390625 33.40625 48.390625 \nQ 24.65625 48.390625 19.8125 42.84375 \nQ 14.984375 37.3125 14.984375 27.296875 \nQ 14.984375 17.28125 19.8125 11.734375 \nQ 24.65625 6.203125 33.40625 6.203125 \nQ 37.3125 6.203125 41.140625 7.25 \nQ 44.96875 8.296875 48.78125 10.40625 \nL 48.78125 2.09375 \nQ 45.015625 0.34375 40.984375 -0.53125 \nQ 36.96875 -1.421875 32.421875 -1.421875 \nQ 20.0625 -1.421875 12.78125 6.34375 \nQ 5.515625 14.109375 5.515625 27.296875 \nQ 5.515625 40.671875 12.859375 48.328125 \nQ 20.21875 56 33.015625 56 \nQ 37.15625 56 41.109375 55.140625 \nQ 45.0625 54.296875 48.78125 52.59375 \nz\n\" id=\"DejaVuSans-99\"/>\n       <path d=\"M 9.078125 75.984375 \nL 18.109375 75.984375 \nL 18.109375 31.109375 \nL 44.921875 54.6875 \nL 56.390625 54.6875 \nL 27.390625 29.109375 \nL 57.625 0 \nL 45.90625 0 \nL 18.109375 26.703125 \nL 18.109375 0 \nL 9.078125 0 \nz\n\" id=\"DejaVuSans-107\"/>\n       <path id=\"DejaVuSans-32\"/>\n       <path d=\"M 18.109375 8.203125 \nL 18.109375 -20.796875 \nL 9.078125 -20.796875 \nL 9.078125 54.6875 \nL 18.109375 54.6875 \nL 18.109375 46.390625 \nQ 20.953125 51.265625 25.265625 53.625 \nQ 29.59375 56 35.59375 56 \nQ 45.5625 56 51.78125 48.09375 \nQ 58.015625 40.1875 58.015625 27.296875 \nQ 58.015625 14.40625 51.78125 6.484375 \nQ 45.5625 -1.421875 35.59375 -1.421875 \nQ 29.59375 -1.421875 25.265625 0.953125 \nQ 20.953125 3.328125 18.109375 8.203125 \nz\nM 48.6875 27.296875 \nQ 48.6875 37.203125 44.609375 42.84375 \nQ 40.53125 48.484375 33.40625 48.484375 \nQ 26.265625 48.484375 22.1875 42.84375 \nQ 18.109375 37.203125 18.109375 27.296875 \nQ 18.109375 17.390625 22.1875 11.75 \nQ 26.265625 6.109375 33.40625 6.109375 \nQ 40.53125 6.109375 44.609375 11.75 \nQ 48.6875 17.390625 48.6875 27.296875 \nz\n\" id=\"DejaVuSans-112\"/>\n       <path d=\"M 41.109375 46.296875 \nQ 39.59375 47.171875 37.8125 47.578125 \nQ 36.03125 48 33.890625 48 \nQ 26.265625 48 22.1875 43.046875 \nQ 18.109375 38.09375 18.109375 28.8125 \nL 18.109375 0 \nL 9.078125 0 \nL 9.078125 54.6875 \nL 18.109375 54.6875 \nL 18.109375 46.1875 \nQ 20.953125 51.171875 25.484375 53.578125 \nQ 30.03125 56 36.53125 56 \nQ 37.453125 56 38.578125 55.875 \nQ 39.703125 55.765625 41.0625 55.515625 \nz\n\" id=\"DejaVuSans-114\"/>\n       <path d=\"M 9.421875 54.6875 \nL 18.40625 54.6875 \nL 18.40625 0 \nL 9.421875 0 \nz\nM 9.421875 75.984375 \nL 18.40625 75.984375 \nL 18.40625 64.59375 \nL 9.421875 64.59375 \nz\n\" id=\"DejaVuSans-105\"/>\n       <path d=\"M 56.203125 29.59375 \nL 56.203125 25.203125 \nL 14.890625 25.203125 \nQ 15.484375 15.921875 20.484375 11.0625 \nQ 25.484375 6.203125 34.421875 6.203125 \nQ 39.59375 6.203125 44.453125 7.46875 \nQ 49.3125 8.734375 54.109375 11.28125 \nL 54.109375 2.78125 \nQ 49.265625 0.734375 44.1875 -0.34375 \nQ 39.109375 -1.421875 33.890625 -1.421875 \nQ 20.796875 -1.421875 13.15625 6.1875 \nQ 5.515625 13.8125 5.515625 26.8125 \nQ 5.515625 40.234375 12.765625 48.109375 \nQ 20.015625 56 32.328125 56 \nQ 43.359375 56 49.78125 48.890625 \nQ 56.203125 41.796875 56.203125 29.59375 \nz\nM 47.21875 32.234375 \nQ 47.125 39.59375 43.09375 43.984375 \nQ 39.0625 48.390625 32.421875 48.390625 \nQ 24.90625 48.390625 20.390625 44.140625 \nQ 15.875 39.890625 15.1875 32.171875 \nz\n\" id=\"DejaVuSans-101\"/>\n      </defs>\n      <use xlink:href=\"#DejaVuSans-115\"/>\n      <use x=\"52.099609\" xlink:href=\"#DejaVuSans-116\"/>\n      <use x=\"91.308594\" xlink:href=\"#DejaVuSans-111\"/>\n      <use x=\"152.490234\" xlink:href=\"#DejaVuSans-99\"/>\n      <use x=\"207.470703\" xlink:href=\"#DejaVuSans-107\"/>\n      <use x=\"265.380859\" xlink:href=\"#DejaVuSans-32\"/>\n      <use x=\"297.167969\" xlink:href=\"#DejaVuSans-112\"/>\n      <use x=\"360.644531\" xlink:href=\"#DejaVuSans-114\"/>\n      <use x=\"401.757812\" xlink:href=\"#DejaVuSans-105\"/>\n      <use x=\"429.541016\" xlink:href=\"#DejaVuSans-99\"/>\n      <use x=\"484.521484\" xlink:href=\"#DejaVuSans-101\"/>\n     </g>\n    </g>\n   </g>\n   <g id=\"line2d_15\">\n    <path clip-path=\"url(#pcb485ba9a3)\" d=\"M 73.741619 17.083636 \nL 107.559801 48.928867 \nL 141.377983 54.365786 \nL 175.196165 55.271968 \nL 209.014347 112.360049 \nL 242.832528 154.949737 \nL 276.65071 148.787838 \nL 310.468892 142.625939 \nL 344.287074 193.008515 \nL 378.105256 214.756364 \n\" style=\"fill:none;stroke:#1f77b4;stroke-linecap:square;stroke-width:1.5;\"/>\n   </g>\n   <g id=\"line2d_16\">\n    <path clip-path=\"url(#pcb485ba9a3)\" d=\"M 73.741619 84.29097 \nL 107.559801 83.097207 \nL 141.377983 83.676213 \nL 175.196165 83.530906 \nL 209.014347 83.924599 \nL 242.832528 82.955925 \nL 276.65071 83.992247 \nL 310.468892 83.608165 \nL 344.287074 85.329645 \nL 378.105256 84.601868 \n\" style=\"fill:none;stroke:#ff7f0e;stroke-linecap:square;stroke-width:1.5;\"/>\n   </g>\n   <g id=\"patch_3\">\n    <path d=\"M 58.523438 224.64 \nL 58.523438 7.2 \n\" style=\"fill:none;stroke:#000000;stroke-linecap:square;stroke-linejoin:miter;stroke-width:0.8;\"/>\n   </g>\n   <g id=\"patch_4\">\n    <path d=\"M 393.323438 224.64 \nL 393.323438 7.2 \n\" style=\"fill:none;stroke:#000000;stroke-linecap:square;stroke-linejoin:miter;stroke-width:0.8;\"/>\n   </g>\n   <g id=\"patch_5\">\n    <path d=\"M 58.523438 224.64 \nL 393.323438 224.64 \n\" style=\"fill:none;stroke:#000000;stroke-linecap:square;stroke-linejoin:miter;stroke-width:0.8;\"/>\n   </g>\n   <g id=\"patch_6\">\n    <path d=\"M 58.523438 7.2 \nL 393.323438 7.2 \n\" style=\"fill:none;stroke:#000000;stroke-linecap:square;stroke-linejoin:miter;stroke-width:0.8;\"/>\n   </g>\n   <g id=\"legend_1\">\n    <g id=\"patch_7\">\n     <path d=\"M 331.5875 44.55625 \nL 386.323437 44.55625 \nQ 388.323437 44.55625 388.323437 42.55625 \nL 388.323437 14.2 \nQ 388.323437 12.2 386.323437 12.2 \nL 331.5875 12.2 \nQ 329.5875 12.2 329.5875 14.2 \nL 329.5875 42.55625 \nQ 329.5875 44.55625 331.5875 44.55625 \nz\n\" style=\"fill:#ffffff;opacity:0.8;stroke:#cccccc;stroke-linejoin:miter;\"/>\n    </g>\n    <g id=\"line2d_17\">\n     <path d=\"M 333.5875 20.298437 \nL 353.5875 20.298437 \n\" style=\"fill:none;stroke:#1f77b4;stroke-linecap:square;stroke-width:1.5;\"/>\n    </g>\n    <g id=\"line2d_18\"/>\n    <g id=\"text_17\">\n     <!-- true -->\n     <g transform=\"translate(361.5875 23.798437)scale(0.1 -0.1)\">\n      <defs>\n       <path d=\"M 8.5 21.578125 \nL 8.5 54.6875 \nL 17.484375 54.6875 \nL 17.484375 21.921875 \nQ 17.484375 14.15625 20.5 10.265625 \nQ 23.53125 6.390625 29.59375 6.390625 \nQ 36.859375 6.390625 41.078125 11.03125 \nQ 45.3125 15.671875 45.3125 23.6875 \nL 45.3125 54.6875 \nL 54.296875 54.6875 \nL 54.296875 0 \nL 45.3125 0 \nL 45.3125 8.40625 \nQ 42.046875 3.421875 37.71875 1 \nQ 33.40625 -1.421875 27.6875 -1.421875 \nQ 18.265625 -1.421875 13.375 4.4375 \nQ 8.5 10.296875 8.5 21.578125 \nz\nM 31.109375 56 \nz\n\" id=\"DejaVuSans-117\"/>\n      </defs>\n      <use xlink:href=\"#DejaVuSans-116\"/>\n      <use x=\"39.208984\" xlink:href=\"#DejaVuSans-114\"/>\n      <use x=\"80.322266\" xlink:href=\"#DejaVuSans-117\"/>\n      <use x=\"143.701172\" xlink:href=\"#DejaVuSans-101\"/>\n     </g>\n    </g>\n    <g id=\"line2d_19\">\n     <path d=\"M 333.5875 34.976562 \nL 353.5875 34.976562 \n\" style=\"fill:none;stroke:#ff7f0e;stroke-linecap:square;stroke-width:1.5;\"/>\n    </g>\n    <g id=\"line2d_20\"/>\n    <g id=\"text_18\">\n     <!-- pred -->\n     <g transform=\"translate(361.5875 38.476562)scale(0.1 -0.1)\">\n      <use xlink:href=\"#DejaVuSans-112\"/>\n      <use x=\"63.476562\" xlink:href=\"#DejaVuSans-114\"/>\n      <use x=\"102.339844\" xlink:href=\"#DejaVuSans-101\"/>\n      <use x=\"163.863281\" xlink:href=\"#DejaVuSans-100\"/>\n     </g>\n    </g>\n   </g>\n  </g>\n </g>\n <defs>\n  <clipPath id=\"pcb485ba9a3\">\n   <rect height=\"217.44\" width=\"334.8\" x=\"58.523438\" y=\"7.2\"/>\n  </clipPath>\n </defs>\n</svg>\n",
      "image/png": "[encoded data removed]"
     },
     "metadata": {
      "needs_background": "light"
     }
    }
   ],
   "source": [
    "plt.plot(y_test_10[-1], label = 'true')\n",
    "plt.plot(prediction_seqs[-1], label = 'pred')\n",
    "plt.xlabel('days')\n",
    "plt.ylabel('stock price')\n",
    "plt.legend()"
   ]
  },
  {
   "source": [
    "### De-normalized\n"
   ],
   "cell_type": "markdown",
   "metadata": {}
  },
  {
   "cell_type": "code",
   "execution_count": 73,
   "metadata": {},
   "outputs": [],
   "source": [
    "ori_price = pd.read_csv('../../data/stock_price/data/' + industry +'/price_' + stock.upper() + '.csv')"
   ]
  },
  {
   "cell_type": "code",
   "execution_count": 43,
   "metadata": {},
   "outputs": [
    {
     "output_type": "execute_result",
     "data": {
      "text/plain": [
       "         Date    Type ticker      Price\n",
       "0  2016-03-31    Open    COG  22.740000\n",
       "1  2016-03-31  Closed    COG  22.709999\n",
       "2  2016-04-01    Open    COG  22.260000\n",
       "3  2016-04-01  Closed    COG  22.510000\n",
       "4  2016-04-04    Open    COG  22.610001"
      ],
      "text/html": "<div>\n<style scoped>\n    .dataframe tbody tr th:only-of-type {\n        vertical-align: middle;\n    }\n\n    .dataframe tbody tr th {\n        vertical-align: top;\n    }\n\n    .dataframe thead th {\n        text-align: right;\n    }\n</style>\n<table border=\"1\" class=\"dataframe\">\n  <thead>\n    <tr style=\"text-align: right;\">\n      <th></th>\n      <th>Date</th>\n      <th>Type</th>\n      <th>ticker</th>\n      <th>Price</th>\n    </tr>\n  </thead>\n  <tbody>\n    <tr>\n      <th>0</th>\n      <td>2016-03-31</td>\n      <td>Open</td>\n      <td>COG</td>\n      <td>22.740000</td>\n    </tr>\n    <tr>\n      <th>1</th>\n      <td>2016-03-31</td>\n      <td>Closed</td>\n      <td>COG</td>\n      <td>22.709999</td>\n    </tr>\n    <tr>\n      <th>2</th>\n      <td>2016-04-01</td>\n      <td>Open</td>\n      <td>COG</td>\n      <td>22.260000</td>\n    </tr>\n    <tr>\n      <th>3</th>\n      <td>2016-04-01</td>\n      <td>Closed</td>\n      <td>COG</td>\n      <td>22.510000</td>\n    </tr>\n    <tr>\n      <th>4</th>\n      <td>2016-04-04</td>\n      <td>Open</td>\n      <td>COG</td>\n      <td>22.610001</td>\n    </tr>\n  </tbody>\n</table>\n</div>"
     },
     "metadata": {},
     "execution_count": 43
    }
   ],
   "source": [
    "ori_price.head(5)"
   ]
  },
  {
   "cell_type": "code",
   "execution_count": 45,
   "metadata": {},
   "outputs": [],
   "source": [
    "def normalize(x):\n",
    "    \"\"\"\n",
    "    Normalize the input to the range between 0 and 1\n",
    "    \"\"\"\n",
    "    x = np.array(x)\n",
    "    x_normalized = ((x - np.min(x)) / (np.max(x) - np.min(x))).tolist()\n",
    "    return x_normalized\n",
    "max_price = np.max(ori_price['Price'])\n",
    "min_price = np.min(ori_price['Price'])\n",
    "def denorm_n(x, min_max, n):\n",
    "    de_result = []\n",
    "    for i, v in enumerate(x):\n",
    "        min_p, max_p = min_max[i]\n",
    "        v_denorm = []\n",
    "        for j in range(n):\n",
    "            v_denorm.append(x[i][j] * (max_p - min_p) + min_p)\n",
    "        de_result.append(v_denorm)\n",
    "    return de_result\n"
   ]
  },
  {
   "cell_type": "code",
   "execution_count": 74,
   "metadata": {},
   "outputs": [
    {
     "output_type": "stream",
     "name": "stdout",
     "text": [
      "Industry:  energy ; stock:  COG\n",
      "The max price is 29.489999771118164, the min price is 13.09000015258789\n",
      "The RMSE of predictions is 0.8512038949800783\n"
     ]
    }
   ],
   "source": [
    "pred_denorm = denorm_n(prediction_seqs, min_max_test, n)\n",
    "ytest_denorm = denorm_n(y_test_10, min_max_test, n)\n",
    "print('Industry: ', industry, '; stock: ', stock.upper())\n",
    "print('The max price is {0}, the min price is {1}'.format(max_price, min_price))\n",
    "print('The RMSE of predictions is', np.sqrt(mean_squared_error(pred_denorm, ytest_denorm)))"
   ]
  },
  {
   "cell_type": "code",
   "execution_count": 90,
   "metadata": {},
   "outputs": [
    {
     "output_type": "stream",
     "name": "stdout",
     "text": [
      "(356, 10) (356, 10)\n"
     ]
    }
   ],
   "source": [
    "print(np.array(pred_denorm).shape, np.array(ytest_denorm).shape\n",
    ")\n"
   ]
  },
  {
   "cell_type": "code",
   "execution_count": 93,
   "metadata": {},
   "outputs": [
    {
     "output_type": "execute_result",
     "data": {
      "text/plain": [
       "<matplotlib.legend.Legend at 0x7ff2246cac10>"
      ]
     },
     "metadata": {},
     "execution_count": 93
    },
    {
     "output_type": "display_data",
     "data": {
      "text/plain": "<Figure size 432x288 with 1 Axes>",
      "image/svg+xml": "<?xml version=\"1.0\" encoding=\"utf-8\" standalone=\"no\"?>\n<!DOCTYPE svg PUBLIC \"-//W3C//DTD SVG 1.1//EN\"\n  \"http://www.w3.org/Graphics/SVG/1.1/DTD/svg11.dtd\">\n<!-- Created with matplotlib (https://matplotlib.org/) -->\n<svg height=\"277.314375pt\" version=\"1.1\" viewBox=\"0 0 382.603125 277.314375\" width=\"382.603125pt\" xmlns=\"http://www.w3.org/2000/svg\" xmlns:xlink=\"http://www.w3.org/1999/xlink\">\n <metadata>\n  <rdf:RDF xmlns:cc=\"http://creativecommons.org/ns#\" xmlns:dc=\"http://purl.org/dc/elements/1.1/\" xmlns:rdf=\"http://www.w3.org/1999/02/22-rdf-syntax-ns#\">\n   <cc:Work>\n    <dc:type rdf:resource=\"http://purl.org/dc/dcmitype/StillImage\"/>\n    <dc:date>2021-05-07T17:37:12.676906</dc:date>\n    <dc:format>image/svg+xml</dc:format>\n    <dc:creator>\n     <cc:Agent>\n      <dc:title>Matplotlib v3.3.3, https://matplotlib.org/</dc:title>\n     </cc:Agent>\n    </dc:creator>\n   </cc:Work>\n  </rdf:RDF>\n </metadata>\n <defs>\n  <style type=\"text/css\">*{stroke-linecap:butt;stroke-linejoin:round;}</style>\n </defs>\n <g id=\"figure_1\">\n  <g id=\"patch_1\">\n   <path d=\"M 0 277.314375 \nL 382.603125 277.314375 \nL 382.603125 0 \nL 0 0 \nz\n\" style=\"fill:none;\"/>\n  </g>\n  <g id=\"axes_1\">\n   <g id=\"patch_2\">\n    <path d=\"M 40.603125 239.758125 \nL 375.403125 239.758125 \nL 375.403125 22.318125 \nL 40.603125 22.318125 \nz\n\" style=\"fill:#ffffff;\"/>\n   </g>\n   <g id=\"matplotlib.axis_1\">\n    <g id=\"xtick_1\">\n     <g id=\"line2d_1\">\n      <defs>\n       <path d=\"M 0 0 \nL 0 3.5 \n\" id=\"m41b278bbc5\" style=\"stroke:#000000;stroke-width:0.8;\"/>\n      </defs>\n      <g>\n       <use style=\"stroke:#000000;stroke-width:0.8;\" x=\"55.821307\" xlink:href=\"#m41b278bbc5\" y=\"239.758125\"/>\n      </g>\n     </g>\n     <g id=\"text_1\">\n      <!-- 0 -->\n      <g transform=\"translate(52.640057 254.356562)scale(0.1 -0.1)\">\n       <defs>\n        <path d=\"M 31.78125 66.40625 \nQ 24.171875 66.40625 20.328125 58.90625 \nQ 16.5 51.421875 16.5 36.375 \nQ 16.5 21.390625 20.328125 13.890625 \nQ 24.171875 6.390625 31.78125 6.390625 \nQ 39.453125 6.390625 43.28125 13.890625 \nQ 47.125 21.390625 47.125 36.375 \nQ 47.125 51.421875 43.28125 58.90625 \nQ 39.453125 66.40625 31.78125 66.40625 \nz\nM 31.78125 74.21875 \nQ 44.046875 74.21875 50.515625 64.515625 \nQ 56.984375 54.828125 56.984375 36.375 \nQ 56.984375 17.96875 50.515625 8.265625 \nQ 44.046875 -1.421875 31.78125 -1.421875 \nQ 19.53125 -1.421875 13.0625 8.265625 \nQ 6.59375 17.96875 6.59375 36.375 \nQ 6.59375 54.828125 13.0625 64.515625 \nQ 19.53125 74.21875 31.78125 74.21875 \nz\n\" id=\"DejaVuSans-48\"/>\n       </defs>\n       <use xlink:href=\"#DejaVuSans-48\"/>\n      </g>\n     </g>\n    </g>\n    <g id=\"xtick_2\">\n     <g id=\"line2d_2\">\n      <g>\n       <use style=\"stroke:#000000;stroke-width:0.8;\" x=\"98.689425\" xlink:href=\"#m41b278bbc5\" y=\"239.758125\"/>\n      </g>\n     </g>\n     <g id=\"text_2\">\n      <!-- 50 -->\n      <g transform=\"translate(92.326925 254.356562)scale(0.1 -0.1)\">\n       <defs>\n        <path d=\"M 10.796875 72.90625 \nL 49.515625 72.90625 \nL 49.515625 64.59375 \nL 19.828125 64.59375 \nL 19.828125 46.734375 \nQ 21.96875 47.46875 24.109375 47.828125 \nQ 26.265625 48.1875 28.421875 48.1875 \nQ 40.625 48.1875 47.75 41.5 \nQ 54.890625 34.8125 54.890625 23.390625 \nQ 54.890625 11.625 47.5625 5.09375 \nQ 40.234375 -1.421875 26.90625 -1.421875 \nQ 22.3125 -1.421875 17.546875 -0.640625 \nQ 12.796875 0.140625 7.71875 1.703125 \nL 7.71875 11.625 \nQ 12.109375 9.234375 16.796875 8.0625 \nQ 21.484375 6.890625 26.703125 6.890625 \nQ 35.15625 6.890625 40.078125 11.328125 \nQ 45.015625 15.765625 45.015625 23.390625 \nQ 45.015625 31 40.078125 35.4375 \nQ 35.15625 39.890625 26.703125 39.890625 \nQ 22.75 39.890625 18.8125 39.015625 \nQ 14.890625 38.140625 10.796875 36.28125 \nz\n\" id=\"DejaVuSans-53\"/>\n       </defs>\n       <use xlink:href=\"#DejaVuSans-53\"/>\n       <use x=\"63.623047\" xlink:href=\"#DejaVuSans-48\"/>\n      </g>\n     </g>\n    </g>\n    <g id=\"xtick_3\">\n     <g id=\"line2d_3\">\n      <g>\n       <use style=\"stroke:#000000;stroke-width:0.8;\" x=\"141.557542\" xlink:href=\"#m41b278bbc5\" y=\"239.758125\"/>\n      </g>\n     </g>\n     <g id=\"text_3\">\n      <!-- 100 -->\n      <g transform=\"translate(132.013792 254.356562)scale(0.1 -0.1)\">\n       <defs>\n        <path d=\"M 12.40625 8.296875 \nL 28.515625 8.296875 \nL 28.515625 63.921875 \nL 10.984375 60.40625 \nL 10.984375 69.390625 \nL 28.421875 72.90625 \nL 38.28125 72.90625 \nL 38.28125 8.296875 \nL 54.390625 8.296875 \nL 54.390625 0 \nL 12.40625 0 \nz\n\" id=\"DejaVuSans-49\"/>\n       </defs>\n       <use xlink:href=\"#DejaVuSans-49\"/>\n       <use x=\"63.623047\" xlink:href=\"#DejaVuSans-48\"/>\n       <use x=\"127.246094\" xlink:href=\"#DejaVuSans-48\"/>\n      </g>\n     </g>\n    </g>\n    <g id=\"xtick_4\">\n     <g id=\"line2d_4\">\n      <g>\n       <use style=\"stroke:#000000;stroke-width:0.8;\" x=\"184.42566\" xlink:href=\"#m41b278bbc5\" y=\"239.758125\"/>\n      </g>\n     </g>\n     <g id=\"text_4\">\n      <!-- 150 -->\n      <g transform=\"translate(174.88191 254.356562)scale(0.1 -0.1)\">\n       <use xlink:href=\"#DejaVuSans-49\"/>\n       <use x=\"63.623047\" xlink:href=\"#DejaVuSans-53\"/>\n       <use x=\"127.246094\" xlink:href=\"#DejaVuSans-48\"/>\n      </g>\n     </g>\n    </g>\n    <g id=\"xtick_5\">\n     <g id=\"line2d_5\">\n      <g>\n       <use style=\"stroke:#000000;stroke-width:0.8;\" x=\"227.293778\" xlink:href=\"#m41b278bbc5\" y=\"239.758125\"/>\n      </g>\n     </g>\n     <g id=\"text_5\">\n      <!-- 200 -->\n      <g transform=\"translate(217.750028 254.356562)scale(0.1 -0.1)\">\n       <defs>\n        <path d=\"M 19.1875 8.296875 \nL 53.609375 8.296875 \nL 53.609375 0 \nL 7.328125 0 \nL 7.328125 8.296875 \nQ 12.9375 14.109375 22.625 23.890625 \nQ 32.328125 33.6875 34.8125 36.53125 \nQ 39.546875 41.84375 41.421875 45.53125 \nQ 43.3125 49.21875 43.3125 52.78125 \nQ 43.3125 58.59375 39.234375 62.25 \nQ 35.15625 65.921875 28.609375 65.921875 \nQ 23.96875 65.921875 18.8125 64.3125 \nQ 13.671875 62.703125 7.8125 59.421875 \nL 7.8125 69.390625 \nQ 13.765625 71.78125 18.9375 73 \nQ 24.125 74.21875 28.421875 74.21875 \nQ 39.75 74.21875 46.484375 68.546875 \nQ 53.21875 62.890625 53.21875 53.421875 \nQ 53.21875 48.921875 51.53125 44.890625 \nQ 49.859375 40.875 45.40625 35.40625 \nQ 44.1875 33.984375 37.640625 27.21875 \nQ 31.109375 20.453125 19.1875 8.296875 \nz\n\" id=\"DejaVuSans-50\"/>\n       </defs>\n       <use xlink:href=\"#DejaVuSans-50\"/>\n       <use x=\"63.623047\" xlink:href=\"#DejaVuSans-48\"/>\n       <use x=\"127.246094\" xlink:href=\"#DejaVuSans-48\"/>\n      </g>\n     </g>\n    </g>\n    <g id=\"xtick_6\">\n     <g id=\"line2d_6\">\n      <g>\n       <use style=\"stroke:#000000;stroke-width:0.8;\" x=\"270.161896\" xlink:href=\"#m41b278bbc5\" y=\"239.758125\"/>\n      </g>\n     </g>\n     <g id=\"text_6\">\n      <!-- 250 -->\n      <g transform=\"translate(260.618146 254.356562)scale(0.1 -0.1)\">\n       <use xlink:href=\"#DejaVuSans-50\"/>\n       <use x=\"63.623047\" xlink:href=\"#DejaVuSans-53\"/>\n       <use x=\"127.246094\" xlink:href=\"#DejaVuSans-48\"/>\n      </g>\n     </g>\n    </g>\n    <g id=\"xtick_7\">\n     <g id=\"line2d_7\">\n      <g>\n       <use style=\"stroke:#000000;stroke-width:0.8;\" x=\"313.030014\" xlink:href=\"#m41b278bbc5\" y=\"239.758125\"/>\n      </g>\n     </g>\n     <g id=\"text_7\">\n      <!-- 300 -->\n      <g transform=\"translate(303.486264 254.356562)scale(0.1 -0.1)\">\n       <defs>\n        <path d=\"M 40.578125 39.3125 \nQ 47.65625 37.796875 51.625 33 \nQ 55.609375 28.21875 55.609375 21.1875 \nQ 55.609375 10.40625 48.1875 4.484375 \nQ 40.765625 -1.421875 27.09375 -1.421875 \nQ 22.515625 -1.421875 17.65625 -0.515625 \nQ 12.796875 0.390625 7.625 2.203125 \nL 7.625 11.71875 \nQ 11.71875 9.328125 16.59375 8.109375 \nQ 21.484375 6.890625 26.8125 6.890625 \nQ 36.078125 6.890625 40.9375 10.546875 \nQ 45.796875 14.203125 45.796875 21.1875 \nQ 45.796875 27.640625 41.28125 31.265625 \nQ 36.765625 34.90625 28.71875 34.90625 \nL 20.21875 34.90625 \nL 20.21875 43.015625 \nL 29.109375 43.015625 \nQ 36.375 43.015625 40.234375 45.921875 \nQ 44.09375 48.828125 44.09375 54.296875 \nQ 44.09375 59.90625 40.109375 62.90625 \nQ 36.140625 65.921875 28.71875 65.921875 \nQ 24.65625 65.921875 20.015625 65.03125 \nQ 15.375 64.15625 9.8125 62.3125 \nL 9.8125 71.09375 \nQ 15.4375 72.65625 20.34375 73.4375 \nQ 25.25 74.21875 29.59375 74.21875 \nQ 40.828125 74.21875 47.359375 69.109375 \nQ 53.90625 64.015625 53.90625 55.328125 \nQ 53.90625 49.265625 50.4375 45.09375 \nQ 46.96875 40.921875 40.578125 39.3125 \nz\n\" id=\"DejaVuSans-51\"/>\n       </defs>\n       <use xlink:href=\"#DejaVuSans-51\"/>\n       <use x=\"63.623047\" xlink:href=\"#DejaVuSans-48\"/>\n       <use x=\"127.246094\" xlink:href=\"#DejaVuSans-48\"/>\n      </g>\n     </g>\n    </g>\n    <g id=\"xtick_8\">\n     <g id=\"line2d_8\">\n      <g>\n       <use style=\"stroke:#000000;stroke-width:0.8;\" x=\"355.898131\" xlink:href=\"#m41b278bbc5\" y=\"239.758125\"/>\n      </g>\n     </g>\n     <g id=\"text_8\">\n      <!-- 350 -->\n      <g transform=\"translate(346.354381 254.356562)scale(0.1 -0.1)\">\n       <use xlink:href=\"#DejaVuSans-51\"/>\n       <use x=\"63.623047\" xlink:href=\"#DejaVuSans-53\"/>\n       <use x=\"127.246094\" xlink:href=\"#DejaVuSans-48\"/>\n      </g>\n     </g>\n    </g>\n    <g id=\"text_9\">\n     <!-- days -->\n     <g transform=\"translate(196.200781 268.034687)scale(0.1 -0.1)\">\n      <defs>\n       <path d=\"M 45.40625 46.390625 \nL 45.40625 75.984375 \nL 54.390625 75.984375 \nL 54.390625 0 \nL 45.40625 0 \nL 45.40625 8.203125 \nQ 42.578125 3.328125 38.25 0.953125 \nQ 33.9375 -1.421875 27.875 -1.421875 \nQ 17.96875 -1.421875 11.734375 6.484375 \nQ 5.515625 14.40625 5.515625 27.296875 \nQ 5.515625 40.1875 11.734375 48.09375 \nQ 17.96875 56 27.875 56 \nQ 33.9375 56 38.25 53.625 \nQ 42.578125 51.265625 45.40625 46.390625 \nz\nM 14.796875 27.296875 \nQ 14.796875 17.390625 18.875 11.75 \nQ 22.953125 6.109375 30.078125 6.109375 \nQ 37.203125 6.109375 41.296875 11.75 \nQ 45.40625 17.390625 45.40625 27.296875 \nQ 45.40625 37.203125 41.296875 42.84375 \nQ 37.203125 48.484375 30.078125 48.484375 \nQ 22.953125 48.484375 18.875 42.84375 \nQ 14.796875 37.203125 14.796875 27.296875 \nz\n\" id=\"DejaVuSans-100\"/>\n       <path d=\"M 34.28125 27.484375 \nQ 23.390625 27.484375 19.1875 25 \nQ 14.984375 22.515625 14.984375 16.5 \nQ 14.984375 11.71875 18.140625 8.90625 \nQ 21.296875 6.109375 26.703125 6.109375 \nQ 34.1875 6.109375 38.703125 11.40625 \nQ 43.21875 16.703125 43.21875 25.484375 \nL 43.21875 27.484375 \nz\nM 52.203125 31.203125 \nL 52.203125 0 \nL 43.21875 0 \nL 43.21875 8.296875 \nQ 40.140625 3.328125 35.546875 0.953125 \nQ 30.953125 -1.421875 24.3125 -1.421875 \nQ 15.921875 -1.421875 10.953125 3.296875 \nQ 6 8.015625 6 15.921875 \nQ 6 25.140625 12.171875 29.828125 \nQ 18.359375 34.515625 30.609375 34.515625 \nL 43.21875 34.515625 \nL 43.21875 35.40625 \nQ 43.21875 41.609375 39.140625 45 \nQ 35.0625 48.390625 27.6875 48.390625 \nQ 23 48.390625 18.546875 47.265625 \nQ 14.109375 46.140625 10.015625 43.890625 \nL 10.015625 52.203125 \nQ 14.9375 54.109375 19.578125 55.046875 \nQ 24.21875 56 28.609375 56 \nQ 40.484375 56 46.34375 49.84375 \nQ 52.203125 43.703125 52.203125 31.203125 \nz\n\" id=\"DejaVuSans-97\"/>\n       <path d=\"M 32.171875 -5.078125 \nQ 28.375 -14.84375 24.75 -17.8125 \nQ 21.140625 -20.796875 15.09375 -20.796875 \nL 7.90625 -20.796875 \nL 7.90625 -13.28125 \nL 13.1875 -13.28125 \nQ 16.890625 -13.28125 18.9375 -11.515625 \nQ 21 -9.765625 23.484375 -3.21875 \nL 25.09375 0.875 \nL 2.984375 54.6875 \nL 12.5 54.6875 \nL 29.59375 11.921875 \nL 46.6875 54.6875 \nL 56.203125 54.6875 \nz\n\" id=\"DejaVuSans-121\"/>\n       <path d=\"M 44.28125 53.078125 \nL 44.28125 44.578125 \nQ 40.484375 46.53125 36.375 47.5 \nQ 32.28125 48.484375 27.875 48.484375 \nQ 21.1875 48.484375 17.84375 46.4375 \nQ 14.5 44.390625 14.5 40.28125 \nQ 14.5 37.15625 16.890625 35.375 \nQ 19.28125 33.59375 26.515625 31.984375 \nL 29.59375 31.296875 \nQ 39.15625 29.25 43.1875 25.515625 \nQ 47.21875 21.78125 47.21875 15.09375 \nQ 47.21875 7.46875 41.1875 3.015625 \nQ 35.15625 -1.421875 24.609375 -1.421875 \nQ 20.21875 -1.421875 15.453125 -0.5625 \nQ 10.6875 0.296875 5.421875 2 \nL 5.421875 11.28125 \nQ 10.40625 8.6875 15.234375 7.390625 \nQ 20.0625 6.109375 24.8125 6.109375 \nQ 31.15625 6.109375 34.5625 8.28125 \nQ 37.984375 10.453125 37.984375 14.40625 \nQ 37.984375 18.0625 35.515625 20.015625 \nQ 33.0625 21.96875 24.703125 23.78125 \nL 21.578125 24.515625 \nQ 13.234375 26.265625 9.515625 29.90625 \nQ 5.8125 33.546875 5.8125 39.890625 \nQ 5.8125 47.609375 11.28125 51.796875 \nQ 16.75 56 26.8125 56 \nQ 31.78125 56 36.171875 55.265625 \nQ 40.578125 54.546875 44.28125 53.078125 \nz\n\" id=\"DejaVuSans-115\"/>\n      </defs>\n      <use xlink:href=\"#DejaVuSans-100\"/>\n      <use x=\"63.476562\" xlink:href=\"#DejaVuSans-97\"/>\n      <use x=\"124.755859\" xlink:href=\"#DejaVuSans-121\"/>\n      <use x=\"183.935547\" xlink:href=\"#DejaVuSans-115\"/>\n     </g>\n    </g>\n   </g>\n   <g id=\"matplotlib.axis_2\">\n    <g id=\"ytick_1\">\n     <g id=\"line2d_9\">\n      <defs>\n       <path d=\"M 0 0 \nL -3.5 0 \n\" id=\"mb3d87c86a7\" style=\"stroke:#000000;stroke-width:0.8;\"/>\n      </defs>\n      <g>\n       <use style=\"stroke:#000000;stroke-width:0.8;\" x=\"40.603125\" xlink:href=\"#mb3d87c86a7\" y=\"227.311497\"/>\n      </g>\n     </g>\n     <g id=\"text_10\">\n      <!-- 16 -->\n      <g transform=\"translate(20.878125 231.110716)scale(0.1 -0.1)\">\n       <defs>\n        <path d=\"M 33.015625 40.375 \nQ 26.375 40.375 22.484375 35.828125 \nQ 18.609375 31.296875 18.609375 23.390625 \nQ 18.609375 15.53125 22.484375 10.953125 \nQ 26.375 6.390625 33.015625 6.390625 \nQ 39.65625 6.390625 43.53125 10.953125 \nQ 47.40625 15.53125 47.40625 23.390625 \nQ 47.40625 31.296875 43.53125 35.828125 \nQ 39.65625 40.375 33.015625 40.375 \nz\nM 52.59375 71.296875 \nL 52.59375 62.3125 \nQ 48.875 64.0625 45.09375 64.984375 \nQ 41.3125 65.921875 37.59375 65.921875 \nQ 27.828125 65.921875 22.671875 59.328125 \nQ 17.53125 52.734375 16.796875 39.40625 \nQ 19.671875 43.65625 24.015625 45.921875 \nQ 28.375 48.1875 33.59375 48.1875 \nQ 44.578125 48.1875 50.953125 41.515625 \nQ 57.328125 34.859375 57.328125 23.390625 \nQ 57.328125 12.15625 50.6875 5.359375 \nQ 44.046875 -1.421875 33.015625 -1.421875 \nQ 20.359375 -1.421875 13.671875 8.265625 \nQ 6.984375 17.96875 6.984375 36.375 \nQ 6.984375 53.65625 15.1875 63.9375 \nQ 23.390625 74.21875 37.203125 74.21875 \nQ 40.921875 74.21875 44.703125 73.484375 \nQ 48.484375 72.75 52.59375 71.296875 \nz\n\" id=\"DejaVuSans-54\"/>\n       </defs>\n       <use xlink:href=\"#DejaVuSans-49\"/>\n       <use x=\"63.623047\" xlink:href=\"#DejaVuSans-54\"/>\n      </g>\n     </g>\n    </g>\n    <g id=\"ytick_2\">\n     <g id=\"line2d_10\">\n      <g>\n       <use style=\"stroke:#000000;stroke-width:0.8;\" x=\"40.603125\" xlink:href=\"#mb3d87c86a7\" y=\"196.682029\"/>\n      </g>\n     </g>\n     <g id=\"text_11\">\n      <!-- 17 -->\n      <g transform=\"translate(20.878125 200.481248)scale(0.1 -0.1)\">\n       <defs>\n        <path d=\"M 8.203125 72.90625 \nL 55.078125 72.90625 \nL 55.078125 68.703125 \nL 28.609375 0 \nL 18.3125 0 \nL 43.21875 64.59375 \nL 8.203125 64.59375 \nz\n\" id=\"DejaVuSans-55\"/>\n       </defs>\n       <use xlink:href=\"#DejaVuSans-49\"/>\n       <use x=\"63.623047\" xlink:href=\"#DejaVuSans-55\"/>\n      </g>\n     </g>\n    </g>\n    <g id=\"ytick_3\">\n     <g id=\"line2d_11\">\n      <g>\n       <use style=\"stroke:#000000;stroke-width:0.8;\" x=\"40.603125\" xlink:href=\"#mb3d87c86a7\" y=\"166.052561\"/>\n      </g>\n     </g>\n     <g id=\"text_12\">\n      <!-- 18 -->\n      <g transform=\"translate(20.878125 169.85178)scale(0.1 -0.1)\">\n       <defs>\n        <path d=\"M 31.78125 34.625 \nQ 24.75 34.625 20.71875 30.859375 \nQ 16.703125 27.09375 16.703125 20.515625 \nQ 16.703125 13.921875 20.71875 10.15625 \nQ 24.75 6.390625 31.78125 6.390625 \nQ 38.8125 6.390625 42.859375 10.171875 \nQ 46.921875 13.96875 46.921875 20.515625 \nQ 46.921875 27.09375 42.890625 30.859375 \nQ 38.875 34.625 31.78125 34.625 \nz\nM 21.921875 38.8125 \nQ 15.578125 40.375 12.03125 44.71875 \nQ 8.5 49.078125 8.5 55.328125 \nQ 8.5 64.0625 14.71875 69.140625 \nQ 20.953125 74.21875 31.78125 74.21875 \nQ 42.671875 74.21875 48.875 69.140625 \nQ 55.078125 64.0625 55.078125 55.328125 \nQ 55.078125 49.078125 51.53125 44.71875 \nQ 48 40.375 41.703125 38.8125 \nQ 48.828125 37.15625 52.796875 32.3125 \nQ 56.78125 27.484375 56.78125 20.515625 \nQ 56.78125 9.90625 50.3125 4.234375 \nQ 43.84375 -1.421875 31.78125 -1.421875 \nQ 19.734375 -1.421875 13.25 4.234375 \nQ 6.78125 9.90625 6.78125 20.515625 \nQ 6.78125 27.484375 10.78125 32.3125 \nQ 14.796875 37.15625 21.921875 38.8125 \nz\nM 18.3125 54.390625 \nQ 18.3125 48.734375 21.84375 45.5625 \nQ 25.390625 42.390625 31.78125 42.390625 \nQ 38.140625 42.390625 41.71875 45.5625 \nQ 45.3125 48.734375 45.3125 54.390625 \nQ 45.3125 60.0625 41.71875 63.234375 \nQ 38.140625 66.40625 31.78125 66.40625 \nQ 25.390625 66.40625 21.84375 63.234375 \nQ 18.3125 60.0625 18.3125 54.390625 \nz\n\" id=\"DejaVuSans-56\"/>\n       </defs>\n       <use xlink:href=\"#DejaVuSans-49\"/>\n       <use x=\"63.623047\" xlink:href=\"#DejaVuSans-56\"/>\n      </g>\n     </g>\n    </g>\n    <g id=\"ytick_4\">\n     <g id=\"line2d_12\">\n      <g>\n       <use style=\"stroke:#000000;stroke-width:0.8;\" x=\"40.603125\" xlink:href=\"#mb3d87c86a7\" y=\"135.423094\"/>\n      </g>\n     </g>\n     <g id=\"text_13\">\n      <!-- 19 -->\n      <g transform=\"translate(20.878125 139.222312)scale(0.1 -0.1)\">\n       <defs>\n        <path d=\"M 10.984375 1.515625 \nL 10.984375 10.5 \nQ 14.703125 8.734375 18.5 7.8125 \nQ 22.3125 6.890625 25.984375 6.890625 \nQ 35.75 6.890625 40.890625 13.453125 \nQ 46.046875 20.015625 46.78125 33.40625 \nQ 43.953125 29.203125 39.59375 26.953125 \nQ 35.25 24.703125 29.984375 24.703125 \nQ 19.046875 24.703125 12.671875 31.3125 \nQ 6.296875 37.9375 6.296875 49.421875 \nQ 6.296875 60.640625 12.9375 67.421875 \nQ 19.578125 74.21875 30.609375 74.21875 \nQ 43.265625 74.21875 49.921875 64.515625 \nQ 56.59375 54.828125 56.59375 36.375 \nQ 56.59375 19.140625 48.40625 8.859375 \nQ 40.234375 -1.421875 26.421875 -1.421875 \nQ 22.703125 -1.421875 18.890625 -0.6875 \nQ 15.09375 0.046875 10.984375 1.515625 \nz\nM 30.609375 32.421875 \nQ 37.25 32.421875 41.125 36.953125 \nQ 45.015625 41.5 45.015625 49.421875 \nQ 45.015625 57.28125 41.125 61.84375 \nQ 37.25 66.40625 30.609375 66.40625 \nQ 23.96875 66.40625 20.09375 61.84375 \nQ 16.21875 57.28125 16.21875 49.421875 \nQ 16.21875 41.5 20.09375 36.953125 \nQ 23.96875 32.421875 30.609375 32.421875 \nz\n\" id=\"DejaVuSans-57\"/>\n       </defs>\n       <use xlink:href=\"#DejaVuSans-49\"/>\n       <use x=\"63.623047\" xlink:href=\"#DejaVuSans-57\"/>\n      </g>\n     </g>\n    </g>\n    <g id=\"ytick_5\">\n     <g id=\"line2d_13\">\n      <g>\n       <use style=\"stroke:#000000;stroke-width:0.8;\" x=\"40.603125\" xlink:href=\"#mb3d87c86a7\" y=\"104.793626\"/>\n      </g>\n     </g>\n     <g id=\"text_14\">\n      <!-- 20 -->\n      <g transform=\"translate(20.878125 108.592845)scale(0.1 -0.1)\">\n       <use xlink:href=\"#DejaVuSans-50\"/>\n       <use x=\"63.623047\" xlink:href=\"#DejaVuSans-48\"/>\n      </g>\n     </g>\n    </g>\n    <g id=\"ytick_6\">\n     <g id=\"line2d_14\">\n      <g>\n       <use style=\"stroke:#000000;stroke-width:0.8;\" x=\"40.603125\" xlink:href=\"#mb3d87c86a7\" y=\"74.164158\"/>\n      </g>\n     </g>\n     <g id=\"text_15\">\n      <!-- 21 -->\n      <g transform=\"translate(20.878125 77.963377)scale(0.1 -0.1)\">\n       <use xlink:href=\"#DejaVuSans-50\"/>\n       <use x=\"63.623047\" xlink:href=\"#DejaVuSans-49\"/>\n      </g>\n     </g>\n    </g>\n    <g id=\"ytick_7\">\n     <g id=\"line2d_15\">\n      <g>\n       <use style=\"stroke:#000000;stroke-width:0.8;\" x=\"40.603125\" xlink:href=\"#mb3d87c86a7\" y=\"43.53469\"/>\n      </g>\n     </g>\n     <g id=\"text_16\">\n      <!-- 22 -->\n      <g transform=\"translate(20.878125 47.333909)scale(0.1 -0.1)\">\n       <use xlink:href=\"#DejaVuSans-50\"/>\n       <use x=\"63.623047\" xlink:href=\"#DejaVuSans-50\"/>\n      </g>\n     </g>\n    </g>\n    <g id=\"text_17\">\n     <!-- stock price -->\n     <g transform=\"translate(14.798438 158.340469)rotate(-90)scale(0.1 -0.1)\">\n      <defs>\n       <path d=\"M 18.3125 70.21875 \nL 18.3125 54.6875 \nL 36.8125 54.6875 \nL 36.8125 47.703125 \nL 18.3125 47.703125 \nL 18.3125 18.015625 \nQ 18.3125 11.328125 20.140625 9.421875 \nQ 21.96875 7.515625 27.59375 7.515625 \nL 36.8125 7.515625 \nL 36.8125 0 \nL 27.59375 0 \nQ 17.1875 0 13.234375 3.875 \nQ 9.28125 7.765625 9.28125 18.015625 \nL 9.28125 47.703125 \nL 2.6875 47.703125 \nL 2.6875 54.6875 \nL 9.28125 54.6875 \nL 9.28125 70.21875 \nz\n\" id=\"DejaVuSans-116\"/>\n       <path d=\"M 30.609375 48.390625 \nQ 23.390625 48.390625 19.1875 42.75 \nQ 14.984375 37.109375 14.984375 27.296875 \nQ 14.984375 17.484375 19.15625 11.84375 \nQ 23.34375 6.203125 30.609375 6.203125 \nQ 37.796875 6.203125 41.984375 11.859375 \nQ 46.1875 17.53125 46.1875 27.296875 \nQ 46.1875 37.015625 41.984375 42.703125 \nQ 37.796875 48.390625 30.609375 48.390625 \nz\nM 30.609375 56 \nQ 42.328125 56 49.015625 48.375 \nQ 55.71875 40.765625 55.71875 27.296875 \nQ 55.71875 13.875 49.015625 6.21875 \nQ 42.328125 -1.421875 30.609375 -1.421875 \nQ 18.84375 -1.421875 12.171875 6.21875 \nQ 5.515625 13.875 5.515625 27.296875 \nQ 5.515625 40.765625 12.171875 48.375 \nQ 18.84375 56 30.609375 56 \nz\n\" id=\"DejaVuSans-111\"/>\n       <path d=\"M 48.78125 52.59375 \nL 48.78125 44.1875 \nQ 44.96875 46.296875 41.140625 47.34375 \nQ 37.3125 48.390625 33.40625 48.390625 \nQ 24.65625 48.390625 19.8125 42.84375 \nQ 14.984375 37.3125 14.984375 27.296875 \nQ 14.984375 17.28125 19.8125 11.734375 \nQ 24.65625 6.203125 33.40625 6.203125 \nQ 37.3125 6.203125 41.140625 7.25 \nQ 44.96875 8.296875 48.78125 10.40625 \nL 48.78125 2.09375 \nQ 45.015625 0.34375 40.984375 -0.53125 \nQ 36.96875 -1.421875 32.421875 -1.421875 \nQ 20.0625 -1.421875 12.78125 6.34375 \nQ 5.515625 14.109375 5.515625 27.296875 \nQ 5.515625 40.671875 12.859375 48.328125 \nQ 20.21875 56 33.015625 56 \nQ 37.15625 56 41.109375 55.140625 \nQ 45.0625 54.296875 48.78125 52.59375 \nz\n\" id=\"DejaVuSans-99\"/>\n       <path d=\"M 9.078125 75.984375 \nL 18.109375 75.984375 \nL 18.109375 31.109375 \nL 44.921875 54.6875 \nL 56.390625 54.6875 \nL 27.390625 29.109375 \nL 57.625 0 \nL 45.90625 0 \nL 18.109375 26.703125 \nL 18.109375 0 \nL 9.078125 0 \nz\n\" id=\"DejaVuSans-107\"/>\n       <path id=\"DejaVuSans-32\"/>\n       <path d=\"M 18.109375 8.203125 \nL 18.109375 -20.796875 \nL 9.078125 -20.796875 \nL 9.078125 54.6875 \nL 18.109375 54.6875 \nL 18.109375 46.390625 \nQ 20.953125 51.265625 25.265625 53.625 \nQ 29.59375 56 35.59375 56 \nQ 45.5625 56 51.78125 48.09375 \nQ 58.015625 40.1875 58.015625 27.296875 \nQ 58.015625 14.40625 51.78125 6.484375 \nQ 45.5625 -1.421875 35.59375 -1.421875 \nQ 29.59375 -1.421875 25.265625 0.953125 \nQ 20.953125 3.328125 18.109375 8.203125 \nz\nM 48.6875 27.296875 \nQ 48.6875 37.203125 44.609375 42.84375 \nQ 40.53125 48.484375 33.40625 48.484375 \nQ 26.265625 48.484375 22.1875 42.84375 \nQ 18.109375 37.203125 18.109375 27.296875 \nQ 18.109375 17.390625 22.1875 11.75 \nQ 26.265625 6.109375 33.40625 6.109375 \nQ 40.53125 6.109375 44.609375 11.75 \nQ 48.6875 17.390625 48.6875 27.296875 \nz\n\" id=\"DejaVuSans-112\"/>\n       <path d=\"M 41.109375 46.296875 \nQ 39.59375 47.171875 37.8125 47.578125 \nQ 36.03125 48 33.890625 48 \nQ 26.265625 48 22.1875 43.046875 \nQ 18.109375 38.09375 18.109375 28.8125 \nL 18.109375 0 \nL 9.078125 0 \nL 9.078125 54.6875 \nL 18.109375 54.6875 \nL 18.109375 46.1875 \nQ 20.953125 51.171875 25.484375 53.578125 \nQ 30.03125 56 36.53125 56 \nQ 37.453125 56 38.578125 55.875 \nQ 39.703125 55.765625 41.0625 55.515625 \nz\n\" id=\"DejaVuSans-114\"/>\n       <path d=\"M 9.421875 54.6875 \nL 18.40625 54.6875 \nL 18.40625 0 \nL 9.421875 0 \nz\nM 9.421875 75.984375 \nL 18.40625 75.984375 \nL 18.40625 64.59375 \nL 9.421875 64.59375 \nz\n\" id=\"DejaVuSans-105\"/>\n       <path d=\"M 56.203125 29.59375 \nL 56.203125 25.203125 \nL 14.890625 25.203125 \nQ 15.484375 15.921875 20.484375 11.0625 \nQ 25.484375 6.203125 34.421875 6.203125 \nQ 39.59375 6.203125 44.453125 7.46875 \nQ 49.3125 8.734375 54.109375 11.28125 \nL 54.109375 2.78125 \nQ 49.265625 0.734375 44.1875 -0.34375 \nQ 39.109375 -1.421875 33.890625 -1.421875 \nQ 20.796875 -1.421875 13.15625 6.1875 \nQ 5.515625 13.8125 5.515625 26.8125 \nQ 5.515625 40.234375 12.765625 48.109375 \nQ 20.015625 56 32.328125 56 \nQ 43.359375 56 49.78125 48.890625 \nQ 56.203125 41.796875 56.203125 29.59375 \nz\nM 47.21875 32.234375 \nQ 47.125 39.59375 43.09375 43.984375 \nQ 39.0625 48.390625 32.421875 48.390625 \nQ 24.90625 48.390625 20.390625 44.140625 \nQ 15.875 39.890625 15.1875 32.171875 \nz\n\" id=\"DejaVuSans-101\"/>\n      </defs>\n      <use xlink:href=\"#DejaVuSans-115\"/>\n      <use x=\"52.099609\" xlink:href=\"#DejaVuSans-116\"/>\n      <use x=\"91.308594\" xlink:href=\"#DejaVuSans-111\"/>\n      <use x=\"152.490234\" xlink:href=\"#DejaVuSans-99\"/>\n      <use x=\"207.470703\" xlink:href=\"#DejaVuSans-107\"/>\n      <use x=\"265.380859\" xlink:href=\"#DejaVuSans-32\"/>\n      <use x=\"297.167969\" xlink:href=\"#DejaVuSans-112\"/>\n      <use x=\"360.644531\" xlink:href=\"#DejaVuSans-114\"/>\n      <use x=\"401.757812\" xlink:href=\"#DejaVuSans-105\"/>\n      <use x=\"429.541016\" xlink:href=\"#DejaVuSans-99\"/>\n      <use x=\"484.521484\" xlink:href=\"#DejaVuSans-101\"/>\n     </g>\n    </g>\n   </g>\n   <g id=\"line2d_16\">\n    <path clip-path=\"url(#p1d4f77f40e)\" d=\"M 55.821307 90.826596 \nL 56.678669 61.299779 \nL 57.536032 73.245253 \nL 58.393394 82.74043 \nL 59.250756 103.568419 \nL 60.108119 91.316644 \nL 61.822843 90.826608 \nL 62.680206 71.407501 \nL 63.537568 88.253685 \nL 64.39493 81.208922 \nL 65.252293 55.173862 \nL 66.109655 98.055164 \nL 67.82438 90.704064 \nL 68.681742 96.829957 \nL 69.539105 92.848152 \nL 70.396467 117.045401 \nL 71.253829 105.406229 \nL 72.111192 89.17259 \nL 73.825916 92.358081 \nL 74.683279 124.702768 \nL 75.540641 135.423094 \nL 76.398003 142.467857 \nL 77.255366 146.143419 \nL 78.112728 158.395194 \nL 79.827453 143.693041 \nL 81.542177 159.620401 \nL 82.39954 138.17975 \nL 83.256902 146.756022 \nL 84.114265 138.486052 \nL 86.686352 134.022899 \nL 87.543714 121.027265 \nL 88.401076 94.685904 \nL 89.258439 125.621673 \nL 90.115801 109.694336 \nL 91.830526 124.151448 \nL 92.687888 110.000638 \nL 93.54525 98.361466 \nL 94.402613 94.0733 \nL 95.259975 105.406229 \nL 96.117338 91.929247 \nL 97.832062 95.359732 \nL 98.689425 32.201761 \nL 99.546787 45.678744 \nL 100.404149 97.44256 \nL 101.261512 100.505519 \nL 102.118874 102.649572 \nL 103.833599 115.636437 \nL 104.690961 123.171318 \nL 105.548323 125.927975 \nL 106.405686 138.792354 \nL 107.263048 142.467857 \nL 108.977773 147.123538 \nL 109.835135 149.328863 \nL 110.692498 163.908508 \nL 111.54986 160.845549 \nL 112.407222 168.502916 \nL 113.264585 191.475017 \nL 114.121947 209.85271 \nL 115.836672 207.157302 \nL 116.694034 194.844277 \nL 117.551396 191.168716 \nL 118.408759 196.682029 \nL 119.266121 174.01623 \nL 121.838208 167.190228 \nL 122.695571 168.502916 \nL 123.552933 163.602206 \nL 125.267658 195.763124 \nL 126.12502 178.304337 \nL 127.839745 179.774538 \nL 128.697107 194.231674 \nL 129.554469 183.205047 \nL 130.411832 170.64697 \nL 131.269194 174.935135 \nL 132.126556 167.890313 \nL 133.841281 167.890313 \nL 134.698644 170.953272 \nL 135.556006 149.818922 \nL 136.413368 151.350431 \nL 137.270731 129.603478 \nL 138.128093 134.197887 \nL 139.842818 137.87346 \nL 140.70018 166.971466 \nL 141.557542 157.782591 \nL 142.414905 151.350431 \nL 143.272267 161.764455 \nL 144.129629 144.611911 \nL 145.844354 138.9761 \nL 146.701717 131.747532 \nL 147.559079 116.126555 \nL 148.416441 116.432798 \nL 149.273804 110.000638 \nL 150.131166 86.722235 \nL 151.845891 84.761951 \nL 152.703253 87.028537 \nL 153.560615 113.063596 \nL 154.417978 110.613241 \nL 155.27534 124.702768 \nL 156.132702 103.568419 \nL 157.847427 102.5883 \nL 158.70479 99.892916 \nL 159.562152 108.162886 \nL 160.419514 101.730667 \nL 161.276877 124.090165 \nL 162.134239 119.495756 \nL 163.848964 119.250715 \nL 164.706326 119.802058 \nL 165.563688 126.54052 \nL 166.421051 145.224514 \nL 167.278413 133.27904 \nL 168.135775 136.954544 \nL 169.8505 139.40491 \nL 170.707863 136.341999 \nL 172.422587 160.845549 \nL 173.27995 161.764455 \nL 174.137312 155.944839 \nL 176.709399 163.29593 \nL 177.566761 169.728123 \nL 178.424124 148.287472 \nL 179.281486 159.926644 \nL 181.853573 156.251129 \nL 182.710935 147.368567 \nL 183.568298 145.224514 \nL 184.42566 126.234277 \nL 185.283023 122.865016 \nL 186.140385 123.47762 \nL 187.85511 128.378307 \nL 188.712472 121.63981 \nL 189.569834 122.865016 \nL 190.427197 146.143419 \nL 191.284559 143.386762 \nL 192.141921 162.377 \nL 193.856646 159.436597 \nL 194.714008 163.908508 \nL 195.571371 177.079188 \nL 196.428733 185.655402 \nL 197.286096 201.276438 \nL 198.143458 196.375727 \nL 199.858183 191.720035 \nL 200.715545 174.01623 \nL 201.572907 177.998035 \nL 202.43027 158.088893 \nL 203.287632 151.044129 \nL 204.144994 137.567147 \nL 205.859719 138.302271 \nL 206.717081 117.964306 \nL 207.574444 126.234277 \nL 208.431806 129.603478 \nL 209.289169 121.027265 \nL 210.146531 132.360135 \nL 211.861256 129.419732 \nL 212.718618 132.972738 \nL 213.57598 127.153123 \nL 214.433343 129.90978 \nL 215.290705 99.586614 \nL 216.148067 114.595046 \nL 217.862792 110.429437 \nL 218.720154 125.00907 \nL 219.577517 132.666437 \nL 220.434879 160.845549 \nL 221.292242 154.107088 \nL 222.149604 172.484722 \nL 223.864329 167.664374 \nL 224.721691 183.81765 \nL 225.579053 202.807946 \nL 226.436416 227.005195 \nL 227.293778 213.528213 \nL 228.15114 213.834515 \nL 229.865865 194.476715 \nL 230.723227 207.402355 \nL 231.58059 190.862414 \nL 232.437952 188.105757 \nL 233.295315 199.438686 \nL 234.152677 177.691733 \nL 235.867402 178.426857 \nL 236.724764 195.150579 \nL 237.582126 191.168716 \nL 238.439489 204.645698 \nL 239.296851 191.168716 \nL 240.154213 194.537976 \nL 241.868938 192.33265 \nL 242.7263 177.38549 \nL 243.583663 165.133656 \nL 244.441025 173.097325 \nL 245.298387 176.364465 \nL 246.15575 173.097325 \nL 247.870475 173.832449 \nL 248.727837 180.754692 \nL 249.585199 185.042857 \nL 250.442562 195.150579 \nL 251.299924 229.761852 \nL 252.157286 213.834515 \nL 253.872011 222.655816 \nL 254.729373 211.077858 \nL 255.586736 214.447118 \nL 256.444098 203.726793 \nL 257.30146 176.772887 \nL 258.158823 196.682029 \nL 259.873548 190.801177 \nL 260.73091 189.024662 \nL 261.588272 186.880609 \nL 262.445635 196.069426 \nL 263.302997 189.637266 \nL 264.160359 197.600934 \nL 265.875084 205.932153 \nL 266.732446 200.970136 \nL 267.589809 203.114189 \nL 268.447171 191.475017 \nL 269.304533 198.519781 \nL 271.876621 205.870871 \nL 272.733983 212.609366 \nL 273.591345 224.861142 \nL 274.448708 212.915668 \nL 275.30607 218.735225 \nL 277.878157 213.221945 \nL 278.735519 208.933805 \nL 279.592882 204.033094 \nL 281.307606 183.81765 \nL 282.164969 188.412059 \nL 283.879694 195.273076 \nL 284.737056 164.827355 \nL 285.594418 148.287472 \nL 287.309143 126.234277 \nL 288.166505 133.27904 \nL 290.738592 135.641889 \nL 291.595955 147.368567 \nL 292.453317 156.251141 \nL 293.310679 155.025934 \nL 294.168042 149.512621 \nL 295.882766 146.817259 \nL 296.740129 144.918212 \nL 297.597491 154.107088 \nL 298.454854 133.891644 \nL 299.312216 154.413389 \nL 300.169578 155.944839 \nL 301.884303 145.653336 \nL 302.741665 147.368567 \nL 303.599028 157.782591 \nL 304.45639 137.260845 \nL 305.313752 139.404899 \nL 306.171115 179.529544 \nL 307.885839 176.589094 \nL 308.743202 171.872177 \nL 309.600564 181.673597 \nL 310.457927 171.872177 \nL 311.315289 184.123952 \nL 312.172651 159.007798 \nL 314.744738 148.76877 \nL 315.602101 156.557443 \nL 316.459463 148.287472 \nL 317.316825 164.21481 \nL 318.174188 148.900076 \nL 319.888912 148.164952 \nL 320.746275 155.638538 \nL 321.603637 164.21481 \nL 322.461 129.297177 \nL 323.318362 138.17975 \nL 324.175724 150.431526 \nL 325.890449 147.00104 \nL 326.747811 139.7112 \nL 328.462536 145.224514 \nL 329.319898 146.143419 \nL 330.177261 136.341999 \nL 331.891985 129.971064 \nL 332.749348 133.27904 \nL 333.60671 149.818922 \nL 334.464073 129.603478 \nL 335.321435 126.234277 \nL 336.178797 141.54901 \nL 337.893522 141.54901 \nL 338.750884 136.6483 \nL 339.608247 140.017502 \nL 340.465609 149.818922 \nL 341.322971 169.421822 \nL 342.180334 164.521111 \nL 343.895058 170.401964 \nL 344.752421 166.052561 \nL 345.609783 167.277768 \nL 346.467145 159.007798 \nL 348.18187 129.90978 \nL 349.896595 131.870064 \nL 350.753957 128.37833 \nL 351.61132 141.855254 \nL 352.468682 142.161555 \nL 353.326044 132.666437 \nL 355.898131 138.442261 \nL 356.755494 149.206377 \nL 357.612856 151.044129 \nL 358.470218 151.350431 \nL 359.327581 170.64697 \nL 360.184943 185.042857 \nL 360.184943 185.042857 \n\" style=\"fill:none;stroke:#1f77b4;stroke-linecap:square;stroke-width:1.5;\"/>\n   </g>\n   <g id=\"line2d_17\">\n    <path clip-path=\"url(#p1d4f77f40e)\" d=\"M 55.821307 83.977868 \nL 56.678669 75.518009 \nL 57.536032 68.635452 \nL 58.393394 70.812227 \nL 59.250756 76.072001 \nL 60.108119 91.32345 \nL 60.965481 93.301796 \nL 61.822843 108.448482 \nL 62.680206 105.614579 \nL 63.537568 72.525997 \nL 64.39493 90.673298 \nL 65.252293 77.512582 \nL 66.967017 94.218574 \nL 67.82438 89.654143 \nL 68.681742 82.472654 \nL 69.539105 82.936898 \nL 70.396467 110.787735 \nL 71.253829 111.651085 \nL 72.111192 105.046008 \nL 72.968554 85.015563 \nL 73.825916 90.582882 \nL 74.683279 118.862819 \nL 75.540641 130.355186 \nL 76.398003 137.104129 \nL 77.255366 145.015385 \nL 78.112728 150.835357 \nL 78.97009 153.322093 \nL 80.684815 142.827288 \nL 81.542177 151.207807 \nL 82.39954 152.319223 \nL 83.256902 131.73528 \nL 84.114265 147.192577 \nL 84.971627 142.00071 \nL 85.828989 139.874368 \nL 86.686352 138.600486 \nL 87.543714 132.079813 \nL 88.401076 110.538422 \nL 89.258439 104.196802 \nL 90.115801 127.250201 \nL 90.973163 112.199634 \nL 91.830526 115.135118 \nL 92.687888 124.405847 \nL 93.54525 105.834324 \nL 94.402613 94.837096 \nL 96.117338 102.081119 \nL 96.9747 96.305949 \nL 97.832062 97.509391 \nL 99.546787 50.282679 \nL 100.404149 50.566399 \nL 101.261512 100.093087 \nL 102.118874 93.489655 \nL 102.976236 94.747187 \nL 104.690961 109.657665 \nL 105.548323 112.27216 \nL 106.405686 127.795767 \nL 107.263048 132.990921 \nL 108.120411 131.650702 \nL 108.977773 136.658967 \nL 109.835135 145.883893 \nL 110.692498 160.061054 \nL 111.54986 160.788783 \nL 112.407222 165.173987 \nL 113.264585 191.79082 \nL 114.121947 206.13578 \nL 114.979309 204.580499 \nL 116.694034 199.762611 \nL 117.551396 189.238918 \nL 118.408759 192.256902 \nL 119.266121 190.047792 \nL 120.123484 172.74517 \nL 120.980846 173.831225 \nL 121.838208 173.333018 \nL 122.695571 170.952256 \nL 123.552933 170.519249 \nL 124.410295 168.955273 \nL 125.267658 180.613393 \nL 126.12502 188.953534 \nL 126.982382 174.804302 \nL 127.839745 178.69092 \nL 128.697107 181.728147 \nL 129.554469 190.353994 \nL 130.411832 177.133579 \nL 131.269194 172.724702 \nL 132.126556 172.845044 \nL 132.983919 170.186696 \nL 133.841281 172.524982 \nL 134.698644 172.28348 \nL 135.556006 177.059798 \nL 137.270731 144.664717 \nL 138.128093 139.731795 \nL 138.985455 136.125556 \nL 139.842818 139.021004 \nL 140.70018 140.737971 \nL 141.557542 159.267447 \nL 142.414905 155.969198 \nL 143.272267 158.64876 \nL 144.129629 172.920729 \nL 144.986992 144.342453 \nL 145.844354 141.517693 \nL 146.701717 140.851813 \nL 147.559079 130.697718 \nL 148.416441 117.347626 \nL 149.273804 119.499018 \nL 150.131166 103.290238 \nL 150.988528 97.574649 \nL 151.845891 96.989502 \nL 152.703253 97.937276 \nL 153.560615 89.564823 \nL 154.417978 111.243443 \nL 155.27534 110.587233 \nL 156.132702 121.226173 \nL 156.990065 99.479167 \nL 157.847427 100.492088 \nL 158.70479 106.227627 \nL 159.562152 96.25979 \nL 160.419514 110.768916 \nL 161.276877 105.864325 \nL 162.134239 116.213629 \nL 162.991601 116.320121 \nL 163.848964 116.597768 \nL 164.706326 117.615978 \nL 165.563688 120.572586 \nL 166.421051 145.633947 \nL 167.278413 141.772455 \nL 168.135775 133.605152 \nL 168.993138 138.976484 \nL 169.8505 139.147118 \nL 170.707863 141.547888 \nL 171.565225 146.304867 \nL 172.422587 159.663684 \nL 173.27995 162.074572 \nL 174.137312 158.572338 \nL 174.994674 157.091314 \nL 175.852037 159.888202 \nL 176.709399 160.880373 \nL 177.566761 166.887342 \nL 178.424124 165.713508 \nL 179.281486 147.604199 \nL 180.138848 160.791529 \nL 180.996211 158.933778 \nL 181.853573 157.807467 \nL 182.710935 158.086321 \nL 183.568298 149.063347 \nL 184.42566 134.992638 \nL 185.283023 131.155562 \nL 186.140385 128.738326 \nL 186.997747 128.497933 \nL 187.85511 128.667173 \nL 188.712472 130.809778 \nL 190.427197 124.591852 \nL 191.284559 144.811432 \nL 192.141921 158.60057 \nL 192.999284 158.224324 \nL 193.856646 157.319356 \nL 194.714008 158.790134 \nL 195.571371 174.136109 \nL 196.428733 182.821741 \nL 197.286096 199.450857 \nL 198.143458 208.933877 \nL 199.00082 200.694917 \nL 199.858183 201.570245 \nL 200.715545 201.481116 \nL 201.572907 180.868153 \nL 202.43027 184.211909 \nL 203.287632 169.422782 \nL 204.144994 151.177644 \nL 205.002357 148.923541 \nL 205.859719 147.707642 \nL 207.574444 127.540653 \nL 208.431806 133.313711 \nL 209.289169 134.850071 \nL 210.146531 130.064824 \nL 211.003893 138.125475 \nL 211.861256 141.657163 \nL 212.718618 127.97741 \nL 213.57598 129.416466 \nL 214.433343 125.934592 \nL 215.290705 123.576029 \nL 216.148067 105.948068 \nL 217.00543 105.550791 \nL 217.862792 107.091349 \nL 218.720154 104.879213 \nL 219.577517 119.396996 \nL 220.434879 156.833983 \nL 221.292242 163.167101 \nL 222.149604 162.713648 \nL 223.006966 166.174447 \nL 223.864329 163.692079 \nL 224.721691 172.32358 \nL 225.579053 200.723532 \nL 226.436416 223.527878 \nL 227.293778 220.446432 \nL 228.15114 208.544664 \nL 229.008503 211.596293 \nL 230.723227 192.175042 \nL 231.58059 206.79146 \nL 232.437952 186.543107 \nL 233.295315 196.85944 \nL 234.152677 200.371395 \nL 235.010039 186.449964 \nL 235.867402 186.372658 \nL 236.724764 184.005098 \nL 237.582126 197.892826 \nL 238.439489 189.288201 \nL 239.296851 205.268833 \nL 240.154213 191.686506 \nL 241.011576 197.851809 \nL 241.868938 200.152346 \nL 242.7263 201.041475 \nL 243.583663 177.963663 \nL 244.441025 174.403711 \nL 245.298387 178.137445 \nL 246.15575 179.933666 \nL 247.013112 176.941101 \nL 247.870475 179.735881 \nL 248.727837 172.799092 \nL 249.585199 174.477522 \nL 250.442562 189.592419 \nL 251.299924 229.874489 \nL 252.157286 223.352587 \nL 253.014649 210.921605 \nL 253.872011 217.899495 \nL 254.729373 221.520615 \nL 256.444098 210.57432 \nL 258.158823 185.874865 \nL 259.016185 196.6267 \nL 259.873548 192.833627 \nL 260.73091 190.716335 \nL 261.588272 188.070354 \nL 262.445635 190.242375 \nL 263.302997 197.610426 \nL 264.160359 193.678205 \nL 265.017722 202.96012 \nL 265.875084 202.622656 \nL 266.732446 206.343574 \nL 267.589809 198.894458 \nL 268.447171 204.452161 \nL 269.304533 192.958573 \nL 270.161896 201.109235 \nL 271.019258 203.033644 \nL 271.876621 204.519104 \nL 272.733983 209.615565 \nL 273.591345 224.340148 \nL 274.448708 221.80406 \nL 275.30607 212.563329 \nL 276.163432 220.107188 \nL 278.735519 215.882578 \nL 279.592882 210.785353 \nL 280.450244 214.066308 \nL 281.307606 194.416755 \nL 282.164969 189.958526 \nL 283.022331 191.665528 \nL 283.879694 192.440921 \nL 284.737056 183.603708 \nL 285.594418 160.526434 \nL 286.451781 148.185434 \nL 287.309143 138.089358 \nL 288.166505 139.242309 \nL 289.023868 142.623588 \nL 289.88123 138.441722 \nL 290.738592 141.023872 \nL 291.595955 142.233208 \nL 292.453317 156.491795 \nL 293.310679 188.544441 \nL 294.168042 158.711799 \nL 295.025404 148.533185 \nL 295.882766 149.448836 \nL 296.740129 149.665895 \nL 297.597491 144.113435 \nL 298.454854 156.84121 \nL 299.312216 139.074614 \nL 300.169578 155.339908 \nL 301.026941 154.085744 \nL 301.884303 147.937055 \nL 302.741665 144.442719 \nL 303.599028 139.517379 \nL 304.45639 156.452498 \nL 305.313752 140.688494 \nL 306.171115 170.247051 \nL 307.028477 171.675666 \nL 307.885839 171.919074 \nL 308.743202 171.39335 \nL 309.600564 173.849914 \nL 310.457927 175.689138 \nL 311.315289 170.654157 \nL 312.172651 181.315607 \nL 313.030014 158.677163 \nL 313.887376 153.057359 \nL 314.744738 150.20812 \nL 315.602101 153.339371 \nL 316.459463 156.955283 \nL 317.316825 155.700132 \nL 318.174188 164.390271 \nL 319.03155 157.540028 \nL 319.888912 167.128457 \nL 320.746275 179.179022 \nL 321.603637 154.712472 \nL 322.461 152.190969 \nL 323.318362 137.539451 \nL 324.175724 140.141854 \nL 325.033087 150.183075 \nL 325.890449 149.341929 \nL 326.747811 148.233128 \nL 327.605174 143.814052 \nL 328.462536 150.848257 \nL 329.319898 156.474396 \nL 330.177261 154.762711 \nL 331.034623 134.880027 \nL 331.891985 133.622554 \nL 332.749348 131.531598 \nL 333.60671 139.87592 \nL 334.464073 144.9404 \nL 335.321435 132.986326 \nL 336.178797 128.035094 \nL 337.03616 141.152508 \nL 337.893522 141.506386 \nL 338.750884 142.279472 \nL 339.608247 141.442453 \nL 340.465609 141.646627 \nL 341.322971 169.170129 \nL 342.180334 165.431993 \nL 343.037696 163.272243 \nL 343.895058 165.320543 \nL 344.752421 166.803797 \nL 345.609783 170.039306 \nL 346.467145 164.854831 \nL 347.324508 160.78293 \nL 348.18187 142.156336 \nL 349.039233 137.499739 \nL 349.896595 136.65987 \nL 350.753957 136.576374 \nL 351.61132 137.518137 \nL 352.468682 147.540805 \nL 353.326044 142.935742 \nL 354.183407 141.58509 \nL 355.040769 143.879295 \nL 355.898131 160.70798 \nL 355.898131 160.70798 \n\" style=\"fill:none;stroke:#ff7f0e;stroke-linecap:square;stroke-width:1.5;\"/>\n   </g>\n   <g id=\"patch_3\">\n    <path d=\"M 40.603125 239.758125 \nL 40.603125 22.318125 \n\" style=\"fill:none;stroke:#000000;stroke-linecap:square;stroke-linejoin:miter;stroke-width:0.8;\"/>\n   </g>\n   <g id=\"patch_4\">\n    <path d=\"M 375.403125 239.758125 \nL 375.403125 22.318125 \n\" style=\"fill:none;stroke:#000000;stroke-linecap:square;stroke-linejoin:miter;stroke-width:0.8;\"/>\n   </g>\n   <g id=\"patch_5\">\n    <path d=\"M 40.603125 239.758125 \nL 375.403125 239.758125 \n\" style=\"fill:none;stroke:#000000;stroke-linecap:square;stroke-linejoin:miter;stroke-width:0.8;\"/>\n   </g>\n   <g id=\"patch_6\">\n    <path d=\"M 40.603125 22.318125 \nL 375.403125 22.318125 \n\" style=\"fill:none;stroke:#000000;stroke-linecap:square;stroke-linejoin:miter;stroke-width:0.8;\"/>\n   </g>\n   <g id=\"text_18\">\n    <!-- Denormalized Long_10 model of COG -->\n    <g transform=\"translate(95.53875 16.318125)scale(0.12 -0.12)\">\n     <defs>\n      <path d=\"M 19.671875 64.796875 \nL 19.671875 8.109375 \nL 31.59375 8.109375 \nQ 46.6875 8.109375 53.6875 14.9375 \nQ 60.6875 21.78125 60.6875 36.53125 \nQ 60.6875 51.171875 53.6875 57.984375 \nQ 46.6875 64.796875 31.59375 64.796875 \nz\nM 9.8125 72.90625 \nL 30.078125 72.90625 \nQ 51.265625 72.90625 61.171875 64.09375 \nQ 71.09375 55.28125 71.09375 36.53125 \nQ 71.09375 17.671875 61.125 8.828125 \nQ 51.171875 0 30.078125 0 \nL 9.8125 0 \nz\n\" id=\"DejaVuSans-68\"/>\n      <path d=\"M 54.890625 33.015625 \nL 54.890625 0 \nL 45.90625 0 \nL 45.90625 32.71875 \nQ 45.90625 40.484375 42.875 44.328125 \nQ 39.84375 48.1875 33.796875 48.1875 \nQ 26.515625 48.1875 22.3125 43.546875 \nQ 18.109375 38.921875 18.109375 30.90625 \nL 18.109375 0 \nL 9.078125 0 \nL 9.078125 54.6875 \nL 18.109375 54.6875 \nL 18.109375 46.1875 \nQ 21.34375 51.125 25.703125 53.5625 \nQ 30.078125 56 35.796875 56 \nQ 45.21875 56 50.046875 50.171875 \nQ 54.890625 44.34375 54.890625 33.015625 \nz\n\" id=\"DejaVuSans-110\"/>\n      <path d=\"M 52 44.1875 \nQ 55.375 50.25 60.0625 53.125 \nQ 64.75 56 71.09375 56 \nQ 79.640625 56 84.28125 50.015625 \nQ 88.921875 44.046875 88.921875 33.015625 \nL 88.921875 0 \nL 79.890625 0 \nL 79.890625 32.71875 \nQ 79.890625 40.578125 77.09375 44.375 \nQ 74.3125 48.1875 68.609375 48.1875 \nQ 61.625 48.1875 57.5625 43.546875 \nQ 53.515625 38.921875 53.515625 30.90625 \nL 53.515625 0 \nL 44.484375 0 \nL 44.484375 32.71875 \nQ 44.484375 40.625 41.703125 44.40625 \nQ 38.921875 48.1875 33.109375 48.1875 \nQ 26.21875 48.1875 22.15625 43.53125 \nQ 18.109375 38.875 18.109375 30.90625 \nL 18.109375 0 \nL 9.078125 0 \nL 9.078125 54.6875 \nL 18.109375 54.6875 \nL 18.109375 46.1875 \nQ 21.1875 51.21875 25.484375 53.609375 \nQ 29.78125 56 35.6875 56 \nQ 41.65625 56 45.828125 52.96875 \nQ 50 49.953125 52 44.1875 \nz\n\" id=\"DejaVuSans-109\"/>\n      <path d=\"M 9.421875 75.984375 \nL 18.40625 75.984375 \nL 18.40625 0 \nL 9.421875 0 \nz\n\" id=\"DejaVuSans-108\"/>\n      <path d=\"M 5.515625 54.6875 \nL 48.1875 54.6875 \nL 48.1875 46.484375 \nL 14.40625 7.171875 \nL 48.1875 7.171875 \nL 48.1875 0 \nL 4.296875 0 \nL 4.296875 8.203125 \nL 38.09375 47.515625 \nL 5.515625 47.515625 \nz\n\" id=\"DejaVuSans-122\"/>\n      <path d=\"M 9.8125 72.90625 \nL 19.671875 72.90625 \nL 19.671875 8.296875 \nL 55.171875 8.296875 \nL 55.171875 0 \nL 9.8125 0 \nz\n\" id=\"DejaVuSans-76\"/>\n      <path d=\"M 45.40625 27.984375 \nQ 45.40625 37.75 41.375 43.109375 \nQ 37.359375 48.484375 30.078125 48.484375 \nQ 22.859375 48.484375 18.828125 43.109375 \nQ 14.796875 37.75 14.796875 27.984375 \nQ 14.796875 18.265625 18.828125 12.890625 \nQ 22.859375 7.515625 30.078125 7.515625 \nQ 37.359375 7.515625 41.375 12.890625 \nQ 45.40625 18.265625 45.40625 27.984375 \nz\nM 54.390625 6.78125 \nQ 54.390625 -7.171875 48.1875 -13.984375 \nQ 42 -20.796875 29.203125 -20.796875 \nQ 24.46875 -20.796875 20.265625 -20.09375 \nQ 16.0625 -19.390625 12.109375 -17.921875 \nL 12.109375 -9.1875 \nQ 16.0625 -11.328125 19.921875 -12.34375 \nQ 23.78125 -13.375 27.78125 -13.375 \nQ 36.625 -13.375 41.015625 -8.765625 \nQ 45.40625 -4.15625 45.40625 5.171875 \nL 45.40625 9.625 \nQ 42.625 4.78125 38.28125 2.390625 \nQ 33.9375 0 27.875 0 \nQ 17.828125 0 11.671875 7.65625 \nQ 5.515625 15.328125 5.515625 27.984375 \nQ 5.515625 40.671875 11.671875 48.328125 \nQ 17.828125 56 27.875 56 \nQ 33.9375 56 38.28125 53.609375 \nQ 42.625 51.21875 45.40625 46.390625 \nL 45.40625 54.6875 \nL 54.390625 54.6875 \nz\n\" id=\"DejaVuSans-103\"/>\n      <path d=\"M 50.984375 -16.609375 \nL 50.984375 -23.578125 \nL -0.984375 -23.578125 \nL -0.984375 -16.609375 \nz\n\" id=\"DejaVuSans-95\"/>\n      <path d=\"M 37.109375 75.984375 \nL 37.109375 68.5 \nL 28.515625 68.5 \nQ 23.6875 68.5 21.796875 66.546875 \nQ 19.921875 64.59375 19.921875 59.515625 \nL 19.921875 54.6875 \nL 34.71875 54.6875 \nL 34.71875 47.703125 \nL 19.921875 47.703125 \nL 19.921875 0 \nL 10.890625 0 \nL 10.890625 47.703125 \nL 2.296875 47.703125 \nL 2.296875 54.6875 \nL 10.890625 54.6875 \nL 10.890625 58.5 \nQ 10.890625 67.625 15.140625 71.796875 \nQ 19.390625 75.984375 28.609375 75.984375 \nz\n\" id=\"DejaVuSans-102\"/>\n      <path d=\"M 64.40625 67.28125 \nL 64.40625 56.890625 \nQ 59.421875 61.53125 53.78125 63.8125 \nQ 48.140625 66.109375 41.796875 66.109375 \nQ 29.296875 66.109375 22.65625 58.46875 \nQ 16.015625 50.828125 16.015625 36.375 \nQ 16.015625 21.96875 22.65625 14.328125 \nQ 29.296875 6.6875 41.796875 6.6875 \nQ 48.140625 6.6875 53.78125 8.984375 \nQ 59.421875 11.28125 64.40625 15.921875 \nL 64.40625 5.609375 \nQ 59.234375 2.09375 53.4375 0.328125 \nQ 47.65625 -1.421875 41.21875 -1.421875 \nQ 24.65625 -1.421875 15.125 8.703125 \nQ 5.609375 18.84375 5.609375 36.375 \nQ 5.609375 53.953125 15.125 64.078125 \nQ 24.65625 74.21875 41.21875 74.21875 \nQ 47.75 74.21875 53.53125 72.484375 \nQ 59.328125 70.75 64.40625 67.28125 \nz\n\" id=\"DejaVuSans-67\"/>\n      <path d=\"M 39.40625 66.21875 \nQ 28.65625 66.21875 22.328125 58.203125 \nQ 16.015625 50.203125 16.015625 36.375 \nQ 16.015625 22.609375 22.328125 14.59375 \nQ 28.65625 6.59375 39.40625 6.59375 \nQ 50.140625 6.59375 56.421875 14.59375 \nQ 62.703125 22.609375 62.703125 36.375 \nQ 62.703125 50.203125 56.421875 58.203125 \nQ 50.140625 66.21875 39.40625 66.21875 \nz\nM 39.40625 74.21875 \nQ 54.734375 74.21875 63.90625 63.9375 \nQ 73.09375 53.65625 73.09375 36.375 \nQ 73.09375 19.140625 63.90625 8.859375 \nQ 54.734375 -1.421875 39.40625 -1.421875 \nQ 24.03125 -1.421875 14.8125 8.828125 \nQ 5.609375 19.09375 5.609375 36.375 \nQ 5.609375 53.65625 14.8125 63.9375 \nQ 24.03125 74.21875 39.40625 74.21875 \nz\n\" id=\"DejaVuSans-79\"/>\n      <path d=\"M 59.515625 10.40625 \nL 59.515625 29.984375 \nL 43.40625 29.984375 \nL 43.40625 38.09375 \nL 69.28125 38.09375 \nL 69.28125 6.78125 \nQ 63.578125 2.734375 56.6875 0.65625 \nQ 49.8125 -1.421875 42 -1.421875 \nQ 24.90625 -1.421875 15.25 8.5625 \nQ 5.609375 18.5625 5.609375 36.375 \nQ 5.609375 54.25 15.25 64.234375 \nQ 24.90625 74.21875 42 74.21875 \nQ 49.125 74.21875 55.546875 72.453125 \nQ 61.96875 70.703125 67.390625 67.28125 \nL 67.390625 56.78125 \nQ 61.921875 61.421875 55.765625 63.765625 \nQ 49.609375 66.109375 42.828125 66.109375 \nQ 29.4375 66.109375 22.71875 58.640625 \nQ 16.015625 51.171875 16.015625 36.375 \nQ 16.015625 21.625 22.71875 14.15625 \nQ 29.4375 6.6875 42.828125 6.6875 \nQ 48.046875 6.6875 52.140625 7.59375 \nQ 56.25 8.5 59.515625 10.40625 \nz\n\" id=\"DejaVuSans-71\"/>\n     </defs>\n     <use xlink:href=\"#DejaVuSans-68\"/>\n     <use x=\"77.001953\" xlink:href=\"#DejaVuSans-101\"/>\n     <use x=\"138.525391\" xlink:href=\"#DejaVuSans-110\"/>\n     <use x=\"201.904297\" xlink:href=\"#DejaVuSans-111\"/>\n     <use x=\"263.085938\" xlink:href=\"#DejaVuSans-114\"/>\n     <use x=\"302.449219\" xlink:href=\"#DejaVuSans-109\"/>\n     <use x=\"399.861328\" xlink:href=\"#DejaVuSans-97\"/>\n     <use x=\"461.140625\" xlink:href=\"#DejaVuSans-108\"/>\n     <use x=\"488.923828\" xlink:href=\"#DejaVuSans-105\"/>\n     <use x=\"516.707031\" xlink:href=\"#DejaVuSans-122\"/>\n     <use x=\"569.197266\" xlink:href=\"#DejaVuSans-101\"/>\n     <use x=\"630.720703\" xlink:href=\"#DejaVuSans-100\"/>\n     <use x=\"694.197266\" xlink:href=\"#DejaVuSans-32\"/>\n     <use x=\"725.984375\" xlink:href=\"#DejaVuSans-76\"/>\n     <use x=\"779.947266\" xlink:href=\"#DejaVuSans-111\"/>\n     <use x=\"841.128906\" xlink:href=\"#DejaVuSans-110\"/>\n     <use x=\"904.507812\" xlink:href=\"#DejaVuSans-103\"/>\n     <use x=\"967.984375\" xlink:href=\"#DejaVuSans-95\"/>\n     <use x=\"1017.984375\" xlink:href=\"#DejaVuSans-49\"/>\n     <use x=\"1081.607422\" xlink:href=\"#DejaVuSans-48\"/>\n     <use x=\"1145.230469\" xlink:href=\"#DejaVuSans-32\"/>\n     <use x=\"1177.017578\" xlink:href=\"#DejaVuSans-109\"/>\n     <use x=\"1274.429688\" xlink:href=\"#DejaVuSans-111\"/>\n     <use x=\"1335.611328\" xlink:href=\"#DejaVuSans-100\"/>\n     <use x=\"1399.087891\" xlink:href=\"#DejaVuSans-101\"/>\n     <use x=\"1460.611328\" xlink:href=\"#DejaVuSans-108\"/>\n     <use x=\"1488.394531\" xlink:href=\"#DejaVuSans-32\"/>\n     <use x=\"1520.181641\" xlink:href=\"#DejaVuSans-111\"/>\n     <use x=\"1581.363281\" xlink:href=\"#DejaVuSans-102\"/>\n     <use x=\"1616.568359\" xlink:href=\"#DejaVuSans-32\"/>\n     <use x=\"1648.355469\" xlink:href=\"#DejaVuSans-67\"/>\n     <use x=\"1718.179688\" xlink:href=\"#DejaVuSans-79\"/>\n     <use x=\"1796.890625\" xlink:href=\"#DejaVuSans-71\"/>\n    </g>\n   </g>\n   <g id=\"legend_1\">\n    <g id=\"patch_7\">\n     <path d=\"M 313.667187 59.674375 \nL 368.403125 59.674375 \nQ 370.403125 59.674375 370.403125 57.674375 \nL 370.403125 29.318125 \nQ 370.403125 27.318125 368.403125 27.318125 \nL 313.667187 27.318125 \nQ 311.667187 27.318125 311.667187 29.318125 \nL 311.667187 57.674375 \nQ 311.667187 59.674375 313.667187 59.674375 \nz\n\" style=\"fill:#ffffff;opacity:0.8;stroke:#cccccc;stroke-linejoin:miter;\"/>\n    </g>\n    <g id=\"line2d_18\">\n     <path d=\"M 315.667187 35.416562 \nL 335.667187 35.416562 \n\" style=\"fill:none;stroke:#1f77b4;stroke-linecap:square;stroke-width:1.5;\"/>\n    </g>\n    <g id=\"line2d_19\"/>\n    <g id=\"text_19\">\n     <!-- true -->\n     <g transform=\"translate(343.667187 38.916562)scale(0.1 -0.1)\">\n      <defs>\n       <path d=\"M 8.5 21.578125 \nL 8.5 54.6875 \nL 17.484375 54.6875 \nL 17.484375 21.921875 \nQ 17.484375 14.15625 20.5 10.265625 \nQ 23.53125 6.390625 29.59375 6.390625 \nQ 36.859375 6.390625 41.078125 11.03125 \nQ 45.3125 15.671875 45.3125 23.6875 \nL 45.3125 54.6875 \nL 54.296875 54.6875 \nL 54.296875 0 \nL 45.3125 0 \nL 45.3125 8.40625 \nQ 42.046875 3.421875 37.71875 1 \nQ 33.40625 -1.421875 27.6875 -1.421875 \nQ 18.265625 -1.421875 13.375 4.4375 \nQ 8.5 10.296875 8.5 21.578125 \nz\nM 31.109375 56 \nz\n\" id=\"DejaVuSans-117\"/>\n      </defs>\n      <use xlink:href=\"#DejaVuSans-116\"/>\n      <use x=\"39.208984\" xlink:href=\"#DejaVuSans-114\"/>\n      <use x=\"80.322266\" xlink:href=\"#DejaVuSans-117\"/>\n      <use x=\"143.701172\" xlink:href=\"#DejaVuSans-101\"/>\n     </g>\n    </g>\n    <g id=\"line2d_20\">\n     <path d=\"M 315.667187 50.094687 \nL 335.667187 50.094687 \n\" style=\"fill:none;stroke:#ff7f0e;stroke-linecap:square;stroke-width:1.5;\"/>\n    </g>\n    <g id=\"line2d_21\"/>\n    <g id=\"text_20\">\n     <!-- pred -->\n     <g transform=\"translate(343.667187 53.594687)scale(0.1 -0.1)\">\n      <use xlink:href=\"#DejaVuSans-112\"/>\n      <use x=\"63.476562\" xlink:href=\"#DejaVuSans-114\"/>\n      <use x=\"102.339844\" xlink:href=\"#DejaVuSans-101\"/>\n      <use x=\"163.863281\" xlink:href=\"#DejaVuSans-100\"/>\n     </g>\n    </g>\n   </g>\n  </g>\n </g>\n <defs>\n  <clipPath id=\"p1d4f77f40e\">\n   <rect height=\"217.44\" width=\"334.8\" x=\"40.603125\" y=\"22.318125\"/>\n  </clipPath>\n </defs>\n</svg>\n",
      "image/png": "[encoded data removed]"
     },
     "metadata": {
      "needs_background": "light"
     }
    }
   ],
   "source": [
    "plt.plot(np.array(ytest_denorm)[:, -5], label = 'true')\n",
    "plt.plot(np.array(pred_denorm)[5:, -5], label = 'pred')\n",
    "plt.xlabel('days')\n",
    "plt.ylabel('stock price')\n",
    "plt.title('Denormalized Long_{} model of '.format(n) + stock)\n",
    "plt.legend()"
   ]
  },
  {
   "cell_type": "code",
   "execution_count": null,
   "metadata": {},
   "outputs": [],
   "source": [
    "# de_normalized\n",
    "de_predicted=[]\n",
    "len_pre_win=int(len(data)/prediction_len)\n",
    "len_pre=prediction_len\n",
    "\n",
    "m=0\n",
    "for i in range(0,len_pre_win):\n",
    "    for j in range(0,len_pre):\n",
    "      de_predicted.append(prediction_seqs[i][j][0]*record_max[m]+record_min[m])  # record_max is the max difference among prices, and record_min is the minimum price\n",
    "      m=m+1\n",
    "print(de_predicted)\n",
    "\n",
    "# np.save(../stockdata/result2/sp_5dim_n01_7030.npy',de_predicted)"
   ]
  },
  {
   "cell_type": "code",
   "execution_count": null,
   "metadata": {},
   "outputs": [],
   "source": [
    "error = []\n",
    "diff=y_test.shape[0]-prediction_len*pre_win_num\n",
    "\n",
    "for i in range(y_test_ori.shape[0]-diff):\n",
    "    error.append(y_test_ori[i,] - de_predicted[i])\n",
    "    \n",
    "squaredError = []\n",
    "absError = []\n",
    "for val in error:\n",
    "    squaredError.append(val * val) \n",
    "    absError.append(abs(val))\n",
    "\n",
    "error_percent=[]\n",
    "for i in range(len(error)):\n",
    "    val=absError[i]/y_test_ori[i,]\n",
    "    val=abs(val)\n",
    "    error_percent.append(val)\n",
    "\n",
    "mean_error_percent=sum(error_percent) / len(error_percent)\n",
    "accuracy=1-mean_error_percent\n",
    "\n",
    "MSE=sum(squaredError) / len(squaredError)\n",
    "\n",
    "print(\"MSE\",MSE)\n",
    "print('accuracy',accuracy)\n",
    "print('mean_error_percent',mean_error_percent)"
   ]
  }
 ]
}